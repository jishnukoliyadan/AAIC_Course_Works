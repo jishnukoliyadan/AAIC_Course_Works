{
 "cells": [
  {
   "cell_type": "markdown",
   "id": "636524db",
   "metadata": {},
   "source": [
    "<p style=\"font-size:32px;text-align:center\"> <b>Social network Graph Link Prediction - Facebook Challenge</b> </p>"
   ]
  },
  {
   "cell_type": "markdown",
   "id": "da1de06e",
   "metadata": {},
   "source": [
    "### Problem statement: \n",
    "Given a directed social graph, have to predict missing links to recommend users (Link Prediction in graph)"
   ]
  },
  {
   "cell_type": "markdown",
   "id": "ca1882e1",
   "metadata": {},
   "source": [
    "### Data Overview\n",
    "Taken data from facebook's recruting challenge on kaggle https://www.kaggle.com/c/FacebookRecruiting  \n",
    "data contains two columns source and destination eac edge in graph \n",
    "    - Data columns (total 2 columns):  \n",
    "    - source_node         int64  \n",
    "    - destination_node    int64  "
   ]
  },
  {
   "cell_type": "markdown",
   "id": "a63e80cb",
   "metadata": {},
   "source": [
    "### Mapping the problem into supervised learning problem:\n",
    "- Generated training samples of good and bad links from given directed graph and for each link got some features like no of followers, is he followed back, page rank, katz score, adar index, some svd fetures of adj matrix, some weight features etc. and trained ml model based on these features to predict link. \n",
    "- Some reference papers and videos :  \n",
    "    - https://www.cs.cornell.edu/home/kleinber/link-pred.pdf\n",
    "    - https://www3.nd.edu/~dial/publications/lichtenwalter2010new.pdf\n",
    "    - https://kaggle2.blob.core.windows.net/forum-message-attachments/2594/supervised_link_prediction.pdf\n",
    "    - https://www.youtube.com/watch?v=2M77Hgy17cg"
   ]
  },
  {
   "cell_type": "markdown",
   "id": "d5519cb1",
   "metadata": {},
   "source": [
    "### Business objectives and constraints:  \n",
    "- No low-latency requirement.\n",
    "- Probability of prediction is useful to recommend ighest probability links"
   ]
  },
  {
   "cell_type": "markdown",
   "id": "5b33eca8",
   "metadata": {},
   "source": [
    "### Performance metric for supervised learning:  \n",
    "- Both precision and recall is important so F1 score is good choice\n",
    "- Confusion matrix"
   ]
  },
  {
   "cell_type": "markdown",
   "id": "cad368d5",
   "metadata": {},
   "source": [
    "### <font color='red'>Additional reference</font>\n",
    "\n",
    "1. https://www.cs.rpi.edu/~zaki/PaperDir/LINK06.pdf\n",
    "1. https://www.sciencedirect.com/science/article/pii/S2666285X21000406\n",
    "1. http://ijetms.in/Vol-4-issue-5/IJETMS-SE-016.pdf"
   ]
  },
  {
   "cell_type": "code",
   "execution_count": 1,
   "id": "1b80866c",
   "metadata": {},
   "outputs": [],
   "source": [
    "# Importing Libraries\n",
    "# pip install tables\n",
    "\n",
    "import time\n",
    "time_start = time.time()\n",
    "\n",
    "import warnings\n",
    "warnings.filterwarnings(\"ignore\")\n",
    "\n",
    "import os\n",
    "import csv\n",
    "import random\n",
    "import pickle\n",
    "\n",
    "import numpy as np\n",
    "import pandas as pd\n",
    "from tqdm import tqdm\n",
    "\n",
    "import seaborn as sns\n",
    "import matplotlib.pyplot as plt\n",
    "from prettytable import PrettyTable \n",
    "\n",
    "from collections import Counter\n",
    "from scipy.stats import randint as sp_randint\n",
    "\n",
    "from sklearn.metrics import f1_score\n",
    "from sklearn.metrics import roc_curve, auc\n",
    "from scipy.sparse.linalg import svds, eigs\n",
    "\n",
    "from sklearn.metrics import confusion_matrix\n",
    "from sklearn.ensemble import RandomForestClassifier\n",
    "from sklearn.model_selection import train_test_split\n",
    "from sklearn.model_selection import RandomizedSearchCV\n",
    "\n",
    "import networkx as nx\n",
    "\n",
    "import xgboost as xgb\n",
    "\n",
    "tqdm.pandas()"
   ]
  },
  {
   "cell_type": "code",
   "execution_count": 2,
   "id": "7f41bedc",
   "metadata": {
    "scrolled": true
   },
   "outputs": [],
   "source": [
    "%%bash\n",
    "\n",
    "cd /home/jishnu/AAIC/17_Facebook\n",
    "mkdir data\n",
    "mv train.csv '/home/jishnu/AAIC/17_Facebook/data/' \n",
    "# gdown --id 1--L6-VqVMbYr21Bi54t6W1_BgGUBvpJN #train.csv\n",
    "cd /home/jishnu/AAIC/17_Facebook/data/\n",
    "mkdir after_eda\n",
    "mkdir fea_sample\n",
    "cd /home/jishnu/AAIC/17_Facebook\n",
    "mv missing_edges_final.p '/home/jishnu/AAIC/17_Facebook/data/after_eda/' "
   ]
  },
  {
   "cell_type": "code",
   "execution_count": 3,
   "id": "e0c760ac",
   "metadata": {
    "scrolled": true
   },
   "outputs": [
    {
     "name": "stdout",
     "output_type": "stream",
     "text": [
      "Null Values : Empty DataFrame\n",
      "Columns: [source_node, destination_node]\n",
      "Index: []\n",
      "\n",
      "<class 'pandas.core.frame.DataFrame'>\n",
      "RangeIndex: 9437519 entries, 0 to 9437518\n",
      "Data columns (total 2 columns):\n",
      " #   Column            Dtype\n",
      "---  ------            -----\n",
      " 0   source_node       int64\n",
      " 1   destination_node  int64\n",
      "dtypes: int64(2)\n",
      "memory usage: 144.0 MB\n",
      "\n",
      "Print Dataset info.\t\t: None\n",
      "\n",
      "\n",
      "Number of diplicate entries\t: 0\n",
      "\n",
      "\n",
      "SAVED THE GRAPH INTO FILE\n",
      "\n",
      "\n",
      "Graph Information\t\t:  DiGraph with 1862220 nodes and 9437519 edges\n"
     ]
    }
   ],
   "source": [
    "# Reading graph\n",
    "\n",
    "if not os.path.isfile('data/after_eda/train_woheader.csv'):\n",
    "    \n",
    "    traincsv = pd.read_csv('data/train.csv')\n",
    "    print(f'Null Values : {traincsv[traincsv.isna().any(1)]}\\n')\n",
    "    print(f'\\nPrint Dataset info.\\t\\t: {traincsv.info()}\\n')\n",
    "    \n",
    "    print(f'\\nNumber of diplicate entries\\t: {sum(traincsv.duplicated())}\\n')\n",
    "    \n",
    "    traincsv.to_csv('data/after_eda/train_woheader.csv', header = False, index = False)\n",
    "    \n",
    "    print('\\nSAVED THE GRAPH INTO FILE\\n')\n",
    "    \n",
    "g = nx.read_edgelist('data/after_eda/train_woheader.csv', delimiter = ',',\n",
    "                                                         create_using = nx.DiGraph(),nodetype = int)\n",
    "print(f'\\nGraph Information\\t\\t:  {nx.info(g)}')   "
   ]
  },
  {
   "cell_type": "code",
   "execution_count": 4,
   "id": "239aa504",
   "metadata": {},
   "outputs": [
    {
     "name": "stdout",
     "output_type": "stream",
     "text": [
      "DiGraph with 76 nodes and 60 edges\n"
     ]
    },
    {
     "data": {
      "image/png": "[encoded data removed]",
      "text/plain": [
       "<Figure size 432x288 with 1 Axes>"
      ]
     },
     "metadata": {},
     "output_type": "display_data"
    }
   ],
   "source": [
    "# https://stackoverflow.com/questions/9402255/drawing-a-huge-graph-with-networkx-and-matplotlib\n",
    "\n",
    "# if not os.path.isfile('train_woheader_sample.csv'): Original\n",
    "\n",
    "if not os.path.isfile('train_woheader_sample.csv'):\n",
    "    \n",
    "    pd.read_csv('data/train.csv', nrows = 60).to_csv('train_woheader_sample.csv',\n",
    "                                                             header = False, index = False)\n",
    "    \n",
    "subgraph = nx.read_edgelist('train_woheader_sample.csv', delimiter = ',',\n",
    "                                                        create_using = nx.DiGraph(), nodetype = int)\n",
    "\n",
    "pos = nx.spring_layout(subgraph)\n",
    "\n",
    "nx.draw(subgraph, pos, node_color = '#A0CBE2', edge_color = '#00bb5e', width = 1,\n",
    "                                                    edge_cmap = plt.cm.Blues, with_labels = True)\n",
    "plt.savefig(\"graph_sample.pdf\")\n",
    "\n",
    "print(nx.info(subgraph))"
   ]
  },
  {
   "cell_type": "markdown",
   "id": "a690ba0a",
   "metadata": {},
   "source": [
    "## 1. Exploratory Data Analysis"
   ]
  },
  {
   "cell_type": "code",
   "execution_count": 5,
   "id": "222fdb94",
   "metadata": {},
   "outputs": [
    {
     "name": "stdout",
     "output_type": "stream",
     "text": [
      "The number of unique persons 1862220\n"
     ]
    }
   ],
   "source": [
    "# No of Unique persons \n",
    "\n",
    "print(\"The number of unique persons\",len(g.nodes()))"
   ]
  },
  {
   "cell_type": "markdown",
   "id": "d40e7761",
   "metadata": {},
   "source": [
    "### 1.1 No of followers for each person"
   ]
  },
  {
   "cell_type": "code",
   "execution_count": 6,
   "id": "55fc3893",
   "metadata": {},
   "outputs": [
    {
     "data": {
      "image/png": "[encoded data removed]",
      "text/plain": [
       "<Figure size 720x432 with 1 Axes>"
      ]
     },
     "metadata": {
      "needs_background": "light"
     },
     "output_type": "display_data"
    }
   ],
   "source": [
    "indegree_dist = list(dict(g.in_degree()).values())\n",
    "indegree_dist.sort()\n",
    "\n",
    "plt.figure(figsize=(10,6))\n",
    "plt.plot(indegree_dist)\n",
    "plt.xticks(range(0, 2000000, 200000))\n",
    "\n",
    "plt.title('Index No. vs No. Of Followers', c = 'firebrick')\n",
    "plt.xlabel('Index No (*10^6)')\n",
    "plt.ylabel('No Of Followers')\n",
    "\n",
    "plt.show()"
   ]
  },
  {
   "cell_type": "code",
   "execution_count": 7,
   "id": "6c675449",
   "metadata": {},
   "outputs": [
    {
     "data": {
      "image/png": "[encoded data removed]",
      "text/plain": [
       "<Figure size 720x432 with 1 Axes>"
      ]
     },
     "metadata": {
      "needs_background": "light"
     },
     "output_type": "display_data"
    }
   ],
   "source": [
    "# Precisely checking on a specific range\n",
    "\n",
    "indegree_dist = list(dict(g.in_degree()).values())\n",
    "indegree_dist.sort()\n",
    "\n",
    "plt.figure(figsize = (10,6))\n",
    "plt.plot(indegree_dist[0:1500000])\n",
    "plt.xticks(range(0, 1500000, 100000))\n",
    "\n",
    "plt.title('Index No. vs No. Of Followers', c = 'firebrick')\n",
    "\n",
    "plt.xlabel('Index No')\n",
    "plt.xlabel('Index No (*10^6)')\n",
    "plt.ylabel('No Of Followers')\n",
    "\n",
    "plt.show()"
   ]
  },
  {
   "cell_type": "code",
   "execution_count": 8,
   "id": "b34bf256",
   "metadata": {},
   "outputs": [
    {
     "data": {
      "image/png": "[encoded data removed]",
      "text/plain": [
       "<Figure size 432x288 with 1 Axes>"
      ]
     },
     "metadata": {
      "needs_background": "light"
     },
     "output_type": "display_data"
    }
   ],
   "source": [
    "# Boxplot on No. of followers\n",
    "\n",
    "plt.boxplot(indegree_dist)\n",
    "\n",
    "plt.title('Boxplot on No. of followers', c = 'firebrick')\n",
    "plt.ylabel('No Of Followers')\n",
    "\n",
    "plt.show()"
   ]
  },
  {
   "cell_type": "code",
   "execution_count": 9,
   "id": "cd5a98d8",
   "metadata": {},
   "outputs": [
    {
     "name": "stdout",
     "output_type": "stream",
     "text": [
      "90 percentile value is 12.0\n",
      "91 percentile value is 13.0\n",
      "92 percentile value is 14.0\n",
      "93 percentile value is 15.0\n",
      "94 percentile value is 17.0\n",
      "95 percentile value is 19.0\n",
      "96 percentile value is 21.0\n",
      "97 percentile value is 24.0\n",
      "98 percentile value is 29.0\n",
      "99 percentile value is 40.0\n",
      "100 percentile value is 552.0\n"
     ]
    }
   ],
   "source": [
    "### 90-100 percentile\n",
    "\n",
    "for i in range(11):\n",
    "    \n",
    "    print(f'{90 + i} percentile value is {np.percentile(indegree_dist, 90 + i)}')"
   ]
  },
  {
   "cell_type": "code",
   "execution_count": 10,
   "id": "127357cb",
   "metadata": {},
   "outputs": [
    {
     "name": "stdout",
     "output_type": "stream",
     "text": [
      "99.1 percentile value is 42.0\n",
      "99.2 percentile value is 44.0\n",
      "99.3 percentile value is 47.0\n",
      "99.4 percentile value is 50.0\n",
      "99.5 percentile value is 55.0\n",
      "99.6 percentile value is 61.0\n",
      "99.7 percentile value is 70.0\n",
      "99.8 percentile value is 84.0\n",
      "99.9 percentile value is 112.0\n",
      "100.0 percentile value is 552.0\n"
     ]
    }
   ],
   "source": [
    "### 99-100 percentile\n",
    "\n",
    "for i in range(10, 110, 10):\n",
    "    \n",
    "    print(f'{99 + (i/100)} percentile value is {np.percentile(indegree_dist, 99 + (i/100))}')"
   ]
  },
  {
   "cell_type": "code",
   "execution_count": 11,
   "id": "59a47d93",
   "metadata": {},
   "outputs": [
    {
     "data": {
      "image/png": "[encoded data removed]",
      "text/plain": [
       "<Figure size 842.4x595.44 with 1 Axes>"
      ]
     },
     "metadata": {},
     "output_type": "display_data"
    }
   ],
   "source": [
    "# Distribution plot on No. of followers\n",
    "\n",
    "sns.set_style('ticks')\n",
    "fig, ax = plt.subplots()\n",
    "\n",
    "fig.set_size_inches(11.7, 8.27)\n",
    "sns.distplot(indegree_dist, color='#16A085')\n",
    "\n",
    "plt.title('Distribution plot on No. of followers', c = 'firebrick')\n",
    "plt.xlabel('PDF of Indegree')\n",
    "\n",
    "sns.despine()"
   ]
  },
  {
   "cell_type": "markdown",
   "id": "1603e23d",
   "metadata": {},
   "source": [
    "### 1.2 No of people each person is following"
   ]
  },
  {
   "cell_type": "code",
   "execution_count": 12,
   "id": "4f431419",
   "metadata": {},
   "outputs": [
    {
     "data": {
      "image/png": "[encoded data removed]",
      "text/plain": [
       "<Figure size 720x432 with 1 Axes>"
      ]
     },
     "metadata": {},
     "output_type": "display_data"
    }
   ],
   "source": [
    "outdegree_dist = list(dict(g.out_degree()).values())\n",
    "outdegree_dist.sort()\n",
    "\n",
    "plt.figure(figsize = (10,6))\n",
    "plt.plot(outdegree_dist)\n",
    "plt.xticks(range(0, 2000000, 200000))\n",
    "\n",
    "plt.title('Index No. vs No Of people each person is following', c = 'firebrick')\n",
    "plt.xlabel('Index No')\n",
    "plt.xlabel('Index No (*10^6)')\n",
    "plt.ylabel('No Of people each person is following')\n",
    "\n",
    "plt.show()"
   ]
  },
  {
   "cell_type": "code",
   "execution_count": 13,
   "id": "bd875436",
   "metadata": {},
   "outputs": [
    {
     "data": {
      "image/png": "[encoded data removed]",
      "text/plain": [
       "<Figure size 720x432 with 1 Axes>"
      ]
     },
     "metadata": {},
     "output_type": "display_data"
    }
   ],
   "source": [
    "# Precisely checking on a specific range\n",
    "\n",
    "indegree_dist = list(dict(g.in_degree()).values())\n",
    "indegree_dist.sort()\n",
    "\n",
    "plt.figure(figsize = (10,6))\n",
    "plt.plot(outdegree_dist[0:1500000])\n",
    "plt.xticks(range(0, 1600000, 100000))\n",
    "\n",
    "plt.title('Index No. vs No Of people each person is following', c = 'firebrick')\n",
    "plt.xlabel('Index No')\n",
    "plt.xlabel('Index No (*10^6)')\n",
    "plt.ylabel('No Of people each person is following')\n",
    "\n",
    "plt.show()"
   ]
  },
  {
   "cell_type": "code",
   "execution_count": 14,
   "id": "b4a5674b",
   "metadata": {},
   "outputs": [
    {
     "data": {
      "image/png": "[encoded data removed]",
      "text/plain": [
       "<Figure size 432x288 with 1 Axes>"
      ]
     },
     "metadata": {},
     "output_type": "display_data"
    }
   ],
   "source": [
    "# Boxplot on No Of people each person is following\n",
    "\n",
    "plt.boxplot(indegree_dist)\n",
    "\n",
    "plt.title('Boxplot on No. Of people each person is following', c = 'firebrick')\n",
    "plt.ylabel('No Of people each person is following')\n",
    "\n",
    "plt.show()"
   ]
  },
  {
   "cell_type": "code",
   "execution_count": 15,
   "id": "c3dbee7e",
   "metadata": {},
   "outputs": [
    {
     "name": "stdout",
     "output_type": "stream",
     "text": [
      "90 percentile value is 12.0\n",
      "91 percentile value is 13.0\n",
      "92 percentile value is 14.0\n",
      "93 percentile value is 15.0\n",
      "94 percentile value is 17.0\n",
      "95 percentile value is 19.0\n",
      "96 percentile value is 21.0\n",
      "97 percentile value is 24.0\n",
      "98 percentile value is 29.0\n",
      "99 percentile value is 40.0\n",
      "100 percentile value is 1566.0\n"
     ]
    }
   ],
   "source": [
    "### 90-100 percentile\n",
    "\n",
    "for i in range(11):\n",
    "    \n",
    "    print(f'{90 + i} percentile value is {np.percentile(outdegree_dist, 90 + i)}')"
   ]
  },
  {
   "cell_type": "code",
   "execution_count": 16,
   "id": "09c4f684",
   "metadata": {},
   "outputs": [
    {
     "name": "stdout",
     "output_type": "stream",
     "text": [
      "90.1 percentile value is 42.0\n",
      "90.2 percentile value is 45.0\n",
      "90.3 percentile value is 48.0\n",
      "90.4 percentile value is 52.0\n",
      "90.5 percentile value is 56.0\n",
      "90.6 percentile value is 63.0\n",
      "90.7 percentile value is 73.0\n",
      "90.8 percentile value is 90.0\n",
      "90.9 percentile value is 123.0\n",
      "91.0 percentile value is 1566.0\n"
     ]
    }
   ],
   "source": [
    "### 99-100 percentile\n",
    "\n",
    "for i in range(10, 110, 10):\n",
    "    \n",
    "    print(f'{90 + (i/100)} percentile value is {np.percentile(outdegree_dist, 99 + (i/100))}')"
   ]
  },
  {
   "cell_type": "code",
   "execution_count": 17,
   "id": "5f941ce7",
   "metadata": {},
   "outputs": [
    {
     "data": {
      "image/png": "[encoded data removed]",
      "text/plain": [
       "<Figure size 842.4x595.44 with 1 Axes>"
      ]
     },
     "metadata": {},
     "output_type": "display_data"
    }
   ],
   "source": [
    "# Distribution plot on No Of people each person is following\n",
    "\n",
    "sns.set_style('ticks')\n",
    "\n",
    "fig, ax = plt.subplots()\n",
    "fig.set_size_inches(11.7, 8.27)\n",
    "\n",
    "sns.distplot(outdegree_dist, color='#16A085')\n",
    "plt.xlabel('PDF of Outdegree')\n",
    "plt.title('No Of people each person is following', c = 'firebrick')\n",
    "\n",
    "sns.despine()"
   ]
  },
  {
   "cell_type": "code",
   "execution_count": 18,
   "id": "6f55b7b8",
   "metadata": {},
   "outputs": [
    {
     "name": "stdout",
     "output_type": "stream",
     "text": [
      "No of persons those are not following anyone are 274512 and % is 14.741115442858524\n"
     ]
    }
   ],
   "source": [
    "print('No of persons those are not following anyone are' , sum(np.array(outdegree_dist) == 0),'and % is',\n",
    "                                sum(np.array(outdegree_dist) == 0) * 100 / len(outdegree_dist))"
   ]
  },
  {
   "cell_type": "code",
   "execution_count": 19,
   "id": "8124496f",
   "metadata": {},
   "outputs": [
    {
     "name": "stdout",
     "output_type": "stream",
     "text": [
      "No of persons having zero followers are 188043 and % is 10.097786512871734\n"
     ]
    }
   ],
   "source": [
    "print('No of persons having zero followers are' ,  sum(np.array(indegree_dist) == 0), 'and % is',\n",
    "                                sum(np.array(indegree_dist) == 0) * 100 / len(indegree_dist) )"
   ]
  },
  {
   "cell_type": "code",
   "execution_count": 20,
   "id": "93eea1b7",
   "metadata": {},
   "outputs": [
    {
     "name": "stdout",
     "output_type": "stream",
     "text": [
      "No of persons those are not not following anyone and also not having any followers are 0\n"
     ]
    }
   ],
   "source": [
    "count=0\n",
    "\n",
    "for i in g.nodes():\n",
    "    \n",
    "    if len(list(g.predecessors(i))) == 0:\n",
    "        if len(list(g.successors(i))) == 0:\n",
    "            count += 1\n",
    "            \n",
    "print('No of persons those are not not following anyone and also not having any followers are', count)"
   ]
  },
  {
   "cell_type": "markdown",
   "id": "d7d090da",
   "metadata": {},
   "source": [
    "### 1.3 both followers + following "
   ]
  },
  {
   "cell_type": "code",
   "execution_count": 21,
   "id": "ba0afca4",
   "metadata": {},
   "outputs": [],
   "source": [
    "dict_in = dict(g.in_degree())\n",
    "dict_out = dict(g.out_degree())\n",
    "\n",
    "d = Counter(dict_in) + Counter(dict_out)\n",
    "\n",
    "in_out_degree = np.array(list(d.values()))"
   ]
  },
  {
   "cell_type": "code",
   "execution_count": 22,
   "id": "5cd38e53",
   "metadata": {},
   "outputs": [
    {
     "data": {
      "image/png": "[encoded data removed]",
      "text/plain": [
       "<Figure size 720x432 with 1 Axes>"
      ]
     },
     "metadata": {},
     "output_type": "display_data"
    }
   ],
   "source": [
    "# Index No vs No Of people each person is following + followers\n",
    "\n",
    "in_out_degree_sort = sorted(in_out_degree)\n",
    "\n",
    "plt.figure(figsize = (10,6))\n",
    "plt.plot(in_out_degree_sort)\n",
    "plt.xticks(range(0, 2000000, 200000))\n",
    "\n",
    "plt.title('Index No vs No Of people each person is following + followers',  c = 'firebrick')\n",
    "plt.xlabel('Index No')\n",
    "plt.xlabel('Index No (*10^6)')\n",
    "plt.ylabel('No Of people each person is following + followers')\n",
    "\n",
    "plt.show()"
   ]
  },
  {
   "cell_type": "code",
   "execution_count": 23,
   "id": "027d8505",
   "metadata": {},
   "outputs": [
    {
     "data": {
      "image/png": "[encoded data removed]",
      "text/plain": [
       "<Figure size 720x432 with 1 Axes>"
      ]
     },
     "metadata": {},
     "output_type": "display_data"
    }
   ],
   "source": [
    "# Precisely checking on a specific range\n",
    "\n",
    "in_out_degree_sort = sorted(in_out_degree)\n",
    "\n",
    "plt.figure(figsize=(10,6))\n",
    "plt.plot(in_out_degree_sort[0:1500000])\n",
    "plt.xticks(range(0, 1600000, 100000))\n",
    "\n",
    "plt.title('Index No vs No Of people each person is following + followers',  c = 'firebrick')\n",
    "plt.xlabel('Index No (*10^6)')\n",
    "plt.ylabel('No Of people each person is following + followers')\n",
    "\n",
    "plt.show()"
   ]
  },
  {
   "cell_type": "code",
   "execution_count": 24,
   "id": "7f39b575",
   "metadata": {},
   "outputs": [
    {
     "name": "stdout",
     "output_type": "stream",
     "text": [
      "90 percentile value is 24.0\n",
      "91 percentile value is 26.0\n",
      "92 percentile value is 28.0\n",
      "93 percentile value is 31.0\n",
      "94 percentile value is 33.0\n",
      "95 percentile value is 37.0\n",
      "96 percentile value is 41.0\n",
      "97 percentile value is 48.0\n",
      "98 percentile value is 58.0\n",
      "99 percentile value is 79.0\n",
      "100 percentile value is 1579.0\n"
     ]
    }
   ],
   "source": [
    "### 90-100 percentile\n",
    "\n",
    "for i in range(11):\n",
    "\n",
    "    print(f'{90 + i} percentile value is {np.percentile(in_out_degree_sort, 90 + i)}') "
   ]
  },
  {
   "cell_type": "code",
   "execution_count": 25,
   "id": "edae992f",
   "metadata": {},
   "outputs": [
    {
     "name": "stdout",
     "output_type": "stream",
     "text": [
      "99.1 percentile value is 83.0\n",
      "99.2 percentile value is 87.0\n",
      "99.3 percentile value is 93.0\n",
      "99.4 percentile value is 99.0\n",
      "99.5 percentile value is 108.0\n",
      "99.6 percentile value is 120.0\n",
      "99.7 percentile value is 138.0\n",
      "99.8 percentile value is 168.0\n",
      "99.9 percentile value is 221.0\n",
      "100.0 percentile value is 1579.0\n"
     ]
    }
   ],
   "source": [
    "### 99-100 percentile\n",
    "\n",
    "for i in range(10,110,10):\n",
    "    \n",
    "    print(f'{99 + (i/100)} percentile value is {np.percentile(in_out_degree_sort, 99 + (i/100))}')"
   ]
  },
  {
   "cell_type": "code",
   "execution_count": 26,
   "id": "621c7390",
   "metadata": {},
   "outputs": [
    {
     "name": "stdout",
     "output_type": "stream",
     "text": [
      "Min of no of followers + following is 1\n",
      "\n",
      "334291 persons having minimum no of followers + following\n"
     ]
    }
   ],
   "source": [
    "print(f'Min of no of followers + following is {in_out_degree.min()}\\n')\n",
    "\n",
    "print(f'{np.sum(in_out_degree == in_out_degree.min())} persons having minimum no of followers + following')"
   ]
  },
  {
   "cell_type": "code",
   "execution_count": 27,
   "id": "576919e2",
   "metadata": {},
   "outputs": [
    {
     "name": "stdout",
     "output_type": "stream",
     "text": [
      "Max of no of followers + following is 1579\n",
      "\n",
      "1 persons having maximum no of followers + following\n"
     ]
    }
   ],
   "source": [
    "print(f'Max of no of followers + following is {in_out_degree.max()}\\n')\n",
    "\n",
    "print(f'{np.sum(in_out_degree==in_out_degree.max())} persons having maximum no of followers + following')"
   ]
  },
  {
   "cell_type": "code",
   "execution_count": 28,
   "id": "f4ccc29a",
   "metadata": {},
   "outputs": [
    {
     "name": "stdout",
     "output_type": "stream",
     "text": [
      "No of persons having followers + following less than 10 are 1320326\n"
     ]
    }
   ],
   "source": [
    "print('No of persons having followers + following less than 10 are', np.sum(in_out_degree < 10))"
   ]
  },
  {
   "cell_type": "code",
   "execution_count": 29,
   "id": "1437cc91",
   "metadata": {},
   "outputs": [
    {
     "name": "stdout",
     "output_type": "stream",
     "text": [
      "No of weakly connected components 45558\n",
      "\n",
      "weakly connected components wit 2 nodes 32195\n"
     ]
    }
   ],
   "source": [
    "print(f'No of weakly connected components {len(list(nx.weakly_connected_components(g)))}\\n')\n",
    "\n",
    "count = 0\n",
    "\n",
    "for i in list(nx.weakly_connected_components(g)):\n",
    "    \n",
    "    if len(i) == 2:\n",
    "        count += 1\n",
    "        \n",
    "print(f'weakly connected components wit 2 nodes {count}')"
   ]
  },
  {
   "cell_type": "markdown",
   "id": "6d2583ef",
   "metadata": {},
   "source": [
    "## 2. Posing a problem as classification problem "
   ]
  },
  {
   "cell_type": "markdown",
   "id": "6ee86c29",
   "metadata": {},
   "source": [
    "### 2.1 Generating some edges which are not present in graph for supervised learning  \n",
    "\n",
    "Generated Bad links from graph which are not in graph and whose shortest path is greater than 2. "
   ]
  },
  {
   "cell_type": "code",
   "execution_count": 30,
   "id": "41914d7f",
   "metadata": {},
   "outputs": [
    {
     "name": "stdout",
     "output_type": "stream",
     "text": [
      "Length of missing edges : 9437519\n"
     ]
    }
   ],
   "source": [
    "# Generating bad edges from given graph\n",
    "\n",
    "if not os.path.isfile('data/after_eda/missing_edges_final.p'):\n",
    "    \n",
    "    #getting all set of edges\n",
    "    r = csv.reader(open('data/after_eda/train_woheader.csv', 'r'))\n",
    "    \n",
    "    edges = dict()\n",
    "    \n",
    "    for edge in r:\n",
    "        edges[(edge[0], edge[1])] = 1\n",
    "        \n",
    "    missing_edges = set([])\n",
    "    \n",
    "    while (len(missing_edges)<9437519):\n",
    "        \n",
    "        a = random.randint(1, 1862220)\n",
    "        b = random.randint(1, 1862220)\n",
    "        tmp = edges.get((a,b), -1)\n",
    "        \n",
    "        if tmp == -1 and a != b:\n",
    "            \n",
    "            try:\n",
    "                if nx.shortest_path_length(g, source = a, target = b) > 2: \n",
    "                    missing_edges.add((a,b))\n",
    "                    \n",
    "                else:\n",
    "                    continue  \n",
    "                    \n",
    "            except:  \n",
    "                    missing_edges.add((a, b)) \n",
    "                    \n",
    "        else:\n",
    "            continue\n",
    "            \n",
    "    pickle.dump(missing_edges, open('data/after_eda/missing_edges_final.p', 'wb'))\n",
    "    \n",
    "else:\n",
    "    missing_edges = pickle.load(open('data/after_eda/missing_edges_final.p', 'rb'))\n",
    "    \n",
    "print(f'Length of missing edges : {len(missing_edges)}')    "
   ]
  },
  {
   "cell_type": "markdown",
   "id": "a09c3249",
   "metadata": {},
   "source": [
    "## 2.2 Training and Test data split:  \n",
    "Removed edges from Graph and used as test data and after removing used that graph for creating features for Train and test data"
   ]
  },
  {
   "cell_type": "code",
   "execution_count": 31,
   "id": "7b7a49cc",
   "metadata": {},
   "outputs": [
    {
     "name": "stdout",
     "output_type": "stream",
     "text": [
      "Number of nodes in the graph with edges : 9437519\n",
      "Number of nodes in the graph without edges : 9437519\n",
      "\n",
      "============================================================\n",
      "\n",
      "Number of nodes in the train data graph with edges :\n",
      "                                                    7550015 = 7550015\n",
      "Number of nodes in the train data graph without edges : \n",
      "                                                    7550015 = 7550015\n",
      "\n",
      "============================================================\n",
      "\n",
      "Number of nodes in the test data graph with edges : \n",
      "                                                    1887504 = 1887504\n",
      "Number of nodes in the test data graph without edges : \n",
      "                                                    1887504 = 1887504\n"
     ]
    }
   ],
   "source": [
    "if (not os.path.isfile('data/after_eda/train_pos_after_eda.csv'))\\\n",
    "                    and (not os.path.isfile('data/after_eda/test_pos_after_eda.csv')):\n",
    "        \n",
    "    #reading total data df\n",
    "    df_pos = pd.read_csv('data/train.csv')\n",
    "    df_neg = pd.DataFrame(list(missing_edges), columns=['source_node', 'destination_node'])\n",
    "    \n",
    "    print(f'Number of nodes in the graph with edges : {df_pos.shape[0]}')\n",
    "    print(f'Number of nodes in the graph without edges : {df_neg.shape[0]}\\n')\n",
    "    \n",
    "    '''\n",
    "    Trian test split \n",
    "    Spiltted data into 80-20 \n",
    "    positive links and negative links seperatly because we need positive\n",
    "            training data only for creating graph and for feature generation\n",
    "    '''\n",
    "    \n",
    "    X_train_pos, X_test_pos, y_train_pos, y_test_pos  = train_test_split(df_pos,np.ones(len(df_pos)), \n",
    "                                                                 test_size = 0.2, random_state = 9)\n",
    "    \n",
    "    X_train_neg, X_test_neg, y_train_neg, y_test_neg  = train_test_split(df_neg,np.zeros(len(df_neg)), \n",
    "                                                                 test_size = 0.2, random_state = 9)\n",
    "\n",
    "    print('='*60)\n",
    "    print(f'\\nNumber of nodes in the train data graph with edges :\\n\\\n",
    "                                                    {X_train_pos.shape[0]} = {y_train_pos.shape[0]}')\n",
    "          \n",
    "    print(f'Number of nodes in the train data graph without edges : \\n\\\n",
    "                                                    {X_train_neg.shape[0]} = {y_train_neg.shape[0]}\\n')\n",
    "    \n",
    "    print('='*60)\n",
    "    print(f'\\nNumber of nodes in the test data graph with edges : \\n\\\n",
    "                                                    {X_test_pos.shape[0]} = {y_test_pos.shape[0]}')\n",
    "    \n",
    "    print(f'Number of nodes in the test data graph without edges : \\n\\\n",
    "                                                    {X_test_neg.shape[0]} = {y_test_neg.shape[0]}')\n",
    "\n",
    "    #removing header and saving\n",
    "    X_train_pos.to_csv('data/after_eda/train_pos_after_eda.csv', header = False, index = False)\n",
    "    X_test_pos.to_csv('data/after_eda/test_pos_after_eda.csv', header = False, index = False)\n",
    "    X_train_neg.to_csv('data/after_eda/train_neg_after_eda.csv', header = False, index = False)\n",
    "    X_test_neg.to_csv('data/after_eda/test_neg_after_eda.csv', header = False, index = False)\n",
    "    \n",
    "    del missing_edges\n",
    "    \n",
    "else:\n",
    "    #Graph from Traing data only \n",
    "    del missing_edges"
   ]
  },
  {
   "cell_type": "code",
   "execution_count": 32,
   "id": "48c6b32e",
   "metadata": {},
   "outputs": [
    {
     "name": "stdout",
     "output_type": "stream",
     "text": [
      "DiGraph with 1780722 nodes and 7550015 edges\n",
      "\n",
      "\n",
      "DiGraph with 1144623 nodes and 1887504 edges\n",
      "\n",
      "no of people common in train and test --  1063125\n",
      "\n",
      "no of people present in train but not present in test -- 717597\n",
      "\n",
      "no of people present in test but not present in train -- 81498\n",
      "\n",
      "% of people not there in Train but exist in Test in total Test data are 7.12 %\n"
     ]
    }
   ],
   "source": [
    "if (os.path.isfile('data/after_eda/train_pos_after_eda.csv')) and \\\n",
    "                                    (os.path.isfile('data/after_eda/test_pos_after_eda.csv')):  \n",
    "    \n",
    "    train_graph = nx.read_edgelist('data/after_eda/train_pos_after_eda.csv',delimiter = ',', \n",
    "                                   create_using = nx.DiGraph(), nodetype = int)\n",
    "    test_graph = nx.read_edgelist('data/after_eda/test_pos_after_eda.csv',delimiter = ',', \n",
    "                                  create_using = nx.DiGraph(), nodetype = int)\n",
    "    print(nx.info(train_graph))\n",
    "    print('\\n')\n",
    "    print(nx.info(test_graph))\n",
    "\n",
    "    # finding the unique nodes in the both train and test graphs\n",
    "    train_nodes_pos = set(train_graph.nodes())\n",
    "    test_nodes_pos = set(test_graph.nodes())\n",
    "\n",
    "    trY_teY = len(train_nodes_pos.intersection(test_nodes_pos))\n",
    "    trY_teN = len(train_nodes_pos - test_nodes_pos)\n",
    "    teY_trN = len(test_nodes_pos - train_nodes_pos)\n",
    "\n",
    "    print(f'\\nno of people common in train and test --  {trY_teY}')\n",
    "    print(f'\\nno of people present in train but not present in test -- {trY_teN}')\n",
    "\n",
    "    print(f'\\nno of people present in test but not present in train -- {teY_trN}')\n",
    "    \n",
    "    p_value = round(teY_trN/len(test_nodes_pos) * 100, 3)\n",
    "    print(f'\\n% of people not there in Train but exist in Test in total Test data are {p_value} %')"
   ]
  },
  {
   "cell_type": "code",
   "execution_count": 33,
   "id": "66487a03",
   "metadata": {},
   "outputs": [
    {
     "name": "stdout",
     "output_type": "stream",
     "text": [
      "\n",
      "Number of nodes in the train data graph with edges    : 7550015\n",
      "Number of nodes in the train data graph without edges : 7550015\n",
      "\n",
      "============================================================\n",
      "\n",
      "Number of nodes in the test data graph with edges    : 1887504\n",
      "Number of nodes in the test data graph without edges : 1887504\n"
     ]
    }
   ],
   "source": [
    "# Final train and test data sets\n",
    "\n",
    "if (not os.path.isfile('data/after_eda/train_after_eda.csv')) and \\\n",
    "    (not os.path.isfile('data/after_eda/test_after_eda.csv')) and \\\n",
    "    (not os.path.isfile('data/train_y.csv')) and \\\n",
    "    (not os.path.isfile('data/test_y.csv')) and \\\n",
    "    (os.path.isfile('data/after_eda/train_pos_after_eda.csv')) and \\\n",
    "    (os.path.isfile('data/after_eda/test_pos_after_eda.csv')) and \\\n",
    "    (os.path.isfile('data/after_eda/train_neg_after_eda.csv')) and \\\n",
    "    (os.path.isfile('data/after_eda/test_neg_after_eda.csv')):\n",
    "    \n",
    "    X_train_pos = pd.read_csv('data/after_eda/train_pos_after_eda.csv',\n",
    "                                                          names = ['source_node', 'destination_node'])\n",
    "    X_test_pos = pd.read_csv('data/after_eda/test_pos_after_eda.csv',\n",
    "                                                         names =['source_node', 'destination_node'])\n",
    "    X_train_neg = pd.read_csv('data/after_eda/train_neg_after_eda.csv',\n",
    "                                                          names =['source_node', 'destination_node'])\n",
    "    X_test_neg = pd.read_csv('data/after_eda/test_neg_after_eda.csv',\n",
    "                                                         names =['source_node', 'destination_node'])\n",
    "\n",
    "    print(f'\\nNumber of nodes in the train data graph with edges    : {X_train_pos.shape[0]}')\n",
    "    print(f'Number of nodes in the train data graph without edges : {X_train_neg.shape[0]}\\n')\n",
    "    print('='*60)\n",
    "    print(f'\\nNumber of nodes in the test data graph with edges    : {X_test_pos.shape[0]}')\n",
    "    print(f'Number of nodes in the test data graph without edges : {X_test_neg.shape[0]}')\n",
    "\n",
    "    X_train = X_train_pos.append(X_train_neg,ignore_index = True)\n",
    "    y_train = np.concatenate((y_train_pos,y_train_neg))\n",
    "    \n",
    "    X_test = X_test_pos.append(X_test_neg,ignore_index = True)\n",
    "    y_test = np.concatenate((y_test_pos,y_test_neg)) \n",
    "    \n",
    "    X_train.to_csv('data/after_eda/train_after_eda.csv',header = False, index = False)\n",
    "    X_test.to_csv('data/after_eda/test_after_eda.csv',header = False, index = False)\n",
    "    \n",
    "    pd.DataFrame(y_train.astype(int)).to_csv('data/train_y.csv',header = False, index = False)\n",
    "    pd.DataFrame(y_test.astype(int)).to_csv('data/test_y.csv',header = False, index = False)"
   ]
  },
  {
   "cell_type": "code",
   "execution_count": 34,
   "id": "2f79ee3d",
   "metadata": {
    "scrolled": true
   },
   "outputs": [
    {
     "name": "stdout",
     "output_type": "stream",
     "text": [
      "Data points in train data\t  : (15100030, 2)\n",
      "\n",
      "Data points in test data\t  : (3775008, 2)\n",
      "\n",
      "Shape of traget variable in train : (15100030,)\n",
      "\n",
      "Shape of traget variable in test  : (3775008,)\n",
      "\n",
      "Total time took for EDA analysis  : 4.4 minutes\n"
     ]
    }
   ],
   "source": [
    "print(f'Data points in train data\\t  : {X_train.shape}')\n",
    "print(f'\\nData points in test data\\t  : {X_test.shape}')\n",
    "print(f'\\nShape of traget variable in train : {y_train.shape}')\n",
    "print(f'\\nShape of traget variable in test  : {y_test.shape}')\n",
    "\n",
    "time_eda_end = time.time()\n",
    "\n",
    "print(f'\\nTotal time took for EDA analysis  : {round((time_eda_end - time_start) / 60, 1)} minutes')"
   ]
  },
  {
   "cell_type": "raw",
   "id": "6fb49b01",
   "metadata": {},
   "source": []
  },
  {
   "cell_type": "raw",
   "id": "fdbe0762",
   "metadata": {},
   "source": []
  },
  {
   "cell_type": "raw",
   "id": "c1d4be48",
   "metadata": {},
   "source": []
  },
  {
   "cell_type": "raw",
   "id": "cd191df8",
   "metadata": {},
   "source": []
  },
  {
   "cell_type": "raw",
   "id": "3794f985",
   "metadata": {},
   "source": []
  },
  {
   "cell_type": "raw",
   "id": "e82531a9",
   "metadata": {},
   "source": []
  },
  {
   "cell_type": "raw",
   "id": "b8c1ab54",
   "metadata": {},
   "source": []
  },
  {
   "cell_type": "raw",
   "id": "7745467c",
   "metadata": {},
   "source": []
  },
  {
   "cell_type": "raw",
   "id": "966a49d2",
   "metadata": {},
   "source": []
  },
  {
   "cell_type": "raw",
   "id": "8d366111",
   "metadata": {},
   "source": []
  },
  {
   "cell_type": "raw",
   "id": "71044759",
   "metadata": {},
   "source": []
  },
  {
   "cell_type": "raw",
   "id": "6172d3a5",
   "metadata": {},
   "source": []
  },
  {
   "cell_type": "raw",
   "id": "8e073cb3",
   "metadata": {},
   "source": []
  },
  {
   "cell_type": "raw",
   "id": "b1c5d1ed",
   "metadata": {},
   "source": []
  },
  {
   "cell_type": "raw",
   "id": "bc017b9c",
   "metadata": {},
   "source": []
  },
  {
   "cell_type": "raw",
   "id": "aeefb59e",
   "metadata": {},
   "source": []
  },
  {
   "cell_type": "raw",
   "id": "dc182283",
   "metadata": {},
   "source": []
  },
  {
   "cell_type": "raw",
   "id": "a2eab158",
   "metadata": {},
   "source": []
  },
  {
   "cell_type": "raw",
   "id": "cdce23c6",
   "metadata": {},
   "source": []
  },
  {
   "cell_type": "raw",
   "id": "14623e1b",
   "metadata": {},
   "source": []
  },
  {
   "cell_type": "raw",
   "id": "394b12f5",
   "metadata": {},
   "source": []
  },
  {
   "cell_type": "raw",
   "id": "c02b9e4a",
   "metadata": {},
   "source": []
  },
  {
   "cell_type": "raw",
   "id": "a91dcf1e",
   "metadata": {},
   "source": []
  },
  {
   "cell_type": "raw",
   "id": "3710fc82",
   "metadata": {},
   "source": []
  },
  {
   "cell_type": "raw",
   "id": "812fa915",
   "metadata": {},
   "source": []
  },
  {
   "cell_type": "raw",
   "id": "e83e42f4",
   "metadata": {},
   "source": []
  },
  {
   "cell_type": "raw",
   "id": "8c53a777",
   "metadata": {},
   "source": []
  },
  {
   "cell_type": "raw",
   "id": "3ce76782",
   "metadata": {},
   "source": []
  },
  {
   "cell_type": "raw",
   "id": "a9e9d1da",
   "metadata": {},
   "source": []
  },
  {
   "cell_type": "raw",
   "id": "321e15c4",
   "metadata": {},
   "source": []
  },
  {
   "cell_type": "raw",
   "id": "6e32cd2b",
   "metadata": {},
   "source": []
  },
  {
   "cell_type": "raw",
   "id": "d174b740",
   "metadata": {},
   "source": []
  },
  {
   "cell_type": "raw",
   "id": "b9b364c7",
   "metadata": {},
   "source": []
  },
  {
   "cell_type": "raw",
   "id": "4f8a92b3",
   "metadata": {},
   "source": []
  },
  {
   "cell_type": "raw",
   "id": "384892b8",
   "metadata": {},
   "source": []
  },
  {
   "cell_type": "raw",
   "id": "a5e41bf6",
   "metadata": {},
   "source": []
  },
  {
   "cell_type": "raw",
   "id": "0c8082fc",
   "metadata": {},
   "source": []
  },
  {
   "cell_type": "raw",
   "id": "d409bcf5",
   "metadata": {},
   "source": []
  },
  {
   "cell_type": "raw",
   "id": "86b91c5a",
   "metadata": {},
   "source": []
  },
  {
   "cell_type": "raw",
   "id": "c3f44f7c",
   "metadata": {},
   "source": []
  },
  {
   "cell_type": "raw",
   "id": "7d28f42f",
   "metadata": {},
   "source": []
  },
  {
   "cell_type": "raw",
   "id": "9270391a",
   "metadata": {},
   "source": []
  },
  {
   "cell_type": "raw",
   "id": "43d5a284",
   "metadata": {},
   "source": []
  },
  {
   "cell_type": "raw",
   "id": "b48fe522",
   "metadata": {},
   "source": []
  },
  {
   "cell_type": "raw",
   "id": "04640867",
   "metadata": {},
   "source": []
  },
  {
   "cell_type": "raw",
   "id": "2a231a69",
   "metadata": {},
   "source": []
  },
  {
   "cell_type": "raw",
   "id": "09583b86",
   "metadata": {},
   "source": []
  },
  {
   "cell_type": "raw",
   "id": "7fdf6114",
   "metadata": {},
   "source": []
  },
  {
   "cell_type": "raw",
   "id": "6a36792f",
   "metadata": {},
   "source": []
  },
  {
   "cell_type": "raw",
   "id": "e59d3f6e",
   "metadata": {},
   "source": []
  },
  {
   "cell_type": "raw",
   "id": "ef706d42",
   "metadata": {},
   "source": []
  },
  {
   "cell_type": "raw",
   "id": "a2a29728",
   "metadata": {},
   "source": []
  },
  {
   "cell_type": "raw",
   "id": "fdea9310",
   "metadata": {},
   "source": []
  },
  {
   "cell_type": "raw",
   "id": "975d3160",
   "metadata": {},
   "source": []
  },
  {
   "cell_type": "raw",
   "id": "114b0160",
   "metadata": {},
   "source": []
  },
  {
   "cell_type": "raw",
   "id": "92bb6402",
   "metadata": {},
   "source": []
  },
  {
   "cell_type": "raw",
   "id": "7f77e93a",
   "metadata": {},
   "source": []
  },
  {
   "cell_type": "raw",
   "id": "efdf4e33",
   "metadata": {},
   "source": []
  },
  {
   "cell_type": "raw",
   "id": "919a6a18",
   "metadata": {},
   "source": []
  },
  {
   "cell_type": "raw",
   "id": "4f44b1c7",
   "metadata": {},
   "source": []
  },
  {
   "cell_type": "raw",
   "id": "52ec2029",
   "metadata": {},
   "source": []
  },
  {
   "cell_type": "raw",
   "id": "7f212417",
   "metadata": {},
   "source": []
  },
  {
   "cell_type": "raw",
   "id": "89a48b47",
   "metadata": {},
   "source": []
  },
  {
   "cell_type": "raw",
   "id": "85a31991",
   "metadata": {},
   "source": []
  },
  {
   "cell_type": "raw",
   "id": "e0abd0e4",
   "metadata": {},
   "source": []
  },
  {
   "cell_type": "raw",
   "id": "03e24fd2",
   "metadata": {},
   "source": []
  },
  {
   "cell_type": "raw",
   "id": "88f04cd0",
   "metadata": {},
   "source": []
  },
  {
   "cell_type": "raw",
   "id": "6bfb163a",
   "metadata": {},
   "source": []
  },
  {
   "cell_type": "raw",
   "id": "e76e8600",
   "metadata": {},
   "source": []
  },
  {
   "cell_type": "raw",
   "id": "213155f1",
   "metadata": {},
   "source": []
  },
  {
   "cell_type": "raw",
   "id": "1a7aad19",
   "metadata": {},
   "source": []
  },
  {
   "cell_type": "raw",
   "id": "37a3366d",
   "metadata": {},
   "source": []
  },
  {
   "cell_type": "raw",
   "id": "6409cf50",
   "metadata": {},
   "source": []
  },
  {
   "cell_type": "raw",
   "id": "ea177451",
   "metadata": {},
   "source": []
  },
  {
   "cell_type": "raw",
   "id": "128c85e7",
   "metadata": {},
   "source": []
  },
  {
   "cell_type": "raw",
   "id": "fb0fb22f",
   "metadata": {},
   "source": []
  },
  {
   "cell_type": "raw",
   "id": "5e59079e",
   "metadata": {},
   "source": []
  },
  {
   "cell_type": "raw",
   "id": "de4854d7",
   "metadata": {},
   "source": []
  },
  {
   "cell_type": "raw",
   "id": "dab5582d",
   "metadata": {},
   "source": []
  },
  {
   "cell_type": "markdown",
   "id": "c0913e31",
   "metadata": {},
   "source": [
    "## Feature Engineering On Graphs"
   ]
  },
  {
   "cell_type": "code",
   "execution_count": 1,
   "id": "c547d986",
   "metadata": {},
   "outputs": [],
   "source": [
    "# Importing Libraries\n",
    "# pip install tables\n",
    "\n",
    "import time\n",
    "time_start = time.time()\n",
    "\n",
    "import warnings\n",
    "warnings.filterwarnings(\"ignore\")\n",
    "\n",
    "import os\n",
    "import csv\n",
    "import random\n",
    "import pickle\n",
    "\n",
    "import numpy as np\n",
    "import pandas as pd\n",
    "from tqdm import tqdm\n",
    "\n",
    "import seaborn as sns\n",
    "import matplotlib.pyplot as plt\n",
    "from prettytable import PrettyTable \n",
    "\n",
    "from collections import Counter\n",
    "from scipy.stats import randint as sp_randint\n",
    "\n",
    "from sklearn.metrics import f1_score\n",
    "from sklearn.metrics import roc_curve, auc\n",
    "from scipy.sparse.linalg import svds, eigs\n",
    "\n",
    "from sklearn.metrics import confusion_matrix\n",
    "from sklearn.ensemble import RandomForestClassifier\n",
    "from sklearn.model_selection import train_test_split\n",
    "from sklearn.model_selection import RandomizedSearchCV\n",
    "\n",
    "import networkx as nx\n",
    "\n",
    "import xgboost as xgb\n",
    "\n",
    "tqdm.pandas()"
   ]
  },
  {
   "cell_type": "markdown",
   "id": "dc6ee9c1",
   "metadata": {},
   "source": [
    "### 1. Reading Data"
   ]
  },
  {
   "cell_type": "code",
   "execution_count": 2,
   "id": "f1ddad47",
   "metadata": {},
   "outputs": [
    {
     "name": "stdout",
     "output_type": "stream",
     "text": [
      "DiGraph with 1780722 nodes and 7550015 edges\n"
     ]
    }
   ],
   "source": [
    "if os.path.isfile('data/after_eda/train_pos_after_eda.csv'):\n",
    "    \n",
    "    train_graph = nx.read_edgelist('data/after_eda/train_pos_after_eda.csv', delimiter = ',',\n",
    "                                                       create_using=nx.DiGraph(),nodetype=int)\n",
    "    print(nx.info(train_graph))\n",
    "    \n",
    "else:\n",
    "    print('File is missing. Run previous cells OR download it from G-Drive')"
   ]
  },
  {
   "cell_type": "markdown",
   "id": "84ebed6a",
   "metadata": {},
   "source": [
    "### 2. Similarity measures"
   ]
  },
  {
   "cell_type": "markdown",
   "id": "6fbb36e8",
   "metadata": {},
   "source": [
    "#### 2.1 Jaccard Distance:\n",
    "http://www.statisticshowto.com/jaccard-index/\n",
    "\n",
    "\\begin{equation}\n",
    "j = \\frac{|X\\cap Y|}{|X \\cup Y|} \n",
    "\\end{equation}"
   ]
  },
  {
   "cell_type": "code",
   "execution_count": 3,
   "id": "15a1597a",
   "metadata": {},
   "outputs": [],
   "source": [
    "# For followees\n",
    "\n",
    "def jaccard_for_followees(a, b):\n",
    "    \n",
    "    try:\n",
    "        if len(set(train_graph.successors(a))) == 0  | len(set(train_graph.successors(b))) == 0:\n",
    "            return 0\n",
    "        sim = (len(set(train_graph.successors(a)).intersection(set(train_graph.successors(b)))))/\\\n",
    "                                (len(set(train_graph.successors(a)).union(set(train_graph.successors(b)))))\n",
    "    except:\n",
    "        \n",
    "        return 0\n",
    "    \n",
    "    return sim"
   ]
  },
  {
   "cell_type": "code",
   "execution_count": 4,
   "id": "95af431f",
   "metadata": {},
   "outputs": [],
   "source": [
    "# For followers\n",
    "\n",
    "def jaccard_for_followers(a,b):\n",
    "    \n",
    "    try:\n",
    "        if len(set(train_graph.predecessors(a))) == 0  | len(set(g.predecessors(b))) == 0:\n",
    "            return 0\n",
    "        sim = (len(set(train_graph.predecessors(a)).intersection(set(train_graph.predecessors(b)))))/\\\n",
    "                             (len(set(train_graph.predecessors(a)).union(set(train_graph.predecessors(b)))))\n",
    "        return sim\n",
    "    \n",
    "    except:\n",
    "        \n",
    "        return 0"
   ]
  },
  {
   "cell_type": "markdown",
   "id": "45a60a91",
   "metadata": {},
   "source": [
    "#### 2.2 Cosine distance\n",
    "\n",
    "\\begin{equation}\n",
    "CosineDistance = \\frac{|X\\cap Y|}{|X|\\cdot|Y|} \n",
    "\\end{equation}"
   ]
  },
  {
   "cell_type": "code",
   "execution_count": 5,
   "id": "289231ce",
   "metadata": {},
   "outputs": [],
   "source": [
    "# For followees\n",
    "\n",
    "def cosine_for_followees(a, b):\n",
    "    \n",
    "    try:\n",
    "        if len(set(train_graph.successors(a))) == 0  | len(set(train_graph.successors(b))) == 0:\n",
    "            return 0\n",
    "        \n",
    "        sim = (len(set(train_graph.successors(a)).intersection(set(train_graph.successors(b)))))/\\\n",
    "                    (math.sqrt(len(set(train_graph.successors(a)))*len((set(train_graph.successors(b))))))\n",
    "        return sim\n",
    "    \n",
    "    except:\n",
    "        \n",
    "        return 0"
   ]
  },
  {
   "cell_type": "code",
   "execution_count": 6,
   "id": "afd28790",
   "metadata": {},
   "outputs": [],
   "source": [
    "def cosine_for_followers(a,b):\n",
    "    \n",
    "    try:\n",
    "        \n",
    "        if len(set(train_graph.predecessors(a))) == 0  | len(set(train_graph.predecessors(b))) == 0:\n",
    "            return 0\n",
    "        \n",
    "        sim = (len(set(train_graph.predecessors(a)).intersection(set(train_graph.predecessors(b)))))/\\\n",
    "                 (math.sqrt(len(set(train_graph.predecessors(a))))*(len(set(train_graph.predecessors(b)))))\n",
    "        return sim\n",
    "    \n",
    "    except:\n",
    "        \n",
    "        return 0"
   ]
  },
  {
   "cell_type": "markdown",
   "id": "e53be2e2",
   "metadata": {},
   "source": [
    "#### 3. Ranking Measures\n",
    "https://networkx.github.io/documentation/networkx-1.10/reference/generated/networkx.algorithms.link_analysis.pagerank_alg.pagerank.html\n",
    "\n",
    "PageRank computes a ranking of the nodes in the graph G based on the structure of the incoming links.\n",
    "\n",
    "<img src='PageRanks-Example.jpg'>\n",
    "<!-- <img src='https://i.imgur.com/JMu2MuP.jpg'> -->\n",
    "\n",
    "Mathematical PageRanks for a simple network, expressed as percentages. (Google uses a logarithmic scale.) Page C has a higher PageRank than Page E, even though there are fewer links to C; the one link to C comes from an important page and hence is of high value. If web surfers who start on a random page have an 85% likelihood of choosing a random link from the page they are currently visiting, and a 15% likelihood of jumping to a page chosen at random from the entire web, they will reach Page E 8.1% of the time. <b>(The 15% likelihood of jumping to an arbitrary page corresponds to a damping factor of 85%.) Without damping, all web surfers would eventually end up on Pages A, B, or C, and all other pages would have PageRank zero. In the presence of damping, Page A effectively links to all pages in the web, even though it has no outgoing links of its own.</b>"
   ]
  },
  {
   "cell_type": "markdown",
   "id": "b1c8c55d",
   "metadata": {},
   "source": [
    "#### 3.1 Page Ranking\n",
    "\n",
    "https://en.wikipedia.org/wiki/PageRank\n"
   ]
  },
  {
   "cell_type": "code",
   "execution_count": 7,
   "id": "bb52f547",
   "metadata": {},
   "outputs": [],
   "source": [
    "if not os.path.isfile('data/fea_sample/page_rank.p'):\n",
    "    \n",
    "    pr = nx.pagerank(train_graph, alpha = 0.85)\n",
    "    pickle.dump(pr, open('data/fea_sample/page_rank.p', 'wb'))\n",
    "    \n",
    "else:\n",
    "    pr = pickle.load(open('data/fea_sample/page_rank.p', 'rb'))"
   ]
  },
  {
   "cell_type": "code",
   "execution_count": 8,
   "id": "e6736efb",
   "metadata": {
    "scrolled": true
   },
   "outputs": [
    {
     "name": "stdout",
     "output_type": "stream",
     "text": [
      "Min. Page Rank : 1.7e-07\n",
      "\n",
      "Max. Page Rank : 2.71e-05\n",
      "\n",
      "Mean Page Rank : 5.6e-07\n"
     ]
    }
   ],
   "source": [
    "mean_page = float(sum(pr.values())) / len(pr)\n",
    "\n",
    "print(f'Min. Page Rank : {round(pr[min(pr, key=pr.get)], 8)}')\n",
    "print(f'\\nMax. Page Rank : {round(pr[max(pr, key=pr.get)], 8)}')\n",
    "print(f'\\nMean Page Rank : {round(mean_page, 8)}')"
   ]
  },
  {
   "cell_type": "markdown",
   "id": "79aad1c9",
   "metadata": {},
   "source": [
    "### 4. Other Graph Features"
   ]
  },
  {
   "cell_type": "markdown",
   "id": "6c1f43e4",
   "metadata": {},
   "source": [
    "#### 4.1 Shortest path:\n",
    "Getting Shortest path between twoo nodes, if nodes have direct path i.e directly connected then we are removing that edge and calculating path. "
   ]
  },
  {
   "cell_type": "code",
   "execution_count": 9,
   "id": "6da69ac7",
   "metadata": {},
   "outputs": [],
   "source": [
    "#if has direct edge then deleting that edge and calculating shortest path\n",
    "\n",
    "def compute_shortest_path_length(a,b):\n",
    "    \n",
    "    p=-1\n",
    "    \n",
    "    try:\n",
    "        \n",
    "        if train_graph.has_edge(a,b):\n",
    "            \n",
    "            train_graph.remove_edge(a,b)\n",
    "            p= nx.shortest_path_length(train_graph,source=a,target=b)\n",
    "            train_graph.add_edge(a,b)\n",
    "            \n",
    "        else:\n",
    "            p= nx.shortest_path_length(train_graph,source=a,target=b)\n",
    "            \n",
    "        return p\n",
    "    \n",
    "    except:\n",
    "        \n",
    "        return -1"
   ]
  },
  {
   "cell_type": "markdown",
   "id": "7ba9724b",
   "metadata": {},
   "source": [
    "#### 4.2 Checking for same community"
   ]
  },
  {
   "cell_type": "code",
   "execution_count": 10,
   "id": "9a87f75b",
   "metadata": {},
   "outputs": [],
   "source": [
    "# Getting weekly connected edges from graph \n",
    "\n",
    "wcc = list(nx.weakly_connected_components(train_graph))\n",
    "\n",
    "def belongs_to_same_wcc(a, b):\n",
    "    \n",
    "    index = []\n",
    "    \n",
    "    if train_graph.has_edge(b, a):\n",
    "        return 1\n",
    "    \n",
    "    if train_graph.has_edge(a, b):\n",
    "        \n",
    "            for i in wcc:\n",
    "                \n",
    "                if a in i:\n",
    "                    index = i\n",
    "                    break\n",
    "                    \n",
    "            if (b in index):\n",
    "                train_graph.remove_edge(a, b)\n",
    "                \n",
    "                if compute_shortest_path_length(a, b) == -1:\n",
    "                    train_graph.add_edge(a, b)\n",
    "                    return 0\n",
    "                \n",
    "                else:\n",
    "                    train_graph.add_edge(a, b)\n",
    "                    return 1\n",
    "                \n",
    "            else:\n",
    "                return 0\n",
    "            \n",
    "    else:\n",
    "            for i in wcc:\n",
    "                \n",
    "                if a in i:\n",
    "                    index = i\n",
    "                    break\n",
    "                    \n",
    "            if(b in index):\n",
    "                return 1\n",
    "            \n",
    "            else:\n",
    "                \n",
    "                return 0"
   ]
  },
  {
   "cell_type": "markdown",
   "id": "1653c6dd",
   "metadata": {},
   "source": [
    "#### 4.3 Adamic/Adar Index:\n",
    "Adamic/Adar measures is defined as inverted sum of degrees of common neighbours for given two vertices.\n",
    "$$A(x,y)=\\sum_{u \\in N(x) \\cap N(y)}\\frac{1}{log(|N(u)|)}$$"
   ]
  },
  {
   "cell_type": "code",
   "execution_count": 11,
   "id": "ae6e8efc",
   "metadata": {},
   "outputs": [],
   "source": [
    "# Adar index\n",
    "\n",
    "def calc_adar_in(a, b):\n",
    "    \n",
    "    sum = 0\n",
    "    \n",
    "    try:\n",
    "        n = list(set(train_graph.successors(a)).intersection(set(train_graph.successors(b))))\n",
    "        \n",
    "        if len(n)!= 0:\n",
    "            for i in n:\n",
    "                sum = sum + (1/np.log10(len(list(train_graph.predecessors(i)))))\n",
    "                \n",
    "            return sum\n",
    "        \n",
    "        else:\n",
    "            return 0\n",
    "        \n",
    "    except:\n",
    "        return 0"
   ]
  },
  {
   "cell_type": "markdown",
   "id": "789d1815",
   "metadata": {},
   "source": [
    "#### 4.4 Is persion was following back:"
   ]
  },
  {
   "cell_type": "code",
   "execution_count": 12,
   "id": "37514792",
   "metadata": {},
   "outputs": [],
   "source": [
    "def follows_back(a, b):\n",
    "    \n",
    "    if train_graph.has_edge(b, a):\n",
    "        \n",
    "        return 1\n",
    "    else:\n",
    "        \n",
    "        return 0"
   ]
  },
  {
   "cell_type": "markdown",
   "id": "a30e0cd1",
   "metadata": {},
   "source": [
    "#### 4.5 Katz Centrality:\n",
    "https://en.wikipedia.org/wiki/Katz_centrality\n",
    "\n",
    "https://www.geeksforgeeks.org/katz-centrality-centrality-measure/\n",
    " Katz centrality computes the centrality for a node \n",
    "    based on the centrality of its neighbors. It is a \n",
    "    generalization of the eigenvector centrality. The\n",
    "    Katz centrality for node `i` is\n",
    " \n",
    "$$x_i = \\alpha \\sum_{j} A_{ij} x_j + \\beta,$$\n",
    "where `A` is the adjacency matrix of the graph G \n",
    "with eigenvalues $$\\lambda$$.\n",
    "\n",
    "The parameter $$\\beta$$ controls the initial centrality and \n",
    "\n",
    "$$\\alpha < \\frac{1}{\\lambda_{max}}.$$"
   ]
  },
  {
   "cell_type": "code",
   "execution_count": 13,
   "id": "d6582135",
   "metadata": {},
   "outputs": [],
   "source": [
    "if not os.path.isfile('data/fea_sample/katz.p'):\n",
    "    \n",
    "    katz = nx.katz.katz_centrality(train_graph, alpha = 0.005, beta = 1)\n",
    "    pickle.dump(katz, open('data/fea_sample/katz.p', 'wb'))\n",
    "    \n",
    "else:\n",
    "    katz = pickle.load(open('data/fea_sample/katz.p', 'rb'))"
   ]
  },
  {
   "cell_type": "code",
   "execution_count": 14,
   "id": "59c25ed1",
   "metadata": {},
   "outputs": [
    {
     "name": "stdout",
     "output_type": "stream",
     "text": [
      "Min. katz score : 0.00073135\n",
      "\n",
      "Max. katz score : 0.00339455\n",
      "\n",
      "Mean katz score : 0.00074838\n"
     ]
    }
   ],
   "source": [
    "mean_katz = float(sum(katz.values())) / len(katz)\n",
    "\n",
    "print(f'Min. katz score : {round(katz[min(katz, key=katz.get)], 8)}')\n",
    "print(f'\\nMax. katz score : {round(katz[max(katz, key=katz.get)], 8)}')\n",
    "print(f'\\nMean katz score : {round(mean_katz, 8)}')"
   ]
  },
  {
   "cell_type": "markdown",
   "id": "c9facfd1",
   "metadata": {},
   "source": [
    "#### 4.6 Hits Score\n",
    "The HITS algorithm computes two numbers for a node. Authorities estimates the node value based on the incoming links. Hubs estimates the node value based on outgoing links.\n",
    "\n",
    "https://en.wikipedia.org/wiki/HITS_algorithm"
   ]
  },
  {
   "cell_type": "code",
   "execution_count": 15,
   "id": "c14c6291",
   "metadata": {},
   "outputs": [],
   "source": [
    "if not os.path.isfile('data/fea_sample/hits.p'):\n",
    "    \n",
    "    hits = nx.hits(train_graph, max_iter = 100, tol = 1e-08, nstart = None, normalized = True)\n",
    "    pickle.dump(hits, open('data/fea_sample/hits.p', 'wb'))\n",
    "    \n",
    "else:\n",
    "    hits = pickle.load(open('data/fea_sample/hits.p', 'rb'))"
   ]
  },
  {
   "cell_type": "code",
   "execution_count": 16,
   "id": "b0553d4e",
   "metadata": {},
   "outputs": [
    {
     "name": "stdout",
     "output_type": "stream",
     "text": [
      "Min. hits score : -0.0\n",
      "\n",
      "Max. hits score : 0.00486865)\n",
      "\n",
      "Mean hits score : 5.6e-07\n"
     ]
    }
   ],
   "source": [
    "mean_hits = float(sum(hits[0].values())) / len(hits[0])\n",
    "\n",
    "print(f'Min. hits score : {round(hits[0][min(hits[0], key=hits[0].get)], 8)}')\n",
    "print(f'\\nMax. hits score : {round(hits[0][max(hits[0], key=hits[0].get)], 8)})')\n",
    "print(f'\\nMean hits score : {round(mean_hits, 8)}')"
   ]
  },
  {
   "cell_type": "markdown",
   "id": "d7d37585",
   "metadata": {},
   "source": [
    "### 5. Featurization"
   ]
  },
  {
   "cell_type": "markdown",
   "id": "2ca97a06",
   "metadata": {},
   "source": [
    "#### 5. 1 Reading a sample of Data from both train and test"
   ]
  },
  {
   "cell_type": "code",
   "execution_count": 17,
   "id": "c7a02d27",
   "metadata": {},
   "outputs": [],
   "source": [
    "%%bash\n",
    "\n",
    "cp data/after_eda/train_after_eda.csv train_after_eda.csv\n",
    "cp data/after_eda/test_after_eda.csv test_after_eda.csv\n",
    "\n",
    "cp data/train_y.csv train_y.csv\n",
    "cp data/test_y.csv test_y.csv"
   ]
  },
  {
   "cell_type": "code",
   "execution_count": 18,
   "id": "d07854c4",
   "metadata": {},
   "outputs": [],
   "source": [
    "# https://stackoverflow.com/a/22259008/4084039\n",
    "\n",
    "if os.path.isfile('train_after_eda.csv'):\n",
    "    \n",
    "    filename = \"train_after_eda.csv\"\n",
    "    \n",
    "    '''\n",
    "    you uncomment this line, if you dont know the lentgh of the file name\n",
    "    here we have hardcoded the number of lines as 15100030\n",
    "    '''\n",
    "    \n",
    "#     n_train = sum(1 for line in open(filename)) # Number of records in file (excludes header)\n",
    "    \n",
    "    n_train =  15100028\n",
    "    s = 100000 #desired sample size\n",
    "    \n",
    "    skip_train = sorted(random.sample(range(1, n_train + 1), n_train - s))"
   ]
  },
  {
   "cell_type": "code",
   "execution_count": 19,
   "id": "15eb9d0a",
   "metadata": {},
   "outputs": [],
   "source": [
    "# https://stackoverflow.com/a/22259008/4084039\n",
    "\n",
    "if os.path.isfile('train_after_eda.csv'):\n",
    "    \n",
    "    filename = \"test_after_eda.csv\"\n",
    "    \n",
    "    '''\n",
    "    you uncomment this line, if you dont know the lentgh of the file name\n",
    "    here we have hardcoded the number of lines as 3775008\n",
    "    '''\n",
    "    \n",
    "#     n_test = sum(1 for line in open(filename)) # Number of records in file (excludes header)\n",
    "    \n",
    "    n_test = 3775006\n",
    "    s = 50000 #desired sample size\n",
    "    \n",
    "    skip_test = sorted(random.sample(range(1, n_test + 1), n_test - s))"
   ]
  },
  {
   "cell_type": "code",
   "execution_count": 20,
   "id": "41654d41",
   "metadata": {},
   "outputs": [
    {
     "name": "stdout",
     "output_type": "stream",
     "text": [
      "Number of rows in the train data file\t\t\t\t: 15100028\n",
      "\n",
      "Number of rows we are going to elimiate in train data are\t: 15000028\n",
      "\n",
      "Number of rows in the test data file\t\t\t\t: 3775006\n",
      "\n",
      "Number of rows we are going to elimiate in test data are\t: 3725006\n"
     ]
    }
   ],
   "source": [
    "print(f'Number of rows in the train data file\\t\\t\\t\\t: {n_train}')\n",
    "print(f'\\nNumber of rows we are going to elimiate in train data are\\t: {len(skip_train)}')\n",
    "print(f'\\nNumber of rows in the test data file\\t\\t\\t\\t: {n_test}')\n",
    "print(f'\\nNumber of rows we are going to elimiate in test data are\\t: {len(skip_test)}')"
   ]
  },
  {
   "cell_type": "code",
   "execution_count": 21,
   "id": "3bd2303d",
   "metadata": {},
   "outputs": [
    {
     "name": "stdout",
     "output_type": "stream",
     "text": [
      "Our train matrix size : (100002, 3)\n"
     ]
    },
    {
     "data": {
      "text/html": [
       "<div>\n",
       "<style scoped>\n",
       "    .dataframe tbody tr th:only-of-type {\n",
       "        vertical-align: middle;\n",
       "    }\n",
       "\n",
       "    .dataframe tbody tr th {\n",
       "        vertical-align: top;\n",
       "    }\n",
       "\n",
       "    .dataframe thead th {\n",
       "        text-align: right;\n",
       "    }\n",
       "</style>\n",
       "<table border=\"1\" class=\"dataframe\">\n",
       "  <thead>\n",
       "    <tr style=\"text-align: right;\">\n",
       "      <th></th>\n",
       "      <th>source_node</th>\n",
       "      <th>destination_node</th>\n",
       "      <th>indicator_link</th>\n",
       "    </tr>\n",
       "  </thead>\n",
       "  <tbody>\n",
       "    <tr>\n",
       "      <th>0</th>\n",
       "      <td>273084</td>\n",
       "      <td>1505602</td>\n",
       "      <td>1</td>\n",
       "    </tr>\n",
       "    <tr>\n",
       "      <th>1</th>\n",
       "      <td>854944</td>\n",
       "      <td>470394</td>\n",
       "      <td>1</td>\n",
       "    </tr>\n",
       "  </tbody>\n",
       "</table>\n",
       "</div>"
      ],
      "text/plain": [
       "   source_node  destination_node  indicator_link\n",
       "0       273084           1505602               1\n",
       "1       854944            470394               1"
      ]
     },
     "execution_count": 21,
     "metadata": {},
     "output_type": "execute_result"
    }
   ],
   "source": [
    "df_final_train = pd.read_csv('train_after_eda.csv', skiprows = skip_train,\n",
    "                                                            names = ['source_node', 'destination_node'])\n",
    "df_final_train['indicator_link'] = pd.read_csv('train_y.csv', skiprows = skip_train,\n",
    "                                                            names = ['indicator_link'])\n",
    "print(f'Our train matrix size : {df_final_train.shape}')\n",
    "df_final_train.head(3)"
   ]
  },
  {
   "cell_type": "code",
   "execution_count": 22,
   "id": "8c68c98c",
   "metadata": {
    "scrolled": true
   },
   "outputs": [
    {
     "name": "stdout",
     "output_type": "stream",
     "text": [
      "Our train matrix size : (25076, 3)\n"
     ]
    },
    {
     "data": {
      "text/html": [
       "<div>\n",
       "<style scoped>\n",
       "    .dataframe tbody tr th:only-of-type {\n",
       "        vertical-align: middle;\n",
       "    }\n",
       "\n",
       "    .dataframe tbody tr th {\n",
       "        vertical-align: top;\n",
       "    }\n",
       "\n",
       "    .dataframe thead th {\n",
       "        text-align: right;\n",
       "    }\n",
       "</style>\n",
       "<table border=\"1\" class=\"dataframe\">\n",
       "  <thead>\n",
       "    <tr style=\"text-align: right;\">\n",
       "      <th></th>\n",
       "      <th>source_node</th>\n",
       "      <th>destination_node</th>\n",
       "      <th>indicator_link</th>\n",
       "    </tr>\n",
       "  </thead>\n",
       "  <tbody>\n",
       "    <tr>\n",
       "      <th>0</th>\n",
       "      <td>848424</td>\n",
       "      <td>784690</td>\n",
       "      <td>1</td>\n",
       "    </tr>\n",
       "    <tr>\n",
       "      <th>1</th>\n",
       "      <td>505449</td>\n",
       "      <td>1257640</td>\n",
       "      <td>1</td>\n",
       "    </tr>\n",
       "  </tbody>\n",
       "</table>\n",
       "</div>"
      ],
      "text/plain": [
       "   source_node  destination_node  indicator_link\n",
       "0       848424            784690               1\n",
       "1       505449           1257640               1"
      ]
     },
     "execution_count": 22,
     "metadata": {},
     "output_type": "execute_result"
    }
   ],
   "source": [
    "df_final_test = pd.read_csv('test_after_eda.csv', skiprows = skip_train,\n",
    "                                                            names = ['source_node', 'destination_node'])\n",
    "df_final_test['indicator_link'] = pd.read_csv('test_y.csv', skiprows=skip_train,\n",
    "                                                            names = ['indicator_link'])\n",
    "print(f'Our train matrix size : {df_final_test.shape}')\n",
    "\n",
    "df_final_test.head(3)"
   ]
  },
  {
   "cell_type": "markdown",
   "id": "5e4922fc",
   "metadata": {},
   "source": [
    "## 5.2 Adding a set of features\n",
    "\n",
    "__Creating these each features for both train and test data points__\n",
    "<ol>\n",
    "<li>jaccard_followers</li>\n",
    "<li>jaccard_followees</li>\n",
    "<li>cosine_followers</li>\n",
    "<li>cosine_followees</li>\n",
    "<li>num_followers_s</li>\n",
    "<li>num_followees_s</li>\n",
    "<li>num_followers_d</li>\n",
    "<li>num_followees_d</li>\n",
    "<li>inter_followers</li>\n",
    "<li>inter_followees</li>\n",
    "</ol>"
   ]
  },
  {
   "cell_type": "code",
   "execution_count": 23,
   "id": "be13dbf2",
   "metadata": {},
   "outputs": [],
   "source": [
    "def compute_features_stage1(df_final):\n",
    "    \n",
    "    #calculating no of followers followees for source and destination\n",
    "    #calculating intersection of followers and followees for source and destination\n",
    "    \n",
    "    num_followers_s=[]\n",
    "    num_followees_s=[]\n",
    "    num_followers_d=[]\n",
    "    num_followees_d=[]\n",
    "    inter_followers=[]\n",
    "    inter_followees=[]\n",
    "    \n",
    "    for i,row in df_final.iterrows():\n",
    "        \n",
    "        try:\n",
    "            s1=set(train_graph.predecessors(row['source_node']))\n",
    "            s2=set(train_graph.successors(row['source_node']))\n",
    "            \n",
    "        except:\n",
    "            s1 = set()\n",
    "            s2 = set()\n",
    "            \n",
    "        try:\n",
    "            d1=set(train_graph.predecessors(row['destination_node']))\n",
    "            d2=set(train_graph.successors(row['destination_node']))\n",
    "            \n",
    "        except:\n",
    "            d1 = set()\n",
    "            d2 = set()\n",
    "            \n",
    "        num_followers_s.append(len(s1))\n",
    "        num_followees_s.append(len(s2))\n",
    "\n",
    "        num_followers_d.append(len(d1))\n",
    "        num_followees_d.append(len(d2))\n",
    "\n",
    "        inter_followers.append(len(s1.intersection(d1)))\n",
    "        inter_followees.append(len(s2.intersection(d2)))\n",
    "    \n",
    "    return  num_followers_s,num_followees_s,num_followers_d,num_followees_d,inter_followers,inter_followees"
   ]
  },
  {
   "cell_type": "code",
   "execution_count": 24,
   "id": "6a288dcf",
   "metadata": {},
   "outputs": [],
   "source": [
    "#mapping jaccrd followees to train and test data\n",
    "df_final_train['jaccard_followees'] = df_final_train.apply(lambda row:\n",
    "                    jaccard_for_followees(row['source_node'],row['destination_node']),axis=1)\n",
    "\n",
    "df_final_test['jaccard_followees'] = df_final_test.apply(lambda row:\n",
    "                    jaccard_for_followees(row['source_node'],row['destination_node']),axis=1)\n",
    "\n",
    "\n",
    "#mapping jaccrd followers to train and test data\n",
    "df_final_train['jaccard_followers'] = df_final_train.apply(lambda row:\n",
    "                    jaccard_for_followers(row['source_node'],row['destination_node']),axis=1)\n",
    "\n",
    "df_final_test['jaccard_followers'] = df_final_test.apply(lambda row:\n",
    "                    jaccard_for_followers(row['source_node'],row['destination_node']),axis=1)\n",
    "    \n",
    "    \n",
    "#mapping cosine_followees to train and test data\n",
    "df_final_train['cosine_followees'] = df_final_train.apply(lambda row:\n",
    "                    cosine_for_followees(row['source_node'],row['destination_node']),axis=1)\n",
    "\n",
    "df_final_test['cosine_followees'] = df_final_test.apply(lambda row:\n",
    "                    cosine_for_followees(row['source_node'],row['destination_node']),axis=1)\n",
    "\n",
    "\n",
    "#mapping cosine_followers to train and test data\n",
    "df_final_train['cosine_followers'] = df_final_train.apply(lambda row:\n",
    "                    cosine_for_followers(row['source_node'],row['destination_node']),axis=1)\n",
    "\n",
    "df_final_test['cosine_followers'] = df_final_test.apply(lambda row:\n",
    "                    cosine_for_followers(row['source_node'],row['destination_node']),axis=1)"
   ]
  },
  {
   "cell_type": "code",
   "execution_count": 25,
   "id": "d9b65c48",
   "metadata": {},
   "outputs": [],
   "source": [
    "if not os.path.isfile('data/fea_sample/storage_sample_stage1.h5'):\n",
    "    \n",
    "    df_final_train['num_followers_s'], df_final_train['num_followers_d'], \\\n",
    "    df_final_train['num_followees_s'], df_final_train['num_followees_d'], \\\n",
    "    df_final_train['inter_followers'], df_final_train['inter_followees'] \\\n",
    "                                                                = compute_features_stage1(df_final_train)\n",
    "    \n",
    "    df_final_test['num_followers_s'], df_final_test['num_followers_d'], \\\n",
    "    df_final_test['num_followees_s'], df_final_test['num_followees_d'], \\\n",
    "    df_final_test['inter_followers'], df_final_test['inter_followees'] \\\n",
    "                                                                = compute_features_stage1(df_final_test)\n",
    "    \n",
    "    hdf = pd.HDFStore('data/fea_sample/storage_sample_stage1.h5')\n",
    "    \n",
    "    hdf.put('train_df', df_final_train, format ='table', data_columns = True)\n",
    "    hdf.put('test_df', df_final_test, format ='table', data_columns = True)\n",
    "    hdf.close()\n",
    "    \n",
    "else:\n",
    "    df_final_train = pd.read_hdf('data/fea_sample/storage_sample_stage1.h5', 'train_df', mode = 'r')\n",
    "    df_final_test = pd.read_hdf('data/fea_sample/storage_sample_stage1.h5', 'test_df', mode = 'r')"
   ]
  },
  {
   "cell_type": "code",
   "execution_count": 26,
   "id": "85c4a677",
   "metadata": {},
   "outputs": [
    {
     "data": {
      "text/html": [
       "<div>\n",
       "<style scoped>\n",
       "    .dataframe tbody tr th:only-of-type {\n",
       "        vertical-align: middle;\n",
       "    }\n",
       "\n",
       "    .dataframe tbody tr th {\n",
       "        vertical-align: top;\n",
       "    }\n",
       "\n",
       "    .dataframe thead th {\n",
       "        text-align: right;\n",
       "    }\n",
       "</style>\n",
       "<table border=\"1\" class=\"dataframe\">\n",
       "  <thead>\n",
       "    <tr style=\"text-align: right;\">\n",
       "      <th></th>\n",
       "      <th>source_node</th>\n",
       "      <th>destination_node</th>\n",
       "      <th>indicator_link</th>\n",
       "      <th>jaccard_followees</th>\n",
       "      <th>jaccard_followers</th>\n",
       "      <th>cosine_followees</th>\n",
       "      <th>cosine_followers</th>\n",
       "      <th>num_followers_s</th>\n",
       "      <th>num_followers_d</th>\n",
       "      <th>num_followees_s</th>\n",
       "      <th>num_followees_d</th>\n",
       "      <th>inter_followers</th>\n",
       "      <th>inter_followees</th>\n",
       "    </tr>\n",
       "  </thead>\n",
       "  <tbody>\n",
       "    <tr>\n",
       "      <th>0</th>\n",
       "      <td>273084</td>\n",
       "      <td>1505602</td>\n",
       "      <td>1</td>\n",
       "      <td>0.000000</td>\n",
       "      <td>0</td>\n",
       "      <td>0</td>\n",
       "      <td>0</td>\n",
       "      <td>11</td>\n",
       "      <td>15</td>\n",
       "      <td>6</td>\n",
       "      <td>8</td>\n",
       "      <td>0</td>\n",
       "      <td>0</td>\n",
       "    </tr>\n",
       "    <tr>\n",
       "      <th>1</th>\n",
       "      <td>854944</td>\n",
       "      <td>470394</td>\n",
       "      <td>1</td>\n",
       "      <td>0.000000</td>\n",
       "      <td>0</td>\n",
       "      <td>0</td>\n",
       "      <td>0</td>\n",
       "      <td>1</td>\n",
       "      <td>1</td>\n",
       "      <td>27</td>\n",
       "      <td>24</td>\n",
       "      <td>1</td>\n",
       "      <td>0</td>\n",
       "    </tr>\n",
       "    <tr>\n",
       "      <th>2</th>\n",
       "      <td>1535925</td>\n",
       "      <td>686248</td>\n",
       "      <td>1</td>\n",
       "      <td>0.000000</td>\n",
       "      <td>0</td>\n",
       "      <td>0</td>\n",
       "      <td>0</td>\n",
       "      <td>3</td>\n",
       "      <td>7</td>\n",
       "      <td>5</td>\n",
       "      <td>20</td>\n",
       "      <td>0</td>\n",
       "      <td>0</td>\n",
       "    </tr>\n",
       "    <tr>\n",
       "      <th>3</th>\n",
       "      <td>1334753</td>\n",
       "      <td>1725849</td>\n",
       "      <td>1</td>\n",
       "      <td>0.147059</td>\n",
       "      <td>0</td>\n",
       "      <td>0</td>\n",
       "      <td>0</td>\n",
       "      <td>22</td>\n",
       "      <td>27</td>\n",
       "      <td>15</td>\n",
       "      <td>12</td>\n",
       "      <td>4</td>\n",
       "      <td>5</td>\n",
       "    </tr>\n",
       "    <tr>\n",
       "      <th>4</th>\n",
       "      <td>1397410</td>\n",
       "      <td>90479</td>\n",
       "      <td>1</td>\n",
       "      <td>0.041667</td>\n",
       "      <td>0</td>\n",
       "      <td>0</td>\n",
       "      <td>0</td>\n",
       "      <td>9</td>\n",
       "      <td>10</td>\n",
       "      <td>18</td>\n",
       "      <td>15</td>\n",
       "      <td>5</td>\n",
       "      <td>1</td>\n",
       "    </tr>\n",
       "  </tbody>\n",
       "</table>\n",
       "</div>"
      ],
      "text/plain": [
       "   source_node  destination_node  indicator_link  jaccard_followees  \\\n",
       "0       273084           1505602               1           0.000000   \n",
       "1       854944            470394               1           0.000000   \n",
       "2      1535925            686248               1           0.000000   \n",
       "3      1334753           1725849               1           0.147059   \n",
       "4      1397410             90479               1           0.041667   \n",
       "\n",
       "   jaccard_followers  cosine_followees  cosine_followers  num_followers_s  \\\n",
       "0                  0                 0                 0               11   \n",
       "1                  0                 0                 0                1   \n",
       "2                  0                 0                 0                3   \n",
       "3                  0                 0                 0               22   \n",
       "4                  0                 0                 0                9   \n",
       "\n",
       "   num_followers_d  num_followees_s  num_followees_d  inter_followers  \\\n",
       "0               15                6                8                0   \n",
       "1                1               27               24                1   \n",
       "2                7                5               20                0   \n",
       "3               27               15               12                4   \n",
       "4               10               18               15                5   \n",
       "\n",
       "   inter_followees  \n",
       "0                0  \n",
       "1                0  \n",
       "2                0  \n",
       "3                5  \n",
       "4                1  "
      ]
     },
     "execution_count": 26,
     "metadata": {},
     "output_type": "execute_result"
    }
   ],
   "source": [
    "df_final_train.head(3)"
   ]
  },
  {
   "cell_type": "markdown",
   "id": "adea3a01",
   "metadata": {},
   "source": [
    "#### 5.3 Adding new set of features\n",
    "\n",
    "__we will create these each of these features for both train and test data points__\n",
    "<ol>\n",
    "<li>adar index</li>\n",
    "<li>is following back</li>\n",
    "<li>belongs to same weakly connect components</li>\n",
    "<li>shortest path between source and destination</li>\n",
    "</ol>"
   ]
  },
  {
   "cell_type": "code",
   "execution_count": 27,
   "id": "112b95c9",
   "metadata": {},
   "outputs": [],
   "source": [
    "if not os.path.isfile('data/fea_sample/storage_sample_stage2.h5'):\n",
    "    \n",
    "    #mapping adar index on train\n",
    "    df_final_train['adar_index'] = df_final_train.apply(lambda row: \n",
    "                                    calc_adar_in(row['source_node'], row['destination_node']), axis = 1)\n",
    "    \n",
    "    #mapping adar index on test\n",
    "    df_final_test['adar_index'] = df_final_test.apply(lambda row:\n",
    "                                    calc_adar_in(row['source_node'], row['destination_node']), axis = 1)\n",
    "\n",
    "    #---------------------------------------------------------------------------------------------------\n",
    "    \n",
    "    #mapping followback or not on train\n",
    "    df_final_train['follows_back'] = df_final_train.apply(lambda row:\n",
    "                                    follows_back(row['source_node'], row['destination_node']), axis = 1)\n",
    "\n",
    "    #mapping followback or not on test\n",
    "    df_final_test['follows_back'] = df_final_test.apply(lambda row:\n",
    "                                    follows_back(row['source_node'], row['destination_node']), axis = 1)\n",
    "\n",
    "    #---------------------------------------------------------------------------------------------------\n",
    "    \n",
    "    #mapping same component of wcc or not on train\n",
    "    df_final_train['same_comp'] = df_final_train.apply(lambda row:\n",
    "                            belongs_to_same_wcc(row['source_node'], row['destination_node']), axis = 1)\n",
    "\n",
    "    ##mapping same component of wcc or not on train\n",
    "    df_final_test['same_comp'] = df_final_test.apply(lambda row:\n",
    "                            belongs_to_same_wcc(row['source_node'], row['destination_node']), axis = 1)\n",
    "    \n",
    "    #---------------------------------------------------------------------------------------------------\n",
    "    \n",
    "    #mapping shortest path on train \n",
    "    df_final_train['shortest_path'] = df_final_train.apply(lambda row:\n",
    "                    compute_shortest_path_length(row['source_node'], row['destination_node']), axis = 1)\n",
    "    #mapping shortest path on test\n",
    "    df_final_test['shortest_path'] = df_final_test.apply(lambda row:\n",
    "                    compute_shortest_path_length(row['source_node'], row['destination_node']), axis = 1)\n",
    "\n",
    "    \n",
    "    hdf = pd.HDFStore('data/fea_sample/storage_sample_stage2.h5')\n",
    "    \n",
    "    hdf.put('train_df', df_final_train, format = 'table', data_columns = True)\n",
    "    hdf.put('test_df', df_final_test, format = 'table', data_columns = True)\n",
    "    \n",
    "    hdf.close()\n",
    "    \n",
    "else:\n",
    "    \n",
    "    df_final_train = pd.read_hdf('data/fea_sample/storage_sample_stage2.h5', 'train_df', mode = 'r')\n",
    "    df_final_test = pd.read_hdf('data/fea_sample/storage_sample_stage2.h5', 'test_df', mode = 'r')"
   ]
  },
  {
   "cell_type": "code",
   "execution_count": 28,
   "id": "5d9b2ef5",
   "metadata": {},
   "outputs": [
    {
     "data": {
      "text/html": [
       "<div>\n",
       "<style scoped>\n",
       "    .dataframe tbody tr th:only-of-type {\n",
       "        vertical-align: middle;\n",
       "    }\n",
       "\n",
       "    .dataframe tbody tr th {\n",
       "        vertical-align: top;\n",
       "    }\n",
       "\n",
       "    .dataframe thead th {\n",
       "        text-align: right;\n",
       "    }\n",
       "</style>\n",
       "<table border=\"1\" class=\"dataframe\">\n",
       "  <thead>\n",
       "    <tr style=\"text-align: right;\">\n",
       "      <th></th>\n",
       "      <th>source_node</th>\n",
       "      <th>destination_node</th>\n",
       "      <th>indicator_link</th>\n",
       "      <th>jaccard_followees</th>\n",
       "      <th>jaccard_followers</th>\n",
       "      <th>cosine_followees</th>\n",
       "      <th>cosine_followers</th>\n",
       "      <th>num_followers_s</th>\n",
       "      <th>num_followers_d</th>\n",
       "      <th>num_followees_s</th>\n",
       "      <th>num_followees_d</th>\n",
       "      <th>inter_followers</th>\n",
       "      <th>inter_followees</th>\n",
       "      <th>adar_index</th>\n",
       "      <th>follows_back</th>\n",
       "      <th>same_comp</th>\n",
       "      <th>shortest_path</th>\n",
       "    </tr>\n",
       "  </thead>\n",
       "  <tbody>\n",
       "    <tr>\n",
       "      <th>0</th>\n",
       "      <td>273084</td>\n",
       "      <td>1505602</td>\n",
       "      <td>1</td>\n",
       "      <td>0.000000</td>\n",
       "      <td>0</td>\n",
       "      <td>0</td>\n",
       "      <td>0</td>\n",
       "      <td>11</td>\n",
       "      <td>15</td>\n",
       "      <td>6</td>\n",
       "      <td>8</td>\n",
       "      <td>0</td>\n",
       "      <td>0</td>\n",
       "      <td>0.000000</td>\n",
       "      <td>0</td>\n",
       "      <td>1</td>\n",
       "      <td>4</td>\n",
       "    </tr>\n",
       "    <tr>\n",
       "      <th>1</th>\n",
       "      <td>854944</td>\n",
       "      <td>470394</td>\n",
       "      <td>1</td>\n",
       "      <td>0.000000</td>\n",
       "      <td>0</td>\n",
       "      <td>0</td>\n",
       "      <td>0</td>\n",
       "      <td>1</td>\n",
       "      <td>1</td>\n",
       "      <td>27</td>\n",
       "      <td>24</td>\n",
       "      <td>1</td>\n",
       "      <td>0</td>\n",
       "      <td>0.000000</td>\n",
       "      <td>0</td>\n",
       "      <td>0</td>\n",
       "      <td>-1</td>\n",
       "    </tr>\n",
       "    <tr>\n",
       "      <th>2</th>\n",
       "      <td>1535925</td>\n",
       "      <td>686248</td>\n",
       "      <td>1</td>\n",
       "      <td>0.000000</td>\n",
       "      <td>0</td>\n",
       "      <td>0</td>\n",
       "      <td>0</td>\n",
       "      <td>3</td>\n",
       "      <td>7</td>\n",
       "      <td>5</td>\n",
       "      <td>20</td>\n",
       "      <td>0</td>\n",
       "      <td>0</td>\n",
       "      <td>0.000000</td>\n",
       "      <td>0</td>\n",
       "      <td>1</td>\n",
       "      <td>5</td>\n",
       "    </tr>\n",
       "    <tr>\n",
       "      <th>3</th>\n",
       "      <td>1334753</td>\n",
       "      <td>1725849</td>\n",
       "      <td>1</td>\n",
       "      <td>0.147059</td>\n",
       "      <td>0</td>\n",
       "      <td>0</td>\n",
       "      <td>0</td>\n",
       "      <td>22</td>\n",
       "      <td>27</td>\n",
       "      <td>15</td>\n",
       "      <td>12</td>\n",
       "      <td>4</td>\n",
       "      <td>5</td>\n",
       "      <td>3.717575</td>\n",
       "      <td>1</td>\n",
       "      <td>1</td>\n",
       "      <td>2</td>\n",
       "    </tr>\n",
       "    <tr>\n",
       "      <th>4</th>\n",
       "      <td>1397410</td>\n",
       "      <td>90479</td>\n",
       "      <td>1</td>\n",
       "      <td>0.041667</td>\n",
       "      <td>0</td>\n",
       "      <td>0</td>\n",
       "      <td>0</td>\n",
       "      <td>9</td>\n",
       "      <td>10</td>\n",
       "      <td>18</td>\n",
       "      <td>15</td>\n",
       "      <td>5</td>\n",
       "      <td>1</td>\n",
       "      <td>0.724527</td>\n",
       "      <td>1</td>\n",
       "      <td>1</td>\n",
       "      <td>2</td>\n",
       "    </tr>\n",
       "  </tbody>\n",
       "</table>\n",
       "</div>"
      ],
      "text/plain": [
       "   source_node  destination_node  indicator_link  jaccard_followees  \\\n",
       "0       273084           1505602               1           0.000000   \n",
       "1       854944            470394               1           0.000000   \n",
       "2      1535925            686248               1           0.000000   \n",
       "3      1334753           1725849               1           0.147059   \n",
       "4      1397410             90479               1           0.041667   \n",
       "\n",
       "   jaccard_followers  cosine_followees  cosine_followers  num_followers_s  \\\n",
       "0                  0                 0                 0               11   \n",
       "1                  0                 0                 0                1   \n",
       "2                  0                 0                 0                3   \n",
       "3                  0                 0                 0               22   \n",
       "4                  0                 0                 0                9   \n",
       "\n",
       "   num_followers_d  num_followees_s  num_followees_d  inter_followers  \\\n",
       "0               15                6                8                0   \n",
       "1                1               27               24                1   \n",
       "2                7                5               20                0   \n",
       "3               27               15               12                4   \n",
       "4               10               18               15                5   \n",
       "\n",
       "   inter_followees  adar_index  follows_back  same_comp  shortest_path  \n",
       "0                0    0.000000             0          1              4  \n",
       "1                0    0.000000             0          0             -1  \n",
       "2                0    0.000000             0          1              5  \n",
       "3                5    3.717575             1          1              2  \n",
       "4                1    0.724527             1          1              2  "
      ]
     },
     "execution_count": 28,
     "metadata": {},
     "output_type": "execute_result"
    }
   ],
   "source": [
    "df_final_train.head(3)"
   ]
  },
  {
   "cell_type": "markdown",
   "id": "3419c40d",
   "metadata": {},
   "source": [
    "#### 5.4 Adding new set of features\n",
    "\n",
    "__we will create these each of these features for both train and test data points__\n",
    "<ol>\n",
    "<li>Weight Features\n",
    "    <ul>\n",
    "        <li>weight of incoming edges</li>\n",
    "        <li>weight of outgoing edges</li>\n",
    "        <li>weight of incoming edges + weight of outgoing edges</li>\n",
    "        <li>weight of incoming edges * weight of outgoing edges</li>\n",
    "        <li>2*weight of incoming edges + weight of outgoing edges</li>\n",
    "        <li>weight of incoming edges + 2*weight of outgoing edges</li>\n",
    "    </ul>\n",
    "</li>\n",
    "<li>Page Ranking of source</li>\n",
    "<li>Page Ranking of dest</li>\n",
    "<li>katz of source</li>\n",
    "<li>katz of dest</li>\n",
    "<li>hubs of source</li>\n",
    "<li>hubs of dest</li>\n",
    "<li>authorities_s of source</li>\n",
    "<li>authorities_s of dest</li>\n",
    "</ol>"
   ]
  },
  {
   "cell_type": "markdown",
   "id": "4e333676",
   "metadata": {},
   "source": [
    "#### Weight Features\n",
    "In order to determine the similarity of nodes, an edge weight value was calculated between nodes. Edge weight decreases as the neighbor count goes up. Intuitively, consider one million people following a celebrity on a social network then chances are most of them never met each other or the celebrity. On the other hand, if a user has 30 contacts in his/her social network, the chances are higher that many of them know each other. \n",
    "`credit` - Graph-based Features for Supervised Link Prediction\n",
    "William Cukierski, Benjamin Hamner, Bo Yang\n",
    "\n",
    "\\begin{equation}\n",
    "W = \\frac{1}{\\sqrt{1+|X|}}\n",
    "\\end{equation}\n",
    "\n",
    "it is directed graph so calculated Weighted in and Weighted out differently"
   ]
  },
  {
   "cell_type": "code",
   "execution_count": 29,
   "id": "6fa3ee7d",
   "metadata": {},
   "outputs": [
    {
     "name": "stderr",
     "output_type": "stream",
     "text": [
      "100%|█████████████████████████████| 1780722/1780722 [00:11<00:00, 151134.98it/s]\n"
     ]
    }
   ],
   "source": [
    "# Weight for source and destination of each link\n",
    "\n",
    "Weight_in = {}\n",
    "Weight_out = {}\n",
    "\n",
    "for i in  tqdm(train_graph.nodes()):\n",
    "    \n",
    "    s1 = set(train_graph.predecessors(i))\n",
    "    w_in = 1.0 / (np.sqrt(1 + len(s1)))\n",
    "    Weight_in[i] = w_in\n",
    "    \n",
    "    s2 = set(train_graph.successors(i))\n",
    "    w_out = 1.0/(np.sqrt(1 + len(s2)))\n",
    "    Weight_out[i] = w_out\n",
    "    \n",
    "# For imputing with mean\n",
    "\n",
    "mean_weight_in = np.mean(list(Weight_in.values()))\n",
    "mean_weight_out = np.mean(list(Weight_out.values()))"
   ]
  },
  {
   "cell_type": "code",
   "execution_count": 30,
   "id": "e1caaa60",
   "metadata": {},
   "outputs": [
    {
     "data": {
      "text/plain": [
       "(100002, 17)"
      ]
     },
     "execution_count": 30,
     "metadata": {},
     "output_type": "execute_result"
    }
   ],
   "source": [
    "df_final_train.shape"
   ]
  },
  {
   "cell_type": "code",
   "execution_count": 31,
   "id": "45aec28a",
   "metadata": {},
   "outputs": [],
   "source": [
    "if not os.path.isfile('data/fea_sample/storage_sample_stage3.h5'):\n",
    "    \n",
    "    #mapping to pandas train\n",
    "    df_final_train['weight_in'] = df_final_train.destination_node.apply(lambda x :\n",
    "                                                                    Weight_in.get(x, mean_weight_in))\n",
    "    df_final_train['weight_out'] = df_final_train.source_node.apply(lambda x :\n",
    "                                                                    Weight_out.get(x, mean_weight_out))\n",
    "\n",
    "    #mapping to pandas test\n",
    "    df_final_test['weight_in'] = df_final_test.destination_node.apply(lambda x :\n",
    "                                                                    Weight_in.get(x, mean_weight_in))\n",
    "    df_final_test['weight_out'] = df_final_test.source_node.apply(lambda x :\n",
    "                                                                    Weight_out.get(x, mean_weight_out))\n",
    "\n",
    "\n",
    "    #some features engineerings on the in and out weights\n",
    "    df_final_train['weight_f1'] = df_final_train.weight_in + df_final_train.weight_out\n",
    "    df_final_train['weight_f2'] = df_final_train.weight_in * df_final_train.weight_out\n",
    "    df_final_train['weight_f3'] = (2 * df_final_train.weight_in + 1 * df_final_train.weight_out)\n",
    "    df_final_train['weight_f4'] = (1 * df_final_train.weight_in + 2 * df_final_train.weight_out)\n",
    "\n",
    "    #some features engineerings on the in and out weights\n",
    "    df_final_test['weight_f1'] = df_final_test.weight_in + df_final_test.weight_out\n",
    "    df_final_test['weight_f2'] = df_final_test.weight_in * df_final_test.weight_out\n",
    "    df_final_test['weight_f3'] = (2 * df_final_test.weight_in + 1 * df_final_test.weight_out)\n",
    "    df_final_test['weight_f4'] = (1 * df_final_test.weight_in + 2 * df_final_test.weight_out)"
   ]
  },
  {
   "cell_type": "code",
   "execution_count": 32,
   "id": "cd23e721",
   "metadata": {},
   "outputs": [],
   "source": [
    "if not os.path.isfile('data/fea_sample/storage_sample_stage3.h5'):\n",
    "    \n",
    "    #page rank for source and destination in Train and Test\n",
    "    #if anything not there in train graph then adding mean page rank \n",
    "    \n",
    "    df_final_train['page_rank_s'] = df_final_train.source_node.apply(lambda x : pr.get(x, mean_page))\n",
    "    df_final_train['page_rank_d'] = df_final_train.destination_node.apply(lambda x : pr.get(x, mean_page))\n",
    "\n",
    "    df_final_test['page_rank_s'] = df_final_test.source_node.apply(lambda x : pr.get(x, mean_page))\n",
    "    df_final_test['page_rank_d'] = df_final_test.destination_node.apply(lambda x : pr.get(x, mean_page))\n",
    "    \n",
    "    #===================================================================================================\n",
    "\n",
    "    #Katz centrality score for source and destination in Train and test\n",
    "    #if anything not there in train graph then adding mean katz score\n",
    "    \n",
    "    df_final_train['katz_s'] = df_final_train.source_node.apply(lambda x : katz.get(x, mean_katz))\n",
    "    df_final_train['katz_d'] = df_final_train.destination_node.apply(lambda x : katz.get(x, mean_katz))\n",
    "\n",
    "    df_final_test['katz_s'] = df_final_test.source_node.apply(lambda x : katz.get(x, mean_katz))\n",
    "    df_final_test['katz_d'] = df_final_test.destination_node.apply(lambda x : katz.get(x, mean_katz))\n",
    "    \n",
    "    #===================================================================================================\n",
    "\n",
    "    #Hits algorithm score for source and destination in Train and test\n",
    "    #if anything not there in train graph then adding 0\n",
    "    \n",
    "    df_final_train['hubs_s'] = df_final_train.source_node.apply(lambda x : hits[0].get(x, 0))\n",
    "    df_final_train['hubs_d'] = df_final_train.destination_node.apply(lambda x : hits[0].get(x, 0))\n",
    "\n",
    "    df_final_test['hubs_s'] = df_final_test.source_node.apply(lambda x : hits[0].get(x, 0))\n",
    "    df_final_test['hubs_d'] = df_final_test.destination_node.apply(lambda x : hits[0].get(x, 0))\n",
    "    \n",
    "    #===================================================================================================\n",
    "\n",
    "    #Hits algorithm score for source and destination in Train and Test\n",
    "    #if anything not there in train graph then adding 0\n",
    "    \n",
    "    df_final_train['authorities_s'] = df_final_train.source_node.apply(lambda x : hits[1].get(x, 0))\n",
    "    df_final_train['authorities_d'] = df_final_train.destination_node.apply(lambda x : hits[1].get(x, 0))\n",
    "\n",
    "    df_final_test['authorities_s'] = df_final_test.source_node.apply(lambda x : hits[1].get(x, 0))\n",
    "    df_final_test['authorities_d'] = df_final_test.destination_node.apply(lambda x : hits[1].get(x, 0))\n",
    "    \n",
    "    #===================================================================================================\n",
    "\n",
    "    hdf = pd.HDFStore('data/fea_sample/storage_sample_stage3.h5')\n",
    "    \n",
    "    hdf.put('train_df', df_final_train, format = 'table', data_columns = True)\n",
    "    hdf.put('test_df', df_final_test, format = 'table', data_columns = True)\n",
    "    \n",
    "    hdf.close()\n",
    "else:\n",
    "    df_final_train = pd.read_hdf('data/fea_sample/storage_sample_stage3.h5', 'train_df', mode = 'r')\n",
    "    df_final_test = pd.read_hdf('data/fea_sample/storage_sample_stage3.h5', 'test_df', mode = 'r')"
   ]
  },
  {
   "cell_type": "code",
   "execution_count": 33,
   "id": "4f5e3f43",
   "metadata": {},
   "outputs": [
    {
     "data": {
      "text/html": [
       "<div>\n",
       "<style scoped>\n",
       "    .dataframe tbody tr th:only-of-type {\n",
       "        vertical-align: middle;\n",
       "    }\n",
       "\n",
       "    .dataframe tbody tr th {\n",
       "        vertical-align: top;\n",
       "    }\n",
       "\n",
       "    .dataframe thead th {\n",
       "        text-align: right;\n",
       "    }\n",
       "</style>\n",
       "<table border=\"1\" class=\"dataframe\">\n",
       "  <thead>\n",
       "    <tr style=\"text-align: right;\">\n",
       "      <th></th>\n",
       "      <th>source_node</th>\n",
       "      <th>destination_node</th>\n",
       "      <th>indicator_link</th>\n",
       "      <th>jaccard_followees</th>\n",
       "      <th>jaccard_followers</th>\n",
       "      <th>cosine_followees</th>\n",
       "      <th>cosine_followers</th>\n",
       "      <th>num_followers_s</th>\n",
       "      <th>num_followers_d</th>\n",
       "      <th>num_followees_s</th>\n",
       "      <th>...</th>\n",
       "      <th>weight_f3</th>\n",
       "      <th>weight_f4</th>\n",
       "      <th>page_rank_s</th>\n",
       "      <th>page_rank_d</th>\n",
       "      <th>katz_s</th>\n",
       "      <th>katz_d</th>\n",
       "      <th>hubs_s</th>\n",
       "      <th>hubs_d</th>\n",
       "      <th>authorities_s</th>\n",
       "      <th>authorities_d</th>\n",
       "    </tr>\n",
       "  </thead>\n",
       "  <tbody>\n",
       "    <tr>\n",
       "      <th>0</th>\n",
       "      <td>273084</td>\n",
       "      <td>1505602</td>\n",
       "      <td>1</td>\n",
       "      <td>0.000000</td>\n",
       "      <td>0</td>\n",
       "      <td>0</td>\n",
       "      <td>0</td>\n",
       "      <td>11</td>\n",
       "      <td>15</td>\n",
       "      <td>6</td>\n",
       "      <td>...</td>\n",
       "      <td>1.005929</td>\n",
       "      <td>0.877964</td>\n",
       "      <td>2.045290e-06</td>\n",
       "      <td>3.459963e-07</td>\n",
       "      <td>0.000773</td>\n",
       "      <td>0.000756</td>\n",
       "      <td>1.943132e-13</td>\n",
       "      <td>1.941103e-13</td>\n",
       "      <td>9.226337e-16</td>\n",
       "      <td>2.231877e-15</td>\n",
       "    </tr>\n",
       "    <tr>\n",
       "      <th>1</th>\n",
       "      <td>854944</td>\n",
       "      <td>470394</td>\n",
       "      <td>1</td>\n",
       "      <td>0.000000</td>\n",
       "      <td>0</td>\n",
       "      <td>0</td>\n",
       "      <td>0</td>\n",
       "      <td>1</td>\n",
       "      <td>1</td>\n",
       "      <td>27</td>\n",
       "      <td>...</td>\n",
       "      <td>1.384900</td>\n",
       "      <td>2.192450</td>\n",
       "      <td>2.337556e-07</td>\n",
       "      <td>2.883600e-06</td>\n",
       "      <td>0.000735</td>\n",
       "      <td>0.000834</td>\n",
       "      <td>2.006351e-18</td>\n",
       "      <td>6.179715e-17</td>\n",
       "      <td>9.516368e-20</td>\n",
       "      <td>2.795277e-16</td>\n",
       "    </tr>\n",
       "    <tr>\n",
       "      <th>2</th>\n",
       "      <td>1535925</td>\n",
       "      <td>686248</td>\n",
       "      <td>1</td>\n",
       "      <td>0.000000</td>\n",
       "      <td>0</td>\n",
       "      <td>0</td>\n",
       "      <td>0</td>\n",
       "      <td>3</td>\n",
       "      <td>7</td>\n",
       "      <td>5</td>\n",
       "      <td>...</td>\n",
       "      <td>1.170050</td>\n",
       "      <td>1.115355</td>\n",
       "      <td>2.621604e-07</td>\n",
       "      <td>3.832290e-07</td>\n",
       "      <td>0.000743</td>\n",
       "      <td>0.000751</td>\n",
       "      <td>8.296706e-16</td>\n",
       "      <td>1.400373e-13</td>\n",
       "      <td>7.258456e-16</td>\n",
       "      <td>7.489741e-15</td>\n",
       "    </tr>\n",
       "    <tr>\n",
       "      <th>3</th>\n",
       "      <td>1334753</td>\n",
       "      <td>1725849</td>\n",
       "      <td>1</td>\n",
       "      <td>0.147059</td>\n",
       "      <td>0</td>\n",
       "      <td>0</td>\n",
       "      <td>0</td>\n",
       "      <td>22</td>\n",
       "      <td>27</td>\n",
       "      <td>15</td>\n",
       "      <td>...</td>\n",
       "      <td>0.688982</td>\n",
       "      <td>0.627964</td>\n",
       "      <td>1.231894e-06</td>\n",
       "      <td>8.434553e-07</td>\n",
       "      <td>0.000819</td>\n",
       "      <td>0.000792</td>\n",
       "      <td>2.298581e-15</td>\n",
       "      <td>8.991097e-16</td>\n",
       "      <td>5.437220e-15</td>\n",
       "      <td>2.408761e-15</td>\n",
       "    </tr>\n",
       "    <tr>\n",
       "      <th>4</th>\n",
       "      <td>1397410</td>\n",
       "      <td>90479</td>\n",
       "      <td>1</td>\n",
       "      <td>0.041667</td>\n",
       "      <td>0</td>\n",
       "      <td>0</td>\n",
       "      <td>0</td>\n",
       "      <td>9</td>\n",
       "      <td>10</td>\n",
       "      <td>18</td>\n",
       "      <td>...</td>\n",
       "      <td>0.760343</td>\n",
       "      <td>0.832438</td>\n",
       "      <td>1.681904e-06</td>\n",
       "      <td>2.410304e-06</td>\n",
       "      <td>0.000766</td>\n",
       "      <td>0.000801</td>\n",
       "      <td>4.314456e-16</td>\n",
       "      <td>7.974627e-14</td>\n",
       "      <td>3.931238e-15</td>\n",
       "      <td>4.569681e-14</td>\n",
       "    </tr>\n",
       "  </tbody>\n",
       "</table>\n",
       "<p>5 rows × 31 columns</p>\n",
       "</div>"
      ],
      "text/plain": [
       "   source_node  destination_node  indicator_link  jaccard_followees  \\\n",
       "0       273084           1505602               1           0.000000   \n",
       "1       854944            470394               1           0.000000   \n",
       "2      1535925            686248               1           0.000000   \n",
       "3      1334753           1725849               1           0.147059   \n",
       "4      1397410             90479               1           0.041667   \n",
       "\n",
       "   jaccard_followers  cosine_followees  cosine_followers  num_followers_s  \\\n",
       "0                  0                 0                 0               11   \n",
       "1                  0                 0                 0                1   \n",
       "2                  0                 0                 0                3   \n",
       "3                  0                 0                 0               22   \n",
       "4                  0                 0                 0                9   \n",
       "\n",
       "   num_followers_d  num_followees_s  ...  weight_f3  weight_f4   page_rank_s  \\\n",
       "0               15                6  ...   1.005929   0.877964  2.045290e-06   \n",
       "1                1               27  ...   1.384900   2.192450  2.337556e-07   \n",
       "2                7                5  ...   1.170050   1.115355  2.621604e-07   \n",
       "3               27               15  ...   0.688982   0.627964  1.231894e-06   \n",
       "4               10               18  ...   0.760343   0.832438  1.681904e-06   \n",
       "\n",
       "    page_rank_d    katz_s    katz_d        hubs_s        hubs_d  \\\n",
       "0  3.459963e-07  0.000773  0.000756  1.943132e-13  1.941103e-13   \n",
       "1  2.883600e-06  0.000735  0.000834  2.006351e-18  6.179715e-17   \n",
       "2  3.832290e-07  0.000743  0.000751  8.296706e-16  1.400373e-13   \n",
       "3  8.434553e-07  0.000819  0.000792  2.298581e-15  8.991097e-16   \n",
       "4  2.410304e-06  0.000766  0.000801  4.314456e-16  7.974627e-14   \n",
       "\n",
       "   authorities_s  authorities_d  \n",
       "0   9.226337e-16   2.231877e-15  \n",
       "1   9.516368e-20   2.795277e-16  \n",
       "2   7.258456e-16   7.489741e-15  \n",
       "3   5.437220e-15   2.408761e-15  \n",
       "4   3.931238e-15   4.569681e-14  \n",
       "\n",
       "[5 rows x 31 columns]"
      ]
     },
     "execution_count": 33,
     "metadata": {},
     "output_type": "execute_result"
    }
   ],
   "source": [
    "df_final_train.head(3)"
   ]
  },
  {
   "cell_type": "markdown",
   "id": "9605d48f",
   "metadata": {},
   "source": [
    "#### 5.5 Adding new set of features\n",
    "\n",
    "__Creating these features for both train and test data points__\n",
    "<ol>\n",
    "<li>SVD features for both source and destination</li>\n",
    "</ol>"
   ]
  },
  {
   "cell_type": "code",
   "execution_count": 34,
   "id": "1b8d19bf",
   "metadata": {},
   "outputs": [],
   "source": [
    "def svd(x, S):\n",
    "    \n",
    "    try:\n",
    "        z = sadj_dict[x]\n",
    "        \n",
    "        return S[z]\n",
    "    \n",
    "    except:\n",
    "        \n",
    "        return [0,0,0,0,0,0]"
   ]
  },
  {
   "cell_type": "code",
   "execution_count": 35,
   "id": "b739241b",
   "metadata": {},
   "outputs": [],
   "source": [
    "# For svd features to get feature vector creating a dict node val and inedx in svd vector\n",
    "\n",
    "sadj_col = sorted(train_graph.nodes())\n",
    "sadj_dict = { val : idx for idx, val in enumerate(sadj_col)}"
   ]
  },
  {
   "cell_type": "code",
   "execution_count": 36,
   "id": "9062b73c",
   "metadata": {},
   "outputs": [],
   "source": [
    "Adj = nx.adjacency_matrix(train_graph, nodelist = sorted(train_graph.nodes())).asfptype()"
   ]
  },
  {
   "cell_type": "code",
   "execution_count": 37,
   "id": "78968fd4",
   "metadata": {},
   "outputs": [
    {
     "name": "stdout",
     "output_type": "stream",
     "text": [
      "Adjacency matrix Shape\t :  (1780722, 1780722)\n",
      "\n",
      "U Shape\t\t\t : (1780722, 6)\n",
      "\n",
      "V Shape\t\t\t : (6, 1780722)\n",
      "\n",
      "s Shape\t\t\t : (6,)\n"
     ]
    }
   ],
   "source": [
    "U, s, V = svds(Adj, k = 6)\n",
    "\n",
    "print(f'Adjacency matrix Shape\\t :  {Adj.shape}')\n",
    "print(f'\\nU Shape\\t\\t\\t : {U.shape}')\n",
    "print(f'\\nV Shape\\t\\t\\t : {V.shape}')\n",
    "print(f'\\ns Shape\\t\\t\\t : {s.shape}')"
   ]
  },
  {
   "cell_type": "code",
   "execution_count": 38,
   "id": "abe9b480",
   "metadata": {},
   "outputs": [
    {
     "name": "stdout",
     "output_type": "stream",
     "text": [
      "4 tasks need to complete in this stage\n",
      "\n"
     ]
    },
    {
     "name": "stderr",
     "output_type": "stream",
     "text": [
      "100%|███████████████████████████████| 100002/100002 [00:00<00:00, 631575.54it/s]\n",
      "100%|███████████████████████████████| 100002/100002 [00:00<00:00, 634964.94it/s]\n",
      "100%|█████████████████████████████████| 25076/25076 [00:00<00:00, 639424.43it/s]\n",
      "100%|█████████████████████████████████| 25076/25076 [00:00<00:00, 604229.22it/s]\n"
     ]
    }
   ],
   "source": [
    "if not os.path.isfile('data/fea_sample/storage_sample_stage4.h5'):\n",
    "    \n",
    "#     SVD features for both source and destination\n",
    "\n",
    "    print('4 tasks need to complete in this stage\\n')\n",
    "    \n",
    "    df_final_train[['svd_u_s_1', 'svd_u_s_2', 'svd_u_s_3', 'svd_u_s_4', 'svd_u_s_5', 'svd_u_s_6']] = \\\n",
    "                        df_final_train.source_node.progress_apply(lambda x : svd(x, U)).apply(pd.Series)\n",
    "            \n",
    "    df_final_train[['svd_u_d_1', 'svd_u_d_2', 'svd_u_d_3', 'svd_u_d_4', 'svd_u_d_5', 'svd_u_d_6']] = \\\n",
    "                        df_final_train.destination_node.apply(lambda x : svd(x, U)).apply(pd.Series)\n",
    "    \n",
    "#     -------------------------------------------------------------------------------------------------\n",
    "    \n",
    "    df_final_train[['svd_v_s_1','svd_v_s_2', 'svd_v_s_3', 'svd_v_s_4', 'svd_v_s_5', 'svd_v_s_6',]] = \\\n",
    "                        df_final_train.source_node.progress_apply(lambda x : svd(x, V.T)).apply(pd.Series)\n",
    "        \n",
    "    df_final_train[['svd_v_d_1', 'svd_v_d_2', 'svd_v_d_3', 'svd_v_d_4', 'svd_v_d_5', 'svd_v_d_6']] = \\\n",
    "                        df_final_train.destination_node.apply(lambda x : svd(x, V.T)).apply(pd.Series)\n",
    "    \n",
    "#     -------------------------------------------------------------------------------------------------\n",
    "    \n",
    "    df_final_test[['svd_u_s_1', 'svd_u_s_2', 'svd_u_s_3', 'svd_u_s_4', 'svd_u_s_5', 'svd_u_s_6']] = \\\n",
    "                        df_final_test.source_node.progress_apply(lambda x : svd(x, U)).apply(pd.Series)\n",
    "            \n",
    "    df_final_test[['svd_u_d_1', 'svd_u_d_2', 'svd_u_d_3', 'svd_u_d_4', 'svd_u_d_5', 'svd_u_d_6']] = \\\n",
    "                        df_final_test.destination_node.apply(lambda x : svd(x, U)).apply(pd.Series)\n",
    "\n",
    "#     -------------------------------------------------------------------------------------------------\n",
    "    \n",
    "    df_final_test[['svd_v_s_1', 'svd_v_s_2', 'svd_v_s_3', 'svd_v_s_4', 'svd_v_s_5', 'svd_v_s_6',]] = \\\n",
    "                        df_final_test.source_node.progress_apply(lambda x : svd(x, V.T)).apply(pd.Series)\n",
    "        \n",
    "    df_final_test[['svd_v_d_1', 'svd_v_d_2', 'svd_v_d_3', 'svd_v_d_4', 'svd_v_d_5', 'svd_v_d_6']] = \\\n",
    "                        df_final_test.destination_node.apply(lambda x : svd(x, V.T)).apply(pd.Series)\n",
    "    \n",
    "#     -------------------------------------------------------------------------------------------------\n",
    "\n",
    "    hdf = pd.HDFStore('data/fea_sample/storage_sample_stage4.h5')\n",
    "    \n",
    "    hdf.put('train_df', df_final_train, format = 'table', data_columns = True)\n",
    "    hdf.put('test_df', df_final_test, format = 'table', data_columns = True)\n",
    "    \n",
    "    hdf.close()"
   ]
  },
  {
   "cell_type": "code",
   "execution_count": 39,
   "id": "d90cd436",
   "metadata": {},
   "outputs": [
    {
     "data": {
      "text/html": [
       "<div>\n",
       "<style scoped>\n",
       "    .dataframe tbody tr th:only-of-type {\n",
       "        vertical-align: middle;\n",
       "    }\n",
       "\n",
       "    .dataframe tbody tr th {\n",
       "        vertical-align: top;\n",
       "    }\n",
       "\n",
       "    .dataframe thead th {\n",
       "        text-align: right;\n",
       "    }\n",
       "</style>\n",
       "<table border=\"1\" class=\"dataframe\">\n",
       "  <thead>\n",
       "    <tr style=\"text-align: right;\">\n",
       "      <th></th>\n",
       "      <th>source_node</th>\n",
       "      <th>destination_node</th>\n",
       "      <th>indicator_link</th>\n",
       "      <th>jaccard_followees</th>\n",
       "      <th>jaccard_followers</th>\n",
       "      <th>cosine_followees</th>\n",
       "      <th>cosine_followers</th>\n",
       "      <th>num_followers_s</th>\n",
       "      <th>num_followers_d</th>\n",
       "      <th>num_followees_s</th>\n",
       "      <th>...</th>\n",
       "      <th>svd_v_s_3</th>\n",
       "      <th>svd_v_s_4</th>\n",
       "      <th>svd_v_s_5</th>\n",
       "      <th>svd_v_s_6</th>\n",
       "      <th>svd_v_d_1</th>\n",
       "      <th>svd_v_d_2</th>\n",
       "      <th>svd_v_d_3</th>\n",
       "      <th>svd_v_d_4</th>\n",
       "      <th>svd_v_d_5</th>\n",
       "      <th>svd_v_d_6</th>\n",
       "    </tr>\n",
       "  </thead>\n",
       "  <tbody>\n",
       "    <tr>\n",
       "      <th>0</th>\n",
       "      <td>848424</td>\n",
       "      <td>784690</td>\n",
       "      <td>1</td>\n",
       "      <td>0.0</td>\n",
       "      <td>0</td>\n",
       "      <td>0</td>\n",
       "      <td>0</td>\n",
       "      <td>6</td>\n",
       "      <td>6</td>\n",
       "      <td>14</td>\n",
       "      <td>...</td>\n",
       "      <td>5.904803e-11</td>\n",
       "      <td>-2.701518e-12</td>\n",
       "      <td>4.341609e-13</td>\n",
       "      <td>5.535503e-14</td>\n",
       "      <td>9.993053e-10</td>\n",
       "      <td>-5.791356e-10</td>\n",
       "      <td>3.512351e-07</td>\n",
       "      <td>-2.486435e-09</td>\n",
       "      <td>2.771145e-09</td>\n",
       "      <td>1.727643e-12</td>\n",
       "    </tr>\n",
       "    <tr>\n",
       "      <th>1</th>\n",
       "      <td>505449</td>\n",
       "      <td>1257640</td>\n",
       "      <td>1</td>\n",
       "      <td>0.0</td>\n",
       "      <td>0</td>\n",
       "      <td>0</td>\n",
       "      <td>0</td>\n",
       "      <td>4</td>\n",
       "      <td>123</td>\n",
       "      <td>95</td>\n",
       "      <td>...</td>\n",
       "      <td>1.549267e-11</td>\n",
       "      <td>-3.150700e-12</td>\n",
       "      <td>7.137164e-09</td>\n",
       "      <td>6.999480e-16</td>\n",
       "      <td>-4.761903e-11</td>\n",
       "      <td>-6.756122e-02</td>\n",
       "      <td>5.682767e-10</td>\n",
       "      <td>-1.265795e-10</td>\n",
       "      <td>1.420580e-07</td>\n",
       "      <td>2.763607e-14</td>\n",
       "    </tr>\n",
       "    <tr>\n",
       "      <th>2</th>\n",
       "      <td>854526</td>\n",
       "      <td>294917</td>\n",
       "      <td>1</td>\n",
       "      <td>0.0</td>\n",
       "      <td>0</td>\n",
       "      <td>0</td>\n",
       "      <td>0</td>\n",
       "      <td>8</td>\n",
       "      <td>14</td>\n",
       "      <td>2</td>\n",
       "      <td>...</td>\n",
       "      <td>4.668677e-11</td>\n",
       "      <td>-5.844629e-13</td>\n",
       "      <td>2.043538e-11</td>\n",
       "      <td>8.932004e-16</td>\n",
       "      <td>1.920247e-13</td>\n",
       "      <td>-4.720758e-15</td>\n",
       "      <td>2.635359e-13</td>\n",
       "      <td>-8.872082e-16</td>\n",
       "      <td>4.506440e-14</td>\n",
       "      <td>1.833090e-17</td>\n",
       "    </tr>\n",
       "    <tr>\n",
       "      <th>3</th>\n",
       "      <td>329637</td>\n",
       "      <td>1262639</td>\n",
       "      <td>1</td>\n",
       "      <td>0.0</td>\n",
       "      <td>0</td>\n",
       "      <td>0</td>\n",
       "      <td>0</td>\n",
       "      <td>6</td>\n",
       "      <td>6</td>\n",
       "      <td>0</td>\n",
       "      <td>...</td>\n",
       "      <td>1.539734e-11</td>\n",
       "      <td>-7.657589e-14</td>\n",
       "      <td>4.720689e-15</td>\n",
       "      <td>3.496173e-13</td>\n",
       "      <td>0.000000e+00</td>\n",
       "      <td>0.000000e+00</td>\n",
       "      <td>0.000000e+00</td>\n",
       "      <td>0.000000e+00</td>\n",
       "      <td>0.000000e+00</td>\n",
       "      <td>0.000000e+00</td>\n",
       "    </tr>\n",
       "    <tr>\n",
       "      <th>4</th>\n",
       "      <td>1140878</td>\n",
       "      <td>1526163</td>\n",
       "      <td>1</td>\n",
       "      <td>0.0</td>\n",
       "      <td>0</td>\n",
       "      <td>0</td>\n",
       "      <td>0</td>\n",
       "      <td>4</td>\n",
       "      <td>6</td>\n",
       "      <td>10</td>\n",
       "      <td>...</td>\n",
       "      <td>2.064187e-10</td>\n",
       "      <td>-6.782527e-13</td>\n",
       "      <td>9.450495e-13</td>\n",
       "      <td>4.356480e-14</td>\n",
       "      <td>3.386869e-12</td>\n",
       "      <td>-5.173268e-12</td>\n",
       "      <td>5.939082e-10</td>\n",
       "      <td>-3.001943e-12</td>\n",
       "      <td>3.043390e-12</td>\n",
       "      <td>1.829464e-12</td>\n",
       "    </tr>\n",
       "  </tbody>\n",
       "</table>\n",
       "<p>5 rows × 55 columns</p>\n",
       "</div>"
      ],
      "text/plain": [
       "   source_node  destination_node  indicator_link  jaccard_followees  \\\n",
       "0       848424            784690               1                0.0   \n",
       "1       505449           1257640               1                0.0   \n",
       "2       854526            294917               1                0.0   \n",
       "3       329637           1262639               1                0.0   \n",
       "4      1140878           1526163               1                0.0   \n",
       "\n",
       "   jaccard_followers  cosine_followees  cosine_followers  num_followers_s  \\\n",
       "0                  0                 0                 0                6   \n",
       "1                  0                 0                 0                4   \n",
       "2                  0                 0                 0                8   \n",
       "3                  0                 0                 0                6   \n",
       "4                  0                 0                 0                4   \n",
       "\n",
       "   num_followers_d  num_followees_s  ...     svd_v_s_3     svd_v_s_4  \\\n",
       "0                6               14  ...  5.904803e-11 -2.701518e-12   \n",
       "1              123               95  ...  1.549267e-11 -3.150700e-12   \n",
       "2               14                2  ...  4.668677e-11 -5.844629e-13   \n",
       "3                6                0  ...  1.539734e-11 -7.657589e-14   \n",
       "4                6               10  ...  2.064187e-10 -6.782527e-13   \n",
       "\n",
       "      svd_v_s_5     svd_v_s_6     svd_v_d_1     svd_v_d_2     svd_v_d_3  \\\n",
       "0  4.341609e-13  5.535503e-14  9.993053e-10 -5.791356e-10  3.512351e-07   \n",
       "1  7.137164e-09  6.999480e-16 -4.761903e-11 -6.756122e-02  5.682767e-10   \n",
       "2  2.043538e-11  8.932004e-16  1.920247e-13 -4.720758e-15  2.635359e-13   \n",
       "3  4.720689e-15  3.496173e-13  0.000000e+00  0.000000e+00  0.000000e+00   \n",
       "4  9.450495e-13  4.356480e-14  3.386869e-12 -5.173268e-12  5.939082e-10   \n",
       "\n",
       "      svd_v_d_4     svd_v_d_5     svd_v_d_6  \n",
       "0 -2.486435e-09  2.771145e-09  1.727643e-12  \n",
       "1 -1.265795e-10  1.420580e-07  2.763607e-14  \n",
       "2 -8.872082e-16  4.506440e-14  1.833090e-17  \n",
       "3  0.000000e+00  0.000000e+00  0.000000e+00  \n",
       "4 -3.001943e-12  3.043390e-12  1.829464e-12  \n",
       "\n",
       "[5 rows x 55 columns]"
      ]
     },
     "execution_count": 39,
     "metadata": {},
     "output_type": "execute_result"
    }
   ],
   "source": [
    "df_final_test.head(3)"
   ]
  },
  {
   "cell_type": "markdown",
   "id": "ba7615f6",
   "metadata": {},
   "source": [
    "### <font color='red'>Preferential Attachment</font>\n",
    "\n",
    "Add another feature called Preferential Attachment with followers and followees data of vertex.\n",
    "\n",
    "Link predicting algorithm : http://be.amazd.com/link-prediction/\n",
    "\n",
    "https://youtu.be/twouNLZrrdc?t=891\n",
    "\n",
    "https://youtu.be/KmQbzCgqNiI?t=230\n",
    "\n",
    "https://youtu.be/2M77Hgy17cg?t=1997\n",
    "\n",
    "https://www.sciencedirect.com/topics/computer-science/preferential-attachment\n",
    "\n",
    "<!-- https://i.imgur.com/RbSEnq7.png -->\n",
    "\n",
    "<img src = 'RbSEnq7.png'>"
   ]
  },
  {
   "cell_type": "code",
   "execution_count": 40,
   "id": "bac620c3",
   "metadata": {},
   "outputs": [
    {
     "data": {
      "text/html": [
       "<div>\n",
       "<style scoped>\n",
       "    .dataframe tbody tr th:only-of-type {\n",
       "        vertical-align: middle;\n",
       "    }\n",
       "\n",
       "    .dataframe tbody tr th {\n",
       "        vertical-align: top;\n",
       "    }\n",
       "\n",
       "    .dataframe thead th {\n",
       "        text-align: right;\n",
       "    }\n",
       "</style>\n",
       "<table border=\"1\" class=\"dataframe\">\n",
       "  <thead>\n",
       "    <tr style=\"text-align: right;\">\n",
       "      <th></th>\n",
       "      <th>num_s</th>\n",
       "      <th>num_d</th>\n",
       "      <th>addition</th>\n",
       "      <th>multiply</th>\n",
       "    </tr>\n",
       "  </thead>\n",
       "  <tbody>\n",
       "    <tr>\n",
       "      <th>0</th>\n",
       "      <td>1</td>\n",
       "      <td>2</td>\n",
       "      <td>3</td>\n",
       "      <td>2</td>\n",
       "    </tr>\n",
       "    <tr>\n",
       "      <th>1</th>\n",
       "      <td>3</td>\n",
       "      <td>4</td>\n",
       "      <td>7</td>\n",
       "      <td>12</td>\n",
       "    </tr>\n",
       "    <tr>\n",
       "      <th>2</th>\n",
       "      <td>5</td>\n",
       "      <td>6</td>\n",
       "      <td>11</td>\n",
       "      <td>30</td>\n",
       "    </tr>\n",
       "    <tr>\n",
       "      <th>3</th>\n",
       "      <td>8</td>\n",
       "      <td>9</td>\n",
       "      <td>17</td>\n",
       "      <td>72</td>\n",
       "    </tr>\n",
       "  </tbody>\n",
       "</table>\n",
       "</div>"
      ],
      "text/plain": [
       "   num_s  num_d  addition  multiply\n",
       "0      1      2         3         2\n",
       "1      3      4         7        12\n",
       "2      5      6        11        30\n",
       "3      8      9        17        72"
      ]
     },
     "execution_count": 40,
     "metadata": {},
     "output_type": "execute_result"
    }
   ],
   "source": [
    "trial = {}\n",
    "\n",
    "num_s = [1, 3, 5, 8]\n",
    "num_d = [2, 4, 6, 9]\n",
    "\n",
    "trial['num_s'] = num_s\n",
    "trial['num_d'] = num_d\n",
    "\n",
    "trial_df = pd.DataFrame(trial)\n",
    "\n",
    "trial_df['addition'] = trial_df[['num_s', 'num_d']].apply(lambda row : row[0] + row[1], axis =1)\n",
    "\n",
    "trial_df['multiply'] = trial_df[['num_s', 'num_d']].apply(lambda row : row[0] * row[1], axis =1)\n",
    "\n",
    "trial_df"
   ]
  },
  {
   "cell_type": "code",
   "execution_count": 41,
   "id": "317416df",
   "metadata": {},
   "outputs": [],
   "source": [
    "# Preferential score on train data\n",
    "\n",
    "df_final_train['preferential_score_followees'] = df_final_train[['num_followees_s',\n",
    "                                    'num_followees_d']].apply(lambda row : row[0] * row[1], axis = 1)\n",
    "\n",
    "df_final_train['preferential_score_followers'] = df_final_train[['num_followers_s',\n",
    "                                    'num_followers_d']].apply(lambda row : row[0] * row[1], axis = 1)\n",
    "\n",
    "# Preferential score on test data\n",
    "\n",
    "df_final_test['preferential_score_followees'] = df_final_test[['num_followees_s',\n",
    "                                    'num_followees_d']].apply(lambda row : row[0] * row[1], axis = 1)\n",
    "\n",
    "df_final_test['preferential_score_followers'] = df_final_test[['num_followers_s',\n",
    "                                    'num_followers_d']].apply(lambda row : row[0] * row[1], axis = 1)"
   ]
  },
  {
   "cell_type": "code",
   "execution_count": 42,
   "id": "5b92e761",
   "metadata": {},
   "outputs": [
    {
     "data": {
      "text/html": [
       "<div>\n",
       "<style scoped>\n",
       "    .dataframe tbody tr th:only-of-type {\n",
       "        vertical-align: middle;\n",
       "    }\n",
       "\n",
       "    .dataframe tbody tr th {\n",
       "        vertical-align: top;\n",
       "    }\n",
       "\n",
       "    .dataframe thead th {\n",
       "        text-align: right;\n",
       "    }\n",
       "</style>\n",
       "<table border=\"1\" class=\"dataframe\">\n",
       "  <thead>\n",
       "    <tr style=\"text-align: right;\">\n",
       "      <th></th>\n",
       "      <th>source_node</th>\n",
       "      <th>destination_node</th>\n",
       "      <th>indicator_link</th>\n",
       "      <th>jaccard_followees</th>\n",
       "      <th>jaccard_followers</th>\n",
       "      <th>cosine_followees</th>\n",
       "      <th>cosine_followers</th>\n",
       "      <th>num_followers_s</th>\n",
       "      <th>num_followers_d</th>\n",
       "      <th>num_followees_s</th>\n",
       "      <th>...</th>\n",
       "      <th>svd_v_s_5</th>\n",
       "      <th>svd_v_s_6</th>\n",
       "      <th>svd_v_d_1</th>\n",
       "      <th>svd_v_d_2</th>\n",
       "      <th>svd_v_d_3</th>\n",
       "      <th>svd_v_d_4</th>\n",
       "      <th>svd_v_d_5</th>\n",
       "      <th>svd_v_d_6</th>\n",
       "      <th>preferential_score_followees</th>\n",
       "      <th>preferential_score_followers</th>\n",
       "    </tr>\n",
       "  </thead>\n",
       "  <tbody>\n",
       "    <tr>\n",
       "      <th>0</th>\n",
       "      <td>273084</td>\n",
       "      <td>1505602</td>\n",
       "      <td>1</td>\n",
       "      <td>0.0</td>\n",
       "      <td>0</td>\n",
       "      <td>0</td>\n",
       "      <td>0</td>\n",
       "      <td>11</td>\n",
       "      <td>15</td>\n",
       "      <td>6</td>\n",
       "      <td>...</td>\n",
       "      <td>8.108375e-13</td>\n",
       "      <td>1.719694e-14</td>\n",
       "      <td>1.355368e-12</td>\n",
       "      <td>-4.675283e-13</td>\n",
       "      <td>1.128585e-06</td>\n",
       "      <td>-6.616618e-14</td>\n",
       "      <td>9.771026e-13</td>\n",
       "      <td>4.159806e-14</td>\n",
       "      <td>48</td>\n",
       "      <td>165</td>\n",
       "    </tr>\n",
       "    <tr>\n",
       "      <th>1</th>\n",
       "      <td>854944</td>\n",
       "      <td>470394</td>\n",
       "      <td>1</td>\n",
       "      <td>0.0</td>\n",
       "      <td>0</td>\n",
       "      <td>0</td>\n",
       "      <td>0</td>\n",
       "      <td>1</td>\n",
       "      <td>1</td>\n",
       "      <td>27</td>\n",
       "      <td>...</td>\n",
       "      <td>2.801330e-17</td>\n",
       "      <td>1.773470e-18</td>\n",
       "      <td>1.028470e-12</td>\n",
       "      <td>-9.004631e-12</td>\n",
       "      <td>4.416390e-10</td>\n",
       "      <td>-1.623732e-12</td>\n",
       "      <td>3.045292e-13</td>\n",
       "      <td>5.209866e-15</td>\n",
       "      <td>648</td>\n",
       "      <td>1</td>\n",
       "    </tr>\n",
       "  </tbody>\n",
       "</table>\n",
       "<p>2 rows × 57 columns</p>\n",
       "</div>"
      ],
      "text/plain": [
       "   source_node  destination_node  indicator_link  jaccard_followees  \\\n",
       "0       273084           1505602               1                0.0   \n",
       "1       854944            470394               1                0.0   \n",
       "\n",
       "   jaccard_followers  cosine_followees  cosine_followers  num_followers_s  \\\n",
       "0                  0                 0                 0               11   \n",
       "1                  0                 0                 0                1   \n",
       "\n",
       "   num_followers_d  num_followees_s  ...     svd_v_s_5     svd_v_s_6  \\\n",
       "0               15                6  ...  8.108375e-13  1.719694e-14   \n",
       "1                1               27  ...  2.801330e-17  1.773470e-18   \n",
       "\n",
       "      svd_v_d_1     svd_v_d_2     svd_v_d_3     svd_v_d_4     svd_v_d_5  \\\n",
       "0  1.355368e-12 -4.675283e-13  1.128585e-06 -6.616618e-14  9.771026e-13   \n",
       "1  1.028470e-12 -9.004631e-12  4.416390e-10 -1.623732e-12  3.045292e-13   \n",
       "\n",
       "      svd_v_d_6  preferential_score_followees  preferential_score_followers  \n",
       "0  4.159806e-14                            48                           165  \n",
       "1  5.209866e-15                           648                             1  \n",
       "\n",
       "[2 rows x 57 columns]"
      ]
     },
     "execution_count": 42,
     "metadata": {},
     "output_type": "execute_result"
    }
   ],
   "source": [
    "df_final_train.head(3)"
   ]
  },
  {
   "cell_type": "markdown",
   "id": "b5be0e03",
   "metadata": {},
   "source": [
    "### <font color='red'>SVD Dot</font>\n",
    "\n",
    "Add feature called svd_dot. you can calculate svd_dot as Dot product between sourse node svd and destination node svd features\n",
    "\n",
    "https://storage.googleapis.com/kaggle-forum-message-attachments/2594/supervised_link_prediction.pdf\n",
    "\n",
    "\n",
    "$$SVD_{dot\\ }=\\ A_{u}\\left(v_{a\\ },\\ :\\right)\\ .\\ A_{u}\\left(v_{b\\ },\\ :\\right)$$\n",
    "\n",
    "\n",
    "Singular value decomposition (SVD) was the final meta-approach used in our solution. SVD has been shown to work well for large sparse applications and gained popularity through its application to the Netflix Prize problem. We used a rank 80 approximation of the Flickr graph, $A_{u\\ }=\\left(U * \\varSigma * V^{T}\\right)_{80}$. 80 was chosen as the largest rank the computer could reasonably handle. Since $A_{u\\ }$ is not sparse and 𝑁 is large, we store the matrices $U,\\ \\varSigma,\\ V^{T}$ and compute $svd\\left(v_{a\\ }, v_{b}\\right)$ through the product $U_{a} \\varSigma\\ V_{b}$ . The undirected graph was experimentally found to give higher AUC than the directed graph.\n",
    "\n",
    "<!-- <img src='https://i.imgur.com/Ix6QpkO.png'> -->\n",
    "<img src = 'Ix6QpkO.png' >"
   ]
  },
  {
   "cell_type": "code",
   "execution_count": 43,
   "id": "47c8da04",
   "metadata": {},
   "outputs": [],
   "source": [
    "su_S_tr = np.array(df_final_train[['svd_u_s_1', 'svd_u_s_2', 'svd_u_s_3',\n",
    "                                                            'svd_u_s_4', 'svd_u_s_5', 'svd_u_s_6']])\n",
    "\n",
    "du_D_tr = np.array(df_final_train[['svd_u_d_1', 'svd_u_d_2', 'svd_u_d_3',\n",
    "                                                            'svd_u_d_4', 'svd_u_d_5', 'svd_u_d_6']])\n",
    "\n",
    "sv_S_tr = np.array(df_final_train[['svd_v_s_1','svd_v_s_2', 'svd_v_s_3',\n",
    "                                                            'svd_v_s_4', 'svd_v_s_5', 'svd_v_s_6',]])\n",
    "\n",
    "dv_D_tr = np.array(df_final_train[['svd_v_d_1', 'svd_v_d_2', 'svd_v_d_3',\n",
    "                                                            'svd_v_d_4', 'svd_v_d_5', 'svd_v_d_6']])"
   ]
  },
  {
   "cell_type": "code",
   "execution_count": 44,
   "id": "bed0d759",
   "metadata": {
    "scrolled": true
   },
   "outputs": [],
   "source": [
    "u_dot_tr = []\n",
    "v_dot_tr = []\n",
    "\n",
    "for i in range(df_final_train.shape[0]):\n",
    "    u_dot_tr.append(np.dot(su_S_tr[i], du_D_tr[i]))\n",
    "    v_dot_tr.append(np.dot(sv_S_tr[i], dv_D_tr[i]))\n",
    "    \n",
    "df_final_train['ud_dot'] = u_dot_tr\n",
    "df_final_train['vd_dot'] = v_dot_tr"
   ]
  },
  {
   "cell_type": "code",
   "execution_count": 45,
   "id": "80e2e206",
   "metadata": {
    "scrolled": false
   },
   "outputs": [
    {
     "data": {
      "text/html": [
       "<div>\n",
       "<style scoped>\n",
       "    .dataframe tbody tr th:only-of-type {\n",
       "        vertical-align: middle;\n",
       "    }\n",
       "\n",
       "    .dataframe tbody tr th {\n",
       "        vertical-align: top;\n",
       "    }\n",
       "\n",
       "    .dataframe thead th {\n",
       "        text-align: right;\n",
       "    }\n",
       "</style>\n",
       "<table border=\"1\" class=\"dataframe\">\n",
       "  <thead>\n",
       "    <tr style=\"text-align: right;\">\n",
       "      <th></th>\n",
       "      <th>source_node</th>\n",
       "      <th>destination_node</th>\n",
       "      <th>indicator_link</th>\n",
       "      <th>jaccard_followees</th>\n",
       "      <th>jaccard_followers</th>\n",
       "      <th>cosine_followees</th>\n",
       "      <th>cosine_followers</th>\n",
       "      <th>num_followers_s</th>\n",
       "      <th>num_followers_d</th>\n",
       "      <th>num_followees_s</th>\n",
       "      <th>...</th>\n",
       "      <th>svd_v_d_1</th>\n",
       "      <th>svd_v_d_2</th>\n",
       "      <th>svd_v_d_3</th>\n",
       "      <th>svd_v_d_4</th>\n",
       "      <th>svd_v_d_5</th>\n",
       "      <th>svd_v_d_6</th>\n",
       "      <th>preferential_score_followees</th>\n",
       "      <th>preferential_score_followers</th>\n",
       "      <th>ud_dot</th>\n",
       "      <th>vd_dot</th>\n",
       "    </tr>\n",
       "  </thead>\n",
       "  <tbody>\n",
       "    <tr>\n",
       "      <th>0</th>\n",
       "      <td>273084</td>\n",
       "      <td>1505602</td>\n",
       "      <td>1</td>\n",
       "      <td>0.0</td>\n",
       "      <td>0</td>\n",
       "      <td>0</td>\n",
       "      <td>0</td>\n",
       "      <td>11</td>\n",
       "      <td>15</td>\n",
       "      <td>6</td>\n",
       "      <td>...</td>\n",
       "      <td>1.355368e-12</td>\n",
       "      <td>-4.675283e-13</td>\n",
       "      <td>1.128585e-06</td>\n",
       "      <td>-6.616618e-14</td>\n",
       "      <td>9.771026e-13</td>\n",
       "      <td>4.159806e-14</td>\n",
       "      <td>48</td>\n",
       "      <td>165</td>\n",
       "      <td>1.114949e-11</td>\n",
       "      <td>2.238774e-12</td>\n",
       "    </tr>\n",
       "    <tr>\n",
       "      <th>1</th>\n",
       "      <td>854944</td>\n",
       "      <td>470394</td>\n",
       "      <td>1</td>\n",
       "      <td>0.0</td>\n",
       "      <td>0</td>\n",
       "      <td>0</td>\n",
       "      <td>0</td>\n",
       "      <td>1</td>\n",
       "      <td>1</td>\n",
       "      <td>27</td>\n",
       "      <td>...</td>\n",
       "      <td>1.028470e-12</td>\n",
       "      <td>-9.004631e-12</td>\n",
       "      <td>4.416390e-10</td>\n",
       "      <td>-1.623732e-12</td>\n",
       "      <td>3.045292e-13</td>\n",
       "      <td>5.209866e-15</td>\n",
       "      <td>648</td>\n",
       "      <td>1</td>\n",
       "      <td>-2.910106e-29</td>\n",
       "      <td>2.009302e-23</td>\n",
       "    </tr>\n",
       "  </tbody>\n",
       "</table>\n",
       "<p>2 rows × 59 columns</p>\n",
       "</div>"
      ],
      "text/plain": [
       "   source_node  destination_node  indicator_link  jaccard_followees  \\\n",
       "0       273084           1505602               1                0.0   \n",
       "1       854944            470394               1                0.0   \n",
       "\n",
       "   jaccard_followers  cosine_followees  cosine_followers  num_followers_s  \\\n",
       "0                  0                 0                 0               11   \n",
       "1                  0                 0                 0                1   \n",
       "\n",
       "   num_followers_d  num_followees_s  ...     svd_v_d_1     svd_v_d_2  \\\n",
       "0               15                6  ...  1.355368e-12 -4.675283e-13   \n",
       "1                1               27  ...  1.028470e-12 -9.004631e-12   \n",
       "\n",
       "      svd_v_d_3     svd_v_d_4     svd_v_d_5     svd_v_d_6  \\\n",
       "0  1.128585e-06 -6.616618e-14  9.771026e-13  4.159806e-14   \n",
       "1  4.416390e-10 -1.623732e-12  3.045292e-13  5.209866e-15   \n",
       "\n",
       "   preferential_score_followees  preferential_score_followers        ud_dot  \\\n",
       "0                            48                           165  1.114949e-11   \n",
       "1                           648                             1 -2.910106e-29   \n",
       "\n",
       "         vd_dot  \n",
       "0  2.238774e-12  \n",
       "1  2.009302e-23  \n",
       "\n",
       "[2 rows x 59 columns]"
      ]
     },
     "execution_count": 45,
     "metadata": {},
     "output_type": "execute_result"
    }
   ],
   "source": [
    "df_final_train.head(3)"
   ]
  },
  {
   "cell_type": "code",
   "execution_count": 46,
   "id": "b3fadf80",
   "metadata": {},
   "outputs": [],
   "source": [
    "su_S_te = np.array(df_final_test[['svd_u_s_1', 'svd_u_s_2', 'svd_u_s_3',\n",
    "                                                              'svd_u_s_4', 'svd_u_s_5', 'svd_u_s_6']])\n",
    "\n",
    "sv_S_te = np.array(df_final_test[['svd_v_s_1','svd_v_s_2', 'svd_v_s_3',\n",
    "                                                              'svd_v_s_4', 'svd_v_s_5', 'svd_v_s_6',]])\n",
    "\n",
    "du_D_te = np.array(df_final_test[['svd_u_d_1', 'svd_u_d_2', 'svd_u_d_3',\n",
    "                                                              'svd_u_d_4', 'svd_u_d_5', 'svd_u_d_6']])\n",
    "\n",
    "dv_D_te = np.array(df_final_test[['svd_v_d_1', 'svd_v_d_2', 'svd_v_d_3',\n",
    "                                                              'svd_v_d_4', 'svd_v_d_5', 'svd_v_d_6']])"
   ]
  },
  {
   "cell_type": "code",
   "execution_count": 47,
   "id": "1aaba743",
   "metadata": {},
   "outputs": [
    {
     "name": "stdout",
     "output_type": "stream",
     "text": [
      "Shape of Test dataset : BEFORE : (25076, 57)\n",
      "Shape of Test dataset : AFTER  : (25076, 59)\n"
     ]
    }
   ],
   "source": [
    "print(f'Shape of Test dataset : BEFORE : {df_final_test.shape}')\n",
    "\n",
    "u_dot_te = []\n",
    "v_dot_te = []\n",
    "\n",
    "for i in range(df_final_test.shape[0]):\n",
    "    u_dot_te.append(np.dot(su_S_te[i], du_D_te[i]))\n",
    "    v_dot_te.append(np.dot(sv_S_te[i], du_D_te[i]))\n",
    "    \n",
    "df_final_test['ud_dot'] = u_dot_te\n",
    "df_final_test['vd_dot'] = v_dot_te\n",
    "\n",
    "print(f'Shape of Test dataset : AFTER  : {df_final_test.shape}')"
   ]
  },
  {
   "cell_type": "code",
   "execution_count": 48,
   "id": "e0ba7d77",
   "metadata": {
    "scrolled": true
   },
   "outputs": [
    {
     "name": "stdout",
     "output_type": "stream",
     "text": [
      "Shape of Train dataset for Modeling : (100002, 59)\n",
      "\n",
      "Shape of Test dataset for Modeling  : (25076, 59)\n"
     ]
    }
   ],
   "source": [
    "print(f'Shape of Train dataset for Modeling : {df_final_train.shape}')\n",
    "print(f'\\nShape of Test dataset for Modeling  : {df_final_test.shape}')"
   ]
  },
  {
   "cell_type": "code",
   "execution_count": 49,
   "id": "e538439d",
   "metadata": {},
   "outputs": [
    {
     "name": "stdout",
     "output_type": "stream",
     "text": [
      "\n",
      "Total time took for FEA analysis    : 10.5 minutes\n"
     ]
    }
   ],
   "source": [
    "# Saving file into Pickle for future use\n",
    "\n",
    "with open('final_train.pickle', 'wb') as f:\n",
    "    pickle.dump(df_final_train, f)\n",
    "\n",
    "with open('final_test.pickle', 'wb') as f:\n",
    "    pickle.dump(df_final_test, f)\n",
    "    \n",
    "    \n",
    "time_fea_end = time.time()\n",
    "print(f'\\nTotal time took for FEA analysis    : {round((time_fea_end - time_start) / 60, 1)} minutes')    "
   ]
  },
  {
   "cell_type": "raw",
   "id": "7b2ad05a",
   "metadata": {},
   "source": []
  },
  {
   "cell_type": "raw",
   "id": "8dcc3160",
   "metadata": {},
   "source": []
  },
  {
   "cell_type": "raw",
   "id": "7db9404d",
   "metadata": {},
   "source": []
  },
  {
   "cell_type": "raw",
   "id": "e0a733e3",
   "metadata": {},
   "source": []
  },
  {
   "cell_type": "raw",
   "id": "c84aac57",
   "metadata": {},
   "source": []
  },
  {
   "cell_type": "raw",
   "id": "9fbb091b",
   "metadata": {},
   "source": []
  },
  {
   "cell_type": "raw",
   "id": "b3a45301",
   "metadata": {},
   "source": []
  },
  {
   "cell_type": "raw",
   "id": "23d9c04e",
   "metadata": {},
   "source": []
  },
  {
   "cell_type": "raw",
   "id": "0356c7bb",
   "metadata": {},
   "source": []
  },
  {
   "cell_type": "raw",
   "id": "229548eb",
   "metadata": {},
   "source": []
  },
  {
   "cell_type": "raw",
   "id": "67d95e04",
   "metadata": {},
   "source": []
  },
  {
   "cell_type": "raw",
   "id": "ec58ecc9",
   "metadata": {},
   "source": []
  },
  {
   "cell_type": "raw",
   "id": "82b7b65b",
   "metadata": {},
   "source": []
  },
  {
   "cell_type": "raw",
   "id": "a58b4f95",
   "metadata": {},
   "source": []
  },
  {
   "cell_type": "raw",
   "id": "be9fde09",
   "metadata": {},
   "source": []
  },
  {
   "cell_type": "raw",
   "id": "98407a1f",
   "metadata": {},
   "source": []
  },
  {
   "cell_type": "raw",
   "id": "d2c636ec",
   "metadata": {},
   "source": []
  },
  {
   "cell_type": "raw",
   "id": "9476c907",
   "metadata": {},
   "source": []
  },
  {
   "cell_type": "raw",
   "id": "225ff9ab",
   "metadata": {},
   "source": []
  },
  {
   "cell_type": "raw",
   "id": "9f43c640",
   "metadata": {},
   "source": []
  },
  {
   "cell_type": "raw",
   "id": "7909830c",
   "metadata": {},
   "source": []
  },
  {
   "cell_type": "raw",
   "id": "e7f524dc",
   "metadata": {},
   "source": []
  },
  {
   "cell_type": "raw",
   "id": "fb2f78bc",
   "metadata": {},
   "source": []
  },
  {
   "cell_type": "raw",
   "id": "67770369",
   "metadata": {},
   "source": []
  },
  {
   "cell_type": "raw",
   "id": "e2c6feee",
   "metadata": {},
   "source": []
  },
  {
   "cell_type": "raw",
   "id": "f08df66c",
   "metadata": {},
   "source": []
  },
  {
   "cell_type": "raw",
   "id": "663921aa",
   "metadata": {},
   "source": []
  },
  {
   "cell_type": "raw",
   "id": "a8262714",
   "metadata": {},
   "source": []
  },
  {
   "cell_type": "raw",
   "id": "00e1a8ca",
   "metadata": {},
   "source": []
  },
  {
   "cell_type": "raw",
   "id": "060418bf",
   "metadata": {},
   "source": []
  },
  {
   "cell_type": "raw",
   "id": "076c30a0",
   "metadata": {},
   "source": []
  },
  {
   "cell_type": "raw",
   "id": "7f81973d",
   "metadata": {},
   "source": []
  },
  {
   "cell_type": "raw",
   "id": "d5ce0d44",
   "metadata": {},
   "source": []
  },
  {
   "cell_type": "raw",
   "id": "6156ae47",
   "metadata": {},
   "source": []
  },
  {
   "cell_type": "raw",
   "id": "3b9f408e",
   "metadata": {},
   "source": []
  },
  {
   "cell_type": "raw",
   "id": "e89f2252",
   "metadata": {},
   "source": []
  },
  {
   "cell_type": "raw",
   "id": "80bcf7c8",
   "metadata": {},
   "source": []
  },
  {
   "cell_type": "raw",
   "id": "f879a1ca",
   "metadata": {},
   "source": []
  },
  {
   "cell_type": "raw",
   "id": "cddc3149",
   "metadata": {},
   "source": []
  },
  {
   "cell_type": "raw",
   "id": "0603aa34",
   "metadata": {},
   "source": []
  },
  {
   "cell_type": "raw",
   "id": "6f76d29b",
   "metadata": {},
   "source": []
  },
  {
   "cell_type": "raw",
   "id": "4df1941e",
   "metadata": {},
   "source": []
  },
  {
   "cell_type": "raw",
   "id": "ab168744",
   "metadata": {},
   "source": []
  },
  {
   "cell_type": "raw",
   "id": "afe0ad89",
   "metadata": {},
   "source": []
  },
  {
   "cell_type": "raw",
   "id": "2943dc8e",
   "metadata": {},
   "source": []
  },
  {
   "cell_type": "raw",
   "id": "6d75b614",
   "metadata": {},
   "source": []
  },
  {
   "cell_type": "raw",
   "id": "a855bd25",
   "metadata": {},
   "source": []
  },
  {
   "cell_type": "raw",
   "id": "426f44ee",
   "metadata": {},
   "source": []
  },
  {
   "cell_type": "raw",
   "id": "9031f152",
   "metadata": {},
   "source": []
  },
  {
   "cell_type": "raw",
   "id": "0120936d",
   "metadata": {},
   "source": []
  },
  {
   "cell_type": "raw",
   "id": "a38f437e",
   "metadata": {},
   "source": []
  },
  {
   "cell_type": "raw",
   "id": "34999b32",
   "metadata": {},
   "source": []
  },
  {
   "cell_type": "raw",
   "id": "218dcefb",
   "metadata": {},
   "source": []
  },
  {
   "cell_type": "raw",
   "id": "c540a6bf",
   "metadata": {},
   "source": []
  },
  {
   "cell_type": "raw",
   "id": "d1b1269c",
   "metadata": {},
   "source": []
  },
  {
   "cell_type": "raw",
   "id": "898f4f68",
   "metadata": {},
   "source": []
  },
  {
   "cell_type": "raw",
   "id": "1d630c1a",
   "metadata": {},
   "source": []
  },
  {
   "cell_type": "raw",
   "id": "f93ef155",
   "metadata": {},
   "source": []
  },
  {
   "cell_type": "raw",
   "id": "ec23cf5e",
   "metadata": {},
   "source": []
  },
  {
   "cell_type": "raw",
   "id": "07afdb9e",
   "metadata": {},
   "source": []
  },
  {
   "cell_type": "raw",
   "id": "336bf33a",
   "metadata": {},
   "source": []
  },
  {
   "cell_type": "raw",
   "id": "c8efe5da",
   "metadata": {},
   "source": []
  },
  {
   "cell_type": "raw",
   "id": "ca8951d2",
   "metadata": {},
   "source": []
  },
  {
   "cell_type": "raw",
   "id": "176cd7e4",
   "metadata": {},
   "source": []
  },
  {
   "cell_type": "raw",
   "id": "a00a83d8",
   "metadata": {},
   "source": []
  },
  {
   "cell_type": "raw",
   "id": "7d2abd3f",
   "metadata": {},
   "source": []
  },
  {
   "cell_type": "raw",
   "id": "1906d90e",
   "metadata": {},
   "source": []
  },
  {
   "cell_type": "raw",
   "id": "a47fcb8b",
   "metadata": {},
   "source": []
  },
  {
   "cell_type": "raw",
   "id": "49d18266",
   "metadata": {},
   "source": []
  },
  {
   "cell_type": "raw",
   "id": "95bd49c1",
   "metadata": {},
   "source": []
  },
  {
   "cell_type": "raw",
   "id": "e8d2e358",
   "metadata": {},
   "source": []
  },
  {
   "cell_type": "raw",
   "id": "e31fadb9",
   "metadata": {},
   "source": []
  },
  {
   "cell_type": "raw",
   "id": "15c1e57d",
   "metadata": {},
   "source": []
  },
  {
   "cell_type": "raw",
   "id": "ee5e4dba",
   "metadata": {},
   "source": []
  },
  {
   "cell_type": "raw",
   "id": "6658d43d",
   "metadata": {},
   "source": []
  },
  {
   "cell_type": "raw",
   "id": "3222abbf",
   "metadata": {},
   "source": []
  },
  {
   "cell_type": "raw",
   "id": "666a116f",
   "metadata": {},
   "source": []
  },
  {
   "cell_type": "raw",
   "id": "c445dbe4",
   "metadata": {},
   "source": []
  },
  {
   "cell_type": "raw",
   "id": "f5ea5cec",
   "metadata": {},
   "source": []
  },
  {
   "cell_type": "raw",
   "id": "88387a8d",
   "metadata": {},
   "source": []
  },
  {
   "cell_type": "raw",
   "id": "ea3c3f54",
   "metadata": {},
   "source": []
  },
  {
   "cell_type": "raw",
   "id": "400d2015",
   "metadata": {},
   "source": []
  },
  {
   "cell_type": "raw",
   "id": "11cc67d0",
   "metadata": {},
   "source": []
  },
  {
   "cell_type": "raw",
   "id": "a6d45204",
   "metadata": {},
   "source": []
  },
  {
   "cell_type": "raw",
   "id": "4835e2c8",
   "metadata": {},
   "source": []
  },
  {
   "cell_type": "raw",
   "id": "16febf9e",
   "metadata": {},
   "source": []
  },
  {
   "cell_type": "raw",
   "id": "0bc8efea",
   "metadata": {},
   "source": []
  },
  {
   "cell_type": "raw",
   "id": "a316c5c5",
   "metadata": {},
   "source": []
  },
  {
   "cell_type": "raw",
   "id": "663303af",
   "metadata": {},
   "source": []
  },
  {
   "cell_type": "raw",
   "id": "de9ad8cc",
   "metadata": {},
   "source": []
  },
  {
   "cell_type": "raw",
   "id": "5f718a2b",
   "metadata": {},
   "source": []
  },
  {
   "cell_type": "raw",
   "id": "41c2eddd",
   "metadata": {},
   "source": []
  },
  {
   "cell_type": "raw",
   "id": "575d7e19",
   "metadata": {},
   "source": []
  },
  {
   "cell_type": "raw",
   "id": "fef357f7",
   "metadata": {},
   "source": []
  },
  {
   "cell_type": "raw",
   "id": "a0d5fd51",
   "metadata": {},
   "source": []
  },
  {
   "cell_type": "markdown",
   "id": "60ff6852",
   "metadata": {},
   "source": [
    "# Modeling"
   ]
  },
  {
   "cell_type": "code",
   "execution_count": 1,
   "id": "7a74cfa4",
   "metadata": {},
   "outputs": [],
   "source": [
    "# Importing Libraries\n",
    "# pip install tables\n",
    "\n",
    "import time\n",
    "time_start = time.time()\n",
    "\n",
    "import warnings\n",
    "warnings.filterwarnings(\"ignore\")\n",
    "\n",
    "import os\n",
    "import csv\n",
    "import random\n",
    "import pickle\n",
    "\n",
    "import numpy as np\n",
    "import pandas as pd\n",
    "from tqdm import tqdm\n",
    "\n",
    "import seaborn as sns\n",
    "import matplotlib.pyplot as plt\n",
    "from prettytable import PrettyTable \n",
    "\n",
    "from collections import Counter\n",
    "from scipy.stats import randint as sp_randint\n",
    "\n",
    "from sklearn.metrics import f1_score\n",
    "from sklearn.metrics import roc_curve, auc\n",
    "from scipy.sparse.linalg import svds, eigs\n",
    "\n",
    "from sklearn.metrics import confusion_matrix\n",
    "from sklearn.ensemble import RandomForestClassifier\n",
    "from sklearn.model_selection import train_test_split\n",
    "from sklearn.model_selection import RandomizedSearchCV\n",
    "\n",
    "import networkx as nx\n",
    "\n",
    "import xgboost as xgb\n",
    "\n",
    "tqdm.pandas()"
   ]
  },
  {
   "cell_type": "code",
   "execution_count": 2,
   "id": "a854459b",
   "metadata": {},
   "outputs": [],
   "source": [
    "with open('final_train.pickle', 'rb') as f:\n",
    "    df_final_train = pickle.load(f)\n",
    "    \n",
    "with open('final_test.pickle', 'rb') as f:\n",
    "    df_final_test = pickle.load(f)    "
   ]
  },
  {
   "cell_type": "code",
   "execution_count": 3,
   "id": "bc430695",
   "metadata": {},
   "outputs": [],
   "source": [
    "# Extracting 'y' values\n",
    "\n",
    "y_train = df_final_train.indicator_link\n",
    "y_test = df_final_test.indicator_link\n",
    "\n",
    "# Dropping unwanted columns\n",
    "\n",
    "df_final_train.drop(['source_node', 'destination_node', 'indicator_link'], axis = 1, inplace = True)\n",
    "df_final_test.drop(['source_node', 'destination_node', 'indicator_link'], axis = 1, inplace = True)"
   ]
  },
  {
   "cell_type": "markdown",
   "id": "dcdfa01a",
   "metadata": {},
   "source": [
    "## 1. <font color = 'red'>Random Forest Classifier</font>\n",
    "With hyper-parameter tuning"
   ]
  },
  {
   "cell_type": "code",
   "execution_count": 4,
   "id": "846e8a74",
   "metadata": {},
   "outputs": [
    {
     "name": "stdout",
     "output_type": "stream",
     "text": [
      "Number of estimator values : 5\n",
      "\n",
      "Estimators = 10 Train Score 0.9235746142088401 test Score 0.8926215277777777\n",
      "Estimators = 50 Train Score 0.9195673755159622 test Score 0.9100884654644438\n",
      "Estimators = 100 Train Score 0.9205310435380671 test Score 0.9051213167881966\n",
      "Estimators = 250 Train Score 0.920582657803155 test Score 0.9083949987241644\n",
      "Estimators = 450 Train Score 0.9209838217370017 test Score 0.9059916474899855\n"
     ]
    },
    {
     "data": {
      "image/png": "[encoded data removed]",
      "text/plain": [
       "<Figure size 432x288 with 1 Axes>"
      ]
     },
     "metadata": {
      "needs_background": "light"
     },
     "output_type": "display_data"
    }
   ],
   "source": [
    "estimators = [10,50,100,250,450]\n",
    "\n",
    "train_scores = []\n",
    "test_scores = []\n",
    "\n",
    "print(f'Number of estimator values : {len(estimators)}\\n')\n",
    "\n",
    "for i in estimators:\n",
    "    \n",
    "    clf = RandomForestClassifier(bootstrap = True, class_weight = None, criterion = 'gini',\n",
    "            max_depth = 5, max_features = 'auto', max_leaf_nodes = None,\n",
    "            min_impurity_decrease = 0.0, min_samples_leaf = 52, min_samples_split = 120,\n",
    "            min_weight_fraction_leaf = 0.0, n_estimators = i, n_jobs = -1, random_state = 25,\n",
    "            verbose = 0, warm_start = False)\n",
    "    \n",
    "    clf.fit(df_final_train, y_train)\n",
    "    \n",
    "    train_sc = f1_score(y_train, clf.predict(df_final_train))\n",
    "    test_sc = f1_score(y_test, clf.predict(df_final_test))\n",
    "    \n",
    "    test_scores.append(test_sc)\n",
    "    train_scores.append(train_sc)\n",
    "    \n",
    "    print(f'Estimators = {i} Train Score {train_sc} test Score {test_sc}')\n",
    "    \n",
    "# Ploting graph\n",
    "\n",
    "plt.plot(estimators, train_scores, label = 'Train Score')\n",
    "plt.plot(estimators, test_scores, label = 'Test Score')\n",
    "\n",
    "plt.title('Estimators vs score at depth of 5')\n",
    "plt.xlabel('Estimators')\n",
    "plt.ylabel('Score')\n",
    "\n",
    "plt.show()"
   ]
  },
  {
   "cell_type": "code",
   "execution_count": 5,
   "id": "81e5a540",
   "metadata": {},
   "outputs": [
    {
     "name": "stdout",
     "output_type": "stream",
     "text": [
      "Number of depth values : 5\n",
      "\n",
      "depth = 3 Train Score 0.8949420377014163 test Score 0.8637890927888344\n",
      "depth = 9 Train Score 0.9621921257284413 test Score 0.9067103109656302\n",
      "depth = 11 Train Score 0.9647230557132431 test Score 0.9262222222222222\n",
      "depth = 15 Train Score 0.966256330109502 test Score 0.9253097946019352\n",
      "depth = 20 Train Score 0.9657685826244087 test Score 0.9213674485929584\n",
      "depth = 35 Train Score 0.9658309724718473 test Score 0.9211770216752545\n",
      "depth = 50 Train Score 0.9658309724718473 test Score 0.9211770216752545\n",
      "depth = 70 Train Score 0.9658309724718473 test Score 0.9211770216752545\n",
      "depth = 130 Train Score 0.9658309724718473 test Score 0.9211770216752545\n"
     ]
    },
    {
     "data": {
      "image/png": "[encoded data removed]",
      "text/plain": [
       "<Figure size 432x288 with 1 Axes>"
      ]
     },
     "metadata": {
      "needs_background": "light"
     },
     "output_type": "display_data"
    }
   ],
   "source": [
    "depths = [3,9,11,15,20,35,50,70,130]\n",
    "\n",
    "train_scores = []\n",
    "test_scores = []\n",
    "\n",
    "print(f'Number of depth values : {len(estimators)}\\n')\n",
    "\n",
    "for i in depths:\n",
    "    \n",
    "    clf = RandomForestClassifier(bootstrap = True, class_weight = None, criterion = 'gini', max_depth = i,\n",
    "          max_features = 'auto', max_leaf_nodes = None, min_impurity_decrease = 0.0, min_samples_leaf = 52,\n",
    "          min_samples_split = 120, min_weight_fraction_leaf = 0.0, n_estimators = 115, n_jobs = -1,\n",
    "          random_state = 25, verbose = 0, warm_start = False)\n",
    "    \n",
    "    clf.fit(df_final_train, y_train)\n",
    "    \n",
    "    train_sc = f1_score(y_train,clf.predict(df_final_train))\n",
    "    test_sc = f1_score(y_test,clf.predict(df_final_test))\n",
    "    \n",
    "    test_scores.append(test_sc)\n",
    "    train_scores.append(train_sc)\n",
    "    \n",
    "    print(f'depth = {i} Train Score {train_sc} test Score {test_sc}')\n",
    "\n",
    "# Ploting graph\n",
    "\n",
    "plt.plot(depths, train_scores, label = 'Train Score')\n",
    "plt.plot(depths, test_scores, label = 'Test Score')\n",
    "\n",
    "plt.title('Depth vs score at depth of 5 at estimators = 115')\n",
    "plt.xlabel('Depth')\n",
    "plt.ylabel('Score')\n",
    "\n",
    "plt.show()"
   ]
  },
  {
   "cell_type": "code",
   "execution_count": 6,
   "id": "810b1a4f",
   "metadata": {},
   "outputs": [
    {
     "name": "stdout",
     "output_type": "stream",
     "text": [
      "Mean test scores   : [0.9646607  0.96425218 0.96289851 0.96409788 0.96576445]\n",
      "\n",
      "Mean train scores  : [0.96571685 0.96503434 0.96358994 0.96484872 0.96686072]\n",
      "\n",
      "Best Estimatores   : RandomForestClassifier(max_depth=14, min_samples_leaf=28, min_samples_split=111,\n",
      "                       n_estimators=121, n_jobs=-1, random_state=25)\n"
     ]
    }
   ],
   "source": [
    "param_dist = {'n_estimators' : sp_randint(105,125),\n",
    "              'max_depth' :  sp_randint(10,15),\n",
    "              'min_samples_split' :  sp_randint(110,190),\n",
    "              'min_samples_leaf' :  sp_randint(25,65) }\n",
    "\n",
    "clf = RandomForestClassifier(random_state = 25, n_jobs = -1)\n",
    "\n",
    "rf_random = RandomizedSearchCV(clf, param_distributions = param_dist, n_iter = 5, cv = 10,\n",
    "                               scoring = 'f1', random_state = 25, return_train_score = True)\n",
    "\n",
    "rf_random.fit(df_final_train,y_train)\n",
    "\n",
    "print(f\"Mean test scores   : {rf_random.cv_results_['mean_test_score']}\\n\")\n",
    "print(f\"Mean train scores  : {rf_random.cv_results_['mean_train_score']}\\n\")\n",
    "print(f'Best Estimatores   : {rf_random.best_estimator_}')"
   ]
  },
  {
   "cell_type": "code",
   "execution_count": 7,
   "id": "c53a9719",
   "metadata": {},
   "outputs": [],
   "source": [
    "# Taking Best Parameters\n",
    "\n",
    "rf_n_estimators = rf_random.best_params_['n_estimators']\n",
    "rf_max_depth = rf_random.best_params_['max_depth']\n",
    "rf_min_samples_split = rf_random.best_params_['min_samples_split']\n",
    "rf_min_samples_leaf = rf_random.best_params_['min_samples_leaf']"
   ]
  },
  {
   "cell_type": "code",
   "execution_count": 8,
   "id": "45da573d",
   "metadata": {},
   "outputs": [],
   "source": [
    "# Tunned Model\n",
    "\n",
    "clf = RandomForestClassifier(n_estimators = rf_n_estimators, max_depth = rf_max_depth, \n",
    "                min_samples_leaf = rf_min_samples_leaf, min_samples_split = rf_min_samples_split,\n",
    "                bootstrap = True, class_weight = None, criterion = 'gini', max_features = 'auto',\n",
    "                max_leaf_nodes = None, min_impurity_decrease = 0.0, min_weight_fraction_leaf = 0.0,\n",
    "                n_jobs = -1, oob_score = False, random_state = 25, verbose = 0, warm_start = False)\n",
    "\n",
    "clf.fit(df_final_train,y_train)\n",
    "\n",
    "y_train_pred = clf.predict(df_final_train)\n",
    "y_test_pred = clf.predict(df_final_test)"
   ]
  },
  {
   "cell_type": "code",
   "execution_count": 9,
   "id": "1a577138",
   "metadata": {},
   "outputs": [
    {
     "name": "stdout",
     "output_type": "stream",
     "text": [
      "Train F1 score : 0.9667994148244473\n",
      "\n",
      "Test F1 score  : 0.922211808809747\n"
     ]
    }
   ],
   "source": [
    "rf_f1_tr = f1_score(y_train ,y_train_pred)\n",
    "rf_f1_te = f1_score(y_test, y_test_pred)\n",
    "\n",
    "print(f'Train F1 score : {rf_f1_tr}\\n')\n",
    "print(f'Test F1 score  : {rf_f1_te}')"
   ]
  },
  {
   "cell_type": "code",
   "execution_count": 10,
   "id": "ec0eb9a6",
   "metadata": {},
   "outputs": [],
   "source": [
    "def plot_confusion_matrix(test_y, predict_y):\n",
    "    \n",
    "    C = confusion_matrix(test_y, predict_y)\n",
    "    \n",
    "    A =(((C.T) / (C.sum(axis = 1))).T)\n",
    "    \n",
    "    B = (C / C.sum(axis = 0))\n",
    "    \n",
    "    plt.figure(figsize = (20, 4))\n",
    "    \n",
    "    labels = [0,1]\n",
    "    \n",
    "    # representing A in heatmap format\n",
    "    cmap = sns.light_palette('aquamarine')\n",
    "    \n",
    "    plt.subplot(1, 3, 1)\n",
    "    sns.heatmap(C, annot = True, cmap = cmap, fmt = '.3f', xticklabels = labels, yticklabels = labels)\n",
    "    plt.title('Confusion matrix')\n",
    "    plt.xlabel('Predicted Class')\n",
    "    plt.ylabel('Original Class')\n",
    "    \n",
    "    plt.subplot(1, 3, 2)\n",
    "    sns.heatmap(B, annot = True, cmap = cmap, fmt = '.3f', xticklabels = labels, yticklabels = labels)\n",
    "    plt.title('Precision matrix')\n",
    "    plt.xlabel('Predicted Class')\n",
    "    plt.ylabel('Original Class')\n",
    "    \n",
    "    plt.subplot(1, 3, 3)\n",
    "    # representing B in heatmap format\n",
    "    sns.heatmap(A, annot = True, cmap = cmap, fmt = '.3f', xticklabels = labels, yticklabels = labels)\n",
    "    plt.title('Recall matrix')\n",
    "    plt.xlabel('Predicted Class')\n",
    "    plt.ylabel('Original Class')\n",
    "\n",
    "    plt.show()"
   ]
  },
  {
   "cell_type": "code",
   "execution_count": 11,
   "id": "acf8f54f",
   "metadata": {},
   "outputs": [
    {
     "name": "stdout",
     "output_type": "stream",
     "text": [
      "Train confusion_matrix\n"
     ]
    },
    {
     "data": {
      "image/png": "[encoded data removed]",
      "text/plain": [
       "<Figure size 1440x288 with 6 Axes>"
      ]
     },
     "metadata": {
      "needs_background": "light"
     },
     "output_type": "display_data"
    },
    {
     "name": "stdout",
     "output_type": "stream",
     "text": [
      "\n",
      "Test confusion_matrix\n"
     ]
    },
    {
     "data": {
      "image/png": "[encoded data removed]",
      "text/plain": [
       "<Figure size 1440x288 with 6 Axes>"
      ]
     },
     "metadata": {
      "needs_background": "light"
     },
     "output_type": "display_data"
    }
   ],
   "source": [
    "print('Train confusion_matrix')\n",
    "plot_confusion_matrix(y_train, y_train_pred)\n",
    "\n",
    "print('\\nTest confusion_matrix')\n",
    "plot_confusion_matrix(y_test, y_test_pred)"
   ]
  },
  {
   "cell_type": "code",
   "execution_count": 12,
   "id": "1970e14f",
   "metadata": {},
   "outputs": [
    {
     "data": {
      "image/png": "[encoded data removed]",
      "text/plain": [
       "<Figure size 432x288 with 1 Axes>"
      ]
     },
     "metadata": {
      "needs_background": "light"
     },
     "output_type": "display_data"
    }
   ],
   "source": [
    "fpr, tpr, ths = roc_curve(y_test, y_test_pred)\n",
    "rf_auc_sc = auc(fpr, tpr)\n",
    "\n",
    "plt.plot(fpr, tpr, color = 'orangered', label = 'ROC curve (area = %0.2f)' % rf_auc_sc)\n",
    "\n",
    "plt.title('Receiver operating characteristic with test data')\n",
    "plt.xlabel('False Positive Rate')\n",
    "plt.ylabel('True Positive Rate')\n",
    "plt.legend(loc = 4)\n",
    "\n",
    "plt.show()"
   ]
  },
  {
   "cell_type": "code",
   "execution_count": 13,
   "id": "0de9b2b0",
   "metadata": {},
   "outputs": [
    {
     "data": {
      "image/png": "[encoded data removed]",
      "text/plain": [
       "<Figure size 720x864 with 1 Axes>"
      ]
     },
     "metadata": {
      "needs_background": "light"
     },
     "output_type": "display_data"
    }
   ],
   "source": [
    "features = df_final_train.columns\n",
    "importances = clf.feature_importances_\n",
    "indices = (np.argsort(importances))[-25:]\n",
    "\n",
    "plt.figure(figsize = (10, 12))\n",
    "plt.barh(range(len(indices)), importances[indices], color = 'coral', align = 'center')\n",
    "plt.yticks(range(len(indices)), [features[i] for i in indices])\n",
    "\n",
    "plt.title('Feature Importances')\n",
    "plt.xlabel('Relative Importance')\n",
    "\n",
    "plt.show()"
   ]
  },
  {
   "cell_type": "markdown",
   "id": "d54baab3",
   "metadata": {},
   "source": [
    "## 2. <font color = 'red'>XG Boost</font>\n",
    "With hyper-parameter tuning"
   ]
  },
  {
   "cell_type": "code",
   "execution_count": 14,
   "id": "34e02478",
   "metadata": {
    "scrolled": true
   },
   "outputs": [
    {
     "name": "stderr",
     "output_type": "stream",
     "text": [
      "/home/jishnu/anaconda3/envs/AAIC_/lib/python3.9/site-packages/xgboost/compat.py:36: FutureWarning: pandas.Int64Index is deprecated and will be removed from pandas in a future version. Use pandas.Index with the appropriate dtype instead.\n",
      "  from pandas import MultiIndex, Int64Index\n",
      "/home/jishnu/anaconda3/envs/AAIC_/lib/python3.9/site-packages/xgboost/compat.py:36: FutureWarning: pandas.Int64Index is deprecated and will be removed from pandas in a future version. Use pandas.Index with the appropriate dtype instead.\n",
      "  from pandas import MultiIndex, Int64Index\n",
      "/home/jishnu/anaconda3/envs/AAIC_/lib/python3.9/site-packages/xgboost/compat.py:36: FutureWarning: pandas.Int64Index is deprecated and will be removed from pandas in a future version. Use pandas.Index with the appropriate dtype instead.\n",
      "  from pandas import MultiIndex, Int64Index\n",
      "/home/jishnu/anaconda3/envs/AAIC_/lib/python3.9/site-packages/xgboost/compat.py:36: FutureWarning: pandas.Int64Index is deprecated and will be removed from pandas in a future version. Use pandas.Index with the appropriate dtype instead.\n",
      "  from pandas import MultiIndex, Int64Index\n",
      "/home/jishnu/anaconda3/envs/AAIC_/lib/python3.9/site-packages/xgboost/compat.py:36: FutureWarning: pandas.Int64Index is deprecated and will be removed from pandas in a future version. Use pandas.Index with the appropriate dtype instead.\n",
      "  from pandas import MultiIndex, Int64Index\n",
      "/home/jishnu/anaconda3/envs/AAIC_/lib/python3.9/site-packages/xgboost/compat.py:36: FutureWarning: pandas.Int64Index is deprecated and will be removed from pandas in a future version. Use pandas.Index with the appropriate dtype instead.\n",
      "  from pandas import MultiIndex, Int64Index\n",
      "/home/jishnu/anaconda3/envs/AAIC_/lib/python3.9/site-packages/xgboost/compat.py:36: FutureWarning: pandas.Int64Index is deprecated and will be removed from pandas in a future version. Use pandas.Index with the appropriate dtype instead.\n",
      "  from pandas import MultiIndex, Int64Index\n",
      "/home/jishnu/anaconda3/envs/AAIC_/lib/python3.9/site-packages/xgboost/compat.py:36: FutureWarning: pandas.Int64Index is deprecated and will be removed from pandas in a future version. Use pandas.Index with the appropriate dtype instead.\n",
      "  from pandas import MultiIndex, Int64Index\n",
      "/home/jishnu/anaconda3/envs/AAIC_/lib/python3.9/site-packages/xgboost/sklearn.py:1224: UserWarning: The use of label encoder in XGBClassifier is deprecated and will be removed in a future release. To remove this warning, do the following: 1) Pass option use_label_encoder=False when constructing XGBClassifier object; and 2) Encode your labels (y) as integers starting with 0, i.e. 0, 1, 2, ..., [num_class - 1].\n",
      "  warnings.warn(label_encoder_deprecation_msg, UserWarning)\n",
      "/home/jishnu/anaconda3/envs/AAIC_/lib/python3.9/site-packages/xgboost/data.py:262: FutureWarning: pandas.Int64Index is deprecated and will be removed from pandas in a future version. Use pandas.Index with the appropriate dtype instead.\n",
      "  elif isinstance(data.columns, (pd.Int64Index, pd.RangeIndex)):\n",
      "/home/jishnu/anaconda3/envs/AAIC_/lib/python3.9/site-packages/xgboost/sklearn.py:1224: UserWarning: The use of label encoder in XGBClassifier is deprecated and will be removed in a future release. To remove this warning, do the following: 1) Pass option use_label_encoder=False when constructing XGBClassifier object; and 2) Encode your labels (y) as integers starting with 0, i.e. 0, 1, 2, ..., [num_class - 1].\n",
      "  warnings.warn(label_encoder_deprecation_msg, UserWarning)\n",
      "/home/jishnu/anaconda3/envs/AAIC_/lib/python3.9/site-packages/xgboost/data.py:262: FutureWarning: pandas.Int64Index is deprecated and will be removed from pandas in a future version. Use pandas.Index with the appropriate dtype instead.\n",
      "  elif isinstance(data.columns, (pd.Int64Index, pd.RangeIndex)):\n",
      "/home/jishnu/anaconda3/envs/AAIC_/lib/python3.9/site-packages/xgboost/sklearn.py:1224: UserWarning: The use of label encoder in XGBClassifier is deprecated and will be removed in a future release. To remove this warning, do the following: 1) Pass option use_label_encoder=False when constructing XGBClassifier object; and 2) Encode your labels (y) as integers starting with 0, i.e. 0, 1, 2, ..., [num_class - 1].\n",
      "  warnings.warn(label_encoder_deprecation_msg, UserWarning)\n",
      "/home/jishnu/anaconda3/envs/AAIC_/lib/python3.9/site-packages/xgboost/sklearn.py:1224: UserWarning: The use of label encoder in XGBClassifier is deprecated and will be removed in a future release. To remove this warning, do the following: 1) Pass option use_label_encoder=False when constructing XGBClassifier object; and 2) Encode your labels (y) as integers starting with 0, i.e. 0, 1, 2, ..., [num_class - 1].\n",
      "  warnings.warn(label_encoder_deprecation_msg, UserWarning)\n",
      "/home/jishnu/anaconda3/envs/AAIC_/lib/python3.9/site-packages/xgboost/data.py:262: FutureWarning: pandas.Int64Index is deprecated and will be removed from pandas in a future version. Use pandas.Index with the appropriate dtype instead.\n",
      "  elif isinstance(data.columns, (pd.Int64Index, pd.RangeIndex)):\n",
      "/home/jishnu/anaconda3/envs/AAIC_/lib/python3.9/site-packages/xgboost/data.py:262: FutureWarning: pandas.Int64Index is deprecated and will be removed from pandas in a future version. Use pandas.Index with the appropriate dtype instead.\n",
      "  elif isinstance(data.columns, (pd.Int64Index, pd.RangeIndex)):\n",
      "/home/jishnu/anaconda3/envs/AAIC_/lib/python3.9/site-packages/xgboost/sklearn.py:1224: UserWarning: The use of label encoder in XGBClassifier is deprecated and will be removed in a future release. To remove this warning, do the following: 1) Pass option use_label_encoder=False when constructing XGBClassifier object; and 2) Encode your labels (y) as integers starting with 0, i.e. 0, 1, 2, ..., [num_class - 1].\n",
      "  warnings.warn(label_encoder_deprecation_msg, UserWarning)\n",
      "/home/jishnu/anaconda3/envs/AAIC_/lib/python3.9/site-packages/xgboost/data.py:262: FutureWarning: pandas.Int64Index is deprecated and will be removed from pandas in a future version. Use pandas.Index with the appropriate dtype instead.\n",
      "  elif isinstance(data.columns, (pd.Int64Index, pd.RangeIndex)):\n",
      "/home/jishnu/anaconda3/envs/AAIC_/lib/python3.9/site-packages/xgboost/sklearn.py:1224: UserWarning: The use of label encoder in XGBClassifier is deprecated and will be removed in a future release. To remove this warning, do the following: 1) Pass option use_label_encoder=False when constructing XGBClassifier object; and 2) Encode your labels (y) as integers starting with 0, i.e. 0, 1, 2, ..., [num_class - 1].\n",
      "  warnings.warn(label_encoder_deprecation_msg, UserWarning)\n",
      "/home/jishnu/anaconda3/envs/AAIC_/lib/python3.9/site-packages/xgboost/data.py:262: FutureWarning: pandas.Int64Index is deprecated and will be removed from pandas in a future version. Use pandas.Index with the appropriate dtype instead.\n",
      "  elif isinstance(data.columns, (pd.Int64Index, pd.RangeIndex)):\n",
      "/home/jishnu/anaconda3/envs/AAIC_/lib/python3.9/site-packages/xgboost/sklearn.py:1224: UserWarning: The use of label encoder in XGBClassifier is deprecated and will be removed in a future release. To remove this warning, do the following: 1) Pass option use_label_encoder=False when constructing XGBClassifier object; and 2) Encode your labels (y) as integers starting with 0, i.e. 0, 1, 2, ..., [num_class - 1].\n",
      "  warnings.warn(label_encoder_deprecation_msg, UserWarning)\n",
      "/home/jishnu/anaconda3/envs/AAIC_/lib/python3.9/site-packages/xgboost/data.py:262: FutureWarning: pandas.Int64Index is deprecated and will be removed from pandas in a future version. Use pandas.Index with the appropriate dtype instead.\n",
      "  elif isinstance(data.columns, (pd.Int64Index, pd.RangeIndex)):\n",
      "/home/jishnu/anaconda3/envs/AAIC_/lib/python3.9/site-packages/xgboost/sklearn.py:1224: UserWarning: The use of label encoder in XGBClassifier is deprecated and will be removed in a future release. To remove this warning, do the following: 1) Pass option use_label_encoder=False when constructing XGBClassifier object; and 2) Encode your labels (y) as integers starting with 0, i.e. 0, 1, 2, ..., [num_class - 1].\n",
      "  warnings.warn(label_encoder_deprecation_msg, UserWarning)\n",
      "/home/jishnu/anaconda3/envs/AAIC_/lib/python3.9/site-packages/xgboost/data.py:262: FutureWarning: pandas.Int64Index is deprecated and will be removed from pandas in a future version. Use pandas.Index with the appropriate dtype instead.\n",
      "  elif isinstance(data.columns, (pd.Int64Index, pd.RangeIndex)):\n"
     ]
    },
    {
     "name": "stderr",
     "output_type": "stream",
     "text": [
      "/home/jishnu/anaconda3/envs/AAIC_/lib/python3.9/site-packages/xgboost/data.py:262: FutureWarning: pandas.Int64Index is deprecated and will be removed from pandas in a future version. Use pandas.Index with the appropriate dtype instead.\n",
      "  elif isinstance(data.columns, (pd.Int64Index, pd.RangeIndex)):\n",
      "/home/jishnu/anaconda3/envs/AAIC_/lib/python3.9/site-packages/xgboost/data.py:262: FutureWarning: pandas.Int64Index is deprecated and will be removed from pandas in a future version. Use pandas.Index with the appropriate dtype instead.\n",
      "  elif isinstance(data.columns, (pd.Int64Index, pd.RangeIndex)):\n",
      "/home/jishnu/anaconda3/envs/AAIC_/lib/python3.9/site-packages/xgboost/data.py:262: FutureWarning: pandas.Int64Index is deprecated and will be removed from pandas in a future version. Use pandas.Index with the appropriate dtype instead.\n",
      "  elif isinstance(data.columns, (pd.Int64Index, pd.RangeIndex)):\n",
      "/home/jishnu/anaconda3/envs/AAIC_/lib/python3.9/site-packages/xgboost/data.py:262: FutureWarning: pandas.Int64Index is deprecated and will be removed from pandas in a future version. Use pandas.Index with the appropriate dtype instead.\n",
      "  elif isinstance(data.columns, (pd.Int64Index, pd.RangeIndex)):\n",
      "/home/jishnu/anaconda3/envs/AAIC_/lib/python3.9/site-packages/xgboost/data.py:262: FutureWarning: pandas.Int64Index is deprecated and will be removed from pandas in a future version. Use pandas.Index with the appropriate dtype instead.\n",
      "  elif isinstance(data.columns, (pd.Int64Index, pd.RangeIndex)):\n",
      "/home/jishnu/anaconda3/envs/AAIC_/lib/python3.9/site-packages/xgboost/data.py:262: FutureWarning: pandas.Int64Index is deprecated and will be removed from pandas in a future version. Use pandas.Index with the appropriate dtype instead.\n",
      "  elif isinstance(data.columns, (pd.Int64Index, pd.RangeIndex)):\n",
      "/home/jishnu/anaconda3/envs/AAIC_/lib/python3.9/site-packages/xgboost/data.py:262: FutureWarning: pandas.Int64Index is deprecated and will be removed from pandas in a future version. Use pandas.Index with the appropriate dtype instead.\n",
      "  elif isinstance(data.columns, (pd.Int64Index, pd.RangeIndex)):\n",
      "/home/jishnu/anaconda3/envs/AAIC_/lib/python3.9/site-packages/xgboost/data.py:262: FutureWarning: pandas.Int64Index is deprecated and will be removed from pandas in a future version. Use pandas.Index with the appropriate dtype instead.\n",
      "  elif isinstance(data.columns, (pd.Int64Index, pd.RangeIndex)):\n"
     ]
    }
   ],
   "source": [
    "learning_rate = [0.0001, 0.001, 0.01, 0.1, 0.2, 0.3]\n",
    "n_estimators = [5, 10, 50, 75, 100, 200]\n",
    "max_depth = [2, 3, 5, 6, 8, 9]\n",
    "\n",
    "\n",
    "# https://scikit-learn.org/stable/modules/generated/sklearn.model_selection.RandomizedSearchCV.html\n",
    "# https://xgboost.readthedocs.io/en/stable/python/python_api.html#xgboost.XGBClassifier\n",
    "\n",
    "xgb_model = xgb.XGBClassifier(verbosity = 0, n_jobs = -1)\n",
    "\n",
    "parameters = {'n_estimators' : [5, 10], 'max_depth' : [2, 3]}\n",
    "\n",
    "clf = RandomizedSearchCV(xgb_model , parameters, cv = 2, scoring = 'f1',\n",
    "                         return_train_score = True, random_state = 25, n_jobs = -1)\n",
    "\n",
    "r_search = clf.fit(df_final_train, y_train)\n",
    "\n",
    "best_params_xgb = r_search.best_params_"
   ]
  },
  {
   "cell_type": "code",
   "execution_count": 25,
   "id": "5bfadd16",
   "metadata": {
    "scrolled": true
   },
   "outputs": [
    {
     "name": "stdout",
     "output_type": "stream",
     "text": [
      "\n",
      "XGBClassifier(base_score=0.5, booster='gbtree', colsample_bylevel=1,\n",
      "              colsample_bynode=1, colsample_bytree=1, enable_categorical=False,\n",
      "              gamma=0, gpu_id=-1, importance_type=None,\n",
      "              interaction_constraints='', learning_rate=0.300000012,\n",
      "              max_delta_step=0, max_depth=3, min_child_weight=1, missing=nan,\n",
      "              monotone_constraints='()', n_estimators=10, n_jobs=-1,\n",
      "              num_parallel_tree=1, predictor='auto', random_state=0,\n",
      "              reg_alpha=0, reg_lambda=1, scale_pos_weight=1, subsample=1,\n",
      "              tree_method='exact', validate_parameters=1, verbosity=0)\n",
      "\n",
      "\n",
      "Best parameters : XGBClassifier : \n",
      "{'n_estimators': 10, 'max_depth': 3}\n"
     ]
    }
   ],
   "source": [
    "print(f'\\n{clf.best_estimator_}')\n",
    "print(f'\\n\\nBest parameters : XGBClassifier : \\n{best_params_xgb}')"
   ]
  },
  {
   "cell_type": "code",
   "execution_count": 16,
   "id": "0de34752",
   "metadata": {},
   "outputs": [
    {
     "data": {
      "text/html": [
       "<div>\n",
       "<style scoped>\n",
       "    .dataframe tbody tr th:only-of-type {\n",
       "        vertical-align: middle;\n",
       "    }\n",
       "\n",
       "    .dataframe tbody tr th {\n",
       "        vertical-align: top;\n",
       "    }\n",
       "\n",
       "    .dataframe thead th {\n",
       "        text-align: right;\n",
       "    }\n",
       "</style>\n",
       "<table border=\"1\" class=\"dataframe\">\n",
       "  <thead>\n",
       "    <tr style=\"text-align: right;\">\n",
       "      <th></th>\n",
       "      <th>param_n_estimators</th>\n",
       "      <th>param_max_depth</th>\n",
       "      <th>mean_train_score</th>\n",
       "      <th>mean_test_score</th>\n",
       "    </tr>\n",
       "  </thead>\n",
       "  <tbody>\n",
       "    <tr>\n",
       "      <th>3</th>\n",
       "      <td>10</td>\n",
       "      <td>3</td>\n",
       "      <td>0.946934</td>\n",
       "      <td>0.947397</td>\n",
       "    </tr>\n",
       "    <tr>\n",
       "      <th>2</th>\n",
       "      <td>5</td>\n",
       "      <td>3</td>\n",
       "      <td>0.926259</td>\n",
       "      <td>0.926576</td>\n",
       "    </tr>\n",
       "    <tr>\n",
       "      <th>1</th>\n",
       "      <td>10</td>\n",
       "      <td>2</td>\n",
       "      <td>0.923149</td>\n",
       "      <td>0.922693</td>\n",
       "    </tr>\n",
       "    <tr>\n",
       "      <th>0</th>\n",
       "      <td>5</td>\n",
       "      <td>2</td>\n",
       "      <td>0.912506</td>\n",
       "      <td>0.911952</td>\n",
       "    </tr>\n",
       "  </tbody>\n",
       "</table>\n",
       "</div>"
      ],
      "text/plain": [
       "  param_n_estimators param_max_depth  mean_train_score  mean_test_score\n",
       "3                 10               3          0.946934         0.947397\n",
       "2                  5               3          0.926259         0.926576\n",
       "1                 10               2          0.923149         0.922693\n",
       "0                  5               2          0.912506         0.911952"
      ]
     },
     "execution_count": 16,
     "metadata": {},
     "output_type": "execute_result"
    }
   ],
   "source": [
    "xgb_n_estimators = best_params_xgb['n_estimators']\n",
    "xgb_max_depth = best_params_xgb['max_depth']\n",
    "\n",
    "data = {'param_n_estimators' : r_search.cv_results_['param_n_estimators'],\n",
    "'param_max_depth' : r_search.cv_results_['param_max_depth'],\n",
    "'mean_train_score' : r_search.cv_results_['mean_train_score'],\n",
    "'mean_test_score' : r_search.cv_results_['mean_test_score']}\n",
    "\n",
    "xgb_performance = pd.DataFrame(data)\n",
    "xgb_performance.sort_values(['mean_train_score', 'mean_test_score'], ascending = False)"
   ]
  },
  {
   "cell_type": "code",
   "execution_count": 17,
   "id": "eb740552",
   "metadata": {},
   "outputs": [],
   "source": [
    "xgb_model = xgb.XGBClassifier(n_estimators = xgb_n_estimators, max_depth = xgb_max_depth ,\n",
    "                              use_label_encoder = False, verbosity=0,  n_jobs = -1)\n",
    "\n",
    "xgb_model.fit(df_final_train,y_train)\n",
    "\n",
    "y_train_pred = xgb_model.predict(df_final_train)\n",
    "y_test_pred = xgb_model.predict(df_final_test)"
   ]
  },
  {
   "cell_type": "code",
   "execution_count": 18,
   "id": "efef208d",
   "metadata": {},
   "outputs": [
    {
     "name": "stdout",
     "output_type": "stream",
     "text": [
      "Train F1 score : 0.948614158143559\n",
      "\n",
      "Test F1 score  : 0.9224291911201837\n"
     ]
    }
   ],
   "source": [
    "xgb_f1_tr = f1_score(y_train ,y_train_pred)\n",
    "xgb_f1_te = f1_score(y_test, y_test_pred)\n",
    "\n",
    "print(f'Train F1 score : {xgb_f1_tr}\\n')\n",
    "print(f'Test F1 score  : {xgb_f1_te}')"
   ]
  },
  {
   "cell_type": "code",
   "execution_count": 19,
   "id": "b3eeb8fe",
   "metadata": {},
   "outputs": [
    {
     "name": "stdout",
     "output_type": "stream",
     "text": [
      "Train confusion_matrix\n"
     ]
    },
    {
     "data": {
      "image/png": "[encoded data removed]",
      "text/plain": [
       "<Figure size 1440x288 with 6 Axes>"
      ]
     },
     "metadata": {
      "needs_background": "light"
     },
     "output_type": "display_data"
    },
    {
     "name": "stdout",
     "output_type": "stream",
     "text": [
      "\n",
      "Test confusion_matrix\n"
     ]
    },
    {
     "data": {
      "image/png": "[encoded data removed]",
      "text/plain": [
       "<Figure size 1440x288 with 6 Axes>"
      ]
     },
     "metadata": {
      "needs_background": "light"
     },
     "output_type": "display_data"
    }
   ],
   "source": [
    "print('Train confusion_matrix')\n",
    "plot_confusion_matrix(y_train, y_train_pred)\n",
    "\n",
    "print('\\nTest confusion_matrix')\n",
    "plot_confusion_matrix(y_test, y_test_pred)"
   ]
  },
  {
   "cell_type": "code",
   "execution_count": 20,
   "id": "2275253b",
   "metadata": {},
   "outputs": [
    {
     "data": {
      "image/png": "[encoded data removed]",
      "text/plain": [
       "<Figure size 432x288 with 1 Axes>"
      ]
     },
     "metadata": {
      "needs_background": "light"
     },
     "output_type": "display_data"
    }
   ],
   "source": [
    "fpr, tpr, ths = roc_curve(y_test, y_test_pred)\n",
    "xgb_auc_sc = auc(fpr, tpr)\n",
    "\n",
    "plt.plot(fpr, tpr, color = 'brown', label = 'ROC curve (area = %0.2f)' % xgb_auc_sc)\n",
    "\n",
    "plt.title('Receiver operating characteristic with test data')\n",
    "plt.xlabel('False Positive Rate')\n",
    "plt.ylabel('True Positive Rate')\n",
    "plt.legend(loc = 4)\n",
    "\n",
    "plt.show()"
   ]
  },
  {
   "cell_type": "code",
   "execution_count": 21,
   "id": "189f734e",
   "metadata": {},
   "outputs": [
    {
     "data": {
      "image/png": "[encoded data removed]",
      "text/plain": [
       "<Figure size 720x864 with 1 Axes>"
      ]
     },
     "metadata": {
      "needs_background": "light"
     },
     "output_type": "display_data"
    }
   ],
   "source": [
    "features = df_final_train.columns\n",
    "importances = xgb_model.feature_importances_\n",
    "indices = (np.argsort(importances))[-25:]\n",
    "\n",
    "plt.figure(figsize = (10, 12))\n",
    "plt.barh(range(len(indices)), importances[indices], color = 'teal', align = 'center')\n",
    "plt.yticks(range(len(indices)), [features[i] for i in indices])\n",
    "\n",
    "plt.title('Feature Importances')\n",
    "plt.xlabel('Relative Importance')\n",
    "\n",
    "plt.show()"
   ]
  },
  {
   "cell_type": "markdown",
   "id": "7200eabc",
   "metadata": {},
   "source": [
    "# <font color = 'blue'>Conclusion</font>"
   ]
  },
  {
   "cell_type": "code",
   "execution_count": 24,
   "id": "ca5a6543",
   "metadata": {},
   "outputs": [
    {
     "name": "stdout",
     "output_type": "stream",
     "text": [
      "Total time took for FEA analysis    : 9.6 minutes\n",
      "\n",
      "+---------------+--------------+-----------+----------------+---------------+-----------+\n",
      "|     Model     | n_estimators | max_depth | Train F1 Score | Test F1 Score | AUC Score |\n",
      "+---------------+--------------+-----------+----------------+---------------+-----------+\n",
      "| Random Forest |     121      |     14    |     0.967      |     0.922     |   0.927   |\n",
      "|    XG Boost   |      10      |     3     |     0.949      |     0.922     |   0.927   |\n",
      "+---------------+--------------+-----------+----------------+---------------+-----------+\n"
     ]
    }
   ],
   "source": [
    "p = PrettyTable()\n",
    "\n",
    "p.field_names = ['Model', 'n_estimators', 'max_depth', 'Train F1 Score', 'Test F1 Score', 'AUC Score']\n",
    "p.add_row(['Random Forest', rf_n_estimators, rf_max_depth, round(rf_f1_tr, 3),\n",
    "                                                       round(rf_f1_te, 3), round(rf_auc_sc, 3)])\n",
    "\n",
    "p.add_row(['XG Boost', xgb_n_estimators, xgb_max_depth, round(xgb_f1_tr, 3),\n",
    "                                                       round(xgb_f1_te, 3), round(xgb_auc_sc, 3)])\n",
    "\n",
    "time_modeling = time.time()\n",
    "\n",
    "print(f'Total time took for FEA analysis    : {round((time_modeling - time_start) / 60, 1)} minutes\\n')  \n",
    "\n",
    "print(p)"
   ]
  },
  {
   "cell_type": "markdown",
   "id": "fe6fded2",
   "metadata": {},
   "source": [
    "### Procedure & Observations\n",
    "\n",
    "- Load the data which is having only source node and destination node.\n",
    "- Using visualising library and python module `networkx` plotted graph connection using **60** sample data points.\n",
    "- On exploratory data analysis,  we found that only a very few have large count on number of followers and following.\n",
    "- To pose this problem as a classification one, generated edges from the base data.\n",
    "- The data splits into a ratio of 80 : 20 for train and test purposes.\n",
    "- Using references like [Link Prediction Algorithms](http://be.amazd.com/link-prediction/) and [Graph-based Features for Supervised Link Prediction](https://storage.googleapis.com/kaggle-forum-message-attachments/2594/supervised_link_prediction.pdf) and others, developed new features from original two columns **source node** and **destination node ** and visulized some to see the behaviour of new features.\n",
    "- Newly generated features are added to train and test data and saved those files at every interval of time.\n",
    "- On **modelling**  part, we took hyper-parameter tuning for optimising machine learning algorithms like **Random Forest Classifier** and **XG Boost**. \n",
    "- Using predicted values we calculated **F1 Score**, **Area under the curve (AUC)** as an error matric.\n",
    "- Using the **feature importance** feature of algorithms we found out the most important feature among all our generated features.\n",
    "\n",
    "\n",
    "\n",
    "Out of all the 54 features, only 2 are coming out to be useful for prediction. This is said according to feature_importances result. Train f1 score is 1.0 which could mean that the results are overfitting. The actual test scores are 0.92 as compared to train scores.\n",
    "\n",
    "\n",
    "\n",
    "https://medium.com/analytics-vidhya/facebook-recommendation-system-case-study-8dfc3ff5ddcc"
   ]
  },
  {
   "cell_type": "code",
   "execution_count": null,
   "id": "a03a8c09",
   "metadata": {},
   "outputs": [],
   "source": []
  },
  {
   "cell_type": "code",
   "execution_count": null,
   "id": "07f64449",
   "metadata": {},
   "outputs": [],
   "source": []
  },
  {
   "cell_type": "code",
   "execution_count": null,
   "id": "931d61ad",
   "metadata": {},
   "outputs": [],
   "source": []
  }
 ],
 "metadata": {
  "kernelspec": {
   "display_name": "Python 3 (ipykernel)",
   "language": "python",
   "name": "python3"
  },
  "language_info": {
   "codemirror_mode": {
    "name": "ipython",
    "version": 3
   },
   "file_extension": ".py",
   "mimetype": "text/x-python",
   "name": "python",
   "nbconvert_exporter": "python",
   "pygments_lexer": "ipython3",
   "version": "3.9.7"
  }
 },
 "nbformat": 4,
 "nbformat_minor": 5
}
