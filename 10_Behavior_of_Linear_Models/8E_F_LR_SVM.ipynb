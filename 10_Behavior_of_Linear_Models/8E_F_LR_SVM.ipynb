{
 "cells": [
  {
   "cell_type": "markdown",
   "metadata": {
    "id": "5HExLQrE4ZxR"
   },
   "source": [
    "<h1><font color='blue'> 8E and 8F: Finding the Probability P(Y==1|X)</font></h1>"
   ]
  },
  {
   "cell_type": "markdown",
   "metadata": {
    "id": "4LuKrFzC4ZxV"
   },
   "source": [
    "<h2><font color='Geen'> 8E: Implementing Decision Function of SVM RBF Kernel</font></h2>"
   ]
  },
  {
   "cell_type": "markdown",
   "metadata": {
    "id": "1wES-wWN4ZxX"
   },
   "source": [
    "<font face=' Comic Sans MS' size=3>After we train a kernel SVM model, we will be getting support vectors and their corresponsing coefficients $\\alpha_{i}$\n",
    "\n",
    "Check the documentation for better understanding of these attributes: \n",
    "\n",
    "https://scikit-learn.org/stable/modules/generated/sklearn.svm.SVC.html\n",
    "<img src='https://i.imgur.com/K11msU4.png' width=500>\n",
    "\n",
    "As a part of this assignment you will be implementing the ```decision_function()``` of kernel SVM, here decision_function() means based on the value return by ```decision_function()``` model will classify the data point either as positive or negative\n",
    "\n",
    "Ex 1: In logistic regression After traning the models with the optimal weights $w$ we get, we will find the value $\\frac{1}{1+\\exp(-(wx+b))}$, if this value comes out to be < 0.5 we will mark it as negative class, else its positive class\n",
    "\n",
    "Ex 2: In Linear SVM After traning the models with the optimal weights $w$ we get, we will find the value of $sign(wx+b)$, if this value comes out to be -ve we will mark it as negative class, else its positive class.\n",
    "\n",
    "Similarly in Kernel SVM After traning the models with the coefficients $\\alpha_{i}$ we get, we will find the value of \n",
    "$sign(\\sum_{i=1}^{n}(y_{i}\\alpha_{i}K(x_{i},x_{q})) + intercept)$, here $K(x_{i},x_{q})$ is the RBF kernel. If this value comes out to be -ve we will mark $x_{q}$ as negative class, else its positive class.\n",
    "\n",
    "RBF kernel is defined as: $K(x_{i},x_{q})$ = $exp(-\\gamma ||x_{i} - x_{q}||^2)$\n",
    "\n",
    "For better understanding check this link: https://scikit-learn.org/stable/modules/svm.html#svm-mathematical-formulation\n",
    "</font>"
   ]
  },
  {
   "cell_type": "markdown",
   "metadata": {
    "id": "z830CfMk4Zxa"
   },
   "source": [
    "## Task E"
   ]
  },
  {
   "cell_type": "markdown",
   "metadata": {
    "id": "MuBxHiCQ4Zxc"
   },
   "source": [
    "> 1. Split the data into $X_{train}$(60), $X_{cv}$(20), $X_{test}$(20)\n",
    "\n",
    "> 2. Train $SVC(gamma=0.001, C=100.)$ on the ($X_{train}$, $y_{train}$)\n",
    "\n",
    "> 3. Get the decision boundry values $f_{cv}$ on the $X_{cv}$ data  i.e. ` `$f_{cv}$ ```= decision_function(```$X_{cv}$```)```  <font color='red'>you need to implement this decision_function()</font>"
   ]
  },
  {
   "cell_type": "code",
   "execution_count": 1,
   "metadata": {
    "id": "fCgMNEvI4Zxf"
   },
   "outputs": [],
   "source": [
    "import numpy as np\n",
    "import pandas as pd\n",
    "import numpy as np\n",
    "\n",
    "from sklearn.svm import SVC\n",
    "from tqdm.notebook import tqdm\n",
    "from matplotlib import pyplot as plt\n",
    "\n",
    "from sklearn.datasets import make_classification\n",
    "from sklearn.model_selection import train_test_split"
   ]
  },
  {
   "cell_type": "code",
   "execution_count": 2,
   "metadata": {
    "id": "ANUNIqCe4Zxn"
   },
   "outputs": [],
   "source": [
    "X, y = make_classification(n_samples=5000, n_features=5, n_redundant=2,\n",
    "                           n_classes=2, weights=[0.7], class_sep=0.7, random_state=15)"
   ]
  },
  {
   "cell_type": "markdown",
   "metadata": {
    "id": "tHie1zqH4Zxt"
   },
   "source": [
    "### Pseudo code\n",
    "\n",
    "clf = SVC(gamma=0.001, C=100.)<br>\n",
    "clf.fit(Xtrain, ytrain)\n",
    "\n",
    "<font color='green'>def</font> <font color='blue'>decision_function</font>(Xcv, ...): #use appropriate parameters <br>\n",
    "&nbsp;&nbsp;&nbsp;&nbsp;&nbsp;&nbsp;<font color='green'>for</font> a data point $x_q$ <font color='green'>in</font> Xcv: <br>\n",
    "&nbsp;&nbsp;&nbsp;&nbsp;&nbsp;&nbsp;&nbsp;&nbsp;&nbsp;&nbsp;&nbsp;&nbsp;<font color='grey'>#write code to implement $(\\sum_{i=1}^{\\text{all the support vectors}}(y_{i}\\alpha_{i}K(x_{i},x_{q})) + intercept)$, here the values $y_i$, $\\alpha_{i}$, and $intercept$ can be obtained from the trained model</font><br>\n",
    "   <font color='green'>return</font> <font color='grey'><i># the decision_function output for all the data points in the Xcv</i></font>\n",
    "    \n",
    "fcv = decision_function(Xcv, ...)  <i># based on your requirement you can pass any other parameters </i>\n",
    "\n",
    "<b>Note</b>: Make sure the values you get as fcv, should be equal to outputs of clf.decision_function(Xcv)\n"
   ]
  },
  {
   "cell_type": "code",
   "execution_count": 3,
   "metadata": {
    "id": "h43kDT3M41u5"
   },
   "outputs": [
    {
     "name": "stdout",
     "output_type": "stream",
     "text": [
      "X_Train shape (3000, 5)\n",
      "X_Test shape (1000, 5)\n",
      "X_Cv shape (1000, 5)\n"
     ]
    },
    {
     "data": {
      "text/plain": [
       "SVC(C=100, gamma=0.001)"
      ]
     },
     "execution_count": 3,
     "metadata": {},
     "output_type": "execute_result"
    }
   ],
   "source": [
    "# https://scikit-learn.org/stable/modules/generated/sklearn.model_selection.train_test_split.html\n",
    "# https://scikit-learn.org/stable/modules/generated/sklearn.svm.SVC.html\n",
    "\n",
    "# 1. Split the data into 𝑋𝑡𝑟𝑎𝑖𝑛(60), 𝑋𝑐𝑣(20), 𝑋𝑡𝑒𝑠𝑡(20)\n",
    "x_tr, x_test, y_tr, y_test = train_test_split(X, y, test_size = 0.2,\n",
    "                                                    stratify = y, random_state = 2)\n",
    "x_train, x_cv, y_train , y_cv = train_test_split(x_tr, y_tr, test_size = 0.25,\n",
    "                                               stratify = y_tr, random_state = 2)\n",
    "\n",
    "print('X_Train shape',x_train.shape )\n",
    "print('X_Test shape',x_test.shape )\n",
    "print('X_Cv shape',x_cv.shape )\n",
    "\n",
    "# 2. Train 𝑆𝑉𝐶(𝑔𝑎𝑚𝑚𝑎=0.001,𝐶=100.) on the (𝑋𝑡𝑟𝑎𝑖𝑛, 𝑦𝑡𝑟𝑎𝑖𝑛)\n",
    "\n",
    "gamma_ = 0.001\n",
    "svc_clf = SVC(gamma = gamma_, C = 100)\n",
    "svc_clf.fit(x_train, y_train) "
   ]
  },
  {
   "cell_type": "markdown",
   "metadata": {},
   "source": [
    "<font color='green'>def</font> <font color='blue'>decision_function</font>(Xcv, ...): #use appropriate parameters <br>\n",
    "&nbsp;&nbsp;&nbsp;&nbsp;&nbsp;&nbsp;<font color='green'>for</font> a data point $x_q$ <font color='green'>in</font> Xcv: <br>\n",
    "&nbsp;&nbsp;&nbsp;&nbsp;&nbsp;&nbsp;&nbsp;&nbsp;&nbsp;&nbsp;&nbsp;&nbsp;<font color='grey'>#write code to implement $(\\sum_{i=1}^{\\text{all the support vectors}}(y_{i}\\alpha_{i}K(x_{i},x_{q})) + intercept)$, here the values $y_i$, $\\alpha_{i}$, and $intercept$ can be obtained from the trained model</font><br>\n",
    "   <font color='green'>return</font> <font color='grey'><i># the decision_function output for all the data points in the Xcv</i></font>\n",
    "    \n",
    "fcv = decision_function(Xcv, ...)  <i># based on your requirement you can pass any other parameters </i>\n",
    "\n",
    "Similarly in Kernel SVM After traning the models with the coefficients $\\alpha_{i}$ we get, we will find the value of \n",
    "$sign(\\sum_{i=1}^{n}(y_{i}\\alpha_{i}K(x_{i},x_{q})) + intercept)$, here $K(x_{i},x_{q})$ is the RBF kernel. If this value comes out to be -ve we will mark $x_{q}$ as negative class, else its positive class.\n",
    "\n",
    "RBF kernel is defined as: $K(x_{i},x_{q})$ = $exp(-\\gamma ||x_{i} - x_{q}||^2)$"
   ]
  },
  {
   "cell_type": "code",
   "execution_count": 4,
   "metadata": {},
   "outputs": [],
   "source": [
    "# https://towardsdatascience.com/radial-basis-function-rbf-kernel-the-go-to-kernel-acf0d22c798a\n",
    "# https://towardsdatascience.com/support-vector-machines-learning-data-science-step-by-step-f2a569d90f76\n",
    "# https://github.com/eriklindernoren/ML-From-Scratch/blob/master/\n",
    "#         mlfromscratch/supervised_learning/support_vector_machine.py\n",
    "\n",
    "def decision_function(x, intercept, coeff, support_vector, gamma ):\n",
    "    \n",
    "#     RBF kernel is defined as: 𝐾(𝑥𝑖,𝑥𝑞) = 𝑒𝑥𝑝(−𝛾||𝑥𝑖−𝑥𝑞||2)\n",
    "    kernel = np.zeros((x.shape[0], support_vector.shape[0]))\n",
    "    for id_x, pt in enumerate(x):\n",
    "        for id_y, vec in enumerate(support_vector):\n",
    "            k_value = np.exp(-gamma * np.sum((pt- vec)**2))\n",
    "            kernel[id_x][id_y] = k_value\n",
    "            \n",
    "#    𝑦𝑖*𝛼𝑖*𝐾(𝑥𝑖,𝑥𝑞)) + 𝑖𝑛𝑡𝑒𝑟𝑐𝑒𝑝𝑡\n",
    "    custom_decision = np.sum(coeff * kernel, axis = 1) + intercept\n",
    "\n",
    "    return custom_decision"
   ]
  },
  {
   "cell_type": "code",
   "execution_count": 5,
   "metadata": {},
   "outputs": [],
   "source": [
    "fcv = decision_function(x_cv, svc_clf.intercept_, svc_clf.dual_coef_,\n",
    "                                                       svc_clf.support_vectors_, gamma_ )"
   ]
  },
  {
   "cell_type": "markdown",
   "metadata": {},
   "source": [
    "**<font color='blue'>Comparing Custom implementation and Native SVC implementation</font>**"
   ]
  },
  {
   "cell_type": "code",
   "execution_count": 6,
   "metadata": {},
   "outputs": [
    {
     "name": "stdout",
     "output_type": "stream",
     "text": [
      "Shape at Native SVC implementation\t : (1000,)\n",
      "Shape at Custom implementation\t\t : (1000,)\n"
     ]
    }
   ],
   "source": [
    "print(f'Shape at Native SVC implementation\\t : {fcv.shape}')\n",
    "print(f'Shape at Custom implementation\\t\\t : {fcv.shape}')"
   ]
  },
  {
   "cell_type": "code",
   "execution_count": 7,
   "metadata": {
    "scrolled": false
   },
   "outputs": [
    {
     "name": "stdout",
     "output_type": "stream",
     "text": [
      "'True' if all values are same, other-wise 'False'\t: True\n",
      "\n",
      "Comparison of 1st 180 values :            \n",
      "[ True  True  True  True  True  True  True  True  True  True  True  True\n",
      "  True  True  True  True  True  True  True  True  True  True  True  True\n",
      "  True  True  True  True  True  True  True  True  True  True  True  True\n",
      "  True  True  True  True  True  True  True  True  True  True  True  True\n",
      "  True  True  True  True  True  True  True  True  True  True  True  True\n",
      "  True  True  True  True  True  True  True  True  True  True  True  True\n",
      "  True  True  True  True  True  True  True  True  True  True  True  True\n",
      "  True  True  True  True  True  True  True  True  True  True  True  True\n",
      "  True  True  True  True  True  True  True  True  True  True  True  True\n",
      "  True  True  True  True  True  True  True  True  True  True  True  True\n",
      "  True  True  True  True  True  True  True  True  True  True  True  True\n",
      "  True  True  True  True  True  True  True  True  True  True  True  True\n",
      "  True  True  True  True  True  True  True  True  True  True  True  True\n",
      "  True  True  True  True  True  True  True  True  True  True  True  True\n",
      "  True  True  True  True  True  True  True  True  True  True  True  True]\n"
     ]
    },
    {
     "data": {
      "text/plain": [
       "array([-3.2630509 ,  1.84661142, -3.92647752, -1.67949529, -2.14324374,\n",
       "       -3.05654121, -3.31298576, -1.56365973, -3.76088812, -3.70935314,\n",
       "        1.71459596, -2.87275849, -2.57540088, -3.01488941, -3.46797186,\n",
       "       -0.73400885, -1.33553508,  0.24029827, -1.53850604, -1.13269479])"
      ]
     },
     "execution_count": 7,
     "metadata": {},
     "output_type": "execute_result"
    }
   ],
   "source": [
    "# https://numpy.org/doc/stable/reference/generated/numpy.around.html\n",
    "\n",
    "result_ = all(np.round(svc_clf.decision_function(x_cv), 7) == np.round(fcv, 7))\n",
    "print(f\"'True' if all values are same, other-wise 'False'\\t: {result_}\")\n",
    "\n",
    "n_ = 180\n",
    "\n",
    "print(f'\\nComparison of 1st {n_} values :\\\n",
    "            \\n{np.round(svc_clf.decision_function(x_cv)[:n_], 7) == np.round(fcv[:n_], 7)}')\n",
    "\n",
    "fcv[:20]"
   ]
  },
  {
   "cell_type": "markdown",
   "metadata": {
    "id": "c0bKCboN4Zxu"
   },
   "source": [
    "<h2><font color='Geen'> 8F: Implementing Platt Scaling to find P(Y==1|X)</font></h2>"
   ]
  },
  {
   "cell_type": "markdown",
   "metadata": {
    "id": "nMn7OEN94Zxw"
   },
   "source": [
    "Check this <a href='https://drive.google.com/open?id=133odBinMOIVb_rh_GQxxsyMRyW-Zts7a'>PDF</a>\n",
    "<img src='https://i.imgur.com/CAMnVnh.png'>\n"
   ]
  },
  {
   "cell_type": "markdown",
   "metadata": {
    "id": "e0n5EFkx4Zxz"
   },
   "source": [
    "## TASK F"
   ]
  },
  {
   "cell_type": "markdown",
   "metadata": {
    "id": "t0HOqVJq4Zx1"
   },
   "source": [
    "\n",
    "> 4. Apply SGD algorithm with ($f_{cv}$, $y_{cv}$) and find the weight $W$ intercept $b$ ```Note: here our data is of one dimensional so we will have a one dimensional weight vector i.e W.shape (1,)``` \n",
    "\n",
    "> Note1: Don't forget to change the values of $y_{cv}$ as mentioned in the above image. you will calculate y+, y- based on data points in train data\n",
    "\n",
    "> Note2: the Sklearn's SGD algorithm doesn't support the real valued outputs, you need to use the code that was done in the `'Logistic Regression with SGD and L2'` Assignment after modifying loss function, and use same parameters that used in that assignment.\n",
    "<img src='https://i.imgur.com/zKYE9Oc.png'>\n",
    "if Y[i] is 1, it will be replaced with y+ value else it will replaced with y- value\n",
    "\n",
    "> 5. For a given data point from $X_{test}$, $P(Y=1|X) = \\frac{1}{1+exp(-(W*f_{test}+ b))}$ where ` `$f_{test}$ ```= decision_function(```$X_{test}$```)```, W and b will be learned as metioned in the above step"
   ]
  },
  {
   "cell_type": "code",
   "execution_count": 8,
   "metadata": {},
   "outputs": [
    {
     "name": "stdout",
     "output_type": "stream",
     "text": [
      "Positive counts : 303\n",
      "Negative counts : 697\n",
      "\n",
      "Calibrated 'y' positives : 0.9967\n",
      "Calibrated 'y' negatives : 0.0014\n"
     ]
    }
   ],
   "source": [
    "# https://www.delftstack.com/howto/numpy/numpy-count-zero/\n",
    "# https://numpy.org/doc/stable/reference/generated/numpy.count_nonzero.html\n",
    "\n",
    "n_pos = np.count_nonzero(y_cv)\n",
    "print(f'Positive counts : {n_pos}')\n",
    "\n",
    "n_neg = len(y_cv) - n_pos\n",
    "print(f'Negative counts : {n_neg}')\n",
    "\n",
    "calibrated_y_pos = (n_pos + 1) / (n_pos + 2)\n",
    "calibrated_y_neg = 1 / (n_neg + 2) \n",
    "\n",
    "print(f\"\\nCalibrated 'y' positives : {round(calibrated_y_pos, 4)}\")\n",
    "print(f\"Calibrated 'y' negatives : {round(calibrated_y_neg, 4)}\")"
   ]
  },
  {
   "cell_type": "code",
   "execution_count": 9,
   "metadata": {},
   "outputs": [],
   "source": [
    "# changing 𝑦_𝑐𝑣 values\n",
    "\n",
    "updated_y_cv = []\n",
    "\n",
    "for p in y_cv:\n",
    "    if p == 1:\n",
    "        updated_y_cv.append(calibrated_y_pos)\n",
    "    else:\n",
    "        updated_y_cv.append(calibrated_y_neg)"
   ]
  },
  {
   "cell_type": "code",
   "execution_count": 10,
   "metadata": {},
   "outputs": [],
   "source": [
    "def sigmoid(w, x, b):\n",
    "    z = np.dot(w, x) + b\n",
    "    return (1 / (1 + np.exp(-z)))\n",
    "\n",
    "def log_loss(w, b, X, Y):\n",
    "    \n",
    "    N = len(X)\n",
    "    sum_log = 0\n",
    "    \n",
    "    for i in range(N):\n",
    "        sum_log += Y[i] * np.log10(sigmoid(w, X[i], b)) + \\\n",
    "                            (1 - Y[i] * np.log10(1 - sigmoid(w, X[i], b)))\n",
    "    \n",
    "    return (-1 * sum_log / N)"
   ]
  },
  {
   "cell_type": "markdown",
   "metadata": {},
   "source": [
    "$dw^{(t)} = x_n(y_n − σ((w^{(t)})^{T} x_n+b^{t}))- \\frac{λ}{N}w^{(t)}$\n",
    "\n",
    "$ db^{(t)} = y_n- σ((w^{(t)})^{T} x_n+b^{t})$"
   ]
  },
  {
   "cell_type": "code",
   "execution_count": 11,
   "metadata": {},
   "outputs": [
    {
     "data": {
      "application/vnd.jupyter.widget-view+json": {
       "model_id": "2e3d6bcf4f7f4efe9d383cd2e796cc29",
       "version_major": 2,
       "version_minor": 0
      },
      "text/plain": [
       "  0%|          | 0/25 [00:00<?, ?it/s]"
      ]
     },
     "metadata": {},
     "output_type": "display_data"
    }
   ],
   "source": [
    "N = len(fcv)\n",
    "w = np.zeros_like(fcv[0])\n",
    "b = 0\n",
    "\n",
    "eta0 = 0.0001\n",
    "alpha = 0.0001\n",
    "epochs = 25\n",
    "\n",
    "cv_loss = []\n",
    "\n",
    "y = updated_y_cv\n",
    "\n",
    "for epoch in tqdm(range(epochs)):\n",
    "    for j in range(N):\n",
    "        \n",
    "        dw = fcv[j] * (y[j] -sigmoid(w, fcv[j], b)) - (( alpha / N) * w)\n",
    "        w = w + (eta0 * dw)                \n",
    "        \n",
    "        db = y[j] - sigmoid(w, fcv[j], b)\n",
    "        b = b + (eta0 * db)\n",
    "        \n",
    "    loss = log_loss(w, b, fcv, y)\n",
    "    cv_loss.append(loss)"
   ]
  },
  {
   "cell_type": "code",
   "execution_count": 12,
   "metadata": {},
   "outputs": [
    {
     "data": {
      "image/png": "[encoded data removed]",
      "text/plain": [
       "<Figure size 1008x360 with 1 Axes>"
      ]
     },
     "metadata": {
      "needs_background": "light"
     },
     "output_type": "display_data"
    }
   ],
   "source": [
    "epoch = np.arange(epochs) + 1\n",
    "plt.figure(figsize = (14,5))\n",
    "\n",
    "plt.plot(epoch,cv_loss, c = 'r',label='Test Log Loss')\n",
    "plt.xticks(epoch)\n",
    "plt.title('Log Loss vs Epoch curve', fontsize = 15, c = 'b')\n",
    "plt.xlabel(\"Epoch number\")\n",
    "plt.ylabel('Log Loss')\n",
    "plt.legend(fontsize = 12)\n",
    "plt.show()"
   ]
  },
  {
   "cell_type": "code",
   "execution_count": 13,
   "metadata": {},
   "outputs": [
    {
     "name": "stdout",
     "output_type": "stream",
     "text": [
      "Optimized 'w' : 0.8930445253560461\n",
      "Optimized 'b' : -0.10631255856481144\n"
     ]
    }
   ],
   "source": [
    "print(f\"Optimized 'w' : {w}\\nOptimized 'b' : {b}\")"
   ]
  },
  {
   "cell_type": "code",
   "execution_count": 14,
   "metadata": {},
   "outputs": [],
   "source": [
    "f_test = decision_function(x_test, svc_clf.intercept_, svc_clf.dual_coef_,\n",
    "                           svc_clf.support_vectors_, gamma_ )"
   ]
  },
  {
   "cell_type": "code",
   "execution_count": 15,
   "metadata": {
    "scrolled": false
   },
   "outputs": [
    {
     "name": "stdout",
     "output_type": "stream",
     "text": [
      "Probability scores corresponding to 𝑋_𝑡𝑒𝑠𝑡 :\n",
      "\n",
      "1 : 0.416688\t\t2 : 0.0192823\n",
      "3 : 0.6265521\t\t4 : 0.1740453\n",
      "5 : 0.4585416\t\t6 : 0.7987241\n",
      "7 : 0.0617171\t\t8 : 0.7652264\n",
      "9 : 0.871245\t\t10 : 0.1903718\n",
      "11 : 0.0079452\t\t12 : 0.7165572\n",
      "13 : 0.0643453\t\t14 : 0.3935694\n",
      "15 : 0.7214826\t\t16 : 0.1935141\n",
      "17 : 0.6342424\t\t18 : 0.0937576\n",
      "19 : 0.0621943\t\t20 : 0.0686149\n",
      "21 : 0.0448959\t\t22 : 0.1413751\n",
      "23 : 0.0852212\t\t24 : 0.770394\n",
      "25 : 0.1629849\t\t26 : 0.0488053\n",
      "27 : 0.0578007\t\t28 : 0.0376143\n",
      "29 : 0.064047\t\t30 : 0.0454591\n",
      "31 : 0.0207641\t\t32 : 0.064936\n",
      "33 : 0.0758397\t\t34 : 0.8291005\n",
      "35 : 0.8623348\t\t36 : 0.0904771\n",
      "37 : 0.1696878\t\t38 : 0.0975311\n",
      "39 : 0.0382135\t\t40 : 0.044395\n",
      "41 : 0.1693937\t\t42 : 0.5898652\n",
      "43 : 0.1018816\t\t44 : 0.0368827\n",
      "45 : 0.104257\t\t46 : 0.0859714\n",
      "47 : 0.3477797\t\t48 : 0.7336815\n",
      "49 : 0.8367853\t\t50 : 0.0797621\n",
      "51 : 0.2386073\t\t52 : 0.1564763\n",
      "53 : 0.8171789\t\t54 : 0.8573245\n",
      "55 : 0.0380321\t\t56 : 0.8705612\n",
      "57 : 0.2174629\t\t58 : 0.4266366\n",
      "59 : 0.8853907\t\t60 : 0.1092686\n",
      "61 : 0.8311197\t\t62 : 0.2666246\n",
      "63 : 0.3009637\t\t64 : 0.1766895\n",
      "65 : 0.0788019\t\t66 : 0.0847253\n",
      "67 : 0.1115031\t\t68 : 0.0676126\n",
      "69 : 0.0324499\t\t70 : 0.125091\n",
      "71 : 0.3198224\t\t72 : 0.0518647\n",
      "73 : 0.1236042\t\t74 : 0.2230124\n",
      "75 : 0.5899637\t\t76 : 0.0276419\n",
      "77 : 0.0426465\t\t78 : 0.1300676\n",
      "79 : 0.7915717\t\t80 : 0.7617386\n",
      "81 : 0.4540425\t\t82 : 0.8094607\n",
      "83 : 0.0343215\t\t84 : 0.1980267\n",
      "85 : 0.0606067\t\t86 : 0.5910683\n",
      "87 : 0.8732757\t\t88 : 0.05082\n",
      "89 : 0.7115154\t\t90 : 0.755998\n",
      "91 : 0.0889483\t\t92 : 0.7122565\n",
      "93 : 0.0609179\t\t94 : 0.0544056\n",
      "95 : 0.2367443\t\t96 : 0.4145269\n",
      "97 : 0.0594076\t\t98 : 0.0210503\n",
      "99 : 0.059749\t\t100 : 0.8436247\n",
      "101 : 0.1343854\t\t102 : 0.7550503\n",
      "103 : 0.0540898\t\t104 : 0.0901298\n",
      "105 : 0.1096368\t\t106 : 0.0785074\n",
      "107 : 0.1486808\t\t108 : 0.4764864\n",
      "109 : 0.4085436\t\t110 : 0.1953201\n",
      "111 : 0.075819\t\t112 : 0.073052\n",
      "113 : 0.0392954\t\t114 : 0.1400272\n",
      "115 : 0.7427841\t\t116 : 0.8550135\n",
      "117 : 0.9399219\t\t118 : 0.012057\n",
      "119 : 0.0391053\t\t120 : 0.7365985\n",
      "121 : 0.8528265\t\t122 : 0.8269949\n",
      "123 : 0.7262778\t\t124 : 0.8600211\n",
      "125 : 0.1163345\t\t126 : 0.0769295\n",
      "127 : 0.0651601\t\t128 : 0.7799522\n",
      "129 : 0.1966909\t\t130 : 0.3055396\n",
      "131 : 0.1402181\t\t132 : 0.0252088\n",
      "133 : 0.1100535\t\t134 : 0.0803496\n",
      "135 : 0.0510981\t\t136 : 0.0533917\n",
      "137 : 0.1610303\t\t138 : 0.1569692\n",
      "139 : 0.1218936\t\t140 : 0.8551379\n",
      "141 : 0.0650496\t\t142 : 0.8723668\n",
      "143 : 0.6210178\t\t144 : 0.6530553\n",
      "145 : 0.1522633\t\t146 : 0.4719895\n",
      "147 : 0.5099206\t\t148 : 0.0365077\n",
      "149 : 0.0656871\t\t150 : 0.0369196\n",
      "151 : 0.1610482\t\t152 : 0.0778573\n",
      "153 : 0.4067471\t\t154 : 0.0623637\n",
      "155 : 0.1086447\t\t156 : 0.8008036\n",
      "157 : 0.0659766\t\t158 : 0.0871709\n",
      "159 : 0.0393925\t\t160 : 0.0605108\n",
      "161 : 0.1074912\t\t162 : 0.7997576\n",
      "163 : 0.8557173\t\t164 : 0.8582824\n",
      "165 : 0.8758467\t\t166 : 0.0981632\n",
      "167 : 0.8381491\t\t168 : 0.8607228\n",
      "169 : 0.4777841\t\t170 : 0.0112592\n",
      "171 : 0.7351668\t\t172 : 0.5664729\n",
      "173 : 0.7024387\t\t174 : 0.0511285\n",
      "175 : 0.1408591\t\t176 : 0.6587198\n",
      "177 : 0.1210523\t\t178 : 0.0506065\n",
      "179 : 0.2494934\t\t180 : 0.8773323\n",
      "181 : 0.3381833\t\t182 : 0.0475103\n",
      "183 : 0.3755945\t\t184 : 0.0862817\n",
      "185 : 0.1891955\t\t186 : 0.6972803\n",
      "187 : 0.7725712\t\t188 : 0.4481452\n",
      "189 : 0.1845524\t\t190 : 0.0313618\n",
      "191 : 0.3254541\t\t192 : 0.0267576\n",
      "193 : 0.7606647\t\t194 : 0.5132033\n",
      "195 : 0.0921943\t\t196 : 0.1059181\n",
      "197 : 0.0882784\t\t198 : 0.0881966\n",
      "199 : 0.9068643\t\t200 : 0.6576557\n",
      "201 : 0.089333\t\t202 : 0.8267504\n",
      "203 : 0.0362481\t\t204 : 0.3077873\n",
      "205 : 0.0901378\t\t206 : 0.069036\n",
      "207 : 0.9021697\t\t208 : 0.4793356\n",
      "209 : 0.0756659\t\t210 : 0.1545746\n",
      "211 : 0.3487285\t\t212 : 0.6262737\n",
      "213 : 0.0600545\t\t214 : 0.117989\n",
      "215 : 0.2160393\t\t216 : 0.107066\n",
      "217 : 0.673065\t\t218 : 0.8250375\n",
      "219 : 0.1227067\t\t220 : 0.0769926\n",
      "221 : 0.0762965\t\t222 : 0.4506047\n",
      "223 : 0.0084127\t\t224 : 0.0855742\n",
      "225 : 0.0471799\t\t226 : 0.0570877\n",
      "227 : 0.3389228\t\t228 : 0.1578069\n",
      "229 : 0.1106524\t\t230 : 0.7240479\n",
      "231 : 0.06831\t\t232 : 0.4783849\n",
      "233 : 0.0611297\t\t234 : 0.8214976\n",
      "235 : 0.0679524\t\t236 : 0.8092712\n",
      "237 : 0.0865967\t\t238 : 0.0567997\n",
      "239 : 0.063947\t\t240 : 0.4029957\n",
      "241 : 0.0718513\t\t242 : 0.3575394\n",
      "243 : 0.2534878\t\t244 : 0.161247\n",
      "245 : 0.2139698\t\t246 : 0.088618\n",
      "247 : 0.4119216\t\t248 : 0.0692101\n",
      "249 : 0.8512786\t\t250 : 0.84613\n",
      "251 : 0.087699\t\t252 : 0.0303256\n",
      "253 : 0.0688627\t\t254 : 0.0947317\n",
      "255 : 0.8201501\t\t256 : 0.7530388\n",
      "257 : 0.0772716\t\t258 : 0.0532142\n",
      "259 : 0.1254838\t\t260 : 0.0121106\n",
      "261 : 0.0453512\t\t262 : 0.4207776\n",
      "263 : 0.1383361\t\t264 : 0.1932395\n",
      "265 : 0.0546979\t\t266 : 0.2919101\n",
      "267 : 0.0369849\t\t268 : 0.8750545\n",
      "269 : 0.3875346\t\t270 : 0.7420072\n",
      "271 : 0.0520587\t\t272 : 0.0114451\n",
      "273 : 0.3545062\t\t274 : 0.042666\n",
      "275 : 0.086917\t\t276 : 0.7886887\n",
      "277 : 0.2409069\t\t278 : 0.0676356\n",
      "279 : 0.0774708\t\t280 : 0.9059802\n",
      "281 : 0.0948023\t\t282 : 0.8279012\n",
      "283 : 0.7720168\t\t284 : 0.0988732\n",
      "285 : 0.7706867\t\t286 : 0.7616277\n",
      "287 : 0.012342\t\t288 : 0.0605001\n",
      "289 : 0.8427907\t\t290 : 0.875421\n",
      "291 : 0.3391097\t\t292 : 0.0565028\n",
      "293 : 0.858073\t\t294 : 0.0645544\n",
      "295 : 0.1191104\t\t296 : 0.0488483\n",
      "297 : 0.9636247\t\t298 : 0.0634631\n",
      "299 : 0.0783448\t\t300 : 0.3734956\n",
      "301 : 0.1027216\t\t302 : 0.0981074\n",
      "303 : 0.8918149\t\t304 : 0.0942919\n",
      "305 : 0.0832435\t\t306 : 0.0483018\n",
      "307 : 0.1907172\t\t308 : 0.1192871\n",
      "309 : 0.1602707\t\t310 : 0.2590424\n",
      "311 : 0.6048052\t\t312 : 0.0368844\n",
      "313 : 0.1466082\t\t314 : 0.165265\n",
      "315 : 0.0623107\t\t316 : 0.0481374\n",
      "317 : 0.0687914\t\t318 : 0.1119139\n",
      "319 : 0.0571003\t\t320 : 0.0575627\n",
      "321 : 0.0954562\t\t322 : 0.0600771\n",
      "323 : 0.0170656\t\t324 : 0.2557295\n",
      "325 : 0.7663889\t\t326 : 0.0399808\n",
      "327 : 0.1207285\t\t328 : 0.0414935\n",
      "329 : 0.7927975\t\t330 : 0.1013444\n",
      "331 : 0.0888234\t\t332 : 0.0379436\n",
      "333 : 0.8377125\t\t334 : 0.0371123\n",
      "335 : 0.1217173\t\t336 : 0.8522484\n",
      "337 : 0.15146\t\t338 : 0.450862\n",
      "339 : 0.1588894\t\t340 : 0.1165866\n",
      "341 : 0.0056141\t\t342 : 0.0312244\n",
      "343 : 0.4832094\t\t344 : 0.0247187\n",
      "345 : 0.0682064\t\t346 : 0.0511413\n",
      "347 : 0.0280433\t\t348 : 0.1060122\n",
      "349 : 0.1577527\t\t350 : 0.9692459\n",
      "351 : 0.1626888\t\t352 : 0.3272057\n",
      "353 : 0.6678571\t\t354 : 0.029795\n",
      "355 : 0.9254973\t\t356 : 0.573004\n",
      "357 : 0.854126\t\t358 : 0.7751382\n",
      "359 : 0.0809962\t\t360 : 0.1596381\n",
      "361 : 0.1778343\t\t362 : 0.0487713\n",
      "363 : 0.3259757\t\t364 : 0.7399087\n",
      "365 : 0.249633\t\t366 : 0.3959965\n",
      "367 : 0.8522754\t\t368 : 0.5382158\n",
      "369 : 0.0560989\t\t370 : 0.0742318\n",
      "371 : 0.082082\t\t372 : 0.7640316\n",
      "373 : 0.1189966\t\t374 : 0.1057015\n",
      "375 : 0.1809427\t\t376 : 0.1928139\n",
      "377 : 0.7014539\t\t378 : 0.0537643\n",
      "379 : 0.7502586\t\t380 : 0.0644244\n",
      "381 : 0.9404672\t\t382 : 0.2410723\n",
      "383 : 0.1136267\t\t384 : 0.2624372\n",
      "385 : 0.0423627\t\t386 : 0.075319\n",
      "387 : 0.2564764\t\t388 : 0.0621742\n",
      "389 : 0.091701\t\t390 : 0.6932281\n",
      "391 : 0.350643\t\t392 : 0.2141274\n",
      "393 : 0.0782691\t\t394 : 0.3642119\n",
      "395 : 0.8513287\t\t396 : 0.0329225\n",
      "397 : 0.8462035\t\t398 : 0.621531\n",
      "399 : 0.0092261\t\t400 : 0.1611008\n",
      "401 : 0.0883043\t\t402 : 0.0196461\n",
      "403 : 0.2993223\t\t404 : 0.3631868\n",
      "405 : 0.0683269\t\t406 : 0.0530368\n",
      "407 : 0.1792909\t\t408 : 0.8034957\n",
      "409 : 0.8191163\t\t410 : 0.0156676\n",
      "411 : 0.037354\t\t412 : 0.8012401\n",
      "413 : 0.0685328\t\t414 : 0.0915571\n",
      "415 : 0.0175171\t\t416 : 0.2292579\n",
      "417 : 0.044707\t\t418 : 0.7709473\n",
      "419 : 0.7983599\t\t420 : 0.0210672\n",
      "421 : 0.0915917\t\t422 : 0.1083084\n",
      "423 : 0.6552429\t\t424 : 0.1633837\n",
      "425 : 0.3357778\t\t426 : 0.1531584\n",
      "427 : 0.0188269\t\t428 : 0.9264379\n",
      "429 : 0.1364715\t\t430 : 0.7700998\n",
      "431 : 0.1815137\t\t432 : 0.0461501\n",
      "433 : 0.399628\t\t434 : 0.0338289\n",
      "435 : 0.033568\t\t436 : 0.0877496\n",
      "437 : 0.1599175\t\t438 : 0.0589157\n",
      "439 : 0.7609705\t\t440 : 0.0315466\n",
      "441 : 0.0145542\t\t442 : 0.0899644\n",
      "443 : 0.2993672\t\t444 : 0.1808722\n",
      "445 : 0.1255313\t\t446 : 0.5329778\n",
      "447 : 0.0255323\t\t448 : 0.0303091\n",
      "449 : 0.4807048\t\t450 : 0.1442192\n",
      "451 : 0.8252128\t\t452 : 0.0627233\n",
      "453 : 0.0350227\t\t454 : 0.0267506\n",
      "455 : 0.0416508\t\t456 : 0.0839061\n",
      "457 : 0.1707024\t\t458 : 0.0556844\n",
      "459 : 0.4034751\t\t460 : 0.7540448\n",
      "461 : 0.8778688\t\t462 : 0.8061194\n",
      "463 : 0.7334191\t\t464 : 0.8420981\n",
      "465 : 0.8634283\t\t466 : 0.2018453\n",
      "467 : 0.1637257\t\t468 : 0.1988014\n",
      "469 : 0.0503412\t\t470 : 0.5519404\n",
      "471 : 0.0581242\t\t472 : 0.3183535\n",
      "473 : 0.7703993\t\t474 : 0.8626518\n",
      "475 : 0.804896\t\t476 : 0.8788521\n",
      "477 : 0.4436455\t\t478 : 0.0425607\n",
      "479 : 0.1730096\t\t480 : 0.0881281\n",
      "481 : 0.0382338\t\t482 : 0.1537914\n",
      "483 : 0.8257967\t\t484 : 0.8206953\n",
      "485 : 0.0188914\t\t486 : 0.6365404\n",
      "487 : 0.0589705\t\t488 : 0.2209558\n",
      "489 : 0.1543469\t\t490 : 0.7689988\n",
      "491 : 0.813572\t\t492 : 0.9693028\n",
      "493 : 0.0501319\t\t494 : 0.2809195\n",
      "495 : 0.5643946\t\t496 : 0.131213\n",
      "497 : 0.8156907\t\t498 : 0.734367\n",
      "499 : 0.0336235\t\t500 : 0.1459593\n",
      "501 : 0.1605853\t\t502 : 0.045962\n",
      "503 : 0.8959871\t\t504 : 0.9696941\n",
      "505 : 0.1913141\t\t506 : 0.8425999\n",
      "507 : 0.1179682\t\t508 : 0.0161442\n",
      "509 : 0.0660731\t\t510 : 0.0351022\n",
      "511 : 0.0627577\t\t512 : 0.0783969\n",
      "513 : 0.55854\t\t514 : 0.7207107\n",
      "515 : 0.1279868\t\t516 : 0.9128115\n",
      "517 : 0.6911037\t\t518 : 0.9628305\n",
      "519 : 0.3701673\t\t520 : 0.0095611\n",
      "521 : 0.1824892\t\t522 : 0.1237805\n",
      "523 : 0.0617975\t\t524 : 0.2534452\n",
      "525 : 0.687532\t\t526 : 0.0856188\n",
      "527 : 0.1198625\t\t528 : 0.1472026\n",
      "529 : 0.690738\t\t530 : 0.7290946\n",
      "531 : 0.1773304\t\t532 : 0.1178039\n",
      "533 : 0.4239684\t\t534 : 0.079347\n",
      "535 : 0.8768933\t\t536 : 0.0511461\n",
      "537 : 0.0383306\t\t538 : 0.0308885\n",
      "539 : 0.2169533\t\t540 : 0.7100097\n",
      "541 : 0.1551956\t\t542 : 0.0768029\n",
      "543 : 0.7033314\t\t544 : 0.0665976\n",
      "545 : 0.7680308\t\t546 : 0.141737\n",
      "547 : 0.0788629\t\t548 : 0.0297703\n",
      "549 : 0.399309\t\t550 : 0.1529858\n",
      "551 : 0.072081\t\t552 : 0.125232\n",
      "553 : 0.1018504\t\t554 : 0.1707511\n",
      "555 : 0.0488\t\t556 : 0.773282\n",
      "557 : 0.6271032\t\t558 : 0.8349432\n",
      "559 : 0.3203027\t\t560 : 0.1534749\n",
      "561 : 0.065269\t\t562 : 0.0190987\n",
      "563 : 0.0331665\t\t564 : 0.1070715\n",
      "565 : 0.0423627\t\t566 : 0.815368\n",
      "567 : 0.0438991\t\t568 : 0.0776047\n",
      "569 : 0.0604015\t\t570 : 0.1608437\n",
      "571 : 0.6379664\t\t572 : 0.4370184\n",
      "573 : 0.1040204\t\t574 : 0.9274507\n",
      "575 : 0.0822877\t\t576 : 0.2879096\n",
      "577 : 0.0537757\t\t578 : 0.048794\n",
      "579 : 0.0173333\t\t580 : 0.0733035\n",
      "581 : 0.1059967\t\t582 : 0.0162774\n",
      "583 : 0.6546181\t\t584 : 0.7860414\n",
      "585 : 0.1325872\t\t586 : 0.101496\n",
      "587 : 0.1179551\t\t588 : 0.8544457\n",
      "589 : 0.5738542\t\t590 : 0.838728\n",
      "591 : 0.0905817\t\t592 : 0.967677\n",
      "593 : 0.0440363\t\t594 : 0.7367456\n",
      "595 : 0.0614868\t\t596 : 0.7641042\n",
      "597 : 0.0358395\t\t598 : 0.2658927\n",
      "599 : 0.7420825\t\t600 : 0.1126494\n",
      "601 : 0.4000981\t\t602 : 0.042261\n",
      "603 : 0.0812175\t\t604 : 0.1179823\n",
      "605 : 0.8035067\t\t606 : 0.2751423\n",
      "607 : 0.0516236\t\t608 : 0.0594112\n",
      "609 : 0.1250367\t\t610 : 0.2122422\n",
      "611 : 0.1021967\t\t612 : 0.6112197\n",
      "613 : 0.2439678\t\t614 : 0.1272043\n",
      "615 : 0.0943877\t\t616 : 0.3405616\n",
      "617 : 0.0283602\t\t618 : 0.7878071\n",
      "619 : 0.0531915\t\t620 : 0.8578062\n",
      "621 : 0.1018483\t\t622 : 0.0553666\n",
      "623 : 0.7966144\t\t624 : 0.2026882\n",
      "625 : 0.890362\t\t626 : 0.0177971\n",
      "627 : 0.0404268\t\t628 : 0.8949636\n",
      "629 : 0.0519455\t\t630 : 0.1432757\n",
      "631 : 0.5845768\t\t632 : 0.750315\n",
      "633 : 0.3640526\t\t634 : 0.4941701\n",
      "635 : 0.6350222\t\t636 : 0.077297\n",
      "637 : 0.8946953\t\t638 : 0.0367986\n",
      "639 : 0.0644214\t\t640 : 0.0715172\n",
      "641 : 0.0236867\t\t642 : 0.6818078\n",
      "643 : 0.0664861\t\t644 : 0.2738161\n",
      "645 : 0.0853835\t\t646 : 0.0819009\n",
      "647 : 0.041282\t\t648 : 0.1300267\n",
      "649 : 0.0936085\t\t650 : 0.1221218\n",
      "651 : 0.056023\t\t652 : 0.4390754\n",
      "653 : 0.7514349\t\t654 : 0.0738501\n",
      "655 : 0.795578\t\t656 : 0.0727184\n",
      "657 : 0.1525093\t\t658 : 0.0587678\n",
      "659 : 0.7523929\t\t660 : 0.1904737\n",
      "661 : 0.1643414\t\t662 : 0.0844471\n",
      "663 : 0.1032974\t\t664 : 0.2336578\n",
      "665 : 0.1034452\t\t666 : 0.2078958\n",
      "667 : 0.0760673\t\t668 : 0.0144975\n",
      "669 : 0.0670822\t\t670 : 0.9054419\n",
      "671 : 0.1141862\t\t672 : 0.732409\n",
      "673 : 0.8928158\t\t674 : 0.0415476\n",
      "675 : 0.1150014\t\t676 : 0.1010949\n",
      "677 : 0.0222538\t\t678 : 0.6473896\n",
      "679 : 0.2660882\t\t680 : 0.0757506\n",
      "681 : 0.7614262\t\t682 : 0.0451101\n",
      "683 : 0.87787\t\t684 : 0.0219126\n",
      "685 : 0.2132107\t\t686 : 0.1777663\n",
      "687 : 0.889775\t\t688 : 0.2663\n",
      "689 : 0.2797105\t\t690 : 0.1070868\n",
      "691 : 0.0247296\t\t692 : 0.0616184\n",
      "693 : 0.2035038\t\t694 : 0.0789244\n",
      "695 : 0.6963869\t\t696 : 0.1643096\n",
      "697 : 0.7837796\t\t698 : 0.8005332\n",
      "699 : 0.0832146\t\t700 : 0.816511\n",
      "701 : 0.0301341\t\t702 : 0.7809375\n",
      "703 : 0.2960902\t\t704 : 0.8368717\n",
      "705 : 0.0198522\t\t706 : 0.1852637\n",
      "707 : 0.087278\t\t708 : 0.0318634\n",
      "709 : 0.0289221\t\t710 : 0.0591253\n",
      "711 : 0.0435458\t\t712 : 0.8299324\n",
      "713 : 0.0417511\t\t714 : 0.7823835\n",
      "715 : 0.1081027\t\t716 : 0.0375323\n",
      "717 : 0.7904461\t\t718 : 0.0680384\n",
      "719 : 0.054145\t\t720 : 0.0276548\n",
      "721 : 0.130388\t\t722 : 0.5175327\n",
      "723 : 0.131203\t\t724 : 0.0335861\n",
      "725 : 0.0255795\t\t726 : 0.8614914\n",
      "727 : 0.0297619\t\t728 : 0.6181718\n",
      "729 : 0.0291766\t\t730 : 0.0359278\n",
      "731 : 0.8466925\t\t732 : 0.7361048\n",
      "733 : 0.0213922\t\t734 : 0.8612928\n",
      "735 : 0.0533212\t\t736 : 0.0101461\n",
      "737 : 0.0942334\t\t738 : 0.53485\n",
      "739 : 0.2855977\t\t740 : 0.1549274\n",
      "741 : 0.0376507\t\t742 : 0.0504642\n",
      "743 : 0.7760163\t\t744 : 0.7895039\n",
      "745 : 0.5824131\t\t746 : 0.1241387\n",
      "747 : 0.2028762\t\t748 : 0.0268847\n",
      "749 : 0.0908678\t\t750 : 0.0372297\n",
      "751 : 0.1514957\t\t752 : 0.7124393\n",
      "753 : 0.8002739\t\t754 : 0.1014527\n",
      "755 : 0.0302275\t\t756 : 0.0496272\n",
      "757 : 0.6464639\t\t758 : 0.5917737\n",
      "759 : 0.8327225\t\t760 : 0.0517724\n",
      "761 : 0.0522881\t\t762 : 0.6822165\n",
      "763 : 0.1524498\t\t764 : 0.9062716\n",
      "765 : 0.1361774\t\t766 : 0.0631379\n",
      "767 : 0.0430701\t\t768 : 0.1143372\n",
      "769 : 0.077699\t\t770 : 0.9169214\n",
      "771 : 0.0432671\t\t772 : 0.4521099\n",
      "773 : 0.1623578\t\t774 : 0.2189171\n",
      "775 : 0.2111922\t\t776 : 0.0169555\n",
      "777 : 0.0226291\t\t778 : 0.8178337\n",
      "779 : 0.8221195\t\t780 : 0.9343268\n",
      "781 : 0.2680564\t\t782 : 0.8152278\n",
      "783 : 0.188072\t\t784 : 0.0391432\n",
      "785 : 0.060801\t\t786 : 0.1022189\n",
      "787 : 0.8454154\t\t788 : 0.0540629\n",
      "789 : 0.0904179\t\t790 : 0.1310639\n",
      "791 : 0.8427371\t\t792 : 0.0704222\n",
      "793 : 0.8888192\t\t794 : 0.8830725\n",
      "795 : 0.0419272\t\t796 : 0.0339343\n",
      "797 : 0.0520878\t\t798 : 0.0428591\n",
      "799 : 0.0203122\t\t800 : 0.0491558\n",
      "801 : 0.8804063\t\t802 : 0.0378555\n",
      "803 : 0.0428426\t\t804 : 0.8546994\n",
      "805 : 0.0496954\t\t806 : 0.1365084\n",
      "807 : 0.0485144\t\t808 : 0.082903\n",
      "809 : 0.8045618\t\t810 : 0.1486564\n",
      "811 : 0.0422332\t\t812 : 0.3001433\n",
      "813 : 0.0938954\t\t814 : 0.0459262\n",
      "815 : 0.1892287\t\t816 : 0.7947175\n",
      "817 : 0.2965024\t\t818 : 0.0701891\n",
      "819 : 0.0975662\t\t820 : 0.0966868\n",
      "821 : 0.1376837\t\t822 : 0.5975689\n",
      "823 : 0.0142017\t\t824 : 0.0368412\n",
      "825 : 0.8394893\t\t826 : 0.4394743\n",
      "827 : 0.7757441\t\t828 : 0.5950147\n",
      "829 : 0.9434304\t\t830 : 0.1485824\n",
      "831 : 0.1461005\t\t832 : 0.7104747\n",
      "833 : 0.2404953\t\t834 : 0.0344447\n",
      "835 : 0.0198453\t\t836 : 0.0550875\n",
      "837 : 0.0630081\t\t838 : 0.093362\n",
      "839 : 0.2691874\t\t840 : 0.053199\n",
      "841 : 0.0815102\t\t842 : 0.2768791\n",
      "843 : 0.366625\t\t844 : 0.0201481\n",
      "845 : 0.1030155\t\t846 : 0.0723966\n",
      "847 : 0.6870788\t\t848 : 0.1094895\n",
      "849 : 0.7961429\t\t850 : 0.8164461\n",
      "851 : 0.1073864\t\t852 : 0.7810504\n",
      "853 : 0.0764873\t\t854 : 0.7191076\n",
      "855 : 0.69069\t\t856 : 0.0936894\n",
      "857 : 0.0496897\t\t858 : 0.4314621\n",
      "859 : 0.6522448\t\t860 : 0.2488364\n",
      "861 : 0.77822\t\t862 : 0.5157698\n",
      "863 : 0.1037493\t\t864 : 0.5500519\n",
      "865 : 0.5130052\t\t866 : 0.0564945\n",
      "867 : 0.098334\t\t868 : 0.0491772\n",
      "869 : 0.153361\t\t870 : 0.0502346\n",
      "871 : 0.0679408\t\t872 : 0.7212709\n",
      "873 : 0.0448638\t\t874 : 0.1989078\n",
      "875 : 0.1089928\t\t876 : 0.1922292\n",
      "877 : 0.8892273\t\t878 : 0.3156098\n",
      "879 : 0.0188765\t\t880 : 0.0967628\n",
      "881 : 0.0606198\t\t882 : 0.3863181\n",
      "883 : 0.2460286\t\t884 : 0.0501304\n",
      "885 : 0.0406828\t\t886 : 0.0527619\n",
      "887 : 0.7066607\t\t888 : 0.0449113\n",
      "889 : 0.0886032\t\t890 : 0.5610581\n",
      "891 : 0.8518798\t\t892 : 0.6696197\n",
      "893 : 0.4965377\t\t894 : 0.8326462\n",
      "895 : 0.0401742\t\t896 : 0.2192309\n",
      "897 : 0.7809972\t\t898 : 0.7770518\n",
      "899 : 0.064357\t\t900 : 0.0420659\n",
      "901 : 0.07914\t\t902 : 0.0794905\n",
      "903 : 0.5072591\t\t904 : 0.6403751\n",
      "905 : 0.2316229\t\t906 : 0.796806\n",
      "907 : 0.1480889\t\t908 : 0.1031244\n",
      "909 : 0.8137061\t\t910 : 0.7604287\n",
      "911 : 0.7942385\t\t912 : 0.817155\n",
      "913 : 0.1623854\t\t914 : 0.5843713\n",
      "915 : 0.1477117\t\t916 : 0.0650371\n",
      "917 : 0.5284937\t\t918 : 0.1973547\n",
      "919 : 0.6106552\t\t920 : 0.0376721\n",
      "921 : 0.0905451\t\t922 : 0.0425649\n",
      "923 : 0.0165778\t\t924 : 0.6183185\n",
      "925 : 0.0881024\t\t926 : 0.0777\n",
      "927 : 0.0423625\t\t928 : 0.275026\n",
      "929 : 0.5122969\t\t930 : 0.0496239\n",
      "931 : 0.7880252\t\t932 : 0.1799675\n",
      "933 : 0.9067496\t\t934 : 0.662789\n",
      "935 : 0.0766545\t\t936 : 0.2327331\n",
      "937 : 0.4111024\t\t938 : 0.7579886\n",
      "939 : 0.0298829\t\t940 : 0.0799507\n",
      "941 : 0.0846479\t\t942 : 0.7610764\n",
      "943 : 0.1414355\t\t944 : 0.360887\n",
      "945 : 0.0399165\t\t946 : 0.4998434\n",
      "947 : 0.789158\t\t948 : 0.8630445\n",
      "949 : 0.1945163\t\t950 : 0.1044701\n",
      "951 : 0.0621772\t\t952 : 0.1162623\n",
      "953 : 0.6734552\t\t954 : 0.8307558\n",
      "955 : 0.1043717\t\t956 : 0.0291928\n",
      "957 : 0.153192\t\t958 : 0.1485263\n",
      "959 : 0.1643407\t\t960 : 0.0793981\n",
      "961 : 0.1293424\t\t962 : 0.0387043\n",
      "963 : 0.8533068\t\t964 : 0.0991921\n",
      "965 : 0.0519285\t\t966 : 0.1439571\n",
      "967 : 0.0986599\t\t968 : 0.1019222\n",
      "969 : 0.1333638\t\t970 : 0.0419041\n",
      "971 : 0.7554275\t\t972 : 0.0528733\n",
      "973 : 0.2136461\t\t974 : 0.0114781\n",
      "975 : 0.8046484\t\t976 : 0.06125\n",
      "977 : 0.1641421\t\t978 : 0.525577\n",
      "979 : 0.1471527\t\t980 : 0.3234363\n",
      "981 : 0.0943487\t\t982 : 0.5129799\n",
      "983 : 0.4086777\t\t984 : 0.8158244\n",
      "985 : 0.8355591\t\t986 : 0.4393871\n",
      "987 : 0.0336269\t\t988 : 0.0207137\n",
      "989 : 0.210839\t\t990 : 0.9138068\n",
      "991 : 0.6061039\t\t992 : 0.6096628\n",
      "993 : 0.3086643\t\t994 : 0.8554815\n",
      "995 : 0.0680337\t\t996 : 0.0294318\n",
      "997 : 0.0302578\t\t998 : 0.8583048\n",
      "999 : 0.5757179\t\t1000 : 0.8828848\n"
     ]
    }
   ],
   "source": [
    "probas = sigmoid(w, f_test, b)\n",
    "\n",
    "print('Probability scores corresponding to 𝑋_𝑡𝑒𝑠𝑡 :\\n')\n",
    "\n",
    "for i in range(0, len(probas),2):\n",
    "    print(f'{i+1} : {round(probas[i], 7)}\\t\\t{i+2} : {round(probas[i+1],7)}')"
   ]
  },
  {
   "cell_type": "markdown",
   "metadata": {
    "id": "oTY7z2bd4Zx2"
   },
   "source": [
    "__Note: in the above algorithm, the steps 2, 4 might need hyper parameter tuning, To reduce the complexity of the assignment we are excluding the hyerparameter tuning part, but intrested students can try that__"
   ]
  },
  {
   "cell_type": "markdown",
   "metadata": {
    "id": "CM3odN1Z4Zx3"
   },
   "source": [
    "\n",
    "If any one wants to try other calibration algorithm istonic regression also please check these tutorials\n",
    "\n",
    "1. http://fa.bianp.net/blog/tag/scikit-learn.html#fn:1\n",
    "\n",
    "2. https://drive.google.com/open?id=1MzmA7QaP58RDzocB0RBmRiWfl7Co_VJ7\n",
    "\n",
    "3. https://drive.google.com/open?id=133odBinMOIVb_rh_GQxxsyMRyW-Zts7a\n",
    "\n",
    "4. https://stat.fandom.com/wiki/Isotonic_regression#Pool_Adjacent_Violators_Algorithm\n"
   ]
  }
 ],
 "metadata": {
  "colab": {
   "collapsed_sections": [],
   "name": "8E&F_LR_SVM.ipynb",
   "provenance": []
  },
  "kernelspec": {
   "display_name": "Python 3 (ipykernel)",
   "language": "python",
   "name": "python3"
  },
  "language_info": {
   "codemirror_mode": {
    "name": "ipython",
    "version": 3
   },
   "file_extension": ".py",
   "mimetype": "text/x-python",
   "name": "python",
   "nbconvert_exporter": "python",
   "pygments_lexer": "ipython3",
   "version": "3.9.7"
  }
 },
 "nbformat": 4,
 "nbformat_minor": 1
}
