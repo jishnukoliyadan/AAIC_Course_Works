{
 "cells": [
  {
   "cell_type": "markdown",
   "metadata": {
    "id": "5HExLQrE4ZxR"
   },
   "source": [
    "<h1><font color='blue'> 8E and 8F: Finding the Probability P(Y==1|X)</font></h1>"
   ]
  },
  {
   "cell_type": "markdown",
   "metadata": {
    "id": "4LuKrFzC4ZxV"
   },
   "source": [
    "<h2><font color='Geen'> 8E: Implementing Decision Function of SVM RBF Kernel</font></h2>"
   ]
  },
  {
   "cell_type": "markdown",
   "metadata": {
    "id": "1wES-wWN4ZxX"
   },
   "source": [
    "<font face=' Comic Sans MS' size=3>After we train a kernel SVM model, we will be getting support vectors and their corresponsing coefficients $\\alpha_{i}$\n",
    "\n",
    "Check the documentation for better understanding of these attributes: \n",
    "\n",
    "https://scikit-learn.org/stable/modules/generated/sklearn.svm.SVC.html\n",
    "<img src='https://i.imgur.com/K11msU4.png' width=500>\n",
    "\n",
    "As a part of this assignment you will be implementing the ```decision_function()``` of kernel SVM, here decision_function() means based on the value return by ```decision_function()``` model will classify the data point either as positive or negative\n",
    "\n",
    "Ex 1: In logistic regression After traning the models with the optimal weights $w$ we get, we will find the value $\\frac{1}{1+\\exp(-(wx+b))}$, if this value comes out to be < 0.5 we will mark it as negative class, else its positive class\n",
    "\n",
    "Ex 2: In Linear SVM After traning the models with the optimal weights $w$ we get, we will find the value of $sign(wx+b)$, if this value comes out to be -ve we will mark it as negative class, else its positive class.\n",
    "\n",
    "Similarly in Kernel SVM After traning the models with the coefficients $\\alpha_{i}$ we get, we will find the value of \n",
    "$sign(\\sum_{i=1}^{n}(y_{i}\\alpha_{i}K(x_{i},x_{q})) + intercept)$, here $K(x_{i},x_{q})$ is the RBF kernel. If this value comes out to be -ve we will mark $x_{q}$ as negative class, else its positive class.\n",
    "\n",
    "RBF kernel is defined as: $K(x_{i},x_{q})$ = $exp(-\\gamma ||x_{i} - x_{q}||^2)$\n",
    "\n",
    "For better understanding check this link: https://scikit-learn.org/stable/modules/svm.html#svm-mathematical-formulation\n",
    "</font>"
   ]
  },
  {
   "cell_type": "markdown",
   "metadata": {
    "id": "z830CfMk4Zxa"
   },
   "source": [
    "## Task E"
   ]
  },
  {
   "cell_type": "markdown",
   "metadata": {
    "id": "MuBxHiCQ4Zxc"
   },
   "source": [
    "> 1. Split the data into $X_{train}$(60), $X_{cv}$(20), $X_{test}$(20)\n",
    "\n",
    "> 2. Train $SVC(gamma=0.001, C=100.)$ on the ($X_{train}$, $y_{train}$)\n",
    "\n",
    "> 3. Get the decision boundry values $f_{cv}$ on the $X_{cv}$ data  i.e. ` `$f_{cv}$ ```= decision_function(```$X_{cv}$```)```  <font color='red'>you need to implement this decision_function()</font>"
   ]
  },
  {
   "cell_type": "code",
   "execution_count": 1,
   "metadata": {
    "id": "fCgMNEvI4Zxf"
   },
   "outputs": [],
   "source": [
    "import numpy as np\n",
    "import pandas as pd\n",
    "import numpy as np\n",
    "\n",
    "from sklearn.svm import SVC\n",
    "from tqdm import tqdm\n",
    "from matplotlib import pyplot as plt\n",
    "\n",
    "from sklearn.datasets import make_classification\n",
    "from sklearn.model_selection import train_test_split\n",
    "\n",
    "\n",
    "plt.style.use('fivethirtyeight')"
   ]
  },
  {
   "cell_type": "code",
   "execution_count": 2,
   "metadata": {
    "id": "ANUNIqCe4Zxn"
   },
   "outputs": [],
   "source": [
    "X, y = make_classification(n_samples=5000, n_features=5, n_redundant=2,\n",
    "                           n_classes=2, weights=[0.7], class_sep=0.7, random_state=15)"
   ]
  },
  {
   "cell_type": "markdown",
   "metadata": {
    "id": "tHie1zqH4Zxt"
   },
   "source": [
    "### Pseudo code\n",
    "\n",
    "clf = SVC(gamma=0.001, C=100.)<br>\n",
    "clf.fit(Xtrain, ytrain)\n",
    "\n",
    "<font color='green'>def</font> <font color='blue'>decision_function</font>(Xcv, ...): #use appropriate parameters <br>\n",
    "&nbsp;&nbsp;&nbsp;&nbsp;&nbsp;&nbsp;<font color='green'>for</font> a data point $x_q$ <font color='green'>in</font> Xcv: <br>\n",
    "&nbsp;&nbsp;&nbsp;&nbsp;&nbsp;&nbsp;&nbsp;&nbsp;&nbsp;&nbsp;&nbsp;&nbsp;<font color='grey'>#write code to implement $(\\sum_{i=1}^{\\text{all the support vectors}}(y_{i}\\alpha_{i}K(x_{i},x_{q})) + intercept)$, here the values $y_i$, $\\alpha_{i}$, and $intercept$ can be obtained from the trained model</font><br>\n",
    "   <font color='green'>return</font> <font color='grey'><i># the decision_function output for all the data points in the Xcv</i></font>\n",
    "    \n",
    "fcv = decision_function(Xcv, ...)  <i># based on your requirement you can pass any other parameters </i>\n",
    "\n",
    "<b>Note</b>: Make sure the values you get as fcv, should be equal to outputs of clf.decision_function(Xcv)\n"
   ]
  },
  {
   "cell_type": "code",
   "execution_count": 3,
   "metadata": {
    "id": "h43kDT3M41u5"
   },
   "outputs": [
    {
     "name": "stdout",
     "output_type": "stream",
     "text": [
      "X_Train shape (3000, 5)\n",
      "X_Test shape (1000, 5)\n",
      "X_Cv shape (1000, 5)\n"
     ]
    },
    {
     "data": {
      "text/html": [
       "<style>#sk-container-id-1 {color: black;background-color: white;}#sk-container-id-1 pre{padding: 0;}#sk-container-id-1 div.sk-toggleable {background-color: white;}#sk-container-id-1 label.sk-toggleable__label {cursor: pointer;display: block;width: 100%;margin-bottom: 0;padding: 0.3em;box-sizing: border-box;text-align: center;}#sk-container-id-1 label.sk-toggleable__label-arrow:before {content: \"▸\";float: left;margin-right: 0.25em;color: #696969;}#sk-container-id-1 label.sk-toggleable__label-arrow:hover:before {color: black;}#sk-container-id-1 div.sk-estimator:hover label.sk-toggleable__label-arrow:before {color: black;}#sk-container-id-1 div.sk-toggleable__content {max-height: 0;max-width: 0;overflow: hidden;text-align: left;background-color: #f0f8ff;}#sk-container-id-1 div.sk-toggleable__content pre {margin: 0.2em;color: black;border-radius: 0.25em;background-color: #f0f8ff;}#sk-container-id-1 input.sk-toggleable__control:checked~div.sk-toggleable__content {max-height: 200px;max-width: 100%;overflow: auto;}#sk-container-id-1 input.sk-toggleable__control:checked~label.sk-toggleable__label-arrow:before {content: \"▾\";}#sk-container-id-1 div.sk-estimator input.sk-toggleable__control:checked~label.sk-toggleable__label {background-color: #d4ebff;}#sk-container-id-1 div.sk-label input.sk-toggleable__control:checked~label.sk-toggleable__label {background-color: #d4ebff;}#sk-container-id-1 input.sk-hidden--visually {border: 0;clip: rect(1px 1px 1px 1px);clip: rect(1px, 1px, 1px, 1px);height: 1px;margin: -1px;overflow: hidden;padding: 0;position: absolute;width: 1px;}#sk-container-id-1 div.sk-estimator {font-family: monospace;background-color: #f0f8ff;border: 1px dotted black;border-radius: 0.25em;box-sizing: border-box;margin-bottom: 0.5em;}#sk-container-id-1 div.sk-estimator:hover {background-color: #d4ebff;}#sk-container-id-1 div.sk-parallel-item::after {content: \"\";width: 100%;border-bottom: 1px solid gray;flex-grow: 1;}#sk-container-id-1 div.sk-label:hover label.sk-toggleable__label {background-color: #d4ebff;}#sk-container-id-1 div.sk-serial::before {content: \"\";position: absolute;border-left: 1px solid gray;box-sizing: border-box;top: 0;bottom: 0;left: 50%;z-index: 0;}#sk-container-id-1 div.sk-serial {display: flex;flex-direction: column;align-items: center;background-color: white;padding-right: 0.2em;padding-left: 0.2em;position: relative;}#sk-container-id-1 div.sk-item {position: relative;z-index: 1;}#sk-container-id-1 div.sk-parallel {display: flex;align-items: stretch;justify-content: center;background-color: white;position: relative;}#sk-container-id-1 div.sk-item::before, #sk-container-id-1 div.sk-parallel-item::before {content: \"\";position: absolute;border-left: 1px solid gray;box-sizing: border-box;top: 0;bottom: 0;left: 50%;z-index: -1;}#sk-container-id-1 div.sk-parallel-item {display: flex;flex-direction: column;z-index: 1;position: relative;background-color: white;}#sk-container-id-1 div.sk-parallel-item:first-child::after {align-self: flex-end;width: 50%;}#sk-container-id-1 div.sk-parallel-item:last-child::after {align-self: flex-start;width: 50%;}#sk-container-id-1 div.sk-parallel-item:only-child::after {width: 0;}#sk-container-id-1 div.sk-dashed-wrapped {border: 1px dashed gray;margin: 0 0.4em 0.5em 0.4em;box-sizing: border-box;padding-bottom: 0.4em;background-color: white;}#sk-container-id-1 div.sk-label label {font-family: monospace;font-weight: bold;display: inline-block;line-height: 1.2em;}#sk-container-id-1 div.sk-label-container {text-align: center;}#sk-container-id-1 div.sk-container {/* jupyter's `normalize.less` sets `[hidden] { display: none; }` but bootstrap.min.css set `[hidden] { display: none !important; }` so we also need the `!important` here to be able to override the default hidden behavior on the sphinx rendered scikit-learn.org. See: https://github.com/scikit-learn/scikit-learn/issues/21755 */display: inline-block !important;position: relative;}#sk-container-id-1 div.sk-text-repr-fallback {display: none;}</style><div id=\"sk-container-id-1\" class=\"sk-top-container\"><div class=\"sk-text-repr-fallback\"><pre>SVC(C=100, gamma=0.001)</pre><b>In a Jupyter environment, please rerun this cell to show the HTML representation or trust the notebook. <br />On GitHub, the HTML representation is unable to render, please try loading this page with nbviewer.org.</b></div><div class=\"sk-container\" hidden><div class=\"sk-item\"><div class=\"sk-estimator sk-toggleable\"><input class=\"sk-toggleable__control sk-hidden--visually\" id=\"sk-estimator-id-1\" type=\"checkbox\" checked><label for=\"sk-estimator-id-1\" class=\"sk-toggleable__label sk-toggleable__label-arrow\">SVC</label><div class=\"sk-toggleable__content\"><pre>SVC(C=100, gamma=0.001)</pre></div></div></div></div></div>"
      ],
      "text/plain": [
       "SVC(C=100, gamma=0.001)"
      ]
     },
     "execution_count": 3,
     "metadata": {},
     "output_type": "execute_result"
    }
   ],
   "source": [
    "# https://scikit-learn.org/stable/modules/generated/sklearn.model_selection.train_test_split.html\n",
    "# https://scikit-learn.org/stable/modules/generated/sklearn.svm.SVC.html\n",
    "\n",
    "# 1. Split the data into 𝑋𝑡𝑟𝑎𝑖𝑛(60), 𝑋𝑐𝑣(20), 𝑋𝑡𝑒𝑠𝑡(20)\n",
    "x_tr, x_test, y_tr, y_test = train_test_split(X, y, test_size = 0.2,\n",
    "                                                    stratify = y, random_state = 2)\n",
    "x_train, x_cv, y_train , y_cv = train_test_split(x_tr, y_tr, test_size = 0.25,\n",
    "                                               stratify = y_tr, random_state = 2)\n",
    "\n",
    "print('X_Train shape',x_train.shape )\n",
    "print('X_Test shape',x_test.shape )\n",
    "print('X_Cv shape',x_cv.shape )\n",
    "\n",
    "# 2. Train 𝑆𝑉𝐶(𝑔𝑎𝑚𝑚𝑎=0.001,𝐶=100.) on the (𝑋𝑡𝑟𝑎𝑖𝑛, 𝑦𝑡𝑟𝑎𝑖𝑛)\n",
    "\n",
    "gamma_ = 0.001\n",
    "svc_clf = SVC(gamma = gamma_, C = 100)\n",
    "svc_clf.fit(x_train, y_train) "
   ]
  },
  {
   "cell_type": "markdown",
   "metadata": {},
   "source": [
    "<font color='green'>def</font> <font color='blue'>decision_function</font>(Xcv, ...): #use appropriate parameters <br>\n",
    "&nbsp;&nbsp;&nbsp;&nbsp;&nbsp;&nbsp;<font color='green'>for</font> a data point $x_q$ <font color='green'>in</font> Xcv: <br>\n",
    "&nbsp;&nbsp;&nbsp;&nbsp;&nbsp;&nbsp;&nbsp;&nbsp;&nbsp;&nbsp;&nbsp;&nbsp;<font color='grey'>#write code to implement $(\\sum_{i=1}^{\\text{all the support vectors}}(y_{i}\\alpha_{i}K(x_{i},x_{q})) + intercept)$, here the values $y_i$, $\\alpha_{i}$, and $intercept$ can be obtained from the trained model</font><br>\n",
    "   <font color='green'>return</font> <font color='grey'><i># the decision_function output for all the data points in the Xcv</i></font>\n",
    "    \n",
    "fcv = decision_function(Xcv, ...)  <i># based on your requirement you can pass any other parameters </i>\n",
    "\n",
    "Similarly in Kernel SVM After traning the models with the coefficients $\\alpha_{i}$ we get, we will find the value of \n",
    "$sign(\\sum_{i=1}^{n}(y_{i}\\alpha_{i}K(x_{i},x_{q})) + intercept)$, here $K(x_{i},x_{q})$ is the RBF kernel. If this value comes out to be -ve we will mark $x_{q}$ as negative class, else its positive class.\n",
    "\n",
    "RBF kernel is defined as: $K(x_{i},x_{q})$ = $exp(-\\gamma ||x_{i} - x_{q}||^2)$"
   ]
  },
  {
   "cell_type": "code",
   "execution_count": 4,
   "metadata": {},
   "outputs": [],
   "source": [
    "# https://towardsdatascience.com/radial-basis-function-rbf-kernel-the-go-to-kernel-acf0d22c798a\n",
    "# https://towardsdatascience.com/support-vector-machines-learning-data-science-step-by-step-f2a569d90f76\n",
    "# https://github.com/eriklindernoren/ML-From-Scratch/blob/master/\n",
    "#         mlfromscratch/supervised_learning/support_vector_machine.py\n",
    "\n",
    "def decision_function(x, intercept, coeff, support_vector, gamma ):\n",
    "    \n",
    "#     RBF kernel is defined as: 𝐾(𝑥𝑖,𝑥𝑞) = 𝑒𝑥𝑝(−𝛾||𝑥𝑖−𝑥𝑞||2)\n",
    "    kernel = np.zeros((x.shape[0], support_vector.shape[0]))\n",
    "    for id_x, pt in enumerate(x):\n",
    "        for id_y, vec in enumerate(support_vector):\n",
    "            k_value = np.exp(-gamma * np.sum((pt- vec)**2))\n",
    "            kernel[id_x][id_y] = k_value\n",
    "            \n",
    "#    𝑦𝑖*𝛼𝑖*𝐾(𝑥𝑖,𝑥𝑞)) + 𝑖𝑛𝑡𝑒𝑟𝑐𝑒𝑝𝑡\n",
    "    custom_decision = np.sum(coeff * kernel, axis = 1) + intercept\n",
    "\n",
    "    return custom_decision"
   ]
  },
  {
   "cell_type": "code",
   "execution_count": 5,
   "metadata": {},
   "outputs": [],
   "source": [
    "fcv = decision_function(x_cv, svc_clf.intercept_, svc_clf.dual_coef_,\n",
    "                                                       svc_clf.support_vectors_, gamma_ )"
   ]
  },
  {
   "cell_type": "markdown",
   "metadata": {},
   "source": [
    "**<font color='blue'>Comparing Custom implementation and Native SVC implementation</font>**"
   ]
  },
  {
   "cell_type": "code",
   "execution_count": 6,
   "metadata": {},
   "outputs": [
    {
     "name": "stdout",
     "output_type": "stream",
     "text": [
      "Shape at Native SVC implementation\t : (1000,)\n",
      "Shape at Custom implementation\t\t : (1000,)\n"
     ]
    }
   ],
   "source": [
    "print(f'Shape at Native SVC implementation\\t : {fcv.shape}')\n",
    "print(f'Shape at Custom implementation\\t\\t : {fcv.shape}')"
   ]
  },
  {
   "cell_type": "code",
   "execution_count": 7,
   "metadata": {},
   "outputs": [
    {
     "name": "stdout",
     "output_type": "stream",
     "text": [
      "'True' if all values are same, other-wise 'False'\t: True\n",
      "\n",
      "Comparison of 1st 180 values :            \n",
      "[ True  True  True  True  True  True  True  True  True  True  True  True\n",
      "  True  True  True  True  True  True  True  True  True  True  True  True\n",
      "  True  True  True  True  True  True  True  True  True  True  True  True\n",
      "  True  True  True  True  True  True  True  True  True  True  True  True\n",
      "  True  True  True  True  True  True  True  True  True  True  True  True\n",
      "  True  True  True  True  True  True  True  True  True  True  True  True\n",
      "  True  True  True  True  True  True  True  True  True  True  True  True\n",
      "  True  True  True  True  True  True  True  True  True  True  True  True\n",
      "  True  True  True  True  True  True  True  True  True  True  True  True\n",
      "  True  True  True  True  True  True  True  True  True  True  True  True\n",
      "  True  True  True  True  True  True  True  True  True  True  True  True\n",
      "  True  True  True  True  True  True  True  True  True  True  True  True\n",
      "  True  True  True  True  True  True  True  True  True  True  True  True\n",
      "  True  True  True  True  True  True  True  True  True  True  True  True\n",
      "  True  True  True  True  True  True  True  True  True  True  True  True]\n"
     ]
    },
    {
     "data": {
      "text/plain": [
       "array([-3.2630509 ,  1.84661142, -3.92647752, -1.67949529, -2.14324374,\n",
       "       -3.05654121, -3.31298576, -1.56365973, -3.76088812, -3.70935314,\n",
       "        1.71459596, -2.87275849, -2.57540088, -3.01488941, -3.46797186,\n",
       "       -0.73400885, -1.33553508,  0.24029827, -1.53850604, -1.13269479])"
      ]
     },
     "execution_count": 7,
     "metadata": {},
     "output_type": "execute_result"
    }
   ],
   "source": [
    "# https://numpy.org/doc/stable/reference/generated/numpy.around.html\n",
    "\n",
    "result_ = all(np.round(svc_clf.decision_function(x_cv), 7) == np.round(fcv, 7))\n",
    "print(f\"'True' if all values are same, other-wise 'False'\\t: {result_}\")\n",
    "\n",
    "n_ = 180\n",
    "\n",
    "print(f'\\nComparison of 1st {n_} values :\\\n",
    "            \\n{np.round(svc_clf.decision_function(x_cv)[:n_], 7) == np.round(fcv[:n_], 7)}')\n",
    "\n",
    "fcv[:20]"
   ]
  },
  {
   "cell_type": "markdown",
   "metadata": {
    "id": "c0bKCboN4Zxu"
   },
   "source": [
    "<h2><font color='Geen'> 8F: Implementing Platt Scaling to find P(Y==1|X)</font></h2>"
   ]
  },
  {
   "cell_type": "markdown",
   "metadata": {
    "id": "nMn7OEN94Zxw"
   },
   "source": [
    "Check this <a href='https://drive.google.com/open?id=133odBinMOIVb_rh_GQxxsyMRyW-Zts7a'>PDF</a>\n",
    "<img src='https://i.imgur.com/CAMnVnh.png'>\n"
   ]
  },
  {
   "cell_type": "markdown",
   "metadata": {
    "id": "e0n5EFkx4Zxz"
   },
   "source": [
    "## TASK F"
   ]
  },
  {
   "cell_type": "markdown",
   "metadata": {
    "id": "t0HOqVJq4Zx1"
   },
   "source": [
    "\n",
    "> 4. Apply SGD algorithm with ($f_{cv}$, $y_{cv}$) and find the weight $W$ intercept $b$ ```Note: here our data is of one dimensional so we will have a one dimensional weight vector i.e W.shape (1,)``` \n",
    "\n",
    "> Note1: Don't forget to change the values of $y_{cv}$ as mentioned in the above image. you will calculate y+, y- based on data points in train data\n",
    "\n",
    "> Note2: the Sklearn's SGD algorithm doesn't support the real valued outputs, you need to use the code that was done in the `'Logistic Regression with SGD and L2'` Assignment after modifying loss function, and use same parameters that used in that assignment.\n",
    "<img src='https://i.imgur.com/zKYE9Oc.png'>\n",
    "if Y[i] is 1, it will be replaced with y+ value else it will replaced with y- value\n",
    "\n",
    "> 5. For a given data point from $X_{test}$, $P(Y=1|X) = \\frac{1}{1+exp(-(W*f_{test}+ b))}$ where ` `$f_{test}$ ```= decision_function(```$X_{test}$```)```, W and b will be learned as metioned in the above step"
   ]
  },
  {
   "cell_type": "code",
   "execution_count": 8,
   "metadata": {},
   "outputs": [
    {
     "name": "stdout",
     "output_type": "stream",
     "text": [
      "Positive counts : 908\n",
      "Negative counts : 2092\n",
      "\n",
      "Calibrated 'y' positives : 0.9989\n",
      "Calibrated 'y' negatives : 0.0005\n"
     ]
    }
   ],
   "source": [
    "# https://www.delftstack.com/howto/numpy/numpy-count-zero/\n",
    "# https://numpy.org/doc/stable/reference/generated/numpy.count_nonzero.html\n",
    "\n",
    "n_pos = np.count_nonzero(y_train)\n",
    "print(f'Positive counts : {n_pos}')\n",
    "\n",
    "n_neg = len(y_train) - n_pos\n",
    "print(f'Negative counts : {n_neg}')\n",
    "\n",
    "calibrated_y_pos = (n_pos + 1) / (n_pos + 2)\n",
    "calibrated_y_neg = 1 / (n_neg + 2) \n",
    "\n",
    "print(f\"\\nCalibrated 'y' positives : {round(calibrated_y_pos, 4)}\")\n",
    "print(f\"Calibrated 'y' negatives : {round(calibrated_y_neg, 4)}\")"
   ]
  },
  {
   "cell_type": "code",
   "execution_count": 9,
   "metadata": {},
   "outputs": [],
   "source": [
    "# changing 𝑦_𝑐𝑣 values\n",
    "\n",
    "updated_y_cv = []\n",
    "\n",
    "for p in y_cv:\n",
    "    if p == 1:\n",
    "        updated_y_cv.append(calibrated_y_pos)\n",
    "    else:\n",
    "        updated_y_cv.append(calibrated_y_neg)"
   ]
  },
  {
   "cell_type": "code",
   "execution_count": 10,
   "metadata": {},
   "outputs": [],
   "source": [
    "def sigmoid(w, x, b):\n",
    "    z = np.dot(w, x) + b\n",
    "    return (1 / (1 + np.exp(-z)))\n",
    "\n",
    "def log_loss(w, b, X, Y):\n",
    "    \n",
    "    N = len(X)\n",
    "    sum_log = 0\n",
    "    \n",
    "    for i in range(N):\n",
    "        sum_log += Y[i] * np.log10(sigmoid(w, X[i], b)) + \\\n",
    "                            (1 - Y[i] * np.log10(1 - sigmoid(w, X[i], b)))\n",
    "    \n",
    "    return (-1 * sum_log / N)"
   ]
  },
  {
   "cell_type": "markdown",
   "metadata": {},
   "source": [
    "$dw^{(t)} = x_n(y_n − σ((w^{(t)})^{T} x_n+b^{t}))- \\frac{λ}{N}w^{(t)}$\n",
    "\n",
    "$ db^{(t)} = y_n- σ((w^{(t)})^{T} x_n+b^{t})$"
   ]
  },
  {
   "cell_type": "code",
   "execution_count": 11,
   "metadata": {},
   "outputs": [
    {
     "name": "stderr",
     "output_type": "stream",
     "text": [
      "100%|███████████████████████████████████████████| 25/25 [00:00<00:00, 48.08it/s]\n"
     ]
    }
   ],
   "source": [
    "N = len(fcv)\n",
    "w = np.zeros_like(fcv[0])\n",
    "b = 0\n",
    "\n",
    "eta0 = 0.0001\n",
    "alpha = 0.0001\n",
    "epochs = 25\n",
    "\n",
    "cv_loss = []\n",
    "\n",
    "y = updated_y_cv\n",
    "\n",
    "for epoch in tqdm(range(epochs)):\n",
    "    for j in range(N):\n",
    "        \n",
    "        dw = fcv[j] * (y[j] -sigmoid(w, fcv[j], b)) - (( alpha / N) * w)\n",
    "        w = w + (eta0 * dw)                \n",
    "        \n",
    "        db = y[j] - sigmoid(w, fcv[j], b)\n",
    "        b = b + (eta0 * db)\n",
    "        \n",
    "    loss = log_loss(w, b, fcv, y)\n",
    "    cv_loss.append(loss)"
   ]
  },
  {
   "cell_type": "code",
   "execution_count": 12,
   "metadata": {},
   "outputs": [
    {
     "data": {
      "image/png": "[encoded data removed]",
      "text/plain": [
       "<Figure size 1008x360 with 1 Axes>"
      ]
     },
     "metadata": {},
     "output_type": "display_data"
    }
   ],
   "source": [
    "epoch = np.arange(epochs) + 1\n",
    "plt.figure(figsize = (14,5))\n",
    "\n",
    "plt.plot(epoch,cv_loss, c = 'r',label='Test Log Loss')\n",
    "plt.xticks(epoch)\n",
    "plt.title('Log Loss vs Epoch curve', fontsize = 15, c = 'b')\n",
    "plt.xlabel(\"Epoch number\")\n",
    "plt.ylabel('Log Loss')\n",
    "plt.legend(fontsize = 12)\n",
    "plt.show()"
   ]
  },
  {
   "cell_type": "code",
   "execution_count": 13,
   "metadata": {},
   "outputs": [
    {
     "name": "stdout",
     "output_type": "stream",
     "text": [
      "Optimized 'w' : 0.8964154031692937\n",
      "Optimized 'b' : -0.1059103765770649\n"
     ]
    }
   ],
   "source": [
    "print(f\"Optimized 'w' : {w}\\nOptimized 'b' : {b}\")"
   ]
  },
  {
   "cell_type": "code",
   "execution_count": 14,
   "metadata": {},
   "outputs": [],
   "source": [
    "f_test = decision_function(x_test, svc_clf.intercept_, svc_clf.dual_coef_,\n",
    "                           svc_clf.support_vectors_, gamma_ )"
   ]
  },
  {
   "cell_type": "code",
   "execution_count": 15,
   "metadata": {
    "scrolled": false
   },
   "outputs": [
    {
     "name": "stdout",
     "output_type": "stream",
     "text": [
      "Probability scores corresponding to 𝑋_𝑡𝑒𝑠𝑡 :\n",
      "\n",
      "1 : 0.4165747\t\t2 : 0.0190188\n",
      "3 : 0.6271969\t\t4 : 0.1733171\n",
      "5 : 0.4585853\t\t6 : 0.799688\n",
      "7 : 0.061171\t\t8 : 0.7661707\n",
      "9 : 0.872142\t\t10 : 0.1896545\n",
      "11 : 0.007809\t\t12 : 0.7174306\n",
      "13 : 0.0637876\t\t14 : 0.3933717\n",
      "15 : 0.7223651\t\t16 : 0.1927996\n",
      "17 : 0.6349105\t\t18 : 0.0931003\n",
      "19 : 0.0616461\t\t20 : 0.0680393\n",
      "21 : 0.0444377\t\t22 : 0.1406477\n",
      "23 : 0.0845875\t\t24 : 0.771343\n",
      "25 : 0.1622533\t\t26 : 0.0483245\n",
      "27 : 0.0572729\t\t28 : 0.0372025\n",
      "29 : 0.0634906\t\t30 : 0.0449975\n",
      "31 : 0.0204865\t\t32 : 0.0643757\n",
      "33 : 0.0752368\t\t34 : 0.8300568\n",
      "35 : 0.8632498\t\t36 : 0.0898285\n",
      "37 : 0.1689578\t\t38 : 0.0968646\n",
      "39 : 0.0377977\t\t40 : 0.0439399\n",
      "41 : 0.1686636\t\t42 : 0.5903914\n",
      "43 : 0.1012054\t\t44 : 0.0364759\n",
      "45 : 0.1035759\t\t46 : 0.0853356\n",
      "47 : 0.3474237\t\t48 : 0.734585\n",
      "49 : 0.8377354\t\t50 : 0.0791457\n",
      "51 : 0.2379581\t\t52 : 0.1557444\n",
      "53 : 0.8181413\t\t54 : 0.8582482\n",
      "55 : 0.0376176\t\t56 : 0.8714598\n",
      "57 : 0.2167779\t\t58 : 0.4265603\n",
      "59 : 0.8862525\t\t60 : 0.1085779\n",
      "61 : 0.8320746\t\t62 : 0.2660353\n",
      "63 : 0.3004638\t\t64 : 0.1759626\n",
      "65 : 0.0781887\t\t66 : 0.0840931\n",
      "67 : 0.1108084\t\t68 : 0.0670411\n",
      "69 : 0.0320749\t\t70 : 0.1243772\n",
      "71 : 0.3193777\t\t72 : 0.0513671\n",
      "73 : 0.1228921\t\t74 : 0.222336\n",
      "75 : 0.5904902\t\t76 : 0.0273043\n",
      "77 : 0.0422021\t\t78 : 0.1293486\n",
      "79 : 0.7925336\t\t80 : 0.7626793\n",
      "81 : 0.4540692\t\t82 : 0.8104249\n",
      "83 : 0.0339327\t\t84 : 0.1973169\n",
      "85 : 0.0600657\t\t86 : 0.5915985\n",
      "87 : 0.8741682\t\t88 : 0.050328\n",
      "89 : 0.712379\t\t90 : 0.7569324\n",
      "91 : 0.0883039\t\t92 : 0.7131215\n",
      "93 : 0.0603754\t\t94 : 0.0538948\n",
      "95 : 0.2360916\t\t96 : 0.4144056\n",
      "97 : 0.0588722\t\t98 : 0.0207701\n",
      "99 : 0.059212\t\t100 : 0.8445676\n",
      "101 : 0.1336626\t\t102 : 0.7559836\n",
      "103 : 0.0535805\t\t104 : 0.0894821\n",
      "105 : 0.1089454\t\t106 : 0.0778952\n",
      "107 : 0.1479503\t\t108 : 0.4765982\n",
      "109 : 0.4084003\t\t110 : 0.1946074\n",
      "111 : 0.0752162\t\t112 : 0.0724592\n",
      "113 : 0.0388725\t\t114 : 0.1393005\n",
      "115 : 0.7437013\t\t116 : 0.8559409\n",
      "117 : 0.9405504\t\t118 : 0.01187\n",
      "119 : 0.0386836\t\t120 : 0.7375065\n",
      "121 : 0.8537572\t\t122 : 0.8279527\n",
      "123 : 0.7271689\t\t124 : 0.8609402\n",
      "125 : 0.1156322\t\t126 : 0.0763227\n",
      "127 : 0.0645989\t\t128 : 0.7809083\n",
      "129 : 0.1959797\t\t130 : 0.3050527\n",
      "131 : 0.1394914\t\t132 : 0.0248915\n",
      "133 : 0.1093614\t\t134 : 0.0797313\n",
      "135 : 0.0506046\t\t136 : 0.052886\n",
      "137 : 0.1602985\t\t138 : 0.1562373\n",
      "139 : 0.1211836\t\t140 : 0.8560652\n",
      "141 : 0.0644889\t\t142 : 0.8732613\n",
      "143 : 0.6216455\t\t144 : 0.6537779\n",
      "145 : 0.1515319\t\t146 : 0.4720842\n",
      "147 : 0.5101588\t\t148 : 0.0361035\n",
      "149 : 0.0651236\t\t150 : 0.0365127\n",
      "151 : 0.1603164\t\t152 : 0.0772473\n",
      "153 : 0.4065972\t\t154 : 0.0618147\n",
      "155 : 0.1079551\t\t156 : 0.8017678\n",
      "157 : 0.0654119\t\t158 : 0.0865315\n",
      "159 : 0.0389689\t\t160 : 0.0599703\n",
      "161 : 0.1068038\t\t162 : 0.8007216\n",
      "163 : 0.8566436\t\t164 : 0.8592045\n",
      "165 : 0.8767332\t\t166 : 0.0974953\n",
      "167 : 0.8390979\t\t168 : 0.8616407\n",
      "169 : 0.4779008\t\t170 : 0.0110815\n",
      "171 : 0.7360725\t\t172 : 0.5669181\n",
      "173 : 0.7032836\t\t174 : 0.0506348\n",
      "175 : 0.140132\t\t176 : 0.6594581\n",
      "177 : 0.1203434\t\t178 : 0.0501157\n",
      "179 : 0.2488659\t\t180 : 0.8782152\n",
      "181 : 0.337796\t\t182 : 0.0470368\n",
      "183 : 0.375333\t\t184 : 0.0856449\n",
      "185 : 0.1884772\t\t186 : 0.6981141\n",
      "187 : 0.773522\t\t188 : 0.4481496\n",
      "189 : 0.1838304\t\t190 : 0.0309949\n",
      "191 : 0.3250267\t\t192 : 0.0264273\n",
      "193 : 0.7616043\t\t194 : 0.5134539\n",
      "195 : 0.0915411\t\t196 : 0.1052337\n",
      "197 : 0.0876359\t\t198 : 0.0875543\n",
      "199 : 0.9076548\t\t200 : 0.658391\n",
      "201 : 0.0886875\t\t202 : 0.8277083\n",
      "203 : 0.0358457\t\t204 : 0.3073069\n",
      "205 : 0.0894901\t\t206 : 0.0684587\n",
      "207 : 0.9029777\t\t208 : 0.4794582\n",
      "209 : 0.0750636\t\t210 : 0.1538429\n",
      "211 : 0.3483755\t\t212 : 0.6269176\n",
      "213 : 0.0595161\t\t214 : 0.1172843\n",
      "215 : 0.2153521\t\t216 : 0.1063794\n",
      "217 : 0.6738411\t\t218 : 0.8259964\n",
      "219 : 0.1219957\t\t220 : 0.0763856\n",
      "221 : 0.0756919\t\t222 : 0.4506184\n",
      "223 : 0.0082704\t\t224 : 0.0849395\n",
      "225 : 0.0467083\t\t226 : 0.0565634\n",
      "227 : 0.3385379\t\t228 : 0.157075\n",
      "229 : 0.1099592\t\t230 : 0.724935\n",
      "231 : 0.0677357\t\t232 : 0.4785039\n",
      "233 : 0.0605863\t\t234 : 0.8224583\n",
      "235 : 0.0673795\t\t236 : 0.8102354\n",
      "237 : 0.085959\t\t238 : 0.0562769\n",
      "239 : 0.063391\t\t240 : 0.4028321\n",
      "241 : 0.0712631\t\t242 : 0.3572159\n",
      "243 : 0.2528688\t\t244 : 0.1605152\n",
      "245 : 0.2132797\t\t246 : 0.0879745\n",
      "247 : 0.4117907\t\t248 : 0.0686321\n",
      "249 : 0.8522116\t\t250 : 0.8470699\n",
      "251 : 0.0870581\t\t252 : 0.0299667\n",
      "253 : 0.0682861\t\t254 : 0.094072\n",
      "255 : 0.8211114\t\t256 : 0.7539697\n",
      "257 : 0.0766636\t\t258 : 0.0527095\n",
      "259 : 0.1247695\t\t260 : 0.0119229\n",
      "261 : 0.0448903\t\t262 : 0.4206795\n",
      "263 : 0.1376104\t\t264 : 0.1925248\n",
      "265 : 0.0541856\t\t266 : 0.2913851\n",
      "267 : 0.0365775\t\t268 : 0.8759429\n",
      "269 : 0.3873152\t\t270 : 0.7429233\n",
      "271 : 0.0515601\t\t272 : 0.0112652\n",
      "273 : 0.3541725\t\t274 : 0.0422214\n",
      "275 : 0.0862784\t\t276 : 0.7896495\n",
      "277 : 0.2402622\t\t278 : 0.067064\n",
      "279 : 0.0768621\t\t280 : 0.906774\n",
      "281 : 0.0941425\t\t282 : 0.8288583\n",
      "283 : 0.7729672\t\t284 : 0.0982036\n",
      "285 : 0.771636\t\t286 : 0.7625684\n",
      "287 : 0.0121517\t\t288 : 0.0599596\n",
      "289 : 0.8437346\t\t290 : 0.8763085\n",
      "291 : 0.3387254\t\t292 : 0.0559814\n",
      "293 : 0.8589955\t\t294 : 0.0639958\n",
      "295 : 0.1184041\t\t296 : 0.0483672\n",
      "297 : 0.9640836\t\t298 : 0.0629093\n",
      "299 : 0.0777332\t\t300 : 0.3732268\n",
      "301 : 0.1020436\t\t302 : 0.0974396\n",
      "303 : 0.8926577\t\t304 : 0.0936333\n",
      "305 : 0.0826159\t\t306 : 0.0478238\n",
      "307 : 0.1900002\t\t308 : 0.1185805\n",
      "309 : 0.1595389\t\t310 : 0.2584356\n",
      "311 : 0.605381\t\t312 : 0.0364777\n",
      "313 : 0.1458784\t\t314 : 0.1645338\n",
      "315 : 0.0617619\t\t316 : 0.0476603\n",
      "317 : 0.0682152\t\t318 : 0.1112186\n",
      "319 : 0.056576\t\t320 : 0.0570361\n",
      "321 : 0.0947948\t\t322 : 0.0595385\n",
      "323 : 0.0168241\t\t324 : 0.2551154\n",
      "325 : 0.7673343\t\t326 : 0.0395534\n",
      "327 : 0.12002\t\t328 : 0.0410563\n",
      "329 : 0.7937599\t\t330 : 0.1006693\n",
      "331 : 0.0881793\t\t332 : 0.0375297\n",
      "333 : 0.8386617\t\t334 : 0.036704\n",
      "335 : 0.1210075\t\t336 : 0.8531801\n",
      "337 : 0.1507288\t\t338 : 0.4508767\n",
      "339 : 0.1581574\t\t340 : 0.1158839\n",
      "341 : 0.0055104\t\t342 : 0.0308586\n",
      "343 : 0.4833467\t\t344 : 0.0244056\n",
      "345 : 0.0676325\t\t346 : 0.0506476\n",
      "347 : 0.0277025\t\t348 : 0.1053276\n",
      "349 : 0.1570208\t\t350 : 0.9696555\n",
      "351 : 0.1619572\t\t352 : 0.3267837\n",
      "353 : 0.6686197\t\t354 : 0.0294403\n",
      "355 : 0.9262053\t\t356 : 0.5734721\n",
      "357 : 0.8550548\t\t358 : 0.776091\n",
      "359 : 0.0803757\t\t360 : 0.1589062\n",
      "361 : 0.177108\t\t362 : 0.0482906\n",
      "363 : 0.3255499\t\t364 : 0.7408217\n",
      "365 : 0.2490059\t\t366 : 0.3958075\n",
      "367 : 0.853207\t\t368 : 0.5385592\n",
      "369 : 0.0555795\t\t370 : 0.0736347\n",
      "371 : 0.081458\t\t372 : 0.7649747\n",
      "373 : 0.1182905\t\t374 : 0.1050175\n",
      "375 : 0.1802182\t\t376 : 0.1920988\n",
      "377 : 0.7022967\t\t378 : 0.0532568\n",
      "379 : 0.7511859\t\t380 : 0.0638663\n",
      "381 : 0.9410924\t\t382 : 0.2404279\n",
      "383 : 0.1129285\t\t384 : 0.2618382\n",
      "385 : 0.0419201\t\t386 : 0.0747179\n",
      "387 : 0.255864\t\t388 : 0.0616261\n",
      "389 : 0.0910491\t\t390 : 0.6940527\n",
      "391 : 0.3502964\t\t392 : 0.2134376\n",
      "393 : 0.0776577\t\t394 : 0.363911\n",
      "395 : 0.8522617\t\t396 : 0.0325439\n",
      "397 : 0.8471433\t\t398 : 0.6221602\n",
      "399 : 0.0090734\t\t400 : 0.1603689\n",
      "401 : 0.0876617\t\t402 : 0.0193792\n",
      "403 : 0.2988178\t\t404 : 0.3628824\n",
      "405 : 0.0677525\t\t406 : 0.052533\n",
      "407 : 0.1785654\t\t408 : 0.8044601\n",
      "409 : 0.820078\t\t410 : 0.0154406\n",
      "411 : 0.0369441\t\t412 : 0.8022043\n",
      "413 : 0.0679575\t\t414 : 0.0909056\n",
      "415 : 0.0172711\t\t416 : 0.2285919\n",
      "417 : 0.04425\t\t418 : 0.7718968\n",
      "419 : 0.7993237\t\t420 : 0.0207868\n",
      "421 : 0.0909401\t\t422 : 0.1076195\n",
      "423 : 0.6559716\t\t424 : 0.1626522\n",
      "425 : 0.3353829\t\t426 : 0.1524268\n",
      "427 : 0.0185679\t\t428 : 0.9271412\n",
      "429 : 0.1357472\t\t430 : 0.7710485\n",
      "431 : 0.1807895\t\t432 : 0.0456845\n",
      "433 : 0.3994522\t\t434 : 0.0334438\n",
      "435 : 0.0331847\t\t436 : 0.0871085\n",
      "437 : 0.1591856\t\t438 : 0.0583826\n",
      "439 : 0.7619104\t\t440 : 0.0311784\n",
      "441 : 0.0143391\t\t442 : 0.0893172\n",
      "443 : 0.2988628\t\t444 : 0.1801477\n",
      "445 : 0.124817\t\t446 : 0.5333019\n",
      "447 : 0.0252122\t\t448 : 0.0299504\n",
      "449 : 0.4808326\t\t450 : 0.1434904\n",
      "451 : 0.8261716\t\t452 : 0.0621727\n",
      "453 : 0.0346289\t\t454 : 0.0264203\n",
      "455 : 0.0412126\t\t456 : 0.0832765\n",
      "457 : 0.1699727\t\t458 : 0.0551671\n",
      "459 : 0.4033133\t\t460 : 0.7549769\n",
      "461 : 0.8787504\t\t462 : 0.8070838\n",
      "463 : 0.7343221\t\t464 : 0.8430428\n",
      "465 : 0.8643413\t\t466 : 0.2011396\n",
      "467 : 0.1629943\t\t468 : 0.1980924\n",
      "469 : 0.0498518\t\t470 : 0.5523337\n",
      "471 : 0.0575949\t\t472 : 0.3179044\n",
      "473 : 0.7713483\t\t474 : 0.8635662\n",
      "475 : 0.8058604\t\t476 : 0.8797313\n",
      "477 : 0.4436329\t\t478 : 0.0421168\n",
      "479 : 0.1722809\t\t480 : 0.087486\n",
      "481 : 0.0378179\t\t482 : 0.1530598\n",
      "483 : 0.8267552\t\t484 : 0.8216564\n",
      "485 : 0.0186317\t\t486 : 0.6372154\n",
      "487 : 0.0584371\t\t488 : 0.2202761\n",
      "489 : 0.1536152\t\t490 : 0.7699465\n",
      "491 : 0.8145354\t\t492 : 0.9697118\n",
      "493 : 0.0496437\t\t494 : 0.2803654\n",
      "495 : 0.5648325\t\t496 : 0.1304929\n",
      "497 : 0.8166536\t\t498 : 0.7352715\n",
      "499 : 0.0332399\t\t500 : 0.1452297\n",
      "501 : 0.1598534\t\t502 : 0.0454975\n",
      "503 : 0.8968166\t\t504 : 0.9700995\n",
      "505 : 0.1905976\t\t506 : 0.843544\n",
      "507 : 0.1172635\t\t508 : 0.0159122\n",
      "509 : 0.065508\t\t510 : 0.0347079\n",
      "511 : 0.062207\t\t512 : 0.0777851\n",
      "513 : 0.5589571\t\t514 : 0.7215919\n",
      "515 : 0.1272698\t\t516 : 0.9135779\n",
      "517 : 0.6919235\t\t518 : 0.963296\n",
      "519 : 0.3698869\t\t520 : 0.0094041\n",
      "521 : 0.1817658\t\t522 : 0.1230682\n",
      "523 : 0.0612511\t\t524 : 0.2528261\n",
      "525 : 0.6883435\t\t526 : 0.084984\n",
      "527 : 0.1191552\t\t528 : 0.1464726\n",
      "529 : 0.691557\t\t530 : 0.7299905\n",
      "531 : 0.1766038\t\t532 : 0.1170994\n",
      "533 : 0.4238821\t\t534 : 0.078732\n",
      "535 : 0.8777773\t\t536 : 0.0506523\n",
      "537 : 0.0379141\t\t538 : 0.0305253\n",
      "539 : 0.2162676\t\t540 : 0.7108703\n",
      "541 : 0.1544638\t\t542 : 0.0761965\n",
      "543 : 0.7041782\t\t544 : 0.0660303\n",
      "545 : 0.7689777\t\t546 : 0.1410094\n",
      "547 : 0.0782495\t\t548 : 0.0294157\n",
      "549 : 0.399132\t\t550 : 0.1522543\n",
      "551 : 0.0714919\t\t552 : 0.124518\n",
      "553 : 0.1011743\t\t554 : 0.1700215\n",
      "555 : 0.0483192\t\t556 : 0.7742334\n",
      "557 : 0.6277497\t\t558 : 0.835895\n",
      "559 : 0.3198595\t\t560 : 0.1527433\n",
      "561 : 0.0647073\t\t562 : 0.018837\n",
      "563 : 0.0327862\t\t564 : 0.1063848\n",
      "565 : 0.04192\t\t566 : 0.816331\n",
      "567 : 0.0434469\t\t568 : 0.0769956\n",
      "569 : 0.0598615\t\t570 : 0.1601118\n",
      "571 : 0.6386456\t\t572 : 0.4369809\n",
      "573 : 0.1033398\t\t574 : 0.9281488\n",
      "575 : 0.0816631\t\t576 : 0.2873739\n",
      "577 : 0.0532681\t\t578 : 0.0483132\n",
      "579 : 0.0170891\t\t580 : 0.0727098\n",
      "581 : 0.1053121\t\t582 : 0.016044\n",
      "583 : 0.6553451\t\t584 : 0.787001\n",
      "585 : 0.1318659\t\t586 : 0.1008206\n",
      "587 : 0.1172505\t\t588 : 0.855374\n",
      "589 : 0.5743253\t\t590 : 0.8396762\n",
      "591 : 0.0899328\t\t592 : 0.9681008\n",
      "593 : 0.0435833\t\t594 : 0.7376538\n",
      "595 : 0.0609418\t\t596 : 0.7650473\n",
      "597 : 0.03544\t\t598 : 0.2653017\n",
      "599 : 0.7429987\t\t600 : 0.1119529\n",
      "601 : 0.399924\t\t602 : 0.041819\n",
      "603 : 0.0805964\t\t604 : 0.1172775\n",
      "605 : 0.8044711\t\t606 : 0.2745737\n",
      "607 : 0.0511273\t\t608 : 0.0588758\n",
      "609 : 0.1243229\t\t610 : 0.2115497\n",
      "611 : 0.1015199\t\t612 : 0.6118163\n",
      "613 : 0.2433291\t\t614 : 0.1264882\n",
      "615 : 0.0937288\t\t616 : 0.340182\n",
      "617 : 0.0280168\t\t618 : 0.7887675\n",
      "619 : 0.052687\t\t620 : 0.8587291\n",
      "621 : 0.1011721\t\t622 : 0.0548508\n",
      "623 : 0.7975779\t\t624 : 0.2019835\n",
      "625 : 0.8912092\t\t626 : 0.0175482\n",
      "627 : 0.0399965\t\t628 : 0.8957964\n",
      "629 : 0.0514475\t\t630 : 0.1425473\n",
      "631 : 0.5850849\t\t632 : 0.7512424\n",
      "633 : 0.3637512\t\t634 : 0.4943489\n",
      "635 : 0.6356927\t\t636 : 0.0766889\n",
      "637 : 0.895529\t\t638 : 0.0363925\n",
      "639 : 0.0638634\t\t640 : 0.0709302\n",
      "641 : 0.0233826\t\t642 : 0.6826057\n",
      "643 : 0.0659193\t\t644 : 0.2732442\n",
      "645 : 0.0847494\t\t646 : 0.0812775\n",
      "647 : 0.0408462\t\t648 : 0.1293077\n",
      "649 : 0.0929516\t\t650 : 0.1214115\n",
      "651 : 0.055504\t\t652 : 0.4390456\n",
      "653 : 0.7523637\t\t654 : 0.0732544\n",
      "655 : 0.7965412\t\t656 : 0.0721268\n",
      "657 : 0.1517779\t\t658 : 0.0582354\n",
      "659 : 0.753323\t\t660 : 0.1897565\n",
      "661 : 0.16361\t\t662 : 0.0838158\n",
      "663 : 0.1026182\t\t664 : 0.2329995\n",
      "665 : 0.1027657\t\t666 : 0.2071975\n",
      "667 : 0.0754635\t\t668 : 0.014283\n",
      "669 : 0.0665129\t\t670 : 0.9062378\n",
      "671 : 0.1134871\t\t672 : 0.7333104\n",
      "673 : 0.8936555\t\t674 : 0.0411101\n",
      "675 : 0.1143011\t\t676 : 0.1004204\n",
      "677 : 0.0219624\t\t678 : 0.6480962\n",
      "679 : 0.2654976\t\t680 : 0.0751479\n",
      "681 : 0.7623666\t\t682 : 0.0446507\n",
      "683 : 0.8787516\t\t684 : 0.0216244\n",
      "685 : 0.2125196\t\t686 : 0.17704\n",
      "687 : 0.8906241\t\t688 : 0.26571\n",
      "689 : 0.2791534\t\t690 : 0.1064001\n",
      "691 : 0.0244164\t\t692 : 0.0610728\n",
      "693 : 0.2028001\t\t694 : 0.0783108\n",
      "695 : 0.6972186\t\t696 : 0.1635782\n",
      "697 : 0.7847381\t\t698 : 0.8014974\n",
      "699 : 0.0825871\t\t700 : 0.8174737\n",
      "701 : 0.0297767\t\t702 : 0.7818943\n",
      "703 : 0.2955767\t\t704 : 0.8378217\n",
      "705 : 0.0195833\t\t706 : 0.1845422\n",
      "707 : 0.0866383\t\t708 : 0.0314928\n",
      "709 : 0.0285742\t\t710 : 0.0585912\n",
      "711 : 0.0430958\t\t712 : 0.8308881\n",
      "713 : 0.0413123\t\t714 : 0.7833412\n",
      "715 : 0.1074141\t\t716 : 0.0371211\n",
      "717 : 0.7914077\t\t718 : 0.0674652\n",
      "719 : 0.0536355\t\t720 : 0.0273171\n",
      "721 : 0.1296687\t\t722 : 0.5177994\n",
      "723 : 0.1304829\t\t724 : 0.0332028\n",
      "725 : 0.025259\t\t726 : 0.8624079\n",
      "727 : 0.0294074\t\t728 : 0.6187905\n",
      "729 : 0.0288267\t\t730 : 0.0355277\n",
      "731 : 0.8476317\t\t732 : 0.7370121\n",
      "733 : 0.0211088\t\t734 : 0.8622097\n",
      "735 : 0.0528159\t\t736 : 0.0099818\n",
      "737 : 0.093575\t\t738 : 0.535181\n",
      "739 : 0.2850558\t\t740 : 0.1541956\n",
      "741 : 0.0372388\t\t742 : 0.0499742\n",
      "743 : 0.7769698\t\t744 : 0.7904651\n",
      "745 : 0.5829138\t\t746 : 0.123426\n",
      "747 : 0.2021718\t\t748 : 0.0265533\n",
      "749 : 0.0902181\t\t750 : 0.0368206\n",
      "751 : 0.1507644\t\t752 : 0.7133047\n",
      "753 : 0.801238\t\t754 : 0.1007774\n",
      "755 : 0.0298694\t\t756 : 0.0491418\n",
      "757 : 0.6471679\t\t758 : 0.5923063\n",
      "759 : 0.8336761\t\t760 : 0.0512753\n",
      "761 : 0.0517883\t\t762 : 0.6830154\n",
      "763 : 0.1517183\t\t764 : 0.9070643\n",
      "765 : 0.1354533\t\t766 : 0.0625855\n",
      "767 : 0.042623\t\t768 : 0.1136379\n",
      "769 : 0.0770896\t\t770 : 0.91767\n",
      "771 : 0.0428188\t\t772 : 0.4521292\n",
      "773 : 0.1616261\t\t774 : 0.2182342\n",
      "775 : 0.2104983\t\t776 : 0.0167152\n",
      "777 : 0.0223343\t\t778 : 0.818796\n",
      "779 : 0.82308\t\t780 : 0.934988\n",
      "781 : 0.2674705\t\t782 : 0.8161909\n",
      "783 : 0.1873528\t\t784 : 0.0387212\n",
      "785 : 0.0602591\t\t786 : 0.101542\n",
      "787 : 0.8463562\t\t788 : 0.0535538\n",
      "789 : 0.0897694\t\t790 : 0.1303439\n",
      "791 : 0.8436811\t\t792 : 0.0698394\n",
      "793 : 0.8896711\t\t794 : 0.8839406\n",
      "795 : 0.0414873\t\t796 : 0.0335484\n",
      "797 : 0.051589\t\t798 : 0.0424134\n",
      "799 : 0.0200389\t\t800 : 0.048673\n",
      "801 : 0.8812815\t\t802 : 0.0374421\n",
      "803 : 0.0423969\t\t804 : 0.8556273\n",
      "805 : 0.0492096\t\t806 : 0.135784\n",
      "807 : 0.0480351\t\t808 : 0.0822764\n",
      "809 : 0.8055262\t\t810 : 0.1479259\n",
      "811 : 0.0417913\t\t812 : 0.2996411\n",
      "813 : 0.0932378\t\t814 : 0.0454619\n",
      "815 : 0.1885104\t\t816 : 0.7956804\n",
      "817 : 0.29599\t\t818 : 0.0696073\n",
      "819 : 0.0968996\t\t820 : 0.0960223\n",
      "821 : 0.1369585\t\t822 : 0.5981209\n",
      "823 : 0.0139904\t\t824 : 0.0364348\n",
      "825 : 0.8404368\t\t826 : 0.439446\n",
      "827 : 0.7766974\t\t828 : 0.5955581\n",
      "829 : 0.944037\t\t830 : 0.1478519\n",
      "831 : 0.1453709\t\t832 : 0.7113362\n",
      "833 : 0.2398498\t\t834 : 0.0340551\n",
      "835 : 0.0195764\t\t836 : 0.0545732\n",
      "837 : 0.0624563\t\t838 : 0.0927057\n",
      "839 : 0.2686042\t\t840 : 0.0526944\n",
      "841 : 0.0808881\t\t842 : 0.2763148\n",
      "843 : 0.3663324\t\t844 : 0.0198763\n",
      "845 : 0.1023369\t\t846 : 0.0718063\n",
      "847 : 0.6878892\t\t848 : 0.1087984\n",
      "849 : 0.7971062\t\t850 : 0.8174088\n",
      "851 : 0.1066992\t\t852 : 0.7820072\n",
      "853 : 0.0758821\t\t854 : 0.7199858\n",
      "855 : 0.6915088\t\t856 : 0.0930323\n",
      "857 : 0.0492039\t\t858 : 0.4314037\n",
      "859 : 0.6529652\t\t860 : 0.2482077\n",
      "861 : 0.779175\t\t862 : 0.5160299\n",
      "863 : 0.1030692\t\t864 : 0.5504384\n",
      "865 : 0.513255\t\t866 : 0.0559732\n",
      "867 : 0.0976657\t\t868 : 0.0486942\n",
      "869 : 0.1526295\t\t870 : 0.0497458\n",
      "871 : 0.067368\t\t872 : 0.722153\n",
      "873 : 0.0444058\t\t874 : 0.1981989\n",
      "875 : 0.1083025\t\t876 : 0.1915136\n",
      "877 : 0.8900779\t\t878 : 0.3151525\n",
      "879 : 0.018617\t\t880 : 0.0960981\n",
      "881 : 0.0600787\t\t882 : 0.3860945\n",
      "883 : 0.2453941\t\t884 : 0.0496422\n",
      "885 : 0.0402508\t\t886 : 0.0522596\n",
      "887 : 0.7075144\t\t888 : 0.0444531\n",
      "889 : 0.0879598\t\t890 : 0.5614841\n",
      "891 : 0.852812\t\t892 : 0.6703869\n",
      "893 : 0.4967255\t\t894 : 0.8335999\n",
      "895 : 0.0397455\t\t896 : 0.2185486\n",
      "897 : 0.781954\t\t898 : 0.778006\n",
      "899 : 0.0637992\t\t900 : 0.0416251\n",
      "901 : 0.0785257\t\t902 : 0.078875\n",
      "903 : 0.5074873\t\t904 : 0.6410614\n",
      "905 : 0.230961\t\t906 : 0.7977694\n",
      "907 : 0.1473585\t\t908 : 0.1024456\n",
      "909 : 0.8146695\t\t910 : 0.761368\n",
      "911 : 0.7952013\t\t912 : 0.8181175\n",
      "913 : 0.1616537\t\t914 : 0.5848788\n",
      "915 : 0.1469815\t\t916 : 0.0644765\n",
      "917 : 0.5288012\t\t918 : 0.1966441\n",
      "919 : 0.61125\t\t920 : 0.03726\n",
      "921 : 0.0898963\t\t922 : 0.0421209\n",
      "923 : 0.0163413\t\t924 : 0.6189377\n",
      "925 : 0.0874603\t\t926 : 0.0770906\n",
      "927 : 0.0419198\t\t928 : 0.2744571\n",
      "929 : 0.512544\t\t930 : 0.0491385\n",
      "931 : 0.7889858\t\t932 : 0.1792424\n",
      "933 : 0.9075405\t\t934 : 0.6635382\n",
      "935 : 0.0760487\t\t936 : 0.2320731\n",
      "937 : 0.4109685\t\t938 : 0.7589252\n",
      "939 : 0.0295275\t\t940 : 0.0793336\n",
      "941 : 0.084016\t\t942 : 0.7620164\n",
      "943 : 0.140708\t\t944 : 0.3605749\n",
      "945 : 0.0394895\t\t946 : 0.5000437\n",
      "947 : 0.790119\t\t948 : 0.8639582\n",
      "949 : 0.1938028\t\t950 : 0.1037885\n",
      "951 : 0.0616291\t\t952 : 0.1155601\n",
      "953 : 0.6742322\t\t954 : 0.831711\n",
      "955 : 0.1036903\t\t956 : 0.0288428\n",
      "957 : 0.1524605\t\t958 : 0.1477958\n",
      "959 : 0.1636094\t\t960 : 0.0787829\n",
      "961 : 0.1286241\t\t962 : 0.0382853\n",
      "963 : 0.8542369\t\t964 : 0.0985218\n",
      "965 : 0.0514305\t\t966 : 0.1432284\n",
      "967 : 0.0979908\t\t968 : 0.1012459\n",
      "969 : 0.1326418\t\t970 : 0.0414643\n",
      "971 : 0.7563613\t\t972 : 0.0523704\n",
      "973 : 0.2129555\t\t974 : 0.0112978\n",
      "975 : 0.8056128\t\t976 : 0.060706\n",
      "977 : 0.1634107\t\t978 : 0.5258737\n",
      "979 : 0.1464227\t\t980 : 0.3230027\n",
      "981 : 0.09369\t\t982 : 0.5132296\n",
      "983 : 0.4085349\t\t984 : 0.8167872\n",
      "985 : 0.8365103\t\t986 : 0.4393584\n",
      "987 : 0.0332432\t\t988 : 0.0204366\n",
      "989 : 0.2101446\t\t990 : 0.914569\n",
      "991 : 0.6066839\t\t992 : 0.6102544\n",
      "993 : 0.3081865\t\t994 : 0.8564082\n",
      "995 : 0.0674605\t\t996 : 0.0290799\n",
      "997 : 0.0298995\t\t998 : 0.8592269\n",
      "999 : 0.5761955\t\t1000 : 0.8837534\n"
     ]
    }
   ],
   "source": [
    "probas = sigmoid(w, f_test, b)\n",
    "\n",
    "print('Probability scores corresponding to 𝑋_𝑡𝑒𝑠𝑡 :\\n')\n",
    "\n",
    "for i in range(0, len(probas),2):\n",
    "    print(f'{i+1} : {round(probas[i], 7)}\\t\\t{i+2} : {round(probas[i+1],7)}')"
   ]
  },
  {
   "cell_type": "markdown",
   "metadata": {
    "id": "oTY7z2bd4Zx2"
   },
   "source": [
    "__Note: in the above algorithm, the steps 2, 4 might need hyper parameter tuning, To reduce the complexity of the assignment we are excluding the hyerparameter tuning part, but intrested students can try that__"
   ]
  },
  {
   "cell_type": "markdown",
   "metadata": {
    "id": "CM3odN1Z4Zx3"
   },
   "source": [
    "\n",
    "If any one wants to try other calibration algorithm istonic regression also please check these tutorials\n",
    "\n",
    "1. http://fa.bianp.net/blog/tag/scikit-learn.html#fn:1\n",
    "\n",
    "2. https://drive.google.com/open?id=1MzmA7QaP58RDzocB0RBmRiWfl7Co_VJ7\n",
    "\n",
    "3. https://drive.google.com/open?id=133odBinMOIVb_rh_GQxxsyMRyW-Zts7a\n",
    "\n",
    "4. https://stat.fandom.com/wiki/Isotonic_regression#Pool_Adjacent_Violators_Algorithm\n"
   ]
  }
 ],
 "metadata": {
  "colab": {
   "collapsed_sections": [],
   "name": "8E&F_LR_SVM.ipynb",
   "provenance": []
  },
  "kernelspec": {
   "display_name": "Python 3 (ipykernel)",
   "language": "python",
   "name": "python3"
  },
  "language_info": {
   "codemirror_mode": {
    "name": "ipython",
    "version": 3
   },
   "file_extension": ".py",
   "mimetype": "text/x-python",
   "name": "python",
   "nbconvert_exporter": "python",
   "pygments_lexer": "ipython3",
   "version": "3.9.7"
  }
 },
 "nbformat": 4,
 "nbformat_minor": 4
}
