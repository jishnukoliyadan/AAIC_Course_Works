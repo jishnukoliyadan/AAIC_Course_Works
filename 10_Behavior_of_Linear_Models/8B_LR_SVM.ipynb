{
 "cells": [
  {
   "cell_type": "code",
   "execution_count": 1,
   "metadata": {
    "colab": {},
    "colab_type": "code",
    "id": "8ArWK463kbhL",
    "outputId": "ad250ffe-29ed-4dc9-bf30-fe91ab10656c"
   },
   "outputs": [
    {
     "data": {
      "text/html": [
       "        <script type=\"text/javascript\">\n",
       "        window.PlotlyConfig = {MathJaxConfig: 'local'};\n",
       "        if (window.MathJax) {MathJax.Hub.Config({SVG: {font: \"STIX-Web\"}});}\n",
       "        if (typeof require !== 'undefined') {\n",
       "        require.undef(\"plotly\");\n",
       "        requirejs.config({\n",
       "            paths: {\n",
       "                'plotly': ['https://cdn.plot.ly/plotly-2.8.3.min']\n",
       "            }\n",
       "        });\n",
       "        require(['plotly'], function(Plotly) {\n",
       "            window._Plotly = Plotly;\n",
       "        });\n",
       "        }\n",
       "        </script>\n",
       "        "
      ]
     },
     "metadata": {},
     "output_type": "display_data"
    }
   ],
   "source": [
    "import numpy as np\n",
    "import pandas as pd\n",
    "import plotly\n",
    "import plotly.figure_factory as ff\n",
    "import plotly.graph_objs as go\n",
    "from sklearn.model_selection import train_test_split\n",
    "from sklearn.linear_model import LogisticRegression\n",
    "from sklearn.preprocessing import StandardScaler\n",
    "from sklearn.linear_model import SGDClassifier\n",
    "from sklearn.preprocessing import MinMaxScaler\n",
    "from plotly.offline import download_plotlyjs, init_notebook_mode, plot, iplot\n",
    "init_notebook_mode(connected=True)\n",
    "\n",
    "import warnings\n",
    "warnings.filterwarnings(\"ignore\")"
   ]
  },
  {
   "cell_type": "code",
   "execution_count": 2,
   "metadata": {
    "colab": {},
    "colab_type": "code",
    "id": "5mldzJdakbhS"
   },
   "outputs": [],
   "source": [
    "data = pd.read_csv('task_b.csv')\n",
    "data=data.iloc[:,1:]"
   ]
  },
  {
   "cell_type": "code",
   "execution_count": 3,
   "metadata": {
    "colab": {},
    "colab_type": "code",
    "id": "rsCrC2wckbhV",
    "outputId": "fff03fba-880e-4875-9bba-f05797f08d1d",
    "scrolled": true
   },
   "outputs": [
    {
     "data": {
      "text/html": [
       "<div>\n",
       "<style scoped>\n",
       "    .dataframe tbody tr th:only-of-type {\n",
       "        vertical-align: middle;\n",
       "    }\n",
       "\n",
       "    .dataframe tbody tr th {\n",
       "        vertical-align: top;\n",
       "    }\n",
       "\n",
       "    .dataframe thead th {\n",
       "        text-align: right;\n",
       "    }\n",
       "</style>\n",
       "<table border=\"1\" class=\"dataframe\">\n",
       "  <thead>\n",
       "    <tr style=\"text-align: right;\">\n",
       "      <th></th>\n",
       "      <th>f1</th>\n",
       "      <th>f2</th>\n",
       "      <th>f3</th>\n",
       "      <th>y</th>\n",
       "    </tr>\n",
       "  </thead>\n",
       "  <tbody>\n",
       "    <tr>\n",
       "      <th>0</th>\n",
       "      <td>-195.871045</td>\n",
       "      <td>-14843.084171</td>\n",
       "      <td>5.532140</td>\n",
       "      <td>1.0</td>\n",
       "    </tr>\n",
       "    <tr>\n",
       "      <th>1</th>\n",
       "      <td>-1217.183964</td>\n",
       "      <td>-4068.124621</td>\n",
       "      <td>4.416082</td>\n",
       "      <td>1.0</td>\n",
       "    </tr>\n",
       "    <tr>\n",
       "      <th>2</th>\n",
       "      <td>9.138451</td>\n",
       "      <td>4413.412028</td>\n",
       "      <td>0.425317</td>\n",
       "      <td>0.0</td>\n",
       "    </tr>\n",
       "    <tr>\n",
       "      <th>3</th>\n",
       "      <td>363.824242</td>\n",
       "      <td>15474.760647</td>\n",
       "      <td>1.094119</td>\n",
       "      <td>0.0</td>\n",
       "    </tr>\n",
       "    <tr>\n",
       "      <th>4</th>\n",
       "      <td>-768.812047</td>\n",
       "      <td>-7963.932192</td>\n",
       "      <td>1.870536</td>\n",
       "      <td>0.0</td>\n",
       "    </tr>\n",
       "  </tbody>\n",
       "</table>\n",
       "</div>"
      ],
      "text/plain": [
       "            f1            f2        f3    y\n",
       "0  -195.871045 -14843.084171  5.532140  1.0\n",
       "1 -1217.183964  -4068.124621  4.416082  1.0\n",
       "2     9.138451   4413.412028  0.425317  0.0\n",
       "3   363.824242  15474.760647  1.094119  0.0\n",
       "4  -768.812047  -7963.932192  1.870536  0.0"
      ]
     },
     "execution_count": 3,
     "metadata": {},
     "output_type": "execute_result"
    }
   ],
   "source": [
    "data.head()"
   ]
  },
  {
   "cell_type": "code",
   "execution_count": 4,
   "metadata": {
    "colab": {},
    "colab_type": "code",
    "id": "FI18joJ_kbhZ",
    "outputId": "22e420e9-4295-4307-a60f-1a528d07c81d"
   },
   "outputs": [
    {
     "data": {
      "text/plain": [
       "f1    0.067172\n",
       "f2   -0.017944\n",
       "f3    0.839060\n",
       "y     1.000000\n",
       "Name: y, dtype: float64"
      ]
     },
     "execution_count": 4,
     "metadata": {},
     "output_type": "execute_result"
    }
   ],
   "source": [
    "data.corr()['y']"
   ]
  },
  {
   "cell_type": "code",
   "execution_count": 5,
   "metadata": {
    "colab": {},
    "colab_type": "code",
    "id": "u40oCVMikbhc",
    "outputId": "db6dce7e-7469-4aa5-8af3-1c08cd0f0081",
    "scrolled": true
   },
   "outputs": [
    {
     "data": {
      "text/plain": [
       "f1      488.195035\n",
       "f2    10403.417325\n",
       "f3        2.926662\n",
       "dtype: float64"
      ]
     },
     "execution_count": 5,
     "metadata": {},
     "output_type": "execute_result"
    }
   ],
   "source": [
    "data.drop('y', axis = 1, inplace = False).std()"
   ]
  },
  {
   "cell_type": "code",
   "execution_count": 6,
   "metadata": {
    "colab": {},
    "colab_type": "code",
    "id": "yQIbNaHskbhe",
    "outputId": "f2298482-b1d5-47e0-f15c-31f4a753a9ac"
   },
   "outputs": [
    {
     "name": "stdout",
     "output_type": "stream",
     "text": [
      "(200, 3)\n",
      "(200,)\n"
     ]
    }
   ],
   "source": [
    "X = data[['f1','f2','f3']].values\n",
    "Y = data['y'].values\n",
    "print(X.shape)\n",
    "print(Y.shape)"
   ]
  },
  {
   "cell_type": "markdown",
   "metadata": {
    "colab_type": "text",
    "id": "aUxp9-qEkbhh"
   },
   "source": [
    "# What if our features are with different variance \n",
    "\n",
    "<pre>\n",
    "* <b>As part of this task you will observe how linear models work in case of data having feautres with different variance</b>\n",
    "* <b>from the output of the above cells you can observe that var(F2)>>var(F1)>>Var(F3)</b>\n",
    "\n",
    "> <b>Task1</b>:\n",
    "    1. Apply Logistic regression(SGDClassifier with logloss) on 'data' and check the feature importance\n",
    "    2. Apply SVM(SGDClassifier with hinge) on 'data' and check the feature importance\n",
    "\n",
    "> <b>Task2</b>:\n",
    "    1. Apply Logistic regression(SGDClassifier with logloss) on 'data' after standardization \n",
    "       i.e standardization(data, column wise): (column-mean(column))/std(column) and check the feature importance\n",
    "    2. Apply SVM(SGDClassifier with hinge) on 'data' after standardization \n",
    "       i.e standardization(data, column wise): (column-mean(column))/std(column) and check the feature importance\n",
    "\n",
    "</pre>"
   ]
  },
  {
   "cell_type": "markdown",
   "metadata": {},
   "source": [
    "<b>Task1</b>"
   ]
  },
  {
   "cell_type": "code",
   "execution_count": 7,
   "metadata": {},
   "outputs": [],
   "source": [
    "# https://scikit-learn.org/stable/modules/generated/sklearn.linear_model.SGDClassifier.html\n",
    "# https://scikit-learn.org/stable/modules/generated/sklearn.model_selection.train_test_split.html\n",
    "    \n",
    "x_train, x_test, y_train_, y_test = train_test_split(X, Y, stratify = Y, test_size = 0.3)\n",
    "\n",
    "'''\n",
    "penalty = {‘l2’, ‘l1’, ‘elasticnet’}, default=’l2’\n",
    "‘l1’ and ‘elasticnet’ might bring sparsity to the model (feature selection) not achievable with ‘l2’.\n",
    "'''\n",
    "\n",
    "sgd_log_clf = SGDClassifier(loss = 'log', penalty = 'l1', max_iter=1000, tol=0.01, n_jobs = -1)\n",
    "sgd_log_clf.fit(X, Y)\n",
    "log_loss_import = sgd_log_clf.coef_\n",
    "\n",
    "sgd_hinge_clf = SGDClassifier(loss = 'hinge', penalty = 'l1', max_iter=1000, tol=0.01, n_jobs = -1)\n",
    "sgd_hinge_clf.fit(X, Y)\n",
    "hinge_loss_import = sgd_hinge_clf.coef_\n",
    "\n",
    "# print(log_loss_import)\n",
    "# print(hinge_loss_import)"
   ]
  },
  {
   "cell_type": "markdown",
   "metadata": {},
   "source": [
    "<b>Task2</b>"
   ]
  },
  {
   "cell_type": "code",
   "execution_count": 8,
   "metadata": {},
   "outputs": [],
   "source": [
    "std_data = data.drop('y', axis = 1)\n",
    "\n",
    "for key in std_data.keys():\n",
    "    col_mean = data[key].mean()\n",
    "    col_std = data[key].std()\n",
    "    std_data[key] = ((std_data[key] - col_mean) / col_std)"
   ]
  },
  {
   "cell_type": "code",
   "execution_count": 9,
   "metadata": {},
   "outputs": [],
   "source": [
    "sgd_log_clf = SGDClassifier(loss = 'log', penalty = 'l1', max_iter=1000, tol=0.01, n_jobs = -1)\n",
    "sgd_log_clf.fit(std_data, Y)\n",
    "std_log_loss_import = sgd_log_clf.coef_\n",
    "\n",
    "sgd_hinge_clf = SGDClassifier(loss = 'hinge', penalty = 'l1', max_iter=1000, tol=0.01, n_jobs = -1)\n",
    "sgd_hinge_clf.fit(std_data, Y)\n",
    "std_hinge_loss_import = sgd_hinge_clf.coef_\n",
    "\n",
    "# print(std_log_loss_import)\n",
    "# print(std_hinge_loss_import)"
   ]
  },
  {
   "cell_type": "markdown",
   "metadata": {
    "colab_type": "text",
    "id": "TbMnsrxakbhi"
   },
   "source": [
    "<h3><font color='blue'> Make sure you write the observations for each task, why a particular feautre got more importance than others</font></h3>"
   ]
  },
  {
   "cell_type": "code",
   "execution_count": 10,
   "metadata": {
    "scrolled": true
   },
   "outputs": [
    {
     "data": {
      "text/html": [
       "<div>\n",
       "<style scoped>\n",
       "    .dataframe tbody tr th:only-of-type {\n",
       "        vertical-align: middle;\n",
       "    }\n",
       "\n",
       "    .dataframe tbody tr th {\n",
       "        vertical-align: top;\n",
       "    }\n",
       "\n",
       "    .dataframe thead th {\n",
       "        text-align: right;\n",
       "    }\n",
       "</style>\n",
       "<table border=\"1\" class=\"dataframe\">\n",
       "  <thead>\n",
       "    <tr style=\"text-align: right;\">\n",
       "      <th></th>\n",
       "      <th>f1</th>\n",
       "      <th>f2</th>\n",
       "      <th>f3</th>\n",
       "      <th>y</th>\n",
       "    </tr>\n",
       "  </thead>\n",
       "  <tbody>\n",
       "    <tr>\n",
       "      <th>count</th>\n",
       "      <td>200.000000</td>\n",
       "      <td>200.000000</td>\n",
       "      <td>200.000000</td>\n",
       "      <td>200.000000</td>\n",
       "    </tr>\n",
       "    <tr>\n",
       "      <th>mean</th>\n",
       "      <td>10.180031</td>\n",
       "      <td>1299.986739</td>\n",
       "      <td>5.001840</td>\n",
       "      <td>0.500000</td>\n",
       "    </tr>\n",
       "    <tr>\n",
       "      <th>std</th>\n",
       "      <td>488.195035</td>\n",
       "      <td>10403.417325</td>\n",
       "      <td>2.926662</td>\n",
       "      <td>0.501255</td>\n",
       "    </tr>\n",
       "    <tr>\n",
       "      <th>min</th>\n",
       "      <td>-1662.579110</td>\n",
       "      <td>-29605.563847</td>\n",
       "      <td>0.076763</td>\n",
       "      <td>0.000000</td>\n",
       "    </tr>\n",
       "    <tr>\n",
       "      <th>25%</th>\n",
       "      <td>-303.220980</td>\n",
       "      <td>-5626.637315</td>\n",
       "      <td>2.508042</td>\n",
       "      <td>0.000000</td>\n",
       "    </tr>\n",
       "    <tr>\n",
       "      <th>50%</th>\n",
       "      <td>4.684317</td>\n",
       "      <td>2611.405803</td>\n",
       "      <td>5.029256</td>\n",
       "      <td>0.500000</td>\n",
       "    </tr>\n",
       "    <tr>\n",
       "      <th>75%</th>\n",
       "      <td>312.239850</td>\n",
       "      <td>8075.864754</td>\n",
       "      <td>7.436617</td>\n",
       "      <td>1.000000</td>\n",
       "    </tr>\n",
       "    <tr>\n",
       "      <th>max</th>\n",
       "      <td>1130.609573</td>\n",
       "      <td>24131.360720</td>\n",
       "      <td>9.933769</td>\n",
       "      <td>1.000000</td>\n",
       "    </tr>\n",
       "  </tbody>\n",
       "</table>\n",
       "</div>"
      ],
      "text/plain": [
       "                f1            f2          f3           y\n",
       "count   200.000000    200.000000  200.000000  200.000000\n",
       "mean     10.180031   1299.986739    5.001840    0.500000\n",
       "std     488.195035  10403.417325    2.926662    0.501255\n",
       "min   -1662.579110 -29605.563847    0.076763    0.000000\n",
       "25%    -303.220980  -5626.637315    2.508042    0.000000\n",
       "50%       4.684317   2611.405803    5.029256    0.500000\n",
       "75%     312.239850   8075.864754    7.436617    1.000000\n",
       "max    1130.609573  24131.360720    9.933769    1.000000"
      ]
     },
     "execution_count": 10,
     "metadata": {},
     "output_type": "execute_result"
    }
   ],
   "source": [
    "data.describe()"
   ]
  },
  {
   "cell_type": "code",
   "execution_count": 11,
   "metadata": {
    "scrolled": true
   },
   "outputs": [
    {
     "data": {
      "text/html": [
       "<div>\n",
       "<style scoped>\n",
       "    .dataframe tbody tr th:only-of-type {\n",
       "        vertical-align: middle;\n",
       "    }\n",
       "\n",
       "    .dataframe tbody tr th {\n",
       "        vertical-align: top;\n",
       "    }\n",
       "\n",
       "    .dataframe thead th {\n",
       "        text-align: right;\n",
       "    }\n",
       "</style>\n",
       "<table border=\"1\" class=\"dataframe\">\n",
       "  <thead>\n",
       "    <tr style=\"text-align: right;\">\n",
       "      <th></th>\n",
       "      <th>f1</th>\n",
       "      <th>f2</th>\n",
       "      <th>f3</th>\n",
       "    </tr>\n",
       "  </thead>\n",
       "  <tbody>\n",
       "    <tr>\n",
       "      <th>count</th>\n",
       "      <td>2.000000e+02</td>\n",
       "      <td>2.000000e+02</td>\n",
       "      <td>2.000000e+02</td>\n",
       "    </tr>\n",
       "    <tr>\n",
       "      <th>mean</th>\n",
       "      <td>-4.440892e-17</td>\n",
       "      <td>-8.881784e-18</td>\n",
       "      <td>-2.609024e-16</td>\n",
       "    </tr>\n",
       "    <tr>\n",
       "      <th>std</th>\n",
       "      <td>1.000000e+00</td>\n",
       "      <td>1.000000e+00</td>\n",
       "      <td>1.000000e+00</td>\n",
       "    </tr>\n",
       "    <tr>\n",
       "      <th>min</th>\n",
       "      <td>-3.426416e+00</td>\n",
       "      <td>-2.970711e+00</td>\n",
       "      <td>-1.682831e+00</td>\n",
       "    </tr>\n",
       "    <tr>\n",
       "      <th>25%</th>\n",
       "      <td>-6.419586e-01</td>\n",
       "      <td>-6.658028e-01</td>\n",
       "      <td>-8.520965e-01</td>\n",
       "    </tr>\n",
       "    <tr>\n",
       "      <th>50%</th>\n",
       "      <td>-1.125721e-02</td>\n",
       "      <td>1.260566e-01</td>\n",
       "      <td>9.367869e-03</td>\n",
       "    </tr>\n",
       "    <tr>\n",
       "      <th>75%</th>\n",
       "      <td>6.187278e-01</td>\n",
       "      <td>6.513127e-01</td>\n",
       "      <td>8.319299e-01</td>\n",
       "    </tr>\n",
       "    <tr>\n",
       "      <th>max</th>\n",
       "      <td>2.295045e+00</td>\n",
       "      <td>2.194603e+00</td>\n",
       "      <td>1.685172e+00</td>\n",
       "    </tr>\n",
       "  </tbody>\n",
       "</table>\n",
       "</div>"
      ],
      "text/plain": [
       "                 f1            f2            f3\n",
       "count  2.000000e+02  2.000000e+02  2.000000e+02\n",
       "mean  -4.440892e-17 -8.881784e-18 -2.609024e-16\n",
       "std    1.000000e+00  1.000000e+00  1.000000e+00\n",
       "min   -3.426416e+00 -2.970711e+00 -1.682831e+00\n",
       "25%   -6.419586e-01 -6.658028e-01 -8.520965e-01\n",
       "50%   -1.125721e-02  1.260566e-01  9.367869e-03\n",
       "75%    6.187278e-01  6.513127e-01  8.319299e-01\n",
       "max    2.295045e+00  2.194603e+00  1.685172e+00"
      ]
     },
     "execution_count": 11,
     "metadata": {},
     "output_type": "execute_result"
    }
   ],
   "source": [
    "std_data.describe()"
   ]
  },
  {
   "cell_type": "code",
   "execution_count": 12,
   "metadata": {},
   "outputs": [
    {
     "name": "stdout",
     "output_type": "stream",
     "text": [
      "Mean accuracy score WITHOUT Standardization\n",
      "===========================================\n",
      "With SGD & logloss\t\t: 0.5\n",
      "f1 coefficient 5557.0949\n",
      "f2 coefficient 3910.858\n",
      "f3 coefficient 28649.7251\n",
      "\n",
      "With SGD & hinge loss\t\t: 0.475\n",
      "f1 coefficient 5362.8827\n",
      "f2 coefficient -5909.3132\n",
      "f3 coefficient 26721.6854\n",
      "\n",
      "\n",
      "Mean accuracy score WITH Standardization\n",
      "========================================\n",
      "With SGD & logloss\t\t: 0.905\n",
      "f1 coefficient 0.0\n",
      "f2 coefficient 0.0\n",
      "f3 coefficient 9.1215\n",
      "\n",
      "With SGD & hinge loss\t\t: 0.91\n",
      "f1 coefficient 0.0\n",
      "f2 coefficient 1.7624\n",
      "f3 coefficient 12.1782\n"
     ]
    }
   ],
   "source": [
    "# https://scikit-learn.org/stable/modules/generated/sklearn.linear_model.SGDClassifier.html\n",
    "'''score(X, y[, sample_weight]) \t Return the mean accuracy on the given test data and labels'''\n",
    "\n",
    "print('Mean accuracy score WITHOUT Standardization')\n",
    "print('='*43)\n",
    "\n",
    "print(f'With SGD & logloss\\t\\t: {sgd_log_clf.score(X, Y)}')\n",
    "for index, coeff in enumerate(log_loss_import[0]):\n",
    "    print(f'f{index + 1} coefficient {round(log_loss_import[0][index], 4)}')\n",
    "    \n",
    "print(f'\\nWith SGD & hinge loss\\t\\t: {sgd_hinge_clf.score(X, Y)}')\n",
    "for index, coeff in enumerate(hinge_loss_import[0]):\n",
    "    print(f'f{index + 1} coefficient {round(hinge_loss_import[0][index], 4)}')\n",
    "\n",
    "print('\\n\\nMean accuracy score WITH Standardization')\n",
    "print('='*40)\n",
    "print(f'With SGD & logloss\\t\\t: {sgd_log_clf.score(std_data, Y)}')\n",
    "for index, coeff in enumerate(std_log_loss_import[0]):\n",
    "    print(f'f{index + 1} coefficient {round(std_log_loss_import[0][index], 4)}')\n",
    "    \n",
    "print(f'\\nWith SGD & hinge loss\\t\\t: {sgd_hinge_clf.score(std_data, Y)}')\n",
    "for index, coeff in enumerate(std_hinge_loss_import[0]):\n",
    "    print(f'f{index + 1} coefficient {round(std_hinge_loss_import[0][index], 4)}')"
   ]
  },
  {
   "cell_type": "markdown",
   "metadata": {},
   "source": [
    "- From the initial data it is visible that the values are having high variance.\n",
    "- The standardisation helps to make the mean to zero and variance to 1.\n",
    "- By doing the statndardization we are not preserving the variance of the data.\n",
    "- The standardizarion value of feature `f2` is very larger than the feature of `f3`.\n",
    "\n",
    "\n",
    "- By doing standardizarion the variance became 1 for all features.\n",
    "- This helped the algorithm to predict the class in mucj more efficient way.\n",
    "- Due to that the mean accuracy score after standardization improved by a good margin.\n",
    "\n",
    "https://youtu.be/0HOqOcln3Z4"
   ]
  }
 ],
 "metadata": {
  "colab": {
   "name": "8B_LR_SVM.ipynb",
   "provenance": []
  },
  "kernelspec": {
   "display_name": "Python 3 (ipykernel)",
   "language": "python",
   "name": "python3"
  },
  "language_info": {
   "codemirror_mode": {
    "name": "ipython",
    "version": 3
   },
   "file_extension": ".py",
   "mimetype": "text/x-python",
   "name": "python",
   "nbconvert_exporter": "python",
   "pygments_lexer": "ipython3",
   "version": "3.9.7"
  }
 },
 "nbformat": 4,
 "nbformat_minor": 1
}
