{
 "cells": [
  {
   "cell_type": "markdown",
   "metadata": {
    "colab_type": "text",
    "id": "86Tvnj5UblTy"
   },
   "source": [
    "## Task-D: Collinear features and their effect on linear models"
   ]
  },
  {
   "cell_type": "code",
   "execution_count": 1,
   "metadata": {
    "colab": {},
    "colab_type": "code",
    "id": "qn_eOn2EblT3"
   },
   "outputs": [],
   "source": [
    "import warnings\n",
    "warnings.filterwarnings(\"ignore\")\n",
    "import pandas as pd\n",
    "import numpy as np\n",
    "from sklearn.datasets import load_iris\n",
    "from sklearn.linear_model import SGDClassifier\n",
    "from sklearn.linear_model import LogisticRegression\n",
    "from sklearn.svm import LinearSVC\n",
    "from sklearn.model_selection import GridSearchCV\n",
    "import seaborn as sns\n",
    "from prettytable import PrettyTable\n",
    "import matplotlib.pyplot as plt"
   ]
  },
  {
   "cell_type": "code",
   "execution_count": 2,
   "metadata": {
    "colab": {},
    "colab_type": "code",
    "id": "VMoYWIayblUB"
   },
   "outputs": [],
   "source": [
    "data = pd.read_csv('task_d.csv')"
   ]
  },
  {
   "cell_type": "code",
   "execution_count": 3,
   "metadata": {
    "colab": {},
    "colab_type": "code",
    "id": "RfStXG4tblUI",
    "outputId": "ddf4eec6-7f53-4d28-914f-23133957d6d5"
   },
   "outputs": [
    {
     "data": {
      "text/html": [
       "<div>\n",
       "<style scoped>\n",
       "    .dataframe tbody tr th:only-of-type {\n",
       "        vertical-align: middle;\n",
       "    }\n",
       "\n",
       "    .dataframe tbody tr th {\n",
       "        vertical-align: top;\n",
       "    }\n",
       "\n",
       "    .dataframe thead th {\n",
       "        text-align: right;\n",
       "    }\n",
       "</style>\n",
       "<table border=\"1\" class=\"dataframe\">\n",
       "  <thead>\n",
       "    <tr style=\"text-align: right;\">\n",
       "      <th></th>\n",
       "      <th>x</th>\n",
       "      <th>y</th>\n",
       "      <th>z</th>\n",
       "      <th>x*x</th>\n",
       "      <th>2*y</th>\n",
       "      <th>2*z+3*x*x</th>\n",
       "      <th>w</th>\n",
       "      <th>target</th>\n",
       "    </tr>\n",
       "  </thead>\n",
       "  <tbody>\n",
       "    <tr>\n",
       "      <th>0</th>\n",
       "      <td>-0.581066</td>\n",
       "      <td>0.841837</td>\n",
       "      <td>-1.012978</td>\n",
       "      <td>-0.604025</td>\n",
       "      <td>0.841837</td>\n",
       "      <td>-0.665927</td>\n",
       "      <td>-0.536277</td>\n",
       "      <td>0</td>\n",
       "    </tr>\n",
       "    <tr>\n",
       "      <th>1</th>\n",
       "      <td>-0.894309</td>\n",
       "      <td>-0.207835</td>\n",
       "      <td>-1.012978</td>\n",
       "      <td>-0.883052</td>\n",
       "      <td>-0.207835</td>\n",
       "      <td>-0.917054</td>\n",
       "      <td>-0.522364</td>\n",
       "      <td>0</td>\n",
       "    </tr>\n",
       "    <tr>\n",
       "      <th>2</th>\n",
       "      <td>-1.207552</td>\n",
       "      <td>0.212034</td>\n",
       "      <td>-1.082312</td>\n",
       "      <td>-1.150918</td>\n",
       "      <td>0.212034</td>\n",
       "      <td>-1.166507</td>\n",
       "      <td>0.205738</td>\n",
       "      <td>0</td>\n",
       "    </tr>\n",
       "    <tr>\n",
       "      <th>3</th>\n",
       "      <td>-1.364174</td>\n",
       "      <td>0.002099</td>\n",
       "      <td>-0.943643</td>\n",
       "      <td>-1.280666</td>\n",
       "      <td>0.002099</td>\n",
       "      <td>-1.266540</td>\n",
       "      <td>-0.665720</td>\n",
       "      <td>0</td>\n",
       "    </tr>\n",
       "    <tr>\n",
       "      <th>4</th>\n",
       "      <td>-0.737687</td>\n",
       "      <td>1.051772</td>\n",
       "      <td>-1.012978</td>\n",
       "      <td>-0.744934</td>\n",
       "      <td>1.051772</td>\n",
       "      <td>-0.792746</td>\n",
       "      <td>-0.735054</td>\n",
       "      <td>0</td>\n",
       "    </tr>\n",
       "  </tbody>\n",
       "</table>\n",
       "</div>"
      ],
      "text/plain": [
       "          x         y         z       x*x       2*y  2*z+3*x*x         w  \\\n",
       "0 -0.581066  0.841837 -1.012978 -0.604025  0.841837  -0.665927 -0.536277   \n",
       "1 -0.894309 -0.207835 -1.012978 -0.883052 -0.207835  -0.917054 -0.522364   \n",
       "2 -1.207552  0.212034 -1.082312 -1.150918  0.212034  -1.166507  0.205738   \n",
       "3 -1.364174  0.002099 -0.943643 -1.280666  0.002099  -1.266540 -0.665720   \n",
       "4 -0.737687  1.051772 -1.012978 -0.744934  1.051772  -0.792746 -0.735054   \n",
       "\n",
       "   target  \n",
       "0       0  \n",
       "1       0  \n",
       "2       0  \n",
       "3       0  \n",
       "4       0  "
      ]
     },
     "execution_count": 3,
     "metadata": {},
     "output_type": "execute_result"
    }
   ],
   "source": [
    "data.head()"
   ]
  },
  {
   "cell_type": "code",
   "execution_count": 4,
   "metadata": {
    "colab": {},
    "colab_type": "code",
    "id": "JIIuomCkblUP"
   },
   "outputs": [],
   "source": [
    "X = data.drop(['target'], axis=1).values\n",
    "Y = data['target'].values"
   ]
  },
  {
   "cell_type": "markdown",
   "metadata": {
    "colab_type": "text",
    "id": "Ydm98u3EblUU"
   },
   "source": [
    "### Doing perturbation test to check the presence of collinearity  \n",
    "\n",
    "#### Task: 1 Logistic Regression\n",
    "<pre>\n",
    "\n",
    "1. <b>Finding the Correlation between the features</b>\n",
    "    a. check the correlation between the features\n",
    "    b. plot heat map of correlation matrix using seaborn heatmap\n",
    "2. <b>Finding the best model for the given data</b>\n",
    "    a. Train Logistic regression on data(X,Y) that we have created in the above cell\n",
    "    b. Find the best hyper prameter alpha with hyper parameter tuning using k-fold cross validation (grid search CV or         \n",
    "    random search CV make sure you choose the alpha in log space)\n",
    "    c. Creat a new Logistic regression with the best alpha\n",
    "    (search for how to get the best hyper parameter value), name the best model as 'best_model'\n",
    "    \n",
    "3. <b>Getting the weights with the original data</b>\n",
    "    a. train the 'best_model' with X, Y\n",
    "    b. Check the accuracy of the model 'best_model_accuracy'\n",
    "    c. Get the weights W using best_model.coef_\n",
    "\n",
    "4. <b>Modifying original data</b>\n",
    "    a. Add a noise(order of 10^-2) to each element of X \n",
    "    and get the new data set X' (X' = X + e)\n",
    "    b. Train the same 'best_model' with data (X', Y)\n",
    "    c. Check the accuracy of the model 'best_model_accuracy_edited'\n",
    "    d. Get the weights W' using best_model.coef_\n",
    "    \n",
    "5. <b> Checking deviations in metric and weights </b>\n",
    "    a. find the difference between 'best_model_accuracy_edited' and 'best_model_accuracy'\n",
    "    b. find the absolute change between each value of W and W' ==> |(W-W')|\n",
    "    c. print the top 4 features which have higher % change in weights \n",
    "    compare to the other feature\n",
    "</pre>"
   ]
  },
  {
   "cell_type": "markdown",
   "metadata": {},
   "source": [
    "**<font color='red'>Reference</font>**\n",
    "\n",
    "https://online.stat.psu.edu/stat501/lesson/12/12.4\n",
    "\n",
    "https://www.edupristine.com/blog/detecting-multicollinearity\n",
    "\n",
    "<img src=\"https://i.imgur.com/LxqyuIx.png\">"
   ]
  },
  {
   "cell_type": "markdown",
   "metadata": {},
   "source": [
    "1. <font color='blue'>Finding the Correlation between the features</font>\n",
    "\n",
    "    1. check the correlation between the features\n",
    "    1. plot heat map of correlation matrix using seaborn heatmap"
   ]
  },
  {
   "cell_type": "code",
   "execution_count": 5,
   "metadata": {
    "colab": {},
    "colab_type": "code",
    "id": "Lai8wXU1pmSb"
   },
   "outputs": [
    {
     "data": {
      "image/png": "[encoded data removed]",
      "text/plain": [
       "<Figure size 720x576 with 2 Axes>"
      ]
     },
     "metadata": {
      "needs_background": "light"
     },
     "output_type": "display_data"
    }
   ],
   "source": [
    "# b. plot heat map of correlation matrix using seaborn heatmap\n",
    "correlation = data.drop(['target'], axis=1).corr()\n",
    "\n",
    "fig = plt.figure(figsize =(10,8))\n",
    "fig = sns.heatmap(correlation, annot = True, fmt = '.2g', cmap = 'flare')\n",
    "plt.title('Correlation Table', fontsize = 20)\n",
    "plt.xticks(rotation = 45, fontsize = 12)\n",
    "plt.yticks(rotation = 45, fontsize = 12)\n",
    "plt.show()"
   ]
  },
  {
   "cell_type": "markdown",
   "metadata": {},
   "source": [
    "2. <font color='blue'>Finding the best model for the given data</font>\n",
    "\n",
    "    1. Train Logistic regression on data(X,Y) that we have created in the above cell\n",
    "    1. Find the best hyper prameter alpha with hyper parameter tuning using k-fold cross validation (grid search CV or         \n",
    "    random search CV make sure you choose the alpha in log space)\n",
    "    1. Creat a new Logistic regression with the best alpha\n",
    "    (search for how to get the best hyper parameter value), name the best model as 'best_model'"
   ]
  },
  {
   "cell_type": "code",
   "execution_count": 6,
   "metadata": {
    "scrolled": true
   },
   "outputs": [
    {
     "name": "stdout",
     "output_type": "stream",
     "text": [
      "Best Parameters : {'C': 0.0001}\n"
     ]
    }
   ],
   "source": [
    "# https://scikit-learn.org/stable/modules/generated/sklearn.linear_model.LogisticRegression.html\n",
    "# https://scikit-learn.org/stable/modules/generated/sklearn.model_selection.GridSearchCV.html\n",
    "# https://scikit-learn.org/stable/tutorial/statistical_inference/putting_together.html\n",
    "# https://www.kaggle.com/funxexcel/p2-logistic-regression-hyperparameter-tuning\n",
    "\n",
    "lr_model = LogisticRegression(max_iter = 100000, tol = 0.0001, penalty='l2')\n",
    "param_grid = {'C': np.logspace(-4, 4, 5)}\n",
    "model = GridSearchCV(lr_model, param_grid, n_jobs = -1, cv = 5)\n",
    "\n",
    "model.fit(X, Y)\n",
    "\n",
    "print(f'Best Parameters : {model.best_params_}')\n",
    "# print(model.best_estimator_)\n",
    "\n",
    "lr_best_C = model.best_params_['C']\n",
    "\n",
    "best_model = LogisticRegression(max_iter = 100000, tol = 0.0001, penalty='l2', C = lr_best_C)"
   ]
  },
  {
   "cell_type": "markdown",
   "metadata": {},
   "source": [
    "3. <font color='blue'>Getting the weights with the original data</font>\n",
    "\n",
    "    1. train the 'best_model' with X, Y\n",
    "    1. Check the accuracy of the model 'best_model_accuracy'\n",
    "    1. Get the weights W using best_model.coef_"
   ]
  },
  {
   "cell_type": "code",
   "execution_count": 7,
   "metadata": {},
   "outputs": [
    {
     "name": "stdout",
     "output_type": "stream",
     "text": [
      "Best model Avg. accuracy : 1.0\n",
      "Best model wights W : [[ 0.0035963  -0.00341973  0.00479983  0.00355269 -0.00341973  0.00377695\n",
      "   0.00316971]]\n"
     ]
    }
   ],
   "source": [
    "best_model.fit(X, Y)\n",
    "\n",
    "best_model_accuracy = best_model.score(X, Y)\n",
    "print(f'Best model Avg. accuracy : {best_model_accuracy}')\n",
    "\n",
    "best_weights = best_model.coef_\n",
    "print(f\"Best model wights W : {best_weights}\")"
   ]
  },
  {
   "cell_type": "markdown",
   "metadata": {},
   "source": [
    "4. <font color='blue'>Modifying original data</font>\n",
    "    1. Add a noise(order of 10^-2) to each element of X \n",
    "    and get the new data set X' (X' = X + e)\n",
    "    1. Train the same 'best_model' with data (X', Y)\n",
    "    1. Check the accuracy of the model 'best_model_accuracy_edited'\n",
    "    1. Get the weights W' using best_model.coef_"
   ]
  },
  {
   "cell_type": "code",
   "execution_count": 8,
   "metadata": {},
   "outputs": [
    {
     "name": "stdout",
     "output_type": "stream",
     "text": [
      "Best model Avg. accuracy : 1.0\n",
      "Best model wights W' : [[ 0.00359617 -0.00341988  0.00480004  0.00355254 -0.00341988  0.00377683\n",
      "   0.00316958]]\n"
     ]
    }
   ],
   "source": [
    "# a. Add a noise(order of 10^-2) to each element of X \n",
    "X_ = X + (10**-2)\n",
    "\n",
    "# b. Train the same 'best_model' with data (X', Y)\n",
    "best_model_noicy = LogisticRegression(max_iter = 100000, tol = 0.0001, penalty='l2', C = lr_best_C)\n",
    "best_model_noicy.fit(X_, Y)\n",
    "\n",
    "# c. Check the accuracy of the model 'best_model_accuracy_edited'\n",
    "best_model_accuracy_edited = best_model_noicy.score(X_, Y)\n",
    "print(f'Best model Avg. accuracy : {best_model_accuracy_edited}')\n",
    "\n",
    "# d. Get the weights W' using best_model.coef_\n",
    "best_model_noicy_weights = best_model_noicy.coef_\n",
    "print(f\"Best model wights W' : {best_model_noicy_weights}\")"
   ]
  },
  {
   "cell_type": "markdown",
   "metadata": {},
   "source": [
    "5. <font color='blue'>Checking deviations in metric and weights </font>\n",
    "    1. find the difference between 'best_model_accuracy_edited' and 'best_model_accuracy'\n",
    "    1. find the absolute change between each value of W and W' ==> |(W-W')|\n",
    "    1. print the top 4 features which have higher % change in weights \n",
    "    compare to the other feature"
   ]
  },
  {
   "cell_type": "code",
   "execution_count": 9,
   "metadata": {
    "scrolled": true
   },
   "outputs": [
    {
     "name": "stdout",
     "output_type": "stream",
     "text": [
      "Difference between 'best_model_accuracy_edited' and 'best_model_accuracy' : 0.0\n",
      "\n",
      "Absolute weights differences : [[1.30431323e-07 1.45321783e-07 2.04625934e-07 1.53887588e-07\n",
      "  1.45321783e-07 1.13731171e-07 1.22541126e-07]]\n",
      "\n",
      "Top 4 Features indices are : [5 6 0 1]\n",
      "\n",
      "Corresponding column names are : ['2*z+3*x*x', 'w', 'x', 'y']\n"
     ]
    }
   ],
   "source": [
    "# a. find the difference between 'best_model_accuracy_edited' and 'best_model_accuracy'\n",
    "difference = best_model_accuracy_edited - best_model_accuracy\n",
    "print(f\"Difference between 'best_model_accuracy_edited' and 'best_model_accuracy' : {difference}\")\n",
    "\n",
    "# b. find the absolute change between each value of W and W' ==> |(W-W')|\n",
    "abs_weight_difference = abs(best_weights - best_model_noicy_weights)\n",
    "print(f'\\nAbsolute weights differences : {abs_weight_difference}')\n",
    "\n",
    "# c. print the top 4 features which have higher % change in weights compare to the other feature\n",
    "abs_weight_diff_per  = abs_weight_difference*100\n",
    "lr_top_4_feature = np.argsort(abs_weight_diff_per)[:,:4]\n",
    "\n",
    "print(f'\\nTop 4 Features indices are : {lr_top_4_feature[0]}')\n",
    "print(f'\\nCorresponding column names are : {[col for col in data.columns[lr_top_4_feature][0]]}')"
   ]
  },
  {
   "cell_type": "markdown",
   "metadata": {},
   "source": [
    "#### Task: 2 Linear SVM\n",
    "\n",
    "<pre>\n",
    "1. Do the same steps (2, 3, 4, 5) we have done in the above task 1.\n",
    "</pre>\n",
    "\n",
    "<strong><font color='red'>Do write the observations based on the results you get from the deviations of weights in both Logistic Regression and linear SVM</font></strong>"
   ]
  },
  {
   "cell_type": "markdown",
   "metadata": {},
   "source": [
    "2. <font color='blue'>Finding the best model for the given data</font>"
   ]
  },
  {
   "cell_type": "code",
   "execution_count": 10,
   "metadata": {
    "scrolled": true
   },
   "outputs": [
    {
     "name": "stdout",
     "output_type": "stream",
     "text": [
      "Best Parameters : {'C': 0.0001}\n"
     ]
    }
   ],
   "source": [
    "# https://scikit-learn.org/stable/modules/generated/sklearn.svm.LinearSVC.html\n",
    "\n",
    "svc_model = LinearSVC(max_iter = 100000, tol = 0.0001, penalty='l2')\n",
    "param_grid = {'C': np.logspace(-4, 4, 5)}\n",
    "scv_model = GridSearchCV(svc_model, param_grid, n_jobs = -1, cv = 5)\n",
    "\n",
    "scv_model.fit(X, Y)\n",
    "\n",
    "print(f'Best Parameters : {scv_model.best_params_}')\n",
    "# print(model.best_estimator_)\n",
    "\n",
    "svc_best_C = scv_model.best_params_['C']\n",
    "\n",
    "svc_best_model = LogisticRegression(max_iter = 10000, tol = 0.0001, penalty='l2', C = svc_best_C)"
   ]
  },
  {
   "cell_type": "markdown",
   "metadata": {},
   "source": [
    "3. <font color='blue'>Getting the weights with the original data</font>"
   ]
  },
  {
   "cell_type": "code",
   "execution_count": 11,
   "metadata": {},
   "outputs": [
    {
     "name": "stdout",
     "output_type": "stream",
     "text": [
      "Best model Avg. accuracy : 1.0\n",
      "Best model wights 'W' : [[ 0.0035963  -0.00341973  0.00479983  0.00355269 -0.00341973  0.00377695\n",
      "   0.00316971]]\n"
     ]
    }
   ],
   "source": [
    "svc_best_model.fit(X, Y)\n",
    "\n",
    "svc_best_model_accuracy = svc_best_model.score(X, Y)\n",
    "print(f'Best model Avg. accuracy : {svc_best_model_accuracy}')\n",
    "\n",
    "svc_best_weights = svc_best_model.coef_\n",
    "print(f\"Best model wights 'W' : {svc_best_weights}\")"
   ]
  },
  {
   "cell_type": "markdown",
   "metadata": {},
   "source": [
    "4. <font color='blue'>Modifying original data</font>"
   ]
  },
  {
   "cell_type": "code",
   "execution_count": 12,
   "metadata": {},
   "outputs": [
    {
     "name": "stdout",
     "output_type": "stream",
     "text": [
      "Best model Avg. accuracy : 1.0\n",
      "Best model wights 'W' : [[ 0.00359617 -0.00341988  0.00480004  0.00355254 -0.00341988  0.00377683\n",
      "   0.00316958]]\n"
     ]
    }
   ],
   "source": [
    "# b. Train the same 'best_model' with data (X', Y)\n",
    "svc_best_model_noicy = LogisticRegression(max_iter = 100000, tol = 0.0001, penalty='l2', C = svc_best_C)\n",
    "svc_best_model_noicy.fit(X_, Y)\n",
    "\n",
    "# c. Check the accuracy of the model 'best_model_accuracy_edited'\n",
    "svc_best_model_accuracy_edited = svc_best_model_noicy.score(X_, Y)\n",
    "print(f'Best model Avg. accuracy : {svc_best_model_accuracy_edited}')\n",
    "\n",
    "# d. Get the weights W' using best_model.coef_\n",
    "scv_best_model_noicy_weights = svc_best_model_noicy.coef_\n",
    "print(f\"Best model wights 'W' : {scv_best_model_noicy_weights}\")"
   ]
  },
  {
   "cell_type": "markdown",
   "metadata": {},
   "source": [
    "5. <font color='blue'>Checking deviations in metric and weights </font>"
   ]
  },
  {
   "cell_type": "code",
   "execution_count": 13,
   "metadata": {
    "scrolled": true
   },
   "outputs": [
    {
     "name": "stdout",
     "output_type": "stream",
     "text": [
      "Difference between 'best_model_accuracy_edited' and 'best_model_accuracy' : 0.0\n",
      "\n",
      "Absolute weights differences : [[1.30431323e-07 1.45321783e-07 2.04625934e-07 1.53887588e-07\n",
      "  1.45321783e-07 1.13731171e-07 1.22541126e-07]]\n",
      "\n",
      "Top 4 Features indices are : [5 6 0 1]\n",
      "\n",
      "Corresponding column names are : ['2*z+3*x*x', 'w', 'x', 'y']\n"
     ]
    }
   ],
   "source": [
    "# a. find the difference between 'best_model_accuracy_edited' and 'best_model_accuracy'\n",
    "difference_svc = svc_best_model_accuracy_edited - svc_best_model_accuracy\n",
    "print(f\"Difference between 'best_model_accuracy_edited' and 'best_model_accuracy' : {difference_svc}\")\n",
    "\n",
    "# b. find the absolute change between each value of W and W' ==> |(W-W')|\n",
    "abs_svc_weight_difference = abs(svc_best_weights - scv_best_model_noicy_weights)\n",
    "print(f'\\nAbsolute weights differences : {abs_svc_weight_difference }')\n",
    "\n",
    "# c. print the top 4 features which have higher % change in weights compare to the other feature\n",
    "abs_svc_weight_diff_per  = abs_svc_weight_difference*100\n",
    "svc_top_4_feature = np.argsort(abs_svc_weight_diff_per)[:,:4]\n",
    "\n",
    "print(f'\\nTop 4 Features indices are : {svc_top_4_feature[0]}')\n",
    "print(f'\\nCorresponding column names are : {[col for col in data.columns[svc_top_4_feature][0]]}')"
   ]
  },
  {
   "cell_type": "code",
   "execution_count": 14,
   "metadata": {},
   "outputs": [],
   "source": [
    "p_table = PrettyTable()\n",
    "\n",
    "p_table.field_names = ['', \"Best 'C'\",'Accuracy', 'Column Indices']\n",
    "p_table.add_row(['Logistic regression', lr_best_C, best_model_accuracy, '-'])\n",
    "p_table.add_row(['Logistic regression + Noice', lr_best_C, best_model_accuracy_edited, lr_top_4_feature[0]])\n",
    "p_table.add_row(['Linear SVM', svc_best_C, svc_best_model_accuracy, '-'])\n",
    "p_table.add_row(['Linear SVM + Noice', svc_best_C, svc_best_model_accuracy_edited, svc_top_4_feature[0]])"
   ]
  },
  {
   "cell_type": "markdown",
   "metadata": {},
   "source": [
    "## <font color='red'>Observation</font>"
   ]
  },
  {
   "cell_type": "code",
   "execution_count": 15,
   "metadata": {},
   "outputs": [
    {
     "name": "stdout",
     "output_type": "stream",
     "text": [
      "+-----------------------------+----------+----------+----------------+\n",
      "|                             | Best 'C' | Accuracy | Column Indices |\n",
      "+-----------------------------+----------+----------+----------------+\n",
      "|     Logistic regression     |  0.0001  |   1.0    |       -        |\n",
      "| Logistic regression + Noice |  0.0001  |   1.0    |   [5 6 0 1]    |\n",
      "|          Linear SVM         |  0.0001  |   1.0    |       -        |\n",
      "|      Linear SVM + Noice     |  0.0001  |   1.0    |   [5 6 0 1]    |\n",
      "+-----------------------------+----------+----------+----------------+\n"
     ]
    }
   ],
   "source": [
    "print(p_table)"
   ]
  },
  {
   "cell_type": "markdown",
   "metadata": {},
   "source": [
    "* Multi colinearity is not affecting the accuracy of the model dataset for both linear and SVM model.\n",
    "* The noice have no impact on accuracy values\n",
    "```python\n",
    "difference = best_model_accuracy_edited - best_model_accuracy\n",
    "print(f\"Difference between 'best_model_accuracy_edited' and 'best_model_accuracy' : {difference}\")\n",
    ">>> Difference between 'best_model_accuracy_edited' and 'best_model_accuracy' : 0.0\n",
    "```\n",
    "* By observing Top4 features with maximum abs percentage weights difference of original data and noisy data we can conclude that features having multi colinearity and high corelation is affected by outliers ( added noise) and coefficient are changing for those features.\n",
    "```python\n",
    "print(f'Top 4 Features indices are : {top_4_feature[0]}')\n",
    ">>> Top 4 Features indices are : [5 6 0 1]\n",
    "```\n",
    "    - Both linear and SVM model returns the same column names\n"
   ]
  }
 ],
 "metadata": {
  "colab": {
   "name": "8D_LR_SVM.ipynb",
   "provenance": []
  },
  "kernelspec": {
   "display_name": "Python 3 (ipykernel)",
   "language": "python",
   "name": "python3"
  },
  "language_info": {
   "codemirror_mode": {
    "name": "ipython",
    "version": 3
   },
   "file_extension": ".py",
   "mimetype": "text/x-python",
   "name": "python",
   "nbconvert_exporter": "python",
   "pygments_lexer": "ipython3",
   "version": "3.9.7"
  }
 },
 "nbformat": 4,
 "nbformat_minor": 1
}
