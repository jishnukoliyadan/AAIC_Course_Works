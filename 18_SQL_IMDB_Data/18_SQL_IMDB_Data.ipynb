{
 "cells": [
  {
   "cell_type": "markdown",
   "metadata": {
    "id": "hmzI5oZ6E_Hp"
   },
   "source": [
    "# SQL Assignment"
   ]
  },
  {
   "cell_type": "code",
   "execution_count": 1,
   "metadata": {
    "id": "wso5pGwnE_Ht"
   },
   "outputs": [],
   "source": [
    "import pandas as pd\n",
    "import sqlite3\n",
    "\n",
    "from IPython.display import display, HTML"
   ]
  },
  {
   "cell_type": "code",
   "execution_count": 2,
   "metadata": {
    "id": "uMYMAPLm23sp"
   },
   "outputs": [],
   "source": [
    "# Note that this is not the same db we have used in course videos, please download from this link\n",
    "# https://drive.google.com/file/d/1O-1-L1DdNxEK6O6nG2jS31MbrMh-OnXM/view?usp=sharing"
   ]
  },
  {
   "cell_type": "code",
   "execution_count": 3,
   "metadata": {
    "id": "xrUl9ShkE_H0"
   },
   "outputs": [],
   "source": [
    "conn = sqlite3.connect(\"Db-IMDB-Assignment.db\")"
   ]
  },
  {
   "cell_type": "markdown",
   "metadata": {
    "id": "Z_ADQl2BE_H6"
   },
   "source": [
    "#### Overview of all tables"
   ]
  },
  {
   "cell_type": "code",
   "execution_count": 4,
   "metadata": {
    "id": "7ZfheusYE_H7",
    "scrolled": true
   },
   "outputs": [],
   "source": [
    "tables = pd.read_sql_query(\"SELECT NAME AS 'Table_Name' FROM sqlite_master WHERE type='table'\",conn)\n",
    "tables = tables[\"Table_Name\"].values.tolist()"
   ]
  },
  {
   "cell_type": "code",
   "execution_count": 5,
   "metadata": {
    "colab": {
     "base_uri": "https://localhost:8080/",
     "height": 1000
    },
    "executionInfo": {
     "elapsed": 1573,
     "status": "ok",
     "timestamp": 1609076958858,
     "user": {
      "displayName": "Applied AI Course",
      "photoUrl": "https://lh3.googleusercontent.com/a-/AOh14GhuSQ5tWcMSEyUXWi5GYagbq0BttLJf6r6PPxrB=s64",
      "userId": "00484516897554883881"
     },
     "user_tz": -330
    },
    "id": "f3zLh5FGE_H_",
    "outputId": "a443d072-a22f-4d15-bff8-0b8a4ee78d5c",
    "scrolled": true
   },
   "outputs": [
    {
     "name": "stdout",
     "output_type": "stream",
     "text": [
      "Schema of Movie\n"
     ]
    },
    {
     "data": {
      "text/html": [
       "<div>\n",
       "<style scoped>\n",
       "    .dataframe tbody tr th:only-of-type {\n",
       "        vertical-align: middle;\n",
       "    }\n",
       "\n",
       "    .dataframe tbody tr th {\n",
       "        vertical-align: top;\n",
       "    }\n",
       "\n",
       "    .dataframe thead th {\n",
       "        text-align: right;\n",
       "    }\n",
       "</style>\n",
       "<table border=\"1\" class=\"dataframe\">\n",
       "  <thead>\n",
       "    <tr style=\"text-align: right;\">\n",
       "      <th></th>\n",
       "      <th>cid</th>\n",
       "      <th>name</th>\n",
       "      <th>type</th>\n",
       "      <th>notnull</th>\n",
       "      <th>dflt_value</th>\n",
       "      <th>pk</th>\n",
       "    </tr>\n",
       "  </thead>\n",
       "  <tbody>\n",
       "    <tr>\n",
       "      <th>0</th>\n",
       "      <td>0</td>\n",
       "      <td>index</td>\n",
       "      <td>INTEGER</td>\n",
       "      <td>0</td>\n",
       "      <td>None</td>\n",
       "      <td>0</td>\n",
       "    </tr>\n",
       "    <tr>\n",
       "      <th>1</th>\n",
       "      <td>1</td>\n",
       "      <td>MID</td>\n",
       "      <td>TEXT</td>\n",
       "      <td>0</td>\n",
       "      <td>None</td>\n",
       "      <td>0</td>\n",
       "    </tr>\n",
       "    <tr>\n",
       "      <th>2</th>\n",
       "      <td>2</td>\n",
       "      <td>title</td>\n",
       "      <td>TEXT</td>\n",
       "      <td>0</td>\n",
       "      <td>None</td>\n",
       "      <td>0</td>\n",
       "    </tr>\n",
       "    <tr>\n",
       "      <th>3</th>\n",
       "      <td>3</td>\n",
       "      <td>year</td>\n",
       "      <td>TEXT</td>\n",
       "      <td>0</td>\n",
       "      <td>None</td>\n",
       "      <td>0</td>\n",
       "    </tr>\n",
       "    <tr>\n",
       "      <th>4</th>\n",
       "      <td>4</td>\n",
       "      <td>rating</td>\n",
       "      <td>REAL</td>\n",
       "      <td>0</td>\n",
       "      <td>None</td>\n",
       "      <td>0</td>\n",
       "    </tr>\n",
       "    <tr>\n",
       "      <th>5</th>\n",
       "      <td>5</td>\n",
       "      <td>num_votes</td>\n",
       "      <td>INTEGER</td>\n",
       "      <td>0</td>\n",
       "      <td>None</td>\n",
       "      <td>0</td>\n",
       "    </tr>\n",
       "  </tbody>\n",
       "</table>\n",
       "</div>"
      ],
      "text/plain": [
       "   cid       name     type  notnull dflt_value  pk\n",
       "0    0      index  INTEGER        0       None   0\n",
       "1    1        MID     TEXT        0       None   0\n",
       "2    2      title     TEXT        0       None   0\n",
       "3    3       year     TEXT        0       None   0\n",
       "4    4     rating     REAL        0       None   0\n",
       "5    5  num_votes  INTEGER        0       None   0"
      ]
     },
     "metadata": {},
     "output_type": "display_data"
    },
    {
     "name": "stdout",
     "output_type": "stream",
     "text": [
      "----------------------------------------------------------------------------------------------------\n",
      "\n",
      "\n",
      "Schema of Genre\n"
     ]
    },
    {
     "data": {
      "text/html": [
       "<div>\n",
       "<style scoped>\n",
       "    .dataframe tbody tr th:only-of-type {\n",
       "        vertical-align: middle;\n",
       "    }\n",
       "\n",
       "    .dataframe tbody tr th {\n",
       "        vertical-align: top;\n",
       "    }\n",
       "\n",
       "    .dataframe thead th {\n",
       "        text-align: right;\n",
       "    }\n",
       "</style>\n",
       "<table border=\"1\" class=\"dataframe\">\n",
       "  <thead>\n",
       "    <tr style=\"text-align: right;\">\n",
       "      <th></th>\n",
       "      <th>cid</th>\n",
       "      <th>name</th>\n",
       "      <th>type</th>\n",
       "      <th>notnull</th>\n",
       "      <th>dflt_value</th>\n",
       "      <th>pk</th>\n",
       "    </tr>\n",
       "  </thead>\n",
       "  <tbody>\n",
       "    <tr>\n",
       "      <th>0</th>\n",
       "      <td>0</td>\n",
       "      <td>index</td>\n",
       "      <td>INTEGER</td>\n",
       "      <td>0</td>\n",
       "      <td>None</td>\n",
       "      <td>0</td>\n",
       "    </tr>\n",
       "    <tr>\n",
       "      <th>1</th>\n",
       "      <td>1</td>\n",
       "      <td>Name</td>\n",
       "      <td>TEXT</td>\n",
       "      <td>0</td>\n",
       "      <td>None</td>\n",
       "      <td>0</td>\n",
       "    </tr>\n",
       "    <tr>\n",
       "      <th>2</th>\n",
       "      <td>2</td>\n",
       "      <td>GID</td>\n",
       "      <td>INTEGER</td>\n",
       "      <td>0</td>\n",
       "      <td>None</td>\n",
       "      <td>0</td>\n",
       "    </tr>\n",
       "  </tbody>\n",
       "</table>\n",
       "</div>"
      ],
      "text/plain": [
       "   cid   name     type  notnull dflt_value  pk\n",
       "0    0  index  INTEGER        0       None   0\n",
       "1    1   Name     TEXT        0       None   0\n",
       "2    2    GID  INTEGER        0       None   0"
      ]
     },
     "metadata": {},
     "output_type": "display_data"
    },
    {
     "name": "stdout",
     "output_type": "stream",
     "text": [
      "----------------------------------------------------------------------------------------------------\n",
      "\n",
      "\n",
      "Schema of Language\n"
     ]
    },
    {
     "data": {
      "text/html": [
       "<div>\n",
       "<style scoped>\n",
       "    .dataframe tbody tr th:only-of-type {\n",
       "        vertical-align: middle;\n",
       "    }\n",
       "\n",
       "    .dataframe tbody tr th {\n",
       "        vertical-align: top;\n",
       "    }\n",
       "\n",
       "    .dataframe thead th {\n",
       "        text-align: right;\n",
       "    }\n",
       "</style>\n",
       "<table border=\"1\" class=\"dataframe\">\n",
       "  <thead>\n",
       "    <tr style=\"text-align: right;\">\n",
       "      <th></th>\n",
       "      <th>cid</th>\n",
       "      <th>name</th>\n",
       "      <th>type</th>\n",
       "      <th>notnull</th>\n",
       "      <th>dflt_value</th>\n",
       "      <th>pk</th>\n",
       "    </tr>\n",
       "  </thead>\n",
       "  <tbody>\n",
       "    <tr>\n",
       "      <th>0</th>\n",
       "      <td>0</td>\n",
       "      <td>index</td>\n",
       "      <td>INTEGER</td>\n",
       "      <td>0</td>\n",
       "      <td>None</td>\n",
       "      <td>0</td>\n",
       "    </tr>\n",
       "    <tr>\n",
       "      <th>1</th>\n",
       "      <td>1</td>\n",
       "      <td>Name</td>\n",
       "      <td>TEXT</td>\n",
       "      <td>0</td>\n",
       "      <td>None</td>\n",
       "      <td>0</td>\n",
       "    </tr>\n",
       "    <tr>\n",
       "      <th>2</th>\n",
       "      <td>2</td>\n",
       "      <td>LAID</td>\n",
       "      <td>INTEGER</td>\n",
       "      <td>0</td>\n",
       "      <td>None</td>\n",
       "      <td>0</td>\n",
       "    </tr>\n",
       "  </tbody>\n",
       "</table>\n",
       "</div>"
      ],
      "text/plain": [
       "   cid   name     type  notnull dflt_value  pk\n",
       "0    0  index  INTEGER        0       None   0\n",
       "1    1   Name     TEXT        0       None   0\n",
       "2    2   LAID  INTEGER        0       None   0"
      ]
     },
     "metadata": {},
     "output_type": "display_data"
    },
    {
     "name": "stdout",
     "output_type": "stream",
     "text": [
      "----------------------------------------------------------------------------------------------------\n",
      "\n",
      "\n",
      "Schema of Country\n"
     ]
    },
    {
     "data": {
      "text/html": [
       "<div>\n",
       "<style scoped>\n",
       "    .dataframe tbody tr th:only-of-type {\n",
       "        vertical-align: middle;\n",
       "    }\n",
       "\n",
       "    .dataframe tbody tr th {\n",
       "        vertical-align: top;\n",
       "    }\n",
       "\n",
       "    .dataframe thead th {\n",
       "        text-align: right;\n",
       "    }\n",
       "</style>\n",
       "<table border=\"1\" class=\"dataframe\">\n",
       "  <thead>\n",
       "    <tr style=\"text-align: right;\">\n",
       "      <th></th>\n",
       "      <th>cid</th>\n",
       "      <th>name</th>\n",
       "      <th>type</th>\n",
       "      <th>notnull</th>\n",
       "      <th>dflt_value</th>\n",
       "      <th>pk</th>\n",
       "    </tr>\n",
       "  </thead>\n",
       "  <tbody>\n",
       "    <tr>\n",
       "      <th>0</th>\n",
       "      <td>0</td>\n",
       "      <td>index</td>\n",
       "      <td>INTEGER</td>\n",
       "      <td>0</td>\n",
       "      <td>None</td>\n",
       "      <td>0</td>\n",
       "    </tr>\n",
       "    <tr>\n",
       "      <th>1</th>\n",
       "      <td>1</td>\n",
       "      <td>Name</td>\n",
       "      <td>TEXT</td>\n",
       "      <td>0</td>\n",
       "      <td>None</td>\n",
       "      <td>0</td>\n",
       "    </tr>\n",
       "    <tr>\n",
       "      <th>2</th>\n",
       "      <td>2</td>\n",
       "      <td>CID</td>\n",
       "      <td>INTEGER</td>\n",
       "      <td>0</td>\n",
       "      <td>None</td>\n",
       "      <td>0</td>\n",
       "    </tr>\n",
       "  </tbody>\n",
       "</table>\n",
       "</div>"
      ],
      "text/plain": [
       "   cid   name     type  notnull dflt_value  pk\n",
       "0    0  index  INTEGER        0       None   0\n",
       "1    1   Name     TEXT        0       None   0\n",
       "2    2    CID  INTEGER        0       None   0"
      ]
     },
     "metadata": {},
     "output_type": "display_data"
    },
    {
     "name": "stdout",
     "output_type": "stream",
     "text": [
      "----------------------------------------------------------------------------------------------------\n",
      "\n",
      "\n",
      "Schema of Location\n"
     ]
    },
    {
     "data": {
      "text/html": [
       "<div>\n",
       "<style scoped>\n",
       "    .dataframe tbody tr th:only-of-type {\n",
       "        vertical-align: middle;\n",
       "    }\n",
       "\n",
       "    .dataframe tbody tr th {\n",
       "        vertical-align: top;\n",
       "    }\n",
       "\n",
       "    .dataframe thead th {\n",
       "        text-align: right;\n",
       "    }\n",
       "</style>\n",
       "<table border=\"1\" class=\"dataframe\">\n",
       "  <thead>\n",
       "    <tr style=\"text-align: right;\">\n",
       "      <th></th>\n",
       "      <th>cid</th>\n",
       "      <th>name</th>\n",
       "      <th>type</th>\n",
       "      <th>notnull</th>\n",
       "      <th>dflt_value</th>\n",
       "      <th>pk</th>\n",
       "    </tr>\n",
       "  </thead>\n",
       "  <tbody>\n",
       "    <tr>\n",
       "      <th>0</th>\n",
       "      <td>0</td>\n",
       "      <td>index</td>\n",
       "      <td>INTEGER</td>\n",
       "      <td>0</td>\n",
       "      <td>None</td>\n",
       "      <td>0</td>\n",
       "    </tr>\n",
       "    <tr>\n",
       "      <th>1</th>\n",
       "      <td>1</td>\n",
       "      <td>Name</td>\n",
       "      <td>TEXT</td>\n",
       "      <td>0</td>\n",
       "      <td>None</td>\n",
       "      <td>0</td>\n",
       "    </tr>\n",
       "    <tr>\n",
       "      <th>2</th>\n",
       "      <td>2</td>\n",
       "      <td>LID</td>\n",
       "      <td>INTEGER</td>\n",
       "      <td>0</td>\n",
       "      <td>None</td>\n",
       "      <td>0</td>\n",
       "    </tr>\n",
       "  </tbody>\n",
       "</table>\n",
       "</div>"
      ],
      "text/plain": [
       "   cid   name     type  notnull dflt_value  pk\n",
       "0    0  index  INTEGER        0       None   0\n",
       "1    1   Name     TEXT        0       None   0\n",
       "2    2    LID  INTEGER        0       None   0"
      ]
     },
     "metadata": {},
     "output_type": "display_data"
    },
    {
     "name": "stdout",
     "output_type": "stream",
     "text": [
      "----------------------------------------------------------------------------------------------------\n",
      "\n",
      "\n",
      "Schema of M_Location\n"
     ]
    },
    {
     "data": {
      "text/html": [
       "<div>\n",
       "<style scoped>\n",
       "    .dataframe tbody tr th:only-of-type {\n",
       "        vertical-align: middle;\n",
       "    }\n",
       "\n",
       "    .dataframe tbody tr th {\n",
       "        vertical-align: top;\n",
       "    }\n",
       "\n",
       "    .dataframe thead th {\n",
       "        text-align: right;\n",
       "    }\n",
       "</style>\n",
       "<table border=\"1\" class=\"dataframe\">\n",
       "  <thead>\n",
       "    <tr style=\"text-align: right;\">\n",
       "      <th></th>\n",
       "      <th>cid</th>\n",
       "      <th>name</th>\n",
       "      <th>type</th>\n",
       "      <th>notnull</th>\n",
       "      <th>dflt_value</th>\n",
       "      <th>pk</th>\n",
       "    </tr>\n",
       "  </thead>\n",
       "  <tbody>\n",
       "    <tr>\n",
       "      <th>0</th>\n",
       "      <td>0</td>\n",
       "      <td>index</td>\n",
       "      <td>INTEGER</td>\n",
       "      <td>0</td>\n",
       "      <td>None</td>\n",
       "      <td>0</td>\n",
       "    </tr>\n",
       "    <tr>\n",
       "      <th>1</th>\n",
       "      <td>1</td>\n",
       "      <td>MID</td>\n",
       "      <td>TEXT</td>\n",
       "      <td>0</td>\n",
       "      <td>None</td>\n",
       "      <td>0</td>\n",
       "    </tr>\n",
       "    <tr>\n",
       "      <th>2</th>\n",
       "      <td>2</td>\n",
       "      <td>LID</td>\n",
       "      <td>REAL</td>\n",
       "      <td>0</td>\n",
       "      <td>None</td>\n",
       "      <td>0</td>\n",
       "    </tr>\n",
       "    <tr>\n",
       "      <th>3</th>\n",
       "      <td>3</td>\n",
       "      <td>ID</td>\n",
       "      <td>INTEGER</td>\n",
       "      <td>0</td>\n",
       "      <td>None</td>\n",
       "      <td>0</td>\n",
       "    </tr>\n",
       "  </tbody>\n",
       "</table>\n",
       "</div>"
      ],
      "text/plain": [
       "   cid   name     type  notnull dflt_value  pk\n",
       "0    0  index  INTEGER        0       None   0\n",
       "1    1    MID     TEXT        0       None   0\n",
       "2    2    LID     REAL        0       None   0\n",
       "3    3     ID  INTEGER        0       None   0"
      ]
     },
     "metadata": {},
     "output_type": "display_data"
    },
    {
     "name": "stdout",
     "output_type": "stream",
     "text": [
      "----------------------------------------------------------------------------------------------------\n",
      "\n",
      "\n",
      "Schema of M_Country\n"
     ]
    },
    {
     "data": {
      "text/html": [
       "<div>\n",
       "<style scoped>\n",
       "    .dataframe tbody tr th:only-of-type {\n",
       "        vertical-align: middle;\n",
       "    }\n",
       "\n",
       "    .dataframe tbody tr th {\n",
       "        vertical-align: top;\n",
       "    }\n",
       "\n",
       "    .dataframe thead th {\n",
       "        text-align: right;\n",
       "    }\n",
       "</style>\n",
       "<table border=\"1\" class=\"dataframe\">\n",
       "  <thead>\n",
       "    <tr style=\"text-align: right;\">\n",
       "      <th></th>\n",
       "      <th>cid</th>\n",
       "      <th>name</th>\n",
       "      <th>type</th>\n",
       "      <th>notnull</th>\n",
       "      <th>dflt_value</th>\n",
       "      <th>pk</th>\n",
       "    </tr>\n",
       "  </thead>\n",
       "  <tbody>\n",
       "    <tr>\n",
       "      <th>0</th>\n",
       "      <td>0</td>\n",
       "      <td>index</td>\n",
       "      <td>INTEGER</td>\n",
       "      <td>0</td>\n",
       "      <td>None</td>\n",
       "      <td>0</td>\n",
       "    </tr>\n",
       "    <tr>\n",
       "      <th>1</th>\n",
       "      <td>1</td>\n",
       "      <td>MID</td>\n",
       "      <td>TEXT</td>\n",
       "      <td>0</td>\n",
       "      <td>None</td>\n",
       "      <td>0</td>\n",
       "    </tr>\n",
       "    <tr>\n",
       "      <th>2</th>\n",
       "      <td>2</td>\n",
       "      <td>CID</td>\n",
       "      <td>REAL</td>\n",
       "      <td>0</td>\n",
       "      <td>None</td>\n",
       "      <td>0</td>\n",
       "    </tr>\n",
       "    <tr>\n",
       "      <th>3</th>\n",
       "      <td>3</td>\n",
       "      <td>ID</td>\n",
       "      <td>INTEGER</td>\n",
       "      <td>0</td>\n",
       "      <td>None</td>\n",
       "      <td>0</td>\n",
       "    </tr>\n",
       "  </tbody>\n",
       "</table>\n",
       "</div>"
      ],
      "text/plain": [
       "   cid   name     type  notnull dflt_value  pk\n",
       "0    0  index  INTEGER        0       None   0\n",
       "1    1    MID     TEXT        0       None   0\n",
       "2    2    CID     REAL        0       None   0\n",
       "3    3     ID  INTEGER        0       None   0"
      ]
     },
     "metadata": {},
     "output_type": "display_data"
    },
    {
     "name": "stdout",
     "output_type": "stream",
     "text": [
      "----------------------------------------------------------------------------------------------------\n",
      "\n",
      "\n",
      "Schema of M_Language\n"
     ]
    },
    {
     "data": {
      "text/html": [
       "<div>\n",
       "<style scoped>\n",
       "    .dataframe tbody tr th:only-of-type {\n",
       "        vertical-align: middle;\n",
       "    }\n",
       "\n",
       "    .dataframe tbody tr th {\n",
       "        vertical-align: top;\n",
       "    }\n",
       "\n",
       "    .dataframe thead th {\n",
       "        text-align: right;\n",
       "    }\n",
       "</style>\n",
       "<table border=\"1\" class=\"dataframe\">\n",
       "  <thead>\n",
       "    <tr style=\"text-align: right;\">\n",
       "      <th></th>\n",
       "      <th>cid</th>\n",
       "      <th>name</th>\n",
       "      <th>type</th>\n",
       "      <th>notnull</th>\n",
       "      <th>dflt_value</th>\n",
       "      <th>pk</th>\n",
       "    </tr>\n",
       "  </thead>\n",
       "  <tbody>\n",
       "    <tr>\n",
       "      <th>0</th>\n",
       "      <td>0</td>\n",
       "      <td>index</td>\n",
       "      <td>INTEGER</td>\n",
       "      <td>0</td>\n",
       "      <td>None</td>\n",
       "      <td>0</td>\n",
       "    </tr>\n",
       "    <tr>\n",
       "      <th>1</th>\n",
       "      <td>1</td>\n",
       "      <td>MID</td>\n",
       "      <td>TEXT</td>\n",
       "      <td>0</td>\n",
       "      <td>None</td>\n",
       "      <td>0</td>\n",
       "    </tr>\n",
       "    <tr>\n",
       "      <th>2</th>\n",
       "      <td>2</td>\n",
       "      <td>LAID</td>\n",
       "      <td>INTEGER</td>\n",
       "      <td>0</td>\n",
       "      <td>None</td>\n",
       "      <td>0</td>\n",
       "    </tr>\n",
       "    <tr>\n",
       "      <th>3</th>\n",
       "      <td>3</td>\n",
       "      <td>ID</td>\n",
       "      <td>INTEGER</td>\n",
       "      <td>0</td>\n",
       "      <td>None</td>\n",
       "      <td>0</td>\n",
       "    </tr>\n",
       "  </tbody>\n",
       "</table>\n",
       "</div>"
      ],
      "text/plain": [
       "   cid   name     type  notnull dflt_value  pk\n",
       "0    0  index  INTEGER        0       None   0\n",
       "1    1    MID     TEXT        0       None   0\n",
       "2    2   LAID  INTEGER        0       None   0\n",
       "3    3     ID  INTEGER        0       None   0"
      ]
     },
     "metadata": {},
     "output_type": "display_data"
    },
    {
     "name": "stdout",
     "output_type": "stream",
     "text": [
      "----------------------------------------------------------------------------------------------------\n",
      "\n",
      "\n",
      "Schema of M_Genre\n"
     ]
    },
    {
     "data": {
      "text/html": [
       "<div>\n",
       "<style scoped>\n",
       "    .dataframe tbody tr th:only-of-type {\n",
       "        vertical-align: middle;\n",
       "    }\n",
       "\n",
       "    .dataframe tbody tr th {\n",
       "        vertical-align: top;\n",
       "    }\n",
       "\n",
       "    .dataframe thead th {\n",
       "        text-align: right;\n",
       "    }\n",
       "</style>\n",
       "<table border=\"1\" class=\"dataframe\">\n",
       "  <thead>\n",
       "    <tr style=\"text-align: right;\">\n",
       "      <th></th>\n",
       "      <th>cid</th>\n",
       "      <th>name</th>\n",
       "      <th>type</th>\n",
       "      <th>notnull</th>\n",
       "      <th>dflt_value</th>\n",
       "      <th>pk</th>\n",
       "    </tr>\n",
       "  </thead>\n",
       "  <tbody>\n",
       "    <tr>\n",
       "      <th>0</th>\n",
       "      <td>0</td>\n",
       "      <td>index</td>\n",
       "      <td>INTEGER</td>\n",
       "      <td>0</td>\n",
       "      <td>None</td>\n",
       "      <td>0</td>\n",
       "    </tr>\n",
       "    <tr>\n",
       "      <th>1</th>\n",
       "      <td>1</td>\n",
       "      <td>MID</td>\n",
       "      <td>TEXT</td>\n",
       "      <td>0</td>\n",
       "      <td>None</td>\n",
       "      <td>0</td>\n",
       "    </tr>\n",
       "    <tr>\n",
       "      <th>2</th>\n",
       "      <td>2</td>\n",
       "      <td>GID</td>\n",
       "      <td>INTEGER</td>\n",
       "      <td>0</td>\n",
       "      <td>None</td>\n",
       "      <td>0</td>\n",
       "    </tr>\n",
       "    <tr>\n",
       "      <th>3</th>\n",
       "      <td>3</td>\n",
       "      <td>ID</td>\n",
       "      <td>INTEGER</td>\n",
       "      <td>0</td>\n",
       "      <td>None</td>\n",
       "      <td>0</td>\n",
       "    </tr>\n",
       "  </tbody>\n",
       "</table>\n",
       "</div>"
      ],
      "text/plain": [
       "   cid   name     type  notnull dflt_value  pk\n",
       "0    0  index  INTEGER        0       None   0\n",
       "1    1    MID     TEXT        0       None   0\n",
       "2    2    GID  INTEGER        0       None   0\n",
       "3    3     ID  INTEGER        0       None   0"
      ]
     },
     "metadata": {},
     "output_type": "display_data"
    },
    {
     "name": "stdout",
     "output_type": "stream",
     "text": [
      "----------------------------------------------------------------------------------------------------\n",
      "\n",
      "\n",
      "Schema of Person\n"
     ]
    },
    {
     "data": {
      "text/html": [
       "<div>\n",
       "<style scoped>\n",
       "    .dataframe tbody tr th:only-of-type {\n",
       "        vertical-align: middle;\n",
       "    }\n",
       "\n",
       "    .dataframe tbody tr th {\n",
       "        vertical-align: top;\n",
       "    }\n",
       "\n",
       "    .dataframe thead th {\n",
       "        text-align: right;\n",
       "    }\n",
       "</style>\n",
       "<table border=\"1\" class=\"dataframe\">\n",
       "  <thead>\n",
       "    <tr style=\"text-align: right;\">\n",
       "      <th></th>\n",
       "      <th>cid</th>\n",
       "      <th>name</th>\n",
       "      <th>type</th>\n",
       "      <th>notnull</th>\n",
       "      <th>dflt_value</th>\n",
       "      <th>pk</th>\n",
       "    </tr>\n",
       "  </thead>\n",
       "  <tbody>\n",
       "    <tr>\n",
       "      <th>0</th>\n",
       "      <td>0</td>\n",
       "      <td>index</td>\n",
       "      <td>INTEGER</td>\n",
       "      <td>0</td>\n",
       "      <td>None</td>\n",
       "      <td>0</td>\n",
       "    </tr>\n",
       "    <tr>\n",
       "      <th>1</th>\n",
       "      <td>1</td>\n",
       "      <td>PID</td>\n",
       "      <td>TEXT</td>\n",
       "      <td>0</td>\n",
       "      <td>None</td>\n",
       "      <td>0</td>\n",
       "    </tr>\n",
       "    <tr>\n",
       "      <th>2</th>\n",
       "      <td>2</td>\n",
       "      <td>Name</td>\n",
       "      <td>TEXT</td>\n",
       "      <td>0</td>\n",
       "      <td>None</td>\n",
       "      <td>0</td>\n",
       "    </tr>\n",
       "    <tr>\n",
       "      <th>3</th>\n",
       "      <td>3</td>\n",
       "      <td>Gender</td>\n",
       "      <td>TEXT</td>\n",
       "      <td>0</td>\n",
       "      <td>None</td>\n",
       "      <td>0</td>\n",
       "    </tr>\n",
       "  </tbody>\n",
       "</table>\n",
       "</div>"
      ],
      "text/plain": [
       "   cid    name     type  notnull dflt_value  pk\n",
       "0    0   index  INTEGER        0       None   0\n",
       "1    1     PID     TEXT        0       None   0\n",
       "2    2    Name     TEXT        0       None   0\n",
       "3    3  Gender     TEXT        0       None   0"
      ]
     },
     "metadata": {},
     "output_type": "display_data"
    },
    {
     "name": "stdout",
     "output_type": "stream",
     "text": [
      "----------------------------------------------------------------------------------------------------\n",
      "\n",
      "\n",
      "Schema of M_Producer\n"
     ]
    },
    {
     "data": {
      "text/html": [
       "<div>\n",
       "<style scoped>\n",
       "    .dataframe tbody tr th:only-of-type {\n",
       "        vertical-align: middle;\n",
       "    }\n",
       "\n",
       "    .dataframe tbody tr th {\n",
       "        vertical-align: top;\n",
       "    }\n",
       "\n",
       "    .dataframe thead th {\n",
       "        text-align: right;\n",
       "    }\n",
       "</style>\n",
       "<table border=\"1\" class=\"dataframe\">\n",
       "  <thead>\n",
       "    <tr style=\"text-align: right;\">\n",
       "      <th></th>\n",
       "      <th>cid</th>\n",
       "      <th>name</th>\n",
       "      <th>type</th>\n",
       "      <th>notnull</th>\n",
       "      <th>dflt_value</th>\n",
       "      <th>pk</th>\n",
       "    </tr>\n",
       "  </thead>\n",
       "  <tbody>\n",
       "    <tr>\n",
       "      <th>0</th>\n",
       "      <td>0</td>\n",
       "      <td>index</td>\n",
       "      <td>INTEGER</td>\n",
       "      <td>0</td>\n",
       "      <td>None</td>\n",
       "      <td>0</td>\n",
       "    </tr>\n",
       "    <tr>\n",
       "      <th>1</th>\n",
       "      <td>1</td>\n",
       "      <td>MID</td>\n",
       "      <td>TEXT</td>\n",
       "      <td>0</td>\n",
       "      <td>None</td>\n",
       "      <td>0</td>\n",
       "    </tr>\n",
       "    <tr>\n",
       "      <th>2</th>\n",
       "      <td>2</td>\n",
       "      <td>PID</td>\n",
       "      <td>TEXT</td>\n",
       "      <td>0</td>\n",
       "      <td>None</td>\n",
       "      <td>0</td>\n",
       "    </tr>\n",
       "    <tr>\n",
       "      <th>3</th>\n",
       "      <td>3</td>\n",
       "      <td>ID</td>\n",
       "      <td>INTEGER</td>\n",
       "      <td>0</td>\n",
       "      <td>None</td>\n",
       "      <td>0</td>\n",
       "    </tr>\n",
       "  </tbody>\n",
       "</table>\n",
       "</div>"
      ],
      "text/plain": [
       "   cid   name     type  notnull dflt_value  pk\n",
       "0    0  index  INTEGER        0       None   0\n",
       "1    1    MID     TEXT        0       None   0\n",
       "2    2    PID     TEXT        0       None   0\n",
       "3    3     ID  INTEGER        0       None   0"
      ]
     },
     "metadata": {},
     "output_type": "display_data"
    },
    {
     "name": "stdout",
     "output_type": "stream",
     "text": [
      "----------------------------------------------------------------------------------------------------\n",
      "\n",
      "\n",
      "Schema of M_Director\n"
     ]
    },
    {
     "data": {
      "text/html": [
       "<div>\n",
       "<style scoped>\n",
       "    .dataframe tbody tr th:only-of-type {\n",
       "        vertical-align: middle;\n",
       "    }\n",
       "\n",
       "    .dataframe tbody tr th {\n",
       "        vertical-align: top;\n",
       "    }\n",
       "\n",
       "    .dataframe thead th {\n",
       "        text-align: right;\n",
       "    }\n",
       "</style>\n",
       "<table border=\"1\" class=\"dataframe\">\n",
       "  <thead>\n",
       "    <tr style=\"text-align: right;\">\n",
       "      <th></th>\n",
       "      <th>cid</th>\n",
       "      <th>name</th>\n",
       "      <th>type</th>\n",
       "      <th>notnull</th>\n",
       "      <th>dflt_value</th>\n",
       "      <th>pk</th>\n",
       "    </tr>\n",
       "  </thead>\n",
       "  <tbody>\n",
       "    <tr>\n",
       "      <th>0</th>\n",
       "      <td>0</td>\n",
       "      <td>index</td>\n",
       "      <td>INTEGER</td>\n",
       "      <td>0</td>\n",
       "      <td>None</td>\n",
       "      <td>0</td>\n",
       "    </tr>\n",
       "    <tr>\n",
       "      <th>1</th>\n",
       "      <td>1</td>\n",
       "      <td>MID</td>\n",
       "      <td>TEXT</td>\n",
       "      <td>0</td>\n",
       "      <td>None</td>\n",
       "      <td>0</td>\n",
       "    </tr>\n",
       "    <tr>\n",
       "      <th>2</th>\n",
       "      <td>2</td>\n",
       "      <td>PID</td>\n",
       "      <td>TEXT</td>\n",
       "      <td>0</td>\n",
       "      <td>None</td>\n",
       "      <td>0</td>\n",
       "    </tr>\n",
       "    <tr>\n",
       "      <th>3</th>\n",
       "      <td>3</td>\n",
       "      <td>ID</td>\n",
       "      <td>INTEGER</td>\n",
       "      <td>0</td>\n",
       "      <td>None</td>\n",
       "      <td>0</td>\n",
       "    </tr>\n",
       "  </tbody>\n",
       "</table>\n",
       "</div>"
      ],
      "text/plain": [
       "   cid   name     type  notnull dflt_value  pk\n",
       "0    0  index  INTEGER        0       None   0\n",
       "1    1    MID     TEXT        0       None   0\n",
       "2    2    PID     TEXT        0       None   0\n",
       "3    3     ID  INTEGER        0       None   0"
      ]
     },
     "metadata": {},
     "output_type": "display_data"
    },
    {
     "name": "stdout",
     "output_type": "stream",
     "text": [
      "----------------------------------------------------------------------------------------------------\n",
      "\n",
      "\n",
      "Schema of M_Cast\n"
     ]
    },
    {
     "data": {
      "text/html": [
       "<div>\n",
       "<style scoped>\n",
       "    .dataframe tbody tr th:only-of-type {\n",
       "        vertical-align: middle;\n",
       "    }\n",
       "\n",
       "    .dataframe tbody tr th {\n",
       "        vertical-align: top;\n",
       "    }\n",
       "\n",
       "    .dataframe thead th {\n",
       "        text-align: right;\n",
       "    }\n",
       "</style>\n",
       "<table border=\"1\" class=\"dataframe\">\n",
       "  <thead>\n",
       "    <tr style=\"text-align: right;\">\n",
       "      <th></th>\n",
       "      <th>cid</th>\n",
       "      <th>name</th>\n",
       "      <th>type</th>\n",
       "      <th>notnull</th>\n",
       "      <th>dflt_value</th>\n",
       "      <th>pk</th>\n",
       "    </tr>\n",
       "  </thead>\n",
       "  <tbody>\n",
       "    <tr>\n",
       "      <th>0</th>\n",
       "      <td>0</td>\n",
       "      <td>index</td>\n",
       "      <td>INTEGER</td>\n",
       "      <td>0</td>\n",
       "      <td>None</td>\n",
       "      <td>0</td>\n",
       "    </tr>\n",
       "    <tr>\n",
       "      <th>1</th>\n",
       "      <td>1</td>\n",
       "      <td>MID</td>\n",
       "      <td>TEXT</td>\n",
       "      <td>0</td>\n",
       "      <td>None</td>\n",
       "      <td>0</td>\n",
       "    </tr>\n",
       "    <tr>\n",
       "      <th>2</th>\n",
       "      <td>2</td>\n",
       "      <td>PID</td>\n",
       "      <td>TEXT</td>\n",
       "      <td>0</td>\n",
       "      <td>None</td>\n",
       "      <td>0</td>\n",
       "    </tr>\n",
       "    <tr>\n",
       "      <th>3</th>\n",
       "      <td>3</td>\n",
       "      <td>ID</td>\n",
       "      <td>INTEGER</td>\n",
       "      <td>0</td>\n",
       "      <td>None</td>\n",
       "      <td>0</td>\n",
       "    </tr>\n",
       "  </tbody>\n",
       "</table>\n",
       "</div>"
      ],
      "text/plain": [
       "   cid   name     type  notnull dflt_value  pk\n",
       "0    0  index  INTEGER        0       None   0\n",
       "1    1    MID     TEXT        0       None   0\n",
       "2    2    PID     TEXT        0       None   0\n",
       "3    3     ID  INTEGER        0       None   0"
      ]
     },
     "metadata": {},
     "output_type": "display_data"
    },
    {
     "name": "stdout",
     "output_type": "stream",
     "text": [
      "----------------------------------------------------------------------------------------------------\n",
      "\n",
      "\n"
     ]
    }
   ],
   "source": [
    "for table in tables:\n",
    "    query = \"PRAGMA TABLE_INFO({})\".format(table)\n",
    "    schema = pd.read_sql_query(query,conn)\n",
    "    print(\"Schema of\",table)\n",
    "    display(schema)\n",
    "    print(\"-\"*100)\n",
    "    print(\"\\n\")"
   ]
  },
  {
   "cell_type": "markdown",
   "metadata": {
    "id": "O4Cj0Wdz23tA"
   },
   "source": [
    "## Useful tips:\n",
    "\n",
    "1. the year column in 'Movie' table, will have few chracters other than numbers which you need to be preprocessed, you need to get a substring of last 4 characters, its better if you convert it as int type, ex: CAST(SUBSTR(TRIM(m.year),-4) AS INTEGER)\n",
    "\n",
    "2. For almost all the TEXT columns we have show, please try to remove trailing spaces, you need to use TRIM() function\n",
    "\n",
    "3. When you are doing count(coulmn) it won't consider the \"NULL\" values, you might need to explore other alternatives like Count(*)"
   ]
  },
  {
   "cell_type": "markdown",
   "metadata": {
    "id": "jL9AmM3oE_IZ"
   },
   "source": [
    "## Q1 --- List all the directors who directed a 'Comedy' movie in a leap year. (You need to check that the genre is 'Comedy’ and year is a leap year) Your query should return director name, the movie name, and the year."
   ]
  },
  {
   "cell_type": "markdown",
   "metadata": {
    "id": "1jglmxDuE_Ib"
   },
   "source": [
    "<h4>To determine whether a year is a leap year, follow these steps:</h4>\n",
    "\n",
    "<ul>\n",
    "    <li><b>STEP-1:</b> If the year is evenly divisible by 4, go to step 2. Otherwise, go to step 5.</li>\n",
    "    <li><b>STEP-2:</b> If the year is evenly divisible by 100, go to step 3. Otherwise, go to step 4.</li>\n",
    "    <li><b>STEP-3:</b> If the year is evenly divisible by 400, go to step 4. Otherwise, go to step 5.</li>\n",
    "    <li><b>STEP-4:</b> The year is a leap year (it has 366 days).</li>\n",
    "    <li><b>STEP-5:</b> The year is not a leap year (it has 365 days).</li>\n",
    "</ul>\n",
    "\n",
    "Year 1900 is divisible by 4 and 100 but it is not divisible by 400, so it is not a leap year."
   ]
  },
  {
   "cell_type": "code",
   "execution_count": 6,
   "metadata": {
    "colab": {
     "base_uri": "https://localhost:8080/",
     "height": 606
    },
    "executionInfo": {
     "elapsed": 1695,
     "status": "error",
     "timestamp": 1600088797006,
     "user": {
      "displayName": "Applied AI Course",
      "photoUrl": "https://lh3.googleusercontent.com/a-/AOh14GhuSQ5tWcMSEyUXWi5GYagbq0BttLJf6r6PPxrB=s64",
      "userId": "00484516897554883881"
     },
     "user_tz": -330
    },
    "id": "yBo_pMrH23tD",
    "outputId": "cebe75ec-12f2-499f-854d-d33f2ab3a766"
   },
   "outputs": [
    {
     "name": "stdout",
     "output_type": "stream",
     "text": [
      "                Name                              title  year\n",
      "0       Milap Zaveri                         Mastizaade  2016\n",
      "1       Danny Leiner  Harold & Kumar Go to White Castle  2004\n",
      "2     Anurag Kashyap                 Gangs of Wasseypur  2012\n",
      "3       Frank Coraci        Around the World in 80 Days  2004\n",
      "4      Griffin Dunne             The Accidental Husband  2008\n",
      "5        Anurag Basu                             Barfi!  2012\n",
      "6    Gurinder Chadha                  Bride & Prejudice  2004\n",
      "7         Mike Judge    Beavis and Butt-Head Do America  1996\n",
      "8   Tarun Mansukhani                            Dostana  2008\n",
      "9       Shakun Batra                      Kapoor & Sons  2016\n",
      "CPU times: user 64.6 ms, sys: 11.9 ms, total: 76.5 ms\n",
      "Wall time: 71.9 ms\n"
     ]
    }
   ],
   "source": [
    "%%time\n",
    "def grader_1(q1):\n",
    "    q1_results  = pd.read_sql_query(q1,conn)\n",
    "    print(q1_results.head(10))\n",
    "#     print(q1_results.shape)\n",
    "    assert (q1_results.shape == (232,3))\n",
    "    \n",
    "query1 = \"\"\"SELECT p.Name, m.title, m.year\n",
    "            FROM Movie m\n",
    "            JOIN M_Director mD \n",
    "                ON mD.MID = m.MID\n",
    "            JOIN Person p\n",
    "                ON mD.PID = p.PID\n",
    "            WHERE m.MID IN\n",
    "                (SELECT MID FROM M_Genre\n",
    "                    WHERE GID IN\n",
    "                        (SELECT GID FROM Genre\n",
    "                            WHERE Name LIKE '%Comedy%'))\n",
    "            AND ((CAST(SUBSTR(TRIM(m.year),-4) AS INTEGER) % 4 = 0)\n",
    "            AND (CAST(SUBSTR(TRIM(m.year),-4) AS INTEGER) % 100 <> 0)\n",
    "            OR  (CAST(SUBSTR(TRIM(m.year),-4) AS INTEGER) % 400 = 0 ))\n",
    "            \"\"\"\n",
    "\n",
    "grader_1(query1)"
   ]
  },
  {
   "cell_type": "markdown",
   "metadata": {
    "id": "LHFSrIJlE_Ih"
   },
   "source": [
    "## Q2 --- List the names of all the actors who played in the movie 'Anand' (1971)"
   ]
  },
  {
   "cell_type": "code",
   "execution_count": 7,
   "metadata": {
    "id": "5BSQOVlk23tS",
    "outputId": "c3752139-c22a-46d8-f0eb-0c23ffce7bf3",
    "scrolled": true
   },
   "outputs": [
    {
     "name": "stdout",
     "output_type": "stream",
     "text": [
      "          Actor_Name\n",
      "0   Amitabh Bachchan\n",
      "1      Rajesh Khanna\n",
      "2      Sumita Sanyal\n",
      "3         Ramesh Deo\n",
      "4          Seema Deo\n",
      "5     Asit Kumar Sen\n",
      "6         Dev Kishan\n",
      "7       Atam Prakash\n",
      "8      Lalita Kumari\n",
      "9             Savita\n",
      "CPU times: user 16 ms, sys: 0 ns, total: 16 ms\n",
      "Wall time: 14.6 ms\n"
     ]
    }
   ],
   "source": [
    "%%time\n",
    "def grader_2(q2):\n",
    "    q2_results  = pd.read_sql_query(q2,conn)\n",
    "    print(q2_results.head(10))\n",
    "    assert (q2_results.shape == (17,1))\n",
    "\n",
    "query2 = \"\"\"\n",
    "         SELECT Name Actor_Name FROM Person p \n",
    "         WHERE PID IN (\n",
    "             SELECT TRIM(PID) FROM M_Cast\n",
    "         WHERE M_Cast.MID IN\n",
    "             (SELECT TRIM(MID) FROM Movie\n",
    "         WHERE title ='Anand'))\n",
    "         \"\"\"\n",
    "\n",
    "grader_2(query2)"
   ]
  },
  {
   "cell_type": "markdown",
   "metadata": {
    "id": "bJ-mAUMmE_Il"
   },
   "source": [
    "## Q3 --- List all the actors who acted in a film before 1970 and in a film after 1990. (That is: < 1970 and > 1990.)"
   ]
  },
  {
   "cell_type": "code",
   "execution_count": 8,
   "metadata": {
    "colab": {
     "base_uri": "https://localhost:8080/"
    },
    "executionInfo": {
     "elapsed": 1054,
     "status": "ok",
     "timestamp": 1609074911453,
     "user": {
      "displayName": "Applied AI Course",
      "photoUrl": "https://lh3.googleusercontent.com/a-/AOh14GhuSQ5tWcMSEyUXWi5GYagbq0BttLJf6r6PPxrB=s64",
      "userId": "00484516897554883881"
     },
     "user_tz": -330
    },
    "id": "HARXLaJ623tY",
    "outputId": "8f4788df-84e8-42b9-b535-520f546e3348"
   },
   "outputs": [
    {
     "name": "stdout",
     "output_type": "stream",
     "text": [
      "(4942, 1)\n",
      "(62570, 1)\n",
      "True\n",
      "CPU times: user 169 ms, sys: 4.19 ms, total: 173 ms\n",
      "Wall time: 170 ms\n"
     ]
    }
   ],
   "source": [
    "%%time\n",
    "\n",
    "def grader_3a(query_less_1970, query_more_1990):\n",
    "    q3_a = pd.read_sql_query(query_less_1970,conn)\n",
    "    print(q3_a.shape)\n",
    "    q3_b = pd.read_sql_query(query_more_1990,conn)\n",
    "    print(q3_b.shape)\n",
    "    return (q3_a.shape == (4942,1)) and (q3_b.shape == (62570,1))\n",
    "\n",
    "query_less_1970 =\"\"\" \n",
    "Select p.PID from Person p \n",
    "inner join \n",
    "(\n",
    "    select trim(mc.PID) PD, mc.MID from M_cast mc \n",
    "where mc.MID \n",
    "in \n",
    "(\n",
    "    select mv.MID from Movie mv where CAST(SUBSTR(mv.year,-4) AS Integer)<1970\n",
    ")\n",
    ") r1 \n",
    "on r1.PD=p.PID \n",
    "\"\"\"\n",
    "query_more_1990 =\"\"\" \n",
    "Select p.PID from Person p \n",
    "inner join \n",
    "(\n",
    "    select trim(mc.PID) PD, mc.MID from M_cast mc \n",
    "where mc.MID \n",
    "in \n",
    "(\n",
    "    select mv.MID from Movie mv where CAST(SUBSTR(mv.year,-4) AS Integer)>1990\n",
    ")\n",
    ") r1 \n",
    "on r1.PD=p.PID \"\"\"\n",
    "print(grader_3a(query_less_1970, query_more_1990))\n",
    "\n",
    "# using the above two queries, you can find the answer to the given question "
   ]
  },
  {
   "cell_type": "code",
   "execution_count": 9,
   "metadata": {
    "id": "sbzv0UZZ23td",
    "outputId": "2882b0b2-b49f-4203-dc67-2c0f7547bdc2"
   },
   "outputs": [
    {
     "name": "stdout",
     "output_type": "stream",
     "text": [
      "         Actor_Name\n",
      "0      Rishi Kapoor\n",
      "1  Amitabh Bachchan\n",
      "2            Asrani\n",
      "3      Zohra Sehgal\n",
      "4   Parikshat Sahni\n",
      "5     Rakesh Sharma\n",
      "6       Sanjay Dutt\n",
      "7         Ric Young\n",
      "8             Yusuf\n",
      "9    Suhasini Mulay\n",
      "CPU times: user 201 ms, sys: 9.14 ms, total: 210 ms\n",
      "Wall time: 208 ms\n"
     ]
    }
   ],
   "source": [
    "%%time\n",
    "\n",
    "def grader_3(q3):\n",
    "    q3_results  = pd.read_sql_query(q3,conn)\n",
    "    print(q3_results.head(10))\n",
    "    assert (q3_results.shape == (300,1))\n",
    "           \n",
    "query3 = \"\"\"\n",
    "            SELECT DISTINCT TRIM(p.Name) Actor_Name FROM\n",
    "                (SELECT DISTINCT TRIM(MC.PID) PID FROM Movie M\n",
    "                JOIN M_Cast MC ON M.MID = MC.MID\n",
    "                WHERE CAST(SUBSTR(M.year,-4) AS Integer) < 1970) l_1970\n",
    "            JOIN\n",
    "                (SELECT DISTINCT TRIM(MC.PID) PID FROM Movie M\n",
    "                JOIN M_Cast MC ON M.MID = MC.MID\n",
    "                WHERE CAST(SUBSTR(M.year,-4) AS Integer) > 1990) g_1990\n",
    "            ON l_1970.PID = g_1990.PID\n",
    "            JOIN Person P\n",
    "            ON l_1970.PID = TRIM(P.PID)\n",
    "            \"\"\"\n",
    "\n",
    "# https://youtu.be/_SanZ41uTlw\n",
    "# https://youtu.be/vLjAG9eXkcU\n",
    "\n",
    "query3 = \"\"\"\n",
    "         WITH\n",
    "         before_1970 AS (\n",
    "         SELECT DISTINCT TRIM(MC.PID) PID FROM Movie M\n",
    "             JOIN M_Cast MC ON M.MID = MC.MID\n",
    "             WHERE CAST(SUBSTR(M.year,-4) AS Integer) < 1970),\n",
    "             \n",
    "         after_1990 AS (\n",
    "         SELECT DISTINCT TRIM(MC.PID) PID FROM Movie M\n",
    "             JOIN M_Cast MC ON M.MID = MC.MID\n",
    "             WHERE CAST(SUBSTR(M.year,-4) AS Integer) > 1990)\n",
    "             \n",
    "         SELECT DISTINCT TRIM(p.Name) Actor_Name FROM before_1970\n",
    "         JOIN after_1990\n",
    "         ON before_1970.PID = after_1990.PID\n",
    "         JOIN Person P\n",
    "         ON before_1970.PID = TRIM(P.PID)\n",
    "         \"\"\"\n",
    "\n",
    "\n",
    "grader_3(query3)"
   ]
  },
  {
   "cell_type": "markdown",
   "metadata": {
    "id": "wd3tqFxaE_Ir"
   },
   "source": [
    "## Q4 --- List all directors who directed 10 movies or more, in descending order of the number of movies they directed. Return the directors' names and the number of movies each of them directed."
   ]
  },
  {
   "cell_type": "code",
   "execution_count": 10,
   "metadata": {
    "id": "aGgqAYk723th",
    "outputId": "8451f009-5585-43c6-f3bd-ae9aef0ede4a"
   },
   "outputs": [
    {
     "name": "stdout",
     "output_type": "stream",
     "text": [
      "         PID  Movie_Cout\n",
      "0  nm0000180           1\n",
      "1  nm0000187           1\n",
      "2  nm0000229           1\n",
      "3  nm0000269           1\n",
      "4  nm0000386           1\n",
      "5  nm0000487           2\n",
      "6  nm0000965           1\n",
      "7  nm0001060           1\n",
      "8  nm0001162           1\n",
      "9  nm0001241           1\n",
      "True\n",
      "CPU times: user 5.55 ms, sys: 403 µs, total: 5.95 ms\n",
      "Wall time: 4.51 ms\n"
     ]
    }
   ],
   "source": [
    "%%time\n",
    "\n",
    "def grader_4a(query_4a):\n",
    "    query_4a = pd.read_sql_query(query_4a,conn)\n",
    "    print(query_4a.head(10)) \n",
    "    return (query_4a.shape == (1462,2))\n",
    "\n",
    "query_4a = \"\"\"\n",
    "           SELECT PID, COUNT(MID) Movie_Cout FROM M_Director\n",
    "           GROUP BY PID\n",
    "           \"\"\"\n",
    "\n",
    "print(grader_4a(query_4a))\n",
    "\n",
    "# using the above query, you can write the answer to the given question"
   ]
  },
  {
   "cell_type": "code",
   "execution_count": 11,
   "metadata": {
    "id": "xROoSzcF23tn",
    "outputId": "76366cff-58f5-4d83-d58b-017c0f7afc58"
   },
   "outputs": [
    {
     "name": "stdout",
     "output_type": "stream",
     "text": [
      "           Director_Name  Movie_Count\n",
      "0           David Dhawan           39\n",
      "1           Mahesh Bhatt           35\n",
      "2        Ram Gopal Varma           30\n",
      "3           Priyadarshan           30\n",
      "4           Vikram Bhatt           29\n",
      "5   Hrishikesh Mukherjee           27\n",
      "6            Yash Chopra           21\n",
      "7         Shakti Samanta           19\n",
      "8        Basu Chatterjee           19\n",
      "9           Subhash Ghai           18\n",
      "CPU times: user 11.4 ms, sys: 0 ns, total: 11.4 ms\n",
      "Wall time: 10.2 ms\n"
     ]
    }
   ],
   "source": [
    "%%time\n",
    "def grader_4(q4):\n",
    "    q4_results  = pd.read_sql_query(q4,conn)\n",
    "    print(q4_results.head(10))\n",
    "    assert (q4_results.shape == (58,2))\n",
    "\n",
    "query4 = \"\"\"\n",
    "         WITH\n",
    "         dir_mov_count AS (\n",
    "         SELECT PID, COUNT(MID) AS Movie_Cout FROM M_Director\n",
    "         GROUP BY PID HAVING Movie_Cout >= 10)\n",
    "         \n",
    "         SELECT DISTINCT(p.Name) Director_Name, dmc.Movie_Cout Movie_Count\n",
    "         FROM dir_mov_count dmc\n",
    "         JOIN Person p\n",
    "         ON p.PID = dmc.PID\n",
    "         ORDER BY dmc.Movie_Cout DESC\n",
    "         \"\"\"\n",
    "\n",
    "grader_4(query4)"
   ]
  },
  {
   "cell_type": "markdown",
   "metadata": {
    "id": "OnulNpiOE_Iw"
   },
   "source": [
    "## Q5.a --- For each year, count the number of movies in that year that had only female actors."
   ]
  },
  {
   "cell_type": "code",
   "execution_count": 12,
   "metadata": {
    "id": "ES-gGiNG23tr",
    "outputId": "05e73aed-8917-4d9f-b746-619d1c48735b"
   },
   "outputs": [
    {
     "name": "stdout",
     "output_type": "stream",
     "text": [
      "         MID  Gender  Count\n",
      "0  tt0021594    None      1\n",
      "1  tt0021594  Female      3\n",
      "2  tt0021594    Male      5\n",
      "3  tt0026274    None      2\n",
      "4  tt0026274  Female     11\n",
      "5  tt0026274    Male      9\n",
      "6  tt0027256    None      2\n",
      "7  tt0027256  Female      5\n",
      "8  tt0027256    Male      8\n",
      "9  tt0028217  Female      3\n",
      "True\n",
      "\n",
      " =========================== \n",
      "\n",
      "         MID Gender  Count\n",
      "0  tt0021594   Male      5\n",
      "1  tt0026274   Male      9\n",
      "2  tt0027256   Male      8\n",
      "3  tt0028217   Male      7\n",
      "4  tt0031580   Male     27\n",
      "5  tt0033616   Male     46\n",
      "6  tt0036077   Male     11\n",
      "7  tt0038491   Male      7\n",
      "8  tt0039654   Male      6\n",
      "9  tt0040067   Male     10\n",
      "True\n",
      "CPU times: user 252 ms, sys: 9.69 ms, total: 261 ms\n",
      "Wall time: 259 ms\n"
     ]
    }
   ],
   "source": [
    "%%time\n",
    "\n",
    "# note that you don't need TRIM for person table\n",
    "\n",
    "def grader_5aa(query_5aa):\n",
    "    query_5aa = pd.read_sql_query(query_5aa,conn)\n",
    "    print(query_5aa.head(10)) \n",
    "    return (query_5aa.shape == (8846,3))\n",
    "\n",
    "query_5aa = \"\"\"\n",
    "            WITH\n",
    "            mc_m AS\n",
    "            (SELECT * FROM M_Cast mc\n",
    "            WHERE MID IN\n",
    "            (SELECT TRIM(MID) FROM Movie))\n",
    "            \n",
    "            SELECT MID, Gender, COUNT(*) AS Count FROM Person p\n",
    "            JOIN mc_m\n",
    "            ON\n",
    "            TRIM(mc_m.PID) = p.PID\n",
    "            GROUP BY MID, Gender\n",
    "            \"\"\"\n",
    "\n",
    "print(grader_5aa(query_5aa))\n",
    "print('\\n','=' * 27, '\\n')\n",
    "\n",
    "def grader_5ab(query_5ab):\n",
    "    query_5ab = pd.read_sql_query(query_5ab,conn)\n",
    "    print(query_5ab.head(10)) \n",
    "    return (query_5ab.shape == (3469, 3))\n",
    "\n",
    "query_5ab = \"\"\"\n",
    "            WITH\n",
    "            mc_m AS\n",
    "            (SELECT * FROM M_Cast mc\n",
    "            WHERE MID IN\n",
    "            (SELECT TRIM(MID) FROM Movie))\n",
    "            \n",
    "            SELECT MID, Gender, COUNT(*) AS Count FROM Person p\n",
    "            JOIN mc_m\n",
    "            ON\n",
    "            TRIM(mc_m.PID) = p.PID\n",
    "            WHERE Gender = 'Male'\n",
    "            GROUP BY MID, Gender\n",
    "            \"\"\"\n",
    "\n",
    "print(grader_5ab(query_5ab))\n",
    "\n",
    "# using the above queries, you can write the answer to the given question"
   ]
  },
  {
   "cell_type": "code",
   "execution_count": 13,
   "metadata": {
    "colab": {
     "base_uri": "https://localhost:8080/",
     "height": 153
    },
    "id": "zQOIawPME_Ix",
    "outputId": "48450a58-61f0-4bc6-f71e-ff7df4ab7f80"
   },
   "outputs": [
    {
     "name": "stdout",
     "output_type": "stream",
     "text": [
      "   Year  Female_Cast_Only_Movies\n",
      "0  1939                        1\n",
      "1  1999                        1\n",
      "2  2000                        1\n",
      "3  2018                        1\n",
      "CPU times: user 99.5 ms, sys: 0 ns, total: 99.5 ms\n",
      "Wall time: 98.1 ms\n"
     ]
    }
   ],
   "source": [
    "%%time\n",
    "def grader_5a(q5a):\n",
    "    q5a_results  = pd.read_sql_query(q5a,conn)\n",
    "    print(q5a_results.head(10))\n",
    "    assert (q5a_results.shape == (4,2))\n",
    "            \n",
    "query5a = \"\"\"\n",
    "          WITH\n",
    "          male_nd_none AS\n",
    "          (SELECT DISTINCT(TRIM(mc.MID)) MID FROM M_Cast mc\n",
    "          JOIN Person p\n",
    "          ON TRIM(mc.PID) = p.PID\n",
    "          WHERE\n",
    "          TRIM(p.Gender) = 'Male' OR 'None')\n",
    "\n",
    "          SELECT CAST(SUBSTR(year,-4) AS Integer) Year, COUNT(*) Female_Cast_Only_Movies FROM Movie\n",
    "          WHERE MID NOT IN male_nd_none\n",
    "          GROUP BY Year\n",
    "          ORDER BY Year\n",
    "          \"\"\"\n",
    "\n",
    "grader_5a(query5a)"
   ]
  },
  {
   "cell_type": "markdown",
   "metadata": {
    "id": "cTiKejUfE_I1"
   },
   "source": [
    "## Q5.b --- Now include a small change: report for each year the percentage of movies in that year with only female actors, and the total number of movies made that year. For example, one answer will be: 1990 31.81 13522 meaning that in 1990 there were 13,522 movies, and 31.81% had only female actors. You do not need to round your answer."
   ]
  },
  {
   "cell_type": "code",
   "execution_count": 14,
   "metadata": {
    "colab": {
     "base_uri": "https://localhost:8080/",
     "height": 153
    },
    "id": "Xv6iXvcZE_I2",
    "outputId": "16958703-8f35-40d8-8489-b7269cde2d70",
    "scrolled": true
   },
   "outputs": [
    {
     "name": "stdout",
     "output_type": "stream",
     "text": [
      "   Year  Percentage_Female_Only_Movie  Total_Movies\n",
      "0  1939                      0.500000             2\n",
      "1  1999                      0.015152            66\n",
      "2  2000                      0.015625            64\n",
      "3  2018                      0.009615           104\n",
      "(4, 3)\n",
      "CPU times: user 100 ms, sys: 5.65 ms, total: 106 ms\n",
      "Wall time: 103 ms\n"
     ]
    }
   ],
   "source": [
    "%%time\n",
    "def grader_5b(q5b):\n",
    "    q5b_results  = pd.read_sql_query(q5b,conn)\n",
    "    print(q5b_results.head(10))\n",
    "    print(q5b_results.shape)\n",
    "    assert (q5b_results.shape == (4,3))\n",
    "\n",
    "# Reference\n",
    "'''\n",
    "https://social.msdn.microsoft.com/Forums/sqlserver/en-US/4cf91f5a\n",
    "-9c22-451a-8811-dc6621fe365f/how-to-get-values-with-decimals-when-dividing-2-integers-in-tsql?\n",
    "forum=sqlintegrationservices\n",
    "'''\n",
    "query5b = \"\"\"\n",
    "   WITH\n",
    "   male_nd_none AS\n",
    "   (SELECT DISTINCT(TRIM(mc.MID)) MID FROM M_Cast mc\n",
    "   JOIN Person p\n",
    "   ON TRIM(mc.PID) = p.PID\n",
    "   WHERE\n",
    "   TRIM(p.Gender) = 'Male' OR 'None'),\n",
    "   \n",
    "   year_female AS \n",
    "   (SELECT CAST(SUBSTR(year,-4) AS Integer) Year, COUNT(*) Female_Cast_Only\n",
    "   FROM Movie\n",
    "   WHERE MID NOT IN male_nd_none\n",
    "   GROUP BY Year),\n",
    "   \n",
    "   total_movie AS \n",
    "   (SELECT year, COUNT(*) Total_Movies FROM Movie\n",
    "   WHERE CAST(SUBSTR(year,-4) AS Integer)\n",
    "   IN\n",
    "   (SELECT Year FROM year_female)\n",
    "   GROUP BY CAST(SUBSTR(year,-4) AS Integer))             \n",
    "   \n",
    "   SELECT tm.year Year,\n",
    "   CAST(ym.Female_Cast_Only AS FLOAT) / CAST (tm.Total_Movies AS FLOAT) Percentage_Female_Only_Movie,\n",
    "   tm.total_movies\n",
    "   FROM total_movie tm\n",
    "   JOIN year_female ym\n",
    "   ON ym.year = tm.year\n",
    "          \"\"\"\n",
    "\n",
    "grader_5b(query5b)"
   ]
  },
  {
   "cell_type": "markdown",
   "metadata": {
    "id": "d5mvJcHDE_I6"
   },
   "source": [
    "## Q6 --- Find the film(s) with the largest cast. Return the movie title and the size of the cast. By \"cast size\" we mean the number of distinct actors that played in that movie: if an actor played multiple roles, or if it simply occurs multiple times in casts, we still count her/him only once."
   ]
  },
  {
   "cell_type": "code",
   "execution_count": 15,
   "metadata": {
    "colab": {
     "base_uri": "https://localhost:8080/",
     "height": 255
    },
    "id": "vpr9gGg6E_I7",
    "outputId": "bceec796-502e-4bb1-ce5e-0f8eb703e2f5"
   },
   "outputs": [
    {
     "name": "stdout",
     "output_type": "stream",
     "text": [
      "                        title  Cast_Count\n",
      "0               Ocean's Eight         238\n",
      "1                    Apaharan         233\n",
      "2                        Gold         215\n",
      "3             My Name Is Khan         213\n",
      "4  Captain America: Civil War         191\n",
      "5                    Geostorm         170\n",
      "6                     Striker         165\n",
      "7                        2012         154\n",
      "8                      Pixels         144\n",
      "9       Yamla Pagla Deewana 2         140\n",
      "CPU times: user 50.6 ms, sys: 1.2 ms, total: 51.8 ms\n",
      "Wall time: 50.1 ms\n"
     ]
    }
   ],
   "source": [
    "%%time\n",
    "\n",
    "def grader_6(q6):\n",
    "    q6_results  = pd.read_sql_query(q6,conn)\n",
    "    print(q6_results.head(10))\n",
    "    assert (q6_results.shape == (3473, 2))\n",
    "\n",
    "query6 = \"\"\"\n",
    "         WITH\n",
    "         \n",
    "         Cast_Count AS (\n",
    "         SELECT MID,COUNT(DISTINCT(PID)) Cast_Count FROM M_Cast\n",
    "         GROUP BY MID)\n",
    "\n",
    "         SELECT m.title, cc.Cast_Count FROM Movie m\n",
    "         JOIN Cast_Count cc\n",
    "         ON m.MID = cc.MID\n",
    "         ORDER BY cc.Cast_Count DESC\n",
    "         \"\"\"\n",
    "\n",
    "grader_6(query6)"
   ]
  },
  {
   "cell_type": "markdown",
   "metadata": {
    "id": "E6mOLxNgTby6"
   },
   "source": [
    "### Q7 --- A decade is a sequence of 10 consecutive years. \n",
    "### For example, say in your database you have movie information starting from 1931. \n",
    "### the first decade is 1931, 1932, ..., 1940,\n",
    "### the second decade is 1932, 1933, ..., 1941 and so on. \n",
    "### Find the decade D with the largest number of films and the total number of films in D"
   ]
  },
  {
   "cell_type": "code",
   "execution_count": 16,
   "metadata": {
    "id": "ZfOWt8IW23uE",
    "outputId": "2f06e789-9f45-44ed-d1d7-d628170bb6c5"
   },
   "outputs": [
    {
     "name": "stdout",
     "output_type": "stream",
     "text": [
      "  Movie_Year  Total_Movies\n",
      "0       1931             1\n",
      "1       1936             3\n",
      "2       1939             2\n",
      "3       1941             1\n",
      "4       1943             1\n",
      "5       1946             2\n",
      "6       1947             2\n",
      "7       1948             3\n",
      "8       1949             3\n",
      "9       1950             2\n",
      "CPU times: user 4.2 ms, sys: 79 µs, total: 4.28 ms\n",
      "Wall time: 3.49 ms\n"
     ]
    }
   ],
   "source": [
    "%%time\n",
    "def grader_7a(q7a):\n",
    "    q7a_results  = pd.read_sql_query(q7a,conn)\n",
    "    print(q7a_results.head(10))\n",
    "    assert (q7a_results.shape == (78, 2))\n",
    "\n",
    "query7a = \"\"\"\n",
    "          SELECT year AS Movie_Year, COUNT(*) AS Total_Movies FROM Movie\n",
    "          GROUP BY CAST(SUBSTR(TRIM(year),-4) AS INTEGER)\n",
    "          \"\"\"\n",
    "\n",
    "grader_7a(query7a)"
   ]
  },
  {
   "cell_type": "code",
   "execution_count": 17,
   "metadata": {
    "id": "sBMzLrIY23uJ",
    "outputId": "6f40ad73-684a-44f9-a7ce-c0ec253df7e7"
   },
   "outputs": [
    {
     "name": "stdout",
     "output_type": "stream",
     "text": [
      "  Movie_Year  Total_Movies Movie_Year  Total_Movies\n",
      "0       1931             1       1931             1\n",
      "1       1931             1       1936             3\n",
      "2       1931             1       1939             2\n",
      "3       1936             3       1936             3\n",
      "4       1936             3       1939             2\n",
      "5       1936             3       1941             1\n",
      "6       1936             3       1943             1\n",
      "7       1939             2       1939             2\n",
      "8       1939             2       1941             1\n",
      "9       1939             2       1943             1\n",
      "CPU times: user 7.17 ms, sys: 0 ns, total: 7.17 ms\n",
      "Wall time: 6.2 ms\n"
     ]
    }
   ],
   "source": [
    "%%time\n",
    "def grader_7b(q7b):\n",
    "    q7b_results  = pd.read_sql_query(q7b,conn)\n",
    "    print(q7b_results.head(10))\n",
    "    assert (q7b_results.shape == (713, 4))\n",
    "\n",
    "\"\"\"   \n",
    "    *** \n",
    "    Write a query that will do joining of the above table(7a) with itself \n",
    "    such that you will join with only rows if the second tables year is <= current_year+9\n",
    "    and more than or equal current_year\n",
    "    *** \n",
    "\"\"\"\n",
    "\n",
    "# select year, count(*) as total_movies from Movie group by year\n",
    "# select year, count(*) as total_movies from Movie group by year\n",
    "# select step1.year, step1.totalmovies, step2.year, step2.totalmovies FROM step1\n",
    "# join step2 where step2.year <= step1.year+9 AND step2.year >= step1.year\n",
    "\n",
    "query7b = \"\"\"\n",
    "          WITH\n",
    "          year_total AS\n",
    "          (SELECT year AS Movie_Year, COUNT(*) AS Total_Movies FROM Movie\n",
    "          GROUP BY year)\n",
    "            \n",
    "          SELECT * FROM year_total yt_1\n",
    "          JOIN year_total yt_2\n",
    "          ON (yt_2.Movie_Year <= yt_1.Movie_Year+9  AND\n",
    "                yt_2.Movie_Year >= yt_1.Movie_Year)\n",
    "          \"\"\"\n",
    "\n",
    "query7b = \"\"\"\n",
    "          WITH\n",
    "          year_total AS\n",
    "          (SELECT year AS Movie_Year, COUNT(*) AS Total_Movies FROM Movie\n",
    "          GROUP BY year)\n",
    "            \n",
    "          SELECT * FROM year_total yt_1\n",
    "          JOIN year_total yt_2\n",
    "          WHERE (yt_2.Movie_Year <= yt_1.Movie_Year+9  AND\n",
    "                yt_2.Movie_Year >= yt_1.Movie_Year)\n",
    "          \"\"\"\n",
    "\n",
    "grader_7b(query7b)"
   ]
  },
  {
   "cell_type": "code",
   "execution_count": 18,
   "metadata": {
    "colab": {
     "base_uri": "https://localhost:8080/",
     "height": 255
    },
    "id": "NKqbguuqE_JA",
    "outputId": "2819ceef-0787-45f9-c38f-9648ccf787f0"
   },
   "outputs": [
    {
     "name": "stdout",
     "output_type": "stream",
     "text": [
      "   Decade_Movie_Count Decade\n",
      "0                1203   2008\n",
      "CPU times: user 83.5 ms, sys: 0 ns, total: 83.5 ms\n",
      "Wall time: 82.3 ms\n"
     ]
    }
   ],
   "source": [
    "%%time\n",
    "def grader_7(q7):\n",
    "    q7_results  = pd.read_sql_query(q7,conn)\n",
    "    print(q7_results.head(10))\n",
    "    assert (q7_results.shape == (1, 2))\n",
    "\n",
    "query7A = \"\"\"          \n",
    "          WITH\n",
    "          year_ AS\n",
    "          (SELECT DISTINCT(year) year FROM Movie)\n",
    "            \n",
    "          SELECT COUNT(*) AS Decade_Movie_Count, yt.year AS Decade FROM year_ yt\n",
    "          JOIN Movie m\n",
    "          ON (CAST(SUBSTR(m.year,-4) AS Integer) <= yt.year+9  AND\n",
    "                  CAST(SUBSTR(m.year,-4) AS Integer) >= Decade)\n",
    "          GROUP BY yt.year+9\n",
    "          ORDER BY COUNT(*) DESC\n",
    "          LIMIT 1\n",
    "          \"\"\"\n",
    "\n",
    "grader_7(query7A)\n",
    "# if you check the output we are printinng all the year in that decade,\n",
    "# its fine you can print 2008 or 2008-2017"
   ]
  },
  {
   "cell_type": "markdown",
   "metadata": {
    "id": "Jbm3Oy3hT8d9"
   },
   "source": [
    "## Q8 --- Find all the actors that made more movies with Yash Chopra than any other director."
   ]
  },
  {
   "cell_type": "code",
   "execution_count": 19,
   "metadata": {
    "id": "DZJ7WMrk23uR",
    "outputId": "6f379ab4-bfb0-4a2f-dc6a-ae221cb65a0e"
   },
   "outputs": [
    {
     "name": "stdout",
     "output_type": "stream",
     "text": [
      "        actor   director  movies\n",
      "0   nm0000002  nm0496746       1\n",
      "1   nm0000027  nm0000180       1\n",
      "2   nm0000039  nm0896533       1\n",
      "3   nm0000042  nm0896533       1\n",
      "4   nm0000047  nm0004292       1\n",
      "5   nm0000073  nm0485943       1\n",
      "6   nm0000076  nm0000229       1\n",
      "7   nm0000092  nm0178997       1\n",
      "8   nm0000093  nm0000269       1\n",
      "9   nm0000096  nm0113819       1\n",
      "CPU times: user 169 ms, sys: 7.83 ms, total: 177 ms\n",
      "Wall time: 175 ms\n"
     ]
    }
   ],
   "source": [
    "%%time\n",
    "def grader_8a(q8a):\n",
    "    q8a_results  = pd.read_sql_query(q8a,conn)\n",
    "    print(q8a_results.head(10))\n",
    "    assert (q8a_results.shape == (73408, 3))\n",
    "\n",
    "query8a = \"\"\"\n",
    "          SELECT mc.PID AS actor, md.PID AS director, COUNT(*) AS movies FROM M_Cast mc\n",
    "          JOIN M_Director md\n",
    "          ON md.MID = TRIM(mc.MID)\n",
    "          GROUP BY actor, director\n",
    "          ORDER BY actor, director\n",
    "          \"\"\"\n",
    "grader_8a(query8a)"
   ]
  },
  {
   "cell_type": "code",
   "execution_count": 20,
   "metadata": {
    "colab": {
     "base_uri": "https://localhost:8080/",
     "height": 255
    },
    "id": "SYMTcHixE_JH",
    "outputId": "8cc98748-cc3b-4cbf-fa99-3af323f0d094"
   },
   "outputs": [
    {
     "name": "stdout",
     "output_type": "stream",
     "text": [
      "                Name  movies\n",
      "0        Jagdish Raj      11\n",
      "1   Manmohan Krishna      10\n",
      "2           Iftekhar       9\n",
      "3      Shashi Kapoor       7\n",
      "4      Rakhee Gulzar       5\n",
      "5     Waheeda Rehman       5\n",
      "6           Ravikant       4\n",
      "7     Achala Sachdev       4\n",
      "8        Neetu Singh       4\n",
      "9      Leela Chitnis       3\n",
      "(245, 2)\n",
      "CPU times: user 318 ms, sys: 10.2 ms, total: 328 ms\n",
      "Wall time: 326 ms\n"
     ]
    }
   ],
   "source": [
    "%%time\n",
    "\n",
    "# https://stackoverflow.com/a/69602577\n",
    "\n",
    "def grader_8(q8):\n",
    "    \n",
    "    q8_results  = pd.read_sql_query(q8,conn)\n",
    "    print(q8_results.head(10))\n",
    "    print(q8_results.shape)\n",
    "    assert (q8_results.shape == (245, 2))\n",
    "    \n",
    "query8 = \"\"\"\n",
    "            WITH\n",
    "\n",
    "            yash_count AS (\n",
    "            SELECT DISTINCT mc.PID AS actor, COUNT(*) AS movies FROM M_Cast mc\n",
    "            JOIN M_Director md\n",
    "            ON md.MID = mc.MID\n",
    "            WHERE md.PID IN (SELECT PID FROM Person WHERE Name LIKE '%Yash Chopra%')\n",
    "            GROUP BY actor, md.PID\n",
    "            ORDER BY movies DESC),\n",
    "\n",
    "            except_yash AS (\n",
    "            SELECT actor AS actor, MAX(movies) AS movies FROM (\n",
    "            SELECT mc.PID AS actor, COUNT(*) AS movies FROM M_Cast mc\n",
    "            JOIN M_Director md\n",
    "            ON md.MID = mc.MID\n",
    "            WHERE md.PID NOT IN (SELECT PID FROM Person WHERE Name LIKE '%Yash Chopra%')\n",
    "            GROUP BY actor, md.PID\n",
    "            ORDER BY movies DESC)\n",
    "            GROUP BY actor\n",
    "            ORDER BY movies DESC),\n",
    "\n",
    "            final AS (\n",
    "            SELECT yc.actor, yc.movies FROM yash_count yc\n",
    "            LEFT JOIN except_yash ey\n",
    "            ON yc.actor = ey.actor\n",
    "            WHERE (yc.movies >= ey.movies OR ey.movies IS NULL))\n",
    "\n",
    "            SELECT p.Name, f.movies FROM final f\n",
    "            JOIN Person p\n",
    "            ON TRIM(f.actor) = p.PID\n",
    "         \"\"\"\n",
    "         \n",
    "grader_8(query8)"
   ]
  },
  {
   "cell_type": "markdown",
   "metadata": {
    "id": "2j8Fc9jUUJ9C"
   },
   "source": [
    "## Q9 --- The Shahrukh number of an actor is the length of the shortest path between the actor and Shahrukh Khan in the \"co-acting\" graph. That is, Shahrukh Khan has Shahrukh number 0; all actors who acted in the same film as Shahrukh have Shahrukh number 1; all actors who acted in the same film as some actor with Shahrukh number 1 have Shahrukh number 2, etc. Return all actors whose Shahrukh number is 2."
   ]
  },
  {
   "cell_type": "code",
   "execution_count": 21,
   "metadata": {
    "id": "3FnJ_19z23ub",
    "outputId": "c63ac439-ad2b-4aa4-8aeb-dc0245670f34"
   },
   "outputs": [
    {
     "name": "stdout",
     "output_type": "stream",
     "text": [
      "      S1_PID\n",
      "0  nm0004418\n",
      "1  nm1995953\n",
      "2  nm2778261\n",
      "3  nm0631373\n",
      "4  nm0241935\n",
      "5  nm0792116\n",
      "6  nm1300111\n",
      "7  nm0196375\n",
      "8  nm1464837\n",
      "9  nm2868019\n",
      "CPU times: user 49.6 ms, sys: 443 µs, total: 50 ms\n",
      "Wall time: 47.9 ms\n"
     ]
    }
   ],
   "source": [
    "%%time\n",
    "def grader_9a(q9a):\n",
    "    q9a_results  = pd.read_sql_query(q9a,conn)\n",
    "    print(q9a_results.head(10))\n",
    "    assert (q9a_results.shape == (2382, 1))\n",
    "\n",
    "query9a = \"\"\"\n",
    "          WITH\n",
    "\n",
    "          srk_PID AS (\n",
    "          SELECT TRIM(PID) PID_SRK FROM Person \n",
    "          WHERE TRIM(Name) LIKE 'Shah Rukh Khan'),\n",
    "\n",
    "          srk_movie_list AS (\n",
    "          SELECT TRIM(MID) SRK_MovieID FROM M_Cast mc, srk_PID\n",
    "          WHERE TRIM(PID) = srk_PID.PID_SRK),\n",
    "\n",
    "          full_list AS (\n",
    "          SELECT DISTINCT TRIM(mc.PID) S1_PID FROM M_Cast mc\n",
    "          WHERE mc.MID IN (\n",
    "          SELECT * FROM srk_movie_list))\n",
    "\n",
    "          SELECT S1_PID FROM full_list fl, srk_PID\n",
    "          WHERE  S1_PID <> srk_PID.PID_SRK\n",
    "          \"\"\"   \n",
    "    \n",
    "grader_9a(query9a)"
   ]
  },
  {
   "cell_type": "markdown",
   "metadata": {
    "id": "2j8Fc9jUUJ9C"
   },
   "source": [
    "## Q9 --- The Shahrukh number of an actor is the length of the shortest path between the actor and Shahrukh Khan in the \"co-acting\" graph. That is, Shahrukh Khan has Shahrukh number 0; all actors who acted in the same film as Shahrukh have Shahrukh number 1; all actors who acted in the same film as some actor with Shahrukh number 1 have Shahrukh number 2, etc. Return all actors whose Shahrukh number is 2."
   ]
  },
  {
   "cell_type": "code",
   "execution_count": 22,
   "metadata": {
    "colab": {
     "base_uri": "https://localhost:8080/",
     "height": 255
    },
    "id": "5o6imc82E_JS",
    "outputId": "29de4fa8-ddbb-44ba-ad8f-12d2e48d278f",
    "scrolled": true
   },
   "outputs": [
    {
     "name": "stdout",
     "output_type": "stream",
     "text": [
      "                     Name\n",
      "0            Freida Pinto\n",
      "1             Rohan Chand\n",
      "2            Damian Young\n",
      "3         Waris Ahluwalia\n",
      "4   Caroline Christl Long\n",
      "5           Rajeev Pahuja\n",
      "6       Michelle Santiago\n",
      "7         Alicia Vikander\n",
      "8            Dominic West\n",
      "9          Walton Goggins\n",
      "(25698, 1)\n",
      "CPU times: user 285 ms, sys: 11.4 ms, total: 297 ms\n",
      "Wall time: 295 ms\n"
     ]
    }
   ],
   "source": [
    "%%time\n",
    "\n",
    "def grader_9(q9):\n",
    "    q9_results  = pd.read_sql_query(q9,conn)\n",
    "    print(q9_results.head(10))\n",
    "    print(q9_results.shape)\n",
    "    assert (q9_results.shape == (25698, 1))\n",
    "\n",
    "# selecting actors who acted with srk (S1)\n",
    "# selecting all movies where S1 actors acted, this forms S2 movies list\n",
    "# selecting all actors who acted in S2 movies, this gives us S2 actors along with S1 actors\n",
    "# removing S1 actors from the combined list of S1 & S2 actors, so that we get only S2 actors\n",
    "\n",
    "query9 = \"\"\"\n",
    "          WITH\n",
    "\n",
    "          srk_PID AS (\n",
    "          SELECT TRIM(PID) PID_SRK FROM Person \n",
    "          WHERE TRIM(Name) LIKE 'Shah Rukh Khan'),\n",
    "\n",
    "          srk_movie_list AS (\n",
    "          SELECT TRIM(MID) SRK_MovieID FROM M_Cast mc, srk_PID\n",
    "          WHERE TRIM(PID) = srk_PID.PID_SRK),\n",
    "\n",
    "          full_list AS (\n",
    "          SELECT DISTINCT TRIM(mc.PID) S1_PID FROM M_Cast mc\n",
    "          WHERE mc.MID IN (\n",
    "          SELECT * FROM srk_movie_list)),\n",
    "          \n",
    "          S1_Actors AS (\n",
    "          SELECT S1_PID FROM full_list fl, srk_PID\n",
    "          WHERE  S1_PID <> srk_PID.PID_SRK),\n",
    "          \n",
    "          S2_Movies AS(\n",
    "          SELECT DISTINCT TRIM(mc.MID) S2_MID FROM M_Cast mc, S1_Actors s1A\n",
    "          WHERE TRIM(mc.PID) = s1A.S1_PID\n",
    "          ),\n",
    "          \n",
    "          S2_Actors AS (\n",
    "          SELECT DISTINCT TRIM(mc.PID) S2_PID FROM M_Cast mc, S2_Movies s2m\n",
    "          WHERE s2m.S2_MID = mc.MID),\n",
    "          \n",
    "          S2_Actors_with_srk AS (\n",
    "          SELECT DISTINCT s2A.S2_PID FROM S2_Actors s2A\n",
    "          WHERE s2A.S2_PID NOT IN (SELECT * FROM S1_Actors)),\n",
    "          \n",
    "          F_S2_Actors AS (\n",
    "          SELECT S2_PID FROM S2_Actors_with_srk, srk_PID WHERE S2_PID <> srk_PID.PID_SRK)\n",
    "          \n",
    "          SELECT p.Name FROM Person p, F_S2_Actors s2\n",
    "          WHERE TRIM(p.PID) = s2.S2_PID\n",
    "          \"\"\"     \n",
    "        \n",
    "grader_9(query9)"
   ]
  }
 ],
 "metadata": {
  "colab": {
   "collapsed_sections": [],
   "name": "SQL sample queries.ipynb",
   "provenance": [],
   "toc_visible": true
  },
  "kernelspec": {
   "display_name": "Python 3 (ipykernel)",
   "language": "python",
   "name": "python3"
  },
  "language_info": {
   "codemirror_mode": {
    "name": "ipython",
    "version": 3
   },
   "file_extension": ".py",
   "mimetype": "text/x-python",
   "name": "python",
   "nbconvert_exporter": "python",
   "pygments_lexer": "ipython3",
   "version": "3.9.7"
  }
 },
 "nbformat": 4,
 "nbformat_minor": 1
}
