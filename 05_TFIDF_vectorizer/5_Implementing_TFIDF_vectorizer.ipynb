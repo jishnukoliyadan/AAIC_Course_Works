{
 "cells": [
  {
   "cell_type": "markdown",
   "metadata": {
    "id": "h9464I-uxLiw"
   },
   "source": [
    "# Assignment"
   ]
  },
  {
   "cell_type": "markdown",
   "metadata": {
    "id": "IvLvmewlxLix"
   },
   "source": [
    "<font face='georgia'>\n",
    "    \n",
    "   <h4><strong>What does tf-idf mean?</strong></h4>\n",
    "\n",
    "   <p>    \n",
    "Tf-idf stands for <em>term frequency-inverse document frequency</em>, and the tf-idf weight is a weight often used in information retrieval and text mining. This weight is a statistical measure used to evaluate how important a word is to a document in a collection or corpus. The importance increases proportionally to the number of times a word appears in the document but is offset by the frequency of the word in the corpus. Variations of the tf-idf weighting scheme are often used by search engines as a central tool in scoring and ranking a document's relevance given a user query.\n",
    "</p>\n",
    "    \n",
    "   <p>\n",
    "One of the simplest ranking functions is computed by summing the tf-idf for each query term; many more sophisticated ranking functions are variants of this simple model.\n",
    "</p>\n",
    "    \n",
    "   <p>\n",
    "Tf-idf can be successfully used for stop-words filtering in various subject fields including text summarization and classification.\n",
    "</p>\n",
    "    \n",
    "</font>"
   ]
  },
  {
   "cell_type": "markdown",
   "metadata": {
    "id": "4XLaGFUMxLiy"
   },
   "source": [
    "<font face='georgia'>\n",
    "    <h4><strong>How to Compute:</strong></h4>\n",
    "\n",
    "Typically, the tf-idf weight is composed by two terms: the first computes the normalized Term Frequency (TF), aka. the number of times a word appears in a document, divided by the total number of words in that document; the second term is the Inverse Document Frequency (IDF), computed as the logarithm of the number of the documents in the corpus divided by the number of documents where the specific term appears.\n",
    "\n",
    " <ul>\n",
    "    <li>\n",
    "<strong>TF:</strong> Term Frequency, which measures how frequently a term occurs in a document. Since every document is different in length, it is possible that a term would appear much more times in long documents than shorter ones. Thus, the term frequency is often divided by the document length (aka. the total number of terms in the document) as a way of normalization: <br>\n",
    "\n",
    "$TF(t) = \\frac{\\text{Number of times term t appears in a document}}{\\text{Total number of terms in the document}}.$\n",
    "</li>\n",
    "<li>\n",
    "<strong>IDF:</strong> Inverse Document Frequency, which measures how important a term is. While computing TF, all terms are considered equally important. However it is known that certain terms, such as \"is\", \"of\", and \"that\", may appear a lot of times but have little importance. Thus we need to weigh down the frequent terms while scale up the rare ones, by computing the following: <br>\n",
    "\n",
    "$IDF(t) = \\log_{e}\\frac{\\text{Total  number of documents}} {\\text{Number of documents with term t in it}}.$\n",
    "for numerical stabiltiy we will be changing this formula little bit\n",
    "$IDF(t) = \\log_{e}\\frac{\\text{Total  number of documents}} {\\text{Number of documents with term t in it}+1}.$\n",
    "</li>\n",
    "</ul>\n",
    "\n",
    "<br>\n",
    "<h4><strong>Example</strong></h4>\n",
    "<p>\n",
    "\n",
    "Consider a document containing 100 words wherein the word cat appears 3 times. The term frequency (i.e., tf) for cat is then (3 / 100) = 0.03. Now, assume we have 10 million documents and the word cat appears in one thousand of these. Then, the inverse document frequency (i.e., idf) is calculated as log(10,000,000 / 1,000) = 4. Thus, the Tf-idf weight is the product of these quantities: 0.03 * 4 = 0.12.\n",
    "</p>\n",
    "</font>"
   ]
  },
  {
   "cell_type": "markdown",
   "metadata": {
    "id": "dg2ooa4DxLiz"
   },
   "source": [
    "## Task-1"
   ]
  },
  {
   "cell_type": "markdown",
   "metadata": {
    "id": "TAcTjhO8xLiz"
   },
   "source": [
    "<font face='georgia'>\n",
    "    <h4><strong>1. Build a TFIDF Vectorizer & compare its results with Sklearn:</strong></h4>\n",
    "\n",
    "<ul>\n",
    "    <li> As a part of this task you will be implementing TFIDF vectorizer on a collection of text documents.</li>\n",
    "    <br>\n",
    "    <li> You should compare the results of your own implementation of TFIDF vectorizer with that of sklearns implemenation TFIDF vectorizer.</li>\n",
    "    <br>\n",
    "    <li> Sklearn does few more tweaks in the implementation of its version of TFIDF vectorizer, so to replicate the exact results you would need to add following things to your custom implementation of tfidf vectorizer:\n",
    "       <ol>\n",
    "        <li> Sklearn has its vocabulary generated from idf sroted in alphabetical order</li>\n",
    "        <li> Sklearn formula of idf is different from the standard textbook formula. Here the constant <strong>\"1\"</strong> is added to the numerator and denominator of the idf as if an extra document was seen containing every term in the collection exactly once, which prevents zero divisions.\n",
    "            \n",
    " $IDF(t) = 1+\\log_{e}\\frac{1\\text{ }+\\text{ Total  number of documents in collection}} {1+\\text{Number of documents with term t in it}}.$\n",
    "        </li>\n",
    "        <li> Sklearn applies L2-normalization on its output matrix.</li>\n",
    "        <li> The final output of sklearn tfidf vectorizer is a sparse matrix.</li>\n",
    "    </ol>\n",
    "    <br>\n",
    "    <li>Steps to approach this task:\n",
    "    <ol>\n",
    "        <li> You would have to write both fit and transform methods for your custom implementation of tfidf vectorizer.</li>\n",
    "        <li> Print out the alphabetically sorted voacb after you fit your data and check if its the same as that of the feature names from sklearn tfidf vectorizer. </li>\n",
    "        <li> Print out the idf values from your implementation and check if its the same as that of sklearns tfidf vectorizer idf values. </li>\n",
    "        <li> Once you get your voacb and idf values to be same as that of sklearns implementation of tfidf vectorizer, proceed to the below steps. </li>\n",
    "        <li> Make sure the output of your implementation is a sparse matrix. Before generating the final output, you need to normalize your sparse matrix using L2 normalization. You can refer to this link https://scikit-learn.org/stable/modules/generated/sklearn.preprocessing.normalize.html </li>\n",
    "        <li> After completing the above steps, print the output of your custom implementation and compare it with sklearns implementation of tfidf vectorizer.</li>\n",
    "        <li> To check the output of a single document in your collection of documents,  you can convert the sparse matrix related only to that document into dense matrix and print it.</li>\n",
    "        </ol>\n",
    "    </li>\n",
    "    <br>\n",
    "   </ul>\n",
    "\n",
    "  <p> <font color=\"#e60000\"><strong>Note-1: </strong></font> All the necessary outputs of sklearns tfidf vectorizer have been provided as reference in this notebook, you can compare your outputs as mentioned in the above steps, with these outputs.<br>\n",
    "   <font color=\"#e60000\"><strong>Note-2: </strong></font> The output of your custom implementation and that of sklearns implementation would match only with the collection of document strings provided to you as reference in this notebook. It would not match for strings that contain capital letters or punctuations, etc, because sklearn version of tfidf vectorizer deals with such strings in a different way. To know further details about how sklearn tfidf vectorizer works with such string, you can always refer to its official documentation.<br>\n",
    "   <font color=\"#e60000\"><strong>Note-3: </strong></font> During this task, it would be helpful for you to debug the code you write with print statements wherever necessary. But when you are finally submitting the assignment, make sure your code is readable and try not to print things which are not part of this task.\n",
    "    </p>"
   ]
  },
  {
   "cell_type": "markdown",
   "metadata": {
    "id": "OnV82tg1xLi0"
   },
   "source": [
    "### Corpus"
   ]
  },
  {
   "cell_type": "code",
   "execution_count": 1,
   "metadata": {
    "id": "bUsYm9wjxLi1"
   },
   "outputs": [],
   "source": [
    "## SkLearn# Collection of string documents\n",
    "\n",
    "corpus = [\n",
    "     'this is the first document',\n",
    "     'this document is the second document',\n",
    "     'and this is the third one',\n",
    "     'is this the first document',\n",
    "]"
   ]
  },
  {
   "cell_type": "markdown",
   "metadata": {
    "id": "eLwmFZfKxLi4"
   },
   "source": [
    "### SkLearn Implementation"
   ]
  },
  {
   "cell_type": "code",
   "execution_count": 2,
   "metadata": {
    "id": "Np4dfQOkxLi4"
   },
   "outputs": [],
   "source": [
    "from sklearn.feature_extraction.text import TfidfVectorizer\n",
    "vectorizer = TfidfVectorizer()\n",
    "vectorizer.fit(corpus)\n",
    "skl_output = vectorizer.transform(corpus)"
   ]
  },
  {
   "cell_type": "code",
   "execution_count": 3,
   "metadata": {
    "id": "-7Om8YpYxLi6",
    "outputId": "0a3bd0f5-4424-4400-944f-4482a80bd799"
   },
   "outputs": [
    {
     "name": "stdout",
     "output_type": "stream",
     "text": [
      "['and', 'document', 'first', 'is', 'one', 'second', 'the', 'third', 'this']\n"
     ]
    }
   ],
   "source": [
    "# sklearn feature names, they are sorted in alphabetic order by default.\n",
    "\n",
    "print(vectorizer.get_feature_names())"
   ]
  },
  {
   "cell_type": "code",
   "execution_count": 4,
   "metadata": {
    "id": "dTKplK96xLi-",
    "outputId": "53722fa2-6756-4aa0-f179-37b578bb6890"
   },
   "outputs": [
    {
     "name": "stdout",
     "output_type": "stream",
     "text": [
      "[1.91629073 1.22314355 1.51082562 1.         1.91629073 1.91629073\n",
      " 1.         1.91629073 1.        ]\n"
     ]
    }
   ],
   "source": [
    "# Here we will print the sklearn tfidf vectorizer idf values after applying the fit method\n",
    "# After using the fit function on the corpus the vocab has 9 words in it, and each has its idf value.\n",
    "\n",
    "print(vectorizer.idf_)"
   ]
  },
  {
   "cell_type": "code",
   "execution_count": 5,
   "metadata": {
    "id": "-CTiWHygxLjA",
    "outputId": "8d5a9cde-2c29-4afe-f7b4-1547e88dba4f"
   },
   "outputs": [
    {
     "data": {
      "text/plain": [
       "(4, 9)"
      ]
     },
     "execution_count": 5,
     "metadata": {},
     "output_type": "execute_result"
    }
   ],
   "source": [
    "# shape of sklearn tfidf vectorizer output after applying transform method.\n",
    "\n",
    "skl_output.shape"
   ]
  },
  {
   "cell_type": "code",
   "execution_count": 6,
   "metadata": {
    "id": "bDKEpbA-xLjD",
    "outputId": "87dafd65-5313-443f-8c6e-1b05cc8c2543"
   },
   "outputs": [
    {
     "name": "stdout",
     "output_type": "stream",
     "text": [
      "  (0, 8)\t0.38408524091481483\n",
      "  (0, 6)\t0.38408524091481483\n",
      "  (0, 3)\t0.38408524091481483\n",
      "  (0, 2)\t0.5802858236844359\n",
      "  (0, 1)\t0.46979138557992045\n"
     ]
    }
   ],
   "source": [
    "# sklearn tfidf values for first line of the above corpus.\n",
    "# Here the output is a sparse matrix\n",
    "\n",
    "print(skl_output[0])"
   ]
  },
  {
   "cell_type": "code",
   "execution_count": 7,
   "metadata": {
    "id": "3QWo34hexLjF",
    "outputId": "cdc04e08-989f-4bdc-dd7f-f1c82a9f90be"
   },
   "outputs": [
    {
     "name": "stdout",
     "output_type": "stream",
     "text": [
      "[[0.         0.46979139 0.58028582 0.38408524 0.         0.\n",
      "  0.38408524 0.         0.38408524]]\n"
     ]
    }
   ],
   "source": [
    "# sklearn tfidf values for first line of the above corpus.\n",
    "# To understand the output better, here we are converting the sparse output matrix to dense matrix and printing it.\n",
    "# Notice that this output is normalized using L2 normalization. sklearn does this by default.\n",
    "\n",
    "print(skl_output[0].toarray())"
   ]
  },
  {
   "cell_type": "markdown",
   "metadata": {
    "id": "qfIwx5LzxLjI"
   },
   "source": [
    "### Your custom implementation"
   ]
  },
  {
   "cell_type": "code",
   "execution_count": 8,
   "metadata": {
    "id": "HjuCcJwXxLjJ"
   },
   "outputs": [],
   "source": [
    "# Write your code here.\n",
    "# Make sure its well documented and readble with appropriate comments.\n",
    "# Compare your results with the above sklearn tfidf vectorizer\n",
    "# You are not supposed to use any other library apart from the ones given below\n",
    "\n",
    "from collections import Counter\n",
    "# from tqdm import tqdm\n",
    "from tqdm.notebook import tqdm\n",
    "from scipy.sparse import csr_matrix\n",
    "import math\n",
    "import operator\n",
    "from sklearn.preprocessing import normalize\n",
    "import numpy"
   ]
  },
  {
   "cell_type": "code",
   "execution_count": 9,
   "metadata": {},
   "outputs": [],
   "source": [
    "def fit(data_set):\n",
    "    '''\n",
    "    Input\n",
    "    -----\n",
    "    data_set : Data coupus - Lists of sentences\n",
    "    \n",
    "    Output\n",
    "    ------\n",
    "    unique_words : List of all unique words from the data corpus\n",
    "    idf_word_values : The Inverse Document Frequency values corresponding to each word\n",
    "    '''\n",
    "    \n",
    "    unique_words_set = set() #For storing all unique words in data_set\n",
    "    \n",
    "#     Reference : Assignment_3_Reference : https://colab.research.google.com/drive/1Y_K1iQV_wv7Z7I63axwMQJp1XJzgoF1s\n",
    "    \n",
    "    for rows in data_set:\n",
    "        for word in rows.split():\n",
    "            if len(word) < 2: #Screening words\n",
    "                continue\n",
    "            unique_words_set.add(word) #Adding words with length >=2.\n",
    "#     print(unique_words_set)\n",
    "    \n",
    "    unique_words = sorted(list(unique_words_set)) #Sorting the words aplhabetical order\n",
    "#     print(unique_words)\n",
    "    vocabulary = {j:i for i,j in enumerate(unique_words)}\n",
    "#     print(vocabulary)\n",
    "    \n",
    "    no_of_total_documents = len(data_set)\n",
    "    \n",
    "    # Calculating IDF value\n",
    "    \n",
    "    idf_word_values = {}   # Dict for storing idf values\n",
    "    for word in unique_words:\n",
    "        count = 0\n",
    "        for words in data_set: # Main loop starts here : Iterating over data_set\n",
    "            \n",
    "            if word in words.split(): # Checking for the presence of unique_words 'word'\n",
    "                count += 1\n",
    "            idf_word_values[word] = 1 + math.log((no_of_total_documents+1) / (count+1)) # IDF calcualtion\n",
    "                            # Adding 1 : Reference : Task 1 reference\n",
    "                \n",
    "    return vocabulary, idf_word_values"
   ]
  },
  {
   "cell_type": "code",
   "execution_count": 10,
   "metadata": {},
   "outputs": [],
   "source": [
    "vocabulary, idf_word_value = fit(corpus)"
   ]
  },
  {
   "cell_type": "markdown",
   "metadata": {},
   "source": [
    "#### Results after `fit()` function"
   ]
  },
  {
   "cell_type": "code",
   "execution_count": 11,
   "metadata": {},
   "outputs": [
    {
     "name": "stdout",
     "output_type": "stream",
     "text": [
      "Alphabetically sorted vocabulary :\n",
      "Sk-learn implementation:  ['and', 'document', 'first', 'is', 'one', 'second', 'the', 'third', 'this']\n",
      "Custom implementation  :  ['and', 'document', 'first', 'is', 'one', 'second', 'the', 'third', 'this']\n",
      "\n",
      "Both implementation results are same :  True \n",
      "\n",
      "----------------------------------------------------------------------------------------------------\n",
      "----------------------------------------------------------------------------------------------------\n",
      "\n",
      "IDF values :\n",
      "Sk-learn implementation:  [1.91629073 1.22314355 1.51082562 1.         1.91629073 1.91629073\n",
      " 1.         1.91629073 1.        ]\n",
      "Custom implementation  :  [1.916290731874155, 1.2231435513142097, 1.5108256237659907, 1.0, 1.916290731874155, 1.916290731874155, 1.0, 1.916290731874155, 1.0]\n",
      "\n",
      "Both implementation results are same :  True\n"
     ]
    }
   ],
   "source": [
    "print('Alphabetically sorted vocabulary :')\n",
    "print('Sk-learn implementation: ', vectorizer.get_feature_names())\n",
    "print('Custom implementation  : ', list(vocabulary.keys()))\n",
    "print('\\nBoth implementation results are same : ',\n",
    "      vectorizer.get_feature_names() == list(vocabulary.keys()), '\\n')\n",
    "\n",
    "print('-'*100)\n",
    "print('-'*100)\n",
    "\n",
    "print('\\nIDF values :')\n",
    "print('Sk-learn implementation: ', vectorizer.idf_)\n",
    "print('Custom implementation  : ', list(idf_word_value.values()))\n",
    "print('\\nBoth implementation results are same : ', \n",
    "      [float(value) for value in vectorizer.idf_] == list(idf_word_value.values()))"
   ]
  },
  {
   "cell_type": "code",
   "execution_count": 12,
   "metadata": {},
   "outputs": [],
   "source": [
    "def transform(data_set, vocabulary_, idf_word_values):\n",
    "    '''\n",
    "    Input\n",
    "    -----\n",
    "    data_set : Data coupus - Lists of sentences\n",
    "    vocabulary_ : Dictionary contaion unique words extracted from data_set\n",
    "    idf_word_values : The Inverse Document Frequency values corresponding to each word\n",
    "    \n",
    "    Output\n",
    "    ------\n",
    "    normalized_sparse_matrix : Normalized Sparse Matrix of shape \n",
    "                                (len(data_set),len(unique_words)) and L2 normalized\n",
    "    '''\n",
    "    \n",
    "#     Reference : Assignment_3_Reference\n",
    "    mat_rows = []\n",
    "    mat_columns = []\n",
    "    mat_values = []\n",
    "    \n",
    "#     vocab = {j:i for i,j in enumerate(unique_words)}\n",
    "    \n",
    "    for index, rows in enumerate(tqdm(data_set)):\n",
    "        row_word_freq = dict(Counter(rows.split())) #Creating word_freq counter for TF calculation        \n",
    "        for word in rows.split():\n",
    "            if len(word) < 2: #Screening words\n",
    "                continue\n",
    "            \n",
    "            if word in vocabulary_.keys():\n",
    "                tf_value = row_word_freq.get(word) / len(rows.split()) #calculating TF values\n",
    "                \n",
    "#                 print(tf_value, word, row_word_freq[word])\n",
    "\n",
    "                tf_idf_value = tf_value * idf_word_values.get(word)  # TF-IDF value = TF * IDF\n",
    "#                 print(round(tf_value,3),'\\t',word,'\\t\\t',round(tf_idf_value,3))\n",
    "                \n",
    "#                 Reference : Assignment_3_Reference\n",
    "                col_index = vocabulary_.get(word, -1)\n",
    "    \n",
    "                if col_index != -1:\n",
    "                    mat_rows.append(index)\n",
    "                    mat_columns.append(col_index)\n",
    "                    mat_values.append(tf_idf_value)\n",
    "#                 print(word ,vocabulary_[word], col_index)\n",
    "    \n",
    "#     Creating Sparse Matrix, with shape = (len(data_set),len(unique_words))\n",
    "    sparse_matrix = csr_matrix((mat_values, (mat_rows,mat_columns)),\n",
    "                               shape = (len(data_set),len(vocabulary_)))\n",
    "\n",
    "#     Normalizing the sparse matrix using 'l2' normalization\n",
    "#     https://scikit-learn.org/stable/modules/generated/sklearn.preprocessing.normalize.html\n",
    "    normalized_sparse_matrix = normalize(sparse_matrix, norm ='l2')\n",
    "    \n",
    "    return normalized_sparse_matrix"
   ]
  },
  {
   "cell_type": "code",
   "execution_count": 13,
   "metadata": {},
   "outputs": [
    {
     "data": {
      "application/vnd.jupyter.widget-view+json": {
       "model_id": "050417e077374015b8bb94f9bdce8dcc",
       "version_major": 2,
       "version_minor": 0
      },
      "text/plain": [
       "  0%|          | 0/4 [00:00<?, ?it/s]"
      ]
     },
     "metadata": {},
     "output_type": "display_data"
    }
   ],
   "source": [
    "sparse_matrix = transform(corpus, vocabulary, idf_word_value)"
   ]
  },
  {
   "cell_type": "markdown",
   "metadata": {},
   "source": [
    "#### Results after `transform()` function"
   ]
  },
  {
   "cell_type": "code",
   "execution_count": 14,
   "metadata": {},
   "outputs": [
    {
     "name": "stdout",
     "output_type": "stream",
     "text": [
      "Sk-learn implementation :  (4, 9)\n",
      "Custom implementation   :  (4, 9)\n"
     ]
    }
   ],
   "source": [
    "# Shape of sparse matrix\n",
    "\n",
    "print('Sk-learn implementation : ', skl_output.shape)\n",
    "print('Custom implementation   : ', sparse_matrix.shape)"
   ]
  },
  {
   "cell_type": "code",
   "execution_count": 15,
   "metadata": {},
   "outputs": [
    {
     "name": "stdout",
     "output_type": "stream",
     "text": [
      "Sk-learn implementation\n",
      "-----------------------\n",
      "  (0, 8)\t0.38408524091481483\n",
      "  (0, 6)\t0.38408524091481483\n",
      "  (0, 3)\t0.38408524091481483\n",
      "  (0, 2)\t0.5802858236844359\n",
      "  (0, 1)\t0.46979138557992045 \n",
      "\n",
      "Custom implementation\n",
      "---------------------\n",
      "  (0, 1)\t0.4697913855799205\n",
      "  (0, 2)\t0.580285823684436\n",
      "  (0, 3)\t0.3840852409148149\n",
      "  (0, 6)\t0.3840852409148149\n",
      "  (0, 8)\t0.3840852409148149\n"
     ]
    }
   ],
   "source": [
    "# TF-IDF values for first line of the above corpus : Output after L2 normalization\n",
    "\n",
    "print('Sk-learn implementation')\n",
    "print('-'*23)\n",
    "print(skl_output[0], '\\n')\n",
    "\n",
    "print('Custom implementation')\n",
    "print('-'*21)\n",
    "print(sparse_matrix[0])"
   ]
  },
  {
   "cell_type": "code",
   "execution_count": 16,
   "metadata": {},
   "outputs": [
    {
     "name": "stdout",
     "output_type": "stream",
     "text": [
      "Sk-learn implementation\n",
      "-----------------------\n",
      "[[0.         0.46979139 0.58028582 0.38408524 0.         0.\n",
      "  0.38408524 0.         0.38408524]] \n",
      "\n",
      "\n",
      "Custom implementation\n",
      "---------------------\n",
      "[[0.         0.46979139 0.58028582 0.38408524 0.         0.\n",
      "  0.38408524 0.         0.38408524]]\n"
     ]
    }
   ],
   "source": [
    "# TF-IDF values for first line of the above corpus : Output after L2 normalization\n",
    "\n",
    "print('Sk-learn implementation')\n",
    "print('-'*23)\n",
    "print(skl_output[0].toarray(), '\\n'*2)\n",
    "\n",
    "print('Custom implementation')\n",
    "print('-'*21)\n",
    "print(sparse_matrix[0].toarray())"
   ]
  },
  {
   "cell_type": "markdown",
   "metadata": {},
   "source": [
    "<strong>Values of Custom implementation are same as Sk-learn implementation</strong>"
   ]
  },
  {
   "cell_type": "markdown",
   "metadata": {
    "id": "MMxBmVZExLjK"
   },
   "source": [
    "## Task-2"
   ]
  },
  {
   "cell_type": "markdown",
   "metadata": {
    "id": "51j_OtqAxLjL"
   },
   "source": [
    "<font face='georgia'>\n",
    "    <h4><strong>2. Implement max features functionality:</strong></h4>\n",
    "\n",
    "<ul>\n",
    "    <li> As a part of this task you have to modify your fit and transform functions so that your vocab will contain only 50 terms with top idf scores.</li>\n",
    "    <br>\n",
    "    <li>This task is similar to your previous task, just that here your vocabulary is limited to only top 50 features names based on their idf values. Basically your output will have exactly 50 columns and the number of rows will depend on the number of documents you have in your corpus.</li>\n",
    "    <br>\n",
    "    <li>Here you will be give a pickle file, with file name <strong>cleaned_strings</strong>. You would have to load the corpus from this file and use it as input to your tfidf vectorizer.</li>\n",
    "    <br>\n",
    "    <li>Steps to approach this task:\n",
    "    <ol>\n",
    "        <li> You would have to write both fit and transform methods for your custom implementation of tfidf vectorizer, just like in the previous task. Additionally, here you have to limit the number of features generated to 50 as described above.</li>\n",
    "        <li> Now sort your vocab based in descending order of idf values and print out the words in the sorted voacb after you fit your data. Here you should be getting only 50 terms in your vocab. And make sure to print idf values for each term in your vocab. </li>\n",
    "        <li> Make sure the output of your implementation is a sparse matrix. Before generating the final output, you need to normalize your sparse matrix using L2 normalization. You can refer to this link https://scikit-learn.org/stable/modules/generated/sklearn.preprocessing.normalize.html </li>\n",
    "        <li> Now check the output of a single document in your collection of documents,  you can convert the sparse matrix related only to that document into dense matrix and print it. And this dense matrix should contain 1 row and 50 columns. </li>\n",
    "        </ol>\n",
    "    </li>\n",
    "    <br>\n",
    "   </ul>"
   ]
  },
  {
   "cell_type": "code",
   "execution_count": 17,
   "metadata": {
    "id": "NHxPLlwNxLjL",
    "outputId": "9abd8e08-0e24-4975-9a13-4d3636d60323"
   },
   "outputs": [
    {
     "name": "stdout",
     "output_type": "stream",
     "text": [
      "Number of documents in corpus =  746\n"
     ]
    }
   ],
   "source": [
    "# Below is the code to load the cleaned_strings pickle file provided\n",
    "# Here corpus is of list type\n",
    "\n",
    "import pickle\n",
    "with open('cleaned_strings', 'rb') as f:\n",
    "    corpus = pickle.load(f)\n",
    "    \n",
    "# printing the length of the corpus loaded\n",
    "print(\"Number of documents in corpus = \",len(corpus))"
   ]
  },
  {
   "cell_type": "code",
   "execution_count": 18,
   "metadata": {},
   "outputs": [],
   "source": [
    "def fit(data_set, top_features):\n",
    "    '''\n",
    "    Input\n",
    "    -----\n",
    "    data_set : Data coupus - Lists of sentences\n",
    "    \n",
    "    Output\n",
    "    ------\n",
    "    unique_words : List of all unique words from the data corpus\n",
    "    idf_word_values : The Inverse Document Frequency values corresponding to each word\n",
    "    '''\n",
    "    \n",
    "    unique_words_set = set() #For storing all unique words in data_set\n",
    "    \n",
    "#     Reference : Assignment_3_Reference : https://colab.research.google.com/drive/1Y_K1iQV_wv7Z7I63axwMQJp1XJzgoF1s\n",
    "    \n",
    "    for rows in data_set:\n",
    "        for word in rows.split():\n",
    "            if len(word) < 2: #Screening words\n",
    "                continue\n",
    "            unique_words_set.add(word) #Adding words with length >=2.\n",
    "#     print(unique_words_set)\n",
    "    \n",
    "    unique_words = sorted(list(unique_words_set)) #Sorting the words aplhabetical order\n",
    "#     print(unique_words)\n",
    "\n",
    "    no_of_total_documents = len(data_set)\n",
    "    \n",
    "    # Calculating IDF value\n",
    "    \n",
    "    idf_word_values = {}   # Dict for storing idf values\n",
    "    for word in unique_words:\n",
    "        count = 0\n",
    "        for words in data_set: # Main loop starts here : Iterating over data_set\n",
    "            \n",
    "            if word in words.split(): # Checking for the presence of unique_words 'word'\n",
    "                count += 1\n",
    "            idf_word_values[word] = 1 + math.log((no_of_total_documents+1) / (count+1)) # IDF calcualtion\n",
    "                            # Adding 1 : Reference : Task 1 reference\n",
    "    \n",
    "    '''\n",
    "    https://stackoverflow.com/a/613218\n",
    "    https://docs.python.org/3/howto/sorting.html#ascending-and-descending\n",
    "    \n",
    "    x = {'a': 2, 'b': 4, 'd': 3, 'h': 1, 'c': 0}\n",
    "    {k: v for k, v in sorted(x.items(), key=lambda item: item[1], reverse=True)}\n",
    "    {'b': 4, 'd': 3, 'a': 2, 'h': 1, 'c': 0}\n",
    "    '''\n",
    "    \n",
    "#     Sorting IDF values in descending order\n",
    "    sorted_idf_word_values = {}\n",
    "    count = 0\n",
    "    for k, v in sorted(idf_word_values.items(),key=lambda item: item[1], reverse=True):\n",
    "        if top_features == count:\n",
    "            break\n",
    "        sorted_idf_word_values[k] = v\n",
    "        count += 1\n",
    "#     print('sorted_idf_word_values length : ', len(sorted_idf_word_values))\n",
    "    \n",
    "#     Creating vocabulary only to contain sorted IDF words\n",
    "    vocabulary = {}\n",
    "    index = 0\n",
    "    for words in unique_words:\n",
    "        if words in sorted_idf_word_values.keys():\n",
    "            vocabulary[words] = index\n",
    "            index += 1\n",
    "       \n",
    "    return vocabulary, sorted_idf_word_values"
   ]
  },
  {
   "cell_type": "code",
   "execution_count": 19,
   "metadata": {},
   "outputs": [],
   "source": [
    "TOP_FEATURES = 50\n",
    "\n",
    "vocabulary , sorted_idf_word_value = fit(corpus, TOP_FEATURES)"
   ]
  },
  {
   "cell_type": "code",
   "execution_count": 20,
   "metadata": {},
   "outputs": [
    {
     "name": "stdout",
     "output_type": "stream",
     "text": [
      "1. aailiyah\t\t6.922918004572872\n",
      "2. abandoned\t\t6.922918004572872\n",
      "3. abroad\t\t6.922918004572872\n",
      "4. abstruse\t\t6.922918004572872\n",
      "5. academy\t\t6.922918004572872\n",
      "6. accents\t\t6.922918004572872\n",
      "7. accessible\t\t6.922918004572872\n",
      "8. acclaimed\t\t6.922918004572872\n",
      "9. accolades\t\t6.922918004572872\n",
      "10. accurate\t\t6.922918004572872\n",
      "11. accurately\t\t6.922918004572872\n",
      "12. achille\t\t6.922918004572872\n",
      "13. ackerman\t\t6.922918004572872\n",
      "14. actions\t\t6.922918004572872\n",
      "15. adams\t\t6.922918004572872\n",
      "16. add\t\t\t6.922918004572872\n",
      "17. added\t\t6.922918004572872\n",
      "18. admins\t\t6.922918004572872\n",
      "19. admiration\t\t6.922918004572872\n",
      "20. admitted\t\t6.922918004572872\n",
      "21. adrift\t\t6.922918004572872\n",
      "22. adventure\t\t6.922918004572872\n",
      "23. aesthetically\t6.922918004572872\n",
      "24. affected\t\t6.922918004572872\n",
      "25. affleck\t\t6.922918004572872\n",
      "26. afternoon\t\t6.922918004572872\n",
      "27. aged\t\t6.922918004572872\n",
      "28. ages\t\t6.922918004572872\n",
      "29. agree\t\t6.922918004572872\n",
      "30. agreed\t\t6.922918004572872\n",
      "31. aimless\t\t6.922918004572872\n",
      "32. aired\t\t6.922918004572872\n",
      "33. akasha\t\t6.922918004572872\n",
      "34. akin\t\t6.922918004572872\n",
      "35. alert\t\t6.922918004572872\n",
      "36. alike\t\t6.922918004572872\n",
      "37. allison\t\t6.922918004572872\n",
      "38. allow\t\t6.922918004572872\n",
      "39. allowing\t\t6.922918004572872\n",
      "40. alongside\t\t6.922918004572872\n",
      "41. amateurish\t\t6.922918004572872\n",
      "42. amaze\t\t6.922918004572872\n",
      "43. amazed\t\t6.922918004572872\n",
      "44. amazingly\t\t6.922918004572872\n",
      "45. amusing\t\t6.922918004572872\n",
      "46. amust\t\t6.922918004572872\n",
      "47. anatomist\t\t6.922918004572872\n",
      "48. angel\t\t6.922918004572872\n",
      "49. angela\t\t6.922918004572872\n",
      "50. angelina\t\t6.922918004572872\n"
     ]
    }
   ],
   "source": [
    "# printing word and IDF values for each term in the vocabulary\n",
    "\n",
    "for index, word in enumerate(vocabulary):\n",
    "    if len(word) < 4:\n",
    "        print(f'{index+1}. {word}\\t\\t\\t{sorted_idf_word_value[word]}')\n",
    "    elif len(word) < 8:\n",
    "        print(f'{index+1}. {word}\\t\\t{sorted_idf_word_value[word]}')\n",
    "    elif len(word) > 12:\n",
    "        print(f'{index+1}. {word}\\t{sorted_idf_word_value[word]}')   \n",
    "    else:\n",
    "        print(f'{index+1}. {word}\\t\\t{sorted_idf_word_value[word]}')   "
   ]
  },
  {
   "cell_type": "code",
   "execution_count": 21,
   "metadata": {},
   "outputs": [
    {
     "data": {
      "application/vnd.jupyter.widget-view+json": {
       "model_id": "e30f5ca4ce2440d4b8d2eb8092dfab67",
       "version_major": 2,
       "version_minor": 0
      },
      "text/plain": [
       "  0%|          | 0/746 [00:00<?, ?it/s]"
      ]
     },
     "metadata": {},
     "output_type": "display_data"
    }
   ],
   "source": [
    "# Utilizing the previously defined `transform()` function\n",
    "\n",
    "sparse_matrix = transform(corpus, vocabulary, sorted_idf_word_value)"
   ]
  },
  {
   "cell_type": "code",
   "execution_count": 22,
   "metadata": {},
   "outputs": [
    {
     "name": "stdout",
     "output_type": "stream",
     "text": [
      "Shape of Sparse Matrix is : (746, 50)\n"
     ]
    }
   ],
   "source": [
    "print('Shape of Sparse Matrix is :',sparse_matrix.shape)"
   ]
  },
  {
   "cell_type": "markdown",
   "metadata": {},
   "source": [
    "<u>Step 4</u>\n",
    "* Now check the output of a single document in your collection of documents, you can convert the sparse matrix related only to that document into dense matrix and print it. And this dense matrix should contain 1 row and 50 columns.\n",
    "\n"
   ]
  },
  {
   "cell_type": "code",
   "execution_count": 23,
   "metadata": {},
   "outputs": [
    {
     "name": "stdout",
     "output_type": "stream",
     "text": [
      "Dense matrix :  [[0. 0. 0. 0. 0. 0. 0. 0. 0. 0. 0. 0. 0. 0. 0. 0. 0. 0. 0. 0. 0. 0. 0. 0.\n",
      "  0. 0. 0. 0. 0. 0. 1. 0. 0. 0. 0. 0. 0. 0. 0. 0. 0. 0. 0. 0. 0. 0. 0. 0.\n",
      "  0. 0.]]\n",
      "\n",
      "Shape of dense matrix : (1, 50)\n"
     ]
    }
   ],
   "source": [
    "#https://docs.scipy.org/doc/scipy/reference/generated/scipy.sparse.csc_matrix.todense.html#scipy.sparse.csc_matrix.todense\n",
    "print('Dense matrix : ',sparse_matrix[0].todense())\n",
    "print('\\nShape of dense matrix :',sparse_matrix[0].todense().shape)"
   ]
  }
 ],
 "metadata": {
  "colab": {
   "collapsed_sections": [],
   "name": "Assignment_3_Instructions.ipynb",
   "provenance": []
  },
  "kernelspec": {
   "display_name": "Python 3",
   "language": "python",
   "name": "python3"
  },
  "language_info": {
   "codemirror_mode": {
    "name": "ipython",
    "version": 3
   },
   "file_extension": ".py",
   "mimetype": "text/x-python",
   "name": "python",
   "nbconvert_exporter": "python",
   "pygments_lexer": "ipython3",
   "version": "3.8.8"
  }
 },
 "nbformat": 4,
 "nbformat_minor": 1
}
