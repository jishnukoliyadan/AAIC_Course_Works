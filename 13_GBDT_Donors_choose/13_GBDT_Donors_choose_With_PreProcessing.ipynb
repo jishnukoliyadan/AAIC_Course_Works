{
 "cells": [
  {
   "cell_type": "markdown",
   "metadata": {
    "colab_type": "text",
    "id": "8wqapAXjsc24"
   },
   "source": [
    "# Assignment 9: GBDT"
   ]
  },
  {
   "cell_type": "code",
   "execution_count": 75,
   "metadata": {},
   "outputs": [],
   "source": [
    "import time\n",
    "time_start = time.time()\n",
    "\n",
    "import re\n",
    "import pickle\n",
    "\n",
    "import numpy as np\n",
    "import pandas as pd\n",
    "import seaborn as sns\n",
    "import missingno as msno\n",
    "\n",
    "from statistics import mode\n",
    "from tqdm import tqdm\n",
    "from scipy.sparse import hstack\n",
    "import matplotlib.pyplot as plt\n",
    "from prettytable import PrettyTable\n",
    "\n",
    "from sklearn.metrics import auc\n",
    "from sklearn.metrics import roc_curve\n",
    "from sklearn.preprocessing import Normalizer\n",
    "from sklearn.metrics import confusion_matrix\n",
    "\n",
    "from sklearn.model_selection import train_test_split\n",
    "from sklearn.model_selection import RandomizedSearchCV\n",
    "from sklearn.ensemble import GradientBoostingClassifier\n",
    "\n",
    "from sklearn.feature_extraction.text import TfidfVectorizer\n",
    "from sklearn.feature_extraction.text import CountVectorizer\n",
    "\n",
    "import nltk\n",
    "# nltk.download('vader_lexicon')\n",
    "\n",
    "from nltk.corpus import stopwords\n",
    "from nltk.sentiment.vader import SentimentIntensityAnalyzer\n",
    "\n",
    "import warnings\n",
    "warnings.filterwarnings(\"ignore\")"
   ]
  },
  {
   "cell_type": "code",
   "execution_count": 2,
   "metadata": {},
   "outputs": [],
   "source": [
    "project_data = pd.read_csv('train_data.csv')\n",
    "resource_data = pd.read_csv('resources.csv')"
   ]
  },
  {
   "cell_type": "code",
   "execution_count": 3,
   "metadata": {},
   "outputs": [
    {
     "name": "stdout",
     "output_type": "stream",
     "text": [
      "Number of data points in train data : (109248, 17)\n",
      "\n",
      "Column names : \n",
      " Index(['Unnamed: 0', 'id', 'teacher_id', 'teacher_prefix', 'school_state',\n",
      "       'project_submitted_datetime', 'project_grade_category',\n",
      "       'project_subject_categories', 'project_subject_subcategories',\n",
      "       'project_title', 'project_essay_1', 'project_essay_2',\n",
      "       'project_essay_3', 'project_essay_4', 'project_resource_summary',\n",
      "       'teacher_number_of_previously_posted_projects', 'project_is_approved'],\n",
      "      dtype='object')\n"
     ]
    },
    {
     "data": {
      "text/html": [
       "<div>\n",
       "<style scoped>\n",
       "    .dataframe tbody tr th:only-of-type {\n",
       "        vertical-align: middle;\n",
       "    }\n",
       "\n",
       "    .dataframe tbody tr th {\n",
       "        vertical-align: top;\n",
       "    }\n",
       "\n",
       "    .dataframe thead th {\n",
       "        text-align: right;\n",
       "    }\n",
       "</style>\n",
       "<table border=\"1\" class=\"dataframe\">\n",
       "  <thead>\n",
       "    <tr style=\"text-align: right;\">\n",
       "      <th></th>\n",
       "      <th>Unnamed: 0</th>\n",
       "      <th>id</th>\n",
       "      <th>teacher_id</th>\n",
       "      <th>teacher_prefix</th>\n",
       "      <th>school_state</th>\n",
       "      <th>project_submitted_datetime</th>\n",
       "      <th>project_grade_category</th>\n",
       "      <th>project_subject_categories</th>\n",
       "      <th>project_subject_subcategories</th>\n",
       "      <th>project_title</th>\n",
       "      <th>project_essay_1</th>\n",
       "      <th>project_essay_2</th>\n",
       "      <th>project_essay_3</th>\n",
       "      <th>project_essay_4</th>\n",
       "      <th>project_resource_summary</th>\n",
       "      <th>teacher_number_of_previously_posted_projects</th>\n",
       "      <th>project_is_approved</th>\n",
       "    </tr>\n",
       "  </thead>\n",
       "  <tbody>\n",
       "    <tr>\n",
       "      <th>0</th>\n",
       "      <td>160221</td>\n",
       "      <td>p253737</td>\n",
       "      <td>c90749f5d961ff158d4b4d1e7dc665fc</td>\n",
       "      <td>Mrs.</td>\n",
       "      <td>IN</td>\n",
       "      <td>2016-12-05 13:43:57</td>\n",
       "      <td>Grades PreK-2</td>\n",
       "      <td>Literacy &amp; Language</td>\n",
       "      <td>ESL, Literacy</td>\n",
       "      <td>Educational Support for English Learners at Home</td>\n",
       "      <td>My students are English learners that are work...</td>\n",
       "      <td>\\\"The limits of your language are the limits o...</td>\n",
       "      <td>NaN</td>\n",
       "      <td>NaN</td>\n",
       "      <td>My students need opportunities to practice beg...</td>\n",
       "      <td>0</td>\n",
       "      <td>0</td>\n",
       "    </tr>\n",
       "    <tr>\n",
       "      <th>1</th>\n",
       "      <td>140945</td>\n",
       "      <td>p258326</td>\n",
       "      <td>897464ce9ddc600bced1151f324dd63a</td>\n",
       "      <td>Mr.</td>\n",
       "      <td>FL</td>\n",
       "      <td>2016-10-25 09:22:10</td>\n",
       "      <td>Grades 6-8</td>\n",
       "      <td>History &amp; Civics, Health &amp; Sports</td>\n",
       "      <td>Civics &amp; Government, Team Sports</td>\n",
       "      <td>Wanted: Projector for Hungry Learners</td>\n",
       "      <td>Our students arrive to our school eager to lea...</td>\n",
       "      <td>The projector we need for our school is very c...</td>\n",
       "      <td>NaN</td>\n",
       "      <td>NaN</td>\n",
       "      <td>My students need a projector to help with view...</td>\n",
       "      <td>7</td>\n",
       "      <td>1</td>\n",
       "    </tr>\n",
       "  </tbody>\n",
       "</table>\n",
       "</div>"
      ],
      "text/plain": [
       "   Unnamed: 0       id                        teacher_id teacher_prefix  \\\n",
       "0      160221  p253737  c90749f5d961ff158d4b4d1e7dc665fc           Mrs.   \n",
       "1      140945  p258326  897464ce9ddc600bced1151f324dd63a            Mr.   \n",
       "\n",
       "  school_state project_submitted_datetime project_grade_category  \\\n",
       "0           IN        2016-12-05 13:43:57          Grades PreK-2   \n",
       "1           FL        2016-10-25 09:22:10             Grades 6-8   \n",
       "\n",
       "          project_subject_categories     project_subject_subcategories  \\\n",
       "0                Literacy & Language                     ESL, Literacy   \n",
       "1  History & Civics, Health & Sports  Civics & Government, Team Sports   \n",
       "\n",
       "                                      project_title  \\\n",
       "0  Educational Support for English Learners at Home   \n",
       "1             Wanted: Projector for Hungry Learners   \n",
       "\n",
       "                                     project_essay_1  \\\n",
       "0  My students are English learners that are work...   \n",
       "1  Our students arrive to our school eager to lea...   \n",
       "\n",
       "                                     project_essay_2 project_essay_3  \\\n",
       "0  \\\"The limits of your language are the limits o...             NaN   \n",
       "1  The projector we need for our school is very c...             NaN   \n",
       "\n",
       "  project_essay_4                           project_resource_summary  \\\n",
       "0             NaN  My students need opportunities to practice beg...   \n",
       "1             NaN  My students need a projector to help with view...   \n",
       "\n",
       "   teacher_number_of_previously_posted_projects  project_is_approved  \n",
       "0                                             0                    0  \n",
       "1                                             7                    1  "
      ]
     },
     "execution_count": 3,
     "metadata": {},
     "output_type": "execute_result"
    }
   ],
   "source": [
    "print(f'Number of data points in train data : {project_data.shape}')\n",
    "print('\\nColumn names : \\n', project_data.columns)\n",
    "\n",
    "project_data.head(2)"
   ]
  },
  {
   "cell_type": "code",
   "execution_count": 4,
   "metadata": {
    "scrolled": false
   },
   "outputs": [
    {
     "data": {
      "image/png": "[encoded data removed]",
      "text/plain": [
       "<Figure size 1800x720 with 2 Axes>"
      ]
     },
     "metadata": {
      "needs_background": "light"
     },
     "output_type": "display_data"
    }
   ],
   "source": [
    "# https://www.geeksforgeeks.org/python-visualize-missing-values-nan-values-using-missingno-library/\n",
    "\n",
    "msno.matrix(project_data)\n",
    "plt.show()"
   ]
  },
  {
   "cell_type": "markdown",
   "metadata": {},
   "source": [
    "<font color='red'>Observation</font>\n",
    "\n",
    "- There are missing values in `teacher_prefix`, `project_essay_3` and `project_essay_4`.\n",
    "- Except these 3, there are no missing values available."
   ]
  },
  {
   "cell_type": "code",
   "execution_count": 5,
   "metadata": {},
   "outputs": [
    {
     "name": "stdout",
     "output_type": "stream",
     "text": [
      "Number of data points in train data : (1541272, 4)\n",
      "Column names : \n",
      " Index(['id', 'description', 'quantity', 'price'], dtype='object')\n"
     ]
    },
    {
     "data": {
      "text/html": [
       "<div>\n",
       "<style scoped>\n",
       "    .dataframe tbody tr th:only-of-type {\n",
       "        vertical-align: middle;\n",
       "    }\n",
       "\n",
       "    .dataframe tbody tr th {\n",
       "        vertical-align: top;\n",
       "    }\n",
       "\n",
       "    .dataframe thead th {\n",
       "        text-align: right;\n",
       "    }\n",
       "</style>\n",
       "<table border=\"1\" class=\"dataframe\">\n",
       "  <thead>\n",
       "    <tr style=\"text-align: right;\">\n",
       "      <th></th>\n",
       "      <th>id</th>\n",
       "      <th>description</th>\n",
       "      <th>quantity</th>\n",
       "      <th>price</th>\n",
       "    </tr>\n",
       "  </thead>\n",
       "  <tbody>\n",
       "    <tr>\n",
       "      <th>0</th>\n",
       "      <td>p233245</td>\n",
       "      <td>LC652 - Lakeshore Double-Space Mobile Drying Rack</td>\n",
       "      <td>1</td>\n",
       "      <td>149.00</td>\n",
       "    </tr>\n",
       "    <tr>\n",
       "      <th>1</th>\n",
       "      <td>p069063</td>\n",
       "      <td>Bouncy Bands for Desks (Blue support pipes)</td>\n",
       "      <td>3</td>\n",
       "      <td>14.95</td>\n",
       "    </tr>\n",
       "    <tr>\n",
       "      <th>2</th>\n",
       "      <td>p069063</td>\n",
       "      <td>Cory Stories: A Kid's Book About Living With Adhd</td>\n",
       "      <td>1</td>\n",
       "      <td>8.45</td>\n",
       "    </tr>\n",
       "  </tbody>\n",
       "</table>\n",
       "</div>"
      ],
      "text/plain": [
       "        id                                        description  quantity  \\\n",
       "0  p233245  LC652 - Lakeshore Double-Space Mobile Drying Rack         1   \n",
       "1  p069063        Bouncy Bands for Desks (Blue support pipes)         3   \n",
       "2  p069063  Cory Stories: A Kid's Book About Living With Adhd         1   \n",
       "\n",
       "    price  \n",
       "0  149.00  \n",
       "1   14.95  \n",
       "2    8.45  "
      ]
     },
     "execution_count": 5,
     "metadata": {},
     "output_type": "execute_result"
    }
   ],
   "source": [
    "print(f'Number of data points in train data : {resource_data.shape}')\n",
    "print('Column names : \\n', resource_data.columns)\n",
    "resource_data.head(3)"
   ]
  },
  {
   "cell_type": "markdown",
   "metadata": {},
   "source": [
    "## <font color='red'>Preprocessing Categorical Features</font>"
   ]
  },
  {
   "cell_type": "markdown",
   "metadata": {
    "scrolled": false
   },
   "source": [
    "We need to remove the spaces, and special characters\n",
    "\n",
    "- Remove additional spaces\n",
    "- Remove dots : '.'\n",
    "- Replace '-' with '_'\n",
    "- Replace ' The ' with ''\n",
    "- Replace '&' with '_'\n",
    "- Replace ',' with '_'\n",
    "- Convert all the characters to small case"
   ]
  },
  {
   "cell_type": "markdown",
   "metadata": {},
   "source": [
    "### <font color='blue'>project_grade_category</font>"
   ]
  },
  {
   "cell_type": "code",
   "execution_count": 6,
   "metadata": {},
   "outputs": [
    {
     "data": {
      "text/plain": [
       "Grades PreK-2    44225\n",
       "Grades 3-5       37137\n",
       "Grades 6-8       16923\n",
       "Grades 9-12      10963\n",
       "Name: project_grade_category, dtype: int64"
      ]
     },
     "execution_count": 6,
     "metadata": {},
     "output_type": "execute_result"
    }
   ],
   "source": [
    "project_data['project_grade_category'].value_counts()"
   ]
  },
  {
   "cell_type": "code",
   "execution_count": 7,
   "metadata": {},
   "outputs": [
    {
     "data": {
      "text/plain": [
       "grades_prek_2    44225\n",
       "grades_3_5       37137\n",
       "grades_6_8       16923\n",
       "grades_9_12      10963\n",
       "Name: project_grade_category, dtype: int64"
      ]
     },
     "execution_count": 7,
     "metadata": {},
     "output_type": "execute_result"
    }
   ],
   "source": [
    "project_data['project_grade_category'] = project_data['project_grade_category'].str.replace(' ','_')\n",
    "project_data['project_grade_category'] = project_data['project_grade_category'].str.replace('-','_')\n",
    "project_data['project_grade_category'] = project_data['project_grade_category'].str.lower()\n",
    "project_data['project_grade_category'].value_counts()"
   ]
  },
  {
   "cell_type": "markdown",
   "metadata": {},
   "source": [
    "### <font color='blue'>project_subject_categories</font>"
   ]
  },
  {
   "cell_type": "code",
   "execution_count": 8,
   "metadata": {},
   "outputs": [
    {
     "data": {
      "text/plain": [
       "Literacy & Language                           23655\n",
       "Math & Science                                17072\n",
       "Literacy & Language, Math & Science           14636\n",
       "Health & Sports                               10177\n",
       "Music & The Arts                               5180\n",
       "Special Needs                                  4226\n",
       "Literacy & Language, Special Needs             3961\n",
       "Applied Learning                               3771\n",
       "Math & Science, Literacy & Language            2289\n",
       "Applied Learning, Literacy & Language          2191\n",
       "History & Civics                               1851\n",
       "Math & Science, Special Needs                  1840\n",
       "Literacy & Language, Music & The Arts          1757\n",
       "Math & Science, Music & The Arts               1642\n",
       "Applied Learning, Special Needs                1467\n",
       "History & Civics, Literacy & Language          1421\n",
       "Health & Sports, Special Needs                 1391\n",
       "Warmth, Care & Hunger                          1309\n",
       "Math & Science, Applied Learning               1220\n",
       "Applied Learning, Math & Science               1052\n",
       "Literacy & Language, History & Civics           809\n",
       "Health & Sports, Literacy & Language            803\n",
       "Applied Learning, Music & The Arts              758\n",
       "Math & Science, History & Civics                652\n",
       "Literacy & Language, Applied Learning           636\n",
       "Applied Learning, Health & Sports               608\n",
       "Math & Science, Health & Sports                 414\n",
       "History & Civics, Math & Science                322\n",
       "History & Civics, Music & The Arts              312\n",
       "Special Needs, Music & The Arts                 302\n",
       "Health & Sports, Math & Science                 271\n",
       "History & Civics, Special Needs                 252\n",
       "Health & Sports, Applied Learning               192\n",
       "Applied Learning, History & Civics              178\n",
       "Health & Sports, Music & The Arts               155\n",
       "Music & The Arts, Special Needs                 138\n",
       "Literacy & Language, Health & Sports             72\n",
       "Health & Sports, History & Civics                43\n",
       "History & Civics, Applied Learning               42\n",
       "Special Needs, Health & Sports                   42\n",
       "Special Needs, Warmth, Care & Hunger             23\n",
       "Health & Sports, Warmth, Care & Hunger           23\n",
       "Music & The Arts, Health & Sports                19\n",
       "Music & The Arts, History & Civics               18\n",
       "History & Civics, Health & Sports                13\n",
       "Math & Science, Warmth, Care & Hunger            11\n",
       "Music & The Arts, Applied Learning               10\n",
       "Applied Learning, Warmth, Care & Hunger          10\n",
       "Literacy & Language, Warmth, Care & Hunger        9\n",
       "Music & The Arts, Warmth, Care & Hunger           2\n",
       "History & Civics, Warmth, Care & Hunger           1\n",
       "Name: project_subject_categories, dtype: int64"
      ]
     },
     "execution_count": 8,
     "metadata": {},
     "output_type": "execute_result"
    }
   ],
   "source": [
    "project_data['project_subject_categories'].value_counts()"
   ]
  },
  {
   "cell_type": "code",
   "execution_count": 9,
   "metadata": {},
   "outputs": [
    {
     "data": {
      "text/plain": [
       "literacy_language                       23655\n",
       "math_science                            17072\n",
       "literacy_language_math_science          14636\n",
       "health_sports                           10177\n",
       "music_arts                               5180\n",
       "specialneeds                             4226\n",
       "literacy_language_specialneeds           3961\n",
       "appliedlearning                          3771\n",
       "math_science_literacy_language           2289\n",
       "appliedlearning_literacy_language        2191\n",
       "history_civics                           1851\n",
       "math_science_specialneeds                1840\n",
       "literacy_language_music_arts             1757\n",
       "math_science_music_arts                  1642\n",
       "appliedlearning_specialneeds             1467\n",
       "history_civics_literacy_language         1421\n",
       "health_sports_specialneeds               1391\n",
       "warmth_care_hunger                       1309\n",
       "math_science_appliedlearning             1220\n",
       "appliedlearning_math_science             1052\n",
       "literacy_language_history_civics          809\n",
       "health_sports_literacy_language           803\n",
       "appliedlearning_music_arts                758\n",
       "math_science_history_civics               652\n",
       "literacy_language_appliedlearning         636\n",
       "appliedlearning_health_sports             608\n",
       "math_science_health_sports                414\n",
       "history_civics_math_science               322\n",
       "history_civics_music_arts                 312\n",
       "specialneeds_music_arts                   302\n",
       "health_sports_math_science                271\n",
       "history_civics_specialneeds               252\n",
       "health_sports_appliedlearning             192\n",
       "appliedlearning_history_civics            178\n",
       "health_sports_music_arts                  155\n",
       "music_arts_specialneeds                   138\n",
       "literacy_language_health_sports            72\n",
       "health_sports_history_civics               43\n",
       "history_civics_appliedlearning             42\n",
       "specialneeds_health_sports                 42\n",
       "specialneeds_warmth_care_hunger            23\n",
       "health_sports_warmth_care_hunger           23\n",
       "music_arts_health_sports                   19\n",
       "music_arts_history_civics                  18\n",
       "history_civics_health_sports               13\n",
       "math_science_warmth_care_hunger            11\n",
       "music_arts_appliedlearning                 10\n",
       "appliedlearning_warmth_care_hunger         10\n",
       "literacy_language_warmth_care_hunger        9\n",
       "music_arts_warmth_care_hunger               2\n",
       "history_civics_warmth_care_hunger           1\n",
       "Name: clean_categories, dtype: int64"
      ]
     },
     "execution_count": 9,
     "metadata": {},
     "output_type": "execute_result"
    }
   ],
   "source": [
    "project_data['clean_categories'] = project_data['project_subject_categories'].str.replace(' The ','')\n",
    "project_data['clean_categories'] = project_data['clean_categories'].str.replace(' ','')\n",
    "project_data['clean_categories'] = project_data['clean_categories'].str.replace('&','_')\n",
    "project_data['clean_categories'] = project_data['clean_categories'].str.replace(',','_')\n",
    "project_data['clean_categories'] = project_data['clean_categories'].str.lower()\n",
    "project_data['clean_categories'].value_counts()"
   ]
  },
  {
   "cell_type": "markdown",
   "metadata": {},
   "source": [
    "### <font color='blue'>teacher_prefix</font>"
   ]
  },
  {
   "cell_type": "code",
   "execution_count": 10,
   "metadata": {},
   "outputs": [
    {
     "data": {
      "text/plain": [
       "3"
      ]
     },
     "execution_count": 10,
     "metadata": {},
     "output_type": "execute_result"
    }
   ],
   "source": [
    "project_data['teacher_prefix'].isnull().sum()"
   ]
  },
  {
   "cell_type": "code",
   "execution_count": 11,
   "metadata": {},
   "outputs": [
    {
     "data": {
      "text/plain": [
       "0"
      ]
     },
     "execution_count": 11,
     "metadata": {},
     "output_type": "execute_result"
    }
   ],
   "source": [
    "project_data['teacher_prefix'].fillna('Mrs.', inplace = True)\n",
    "project_data['teacher_prefix'].isnull().sum()"
   ]
  },
  {
   "cell_type": "code",
   "execution_count": 12,
   "metadata": {},
   "outputs": [
    {
     "data": {
      "text/plain": [
       "Mrs.       57272\n",
       "Ms.        38955\n",
       "Mr.        10648\n",
       "Teacher     2360\n",
       "Dr.           13\n",
       "Name: teacher_prefix, dtype: int64"
      ]
     },
     "execution_count": 12,
     "metadata": {},
     "output_type": "execute_result"
    }
   ],
   "source": [
    "project_data['teacher_prefix'].value_counts()"
   ]
  },
  {
   "cell_type": "code",
   "execution_count": 13,
   "metadata": {},
   "outputs": [
    {
     "data": {
      "text/plain": [
       "mrs        57272\n",
       "ms         38955\n",
       "mr         10648\n",
       "teacher     2360\n",
       "dr            13\n",
       "Name: teacher_prefix, dtype: int64"
      ]
     },
     "execution_count": 13,
     "metadata": {},
     "output_type": "execute_result"
    }
   ],
   "source": [
    "project_data['teacher_prefix'] = project_data['teacher_prefix'].str.replace('.','')\n",
    "project_data['teacher_prefix'] = project_data['teacher_prefix'].str.lower()\n",
    "project_data['teacher_prefix'].value_counts()"
   ]
  },
  {
   "cell_type": "markdown",
   "metadata": {},
   "source": [
    "### <font color='blue'>project_subject_subcategories</font>"
   ]
  },
  {
   "cell_type": "code",
   "execution_count": 14,
   "metadata": {
    "scrolled": false
   },
   "outputs": [
    {
     "data": {
      "text/plain": [
       "Literacy                             9486\n",
       "Literacy, Mathematics                8325\n",
       "Literature & Writing, Mathematics    5923\n",
       "Literacy, Literature & Writing       5571\n",
       "Mathematics                          5379\n",
       "                                     ... \n",
       "Community Service, Gym & Fitness        1\n",
       "Parent Involvement, Team Sports         1\n",
       "Gym & Fitness, Social Sciences          1\n",
       "Community Service, Music                1\n",
       "Economics, Foreign Languages            1\n",
       "Name: project_subject_subcategories, Length: 401, dtype: int64"
      ]
     },
     "execution_count": 14,
     "metadata": {},
     "output_type": "execute_result"
    }
   ],
   "source": [
    "project_data['project_subject_subcategories'].value_counts()"
   ]
  },
  {
   "cell_type": "code",
   "execution_count": 15,
   "metadata": {},
   "outputs": [
    {
     "data": {
      "text/plain": [
       "literacy                          9486\n",
       "literacy_mathematics              8325\n",
       "literature_writing_mathematics    5923\n",
       "literacy_literature_writing       5571\n",
       "mathematics                       5379\n",
       "                                  ... \n",
       "communityservice_gym_fitness         1\n",
       "parentinvolvement_teamsports         1\n",
       "gym_fitness_socialsciences           1\n",
       "communityservice_music               1\n",
       "economics_foreignlanguages           1\n",
       "Name: clean_subcategories, Length: 401, dtype: int64"
      ]
     },
     "execution_count": 15,
     "metadata": {},
     "output_type": "execute_result"
    }
   ],
   "source": [
    "project_data['clean_subcategories'] = \\\n",
    "                                project_data['project_subject_subcategories'].str.replace(' The ','')\n",
    "\n",
    "project_data['clean_subcategories'] = \\\n",
    "                                project_data['clean_subcategories'].str.replace(' ','')\n",
    "\n",
    "project_data['clean_subcategories'] = \\\n",
    "                                project_data['clean_subcategories'].str.replace('&','_')\n",
    "\n",
    "project_data['clean_subcategories'] = \\\n",
    "                                project_data['clean_subcategories'].str.replace(',','_')\n",
    "\n",
    "project_data['clean_subcategories'] = \\\n",
    "                                project_data['clean_subcategories'].str.lower()\n",
    "\n",
    "project_data['clean_subcategories'].value_counts()"
   ]
  },
  {
   "cell_type": "markdown",
   "metadata": {},
   "source": [
    "### <font color='blue'>school_state</font>"
   ]
  },
  {
   "cell_type": "code",
   "execution_count": 16,
   "metadata": {},
   "outputs": [
    {
     "data": {
      "text/plain": [
       "CA    15388\n",
       "TX     7396\n",
       "NY     7318\n",
       "FL     6185\n",
       "NC     5091\n",
       "IL     4350\n",
       "GA     3963\n",
       "SC     3936\n",
       "MI     3161\n",
       "PA     3109\n",
       "IN     2620\n",
       "MO     2576\n",
       "OH     2467\n",
       "LA     2394\n",
       "MA     2389\n",
       "WA     2334\n",
       "OK     2276\n",
       "NJ     2237\n",
       "AZ     2147\n",
       "VA     2045\n",
       "WI     1827\n",
       "AL     1762\n",
       "UT     1731\n",
       "TN     1688\n",
       "CT     1663\n",
       "MD     1514\n",
       "NV     1367\n",
       "MS     1323\n",
       "KY     1304\n",
       "OR     1242\n",
       "MN     1208\n",
       "CO     1111\n",
       "AR     1049\n",
       "ID      693\n",
       "IA      666\n",
       "KS      634\n",
       "NM      557\n",
       "DC      516\n",
       "HI      507\n",
       "ME      505\n",
       "WV      503\n",
       "NH      348\n",
       "AK      345\n",
       "DE      343\n",
       "NE      309\n",
       "SD      300\n",
       "RI      285\n",
       "MT      245\n",
       "ND      143\n",
       "WY       98\n",
       "VT       80\n",
       "Name: school_state, dtype: int64"
      ]
     },
     "execution_count": 16,
     "metadata": {},
     "output_type": "execute_result"
    }
   ],
   "source": [
    "project_data['school_state'].value_counts()"
   ]
  },
  {
   "cell_type": "code",
   "execution_count": 17,
   "metadata": {},
   "outputs": [
    {
     "data": {
      "text/plain": [
       "array(['in', 'fl', 'az', 'ky', 'tx', 'ct', 'ga', 'sc', 'nc', 'ca', 'ny',\n",
       "       'ok', 'ma', 'nv', 'oh', 'pa', 'al', 'la', 'va', 'ar', 'wa', 'wv',\n",
       "       'id', 'tn', 'ms', 'co', 'ut', 'il', 'mi', 'hi', 'ia', 'ri', 'nj',\n",
       "       'mo', 'de', 'mn', 'me', 'wy', 'nd', 'or', 'ak', 'md', 'wi', 'sd',\n",
       "       'ne', 'nm', 'dc', 'ks', 'mt', 'nh', 'vt'], dtype=object)"
      ]
     },
     "execution_count": 17,
     "metadata": {},
     "output_type": "execute_result"
    }
   ],
   "source": [
    "project_data['school_state'] = project_data['school_state'].str.lower()\n",
    "project_data['school_state'].unique()"
   ]
  },
  {
   "cell_type": "markdown",
   "metadata": {},
   "source": [
    "### <font color='blue'>project_title</font>"
   ]
  },
  {
   "cell_type": "code",
   "execution_count": 18,
   "metadata": {},
   "outputs": [],
   "source": [
    "# https://stackoverflow.com/a/47091490/4084039\n",
    "\n",
    "def decontracted(phrase):\n",
    "    \n",
    "    # specific\n",
    "    phrase = re.sub(r\"won't\", \"will not\", phrase)\n",
    "    phrase = re.sub(r\"can\\'t\", \"can not\", phrase)\n",
    "\n",
    "    # general\n",
    "    phrase = re.sub(r\"n\\'t\", \" not\", phrase)\n",
    "    phrase = re.sub(r\"\\'re\", \" are\", phrase)\n",
    "    phrase = re.sub(r\"\\'s\", \" is\", phrase)\n",
    "    phrase = re.sub(r\"\\'d\", \" would\", phrase)\n",
    "    phrase = re.sub(r\"\\'ll\", \" will\", phrase)\n",
    "    phrase = re.sub(r\"\\'t\", \" not\", phrase)\n",
    "    phrase = re.sub(r\"\\'ve\", \" have\", phrase)\n",
    "    phrase = re.sub(r\"\\'m\", \" am\", phrase)\n",
    "    \n",
    "    return phrase"
   ]
  },
  {
   "cell_type": "code",
   "execution_count": 19,
   "metadata": {},
   "outputs": [],
   "source": [
    "# https://gist.github.com/sebleier/554280\n",
    "# Removing the words from the stop words list: 'no', 'nor', 'not'\n",
    "\n",
    "stopwords= ['i', 'me', 'my', 'myself', 'we', 'our', 'ours', 'ourselves', 'you', \"you're\", \"you've\",\n",
    "            \"you'll\", \"you'd\", 'your', 'yours', 'yourself', 'yourselves', 'he', 'him', 'his',\n",
    "            'himself', 'she', \"she's\", 'her', 'hers', 'herself', 'it', \"it's\", 'its', 'itself', 'they',\n",
    "            'them', 'their', 'theirs', 'themselves', 'what', 'which', 'who', 'whom', 'this', 'that', \n",
    "            \"that'll\", 'these', 'those', 'am', 'is', 'are', 'was', 'were', 'be', 'been', 'being', 'have',\n",
    "            'has', 'had', 'having', 'do', 'does', 'did', 'doing', 'a', 'an', 'the', 'and', 'but', 'if', \n",
    "            'or', 'because', 'as', 'until', 'while', 'of', 'at', 'by', 'for', 'with', 'about', 'against',\n",
    "            'between', 'into', 'through', 'during', 'before', 'after', 'above', 'below', 'to', 'from',\n",
    "            'up', 'down', 'in', 'out', 'on', 'off', 'over', 'under', 'again', 'further', 'then', 'once',\n",
    "            'here', 'there', 'when', 'where', 'why', 'how', 'all', 'any', 'both', 'each', 'few', 'more',\n",
    "            'most', 'other', 'some', 'such', 'only', 'own', 'same', 'so', 'than', 'too', 'very', 's',\n",
    "            't', 'can', 'will', 'just', 'don', \"don't\", 'should', \"should've\", 'now', 'd', 'll', 'm',\n",
    "            'o', 're', 've', 'y', 'ain', 'aren', \"aren't\", 'couldn', \"couldn't\", 'didn', \"didn't\",\n",
    "            'doesn', \"doesn't\", 'hadn', \"hadn't\", 'hasn', \"hasn't\", 'haven', \"haven't\", 'isn', \"isn't\",\n",
    "            'ma', 'mightn', \"mightn't\", 'mustn', \"mustn't\", 'needn', \"needn't\", 'shan', \"shan't\",\n",
    "            'shouldn', \"shouldn't\", 'wasn', \"wasn't\", 'weren', \"weren't\", 'won', \"won't\", 'wouldn',\n",
    "            \"wouldn't\"]"
   ]
  },
  {
   "cell_type": "code",
   "execution_count": 20,
   "metadata": {},
   "outputs": [
    {
     "name": "stdout",
     "output_type": "stream",
     "text": [
      "Random Review Texts\n",
      "===================\n",
      "9 Just For the Love of Reading--\\r\\nPure Pleasure\n",
      "34 \\\"Have A Ball!!!\\\"\n",
      "147 Who needs a Chromebook?\\r\\nWE DO!!\n"
     ]
    }
   ],
   "source": [
    "print('Random Review Texts')\n",
    "print('=' *19)\n",
    "print(9, project_data['project_title'].values[9])\n",
    "print(34, project_data['project_title'].values[34])\n",
    "print(147, project_data['project_title'].values[147])"
   ]
  },
  {
   "cell_type": "code",
   "execution_count": 21,
   "metadata": {},
   "outputs": [],
   "source": [
    "# https://gist.github.com/sebleier/554280\n",
    "# Combining all the above stundents \n",
    "\n",
    "def preprocess_title(text_data):\n",
    "    \n",
    "    preprocessed_text = []\n",
    "    \n",
    "    for sentance in tqdm(text_data):\n",
    "        \n",
    "        sent = decontracted(sentance)\n",
    "        sent = sent.replace('\\\\r', ' ')\n",
    "        sent = sent.replace('\\\\n', ' ')\n",
    "        sent = sent.replace('\\\\\"', ' ')\n",
    "        sent = re.sub('[^A-Za-z0-9]+', ' ', sent)\n",
    "        \n",
    "#         sent = ' '.join(e for e in sent.split() if e.lower() not in stopwords)\n",
    "        \n",
    "        preprocessed_text.append(sent.lower().strip())\n",
    "        \n",
    "    return preprocessed_text"
   ]
  },
  {
   "cell_type": "code",
   "execution_count": 22,
   "metadata": {
    "scrolled": true
   },
   "outputs": [
    {
     "data": {
      "application/vnd.jupyter.widget-view+json": {
       "model_id": "366a0e20d97144cfb09aaae94c920ba0",
       "version_major": 2,
       "version_minor": 0
      },
      "text/plain": [
       "  0%|          | 0/109248 [00:00<?, ?it/s]"
      ]
     },
     "metadata": {},
     "output_type": "display_data"
    }
   ],
   "source": [
    "preprocessed_titles = preprocess_title(project_data['project_title'].values)"
   ]
  },
  {
   "cell_type": "code",
   "execution_count": 23,
   "metadata": {},
   "outputs": [
    {
     "name": "stdout",
     "output_type": "stream",
     "text": [
      "BEFORE Processing\n",
      "===================\n",
      "9 Just For the Love of Reading--\\r\\nPure Pleasure\n",
      "34 \\\"Have A Ball!!!\\\"\n",
      "147 Who needs a Chromebook?\\r\\nWE DO!!\n",
      "\n",
      "AFTER Processing\n",
      "================\n",
      "9 just for the love of reading pure pleasure\n",
      "34 have a ball\n",
      "147 who needs a chromebook we do\n"
     ]
    }
   ],
   "source": [
    "print('BEFORE Processing')\n",
    "print('=' *19)\n",
    "print(9, project_data['project_title'].values[9])\n",
    "print(34, project_data['project_title'].values[34])\n",
    "print(147, project_data['project_title'].values[147])\n",
    "\n",
    "print('\\nAFTER Processing')\n",
    "print('=' *16)\n",
    "print(9, preprocessed_titles[9])\n",
    "print(34, preprocessed_titles[34])\n",
    "print(147, preprocessed_titles[147])"
   ]
  },
  {
   "cell_type": "markdown",
   "metadata": {},
   "source": [
    "### <font color ='blue'>title_word_count</font>\n",
    "* Adding a new feature"
   ]
  },
  {
   "cell_type": "code",
   "execution_count": 24,
   "metadata": {
    "scrolled": true
   },
   "outputs": [
    {
     "data": {
      "application/vnd.jupyter.widget-view+json": {
       "model_id": "bef0d32636d7480b9d1c622641f3c87b",
       "version_major": 2,
       "version_minor": 0
      },
      "text/plain": [
       "  0%|          | 0/109248 [00:00<?, ?it/s]"
      ]
     },
     "metadata": {},
     "output_type": "display_data"
    },
    {
     "name": "stdout",
     "output_type": "stream",
     "text": [
      "Length of `title_word_count` list : 109248\n"
     ]
    }
   ],
   "source": [
    "title_word_count = []\n",
    "for title in tqdm(preprocessed_titles):\n",
    "    title_length = len(title.split())\n",
    "    title_word_count.append(title_length)\n",
    "    \n",
    "print(f'Length of `title_word_count` list : {len(title_word_count)}')"
   ]
  },
  {
   "cell_type": "markdown",
   "metadata": {},
   "source": [
    "### <font color='blue'>essay</font>"
   ]
  },
  {
   "cell_type": "code",
   "execution_count": 25,
   "metadata": {},
   "outputs": [],
   "source": [
    "# https://gist.github.com/sebleier/554280\n",
    "# Combining all the above stundents \n",
    "\n",
    "def preprocess_text(text_data):\n",
    "    \n",
    "    preprocessed_text = []\n",
    "    \n",
    "    for sentance in tqdm(text_data):\n",
    "        \n",
    "        sent = decontracted(sentance)\n",
    "        sent = sent.replace('\\\\r', ' ')\n",
    "        sent = sent.replace('\\\\n', ' ')\n",
    "        sent = sent.replace('\\\\\"', ' ')\n",
    "        sent = re.sub('[^A-Za-z0-9]+', ' ', sent)\n",
    "        \n",
    "        sent = ' '.join(e for e in sent.split() if e.lower() not in stopwords)\n",
    "        \n",
    "        preprocessed_text.append(sent.lower().strip())\n",
    "        \n",
    "    return preprocessed_text"
   ]
  },
  {
   "cell_type": "code",
   "execution_count": 26,
   "metadata": {},
   "outputs": [],
   "source": [
    "# merge two column text dataframe:\n",
    "\n",
    "project_data['essay'] = project_data['project_essay_1'].map(str) +\\\n",
    "                        project_data['project_essay_2'].map(str) + \\\n",
    "                        project_data['project_essay_3'].map(str) + \\\n",
    "                        project_data['project_essay_4'].map(str)"
   ]
  },
  {
   "cell_type": "code",
   "execution_count": 27,
   "metadata": {},
   "outputs": [
    {
     "name": "stdout",
     "output_type": "stream",
     "text": [
      "Random Essay Texts\n",
      "==================\n",
      "9 Over 95% of my students are on free or reduced lunch.  I have a few who are homeless, but despite that, they come to school with an eagerness to learn.  My students are inquisitive eager learners who  embrace the challenge of not having great books and other resources  every day.  Many of them are not afforded the opportunity to engage with these big colorful pages of a book on a regular basis at home and they don't travel to the public library.  \\r\\nIt is my duty as a teacher to do all I can to provide each student an opportunity to succeed in every aspect of life. \\r\\nReading is Fundamental! My students will read these books over and over again while boosting their comprehension skills. These books will be used for read alouds, partner reading and for Independent reading. \\r\\nThey will engage in reading to build their \\\"Love for Reading\\\" by reading for pure enjoyment. They will be introduced to some new authors as well as some old favorites. I want my students to be ready for the 21st Century and know the pleasure of holding a good hard back book in hand. There's nothing like a good book to read!  \\r\\nMy students will soar in Reading, and more because of your consideration and generous funding contribution. This will help build stamina and prepare for 3rd grade. Thank you so much for reading our proposal!nannan\n",
      "--------------------------------------------------------------------------------------------------------------\n",
      "34 My students mainly come from extremely low-income families, and the majority of them come from homes where both parents work full time. Most of my students are at school from 7:30 am to 6:00 pm (2:30 to 6:00 pm in the after-school program), and they all receive free and reduced meals for breakfast and lunch. \\r\\n\\r\\n\\r\\nI want my students to feel  as comfortable in my classroom as they do at home. Many of my students take on multiple roles both at home as well as in school. They are sometimes the caretakers of younger siblings, cooks, babysitters, academics, friends, and most of all, they are developing who they are going to become as adults.  I consider it an essential part of my job to model helping others gain knowledge in a positive manner. As a result, I have a community of students who love helping each other in and outside of the classroom. They consistently look for opportunities to support each other's learning in a kind and helpful way.I am excited to be experimenting with alternative seating in my classroom this school year. Studies have shown that giving students the option of where they sit in a classroom increases focus as well as motivation.  \\r\\n\\r\\nBy allowing students choice in the classroom, they are able to explore and create in a welcoming environment. Alternative classroom seating has been experimented with more frequently in recent years. I believe (along with many others), that every child learns differently. This does not only apply to how multiplication is memorized, or a paper is written, but applies to the space in which they are asked to work. I have had students in the past ask \\\"Can I work in the library? Can I work on the carpet?\\\" My answer was always, \\\"As long as you're learning, you can work wherever you want!\\\" \\r\\n\\r\\nWith the yoga balls and the lap-desks, I will be able to increase the options for seating in my classroom and expand its imaginable space.nannan\n",
      "--------------------------------------------------------------------------------------------------------------\n",
      "147 My students are eager to learn and make their mark on the world.\\r\\n\\r\\nThey come from a Title 1 school and need extra love.\\r\\n\\r\\nMy fourth grade students are in a high poverty area and still come to school every day to get their education. I am trying to make it fun and educational for them so they can get the most out of their schooling. I created a caring environment for the students to bloom! They deserve the best.\\r\\nThank you!\\r\\nI am requesting 1 Chromebook to access online interventions, differentiate instruction, and get extra practice. The Chromebook will be used to supplement ELA and math instruction. Students will play ELA and math games that are engaging and fun, as well as participate in assignments online. This in turn will help my students improve their skills. Having a Chromebook in the classroom would not only allow students to use the programs at their own pace, but would ensure more students are getting adequate time to use the programs. The online programs have been especially beneficial to my students with special needs. They are able to work at their level as well as be challenged with some different materials. This is making these students more confident in their abilities.\\r\\n\\r\\nThe Chromebook would allow my students to have daily access to computers and increase their computing skills.\\r\\nThis will change their lives for the better as they become more successful in school. Having access to technology in the classroom would help bridge the achievement gap.nannan\n"
     ]
    }
   ],
   "source": [
    "print('Random Essay Texts')\n",
    "print('=' * 18)\n",
    "print(9, project_data['essay'].values[9])\n",
    "print('-' * 110)\n",
    "print(34, project_data['essay'].values[34])\n",
    "print('-' * 110)\n",
    "print(147, project_data['essay'].values[147])"
   ]
  },
  {
   "cell_type": "code",
   "execution_count": 28,
   "metadata": {},
   "outputs": [
    {
     "data": {
      "application/vnd.jupyter.widget-view+json": {
       "model_id": "8b95afa672214d68988488c42a322815",
       "version_major": 2,
       "version_minor": 0
      },
      "text/plain": [
       "  0%|          | 0/109248 [00:00<?, ?it/s]"
      ]
     },
     "metadata": {},
     "output_type": "display_data"
    }
   ],
   "source": [
    "preprocessed_essays = preprocess_text(project_data['essay'].values)"
   ]
  },
  {
   "cell_type": "code",
   "execution_count": 29,
   "metadata": {
    "scrolled": false
   },
   "outputs": [
    {
     "name": "stdout",
     "output_type": "stream",
     "text": [
      "9 : BEFORE Processing\n",
      "=====================\n",
      "Over 95% of my students are on free or reduced lunch.  I have a few who are homeless, but despite that, they come to school with an eagerness to learn.  My students are inquisitive eager learners who  embrace the challenge of not having great books and other resources  every day.  Many of them are not afforded the opportunity to engage with these big colorful pages of a book on a regular basis at home and they don't travel to the public library.  \\r\\nIt is my duty as a teacher to do all I can to provide each student an opportunity to succeed in every aspect of life. \\r\\nReading is Fundamental! My students will read these books over and over again while boosting their comprehension skills. These books will be used for read alouds, partner reading and for Independent reading. \\r\\nThey will engage in reading to build their \\\"Love for Reading\\\" by reading for pure enjoyment. They will be introduced to some new authors as well as some old favorites. I want my students to be ready for the 21st Century and know the pleasure of holding a good hard back book in hand. There's nothing like a good book to read!  \\r\\nMy students will soar in Reading, and more because of your consideration and generous funding contribution. This will help build stamina and prepare for 3rd grade. Thank you so much for reading our proposal!nannan\n",
      "\n",
      "AFTER Processing\n",
      "================\n",
      "95 students free reduced lunch homeless despite come school eagerness learn students inquisitive eager learners embrace challenge not great books resources every day many not afforded opportunity engage big colorful pages book regular basis home not travel public library duty teacher provide student opportunity succeed every aspect life reading fundamental students read books boosting comprehension skills books used read alouds partner reading independent reading engage reading build love reading reading pure enjoyment introduced new authors well old favorites want students ready 21st century know pleasure holding good hard back book hand nothing like good book read students soar reading consideration generous funding contribution help build stamina prepare 3rd grade thank much reading proposal nannan\n",
      "\n",
      " --------------------------------------------------------------------------------------------------------------\n",
      "\n",
      " 34 : BEFORE Processing\n",
      "=======================\n",
      "My students mainly come from extremely low-income families, and the majority of them come from homes where both parents work full time. Most of my students are at school from 7:30 am to 6:00 pm (2:30 to 6:00 pm in the after-school program), and they all receive free and reduced meals for breakfast and lunch. \\r\\n\\r\\n\\r\\nI want my students to feel  as comfortable in my classroom as they do at home. Many of my students take on multiple roles both at home as well as in school. They are sometimes the caretakers of younger siblings, cooks, babysitters, academics, friends, and most of all, they are developing who they are going to become as adults.  I consider it an essential part of my job to model helping others gain knowledge in a positive manner. As a result, I have a community of students who love helping each other in and outside of the classroom. They consistently look for opportunities to support each other's learning in a kind and helpful way.I am excited to be experimenting with alternative seating in my classroom this school year. Studies have shown that giving students the option of where they sit in a classroom increases focus as well as motivation.  \\r\\n\\r\\nBy allowing students choice in the classroom, they are able to explore and create in a welcoming environment. Alternative classroom seating has been experimented with more frequently in recent years. I believe (along with many others), that every child learns differently. This does not only apply to how multiplication is memorized, or a paper is written, but applies to the space in which they are asked to work. I have had students in the past ask \\\"Can I work in the library? Can I work on the carpet?\\\" My answer was always, \\\"As long as you're learning, you can work wherever you want!\\\" \\r\\n\\r\\nWith the yoga balls and the lap-desks, I will be able to increase the options for seating in my classroom and expand its imaginable space.nannan\n",
      "\n",
      "AFTER Processing\n",
      "================\n",
      "students mainly come extremely low income families majority come homes parents work full time students school 7 30 6 00 pm 2 30 6 00 pm school program receive free reduced meals breakfast lunch want students feel comfortable classroom home many students take multiple roles home well school sometimes caretakers younger siblings cooks babysitters academics friends developing going become adults consider essential part job model helping others gain knowledge positive manner result community students love helping outside classroom consistently look opportunities support learning kind helpful way excited experimenting alternative seating classroom school year studies shown giving students option sit classroom increases focus well motivation allowing students choice classroom able explore create welcoming environment alternative classroom seating experimented frequently recent years believe along many others every child learns differently not apply multiplication memorized paper written applies space asked work students past ask work library work carpet answer always long learning work wherever want yoga balls lap desks able increase options seating classroom expand imaginable space nannan\n",
      "\n",
      " --------------------------------------------------------------------------------------------------------------\n",
      "\n",
      "147 : BEFORE Processing\n",
      "=======================\n",
      "My students are eager to learn and make their mark on the world.\\r\\n\\r\\nThey come from a Title 1 school and need extra love.\\r\\n\\r\\nMy fourth grade students are in a high poverty area and still come to school every day to get their education. I am trying to make it fun and educational for them so they can get the most out of their schooling. I created a caring environment for the students to bloom! They deserve the best.\\r\\nThank you!\\r\\nI am requesting 1 Chromebook to access online interventions, differentiate instruction, and get extra practice. The Chromebook will be used to supplement ELA and math instruction. Students will play ELA and math games that are engaging and fun, as well as participate in assignments online. This in turn will help my students improve their skills. Having a Chromebook in the classroom would not only allow students to use the programs at their own pace, but would ensure more students are getting adequate time to use the programs. The online programs have been especially beneficial to my students with special needs. They are able to work at their level as well as be challenged with some different materials. This is making these students more confident in their abilities.\\r\\n\\r\\nThe Chromebook would allow my students to have daily access to computers and increase their computing skills.\\r\\nThis will change their lives for the better as they become more successful in school. Having access to technology in the classroom would help bridge the achievement gap.nannan\n",
      "\n",
      "AFTER Processing\n",
      "================\n",
      "students eager learn make mark world come title 1 school need extra love fourth grade students high poverty area still come school every day get education trying make fun educational get schooling created caring environment students bloom deserve best thank requesting 1 chromebook access online interventions differentiate instruction get extra practice chromebook used supplement ela math instruction students play ela math games engaging fun well participate assignments online turn help students improve skills chromebook classroom would not allow students use programs pace would ensure students getting adequate time use programs online programs especially beneficial students special needs able work level well challenged different materials making students confident abilities chromebook would allow students daily access computers increase computing skills change lives better become successful school access technology classroom would help bridge achievement gap nannan\n"
     ]
    }
   ],
   "source": [
    "print('9 : BEFORE Processing')\n",
    "print('=' * 21)\n",
    "print(project_data['essay'].values[9])\n",
    "print('\\nAFTER Processing')\n",
    "print('=' *16)\n",
    "print(preprocessed_essays[9])\n",
    "\n",
    "print('\\n','-' * 110)\n",
    "\n",
    "print('\\n 34 : BEFORE Processing')\n",
    "print('=' * 23)\n",
    "print(project_data['essay'].values[34])\n",
    "print('\\nAFTER Processing')\n",
    "print('=' *16)\n",
    "print(preprocessed_essays[34])\n",
    "\n",
    "print('\\n','-' * 110)\n",
    "\n",
    "print('\\n147 : BEFORE Processing')\n",
    "print('=' *23)\n",
    "print(project_data['essay'].values[147])\n",
    "print('\\nAFTER Processing')\n",
    "print('=' *16)\n",
    "print(preprocessed_essays[147])"
   ]
  },
  {
   "cell_type": "code",
   "execution_count": 30,
   "metadata": {},
   "outputs": [
    {
     "data": {
      "application/vnd.jupyter.widget-view+json": {
       "model_id": "1ad011bc8b9f47c1a20c5b73162dc2b9",
       "version_major": 2,
       "version_minor": 0
      },
      "text/plain": [
       "  0%|          | 0/109248 [00:00<?, ?it/s]"
      ]
     },
     "metadata": {},
     "output_type": "display_data"
    }
   ],
   "source": [
    "preprocessed_project_resource_summary = preprocess_text(project_data['project_resource_summary'].values)"
   ]
  },
  {
   "cell_type": "code",
   "execution_count": 31,
   "metadata": {},
   "outputs": [
    {
     "name": "stdout",
     "output_type": "stream",
     "text": [
      "9 : BEFORE Processing\n",
      "=====================\n",
      "My students need great books to use during Independent Reading, Read Alouds, Partner Reading and Author Studies.\n",
      "\n",
      "AFTER Processing\n",
      "================\n",
      "students need great books use independent reading read alouds partner reading author studies\n",
      "\n",
      " --------------------------------------------------------------------------------------------------------------\n",
      "\n",
      "34 : BEFORE Processing\n",
      "======================\n",
      "My students need alternative seating, to increase student choice, and add to mobility in the classroom.\n",
      "\n",
      "AFTER Processing\n",
      "================\n",
      "students need alternative seating increase student choice add mobility classroom\n",
      "\n",
      " --------------------------------------------------------------------------------------------------------------\n",
      "\n",
      "147 : BEFORE Processing\n",
      "=======================\n",
      "My students need a chromebook to help with differentiation and extra practice!!!\n",
      "\n",
      "AFTER Processing\n",
      "================\n",
      "students need chromebook help differentiation extra practice\n"
     ]
    }
   ],
   "source": [
    "print('9 : BEFORE Processing')\n",
    "print('=' * 21)\n",
    "print(project_data['project_resource_summary'].values[9])\n",
    "print('\\nAFTER Processing')\n",
    "print('=' *16)\n",
    "print(preprocessed_project_resource_summary[9])\n",
    "\n",
    "print('\\n','-' * 110)\n",
    "\n",
    "print('\\n34 : BEFORE Processing')\n",
    "print('=' * 22)\n",
    "print(project_data['project_resource_summary'].values[34])\n",
    "print('\\nAFTER Processing')\n",
    "print('=' *16)\n",
    "print(preprocessed_project_resource_summary[34])\n",
    "\n",
    "print('\\n','-' * 110)\n",
    "\n",
    "print('\\n147 : BEFORE Processing')\n",
    "print('=' *23)\n",
    "print(project_data['project_resource_summary'].values[147])\n",
    "print('\\nAFTER Processing')\n",
    "print('=' *16)\n",
    "print(preprocessed_project_resource_summary[147])"
   ]
  },
  {
   "cell_type": "markdown",
   "metadata": {},
   "source": [
    "## <font color='red'>Preprocessing Categorical Features</font>\n",
    "### <font color='blue'>price_data</font>"
   ]
  },
  {
   "cell_type": "code",
   "execution_count": 32,
   "metadata": {},
   "outputs": [
    {
     "data": {
      "text/html": [
       "<div>\n",
       "<style scoped>\n",
       "    .dataframe tbody tr th:only-of-type {\n",
       "        vertical-align: middle;\n",
       "    }\n",
       "\n",
       "    .dataframe tbody tr th {\n",
       "        vertical-align: top;\n",
       "    }\n",
       "\n",
       "    .dataframe thead th {\n",
       "        text-align: right;\n",
       "    }\n",
       "</style>\n",
       "<table border=\"1\" class=\"dataframe\">\n",
       "  <thead>\n",
       "    <tr style=\"text-align: right;\">\n",
       "      <th></th>\n",
       "      <th>id</th>\n",
       "      <th>price</th>\n",
       "      <th>quantity</th>\n",
       "    </tr>\n",
       "  </thead>\n",
       "  <tbody>\n",
       "    <tr>\n",
       "      <th>0</th>\n",
       "      <td>p000001</td>\n",
       "      <td>459.56</td>\n",
       "      <td>7</td>\n",
       "    </tr>\n",
       "    <tr>\n",
       "      <th>1</th>\n",
       "      <td>p000002</td>\n",
       "      <td>515.89</td>\n",
       "      <td>21</td>\n",
       "    </tr>\n",
       "    <tr>\n",
       "      <th>2</th>\n",
       "      <td>p000003</td>\n",
       "      <td>298.97</td>\n",
       "      <td>4</td>\n",
       "    </tr>\n",
       "  </tbody>\n",
       "</table>\n",
       "</div>"
      ],
      "text/plain": [
       "        id   price  quantity\n",
       "0  p000001  459.56         7\n",
       "1  p000002  515.89        21\n",
       "2  p000003  298.97         4"
      ]
     },
     "execution_count": 32,
     "metadata": {},
     "output_type": "execute_result"
    }
   ],
   "source": [
    "'''\n",
    "https://stackoverflow.com/questions/22407798/how-to-reset-a-\n",
    "dataframes-indexes-for-all-groups-in-one-step\n",
    "'''\n",
    "\n",
    "price_data = resource_data.groupby('id').agg({'price':'sum', 'quantity':'sum'}).reset_index()\n",
    "price_data.head(3)"
   ]
  },
  {
   "cell_type": "code",
   "execution_count": 33,
   "metadata": {},
   "outputs": [],
   "source": [
    "# Joining two dataframes `project_data` & `price_data` : \n",
    "\n",
    "project_data = pd.merge(project_data, price_data, on='id', how='left')"
   ]
  },
  {
   "cell_type": "code",
   "execution_count": 34,
   "metadata": {},
   "outputs": [
    {
     "data": {
      "text/plain": [
       "0    154.60\n",
       "1    299.00\n",
       "2    516.85\n",
       "3    232.90\n",
       "4     67.98\n",
       "Name: price, dtype: float64"
      ]
     },
     "execution_count": 34,
     "metadata": {},
     "output_type": "execute_result"
    }
   ],
   "source": [
    "project_data['price'].head()"
   ]
  },
  {
   "cell_type": "code",
   "execution_count": 35,
   "metadata": {},
   "outputs": [
    {
     "data": {
      "text/html": [
       "<div>\n",
       "<style scoped>\n",
       "    .dataframe tbody tr th:only-of-type {\n",
       "        vertical-align: middle;\n",
       "    }\n",
       "\n",
       "    .dataframe tbody tr th {\n",
       "        vertical-align: top;\n",
       "    }\n",
       "\n",
       "    .dataframe thead th {\n",
       "        text-align: right;\n",
       "    }\n",
       "</style>\n",
       "<table border=\"1\" class=\"dataframe\">\n",
       "  <thead>\n",
       "    <tr style=\"text-align: right;\">\n",
       "      <th></th>\n",
       "      <th>Unnamed: 0</th>\n",
       "      <th>id</th>\n",
       "      <th>teacher_id</th>\n",
       "      <th>teacher_prefix</th>\n",
       "      <th>school_state</th>\n",
       "      <th>project_submitted_datetime</th>\n",
       "      <th>project_grade_category</th>\n",
       "      <th>project_subject_categories</th>\n",
       "      <th>project_subject_subcategories</th>\n",
       "      <th>project_title</th>\n",
       "      <th>...</th>\n",
       "      <th>project_essay_3</th>\n",
       "      <th>project_essay_4</th>\n",
       "      <th>project_resource_summary</th>\n",
       "      <th>teacher_number_of_previously_posted_projects</th>\n",
       "      <th>project_is_approved</th>\n",
       "      <th>clean_categories</th>\n",
       "      <th>clean_subcategories</th>\n",
       "      <th>essay</th>\n",
       "      <th>price</th>\n",
       "      <th>quantity</th>\n",
       "    </tr>\n",
       "  </thead>\n",
       "  <tbody>\n",
       "    <tr>\n",
       "      <th>0</th>\n",
       "      <td>160221</td>\n",
       "      <td>p253737</td>\n",
       "      <td>c90749f5d961ff158d4b4d1e7dc665fc</td>\n",
       "      <td>mrs</td>\n",
       "      <td>in</td>\n",
       "      <td>2016-12-05 13:43:57</td>\n",
       "      <td>grades_prek_2</td>\n",
       "      <td>Literacy &amp; Language</td>\n",
       "      <td>ESL, Literacy</td>\n",
       "      <td>Educational Support for English Learners at Home</td>\n",
       "      <td>...</td>\n",
       "      <td>NaN</td>\n",
       "      <td>NaN</td>\n",
       "      <td>My students need opportunities to practice beg...</td>\n",
       "      <td>0</td>\n",
       "      <td>0</td>\n",
       "      <td>literacy_language</td>\n",
       "      <td>esl_literacy</td>\n",
       "      <td>My students are English learners that are work...</td>\n",
       "      <td>154.6</td>\n",
       "      <td>23</td>\n",
       "    </tr>\n",
       "    <tr>\n",
       "      <th>1</th>\n",
       "      <td>140945</td>\n",
       "      <td>p258326</td>\n",
       "      <td>897464ce9ddc600bced1151f324dd63a</td>\n",
       "      <td>mr</td>\n",
       "      <td>fl</td>\n",
       "      <td>2016-10-25 09:22:10</td>\n",
       "      <td>grades_6_8</td>\n",
       "      <td>History &amp; Civics, Health &amp; Sports</td>\n",
       "      <td>Civics &amp; Government, Team Sports</td>\n",
       "      <td>Wanted: Projector for Hungry Learners</td>\n",
       "      <td>...</td>\n",
       "      <td>NaN</td>\n",
       "      <td>NaN</td>\n",
       "      <td>My students need a projector to help with view...</td>\n",
       "      <td>7</td>\n",
       "      <td>1</td>\n",
       "      <td>history_civics_health_sports</td>\n",
       "      <td>civics_government_teamsports</td>\n",
       "      <td>Our students arrive to our school eager to lea...</td>\n",
       "      <td>299.0</td>\n",
       "      <td>1</td>\n",
       "    </tr>\n",
       "  </tbody>\n",
       "</table>\n",
       "<p>2 rows × 22 columns</p>\n",
       "</div>"
      ],
      "text/plain": [
       "   Unnamed: 0       id                        teacher_id teacher_prefix  \\\n",
       "0      160221  p253737  c90749f5d961ff158d4b4d1e7dc665fc            mrs   \n",
       "1      140945  p258326  897464ce9ddc600bced1151f324dd63a             mr   \n",
       "\n",
       "  school_state project_submitted_datetime project_grade_category  \\\n",
       "0           in        2016-12-05 13:43:57          grades_prek_2   \n",
       "1           fl        2016-10-25 09:22:10             grades_6_8   \n",
       "\n",
       "          project_subject_categories     project_subject_subcategories  \\\n",
       "0                Literacy & Language                     ESL, Literacy   \n",
       "1  History & Civics, Health & Sports  Civics & Government, Team Sports   \n",
       "\n",
       "                                      project_title  ... project_essay_3  \\\n",
       "0  Educational Support for English Learners at Home  ...             NaN   \n",
       "1             Wanted: Projector for Hungry Learners  ...             NaN   \n",
       "\n",
       "  project_essay_4                           project_resource_summary  \\\n",
       "0             NaN  My students need opportunities to practice beg...   \n",
       "1             NaN  My students need a projector to help with view...   \n",
       "\n",
       "  teacher_number_of_previously_posted_projects project_is_approved  \\\n",
       "0                                            0                   0   \n",
       "1                                            7                   1   \n",
       "\n",
       "               clean_categories           clean_subcategories  \\\n",
       "0             literacy_language                  esl_literacy   \n",
       "1  history_civics_health_sports  civics_government_teamsports   \n",
       "\n",
       "                                               essay  price quantity  \n",
       "0  My students are English learners that are work...  154.6       23  \n",
       "1  Our students arrive to our school eager to lea...  299.0        1  \n",
       "\n",
       "[2 rows x 22 columns]"
      ]
     },
     "execution_count": 35,
     "metadata": {},
     "output_type": "execute_result"
    }
   ],
   "source": [
    "project_data.head(2)"
   ]
  },
  {
   "cell_type": "markdown",
   "metadata": {},
   "source": [
    "**<font color='red'>Appending new features to `project_data`</font>**"
   ]
  },
  {
   "cell_type": "code",
   "execution_count": 36,
   "metadata": {},
   "outputs": [
    {
     "name": "stdout",
     "output_type": "stream",
     "text": [
      "<class 'pandas.core.frame.DataFrame'>\n",
      "Int64Index: 109248 entries, 0 to 109247\n",
      "Data columns (total 26 columns):\n",
      " #   Column                                        Non-Null Count   Dtype  \n",
      "---  ------                                        --------------   -----  \n",
      " 0   Unnamed: 0                                    109248 non-null  int64  \n",
      " 1   id                                            109248 non-null  object \n",
      " 2   teacher_id                                    109248 non-null  object \n",
      " 3   teacher_prefix                                109248 non-null  object \n",
      " 4   school_state                                  109248 non-null  object \n",
      " 5   project_submitted_datetime                    109248 non-null  object \n",
      " 6   project_grade_category                        109248 non-null  object \n",
      " 7   project_subject_categories                    109248 non-null  object \n",
      " 8   project_subject_subcategories                 109248 non-null  object \n",
      " 9   project_title                                 109248 non-null  object \n",
      " 10  project_essay_1                               109248 non-null  object \n",
      " 11  project_essay_2                               109248 non-null  object \n",
      " 12  project_essay_3                               3758 non-null    object \n",
      " 13  project_essay_4                               3758 non-null    object \n",
      " 14  project_resource_summary                      109248 non-null  object \n",
      " 15  teacher_number_of_previously_posted_projects  109248 non-null  int64  \n",
      " 16  project_is_approved                           109248 non-null  int64  \n",
      " 17  clean_categories                              109248 non-null  object \n",
      " 18  clean_subcategories                           109248 non-null  object \n",
      " 19  essay                                         109248 non-null  object \n",
      " 20  price                                         109248 non-null  float64\n",
      " 21  quantity                                      109248 non-null  int64  \n",
      " 22  clean_essay                                   109248 non-null  object \n",
      " 23  clean_project_title                           109248 non-null  object \n",
      " 24  clean_project_resource_summary                109248 non-null  object \n",
      " 25  title_word_count                              109248 non-null  int64  \n",
      "dtypes: float64(1), int64(5), object(20)\n",
      "memory usage: 22.5+ MB\n"
     ]
    }
   ],
   "source": [
    "project_data['clean_essay'] = preprocessed_essays\n",
    "project_data['clean_project_title'] = preprocessed_titles\n",
    "project_data['clean_project_resource_summary'] = preprocessed_project_resource_summary\n",
    "project_data['title_word_count'] = title_word_count\n",
    "\n",
    "project_data.info()"
   ]
  },
  {
   "cell_type": "markdown",
   "metadata": {},
   "source": [
    "#### <font color='red'>Removing processed columns and saving the dataframe into</font> `processed_data.csv`"
   ]
  },
  {
   "cell_type": "code",
   "execution_count": 37,
   "metadata": {},
   "outputs": [],
   "source": [
    "drop_c = ['project_subject_categories', 'project_subject_subcategories', 'project_title', \n",
    "         'project_essay_1', 'project_essay_2', 'project_essay_3', 'project_essay_4', 'essay',\n",
    "         'Unnamed: 0', 'teacher_id', 'project_submitted_datetime', 'project_resource_summary', 'id']\n",
    "\n",
    "final_project_data = project_data.drop(drop_c, axis=1)\n",
    "\n",
    "final_project_data.to_csv('processed_data.csv', index=False)\n",
    "\n",
    "time_processing = time.time()"
   ]
  },
  {
   "cell_type": "markdown",
   "metadata": {
    "colab_type": "text",
    "id": "8u5NhbnEsc2-"
   },
   "source": [
    "#### Response Coding: Example"
   ]
  },
  {
   "cell_type": "markdown",
   "metadata": {
    "colab_type": "text",
    "id": "HIFWmwHKsc3A"
   },
   "source": [
    "<img src='http://i.imgur.com/TufZptV.jpg' width=700px>\n",
    "\n",
    "> The response tabel is built only on train dataset.\n",
    "> For a category which is not there in train data and present in test data, we will encode them with default values\n",
    "Ex: in our test data if have State: D then we encode it as [0.5, 0.05]"
   ]
  },
  {
   "cell_type": "markdown",
   "metadata": {
    "colab_type": "text",
    "id": "3KwfGufDsc3D"
   },
   "source": [
    "<ol>\n",
    "    <li><strong>Apply GBDT on these feature sets</strong>\n",
    "        <ul>\n",
    "            <li><font color='red'>Set 1</font>: categorical(instead of one hot encoding, try <a href='https://www.appliedaicourse.com/course/applied-ai-course-online/lessons/handling-categorical-and-numerical-features/'>response coding</a>: use probability values), numerical features + project_title(TFIDF)+  preprocessed_eassay (TFIDF)+sentiment Score of eassay(check the bellow example, include all 4 values as 4 features)</li>\n",
    "            <li><font color='red'>Set 2</font>: categorical(instead of one hot encoding, try <a href='https://www.appliedaicourse.com/course/applied-ai-course-online/lessons/handling-categorical-and-numerical-features/'>response coding</a>: use probability values), numerical features + project_title(TFIDF W2V)+  preprocessed_eassay (TFIDF W2V)</li>        \n",
    "    </li>\n",
    "    <li> Here in response encoding you need to apply the <strong>laplase smoothing</strong> value for test set. Laplase smoothing means, If test point is present in test but not in train then you need to apply default 0.5 as probability value for that data point (Refer the Response Encoding Image from above cell) </li>\n",
    "    <li>Please use atleast <strong> 35k </strong> data points </li></ul>\n",
    "    <li><strong>The hyper paramter tuning (Consider any two hyper parameters)</strong>\n",
    "        <ul>\n",
    "    <li>Find the best hyper parameter which will give the maximum <a href='https://www.appliedaicourse.com/course/applied-ai-course-online/lessons/receiver-operating-characteristic-curve-roc-curve-and-auc-1/'>AUC</a> value</li>\n",
    "    <li>find the best hyper paramter using k-fold cross validation/simple cross validation data</li>\n",
    "    <li>use gridsearch cv or randomsearch cv or you can write your own for loops to do this task</li>\n",
    "        </ul>\n",
    "    </li>\n",
    "    <li>\n",
    "    <strong>Representation of results</strong>\n",
    "        <ul>\n",
    "    <li>You need to plot the performance of model both on train data and cross validation data for each hyper parameter, like shown in the figure\n",
    "    <img src='http://i.imgur.com/Gp2DQmh.jpg' width=500px> with X-axis as <strong>n_estimators</strong>, Y-axis as <strong>max_depth</strong>, and Z-axis as <strong>AUC Score</strong> , we have given the notebook which explains how to plot this 3d plot, you can find it in the same drive <i>3d_scatter_plot.ipynb</i></li>\n",
    "            <p style=\"text-align:center;font-size:30px;color:red;\"><strong>or</strong></p> <br>\n",
    "    <li>You need to plot the performance of model both on train data and cross validation data for each hyper parameter, like shown in the figure\n",
    "    <img src='http://i.imgur.com/fgN9aUP.jpg' width=300px> <a href='https://seaborn.pydata.org/generated/seaborn.heatmap.html'>seaborn heat maps</a> with rows as <strong>n_estimators</strong>, columns as <strong>max_depth</strong>, and values inside the cell representing <strong>AUC Score</strong> </li>\n",
    "    <li>You choose either of the plotting techniques out of 3d plot or heat map</li>\n",
    "    <li>Once after you found the best hyper parameter, you need to train your model with it, and find the AUC on test data and plot the ROC curve on both train and test.\n",
    "        Make sure that you are using predict_proba method to calculate AUC curves, because AUC is calcualted on class probabilities and not on class labels.\n",
    "    <img src='http://i.imgur.com/wMQDTFe.jpg' width=300px></li>\n",
    "    <li>Along with plotting ROC curve, you need to print the <a href='https://www.appliedaicourse.com/course/applied-ai-course-online/lessons/confusion-matrix-tpr-fpr-fnr-tnr-1/'>confusion matrix</a> with predicted and original labels of test data points\n",
    "    <img src='http://i.imgur.com/IdN5Ctv.png' width=300px></li>\n",
    "            </ul>\n",
    "    <br>\n",
    "    <li>You need to summarize the results at the end of the notebook, summarize it in the table format\n",
    "        <img src='http://i.imgur.com/YVpIGGE.jpg' width=400px>\n",
    "    </li>\n",
    "</ol>"
   ]
  },
  {
   "cell_type": "markdown",
   "metadata": {},
   "source": [
    "# Few Notes"
   ]
  },
  {
   "cell_type": "markdown",
   "metadata": {},
   "source": [
    "1. Use atleast 35k data points\n",
    "2. Use classifier.Predict_proba() method instead of predict() method while calculating roc_auc scores\n",
    "3. Be sure that you are using laplase smoothing in response encoding function. Laplase smoothing means applying the default (0.5) value to test data if the test data is not present in the train set\n"
   ]
  },
  {
   "cell_type": "code",
   "execution_count": 38,
   "metadata": {
    "colab": {},
    "colab_type": "code",
    "id": "iffa2_WGsc3H",
    "outputId": "151fc2d5-3bc1-4206-9bd2-000dbf662b31",
    "scrolled": true
   },
   "outputs": [
    {
     "name": "stdout",
     "output_type": "stream",
     "text": [
      "sentiment score for sentence 1 {'neg': 0.0, 'neu': 0.213, 'pos': 0.787, 'compound': 0.5719}\n",
      "sentiment score for sentence 2 {'neg': 0.756, 'neu': 0.244, 'pos': 0.0, 'compound': -0.4767}\n",
      "sentiment score for sentence 3 {'neg': 0.0, 'neu': 1.0, 'pos': 0.0, 'compound': 0.0}\n"
     ]
    }
   ],
   "source": [
    "sid = SentimentIntensityAnalyzer()\n",
    "\n",
    "sample_sentence_1='I am happy.'\n",
    "ss_1 = sid.polarity_scores(sample_sentence_1)\n",
    "print('sentiment score for sentence 1',ss_1)\n",
    "\n",
    "sample_sentence_2='I am sad.'\n",
    "ss_2 = sid.polarity_scores(sample_sentence_2)\n",
    "print('sentiment score for sentence 2',ss_2)\n",
    "\n",
    "sample_sentence_3='I am going to New Delhi tommorow.'\n",
    "ss_3 = sid.polarity_scores(sample_sentence_3)\n",
    "print('sentiment score for sentence 3',ss_3)\n",
    "\n",
    "# sample_sentence_1 = 'I am going to New Delhi tommorow.'\n",
    "# neg = sid.polarity_scores(sample_sentence_1)['neg']\n",
    "# neu = sid.polarity_scores(sample_sentence_1)['neu']\n",
    "# pos = sid.polarity_scores(sample_sentence_1)['pos']\n",
    "# comp = sid.polarity_scores(sample_sentence_1)['compound']\n",
    "\n",
    "# print(f\"'neg': {neg}, 'neu': {neu}, 'pos': {pos}, 'compound': {comp}\")"
   ]
  },
  {
   "cell_type": "markdown",
   "metadata": {
    "colab_type": "text",
    "id": "BOyTl7oKsc3W"
   },
   "source": [
    "<h1>1. GBDT (xgboost/lightgbm) </h1>"
   ]
  },
  {
   "cell_type": "markdown",
   "metadata": {
    "colab_type": "text",
    "id": "VWge-b2Zsc3Z"
   },
   "source": [
    "## 1.1 Loading Data"
   ]
  },
  {
   "cell_type": "code",
   "execution_count": 39,
   "metadata": {
    "colab": {},
    "colab_type": "code",
    "id": "WDZFu6-usc3d"
   },
   "outputs": [],
   "source": [
    "data = pd.read_csv('processed_data.csv', nrows = 36000)"
   ]
  },
  {
   "cell_type": "code",
   "execution_count": 40,
   "metadata": {
    "scrolled": false
   },
   "outputs": [
    {
     "data": {
      "image/png": "[encoded data removed]",
      "text/plain": [
       "<Figure size 1800x720 with 3 Axes>"
      ]
     },
     "metadata": {
      "needs_background": "light"
     },
     "output_type": "display_data"
    }
   ],
   "source": [
    "msno.bar(data)\n",
    "plt.show()"
   ]
  },
  {
   "cell_type": "markdown",
   "metadata": {},
   "source": [
    "**<font color='red'>Observation</font>**\n",
    "\n",
    "- It is clearly visible that we don't have any missing values in the data frame.\n",
    "- We have 36,000 (36K) data points and 13 features (columns)"
   ]
  },
  {
   "cell_type": "code",
   "execution_count": 41,
   "metadata": {},
   "outputs": [],
   "source": [
    "with open('glove_vectors', 'rb') as f:\n",
    "    model = pickle.load(f)\n",
    "    glove_words =  set(model.keys())"
   ]
  },
  {
   "cell_type": "code",
   "execution_count": 42,
   "metadata": {},
   "outputs": [
    {
     "name": "stdout",
     "output_type": "stream",
     "text": [
      "Number of data points in train data : (36000, 13)\n",
      "\n",
      "Column names : \n",
      " Index(['teacher_prefix', 'school_state', 'project_grade_category',\n",
      "       'teacher_number_of_previously_posted_projects', 'project_is_approved',\n",
      "       'clean_categories', 'clean_subcategories', 'price', 'quantity',\n",
      "       'clean_essay', 'clean_project_title', 'clean_project_resource_summary',\n",
      "       'title_word_count'],\n",
      "      dtype='object')\n"
     ]
    }
   ],
   "source": [
    "print(f'Number of data points in train data : {data.shape}')\n",
    "print('\\nColumn names : \\n', data.columns)"
   ]
  },
  {
   "cell_type": "code",
   "execution_count": 43,
   "metadata": {
    "scrolled": false
   },
   "outputs": [
    {
     "data": {
      "text/html": [
       "<div>\n",
       "<style scoped>\n",
       "    .dataframe tbody tr th:only-of-type {\n",
       "        vertical-align: middle;\n",
       "    }\n",
       "\n",
       "    .dataframe tbody tr th {\n",
       "        vertical-align: top;\n",
       "    }\n",
       "\n",
       "    .dataframe thead th {\n",
       "        text-align: right;\n",
       "    }\n",
       "</style>\n",
       "<table border=\"1\" class=\"dataframe\">\n",
       "  <thead>\n",
       "    <tr style=\"text-align: right;\">\n",
       "      <th></th>\n",
       "      <th>teacher_prefix</th>\n",
       "      <th>school_state</th>\n",
       "      <th>project_grade_category</th>\n",
       "      <th>teacher_number_of_previously_posted_projects</th>\n",
       "      <th>project_is_approved</th>\n",
       "      <th>clean_categories</th>\n",
       "      <th>clean_subcategories</th>\n",
       "      <th>price</th>\n",
       "      <th>quantity</th>\n",
       "      <th>clean_essay</th>\n",
       "      <th>clean_project_title</th>\n",
       "      <th>clean_project_resource_summary</th>\n",
       "      <th>title_word_count</th>\n",
       "    </tr>\n",
       "  </thead>\n",
       "  <tbody>\n",
       "    <tr>\n",
       "      <th>0</th>\n",
       "      <td>mrs</td>\n",
       "      <td>in</td>\n",
       "      <td>grades_prek_2</td>\n",
       "      <td>0</td>\n",
       "      <td>0</td>\n",
       "      <td>literacy_language</td>\n",
       "      <td>esl_literacy</td>\n",
       "      <td>154.60</td>\n",
       "      <td>23</td>\n",
       "      <td>students english learners working english seco...</td>\n",
       "      <td>educational support for english learners at home</td>\n",
       "      <td>students need opportunities practice beginning...</td>\n",
       "      <td>7</td>\n",
       "    </tr>\n",
       "    <tr>\n",
       "      <th>1</th>\n",
       "      <td>mr</td>\n",
       "      <td>fl</td>\n",
       "      <td>grades_6_8</td>\n",
       "      <td>7</td>\n",
       "      <td>1</td>\n",
       "      <td>history_civics_health_sports</td>\n",
       "      <td>civics_government_teamsports</td>\n",
       "      <td>299.00</td>\n",
       "      <td>1</td>\n",
       "      <td>students arrive school eager learn polite gene...</td>\n",
       "      <td>wanted projector for hungry learners</td>\n",
       "      <td>students need projector help viewing education...</td>\n",
       "      <td>5</td>\n",
       "    </tr>\n",
       "    <tr>\n",
       "      <th>2</th>\n",
       "      <td>ms</td>\n",
       "      <td>az</td>\n",
       "      <td>grades_6_8</td>\n",
       "      <td>1</td>\n",
       "      <td>0</td>\n",
       "      <td>health_sports</td>\n",
       "      <td>health_wellness_teamsports</td>\n",
       "      <td>516.85</td>\n",
       "      <td>22</td>\n",
       "      <td>true champions not always ones win guts mia ha...</td>\n",
       "      <td>soccer equipment for awesome middle school stu...</td>\n",
       "      <td>students need shine guards athletic socks socc...</td>\n",
       "      <td>7</td>\n",
       "    </tr>\n",
       "  </tbody>\n",
       "</table>\n",
       "</div>"
      ],
      "text/plain": [
       "  teacher_prefix school_state project_grade_category  \\\n",
       "0            mrs           in          grades_prek_2   \n",
       "1             mr           fl             grades_6_8   \n",
       "2             ms           az             grades_6_8   \n",
       "\n",
       "   teacher_number_of_previously_posted_projects  project_is_approved  \\\n",
       "0                                             0                    0   \n",
       "1                                             7                    1   \n",
       "2                                             1                    0   \n",
       "\n",
       "               clean_categories           clean_subcategories   price  \\\n",
       "0             literacy_language                  esl_literacy  154.60   \n",
       "1  history_civics_health_sports  civics_government_teamsports  299.00   \n",
       "2                 health_sports    health_wellness_teamsports  516.85   \n",
       "\n",
       "   quantity                                        clean_essay  \\\n",
       "0        23  students english learners working english seco...   \n",
       "1         1  students arrive school eager learn polite gene...   \n",
       "2        22  true champions not always ones win guts mia ha...   \n",
       "\n",
       "                                 clean_project_title  \\\n",
       "0   educational support for english learners at home   \n",
       "1               wanted projector for hungry learners   \n",
       "2  soccer equipment for awesome middle school stu...   \n",
       "\n",
       "                      clean_project_resource_summary  title_word_count  \n",
       "0  students need opportunities practice beginning...                 7  \n",
       "1  students need projector help viewing education...                 5  \n",
       "2  students need shine guards athletic socks socc...                 7  "
      ]
     },
     "execution_count": 43,
     "metadata": {},
     "output_type": "execute_result"
    }
   ],
   "source": [
    "data.head(3)"
   ]
  },
  {
   "cell_type": "code",
   "execution_count": 44,
   "metadata": {},
   "outputs": [
    {
     "name": "stdout",
     "output_type": "stream",
     "text": [
      "Shape before adding Sentiment Scores :  (36000, 13)\n"
     ]
    },
    {
     "data": {
      "application/vnd.jupyter.widget-view+json": {
       "model_id": "074a8cf73d564173b4898814042618fc",
       "version_major": 2,
       "version_minor": 0
      },
      "text/plain": [
       "  0%|          | 0/36000 [00:00<?, ?it/s]"
      ]
     },
     "metadata": {},
     "output_type": "display_data"
    },
    {
     "name": "stdout",
     "output_type": "stream",
     "text": [
      "Shape after adding Sentiment Scores :  (36000, 17)\n"
     ]
    }
   ],
   "source": [
    "# Generating sentiment scores using NLTK SentimentIntensityAnalyzer\n",
    "\n",
    "sid = SentimentIntensityAnalyzer()\n",
    "\n",
    "negative = []\n",
    "neutral  = []\n",
    "positive = []\n",
    "compound = []\n",
    "\n",
    "print('Shape before adding Sentiment Scores : ', data.shape)\n",
    "\n",
    "for a in tqdm(data['clean_essay']) :\n",
    "    neg = sid.polarity_scores(a)['neg']\n",
    "    neu = sid.polarity_scores(a)['neu']\n",
    "    pos = sid.polarity_scores(a)['pos']\n",
    "    comp = sid.polarity_scores(a)['compound']\n",
    "\n",
    "    negative.append(neg)\n",
    "    neutral.append(neu)\n",
    "    positive.append(pos)\n",
    "    compound.append(comp)\n",
    "\n",
    "data['negative'] = negative\n",
    "data['positive'] = positive\n",
    "data['neutral'] = neutral\n",
    "data['compound'] = compound\n",
    "\n",
    "print('Shape after adding Sentiment Scores : ', data.shape)"
   ]
  },
  {
   "cell_type": "markdown",
   "metadata": {
    "colab_type": "text",
    "id": "6lAMFKFcsc3j"
   },
   "source": [
    "<h2>1.2 Splitting data into Train and cross validation(or test): Stratified Sampling</h2>"
   ]
  },
  {
   "cell_type": "code",
   "execution_count": 45,
   "metadata": {
    "colab": {},
    "colab_type": "code",
    "id": "ODMijuuNsc3l"
   },
   "outputs": [
    {
     "data": {
      "text/html": [
       "<div>\n",
       "<style scoped>\n",
       "    .dataframe tbody tr th:only-of-type {\n",
       "        vertical-align: middle;\n",
       "    }\n",
       "\n",
       "    .dataframe tbody tr th {\n",
       "        vertical-align: top;\n",
       "    }\n",
       "\n",
       "    .dataframe thead th {\n",
       "        text-align: right;\n",
       "    }\n",
       "</style>\n",
       "<table border=\"1\" class=\"dataframe\">\n",
       "  <thead>\n",
       "    <tr style=\"text-align: right;\">\n",
       "      <th></th>\n",
       "      <th>teacher_prefix</th>\n",
       "      <th>school_state</th>\n",
       "      <th>project_grade_category</th>\n",
       "      <th>teacher_number_of_previously_posted_projects</th>\n",
       "      <th>project_is_approved</th>\n",
       "      <th>clean_categories</th>\n",
       "      <th>clean_subcategories</th>\n",
       "      <th>price</th>\n",
       "      <th>quantity</th>\n",
       "      <th>clean_essay</th>\n",
       "      <th>clean_project_title</th>\n",
       "      <th>clean_project_resource_summary</th>\n",
       "      <th>title_word_count</th>\n",
       "      <th>negative</th>\n",
       "      <th>positive</th>\n",
       "      <th>neutral</th>\n",
       "      <th>compound</th>\n",
       "    </tr>\n",
       "  </thead>\n",
       "  <tbody>\n",
       "    <tr>\n",
       "      <th>0</th>\n",
       "      <td>mrs</td>\n",
       "      <td>in</td>\n",
       "      <td>grades_prek_2</td>\n",
       "      <td>0</td>\n",
       "      <td>0</td>\n",
       "      <td>literacy_language</td>\n",
       "      <td>esl_literacy</td>\n",
       "      <td>154.60</td>\n",
       "      <td>23</td>\n",
       "      <td>students english learners working english seco...</td>\n",
       "      <td>educational support for english learners at home</td>\n",
       "      <td>students need opportunities practice beginning...</td>\n",
       "      <td>7</td>\n",
       "      <td>0.013</td>\n",
       "      <td>0.154</td>\n",
       "      <td>0.833</td>\n",
       "      <td>0.9694</td>\n",
       "    </tr>\n",
       "    <tr>\n",
       "      <th>1</th>\n",
       "      <td>mr</td>\n",
       "      <td>fl</td>\n",
       "      <td>grades_6_8</td>\n",
       "      <td>7</td>\n",
       "      <td>1</td>\n",
       "      <td>history_civics_health_sports</td>\n",
       "      <td>civics_government_teamsports</td>\n",
       "      <td>299.00</td>\n",
       "      <td>1</td>\n",
       "      <td>students arrive school eager learn polite gene...</td>\n",
       "      <td>wanted projector for hungry learners</td>\n",
       "      <td>students need projector help viewing education...</td>\n",
       "      <td>5</td>\n",
       "      <td>0.052</td>\n",
       "      <td>0.305</td>\n",
       "      <td>0.643</td>\n",
       "      <td>0.9856</td>\n",
       "    </tr>\n",
       "    <tr>\n",
       "      <th>2</th>\n",
       "      <td>ms</td>\n",
       "      <td>az</td>\n",
       "      <td>grades_6_8</td>\n",
       "      <td>1</td>\n",
       "      <td>0</td>\n",
       "      <td>health_sports</td>\n",
       "      <td>health_wellness_teamsports</td>\n",
       "      <td>516.85</td>\n",
       "      <td>22</td>\n",
       "      <td>true champions not always ones win guts mia ha...</td>\n",
       "      <td>soccer equipment for awesome middle school stu...</td>\n",
       "      <td>students need shine guards athletic socks socc...</td>\n",
       "      <td>7</td>\n",
       "      <td>0.128</td>\n",
       "      <td>0.230</td>\n",
       "      <td>0.643</td>\n",
       "      <td>0.9816</td>\n",
       "    </tr>\n",
       "  </tbody>\n",
       "</table>\n",
       "</div>"
      ],
      "text/plain": [
       "  teacher_prefix school_state project_grade_category  \\\n",
       "0            mrs           in          grades_prek_2   \n",
       "1             mr           fl             grades_6_8   \n",
       "2             ms           az             grades_6_8   \n",
       "\n",
       "   teacher_number_of_previously_posted_projects  project_is_approved  \\\n",
       "0                                             0                    0   \n",
       "1                                             7                    1   \n",
       "2                                             1                    0   \n",
       "\n",
       "               clean_categories           clean_subcategories   price  \\\n",
       "0             literacy_language                  esl_literacy  154.60   \n",
       "1  history_civics_health_sports  civics_government_teamsports  299.00   \n",
       "2                 health_sports    health_wellness_teamsports  516.85   \n",
       "\n",
       "   quantity                                        clean_essay  \\\n",
       "0        23  students english learners working english seco...   \n",
       "1         1  students arrive school eager learn polite gene...   \n",
       "2        22  true champions not always ones win guts mia ha...   \n",
       "\n",
       "                                 clean_project_title  \\\n",
       "0   educational support for english learners at home   \n",
       "1               wanted projector for hungry learners   \n",
       "2  soccer equipment for awesome middle school stu...   \n",
       "\n",
       "                      clean_project_resource_summary  title_word_count  \\\n",
       "0  students need opportunities practice beginning...                 7   \n",
       "1  students need projector help viewing education...                 5   \n",
       "2  students need shine guards athletic socks socc...                 7   \n",
       "\n",
       "   negative  positive  neutral  compound  \n",
       "0     0.013     0.154    0.833    0.9694  \n",
       "1     0.052     0.305    0.643    0.9856  \n",
       "2     0.128     0.230    0.643    0.9816  "
      ]
     },
     "execution_count": 45,
     "metadata": {},
     "output_type": "execute_result"
    }
   ],
   "source": [
    "data.head(3)"
   ]
  },
  {
   "cell_type": "markdown",
   "metadata": {},
   "source": [
    "### <font color='red'>Exploring Data</font>\n",
    "**<font color='blue'>`quantity` column</font>**"
   ]
  },
  {
   "cell_type": "code",
   "execution_count": 46,
   "metadata": {},
   "outputs": [
    {
     "data": {
      "image/png": "[encoded data removed]",
      "text/plain": [
       "<Figure size 1008x720 with 2 Axes>"
      ]
     },
     "metadata": {
      "needs_background": "light"
     },
     "output_type": "display_data"
    }
   ],
   "source": [
    "mean_q = round(data.quantity.mean(), 2)\n",
    "median_q = round(data.quantity.median(), 2)\n",
    "\n",
    "fig, axes = plt.subplots(2, 1, figsize = (14,10))\n",
    "\n",
    "fig.suptitle('Quantity Column viz.', fontsize = 15, color = 'r')\n",
    "fig_1 = sns.countplot(data.quantity, ax = axes[0])\n",
    "\n",
    "fig_2 = sns.distplot(data.quantity, color = 'b', ax = axes[1])\n",
    "plt.axvline(mean_q, c = 'r', label = f'Mean : {mean_q}')\n",
    "plt.axvline(median_q, c = 'g', linestyle = '-.', label = f'Median : {median_q}')\n",
    "\n",
    "plt.legend()\n",
    "plt.show()"
   ]
  },
  {
   "cell_type": "markdown",
   "metadata": {},
   "source": [
    "<font color='red'>Observation</font>\n",
    "\n",
    "- Its clearly visible the `quantity` column is **Right Skewed**.\n",
    "\n",
    "- Majority of the data points lies within `mean score 16`.\n",
    "- Most frequent quantity requested by teachers is **10**."
   ]
  },
  {
   "cell_type": "markdown",
   "metadata": {},
   "source": [
    "**<font color='blue'>`title_word_count` column</font>**"
   ]
  },
  {
   "cell_type": "code",
   "execution_count": 47,
   "metadata": {},
   "outputs": [
    {
     "data": {
      "text/plain": [
       "14       1\n",
       "15       1\n",
       "13       8\n",
       "1       10\n",
       "12      44\n",
       "11     236\n",
       "10    1304\n",
       "9     1843\n",
       "8     2471\n",
       "2     2665\n",
       "7     3728\n",
       "6     5064\n",
       "3     5742\n",
       "5     6396\n",
       "4     6487\n",
       "Name: title_word_count, dtype: int64"
      ]
     },
     "execution_count": 47,
     "metadata": {},
     "output_type": "execute_result"
    }
   ],
   "source": [
    "data.title_word_count.value_counts(ascending = True)"
   ]
  },
  {
   "cell_type": "code",
   "execution_count": 48,
   "metadata": {},
   "outputs": [
    {
     "name": "stdout",
     "output_type": "stream",
     "text": [
      "title_word_count  :::  Mean = 5.27  &  Median = 5.0\n"
     ]
    },
    {
     "data": {
      "image/png": "[encoded data removed]",
      "text/plain": [
       "<Figure size 1008x360 with 1 Axes>"
      ]
     },
     "metadata": {
      "needs_background": "light"
     },
     "output_type": "display_data"
    }
   ],
   "source": [
    "mean_twc = round(data.title_word_count.mean(), 2)\n",
    "median_twc = round(data.title_word_count.median(), 2)\n",
    "\n",
    "plt.figure(figsize = (14,5))\n",
    "\n",
    "fig = sns.countplot(data.title_word_count)\n",
    "plt.title('Title Word Count', fontsize = 15, color = 'r')\n",
    "\n",
    "print(f'title_word_count  :::  Mean = {mean_twc}  &  Median = {median_twc}')\n",
    "\n",
    "plt.show()"
   ]
  },
  {
   "cell_type": "markdown",
   "metadata": {},
   "source": [
    "<font color='red'>Observation</font>\n",
    "\n",
    "- Majority of the projects contains 2 to 8 words (after preprocessing).\n",
    "- Projects with 4 & 5 words are those mostly submitted.\n",
    "- The `median` and `mean` value lies in close to **5** words.\n",
    "- 65% of the projects contains 3 to 6 words in its title"
   ]
  },
  {
   "cell_type": "markdown",
   "metadata": {},
   "source": [
    "**<font color = 'red'>Converting into `train_test_split`</font>**"
   ]
  },
  {
   "cell_type": "code",
   "execution_count": 49,
   "metadata": {},
   "outputs": [
    {
     "data": {
      "text/html": [
       "<div>\n",
       "<style scoped>\n",
       "    .dataframe tbody tr th:only-of-type {\n",
       "        vertical-align: middle;\n",
       "    }\n",
       "\n",
       "    .dataframe tbody tr th {\n",
       "        vertical-align: top;\n",
       "    }\n",
       "\n",
       "    .dataframe thead th {\n",
       "        text-align: right;\n",
       "    }\n",
       "</style>\n",
       "<table border=\"1\" class=\"dataframe\">\n",
       "  <thead>\n",
       "    <tr style=\"text-align: right;\">\n",
       "      <th></th>\n",
       "      <th>teacher_prefix</th>\n",
       "      <th>school_state</th>\n",
       "      <th>project_grade_category</th>\n",
       "      <th>teacher_number_of_previously_posted_projects</th>\n",
       "      <th>project_is_approved</th>\n",
       "      <th>clean_categories</th>\n",
       "      <th>clean_subcategories</th>\n",
       "      <th>price</th>\n",
       "      <th>quantity</th>\n",
       "      <th>clean_essay</th>\n",
       "      <th>clean_project_title</th>\n",
       "      <th>clean_project_resource_summary</th>\n",
       "      <th>title_word_count</th>\n",
       "      <th>negative</th>\n",
       "      <th>positive</th>\n",
       "      <th>neutral</th>\n",
       "      <th>compound</th>\n",
       "    </tr>\n",
       "  </thead>\n",
       "  <tbody>\n",
       "    <tr>\n",
       "      <th>2023</th>\n",
       "      <td>mrs</td>\n",
       "      <td>tx</td>\n",
       "      <td>grades_3_5</td>\n",
       "      <td>0</td>\n",
       "      <td>0</td>\n",
       "      <td>math_science</td>\n",
       "      <td>environmentalscience_mathematics</td>\n",
       "      <td>386.97</td>\n",
       "      <td>5</td>\n",
       "      <td>students unique bunch sweethearts love sometim...</td>\n",
       "      <td>5th grade math lovers</td>\n",
       "      <td>students need hands math manipulatives help co...</td>\n",
       "      <td>4</td>\n",
       "      <td>0.017</td>\n",
       "      <td>0.417</td>\n",
       "      <td>0.567</td>\n",
       "      <td>0.9963</td>\n",
       "    </tr>\n",
       "    <tr>\n",
       "      <th>10858</th>\n",
       "      <td>ms</td>\n",
       "      <td>ca</td>\n",
       "      <td>grades_3_5</td>\n",
       "      <td>9</td>\n",
       "      <td>1</td>\n",
       "      <td>appliedlearning_literacy_language</td>\n",
       "      <td>college_careerprep_literature_writing</td>\n",
       "      <td>392.44</td>\n",
       "      <td>3</td>\n",
       "      <td>students group hardworking individuals strive ...</td>\n",
       "      <td>let is show off to the community in color</td>\n",
       "      <td>students need color printer copier showcase pr...</td>\n",
       "      <td>9</td>\n",
       "      <td>0.102</td>\n",
       "      <td>0.279</td>\n",
       "      <td>0.619</td>\n",
       "      <td>0.9770</td>\n",
       "    </tr>\n",
       "    <tr>\n",
       "      <th>26788</th>\n",
       "      <td>ms</td>\n",
       "      <td>al</td>\n",
       "      <td>grades_prek_2</td>\n",
       "      <td>16</td>\n",
       "      <td>1</td>\n",
       "      <td>health_sports</td>\n",
       "      <td>gym_fitness_health_wellness</td>\n",
       "      <td>107.03</td>\n",
       "      <td>3</td>\n",
       "      <td>teach kindergarten fifteen wonderful students ...</td>\n",
       "      <td>listen dance laugh</td>\n",
       "      <td>students need songs dance dvds indoor recess s...</td>\n",
       "      <td>3</td>\n",
       "      <td>0.000</td>\n",
       "      <td>0.358</td>\n",
       "      <td>0.642</td>\n",
       "      <td>0.9947</td>\n",
       "    </tr>\n",
       "  </tbody>\n",
       "</table>\n",
       "</div>"
      ],
      "text/plain": [
       "      teacher_prefix school_state project_grade_category  \\\n",
       "2023             mrs           tx             grades_3_5   \n",
       "10858             ms           ca             grades_3_5   \n",
       "26788             ms           al          grades_prek_2   \n",
       "\n",
       "       teacher_number_of_previously_posted_projects  project_is_approved  \\\n",
       "2023                                              0                    0   \n",
       "10858                                             9                    1   \n",
       "26788                                            16                    1   \n",
       "\n",
       "                        clean_categories  \\\n",
       "2023                        math_science   \n",
       "10858  appliedlearning_literacy_language   \n",
       "26788                      health_sports   \n",
       "\n",
       "                         clean_subcategories   price  quantity  \\\n",
       "2023        environmentalscience_mathematics  386.97         5   \n",
       "10858  college_careerprep_literature_writing  392.44         3   \n",
       "26788            gym_fitness_health_wellness  107.03         3   \n",
       "\n",
       "                                             clean_essay  \\\n",
       "2023   students unique bunch sweethearts love sometim...   \n",
       "10858  students group hardworking individuals strive ...   \n",
       "26788  teach kindergarten fifteen wonderful students ...   \n",
       "\n",
       "                             clean_project_title  \\\n",
       "2023                       5th grade math lovers   \n",
       "10858  let is show off to the community in color   \n",
       "26788                         listen dance laugh   \n",
       "\n",
       "                          clean_project_resource_summary  title_word_count  \\\n",
       "2023   students need hands math manipulatives help co...                 4   \n",
       "10858  students need color printer copier showcase pr...                 9   \n",
       "26788  students need songs dance dvds indoor recess s...                 3   \n",
       "\n",
       "       negative  positive  neutral  compound  \n",
       "2023      0.017     0.417    0.567    0.9963  \n",
       "10858     0.102     0.279    0.619    0.9770  \n",
       "26788     0.000     0.358    0.642    0.9947  "
      ]
     },
     "execution_count": 49,
     "metadata": {},
     "output_type": "execute_result"
    }
   ],
   "source": [
    "y_data = data['project_is_approved'].values\n",
    "# x_data = data.drop(['project_is_approved'], axis =1)\n",
    "x_train, x_test, y_train, y_test = train_test_split(data, y_data, test_size = 0.3 ,stratify = y_data)\n",
    "\n",
    "x_train.head(3)"
   ]
  },
  {
   "cell_type": "markdown",
   "metadata": {
    "colab_type": "text",
    "id": "vsALgl5Asc3u"
   },
   "source": [
    "<h2>1.3 Make Data Model Ready: encoding eassay, and project_title</h2>"
   ]
  },
  {
   "cell_type": "markdown",
   "metadata": {},
   "source": [
    "### <font color = 'blue'>clean_project_title</font>\n",
    "**<font color = 'red'>TF-IDF</font>**"
   ]
  },
  {
   "cell_type": "code",
   "execution_count": 50,
   "metadata": {},
   "outputs": [
    {
     "name": "stdout",
     "output_type": "stream",
     "text": [
      "Shape of matrix before TF-IDF Vectorizor : (25200, 17)  (10800, 17)\n",
      "Shape of matrix after TF-IDF Vectorizor  : (25200, 6398) (10800, 6398)\n"
     ]
    }
   ],
   "source": [
    "tfidf_vectorizor = TfidfVectorizer(min_df = 5, ngram_range = (1,3), max_features = 10000)\n",
    "tfidf_vectorizor.fit(x_train['clean_project_title'].values)\n",
    "x_tr_title_tfidf = tfidf_vectorizor.transform(x_train['clean_project_title'].values)\n",
    "x_te_title_tfidf = tfidf_vectorizor.transform(x_test['clean_project_title'].values)\n",
    "\n",
    "print(f\"Shape of matrix before TF-IDF Vectorizor : {x_train.shape}  {x_test.shape}\")\n",
    "print(f\"Shape of matrix after TF-IDF Vectorizor  : {x_tr_title_tfidf.shape} {x_te_title_tfidf.shape}\")"
   ]
  },
  {
   "cell_type": "markdown",
   "metadata": {},
   "source": [
    "**<font color = 'red'>TF-IDF W2V</font>**"
   ]
  },
  {
   "cell_type": "code",
   "execution_count": 51,
   "metadata": {},
   "outputs": [
    {
     "data": {
      "application/vnd.jupyter.widget-view+json": {
       "model_id": "a00a93cc152c47b2815cfc6922f3b858",
       "version_major": 2,
       "version_minor": 0
      },
      "text/plain": [
       "  0%|          | 0/25200 [00:00<?, ?it/s]"
      ]
     },
     "metadata": {},
     "output_type": "display_data"
    },
    {
     "name": "stdout",
     "output_type": "stream",
     "text": [
      "x_train TF-IDF-W2V shape is (25200, 300)\n"
     ]
    },
    {
     "data": {
      "application/vnd.jupyter.widget-view+json": {
       "model_id": "3a6f6264581e4fe48c5365304eddcfc1",
       "version_major": 2,
       "version_minor": 0
      },
      "text/plain": [
       "  0%|          | 0/10800 [00:00<?, ?it/s]"
      ]
     },
     "metadata": {},
     "output_type": "display_data"
    },
    {
     "name": "stdout",
     "output_type": "stream",
     "text": [
      "x_test TF-IDF-W2V shape is (10800, 300)\n"
     ]
    }
   ],
   "source": [
    "# Converting a dictionary with word as a key, and the idf as a value\n",
    "\n",
    "dictionary = dict(zip(tfidf_vectorizor.get_feature_names(), list(tfidf_vectorizor.idf_)))\n",
    "tfidf_words = set(tfidf_vectorizor.get_feature_names())\n",
    "\n",
    "tfidf_w2v_title_x_tr = []\n",
    "\n",
    "# clean_project_title\n",
    "\n",
    "for sentence in tqdm(x_train['clean_project_title']):\n",
    "    vector = np.zeros(300) # as word vectors are of zero length\n",
    "    tf_idf_weight =0\n",
    "    \n",
    "    for word in sentence.split():\n",
    "        if (word in glove_words) and (word in tfidf_words):\n",
    "            vec = model[word]\n",
    "            tf_idf = dictionary[word]*(sentence.count(word)/len(sentence.split()))\n",
    "            vector += (vec * tf_idf)\n",
    "            tf_idf_weight += tf_idf\n",
    "            \n",
    "    if tf_idf_weight != 0:\n",
    "        vector /= tf_idf_weight\n",
    "        \n",
    "    tfidf_w2v_title_x_tr.append(vector)\n",
    "    \n",
    "print(f'x_train TF-IDF-W2V shape is {len(tfidf_w2v_title_x_tr) , len(tfidf_w2v_title_x_tr[0])}')\n",
    "\n",
    "tfidf_w2v_title_x_te = []\n",
    "\n",
    "for sentence in tqdm(x_test['clean_project_title']):\n",
    "    vector = np.zeros(300) # as word vectors are of zero length\n",
    "    tf_idf_weight =0\n",
    "    \n",
    "    for word in sentence.split():\n",
    "        if (word in glove_words) and (word in tfidf_words):\n",
    "            vec = model[word]\n",
    "            tf_idf = dictionary[word]*(sentence.count(word)/len(sentence.split()))\n",
    "            vector += (vec * tf_idf)\n",
    "            tf_idf_weight += tf_idf\n",
    "            \n",
    "    if tf_idf_weight != 0:\n",
    "        vector /= tf_idf_weight\n",
    "        \n",
    "    tfidf_w2v_title_x_te.append(vector)\n",
    "\n",
    "print(f'x_test TF-IDF-W2V shape is {len(tfidf_w2v_title_x_te) , len(tfidf_w2v_title_x_te[0])}')"
   ]
  },
  {
   "cell_type": "markdown",
   "metadata": {},
   "source": [
    "### <font color = 'blue'>clean_essay</font>\n",
    "**<font color = 'red'>TF-IDF</font>**"
   ]
  },
  {
   "cell_type": "code",
   "execution_count": 52,
   "metadata": {},
   "outputs": [
    {
     "name": "stdout",
     "output_type": "stream",
     "text": [
      "Shape of matrix before TF-IDF Vectorizor : (25200, 17)   (10800, 17)\n",
      "Shape of matrix after TF-IDF Vectorizor  : (25200, 15000) (10800, 15000)\n"
     ]
    }
   ],
   "source": [
    "tfidf_vectorizor = TfidfVectorizer(min_df = 20, ngram_range = (1,3), max_features = 15000)\n",
    "tfidf_vectorizor.fit(x_train['clean_essay'].values)\n",
    "x_tr_essay_tfidf = tfidf_vectorizor.transform(x_train['clean_essay'].values)\n",
    "x_te_essay_tfidf = tfidf_vectorizor.transform(x_test['clean_essay'].values)\n",
    "\n",
    "print(f\"Shape of matrix before TF-IDF Vectorizor : {x_train.shape}   {x_test.shape}\")\n",
    "print(f\"Shape of matrix after TF-IDF Vectorizor  : {x_tr_essay_tfidf.shape} {x_te_essay_tfidf.shape}\")"
   ]
  },
  {
   "cell_type": "markdown",
   "metadata": {},
   "source": [
    "**<font color = 'red'>TF-IDF W2V</font>**"
   ]
  },
  {
   "cell_type": "code",
   "execution_count": 53,
   "metadata": {},
   "outputs": [
    {
     "data": {
      "application/vnd.jupyter.widget-view+json": {
       "model_id": "8e23e4cbe86743d4acc76529b6c3d237",
       "version_major": 2,
       "version_minor": 0
      },
      "text/plain": [
       "  0%|          | 0/25200 [00:00<?, ?it/s]"
      ]
     },
     "metadata": {},
     "output_type": "display_data"
    },
    {
     "name": "stdout",
     "output_type": "stream",
     "text": [
      "x_train TF-IDF-W2V shape is (25200, 300)\n"
     ]
    },
    {
     "data": {
      "application/vnd.jupyter.widget-view+json": {
       "model_id": "179327076dfd4fe28b01ab114f32783d",
       "version_major": 2,
       "version_minor": 0
      },
      "text/plain": [
       "  0%|          | 0/10800 [00:00<?, ?it/s]"
      ]
     },
     "metadata": {},
     "output_type": "display_data"
    },
    {
     "name": "stdout",
     "output_type": "stream",
     "text": [
      "x_test TF-IDF-W2V shape is (10800, 300)\n"
     ]
    }
   ],
   "source": [
    "# Converting a dictionary with word as a key, and the idf as a value\n",
    "\n",
    "dictionary = dict(zip(tfidf_vectorizor.get_feature_names(), list(tfidf_vectorizor.idf_)))\n",
    "tfidf_words = set(tfidf_vectorizor.get_feature_names())\n",
    "\n",
    "tfidf_w2v_essay_x_tr = []\n",
    "\n",
    "for sentence in tqdm(x_train['clean_essay']):\n",
    "    vector = np.zeros(300) # as word vectors are of zero length\n",
    "    tf_idf_weight =0\n",
    "    \n",
    "    for word in sentence.split():\n",
    "        if (word in glove_words) and (word in tfidf_words):\n",
    "            vec = model[word]\n",
    "            tf_idf = dictionary[word]*(sentence.count(word)/len(sentence.split()))\n",
    "            vector += (vec * tf_idf)\n",
    "            tf_idf_weight += tf_idf\n",
    "            \n",
    "    if tf_idf_weight != 0:\n",
    "        vector /= tf_idf_weight\n",
    "        \n",
    "    tfidf_w2v_essay_x_tr.append(vector)\n",
    "    \n",
    "print(f'x_train TF-IDF-W2V shape is {len(tfidf_w2v_essay_x_tr) , len(tfidf_w2v_essay_x_tr[0])}')\n",
    "\n",
    "tfidf_w2v_essay_x_te = []\n",
    "\n",
    "for sentence in tqdm(x_test['clean_essay']):\n",
    "    vector = np.zeros(300) # as word vectors are of zero length\n",
    "    tf_idf_weight =0\n",
    "    \n",
    "    for word in sentence.split():\n",
    "        if (word in glove_words) and (word in tfidf_words):\n",
    "            vec = model[word]\n",
    "            tf_idf = dictionary[word]*(sentence.count(word)/len(sentence.split()))\n",
    "            vector += (vec * tf_idf)\n",
    "            tf_idf_weight += tf_idf\n",
    "            \n",
    "    if tf_idf_weight != 0:\n",
    "        vector /= tf_idf_weight\n",
    "        \n",
    "    tfidf_w2v_essay_x_te.append(vector)\n",
    "\n",
    "print(f'x_test TF-IDF-W2V shape is {len(tfidf_w2v_essay_x_te) , len(tfidf_w2v_essay_x_te[0])}')"
   ]
  },
  {
   "cell_type": "markdown",
   "metadata": {},
   "source": [
    "**<font color = 'blue'>TF-IDF : clean_project_resource_summary</font>**"
   ]
  },
  {
   "cell_type": "code",
   "execution_count": 54,
   "metadata": {},
   "outputs": [
    {
     "name": "stdout",
     "output_type": "stream",
     "text": [
      "Shape of matrix before TF-IDF Vectorizor : (25200, 17)  (10800, 17)\n",
      "Shape of matrix after TF-IDF Vectorizor  : (25200, 6609) (10800, 6609)\n"
     ]
    }
   ],
   "source": [
    "tfidf_vectorizor = TfidfVectorizer(min_df = 10, ngram_range = (1,3), max_features = 10000)\n",
    "tfidf_vectorizor.fit(x_train['clean_project_resource_summary'].values)\n",
    "x_tr_rs_sum_tfidf = tfidf_vectorizor.transform(x_train['clean_project_resource_summary'].values)\n",
    "x_te_rs_sum_tfidf = tfidf_vectorizor.transform(x_test['clean_project_resource_summary'].values)\n",
    "\n",
    "print(f\"Shape of matrix before TF-IDF Vectorizor : {x_train.shape}  {x_test.shape}\")\n",
    "print(f\"Shape of matrix after TF-IDF Vectorizor  : {x_tr_rs_sum_tfidf.shape} {x_te_rs_sum_tfidf.shape}\")"
   ]
  },
  {
   "cell_type": "markdown",
   "metadata": {
    "colab_type": "text",
    "id": "S3Vxxv2Hsc31"
   },
   "source": [
    "<h2>1.4 Make Data Model Ready: encoding numerical, categorical features</h2>"
   ]
  },
  {
   "cell_type": "raw",
   "metadata": {},
   "source": [
    "Categorical\n",
    "-----------\n",
    "'teacher_prefix', 'school_state', 'project_grade_category', 'clean_categories','clean_subcategories',\n",
    "\n",
    "Numerical\n",
    "---------\n",
    "'teacher_number_of_previously_posted_projects', 'price', 'quantity', 'title_word_count'\n",
    "'negative', 'positive', 'neutral', 'compound'\n",
    "\n",
    "Text\n",
    "----\n",
    "'clean_essay', 'clean_project_title', 'clean_project_resource_summary',"
   ]
  },
  {
   "cell_type": "markdown",
   "metadata": {},
   "source": [
    "### <font color = 'blue'>Processing Numerical features</font>"
   ]
  },
  {
   "cell_type": "code",
   "execution_count": 55,
   "metadata": {},
   "outputs": [
    {
     "name": "stdout",
     "output_type": "stream",
     "text": [
      "Shape of matrix after encodig :\n",
      "(Numerical features)\n",
      "========================================\n",
      "Price\t\t\t:  (25200, 1) , (10800, 1)\n",
      "Quantity\t\t:  (25200, 1) , (10800, 1)\n",
      "Previous Projects\t:  (25200, 1) , (10800, 1)\n",
      "Negative\t\t:  (25200, 1) , (10800, 1)\n",
      "Positive\t\t:  (25200, 1) , (10800, 1)\n",
      "Neutral\t\t\t:  (25200, 1) , (10800, 1)\n",
      "Compound\t\t:  (25200, 1) , (10800, 1)\n",
      "Title Word Count\t:  (25200, 1) , (10800, 1)\n"
     ]
    }
   ],
   "source": [
    "print('Shape of matrix after encodig :')\n",
    "print('(Numerical features)')\n",
    "print('='*40)\n",
    "\n",
    "# price\n",
    "price_normalizer = Normalizer()\n",
    "price_normalizer.fit(x_train['price'].values.reshape(-1, 1))\n",
    "\n",
    "x_train_price = price_normalizer.transform(x_train['price'].values.reshape(-1, 1))\n",
    "x_test_price = price_normalizer.transform(x_test['price'].values.reshape(-1, 1))\n",
    "\n",
    "print('Price\\t\\t\\t: ', x_train_price.shape,',',x_test_price.shape)\n",
    "\n",
    "# quantity\n",
    "quantity_normalizer = Normalizer()\n",
    "quantity_normalizer.fit(x_train['quantity'].values.reshape(-1, 1))\n",
    "\n",
    "x_train_quantity = quantity_normalizer.transform(x_train['quantity'].values.reshape(-1, 1))\n",
    "x_test_quantity = quantity_normalizer.transform(x_test['quantity'].values.reshape(-1, 1))\n",
    "\n",
    "print('Quantity\\t\\t: ', x_train_quantity.shape,',',x_test_quantity.shape)\n",
    "\n",
    "\n",
    "# teacher_number_of_previously_posted_projects\n",
    "pervious_project_normalizer = Normalizer()\n",
    "pervious_project_normalizer.fit(x_train['teacher_number_of_previously_posted_projects'].\\\n",
    "                                                values.reshape(-1, 1))\n",
    "x_train_previous_projects = pervious_project_normalizer.transform(\n",
    "                x_train['teacher_number_of_previously_posted_projects'].values.reshape(-1, 1))\n",
    "\n",
    "x_test_previous_projects = pervious_project_normalizer.transform(\n",
    "                x_test['teacher_number_of_previously_posted_projects'].values.reshape(-1, 1))\n",
    "\n",
    "print('Previous Projects\\t: ', x_train_previous_projects.shape,',',x_test_previous_projects.shape)\n",
    "\n",
    "# negative\n",
    "negative_normalizer = Normalizer()\n",
    "negative_normalizer.fit(x_train['negative'].values.reshape(-1, 1))\n",
    "\n",
    "x_train_negative = negative_normalizer.transform(x_train['negative'].values.reshape(-1, 1))\n",
    "x_test_negative = negative_normalizer.transform(x_test['negative'].values.reshape(-1, 1))\n",
    "\n",
    "print('Negative\\t\\t: ', x_train_negative.shape,',',x_test_negative.shape)\n",
    "\n",
    "# positive\n",
    "positive_normalizer = Normalizer()\n",
    "positive_normalizer.fit(x_train['positive'].values.reshape(-1, 1))\n",
    "\n",
    "x_train_positive = positive_normalizer.transform(x_train['positive'].values.reshape(-1, 1))\n",
    "x_test_positive = positive_normalizer.transform(x_test['positive'].values.reshape(-1, 1))\n",
    "\n",
    "print('Positive\\t\\t: ', x_train_positive.shape,',',x_test_positive.shape)\n",
    "\n",
    "# neutral\n",
    "neutral_normalizer = Normalizer()\n",
    "neutral_normalizer.fit(x_train['neutral'].values.reshape(-1, 1))\n",
    "\n",
    "x_train_neutral = neutral_normalizer.transform(x_train['neutral'].values.reshape(-1, 1))\n",
    "x_test_neutral = neutral_normalizer.transform(x_test['neutral'].values.reshape(-1, 1))\n",
    "\n",
    "print('Neutral\\t\\t\\t: ', x_train_neutral.shape,',',x_test_neutral.shape)\n",
    "\n",
    "# compound\n",
    "compound_normalizer = Normalizer()\n",
    "compound_normalizer.fit(x_train['compound'].values.reshape(-1, 1))\n",
    "\n",
    "x_train_compound = compound_normalizer.transform(x_train['compound'].values.reshape(-1, 1))\n",
    "x_test_compound = compound_normalizer.transform(x_test['compound'].values.reshape(-1, 1))\n",
    "\n",
    "print('Compound\\t\\t: ', x_train_compound.shape,',',x_test_compound.shape)\n",
    "\n",
    "# title_word_count\n",
    "title_count_normalizer = Normalizer()\n",
    "title_count_normalizer.fit(x_train['title_word_count'].values.reshape(-1, 1))\n",
    "\n",
    "x_train_title_count = title_count_normalizer.transform(x_train['title_word_count'].values.reshape(-1, 1))\n",
    "x_test_title_count = title_count_normalizer.transform(x_test['title_word_count'].values.reshape(-1, 1))\n",
    "\n",
    "print('Title Word Count\\t: ', x_train_title_count.shape,',',x_test_title_count.shape)"
   ]
  },
  {
   "cell_type": "markdown",
   "metadata": {},
   "source": [
    "### <font color = 'blue'>Response coding on categorical features</font>"
   ]
  },
  {
   "cell_type": "code",
   "execution_count": 56,
   "metadata": {},
   "outputs": [
    {
     "name": "stdout",
     "output_type": "stream",
     "text": [
      "309\n",
      "61\n"
     ]
    },
    {
     "data": {
      "text/html": [
       "<div>\n",
       "<style scoped>\n",
       "    .dataframe tbody tr th:only-of-type {\n",
       "        vertical-align: middle;\n",
       "    }\n",
       "\n",
       "    .dataframe tbody tr th {\n",
       "        vertical-align: top;\n",
       "    }\n",
       "\n",
       "    .dataframe thead th {\n",
       "        text-align: right;\n",
       "    }\n",
       "</style>\n",
       "<table border=\"1\" class=\"dataframe\">\n",
       "  <thead>\n",
       "    <tr style=\"text-align: right;\">\n",
       "      <th></th>\n",
       "      <th>school_state</th>\n",
       "      <th>project_is_approved</th>\n",
       "    </tr>\n",
       "  </thead>\n",
       "  <tbody>\n",
       "    <tr>\n",
       "      <th>83</th>\n",
       "      <td>co</td>\n",
       "      <td>1</td>\n",
       "    </tr>\n",
       "    <tr>\n",
       "      <th>150</th>\n",
       "      <td>co</td>\n",
       "      <td>1</td>\n",
       "    </tr>\n",
       "    <tr>\n",
       "      <th>233</th>\n",
       "      <td>co</td>\n",
       "      <td>1</td>\n",
       "    </tr>\n",
       "    <tr>\n",
       "      <th>321</th>\n",
       "      <td>co</td>\n",
       "      <td>1</td>\n",
       "    </tr>\n",
       "    <tr>\n",
       "      <th>370</th>\n",
       "      <td>co</td>\n",
       "      <td>1</td>\n",
       "    </tr>\n",
       "    <tr>\n",
       "      <th>...</th>\n",
       "      <td>...</td>\n",
       "      <td>...</td>\n",
       "    </tr>\n",
       "    <tr>\n",
       "      <th>35444</th>\n",
       "      <td>co</td>\n",
       "      <td>1</td>\n",
       "    </tr>\n",
       "    <tr>\n",
       "      <th>35801</th>\n",
       "      <td>co</td>\n",
       "      <td>1</td>\n",
       "    </tr>\n",
       "    <tr>\n",
       "      <th>35816</th>\n",
       "      <td>co</td>\n",
       "      <td>1</td>\n",
       "    </tr>\n",
       "    <tr>\n",
       "      <th>35837</th>\n",
       "      <td>co</td>\n",
       "      <td>1</td>\n",
       "    </tr>\n",
       "    <tr>\n",
       "      <th>35962</th>\n",
       "      <td>co</td>\n",
       "      <td>1</td>\n",
       "    </tr>\n",
       "  </tbody>\n",
       "</table>\n",
       "<p>309 rows × 2 columns</p>\n",
       "</div>"
      ],
      "text/plain": [
       "      school_state  project_is_approved\n",
       "83              co                    1\n",
       "150             co                    1\n",
       "233             co                    1\n",
       "321             co                    1\n",
       "370             co                    1\n",
       "...            ...                  ...\n",
       "35444           co                    1\n",
       "35801           co                    1\n",
       "35816           co                    1\n",
       "35837           co                    1\n",
       "35962           co                    1\n",
       "\n",
       "[309 rows x 2 columns]"
      ]
     },
     "execution_count": 56,
     "metadata": {},
     "output_type": "execute_result"
    }
   ],
   "source": [
    "columns_ = ['school_state', 'project_is_approved']\n",
    "\n",
    "data.loc[(data.school_state == 'ia')][columns_]\n",
    "\n",
    "print(len(data.loc[(data.school_state == 'co') & (data.project_is_approved == 1)][columns_]))\n",
    "print(len(data.loc[(data.school_state == 'co') & (data.project_is_approved == 0)][columns_]))\n",
    "data.loc[(data.school_state == 'co') & (data.project_is_approved == 1)][columns_]"
   ]
  },
  {
   "cell_type": "code",
   "execution_count": 57,
   "metadata": {},
   "outputs": [],
   "source": [
    "'''\n",
    "https://www.delftstack.com/howto/python-pandas/pandas-replace-values-in-column/#replace\n",
    "-column-values-with-collection-in-pandas-dataframe\n",
    "'''\n",
    "\n",
    "def responseEncoding(df, column):\n",
    "    \n",
    "    cat_feature = df[column].unique()\n",
    "    length_of_cat = len(cat_feature)\n",
    "    \n",
    "    positive_class = []\n",
    "    for cat in tqdm(cat_feature):\n",
    "        positive_class.append(len(df.loc[(df[column] == cat) & (df.project_is_approved == 1)]))\n",
    "        \n",
    "    negative_class = []\n",
    "    for cat in cat_feature:\n",
    "        negative_class.append(len(df.loc[(df[column] == cat) & (df.project_is_approved == 0)]))\n",
    "        \n",
    "    positive_val = []\n",
    "    for i in range(len(cat_feature)):\n",
    "        positive_val.append(positive_class[i] / (positive_class[i] + negative_class[i]))\n",
    "    \n",
    "    negative_val = [1-i for i in positive_val]\n",
    "    \n",
    "    positives = dict(zip(cat_feature, positive_val))\n",
    "    \n",
    "    negatives = dict(zip(cat_feature, negative_val))\n",
    "    \n",
    "    return positives, negatives\n",
    "        \n",
    "# responseEncoding(data,'school_state') "
   ]
  },
  {
   "cell_type": "code",
   "execution_count": 58,
   "metadata": {},
   "outputs": [
    {
     "data": {
      "application/vnd.jupyter.widget-view+json": {
       "model_id": "ab622e17d86e4fdab0763ec3c4e9cae1",
       "version_major": 2,
       "version_minor": 0
      },
      "text/plain": [
       "  0%|          | 0/51 [00:00<?, ?it/s]"
      ]
     },
     "metadata": {},
     "output_type": "display_data"
    },
    {
     "data": {
      "application/vnd.jupyter.widget-view+json": {
       "model_id": "3b31544924d6449f93f5877917a59822",
       "version_major": 2,
       "version_minor": 0
      },
      "text/plain": [
       "  0%|          | 0/4 [00:00<?, ?it/s]"
      ]
     },
     "metadata": {},
     "output_type": "display_data"
    },
    {
     "data": {
      "application/vnd.jupyter.widget-view+json": {
       "model_id": "a9ce32cc1bf1468ab53094ab90a8058f",
       "version_major": 2,
       "version_minor": 0
      },
      "text/plain": [
       "  0%|          | 0/4 [00:00<?, ?it/s]"
      ]
     },
     "metadata": {},
     "output_type": "display_data"
    },
    {
     "data": {
      "application/vnd.jupyter.widget-view+json": {
       "model_id": "790346f1f9a74381a4700fd9e813066b",
       "version_major": 2,
       "version_minor": 0
      },
      "text/plain": [
       "  0%|          | 0/49 [00:00<?, ?it/s]"
      ]
     },
     "metadata": {},
     "output_type": "display_data"
    },
    {
     "data": {
      "application/vnd.jupyter.widget-view+json": {
       "model_id": "acc3238981ab4df09246c6bf97e0ded5",
       "version_major": 2,
       "version_minor": 0
      },
      "text/plain": [
       "  0%|          | 0/349 [00:00<?, ?it/s]"
      ]
     },
     "metadata": {},
     "output_type": "display_data"
    },
    {
     "name": "stdout",
     "output_type": "stream",
     "text": [
      "Response coded categories are :\n",
      " school_state, teacher_prefix, project_grade_category, clean_categories, clean_subcategories\n",
      "\n",
      "Response coded x_train shape : (25200, 10)\n",
      "Response coded x_test shape  : (10800, 10)\n"
     ]
    }
   ],
   "source": [
    "# https://pandas.pydata.org/docs/reference/api/pandas.DataFrame.drop.html\n",
    "'''\n",
    "https://www.delftstack.com/howto/python-pandas/pandas-replace-values-in-column/#replace\n",
    "-column-values-with-collection-in-pandas-dataframe\n",
    "'''\n",
    "    \n",
    "def render_DataFrame(train, test):\n",
    "    \n",
    "#     cat_list = ['school_state', 'teacher_prefix', 'project_grade_category',\n",
    "#                 'clean_categories', 'clean_subcategories', 'project_is_approved']\n",
    "\n",
    "    to_rc_list = ['school_state', 'teacher_prefix', 'project_grade_category',\n",
    "                 'clean_categories', 'clean_subcategories']\n",
    "    \n",
    "    rc_list = ['school_state_0', 'school_state_1', 'teacher_prefix_0', 'teacher_prefix_1',\n",
    "              'project_grade_category_0', 'project_grade_category_1',\n",
    "              'clean_categories_0', 'clean_categories_1',\n",
    "              'clean_subcategories_0', 'clean_subcategories_1']\n",
    "    \n",
    "    pos_state, neg_state = responseEncoding(train, 'school_state')\n",
    "    pos_teacher, neg_teacher = responseEncoding(train, 'teacher_prefix')\n",
    "    pos_proj_g, neg_proj_g = responseEncoding(train, 'project_grade_category')\n",
    "    pos_clean_cat, neg_clean_cat = responseEncoding(train, 'clean_categories')\n",
    "    pos_clean_sub, neg_clean_sub = responseEncoding(train, 'clean_subcategories')\n",
    "    \n",
    "#     On Train Data\n",
    "    train['school_state_0'] = train.school_state.map(neg_state) #negative\n",
    "    train['school_state_1'] = train.school_state.map(pos_state) #positive\n",
    "    \n",
    "    train['teacher_prefix_0'] = train.teacher_prefix.map(neg_teacher)\n",
    "    train['teacher_prefix_1'] = train.teacher_prefix.map(pos_teacher)\n",
    "\n",
    "    train['project_grade_category_0'] = train.project_grade_category.map(neg_proj_g)\n",
    "    train['project_grade_category_1'] = train.project_grade_category.map(pos_proj_g)\n",
    "    \n",
    "    train['clean_categories_0'] = train.clean_categories.map(neg_clean_cat)\n",
    "    train['clean_categories_1'] = train.clean_categories.map(pos_clean_cat)\n",
    "    \n",
    "    train['clean_subcategories_0'] = train.clean_subcategories.map(neg_clean_sub)\n",
    "    train['clean_subcategories_1'] = train.clean_subcategories.map(pos_clean_sub)\n",
    "    \n",
    "    rc_train = pd.DataFrame()\n",
    "    rc_train = train[rc_list]\n",
    "    \n",
    "#     On Test Data\n",
    "    test['school_state_0'] = test.school_state.map(neg_state) #negative\n",
    "    test['school_state_1'] = test.school_state.map(pos_state) #positive\n",
    "    \n",
    "    test['teacher_prefix_0'] = test.teacher_prefix.map(neg_teacher)\n",
    "    test['teacher_prefix_1'] = test.teacher_prefix.map(pos_teacher)\n",
    "\n",
    "    test['project_grade_category_0'] = test.project_grade_category.map(neg_proj_g)\n",
    "    test['project_grade_category_1'] = test.project_grade_category.map(pos_proj_g)\n",
    "    \n",
    "    test['clean_categories_0'] = test.clean_categories.map(neg_clean_cat)\n",
    "    test['clean_categories_1'] = test.clean_categories.map(pos_clean_cat)\n",
    "    \n",
    "    test['clean_subcategories_0'] = test.clean_subcategories.map(neg_clean_sub)\n",
    "    test['clean_subcategories_1'] = test.clean_subcategories.map(pos_clean_sub)    \n",
    "    \n",
    "    '''\n",
    "    Applying laplase smoothing value for test set\n",
    "    ---------------------------------------------\n",
    "    \n",
    "    If test point is present in test but not in train, then applying 0.5 as default\n",
    "    probability value for that data point\n",
    "    '''\n",
    "    \n",
    "    rc_test  = pd.DataFrame()\n",
    "    rc_test = test[rc_list].fillna(0.5)\n",
    "    \n",
    "    return to_rc_list, rc_train, rc_test\n",
    "\n",
    "rc_cat_list, rc_X_train, rc_X_test = render_DataFrame(x_train, x_test)\n",
    "\n",
    "print('Response coded categories are :\\n', ', '.join(rc_cat_list))\n",
    "\n",
    "print(f'\\nResponse coded x_train shape : {rc_X_train.shape}')\n",
    "print(f'Response coded x_test shape  : {rc_X_test.shape}')"
   ]
  },
  {
   "cell_type": "markdown",
   "metadata": {
    "colab_type": "text",
    "id": "I5wDFj17sc3-"
   },
   "source": [
    "<h2>1.5 Appling Models on different kind of featurization as mentioned in the instructions</h2>"
   ]
  },
  {
   "cell_type": "markdown",
   "metadata": {
    "colab_type": "text",
    "id": "O5tWox1jsc3_"
   },
   "source": [
    "Apply GBDT on different kind of featurization as mentioned in the instructions\n",
    "<br> For Every model that you work on make sure you do the step 2 and step 3 of instrucations"
   ]
  },
  {
   "cell_type": "raw",
   "metadata": {},
   "source": [
    "x_tr_title_tfidf                  x_te_title_tfidf\n",
    "x_tr_essay_tfidf                  x_te_essay_tfidf\n",
    "\n",
    "tfidf_w2v_title_x_tr              tfidf_w2v_title_x_te\n",
    "tfidf_w2v_essay_x_tr              tfidf_w2v_essay_x_te\n",
    "\n",
    "x_tr_rs_sum_tfidf                 x_te_rs_sum_tfidf\n",
    "\n",
    "x_train_price                     x_test_price\n",
    "x_train_quantity                  x_test_quantity\n",
    "x_train_previous_projects         x_test_previous_projects\n",
    "x_train_negative                  x_test_negative\n",
    "x_train_positive                  x_test_positive\n",
    "x_train_neutral                   x_test_neutral\n",
    "x_train_compound                  x_test_compound\n",
    "x_train_title_count               x_test_title_count\n",
    "\n",
    "rc_X_train                        rc_X_test"
   ]
  },
  {
   "cell_type": "markdown",
   "metadata": {},
   "source": [
    "## <font color = 'red'>Set 1</font>\n",
    "categorical(instead of one hot encoding, try response coding: use probability values, numerical features + project_title(TFIDF+ preprocessed_eassay (TFIDF + sentiment Score of eassay(check the bellow example, include all 4 values as 4 features"
   ]
  },
  {
   "cell_type": "code",
   "execution_count": 59,
   "metadata": {},
   "outputs": [
    {
     "name": "stdout",
     "output_type": "stream",
     "text": [
      "TFIDF stack train shape\t:  (25200, 28025)\n",
      "TFIDF stack test shape\t:  (10800, 28025)\n"
     ]
    }
   ],
   "source": [
    "# https://stackoverflow.com/a/65470570\n",
    "# https://stackoverflow.com/a/19710648/4084039\n",
    "\n",
    "tfidf_stack_train = hstack((rc_X_train, x_train_price, x_train_quantity, x_train_previous_projects,\n",
    "                            x_train_title_count, x_tr_title_tfidf, x_tr_essay_tfidf,\n",
    "                            x_tr_rs_sum_tfidf, x_train_negative, x_train_positive, x_train_neutral,\n",
    "                            x_train_compound)).tocsr()\n",
    "\n",
    "tfidf_stack_test = hstack((rc_X_test, x_test_price, x_test_quantity, x_test_previous_projects,\n",
    "                           x_test_title_count, x_te_title_tfidf, x_te_essay_tfidf,\n",
    "                           x_te_rs_sum_tfidf, x_test_negative, x_test_positive, x_test_neutral,\n",
    "                           x_test_compound)).tocsr()\n",
    "\n",
    "print('TFIDF stack train shape\\t: ', tfidf_stack_train.shape)\n",
    "print('TFIDF stack test shape\\t: ', tfidf_stack_test.shape)"
   ]
  },
  {
   "cell_type": "markdown",
   "metadata": {},
   "source": [
    "### <font color = 'blue'>Hyperparameter Tuning</font>"
   ]
  },
  {
   "cell_type": "code",
   "execution_count": 60,
   "metadata": {},
   "outputs": [
    {
     "name": "stdout",
     "output_type": "stream",
     "text": [
      "Best parameters fron TF-IDF model : \n",
      "{'n_estimators': 250, 'max_depth': 7, 'learning_rate': 0.1}\n"
     ]
    }
   ],
   "source": [
    "# https://scikit-learn.org/stable/modules/generated/sklearn.ensemble.GradientBoostingClassifier.html\n",
    "# https://scikit-learn.org/stable/modules/generated/sklearn.model_selection.RandomizedSearchCV.html\n",
    "\n",
    "# learning_rate values taken from\n",
    "# https://machinelearningmastery.com/tune-learning-rate-for-gradient-boosting-with-xgboost-in-python/\n",
    "# https://stackoverflow.com/a/58782583\n",
    "# https://www.kaggle.com/willkoehrsen/intro-to-model-tuning-grid-and-random-search\n",
    "\n",
    "gbdt = GradientBoostingClassifier()\n",
    "\n",
    "parameters= {'max_depth' : [2, 3, 5, 7, 8, 10],\n",
    "             'n_estimators' : [10, 25, 65, 125, 250, 500],\n",
    "             'learning_rate' : [0.001, 0.03, 0.075, 0.1, 0.2, 0.3]}\n",
    "\n",
    "clf = RandomizedSearchCV(gbdt, parameters, cv = 5, scoring = 'roc_auc', \n",
    "                         return_train_score = True, n_jobs =-1)\n",
    "\n",
    "r_search = clf.fit(tfidf_stack_train, y_train)\n",
    "best_params_tfidf = r_search.best_params_\n",
    "\n",
    "print(f'Best parameters fron TF-IDF model : \\n{best_params_tfidf}')\n",
    "\n",
    "tfidf_n_estimators = best_params_tfidf['n_estimators']\n",
    "tfidf_max_depth = best_params_tfidf['max_depth']\n",
    "tfidf_learning_rate = best_params_tfidf['learning_rate']\n",
    "\n",
    "data = {'param_n_estimators' : r_search.cv_results_['param_n_estimators'],\n",
    "        'param_max_depth' : r_search.cv_results_['param_max_depth'],\n",
    "        'param_learning_rate' : r_search.cv_results_['param_learning_rate'],\n",
    "        'mean_train_score' : r_search.cv_results_['mean_train_score'],\n",
    "        'mean_test_score' : r_search.cv_results_['mean_test_score']\n",
    "       }\n",
    "\n",
    "performance_tfidf = pd.DataFrame(data)\n",
    "# performance_tfidf.head()"
   ]
  },
  {
   "cell_type": "code",
   "execution_count": 61,
   "metadata": {},
   "outputs": [
    {
     "data": {
      "text/html": [
       "<div>\n",
       "<style scoped>\n",
       "    .dataframe tbody tr th:only-of-type {\n",
       "        vertical-align: middle;\n",
       "    }\n",
       "\n",
       "    .dataframe tbody tr th {\n",
       "        vertical-align: top;\n",
       "    }\n",
       "\n",
       "    .dataframe thead tr th {\n",
       "        text-align: left;\n",
       "    }\n",
       "\n",
       "    .dataframe thead tr:last-of-type th {\n",
       "        text-align: right;\n",
       "    }\n",
       "</style>\n",
       "<table border=\"1\" class=\"dataframe\">\n",
       "  <thead>\n",
       "    <tr>\n",
       "      <th></th>\n",
       "      <th colspan=\"6\" halign=\"left\">mean_train_score</th>\n",
       "      <th colspan=\"6\" halign=\"left\">mean_test_score</th>\n",
       "    </tr>\n",
       "    <tr>\n",
       "      <th>param_max_depth</th>\n",
       "      <th>2</th>\n",
       "      <th>3</th>\n",
       "      <th>5</th>\n",
       "      <th>7</th>\n",
       "      <th>8</th>\n",
       "      <th>10</th>\n",
       "      <th>2</th>\n",
       "      <th>3</th>\n",
       "      <th>5</th>\n",
       "      <th>7</th>\n",
       "      <th>8</th>\n",
       "      <th>10</th>\n",
       "    </tr>\n",
       "    <tr>\n",
       "      <th>param_n_estimators</th>\n",
       "      <th></th>\n",
       "      <th></th>\n",
       "      <th></th>\n",
       "      <th></th>\n",
       "      <th></th>\n",
       "      <th></th>\n",
       "      <th></th>\n",
       "      <th></th>\n",
       "      <th></th>\n",
       "      <th></th>\n",
       "      <th></th>\n",
       "      <th></th>\n",
       "    </tr>\n",
       "  </thead>\n",
       "  <tbody>\n",
       "    <tr>\n",
       "      <th>10</th>\n",
       "      <td>NaN</td>\n",
       "      <td>NaN</td>\n",
       "      <td>NaN</td>\n",
       "      <td>0.805868</td>\n",
       "      <td>0.829361</td>\n",
       "      <td>NaN</td>\n",
       "      <td>NaN</td>\n",
       "      <td>NaN</td>\n",
       "      <td>NaN</td>\n",
       "      <td>0.668204</td>\n",
       "      <td>0.666745</td>\n",
       "      <td>NaN</td>\n",
       "    </tr>\n",
       "    <tr>\n",
       "      <th>25</th>\n",
       "      <td>NaN</td>\n",
       "      <td>NaN</td>\n",
       "      <td>NaN</td>\n",
       "      <td>0.680095</td>\n",
       "      <td>NaN</td>\n",
       "      <td>NaN</td>\n",
       "      <td>NaN</td>\n",
       "      <td>NaN</td>\n",
       "      <td>NaN</td>\n",
       "      <td>0.633756</td>\n",
       "      <td>NaN</td>\n",
       "      <td>NaN</td>\n",
       "    </tr>\n",
       "    <tr>\n",
       "      <th>65</th>\n",
       "      <td>NaN</td>\n",
       "      <td>NaN</td>\n",
       "      <td>NaN</td>\n",
       "      <td>NaN</td>\n",
       "      <td>NaN</td>\n",
       "      <td>0.990619</td>\n",
       "      <td>NaN</td>\n",
       "      <td>NaN</td>\n",
       "      <td>NaN</td>\n",
       "      <td>NaN</td>\n",
       "      <td>NaN</td>\n",
       "      <td>0.668952</td>\n",
       "    </tr>\n",
       "    <tr>\n",
       "      <th>125</th>\n",
       "      <td>NaN</td>\n",
       "      <td>0.87182</td>\n",
       "      <td>0.675466</td>\n",
       "      <td>NaN</td>\n",
       "      <td>NaN</td>\n",
       "      <td>0.995830</td>\n",
       "      <td>NaN</td>\n",
       "      <td>0.683397</td>\n",
       "      <td>0.643467</td>\n",
       "      <td>NaN</td>\n",
       "      <td>NaN</td>\n",
       "      <td>0.679243</td>\n",
       "    </tr>\n",
       "    <tr>\n",
       "      <th>250</th>\n",
       "      <td>0.878311</td>\n",
       "      <td>NaN</td>\n",
       "      <td>NaN</td>\n",
       "      <td>0.998399</td>\n",
       "      <td>NaN</td>\n",
       "      <td>NaN</td>\n",
       "      <td>0.683239</td>\n",
       "      <td>NaN</td>\n",
       "      <td>NaN</td>\n",
       "      <td>0.684024</td>\n",
       "      <td>NaN</td>\n",
       "      <td>NaN</td>\n",
       "    </tr>\n",
       "  </tbody>\n",
       "</table>\n",
       "</div>"
      ],
      "text/plain": [
       "                   mean_train_score                                         \\\n",
       "param_max_depth                  2        3         5         7         8    \n",
       "param_n_estimators                                                           \n",
       "10                              NaN      NaN       NaN  0.805868  0.829361   \n",
       "25                              NaN      NaN       NaN  0.680095       NaN   \n",
       "65                              NaN      NaN       NaN       NaN       NaN   \n",
       "125                             NaN  0.87182  0.675466       NaN       NaN   \n",
       "250                        0.878311      NaN       NaN  0.998399       NaN   \n",
       "\n",
       "                             mean_test_score                                \\\n",
       "param_max_depth           10              2         3         5         7    \n",
       "param_n_estimators                                                           \n",
       "10                       NaN             NaN       NaN       NaN  0.668204   \n",
       "25                       NaN             NaN       NaN       NaN  0.633756   \n",
       "65                  0.990619             NaN       NaN       NaN       NaN   \n",
       "125                 0.995830             NaN  0.683397  0.643467       NaN   \n",
       "250                      NaN        0.683239       NaN       NaN  0.684024   \n",
       "\n",
       "                                        \n",
       "param_max_depth           8         10  \n",
       "param_n_estimators                      \n",
       "10                  0.666745       NaN  \n",
       "25                       NaN       NaN  \n",
       "65                       NaN  0.668952  \n",
       "125                      NaN  0.679243  \n",
       "250                      NaN       NaN  "
      ]
     },
     "execution_count": 61,
     "metadata": {},
     "output_type": "execute_result"
    }
   ],
   "source": [
    "group_perf_tfidf = performance_tfidf[['param_n_estimators', 'param_max_depth', 'mean_train_score',\n",
    "                'mean_test_score']].groupby(['param_n_estimators', 'param_max_depth']).max().unstack()\n",
    "group_perf_tfidf"
   ]
  },
  {
   "cell_type": "code",
   "execution_count": 62,
   "metadata": {},
   "outputs": [
    {
     "data": {
      "image/png": "[encoded data removed]",
      "text/plain": [
       "<Figure size 1152x432 with 4 Axes>"
      ]
     },
     "metadata": {
      "needs_background": "light"
     },
     "output_type": "display_data"
    }
   ],
   "source": [
    "fig, axes = plt.subplots(1, 2, figsize = (16,6))\n",
    "fig.suptitle('Hyperparameter (AUC Score) Performance : TF-IDF', fontsize = 18)\n",
    "\n",
    "# https://stackoverflow.com/a/39133654\n",
    "    \n",
    "fig_1 = sns.heatmap(group_perf_tfidf.mean_train_score, annot = True, fmt='.3g', ax = axes[0])\n",
    "fig_1.title.set_text('On train data')\n",
    "\n",
    "fig_2 = sns.heatmap(group_perf_tfidf.mean_test_score, annot = True, fmt='.3g', ax = axes[1])\n",
    "fig_2.title.set_text('On cross validation data')\n",
    "\n",
    "plt.show()"
   ]
  },
  {
   "cell_type": "markdown",
   "metadata": {},
   "source": [
    "**<font color='red'>Observation</font>**\n",
    "\n",
    "- While `n_estimators = 250` and `max_depth = 7`, we are getting an **AUC** of **0.998**.\n",
    "- The next lower **AUC** is **0.996** and it is at `n_estimators = 250` and `max_depth = 7`.\n",
    "- So we are taking `n_estimators = 250` and `max_depth = 7` as the best parameter."
   ]
  },
  {
   "cell_type": "markdown",
   "metadata": {},
   "source": [
    "### <font color = 'blue'>Training Using Best Hyperparameter</font>"
   ]
  },
  {
   "cell_type": "code",
   "execution_count": 63,
   "metadata": {},
   "outputs": [
    {
     "data": {
      "image/png": "[encoded data removed]",
      "text/plain": [
       "<Figure size 648x432 with 1 Axes>"
      ]
     },
     "metadata": {
      "needs_background": "light"
     },
     "output_type": "display_data"
    }
   ],
   "source": [
    "# https://scikit-learn.org/stable/modules/generated/sklearn.metrics.roc_curve.html\n",
    "# https://scikit-learn.org/stable/modules/generated/sklearn.ensemble.GradientBoostingClassifier.html\n",
    "\n",
    "tfidf_gbdt = GradientBoostingClassifier(\n",
    "                    n_estimators = tfidf_n_estimators, max_depth = tfidf_max_depth,\n",
    "                    learning_rate = tfidf_learning_rate)\n",
    "\n",
    "tfidf_gbdt.fit(tfidf_stack_train, y_train)\n",
    "\n",
    "y_train_pred_tfidf = tfidf_gbdt.predict_proba(tfidf_stack_train)[:,1]\n",
    "y_test_pred_tfidf = tfidf_gbdt.predict_proba(tfidf_stack_test)[:,1]\n",
    "\n",
    "# https://scikit-learn.org/stable/modules/generated/sklearn.metrics.roc_curve.html\n",
    "train_fpr, train_tpr, tr_thresholds = roc_curve(y_train, y_train_pred_tfidf)\n",
    "test_fpr, test_tpr, te_thresholds = roc_curve(y_test, y_test_pred_tfidf)\n",
    "\n",
    "auc_train_set1 = auc(train_fpr, train_tpr)\n",
    "auc_test_set1 = auc(test_fpr, test_tpr)\n",
    "\n",
    "#Reference : DonorchooseNB assignment\n",
    "plt.figure(figsize = (9,6))\n",
    "plt.plot(train_fpr, train_tpr, label=\"Train AUC =\"+str(round(auc_train_set1,4)))\n",
    "plt.plot(test_fpr, test_tpr, label=\"Test AUC =\"+str(round(auc_test_set1,4)))\n",
    "\n",
    "plt.xlabel('False Positive Rate')\n",
    "plt.ylabel('True Positive Rate')\n",
    "plt.title('AUC')\n",
    "plt.grid()\n",
    "plt.legend(loc=4)\n",
    "plt.show()"
   ]
  },
  {
   "cell_type": "markdown",
   "metadata": {},
   "source": [
    "### <font color = 'blue'>Train & Test Confusion Matrix</font>"
   ]
  },
  {
   "cell_type": "code",
   "execution_count": 64,
   "metadata": {},
   "outputs": [],
   "source": [
    "# Reference DonorchooseNB\n",
    "\n",
    "def best_threshold_and_y_pred(threshould, proba, fpr, tpr):\n",
    "    \n",
    "    best_t = threshould[np.argmax(tpr*(1-fpr))]\n",
    "    # (tpr*(1-fpr)) will be maximum if fpr is very low and tpr is very high\n",
    "    print(\"The maximum value of tpr*(1-fpr)\", round(max(tpr*(1-fpr)),5), \"for threshold\", np.round(best_t,3))\n",
    "   \n",
    "    predictions = []\n",
    "    for i in tqdm(proba):\n",
    "        if i >= best_t:\n",
    "            predictions.append(1)\n",
    "        else:\n",
    "            predictions.append(0)\n",
    "    return best_t, predictions"
   ]
  },
  {
   "cell_type": "code",
   "execution_count": 65,
   "metadata": {},
   "outputs": [
    {
     "name": "stdout",
     "output_type": "stream",
     "text": [
      "Train\n",
      "=====\n",
      "The maximum value of tpr*(1-fpr) 0.90434 for threshold 0.791\n"
     ]
    },
    {
     "data": {
      "application/vnd.jupyter.widget-view+json": {
       "model_id": "fad427407e8f4503b9d955f9bc27877a",
       "version_major": 2,
       "version_minor": 0
      },
      "text/plain": [
       "  0%|          | 0/25200 [00:00<?, ?it/s]"
      ]
     },
     "metadata": {},
     "output_type": "display_data"
    },
    {
     "name": "stdout",
     "output_type": "stream",
     "text": [
      "\n",
      "Test\n",
      "====\n",
      "The maximum value of tpr*(1-fpr) 0.40755 for threshold 0.873\n"
     ]
    },
    {
     "data": {
      "application/vnd.jupyter.widget-view+json": {
       "model_id": "ca1516a71d2a43699f10ee48268086ad",
       "version_major": 2,
       "version_minor": 0
      },
      "text/plain": [
       "  0%|          | 0/10800 [00:00<?, ?it/s]"
      ]
     },
     "metadata": {},
     "output_type": "display_data"
    },
    {
     "name": "stdout",
     "output_type": "stream",
     "text": [
      "\n",
      "Train confusion matrix : \n",
      " [[ 3636   243]\n",
      " [  751 20570]]\n",
      "\n",
      "Test confusion matrix : \n",
      " [[1074  589]\n",
      " [3371 5766]]\n"
     ]
    },
    {
     "data": {
      "image/png": "[encoded data removed]",
      "text/plain": [
       "<Figure size 1152x432 with 4 Axes>"
      ]
     },
     "metadata": {},
     "output_type": "display_data"
    }
   ],
   "source": [
    "print('Train')\n",
    "print('=' * 5)\n",
    "tfidf_tr_thr, tfidf_tr_pred = best_threshold_and_y_pred(tr_thresholds,\n",
    "                                                            y_train_pred_tfidf, train_fpr, train_tpr)\n",
    "confusion_mat_tfidf_tr = confusion_matrix(y_train, tfidf_tr_pred)\n",
    "\n",
    "print('\\nTest')\n",
    "print('=' * 4)\n",
    "tfidf_te_thr, tfidf_te_pred = best_threshold_and_y_pred(te_thresholds,\n",
    "                                                                y_test_pred_tfidf, test_fpr, test_tpr)\n",
    "confusion_mat_tfidf_te = confusion_matrix(y_test, tfidf_te_pred)\n",
    "\n",
    "print('\\nTrain confusion matrix : \\n', confusion_mat_tfidf_tr)\n",
    "print('\\nTest confusion matrix : \\n', confusion_mat_tfidf_te)\n",
    "\n",
    "\n",
    "# https://stackoverflow.com/a/61748695\n",
    "# https://stackoverflow.com/a/39133654\n",
    "\n",
    "sns.set(font_scale=1.2)\n",
    "fig, axes = plt.subplots(1, 2, figsize = (16,6))\n",
    "fig.suptitle('Confusion Matrices', fontsize = 18)\n",
    "\n",
    "fig_1 = sns.heatmap(confusion_mat_tfidf_tr, annot=True, fmt=\"d\", cmap='Reds', ax = axes[0])\n",
    "fig_1.title.set_text('Train confusion matrix')\n",
    "axes[0].set_xticklabels(['Predicted No', 'Predicted Yes'])\n",
    "axes[0].set_yticklabels(['Actual No', 'Actual Yes'])\n",
    "\n",
    "fig_2 = sns.heatmap(confusion_mat_tfidf_te, annot=True, fmt=\"d\", cmap='YlGn', ax = axes[1])\n",
    "fig_2.title.set_text('Test confusion matrix')\n",
    "axes[1].set_xticklabels(['Predicted No', 'Predicted Yes'])\n",
    "axes[1].set_yticklabels(['Actual No', 'Actual Yes'])\n",
    "\n",
    "plt.show()"
   ]
  },
  {
   "cell_type": "markdown",
   "metadata": {},
   "source": [
    "**<font color='red'>Observation</font>**\n",
    "\n",
    "- Train AUC (0.9846) is higher than the Test AUC (0.6786) score.\n",
    "- We can consider this as overfitting.\n",
    "- We can conisder more number of points for training model to avoid overfitting.\n",
    "- Ratio of `True Positive` to `total data in train data` is 81.62% and while for `test data` the same ratio is only 53.38%.\n",
    "- The **False Positive** (589) on `test data` is lesser than **False Negative** (3371) value which is not good.\n",
    "\n",
    "NB : While testing for very samll number of datapoints (1000, 2000 and 3000) the train AUC was 1.0 and Test AUC was in a range of 0.45 to 0.6. On increasing numberof datapoints model is showing a good behaviour. So training model at larger datapoints may can avoid overfitting tendency."
   ]
  },
  {
   "cell_type": "markdown",
   "metadata": {},
   "source": [
    "## <font color = 'red'>Set 2</font>\n",
    "categorical(instead of one hot encoding, try response coding: use probability values, numerical features + project_title(TFIDF W2V+ preprocessed_eassay (TFIDF W2V"
   ]
  },
  {
   "cell_type": "code",
   "execution_count": 66,
   "metadata": {},
   "outputs": [
    {
     "name": "stdout",
     "output_type": "stream",
     "text": [
      "TFIDF-W2V stack train shape\t:  (25200, 7227)\n",
      "TFIDF-W2V stack test shape\t:  (10800, 7227)\n"
     ]
    }
   ],
   "source": [
    "# https://stackoverflow.com/a/65470570\n",
    "# https://stackoverflow.com/a/19710648/4084039\n",
    "\n",
    "tfidf_w2v_stack_train = hstack((rc_X_train, x_train_price, x_train_quantity, x_train_previous_projects,\n",
    "                            x_train_title_count, tfidf_w2v_title_x_tr, tfidf_w2v_essay_x_tr,\n",
    "                            x_tr_rs_sum_tfidf, x_train_negative, x_train_positive, x_train_neutral,\n",
    "                            x_train_compound)).tocsr()\n",
    "\n",
    "tfidf_w2v_stack_test = hstack((rc_X_test, x_test_price, x_test_quantity, x_test_previous_projects,\n",
    "                           x_test_title_count, tfidf_w2v_title_x_te, tfidf_w2v_essay_x_te,\n",
    "                           x_te_rs_sum_tfidf, x_test_negative, x_test_positive, x_test_neutral,\n",
    "                           x_test_compound)).tocsr()\n",
    "\n",
    "print('TFIDF-W2V stack train shape\\t: ', tfidf_w2v_stack_train.shape)\n",
    "print('TFIDF-W2V stack test shape\\t: ', tfidf_w2v_stack_test.shape)"
   ]
  },
  {
   "cell_type": "markdown",
   "metadata": {},
   "source": [
    "### <font color = 'blue'>Hyperparameter Tuning</font>"
   ]
  },
  {
   "cell_type": "code",
   "execution_count": 67,
   "metadata": {},
   "outputs": [
    {
     "name": "stdout",
     "output_type": "stream",
     "text": [
      "Best parameters fron TF-IDF W2V model : \n",
      "{'n_estimators': 65, 'max_depth': 5, 'learning_rate': 0.075}\n"
     ]
    }
   ],
   "source": [
    "# https://scikit-learn.org/stable/modules/generated/sklearn.ensemble.GradientBoostingClassifier.html\n",
    "# https://scikit-learn.org/stable/modules/generated/sklearn.model_selection.RandomizedSearchCV.html\n",
    "\n",
    "gbdt = GradientBoostingClassifier()\n",
    "\n",
    "parameters= {'max_depth' : [2, 3, 5, 7, 8, 10],\n",
    "             'n_estimators' : [10, 25, 65, 125, 250, 500],\n",
    "             'learning_rate' : [0.001, 0.03, 0.075, 0.1, 0.2, 0.3]}\n",
    "\n",
    "clf = RandomizedSearchCV(gbdt, parameters, cv = 5, scoring = 'roc_auc', \n",
    "                         return_train_score = True, n_jobs =-1)\n",
    "\n",
    "r_search = clf.fit(tfidf_w2v_stack_train, y_train)\n",
    "best_params_tfidf_w2v = r_search.best_params_\n",
    "\n",
    "print(f'Best parameters fron TF-IDF W2V model : \\n{best_params_tfidf_w2v}')\n",
    "\n",
    "tfidf_w2v_n_estimators = best_params_tfidf_w2v['n_estimators']\n",
    "tfidf_w2v_max_depth = best_params_tfidf_w2v['max_depth']\n",
    "tfidf_w2v_learning_rate = best_params_tfidf_w2v['learning_rate']\n",
    "\n",
    "data = {'param_n_estimators' : r_search.cv_results_['param_n_estimators'],\n",
    "        'param_max_depth' : r_search.cv_results_['param_max_depth'],\n",
    "        'param_learning_rate' : r_search.cv_results_['param_learning_rate'],\n",
    "        'mean_train_score' : r_search.cv_results_['mean_train_score'],\n",
    "        'mean_test_score' : r_search.cv_results_['mean_test_score']\n",
    "       }\n",
    "\n",
    "performance_tfidf_w2v = pd.DataFrame(data)\n",
    "# performance_tfidf_w2v.head()"
   ]
  },
  {
   "cell_type": "code",
   "execution_count": 68,
   "metadata": {},
   "outputs": [
    {
     "data": {
      "text/html": [
       "<div>\n",
       "<style scoped>\n",
       "    .dataframe tbody tr th:only-of-type {\n",
       "        vertical-align: middle;\n",
       "    }\n",
       "\n",
       "    .dataframe tbody tr th {\n",
       "        vertical-align: top;\n",
       "    }\n",
       "\n",
       "    .dataframe thead tr th {\n",
       "        text-align: left;\n",
       "    }\n",
       "\n",
       "    .dataframe thead tr:last-of-type th {\n",
       "        text-align: right;\n",
       "    }\n",
       "</style>\n",
       "<table border=\"1\" class=\"dataframe\">\n",
       "  <thead>\n",
       "    <tr>\n",
       "      <th></th>\n",
       "      <th colspan=\"4\" halign=\"left\">mean_train_score</th>\n",
       "      <th colspan=\"4\" halign=\"left\">mean_test_score</th>\n",
       "    </tr>\n",
       "    <tr>\n",
       "      <th>param_max_depth</th>\n",
       "      <th>3</th>\n",
       "      <th>5</th>\n",
       "      <th>7</th>\n",
       "      <th>8</th>\n",
       "      <th>3</th>\n",
       "      <th>5</th>\n",
       "      <th>7</th>\n",
       "      <th>8</th>\n",
       "    </tr>\n",
       "    <tr>\n",
       "      <th>param_n_estimators</th>\n",
       "      <th></th>\n",
       "      <th></th>\n",
       "      <th></th>\n",
       "      <th></th>\n",
       "      <th></th>\n",
       "      <th></th>\n",
       "      <th></th>\n",
       "      <th></th>\n",
       "    </tr>\n",
       "  </thead>\n",
       "  <tbody>\n",
       "    <tr>\n",
       "      <th>10</th>\n",
       "      <td>NaN</td>\n",
       "      <td>0.782313</td>\n",
       "      <td>0.840047</td>\n",
       "      <td>0.718804</td>\n",
       "      <td>NaN</td>\n",
       "      <td>0.673742</td>\n",
       "      <td>0.661976</td>\n",
       "      <td>0.601133</td>\n",
       "    </tr>\n",
       "    <tr>\n",
       "      <th>25</th>\n",
       "      <td>0.733214</td>\n",
       "      <td>0.844049</td>\n",
       "      <td>0.924987</td>\n",
       "      <td>NaN</td>\n",
       "      <td>0.678887</td>\n",
       "      <td>0.683882</td>\n",
       "      <td>0.676044</td>\n",
       "      <td>NaN</td>\n",
       "    </tr>\n",
       "    <tr>\n",
       "      <th>65</th>\n",
       "      <td>NaN</td>\n",
       "      <td>0.870442</td>\n",
       "      <td>NaN</td>\n",
       "      <td>NaN</td>\n",
       "      <td>NaN</td>\n",
       "      <td>0.691856</td>\n",
       "      <td>NaN</td>\n",
       "      <td>NaN</td>\n",
       "    </tr>\n",
       "    <tr>\n",
       "      <th>125</th>\n",
       "      <td>0.758730</td>\n",
       "      <td>NaN</td>\n",
       "      <td>NaN</td>\n",
       "      <td>NaN</td>\n",
       "      <td>0.689294</td>\n",
       "      <td>NaN</td>\n",
       "      <td>NaN</td>\n",
       "      <td>NaN</td>\n",
       "    </tr>\n",
       "    <tr>\n",
       "      <th>500</th>\n",
       "      <td>NaN</td>\n",
       "      <td>0.737025</td>\n",
       "      <td>NaN</td>\n",
       "      <td>0.999964</td>\n",
       "      <td>NaN</td>\n",
       "      <td>0.659333</td>\n",
       "      <td>NaN</td>\n",
       "      <td>0.680159</td>\n",
       "    </tr>\n",
       "  </tbody>\n",
       "</table>\n",
       "</div>"
      ],
      "text/plain": [
       "                   mean_train_score                                \\\n",
       "param_max_depth                   3         5         7         8   \n",
       "param_n_estimators                                                  \n",
       "10                              NaN  0.782313  0.840047  0.718804   \n",
       "25                         0.733214  0.844049  0.924987       NaN   \n",
       "65                              NaN  0.870442       NaN       NaN   \n",
       "125                        0.758730       NaN       NaN       NaN   \n",
       "500                             NaN  0.737025       NaN  0.999964   \n",
       "\n",
       "                   mean_test_score                                \n",
       "param_max_depth                  3         5         7         8  \n",
       "param_n_estimators                                                \n",
       "10                             NaN  0.673742  0.661976  0.601133  \n",
       "25                        0.678887  0.683882  0.676044       NaN  \n",
       "65                             NaN  0.691856       NaN       NaN  \n",
       "125                       0.689294       NaN       NaN       NaN  \n",
       "500                            NaN  0.659333       NaN  0.680159  "
      ]
     },
     "execution_count": 68,
     "metadata": {},
     "output_type": "execute_result"
    }
   ],
   "source": [
    "group_perf_w2v = performance_tfidf_w2v[['param_n_estimators', 'param_max_depth', 'mean_train_score',\n",
    "                'mean_test_score']].groupby(['param_n_estimators', 'param_max_depth']).max().unstack()\n",
    "group_perf_w2v"
   ]
  },
  {
   "cell_type": "code",
   "execution_count": 69,
   "metadata": {},
   "outputs": [
    {
     "data": {
      "image/png": "[encoded data removed]",
      "text/plain": [
       "<Figure size 1152x432 with 4 Axes>"
      ]
     },
     "metadata": {},
     "output_type": "display_data"
    }
   ],
   "source": [
    "fig, axes = plt.subplots(1, 2, figsize = (16,6))\n",
    "fig.suptitle('Hyperparameter (AUC Score) Performance : TF-IDF W2V', fontsize = 18)\n",
    "\n",
    "# https://stackoverflow.com/a/39133654\n",
    "    \n",
    "fig_1 = sns.heatmap(group_perf_w2v.mean_train_score, annot = True, fmt='.3g', ax = axes[0])\n",
    "fig_1.title.set_text('On train data')\n",
    "\n",
    "fig_2 = sns.heatmap(group_perf_w2v.mean_test_score, annot = True, fmt='.3g', ax = axes[1])\n",
    "fig_2.title.set_text('On cross validation data')\n",
    "\n",
    "plt.show()"
   ]
  },
  {
   "cell_type": "markdown",
   "metadata": {},
   "source": [
    "**<font color='red'>Observation</font>**\n",
    "\n",
    "- While `n_estimators = 65` and `max_depth = 5`, we are getting an **AUC** of **0.87**.\n",
    "- So we are taking `n_estimators = 65` and `max_depth = 5` as the best parameter."
   ]
  },
  {
   "cell_type": "markdown",
   "metadata": {},
   "source": [
    "### <font color = 'blue'>Training Using Best Hyperparameter</font>"
   ]
  },
  {
   "cell_type": "code",
   "execution_count": 70,
   "metadata": {},
   "outputs": [
    {
     "data": {
      "image/png": "[encoded data removed]",
      "text/plain": [
       "<Figure size 648x432 with 1 Axes>"
      ]
     },
     "metadata": {},
     "output_type": "display_data"
    }
   ],
   "source": [
    "# https://scikit-learn.org/stable/modules/generated/sklearn.metrics.roc_curve.html\n",
    "# https://scikit-learn.org/stable/modules/generated/sklearn.ensemble.GradientBoostingClassifier.html\n",
    "\n",
    "tfidf_w2v_gbdt = GradientBoostingClassifier(\n",
    "                    n_estimators = tfidf_w2v_n_estimators, max_depth = tfidf_w2v_max_depth,\n",
    "                    learning_rate = tfidf_w2v_learning_rate)\n",
    "\n",
    "tfidf_w2v_gbdt.fit(tfidf_w2v_stack_train, y_train)\n",
    "\n",
    "y_train_pred_tfidf_w2v = tfidf_w2v_gbdt.predict_proba(tfidf_w2v_stack_train)[:,1]\n",
    "y_test_pred_tfidf_w2v = tfidf_w2v_gbdt.predict_proba(tfidf_w2v_stack_test)[:,1]\n",
    "\n",
    "# https://scikit-learn.org/stable/modules/generated/sklearn.metrics.roc_curve.html\n",
    "train_fpr, train_tpr, tr_thresholds = roc_curve(y_train, y_train_pred_tfidf_w2v)\n",
    "test_fpr, test_tpr, te_thresholds = roc_curve(y_test, y_test_pred_tfidf_w2v)\n",
    "\n",
    "auc_train_set2 = auc(train_fpr, train_tpr)\n",
    "auc_test_set2 = auc(test_fpr, test_tpr)\n",
    "\n",
    "#Reference : DonorchooseNB assignment\n",
    "plt.figure(figsize = (9,6))\n",
    "plt.plot(train_fpr, train_tpr, label=\"Train AUC =\"+str(round(auc_train_set2,4)))\n",
    "plt.plot(test_fpr, test_tpr, label=\"Test AUC =\"+str(round(auc_test_set2,4)))\n",
    "\n",
    "plt.xlabel('False Positive Rate')\n",
    "plt.ylabel('True Positive Rate')\n",
    "plt.title('AUC')\n",
    "plt.grid()\n",
    "plt.legend(loc=4)\n",
    "plt.show()"
   ]
  },
  {
   "cell_type": "markdown",
   "metadata": {},
   "source": [
    "### <font color = 'blue'>Train & Test Confusion Matrix</font>"
   ]
  },
  {
   "cell_type": "code",
   "execution_count": 76,
   "metadata": {},
   "outputs": [
    {
     "name": "stdout",
     "output_type": "stream",
     "text": [
      "Train\n",
      "=====\n",
      "The maximum value of tpr*(1-fpr) 0.91907 for threshold 0.797\n"
     ]
    },
    {
     "name": "stderr",
     "output_type": "stream",
     "text": [
      "100%|████████████████████████████████| 25200/25200 [00:00<00:00, 2534808.88it/s]\n"
     ]
    },
    {
     "name": "stdout",
     "output_type": "stream",
     "text": [
      "\n",
      "Test\n",
      "====\n",
      "The maximum value of tpr*(1-fpr) 0.40235 for threshold 0.869\n"
     ]
    },
    {
     "name": "stderr",
     "output_type": "stream",
     "text": [
      "100%|████████████████████████████████| 10800/10800 [00:00<00:00, 3133325.25it/s]"
     ]
    },
    {
     "name": "stdout",
     "output_type": "stream",
     "text": [
      "\n",
      "Train confusion matrix : \n",
      " [[ 3682   197]\n",
      " [  677 20644]]\n",
      "\n",
      "Test confusion matrix : \n",
      " [[ 997  666]\n",
      " [3005 6132]]\n"
     ]
    },
    {
     "name": "stderr",
     "output_type": "stream",
     "text": [
      "\n"
     ]
    },
    {
     "data": {
      "image/png": "[encoded data removed]",
      "text/plain": [
       "<Figure size 1152x432 with 4 Axes>"
      ]
     },
     "metadata": {},
     "output_type": "display_data"
    }
   ],
   "source": [
    "print('Train')\n",
    "print('=' * 5)\n",
    "tfidf_w2v_tr_thr, tfidf_w2v_tr_pred = best_threshold_and_y_pred(tr_thresholds,\n",
    "                                                        y_train_pred_tfidf_w2v, train_fpr, train_tpr)\n",
    "confusion_mat_tfidf_w2v_tr = confusion_matrix(y_train, tfidf_w2v_tr_pred)\n",
    "\n",
    "print('\\nTest')\n",
    "print('=' * 4)\n",
    "tfidf_w2v_te_thr, tfidf_w2v_te_pred = best_threshold_and_y_pred(te_thresholds,\n",
    "                                                            y_test_pred_tfidf_w2v, test_fpr, test_tpr)\n",
    "confusion_mat_tfidf_w2v_te = confusion_matrix(y_test, tfidf_w2v_te_pred)\n",
    "\n",
    "print('\\nTrain confusion matrix : \\n', confusion_mat_tfidf_w2v_tr)\n",
    "print('\\nTest confusion matrix : \\n', confusion_mat_tfidf_w2v_te)\n",
    "\n",
    "# https://stackoverflow.com/a/61748695\n",
    "# https://stackoverflow.com/a/39133654\n",
    "\n",
    "sns.set(font_scale=1.2)\n",
    "fig, axes = plt.subplots(1, 2, figsize = (16,6))\n",
    "fig.suptitle('Confusion Matrices', fontsize = 18)\n",
    "\n",
    "fig_1 = sns.heatmap(confusion_mat_tfidf_w2v_tr, annot=True, fmt=\"d\", cmap='Reds', ax = axes[0])\n",
    "fig_1.title.set_text('Train confusion matrix')\n",
    "axes[0].set_xticklabels(['Predicted No', 'Predicted Yes'])\n",
    "axes[0].set_yticklabels(['Actual No', 'Actual Yes'])\n",
    "\n",
    "fig_2 = sns.heatmap(confusion_mat_tfidf_w2v_te, annot=True, fmt=\"d\", cmap='YlGn', ax = axes[1])\n",
    "fig_2.title.set_text('Test confusion matrix')\n",
    "axes[1].set_xticklabels(['Predicted No', 'Predicted Yes'])\n",
    "axes[1].set_yticklabels(['Actual No', 'Actual Yes'])\n",
    "plt.show()"
   ]
  },
  {
   "cell_type": "markdown",
   "metadata": {},
   "source": [
    "**<font color='red'>Observation</font>**\n",
    "\n",
    "- Train AUC (0.9897) is higher than the Test AUC (0.6765) score.\n",
    "- We can consider this as overfitting.\n",
    "- We can conisder more number of points for training model to avoid overfitting.\n",
    "- Ratio of `True Positive` to `total data in train data` is 81.92% and while for `test data` the same ratio is only 56.77%.\n",
    "- The **False Positive** (666) on `test data` is lesser than **False Negative** (3005) value which is not good.\n",
    "\n",
    "NB : While testing for very samll number of datapoints (1000, 2000 and 3000) the train AUC was 1.0 and Test AUC was in a range of 0.45 to 0.6. On increasing numberof datapoints model is showing a good behaviour. So training model at larger datapoints may can avoid overfitting tendency."
   ]
  },
  {
   "cell_type": "markdown",
   "metadata": {
    "colab_type": "text",
    "id": "YhFN-lDWsc4G"
   },
   "source": [
    "<h1>3. Summary</h1>\n",
    "\n",
    "As mentioned in the step 4 of instructions"
   ]
  },
  {
   "cell_type": "code",
   "execution_count": 73,
   "metadata": {},
   "outputs": [],
   "source": [
    "time_end = time.time()"
   ]
  },
  {
   "cell_type": "code",
   "execution_count": 74,
   "metadata": {
    "scrolled": true
   },
   "outputs": [
    {
     "name": "stdout",
     "output_type": "stream",
     "text": [
      "Processing Time : 1.1 minutes\n",
      "GBDT Alone      : 262.3 minutes\n",
      "Total Time      : 263.4 minutes\n",
      "\n",
      "+------------+----------------+--------------+-----------+---------------+-------------+------------+\n",
      "| Vectorizer |     Model      | n_estimators | max_depth | learning_rate | AUC (Train) | AUC (Test) |\n",
      "+------------+----------------+--------------+-----------+---------------+-------------+------------+\n",
      "|   TF-IDF   |  GBClassifier  |     250      |     7     |      0.1      |     0.98    |    0.68    |\n",
      "| TF-IDF W2V |  GBClassifier  |      65      |     5     |     0.075     |     0.99    |    0.68    |\n",
      "+------------+----------------+--------------+-----------+---------------+-------------+------------+\n"
     ]
    }
   ],
   "source": [
    "# https://pypi.org/project/prettytable/\n",
    "\n",
    "x = PrettyTable()\n",
    "\n",
    "x.field_names = ['Vectorizer', 'Model', 'n_estimators', 'max_depth',\n",
    "                                     'learning_rate','AUC (Train)', 'AUC (Test)']\n",
    "\n",
    "x.add_row(['TF-IDF', ' GBClassifier ', tfidf_n_estimators, tfidf_max_depth,\n",
    "                           tfidf_learning_rate, round(auc_train_set1, 2), round(auc_test_set1, 2)])\n",
    "\n",
    "x.add_row(['TF-IDF W2V', ' GBClassifier ', tfidf_w2v_n_estimators, tfidf_w2v_max_depth,\n",
    "                           tfidf_w2v_learning_rate, round(auc_train_set2, 2), round(auc_test_set2, 2)])\n",
    "\n",
    "\n",
    "print(f'Processing Time : {round((time_processing - time_start) / 60, 1)} minutes')\n",
    "print(f'GBDT Alone      : {round((time_end - time_processing) / 60, 1)} minutes')\n",
    "print(f'Total Time      : {round((time_end - time_start) / 60, 1)} minutes\\n')\n",
    "\n",
    "print(x)"
   ]
  },
  {
   "cell_type": "markdown",
   "metadata": {},
   "source": [
    "## <font color='red'>Conclusion</font>\n",
    "\n",
    "- Train AUC is higher than the Test AUC score both models.\n",
    "- The train AUC is almost near to 1 and while the test AUC is in near to 0.7\n",
    "- We can consider this as an indication of overfitting.\n",
    "- We can conisder more number of points for training model to avoid overfitting.\n",
    "- For both models the ratio of `True Positive` to `total data in train data` is ~80% and while for `test data` the same ratio is only ~56%, the **False Positive** on `test data` is lesser than **False Negative** value which is not good.\n",
    "\n",
    "**NB** : While testing for very samll number of datapoints (1000, 2000 and 3000) the train AUC was 1.0 and Test AUC was in a range of 0.45 to 0.6. On increasing numberof datapoints model is showing a good behaviour. So training model at larger datapoints may can avoid overfitting tendency."
   ]
  }
 ],
 "metadata": {
  "colab": {
   "collapsed_sections": [],
   "name": "11_Assignment_GBDT_Instructions.ipynb",
   "provenance": [],
   "version": "0.3.2"
  },
  "kernelspec": {
   "display_name": "Python 3 (ipykernel)",
   "language": "python",
   "name": "python3"
  },
  "language_info": {
   "codemirror_mode": {
    "name": "ipython",
    "version": 3
   },
   "file_extension": ".py",
   "mimetype": "text/x-python",
   "name": "python",
   "nbconvert_exporter": "python",
   "pygments_lexer": "ipython3",
   "version": "3.9.7"
  }
 },
 "nbformat": 4,
 "nbformat_minor": 1
}
