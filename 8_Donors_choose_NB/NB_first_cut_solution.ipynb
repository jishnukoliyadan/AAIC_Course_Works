{
 "cells": [
  {
   "cell_type": "markdown",
   "metadata": {
    "id": "Dnubs-Nnb3cw"
   },
   "source": [
    "# Assignment 6: Apply NB"
   ]
  },
  {
   "cell_type": "markdown",
   "metadata": {
    "id": "RW0zYHb5m_wI"
   },
   "source": [
    "<ol>\n",
    "    <li>Minimum data points need to be considered for people having 4GB RAM is <strong>50k</strong> and for 8GB RAM is <strong>100k</strong></li>\n",
    "    <li>When you are using ramdomsearchcv or gridsearchcv you need not split the data into X_train,X_cv,X_test. As the above methods use kfold. The model will learn better if train data is more so splitting to X_train,X_test will suffice.</li>\n",
    "    <li>If you are writing for loops to tune your model then you need split the data into X_train,X_cv,X_test.</li>\n",
    "    <li>While splitting the data explore stratify parameter. </li>\n",
    "    <li><strong>Apply Multinomial NB on these feature sets</strong></li>\n",
    "        <ul>\n",
    "            <li>Features that need to be considered</li> \n",
    "                <dl>\n",
    "                  <dt>essay</dt>\n",
    "                    <dd>while encoding essay, try to experiment with the max_features and n_grams parameter of vectorizers and see if it increases AUC score.</dd>\n",
    "                  <dt>categorical features</dt>\n",
    "                  <dd> - teacher_prefix</dd>\n",
    "                  <dd> - project_grade_category</dd>\n",
    "                  <dd> - school_state</dd>\n",
    "                  <dd> - clean_categories</dd>\n",
    "                  <dd> - clean_subcategories</dd>\n",
    "                  <dt>numerical features</dt>\n",
    "                  <dd> - price</dd>\n",
    "                  <dd> - teacher_number_of_previously_posted_projects</dd>\n",
    "                  <dd>while encoding the numerical features check <a href='ldZA1zg.png'>this</a> and <a href='https://ac-classroom-production.s3.amazonaws.com/public/COMMENT/Annotation_2020-05-21_225912_0lyZzN8.jpg'>this</a></dd>\n",
    "                </dl>    \n",
    "            <li><font color='red'>Set 1</font>: categorical, numerical features + preprocessed_eassay (BOW)</li>\n",
    "            <li><font color='red'>Set 2</font>: categorical, numerical features + preprocessed_eassay (TFIDF)</li>\n",
    "        </ul>\n",
    "    <li><strong>The hyper paramter tuning(find best alpha:smoothing parameter)</strong>\n",
    "        <ul>\n",
    "    <li>Consider alpha values in range: 10^-5 to 10^2 like [0.00001,0.0005, 0.0001,0.005,0.001,0.05,0.01,0.1,0.5,1,5,10,50,100]</li>\n",
    "    <li>Explore class_prior = [0.5, 0.5] parameter which can be present in MultinomialNB function(go through <a href='https://scikit-learn.org/stable/modules/generated/sklearn.naive_bayes.MultinomialNB.html'>this</a> ) then check how results might change.\n",
    "    <li>Find the best hyper parameter which will give the maximum <a href='https://www.appliedaicourse.com/course/applied-ai-course-online/lessons/receiver-operating-characteristic-curve-roc-curve-and-auc-1/'>AUC</a> value</li>\n",
    "    <li>For hyper parameter tuning using k-fold cross validation(use GridsearchCV or RandomsearchCV)/simple cross validation data (write for loop to iterate over hyper parameter values)</li>\n",
    "    <li>You need to plot the performance of model both on train data and cross validation data for each hyper parameter, like shown in the figure\n",
    "    <img src='hUv6aEy.jpeg' width=300px><dd>-while plotting take log(alpha) on your X-axis so that it will be more readable</dd></li>\n",
    "    <li>Once after you found the best hyper parameter, you need to train your model with it, and find the AUC on test data and plot the ROC curve on both train and test.\n",
    "    <img src='q2P65L5.png' width=300px></li>\n",
    "    <li>Along with plotting ROC curve, you need to print the <a href='https://www.appliedaicourse.com/course/applied-ai-course-online/lessons/confusion-matrix-tpr-fpr-fnr-tnr-1/'>confusion matrix</a> with predicted and original labels of test data points\n",
    "        <img src='IdN5Ctv.png' width=300px><dd>-plot the confusion matrix in heatmaps, while plotting the confusion matrix go through the <a href='https://stackoverflow.com/questions/61748441/how-to-fix-the-values-displayed-in-a-confusion-matrix-in-exponential-form-to-nor'>link </a>\n",
    "</dd></li>\n",
    "        </ul>\n",
    "<li>find the top 20 features from either from feature <font color='red'>Set 1</font> or feature <font color='red'>Set 2</font> using values of `feature_log_prob_ ` parameter of `MultinomialNB` \n",
    "(https://scikit-learn.org/stable/modules/generated/sklearn.naive_bayes.MultinomialNB.html) and print <strong>BOTH</strong> positive as well as negative corresponding feature names. <dd> - go through the <a href='https://imgur.com/mWvE7gj'>link </a> </dd>\n",
    "    </li>\n",
    "    <li>You need to summarize the results at the end of the notebook, summarize it in the table format\n",
    "        <img src='YVpIGGE.jpeg' width=400px>\n",
    "    </li>\n",
    "</ol>"
   ]
  },
  {
   "cell_type": "markdown",
   "metadata": {
    "id": "inzYCIaib3c3"
   },
   "source": [
    "<h1>2. Naive Bayes </h1>"
   ]
  },
  {
   "cell_type": "markdown",
   "metadata": {
    "id": "FYqCIxzFb3c5"
   },
   "source": [
    "## 1.1 Loading Data\n",
    "\n",
    "* make sure you are loading atleast 50k datapoints.\n",
    "* you can work with features of preprocessed_data.csv for the assignment.\n",
    "* If you want to add more features, you can add. (This is purely optional, not mandatory)"
   ]
  },
  {
   "cell_type": "code",
   "execution_count": 1,
   "metadata": {
    "id": "dA1jknyqb3c_"
   },
   "outputs": [],
   "source": [
    "# importing necessary libraries\n",
    "\n",
    "import pandas as pd\n",
    "import numpy as np\n",
    "import matplotlib.pyplot as plt\n",
    "import seaborn as sns\n",
    "\n",
    "from tqdm.notebook import tqdm\n",
    "from sklearn.metrics import confusion_matrix\n",
    "from sklearn.model_selection import train_test_split\n",
    "from sklearn.metrics import roc_auc_score, roc_curve, auc\n",
    "\n",
    "from sklearn.feature_extraction.text import TfidfVectorizer\n",
    "from sklearn.feature_extraction.text import CountVectorizer\n",
    "from sklearn.preprocessing import Normalizer\n",
    "from scipy.sparse import hstack\n",
    "from sklearn.naive_bayes import MultinomialNB\n",
    "from sklearn.model_selection import RandomizedSearchCV\n",
    "# from scipy.stats import randint as sp_randint\n",
    "from math import log\n",
    "\n",
    "import warnings\n",
    "warnings.filterwarnings(\"ignore\")"
   ]
  },
  {
   "cell_type": "code",
   "execution_count": 2,
   "metadata": {},
   "outputs": [],
   "source": [
    "data = pd.read_csv('preprocessed_data.csv', nrows =5000)"
   ]
  },
  {
   "cell_type": "code",
   "execution_count": 3,
   "metadata": {},
   "outputs": [
    {
     "data": {
      "text/html": [
       "<div>\n",
       "<style scoped>\n",
       "    .dataframe tbody tr th:only-of-type {\n",
       "        vertical-align: middle;\n",
       "    }\n",
       "\n",
       "    .dataframe tbody tr th {\n",
       "        vertical-align: top;\n",
       "    }\n",
       "\n",
       "    .dataframe thead th {\n",
       "        text-align: right;\n",
       "    }\n",
       "</style>\n",
       "<table border=\"1\" class=\"dataframe\">\n",
       "  <thead>\n",
       "    <tr style=\"text-align: right;\">\n",
       "      <th></th>\n",
       "      <th>school_state</th>\n",
       "      <th>teacher_prefix</th>\n",
       "      <th>project_grade_category</th>\n",
       "      <th>teacher_number_of_previously_posted_projects</th>\n",
       "      <th>project_is_approved</th>\n",
       "      <th>clean_categories</th>\n",
       "      <th>clean_subcategories</th>\n",
       "      <th>essay</th>\n",
       "      <th>price</th>\n",
       "    </tr>\n",
       "  </thead>\n",
       "  <tbody>\n",
       "    <tr>\n",
       "      <th>0</th>\n",
       "      <td>ca</td>\n",
       "      <td>mrs</td>\n",
       "      <td>grades_prek_2</td>\n",
       "      <td>53</td>\n",
       "      <td>1</td>\n",
       "      <td>math_science</td>\n",
       "      <td>appliedsciences health_lifescience</td>\n",
       "      <td>i fortunate enough use fairy tale stem kits cl...</td>\n",
       "      <td>725.05</td>\n",
       "    </tr>\n",
       "    <tr>\n",
       "      <th>1</th>\n",
       "      <td>ut</td>\n",
       "      <td>ms</td>\n",
       "      <td>grades_3_5</td>\n",
       "      <td>4</td>\n",
       "      <td>1</td>\n",
       "      <td>specialneeds</td>\n",
       "      <td>specialneeds</td>\n",
       "      <td>imagine 8 9 years old you third grade classroo...</td>\n",
       "      <td>213.03</td>\n",
       "    </tr>\n",
       "  </tbody>\n",
       "</table>\n",
       "</div>"
      ],
      "text/plain": [
       "  school_state teacher_prefix project_grade_category  \\\n",
       "0           ca            mrs          grades_prek_2   \n",
       "1           ut             ms             grades_3_5   \n",
       "\n",
       "   teacher_number_of_previously_posted_projects  project_is_approved  \\\n",
       "0                                            53                    1   \n",
       "1                                             4                    1   \n",
       "\n",
       "  clean_categories                 clean_subcategories  \\\n",
       "0     math_science  appliedsciences health_lifescience   \n",
       "1     specialneeds                        specialneeds   \n",
       "\n",
       "                                               essay   price  \n",
       "0  i fortunate enough use fairy tale stem kits cl...  725.05  \n",
       "1  imagine 8 9 years old you third grade classroo...  213.03  "
      ]
     },
     "execution_count": 3,
     "metadata": {},
     "output_type": "execute_result"
    }
   ],
   "source": [
    "data.head(2)"
   ]
  },
  {
   "cell_type": "code",
   "execution_count": 4,
   "metadata": {},
   "outputs": [
    {
     "name": "stdout",
     "output_type": "stream",
     "text": [
      "Input data shape : 5000 rows and 9 columns/dimentions\n"
     ]
    }
   ],
   "source": [
    "print(f'Input data shape : {data.shape[0]} rows and {data.shape[1]} columns/dimentions')"
   ]
  },
  {
   "cell_type": "code",
   "execution_count": 5,
   "metadata": {},
   "outputs": [
    {
     "name": "stdout",
     "output_type": "stream",
     "text": [
      "Column names are : ['school_state', 'teacher_prefix', 'project_grade_category', 'teacher_number_of_previously_posted_projects', 'project_is_approved', 'clean_categories', 'clean_subcategories', 'essay', 'price']\n"
     ]
    }
   ],
   "source": [
    "print('Column names are :', list(data.columns))"
   ]
  },
  {
   "cell_type": "markdown",
   "metadata": {
    "id": "WtVV13Fyb3dH"
   },
   "source": [
    "<h2>1.2 Splitting data into Train and cross validation(or test): Stratified Sampling</h2>\n",
    "\n",
    "<u>Reference</u>\n",
    "* 5_Reference_SampleSolution.ipynb"
   ]
  },
  {
   "cell_type": "code",
   "execution_count": 6,
   "metadata": {},
   "outputs": [
    {
     "name": "stdout",
     "output_type": "stream",
     "text": [
      "Shape after BagOfWords vectorizations :\n",
      "=============================================\n",
      "Train Data\t: (3750, 10000) , (3750,)\n",
      "Test Data\t: (1250, 10000) , (1250,)\n",
      "\n",
      "Shape after TF-IDF vectorizations :\n",
      "=============================================\n",
      "Train Data\t: (3750, 10000) , (3750,)\n",
      "Test Data\t: (1250, 10000) , (1250,)\n",
      "\n",
      "Vector Shapes after one-hot encoding are :\n",
      "(Categorical features)\n",
      "=============================================\n",
      "School State\t\t:  (3750, 51) , (1250, 51)\n",
      "Teacher Prefix\t\t:  (3750, 4) , (1250, 4)\n",
      "Project Grades\t\t:  (3750, 4) , (1250, 4)\n",
      "Project Categories\t:  (3750, 7) , (1250, 7)\n",
      "Project Subcategories\t:  (3750, 28) , (1250, 28)\n",
      "\n",
      "Vector Shapes after one-hot encoding are :\n",
      "(Numerical features)\n",
      "=============================================\n",
      "price\t\t\t:  (3750, 1) , (1250, 1)\n",
      "Previous Projects\t:  (3750, 1) , (1250, 1) \n",
      "\n"
     ]
    }
   ],
   "source": [
    "# 1. Split your data.\n",
    "y_data = data['project_is_approved'].values\n",
    "x_data = data.drop(['project_is_approved'], axis =1)\n",
    "x_train, x_test, y_train, y_test = train_test_split(x_data, y_data, stratify = y_data)\n",
    "'''using GridSearch / RandomSearchCV, so not splitting into CrossValidation data'''\n",
    "\n",
    "# 2. Perform Bag of Words Vectorization of text data.\n",
    "'''min_df & max_df : https://stackoverflow.com/a/35615151'''\n",
    "vectorizer_essay = CountVectorizer(ngram_range =(1,4), min_df = 10, max_features = 10000)\n",
    "vectorizer_essay.fit(x_train['essay'].values)\n",
    "\n",
    "x_train_essay_bow = vectorizer.transform(x_train['essay'].values)\n",
    "x_test_essay_bow = vectorizer.transform(x_test['essay'].values)\n",
    "\n",
    "print('Shape after BagOfWords vectorizations :')\n",
    "print('='*45)\n",
    "print('Train Data\\t:',x_train_essay_bow.shape,',',y_train.shape)\n",
    "print('Test Data\\t:',x_test_essay_bow.shape,',',y_test.shape)\n",
    "\n",
    "# 3. Perform tfidf vectorization of text data.\n",
    "'''\n",
    "https://towardsdatascience.com/text-vectorization-term-frequency-inverse-document-frequency-tfidf-5a3f9604da6d\n",
    "\n",
    "* TFIDF gives more weightage to the word that is rare in the corpus (all the documents).\n",
    "* TFIDF provides more importance to the word that is more frequent in the document.\n",
    "'''\n",
    "\n",
    "tfidf_vectorizor = TfidfVectorizer(min_df = 10, ngram_range = (1,4), max_features = 10000)\n",
    "tfidf_vectorizor.fit(x_train['essay'].values)\n",
    "x_train_essay_tfidf = vectorizer.transform(x_train['essay'].values)\n",
    "x_test_essay_tfidf = vectorizer.transform(x_test['essay'].values)\n",
    "\n",
    "print('\\nShape after TF-IDF vectorizations :')\n",
    "print('='*45)\n",
    "print('Train Data\\t:', x_train_essay_tfidf.shape,',',y_train.shape)\n",
    "print('Test Data\\t:', x_test_essay_tfidf.shape,',',y_test.shape)\n",
    "\n",
    "# 4. perform one-hot encoding of categorical features.\n",
    "''' https://stats.stackexchange.com/a/519081 '''\n",
    "\n",
    "print('\\nVector Shapes after one-hot encoding are :')\n",
    "print('(Categorical features)')\n",
    "print('='*45)\n",
    "\n",
    "# 4.1. school_state\n",
    "vectorizer = CountVectorizer()\n",
    "vectorizer.fit(x_train['school_state'].values)\n",
    "\n",
    "x_train_school_state = vectorizer.transform(x_train['school_state'].values)\n",
    "x_test_school_state = vectorizer.transform(x_test['school_state'].values)\n",
    "print('School State\\t\\t: ',x_train_school_state.shape,',',x_test_school_state.shape)\n",
    "# print(vectorizer.get_feature_names())  # Code to printfeature names alone\n",
    "\n",
    "# 4.2. teacher_prefix\n",
    "vectorizer = CountVectorizer()\n",
    "vectorizer.fit(x_train['teacher_prefix'].values)\n",
    "\n",
    "x_train_teacher_prefix = vectorizer.transform(x_train['teacher_prefix'].values)\n",
    "x_test_teacher_prefix = vectorizer.transform(x_test['teacher_prefix'].values)\n",
    "print('Teacher Prefix\\t\\t: ', x_train_teacher_prefix.shape,',',x_test_teacher_prefix.shape)\n",
    "# print(vectorizer.get_feature_names())  # Code to printfeature names alone\n",
    "\n",
    "# 4.3. project_grade_category\n",
    "vectorizer = CountVectorizer()\n",
    "vectorizer.fit(x_train['project_grade_category'].values)\n",
    "\n",
    "x_train_project_grade = vectorizer.transform(x_train['project_grade_category'].values)\n",
    "x_test_project_grade = vectorizer.transform(x_test['project_grade_category'].values)\n",
    "print('Project Grades\\t\\t: ', x_train_project_grade.shape,',',x_test_project_grade.shape)\n",
    "# print(vectorizer.get_feature_names())  # Code to printfeature names alone\n",
    "\n",
    "# 4.4. clean_categories\n",
    "vectorizer = CountVectorizer()\n",
    "vectorizer.fit(x_train['clean_categories'].values)\n",
    "\n",
    "x_train_clean_categories = vectorizer.transform(x_train['clean_categories'].values)\n",
    "x_test_clean_categories = vectorizer.transform(x_test['clean_categories'].values)\n",
    "print('Project Categories\\t: ', x_train_clean_categories.shape,',',x_test_clean_categories.shape)\n",
    "# print(vectorizer.get_feature_names())  # Code to printfeature names alone\n",
    "\n",
    "# 4.5. clean_subcategories\n",
    "vectorizer = CountVectorizer()\n",
    "vectorizer.fit(x_train['clean_subcategories'].values)\n",
    "\n",
    "x_train_clean_subcategories = vectorizer.transform(x_train['clean_subcategories'].values)\n",
    "x_test_clean_subcategories = vectorizer.transform(x_test['clean_subcategories'].values)\n",
    "print('Project Subcategories\\t: ', x_train_clean_subcategories.shape,',',x_test_clean_subcategories.shape)\n",
    "# print(vectorizer.get_feature_names())  # Code to printfeature names alone\n",
    "\n",
    "# 5. perform normalization of numerical features\n",
    "'''\n",
    "since we are giving only a single feature input so array.reshape(-1, 1)\n",
    "https://youtu.be/2zP3wPy7huw?t=1276\n",
    "'''\n",
    "print('\\nVector Shapes after one-hot encoding are :')\n",
    "print('(Numerical features)')\n",
    "print('='*45)\n",
    "# 5.1 price\n",
    "normalizer = Normalizer()\n",
    "normalizer.fit(x_train['price'].values.reshape(-1, 1))\n",
    "\n",
    "x_train_price = normalizer.transform(x_train['price'].values.reshape(-1, 1))\n",
    "x_test_price = normalizer.transform(x_test['price'].values.reshape(-1, 1))\n",
    "print('price\\t\\t\\t: ', x_train_price.shape,',',x_test_price.shape)\n",
    "\n",
    "# 5.2 teacher_number_of_previously_posted_projects\n",
    "normalizer = Normalizer()\n",
    "normalizer.fit(x_train['teacher_number_of_previously_posted_projects'].values.reshape(-1, 1))\n",
    "\n",
    "x_train_previous_projects = normalizer.transform(x_train['teacher_number_of_previously_posted_projects']\n",
    "                                                 .values.reshape(-1, 1))\n",
    "x_test_previous_projects = normalizer.transform(x_test['teacher_number_of_previously_posted_projects']\n",
    "                                                .values.reshape(-1, 1))\n",
    "print('Previous Projects\\t: ', x_train_previous_projects.shape,',',x_test_previous_projects.shape,'\\n')\n",
    "\n"
   ]
  },
  {
   "cell_type": "code",
   "execution_count": 7,
   "metadata": {},
   "outputs": [
    {
     "name": "stdout",
     "output_type": "stream",
     "text": [
      "=============================================\n",
      "\n",
      "BoW stack train shape\t:  (3750, 10096)\n",
      "BoW stack test shape\t:  (1250, 10096)\n",
      "\n",
      "TFIDF stack train shape\t:  (3750, 10096)\n",
      "TFIDF stack test shape\t:  (1250, 10096)\n"
     ]
    },
    {
     "data": {
      "image/png": "[encoded data removed]",
      "text/plain": [
       "<Figure size 840x560 with 1 Axes>"
      ]
     },
     "metadata": {
      "needs_background": "light"
     },
     "output_type": "display_data"
    },
    {
     "name": "stdout",
     "output_type": "stream",
     "text": [
      "Best Hyper parameter =  {'alpha': 0.5}\n"
     ]
    }
   ],
   "source": [
    "# 6. For set 1 stack up all the features using hstack() (BoW)\n",
    "'''merge two sparse matrices: https://stackoverflow.com/a/19710648/4084039'''\n",
    "x_train_stack_bow = hstack((x_train_essay_bow, x_train_school_state, x_train_teacher_prefix, \n",
    "                        x_train_project_grade, x_train_clean_categories, x_train_clean_subcategories,\n",
    "                        x_train_price, x_train_previous_projects)).tocsr()\n",
    "\n",
    "x_test_stack_bow = hstack((x_test_essay_bow, x_test_school_state, x_test_teacher_prefix, \n",
    "                       x_test_project_grade, x_test_clean_categories, x_test_clean_subcategories,\n",
    "                       x_test_price, x_test_previous_projects)).tocsr()\n",
    "print('='*45)\n",
    "print('\\nBoW stack train shape\\t: ',x_train_stack_bow.shape)\n",
    "print('BoW stack test shape\\t: ',x_test_stack_bow.shape)\n",
    "\n",
    "# 7. For set 2 stack up all the features using hstack() (TF-IDF)\n",
    "'''merge two sparse matrices: https://stackoverflow.com/a/19710648/4084039'''\n",
    "x_train_stack_tfidf  = hstack((x_train_essay_tfidf, x_train_school_state, x_train_teacher_prefix, \n",
    "                        x_train_project_grade, x_train_clean_categories, x_train_clean_subcategories,\n",
    "                        x_train_price, x_train_previous_projects)).tocsr()\n",
    "\n",
    "x_test_stack_tfidf = hstack((x_test_essay_tfidf, x_test_school_state, x_test_teacher_prefix, \n",
    "                       x_test_project_grade, x_test_clean_categories, x_test_clean_subcategories,\n",
    "                       x_test_price, x_test_previous_projects)).tocsr()\n",
    "\n",
    "print('\\nTFIDF stack train shape\\t: ',x_train_stack_tfidf.shape)\n",
    "print('TFIDF stack test shape\\t: ',x_test_stack_tfidf.shape)\n",
    "\n",
    "# 8. Perform hyperparameter tuning and represent the training and cross-validation AUC scores for different 'alpha' values, using a 2D line plot.\n",
    "\n",
    "# https://scikit-learn.org/stable/modules/generated/sklearn.model_selection.RandomizedSearchCV.html\n",
    "\n",
    "parameters = {'alpha':[0.00001, 0.00005, 0.0001, 0.0005, 0.001, 0.005, 0.01, 0.05,\n",
    "                       0.1, 0.5,1, 5, 10, 50, 100, 500, 1000, 2500, 5000, 10000]}\n",
    "\n",
    "multi_NB = MultinomialNB(class_prior = [0.5, 0.5])\n",
    "\n",
    "clf = RandomizedSearchCV(multi_NB, parameters, cv = 10, scoring = 'roc_auc',\n",
    "                         return_train_score=True, n_jobs =-1)\n",
    "'''\n",
    "https://stackoverflow.com/a/57139639\n",
    "KeyError: 'mean_train_score'\n",
    "add, return_train_score = True\n",
    "'''\n",
    "\n",
    "search = clf.fit(x_train_stack_bow, y_train)\n",
    "\n",
    "# https://stackoverflow.com/a/48803361/4084039\n",
    "\n",
    "train_auc = search.cv_results_['mean_train_score']\n",
    "train_auc_std = search.cv_results_['std_train_score']\n",
    "cv_auc = search.cv_results_['mean_test_score']\n",
    "cv_auc_std = search.cv_results_['std_test_score']\n",
    "alphas = sorted(search.cv_results_['param_alpha'])\n",
    "\n",
    "# https://scikit-learn.org/stable/modules/generated/sklearn.model_selection.RandomizedSearchCV.html\n",
    "best_params = search.best_params_\n",
    "\n",
    "# fig = plt.figure(dpi=140)\n",
    "# plt.plot(alphas, train_auc, label='Train AUC')\n",
    "# plt.plot(alphas, cv_auc, label='CV AUC')\n",
    "# plt.scatter(alphas, train_auc, label='Train AUC points')\n",
    "# plt.scatter(alphas, cv_auc, label='CV AUC points')\n",
    "\n",
    "#taking log for 'alphas', because data points are far away from each other\n",
    "# https://docs.python.org/3.3/library/math.html#math.log\n",
    "log_alphas = [log(value,10) for value in alphas]\n",
    "\n",
    "fig = plt.figure(dpi=140)\n",
    "plt.plot(log_alphas, train_auc, label='Train AUC')\n",
    "plt.plot(log_alphas, cv_auc, label='CV AUC')\n",
    "plt.scatter(log_alphas, train_auc, label='Train AUC points')\n",
    "plt.scatter(log_alphas, cv_auc, label='CV AUC points')\n",
    "plt.xlabel(\"alpha: hyperparameter\")\n",
    "plt.ylabel(\"AUC\")\n",
    "plt.title(\"Hyper parameter Vs AUC plot\")\n",
    "fig.legend(loc='center left', bbox_to_anchor=(0.9, 0.5)) #https://stackoverflow.com/a/4701285\n",
    "plt.grid()\n",
    "plt.show()\n",
    "print('Best Hyper parameter = ', best_params)"
   ]
  },
  {
   "cell_type": "code",
   "execution_count": 8,
   "metadata": {},
   "outputs": [
    {
     "data": {
      "image/png": "[encoded data removed]",
      "text/plain": [
       "<Figure size 780x520 with 1 Axes>"
      ]
     },
     "metadata": {
      "needs_background": "light"
     },
     "output_type": "display_data"
    },
    {
     "name": "stdout",
     "output_type": "stream",
     "text": [
      "The maximum value of tpr*(1-fpr) 0.8977621796170927 for threshold 0.526\n",
      "The maximum value of tpr*(1-fpr) 0.36108727224716136 for threshold 1.0\n"
     ]
    },
    {
     "data": {
      "image/png": "[encoded data removed]",
      "text/plain": [
       "<Figure size 1152x432 with 4 Axes>"
      ]
     },
     "metadata": {},
     "output_type": "display_data"
    }
   ],
   "source": [
    "# 9. Find the best hyperparameter 'alpha' and fit the model. Plot ROC-AUC curve(by obtaining the probabilities using 'predict proba' method)\n",
    "\n",
    "# https://scikit-learn.org/stable/modules/generated/sklearn.naive_bayes.MultinomialNB.html\n",
    "multi_NB_tuned_bow = MultinomialNB(class_prior = [0.5, 0.5], alpha = best_params['alpha'])\n",
    "multi_NB_tuned_bow.fit(x_train_stack_bow, y_train)\n",
    "\n",
    "# https://discuss.analyticsvidhya.com/t/what-is-the-difference-between-predict-and-predict-proba/67376/3\n",
    "y_train_bow_pred = multi_NB_tuned_bow.predict_proba(x_train_stack_bow)[:,1]\n",
    "y_test_bow_pred = multi_NB_tuned_bow.predict_proba(x_test_stack_bow)[:,1]\n",
    "\n",
    "# https://scikit-learn.org/stable/modules/generated/sklearn.metrics.roc_curve.html\n",
    "train_fpr, train_tpr, tr_thresholds = roc_curve(y_train, y_train_bow_pred)\n",
    "test_fpr, test_tpr, te_thresholds = roc_curve(y_test, y_test_bow_pred)\n",
    "\n",
    "# 5_Reference_SampleSolution\n",
    "plt.figure(dpi =130)\n",
    "plt.plot(train_fpr, train_tpr, label=\"Train AUC =\"+str(auc(train_fpr, train_tpr)))\n",
    "plt.plot(test_fpr, test_tpr, label=\"Test AUC =\"+str(auc(test_fpr, test_tpr)))\n",
    "\n",
    "# https://youtu.be/5e1vO6AwoQw?t=44\n",
    "plt.xlabel('False Positive Rate')\n",
    "plt.ylabel('True Positive Rate')\n",
    "plt.title('AUC')\n",
    "plt.grid()\n",
    "plt.legend(loc=4)\n",
    "plt.show()\n",
    "\n",
    "# 10. Plot confusion matrix based on the best threshold value\n",
    "\n",
    "# we are writing our own function for predict, with defined thresould\n",
    "def best_threshold_and_y_pred(threshould,proba, fpr, tpr):\n",
    "    best_t = threshould[np.argmax(tpr*(1-fpr))]\n",
    "    # (tpr*(1-fpr)) will be maximum if fpr is very low and tpr is very high\n",
    "    print(\"The maximum value of tpr*(1-fpr)\", max(tpr*(1-fpr)), \"for threshold\", np.round(best_t,3))\n",
    "    \n",
    "    predictions = []\n",
    "    for i in proba:\n",
    "        if i >= best_t:\n",
    "            predictions.append(1)\n",
    "        else:\n",
    "            predictions.append(0)\n",
    "    return predictions\n",
    "\n",
    "train_confusion_mat = confusion_matrix(y_train, \n",
    "                        best_threshold_and_y_pred(tr_thresholds, y_train_bow_pred, train_fpr, train_tpr))\n",
    "test_confusion_mat = confusion_matrix(y_test,\n",
    "                        best_threshold_and_y_pred(te_thresholds, y_test_bow_pred, test_fpr, test_tpr))\n",
    "\n",
    "# print('\\nTrain confusion matrix : \\n', train_confusion_mat)\n",
    "# print('\\nTest confusion matrix : \\n', test_confusion_mat)\n",
    "\n",
    "'''\n",
    "https://stackoverflow.com/a/61748695\n",
    "https://stackoverflow.com/a/39133654\n",
    "'''\n",
    "sns.set(font_scale=1.2)\n",
    "fig, axes = plt.subplots(1, 2, figsize = (16,6))\n",
    "fig.suptitle('Confusion Matrices', fontsize = 18)\n",
    "\n",
    "fig_1 = sns.heatmap(train_confusion_mat, annot=True, fmt=\"d\", cmap='Reds', ax = axes[0])\n",
    "fig_1.title.set_text('Train confusion matrix')\n",
    "\n",
    "fig_2 = sns.heatmap(test_confusion_mat, annot=True, fmt=\"d\", cmap='YlGn', ax = axes[1])\n",
    "fig_2.title.set_text('Test confusion matrix')\n",
    "\n",
    "plt.show()"
   ]
  },
  {
   "cell_type": "code",
   "execution_count": 9,
   "metadata": {},
   "outputs": [],
   "source": [
    "# 11. Either for the model in set 1 or in set 2, print the top 20 features(you have to print the names, not the indexes) associated with the positive and negative classes each.\n",
    "# 12. Summarize your observations and compare both the models(ie., from set 1 and set 2) in terms of optimal hyperparameter value, train AUC and test AUC scores. \n",
    "# 13. You can use Prettytable or any other tabular format for comparison.\n",
    "\n",
    "\n",
    "# please write all the code with proper documentation, and proper titles for each subsection\n",
    "# go through documentations and blogs before you start coding\n",
    "# first figure out what to do, and then think about how to do.\n",
    "# reading and understanding error messages will be very much helpfull in debugging your code\n",
    "# when you plot any graph make sure you use \n",
    "    # a. Title, that describes your plot, this will be very helpful to the reader\n",
    "    # b. Legends if needed\n",
    "    # c. X-axis label\n",
    "    # d. Y-axis label"
   ]
  },
  {
   "cell_type": "code",
   "execution_count": 10,
   "metadata": {},
   "outputs": [
    {
     "data": {
      "text/plain": [
       "(3750, 10096)"
      ]
     },
     "execution_count": 10,
     "metadata": {},
     "output_type": "execute_result"
    }
   ],
   "source": [
    "x_train_stack_tfidf.shape"
   ]
  },
  {
   "cell_type": "raw",
   "metadata": {},
   "source": [
    "x_train_stack_tfidf  = hstack((x_train_essay_tfidf, x_train_school_state, x_train_teacher_prefix, \n",
    "                        x_train_project_grade, x_train_clean_categories, x_train_clean_subcategories,\n",
    "                        x_train_price, x_train_previous_projects)).tocsr()"
   ]
  },
  {
   "cell_type": "code",
   "execution_count": 27,
   "metadata": {},
   "outputs": [
    {
     "data": {
      "text/plain": [
       "<3750x10000 sparse matrix of type '<class 'numpy.int64'>'\n",
       "\twith 583025 stored elements in Compressed Sparse Row format>"
      ]
     },
     "execution_count": 27,
     "metadata": {},
     "output_type": "execute_result"
    }
   ],
   "source": [
    "x_train_essay_tfidf"
   ]
  },
  {
   "cell_type": "raw",
   "metadata": {},
   "source": [
    "bow_vectorizer_essay\n",
    "tfidf_vectorizor_essay\n",
    "\n",
    "vectorizer_school_state\n",
    "vectorizer_teacher_prefix\n",
    "vectorizer_project_grade\n",
    "vectorizer_clean_categories\n",
    "vectorizer_clean_subcategories\n",
    "\n",
    "normalizer_price\n",
    "normalizer_pervious_project\n",
    "\n",
    "get_feature_names()"
   ]
  },
  {
   "cell_type": "code",
   "execution_count": null,
   "metadata": {},
   "outputs": [],
   "source": [
    "x_train_stack_bow = hstack((x_train_essay_bow, x_train_school_state, x_train_teacher_prefix, \n",
    "                        x_train_project_grade, x_train_clean_categories, x_train_clean_subcategories,\n",
    "                        x_train_price, x_train_previous_projects)).tocsr()\n",
    "\n",
    "x_train_stack_tfidf  = hstack((x_train_essay_tfidf, x_train_school_state, x_train_teacher_prefix, \n",
    "                        x_train_project_grade, x_train_clean_categories, x_train_clean_subcategories,\n",
    "                        x_train_price, x_train_previous_projects)).tocsr()"
   ]
  },
  {
   "cell_type": "code",
   "execution_count": null,
   "metadata": {},
   "outputs": [],
   "source": []
  },
  {
   "cell_type": "code",
   "execution_count": null,
   "metadata": {},
   "outputs": [],
   "source": []
  },
  {
   "cell_type": "code",
   "execution_count": null,
   "metadata": {},
   "outputs": [],
   "source": []
  },
  {
   "cell_type": "code",
   "execution_count": null,
   "metadata": {},
   "outputs": [],
   "source": []
  },
  {
   "cell_type": "raw",
   "metadata": {},
   "source": [
    "# 11. Either for the model in set 1 or in set 2, print the top 20 features(you have to print the names, not the indexes) associated with the positive and negative classes each.\n",
    "# 12. Summarize your observations and compare both the models(ie., from set 1 and set 2) in terms of optimal hyperparameter value, train AUC and test AUC scores. \n",
    "# 13. You can use Prettytable or any other tabular format for comparison.\n",
    "\n",
    "\n",
    "# please write all the code with proper documentation, and proper titles for each subsection\n",
    "# go through documentations and blogs before you start coding\n",
    "# first figure out what to do, and then think about how to do.\n",
    "# reading and understanding error messages will be very much helpfull in debugging your code\n",
    "# when you plot any graph make sure you use \n",
    "    # a. Title, that describes your plot, this will be very helpful to the reader\n",
    "    # b. Legends if needed\n",
    "    # c. X-axis label\n",
    "    # d. Y-axis label\n",
    "    "
   ]
  },
  {
   "cell_type": "code",
   "execution_count": 12,
   "metadata": {
    "id": "i-PyprDNb3dI"
   },
   "outputs": [],
   "source": [
    "# Split the dataset \n",
    "# 1) If you want to apply simple cross-validation, split the dataset into 3 parts (ie., train, CV and test sets)\n",
    "# 2) If you want to apply K-fold CV (or) GridSearch Cross Validation (or) Randomized Search Cross Validation, just split the dataset into 2 parts (ie., train and test sets)\n",
    "\n"
   ]
  },
  {
   "cell_type": "markdown",
   "metadata": {
    "id": "EnZwVNULb3dO"
   },
   "source": [
    "<h2>1.3 Make Data Model Ready: encoding essay, and project_title</h2>"
   ]
  },
  {
   "cell_type": "code",
   "execution_count": 13,
   "metadata": {},
   "outputs": [],
   "source": [
    "# Apply Bag of Words (BOW) vectorization on 'Preprocessed_Essay' \n",
    "# Apply Bag of Words (BOW) vectorization on 'Preprocessed_Title' (Optional)\n"
   ]
  },
  {
   "cell_type": "code",
   "execution_count": 14,
   "metadata": {},
   "outputs": [],
   "source": [
    "# Apply TF-IDF vectorization on 'Preprocessed_Essay' \n",
    "# Apply TF-IDF vectorization on 'Preprocessed_Title' (Optional)\n"
   ]
  },
  {
   "cell_type": "markdown",
   "metadata": {
    "id": "bGy86kgHb3dX"
   },
   "source": [
    "<h2>1.4 Make Data Model Ready: encoding numerical, categorical features</h2>"
   ]
  },
  {
   "cell_type": "code",
   "execution_count": 15,
   "metadata": {
    "id": "EfXkofX1b3da"
   },
   "outputs": [],
   "source": [
    "# Apply One-Hot Encoding on the categorical features either using OneHotEncoder() (or) CountVectorizer(binary=True)\n",
    "# Apply Normalization on the numerical features using Normalizer().\n"
   ]
  },
  {
   "cell_type": "markdown",
   "metadata": {
    "id": "yYHPYadYb3dh"
   },
   "source": [
    "<h2>1.5 Appling NB on different kind of featurization as mentioned in the instructions</h2>\n",
    "\n",
    "<br>Apply NB on different kind of featurization as mentioned in the instructions\n",
    "<br> For Every model that you work on make sure you do the step 2 and step 3 of instrucations"
   ]
  },
  {
   "cell_type": "markdown",
   "metadata": {
    "id": "DNwqilFxb3di"
   },
   "source": [
    "#### Set 1"
   ]
  },
  {
   "cell_type": "code",
   "execution_count": 16,
   "metadata": {},
   "outputs": [],
   "source": [
    "# Perform Hyperparameter Tuning.\n",
    "# Plot the training and the CV AUC scores, for different values of 'alpha', using a 2D line plot\n",
    "\n"
   ]
  },
  {
   "cell_type": "code",
   "execution_count": 17,
   "metadata": {},
   "outputs": [],
   "source": [
    "# Obtain the optimal value for 'alpha' and using the obtained optimal 'alpha' value, fit a multinomial naive bayes model, on the train data,\n",
    "# Note: If you have split the datase into 3 parts (ie., train, cv and test sets) in the beginning, then the training datafor this final model would be (train set + cv set)\n",
    "# Make class label and probability predictions on the train and test data.\n"
   ]
  },
  {
   "cell_type": "code",
   "execution_count": 18,
   "metadata": {},
   "outputs": [],
   "source": [
    "# Plot the ROC-AUC curves using the probability predictions made on train and test data.\n"
   ]
  },
  {
   "cell_type": "code",
   "execution_count": 19,
   "metadata": {},
   "outputs": [],
   "source": [
    "# Pick the best threshold among the probability estimates, such that it has to yield maximum value for TPR*(1-FPR)\n",
    "# Plot the confusion matrices(each for train and test data) afer encoding the predicted class labels, on the basis of the best threshod probability estimate.\n"
   ]
  },
  {
   "cell_type": "markdown",
   "metadata": {},
   "source": [
    "#### Set 2"
   ]
  },
  {
   "cell_type": "code",
   "execution_count": 20,
   "metadata": {},
   "outputs": [],
   "source": [
    "# Perform Hyperparameter Tuning.\n",
    "# Plot the training and the CV AUC scores, for different values of 'alpha', using a 2D line plot\n",
    "\n"
   ]
  },
  {
   "cell_type": "code",
   "execution_count": 21,
   "metadata": {},
   "outputs": [],
   "source": [
    "# Obtain the optimal value for 'alpha' and using the obtained optimal 'alpha' value, fit a multinomial naive bayes model, on the train data,\n",
    "# Note: If you have split the datase into 3 parts (ie., train, cv and test sets) in the beginning, then the training datafor this final model would be (train set + cv set)\n",
    "# Make class label and probability predictions on the train and test data.\n"
   ]
  },
  {
   "cell_type": "code",
   "execution_count": 22,
   "metadata": {},
   "outputs": [],
   "source": [
    "# Plot the ROC-AUC curves using the probability predictions made on train and test data.\n"
   ]
  },
  {
   "cell_type": "code",
   "execution_count": 23,
   "metadata": {},
   "outputs": [],
   "source": [
    "# Pick the best threshold among the probability estimates, such that it has to yield maximum value for TPR*(1-FPR)\n",
    "# Plot the confusion matrices(each for train and test data) afer encoding the predicted class labels, on the basis of the best threshod probability estimate.\n"
   ]
  },
  {
   "cell_type": "code",
   "execution_count": 24,
   "metadata": {},
   "outputs": [],
   "source": [
    "# Either from set 1 (or) set 2, print the names of the top 20 features associated with the positive and negative classes each. (You have to print the names of the features, but not the indexes)\n",
    "\n"
   ]
  },
  {
   "cell_type": "markdown",
   "metadata": {
    "id": "lS9hIHdib3dp"
   },
   "source": [
    "<h1>3. Summary</h1>\n",
    "\n",
    "<br> as mentioned in the step 5 of instructions"
   ]
  },
  {
   "cell_type": "code",
   "execution_count": 25,
   "metadata": {},
   "outputs": [],
   "source": [
    "#Summarize your assignment work here in a few points, and also compare the final models\n",
    "#(from set 1 and set 2), in terms of optimal hyperparameter value 'alpha', training AUC and test AUC scores.\n",
    "\n",
    "# You can either use a pretty table or any other tabular structure.\n",
    "# Reference Link for Pretty table:  https://pypi.org/project/prettytable/"
   ]
  },
  {
   "cell_type": "code",
   "execution_count": 29,
   "metadata": {},
   "outputs": [
    {
     "name": "stdout",
     "output_type": "stream",
     "text": [
      "Collecting texttable\n",
      "  Downloading texttable-1.6.4-py2.py3-none-any.whl (10 kB)\n",
      "Installing collected packages: texttable\n",
      "Successfully installed texttable-1.6.4\n",
      "Note: you may need to restart the kernel to use updated packages.\n"
     ]
    }
   ],
   "source": [
    "pip install texttable"
   ]
  },
  {
   "cell_type": "code",
   "execution_count": 41,
   "metadata": {},
   "outputs": [
    {
     "name": "stdout",
     "output_type": "stream",
     "text": [
      "+------------+---------------+-----------------+------------+\n",
      "| Vectorizer |     Model     | Hyper Parameter | AUC (test) |\n",
      "+============+===============+=================+============+\n",
      "| BoW        | MultinomialNB | alpha           | 600.500    |\n",
      "+------------+---------------+-----------------+------------+\n",
      "| TFIDF      | MultinomialNB | alpha           | 600.500    |\n",
      "+------------+---------------+-----------------+------------+\n"
     ]
    }
   ],
   "source": [
    "from texttable import Texttable\n",
    "t = Texttable()\n",
    "\n",
    "t.add_rows([['Vectorizer', 'Model', 'Hyper Parameter', 'AUC (test)'],\n",
    "            ['BoW', 'MultinomialNB', 'alpha', 600.5],\n",
    "            ['TFIDF', 'MultinomialNB','alpha', 600.5]])\n",
    "\n",
    "print(t.draw())"
   ]
  },
  {
   "cell_type": "code",
   "execution_count": 43,
   "metadata": {},
   "outputs": [
    {
     "name": "stdout",
     "output_type": "stream",
     "text": [
      "+------------+---------------+-----------------+------------+\n",
      "| Vectorizer |     Model     | Hyper Parameter | AUC (test) |\n",
      "+------------+---------------+-----------------+------------+\n",
      "|    BoW     | MultinomialNB |      alpha      |   600.5    |\n",
      "|   TFIDF    | MultinomialNB |      alpha      |   600.5    |\n",
      "+------------+---------------+-----------------+------------+\n"
     ]
    }
   ],
   "source": [
    "from prettytable import PrettyTable\n",
    "t = PrettyTable(['Vectorizer', 'Model', 'Hyper Parameter', 'AUC (test)'])\n",
    "# t.add_row(['Vectorizer', 'Model', 'Hyper Parameter', 'AUC (test)'])\n",
    "t.add_row(['BoW', 'MultinomialNB', 'alpha', 600.5])\n",
    "t.add_row(['TFIDF', 'MultinomialNB','alpha', 600.5])\n",
    "print(t)"
   ]
  },
  {
   "cell_type": "code",
   "execution_count": null,
   "metadata": {},
   "outputs": [],
   "source": [
    "* False negative count is almost half of ture positive counts (for both train and test datasets), which is not good\n",
    "* The true negative count is very less in all case. The value is only ~20% of true positive count.\n",
    "* There is no great difference in AUC curves for BoW and TF-IDF models, both are  almost similar to each other"
   ]
  }
 ],
 "metadata": {
  "colab": {
   "collapsed_sections": [],
   "name": "6_Assignment_NB_Instructions.ipynb",
   "provenance": []
  },
  "kernelspec": {
   "display_name": "Python 3 (ipykernel)",
   "language": "python",
   "name": "python3"
  },
  "language_info": {
   "codemirror_mode": {
    "name": "ipython",
    "version": 3
   },
   "file_extension": ".py",
   "mimetype": "text/x-python",
   "name": "python",
   "nbconvert_exporter": "python",
   "pygments_lexer": "ipython3",
   "version": "3.7.11"
  }
 },
 "nbformat": 4,
 "nbformat_minor": 1
}
