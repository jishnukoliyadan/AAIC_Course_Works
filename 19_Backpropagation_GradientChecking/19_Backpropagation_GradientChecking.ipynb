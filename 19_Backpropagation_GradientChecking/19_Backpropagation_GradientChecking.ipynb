{
 "cells": [
  {
   "cell_type": "markdown",
   "metadata": {
    "id": "y871RZtRhCEH"
   },
   "source": [
    "# <font color='red'>Backpropagation</font>"
   ]
  },
  {
   "cell_type": "markdown",
   "metadata": {
    "id": "LqePYi-4mFvK"
   },
   "source": [
    "\n",
    "In this assignment, you will implement Backpropagation from scratch. You will then verify the correctness of the your implementation using a \"grader\" function/cell (provided by us) which will match your implmentation.\n",
    "\n",
    "The grader fucntion would help you validate the correctness of your code. \n",
    "\n",
    "Please submit the final Colab notebook in the classroom ONLY after you have verified your code using the grader function/cell.\n",
    "\n",
    "\n"
   ]
  },
  {
   "cell_type": "markdown",
   "metadata": {
    "id": "0huUQ0byiI0I"
   },
   "source": [
    "## <font color='red'>Loading data </font>"
   ]
  },
  {
   "cell_type": "code",
   "execution_count": 1,
   "metadata": {
    "id": "1hSje5CBgcUb"
   },
   "outputs": [
    {
     "name": "stdout",
     "output_type": "stream",
     "text": [
      "(506, 6)\n",
      "(506, 5) (506,)\n"
     ]
    }
   ],
   "source": [
    "import pickle\n",
    "import numpy as np\n",
    "from math import exp\n",
    "from tqdm import tqdm\n",
    "from statistics import mean\n",
    "import matplotlib.pyplot as plt\n",
    "\n",
    "with open('data.pkl', 'rb') as f:\n",
    "    data = pickle.load(f)\n",
    "print(data.shape)\n",
    "X = data[:, :5]\n",
    "y = data[:, -1]\n",
    "print(X.shape, y.shape)"
   ]
  },
  {
   "cell_type": "markdown",
   "metadata": {
    "id": "hmphIg_E52Rs"
   },
   "source": [
    "<font color='blue'><b>Check this video for better understanding of the computational graphs and back propagation</font>"
   ]
  },
  {
   "cell_type": "code",
   "execution_count": 2,
   "metadata": {
    "colab": {
     "base_uri": "https://localhost:8080/",
     "height": 520
    },
    "id": "uUWpHhgg53eu",
    "outputId": "3cc89735-d0a7-4c1c-aab5-d4e75b856a6b"
   },
   "outputs": [
    {
     "data": {
      "image/jpeg": "[encoded data removed]",
      "text/html": [
       "\n",
       "        <iframe\n",
       "            width=\"1000\"\n",
       "            height=\"500\"\n",
       "            src=\"https://www.youtube.com/embed/i94OvYb6noo\"\n",
       "            frameborder=\"0\"\n",
       "            allowfullscreen\n",
       "            \n",
       "        ></iframe>\n",
       "        "
      ],
      "text/plain": [
       "<IPython.lib.display.YouTubeVideo at 0x7f13f83f1880>"
      ]
     },
     "execution_count": 2,
     "metadata": {},
     "output_type": "execute_result"
    }
   ],
   "source": [
    "from IPython.display import YouTubeVideo\n",
    "YouTubeVideo('i94OvYb6noo',width=\"1000\",height=\"500\")"
   ]
  },
  {
   "cell_type": "markdown",
   "metadata": {
    "id": "5JL-0soQistC"
   },
   "source": [
    "# <font color='red'>Computational graph</font>"
   ]
  },
  {
   "cell_type": "markdown",
   "metadata": {
    "id": "nREnTTJ3i0Vd"
   },
   "source": [
    "<img src='https://i.imgur.com/seSGbNS.png'>"
   ]
  },
  {
   "cell_type": "markdown",
   "metadata": {
    "id": "DSPX_H_4i_HT"
   },
   "source": [
    "\n",
    "*  **If you observe the graph, we are having input features [f1, f2, f3, f4, f5] and 9 weights [w1, w2, w3, w4, w5, w6,    w7, w8, w9]**.<br><br>\n",
    "*  **The final output of this graph is a value L which is computed as (Y-Y')^2** "
   ]
  },
  {
   "cell_type": "markdown",
   "metadata": {
    "id": "D54eDEv6jkO4"
   },
   "source": [
    "## <font color='red'>Task 1: Implementing Forward propagation, Backpropagation and Gradient checking </font>"
   ]
  },
  {
   "cell_type": "markdown",
   "metadata": {
    "id": "xyWK94o_fTKH"
   },
   "source": [
    "# <font color='red'>Task 1.1 </font>"
   ]
  },
  {
   "cell_type": "markdown",
   "metadata": {
    "id": "RwEcPWLffTKI"
   },
   "source": [
    "## <font color='blue'>Forward propagation </font>"
   ]
  },
  {
   "cell_type": "markdown",
   "metadata": {
    "id": "FCZrm-gkfTKI"
   },
   "source": [
    "\n",
    "*  <b>\n",
    "    Forward propagation</b>(Write your code in<font color='blue'> def forward_propagation()</b></font>)<br><br>\n",
    "    For easy debugging, we will break the computational graph into 3 parts.\n",
    "\n",
    "    <img src='https://i.imgur.com/0xUaxy6.png'><br><br>\n",
    "    <img src='https://i.imgur.com/J29pAJL.png'><br><br>\n",
    "    <img src='https://i.imgur.com/vMyCsd9.png'>"
   ]
  },
  {
   "cell_type": "code",
   "execution_count": 3,
   "metadata": {
    "id": "ADCovl2FfTKJ"
   },
   "outputs": [],
   "source": [
    "def sigmoid(z):\n",
    "    '''In this function, we will compute the sigmoid(z)'''\n",
    "    \n",
    "    sigmoid_ = 1 / (1 + exp(-z))\n",
    "    \n",
    "    return sigmoid_"
   ]
  },
  {
   "cell_type": "code",
   "execution_count": 4,
   "metadata": {
    "id": "dLJ-OYwefTKJ"
   },
   "outputs": [
    {
     "data": {
      "text/plain": [
       "True"
      ]
     },
     "execution_count": 4,
     "metadata": {},
     "output_type": "execute_result"
    }
   ],
   "source": [
    "def grader_sigmoid(z):\n",
    "  #if you have written the code correctly then the grader function will output true\n",
    "\n",
    "  val=sigmoid(z)\n",
    "  assert(val==0.8807970779778823)\n",
    "  return True\n",
    "\n",
    "grader_sigmoid(2)"
   ]
  },
  {
   "cell_type": "code",
   "execution_count": 5,
   "metadata": {
    "id": "KD3piNkifTKJ",
    "scrolled": false
   },
   "outputs": [],
   "source": [
    "def forward_propagation(x, y, w):\n",
    "    \n",
    "        '''In this function, we will compute the forward propagation '''\n",
    "        \n",
    "        # X: input data point, note that in this assignment you are having 5-d data points\n",
    "        # y: output varible\n",
    "        # W: weight array, its of length 9, W[0] corresponds to w1 in graph, W[1] corresponds\n",
    "        #                                     to w2 in graph,..., W[8] corresponds to w9 in graph.\n",
    "        \n",
    "#       exp\n",
    "        val_1 = (w[0] * x[0] + w[1] * x[1]) * (w[0] * x[0] + w[1] * x[1]) + w[5]\n",
    "        part_1 = np.exp(val_1)\n",
    "        \n",
    "#       tanh\n",
    "        val_2 = part_1 + w[6]\n",
    "        part_2 = np.tanh(val_2)\n",
    "        \n",
    "#       sigmoid\n",
    "        val_3 = w[2] * x[2]\n",
    "        val_4 = (w[3] * x[3]) + (w[4] * x[4])\n",
    "        part_3 = sigmoid((val_4 * np.sin(val_3)) + w[7])                \n",
    "        \n",
    "#       dy_pred\n",
    "        y_pred = part_2 + (part_3 * w[8])\n",
    "        dy_pred = -2 * (y - y_pred)\n",
    "        \n",
    "#       loss\n",
    "        loss = np.square(y - y_pred)\n",
    "        \n",
    "        forward_dict={}\n",
    "        forward_dict['exp']= part_1\n",
    "        forward_dict['tanh'] = part_2\n",
    "        forward_dict['sigmoid'] = part_3\n",
    "        forward_dict['loss'] = loss\n",
    "        forward_dict['dy_pred'] = dy_pred\n",
    "        forward_dict['w2_f3']= val_3\n",
    "        \n",
    "        return forward_dict"
   ]
  },
  {
   "cell_type": "code",
   "execution_count": 6,
   "metadata": {
    "id": "vP0iV7f4fTKK"
   },
   "outputs": [
    {
     "data": {
      "text/plain": [
       "True"
      ]
     },
     "execution_count": 6,
     "metadata": {},
     "output_type": "execute_result"
    }
   ],
   "source": [
    "def grader_forwardprop(data):\n",
    "    \n",
    "    dl = (data['dy_pred'] == -1.9285278284819143)\n",
    "    loss = (data['loss'] == 0.9298048963072919)\n",
    "    part1 = (data['exp'] == 1.1272967040973583)\n",
    "    part2 = (data['tanh'] == 0.8417934192562146)\n",
    "    part3 = (data['sigmoid'] == 0.5279179387419721)\n",
    "    assert(dl and loss and part1 and part2 and part3)\n",
    "    return True\n",
    "\n",
    "w = np.ones(9) * 0.1\n",
    "\n",
    "d1 = forward_propagation(X[0], y[0], w)\n",
    "\n",
    "grader_forwardprop(d1)"
   ]
  },
  {
   "cell_type": "markdown",
   "metadata": {
    "id": "2zcQmvkvfTKL"
   },
   "source": [
    "# <font color='red'>Task 1.2 </font>"
   ]
  },
  {
   "cell_type": "markdown",
   "metadata": {
    "id": "4YVYD18xfTKL"
   },
   "source": [
    "## <font color='blue'>Backward propagation</font>"
   ]
  },
  {
   "cell_type": "code",
   "execution_count": 7,
   "metadata": {
    "id": "Ld1PMQtffTKL",
    "scrolled": false
   },
   "outputs": [],
   "source": [
    "def backward_propagation(x, y, w, forward_dict):\n",
    "     \n",
    "    '''In this function, we will compute the backward propagation '''\n",
    "\n",
    "    dw1 = forward_dict['dy_pred'] * (1 - np.square(forward_dict['tanh'])) * forward_dict['exp'] \\\n",
    "                                                        * 2 * ((w[0] * x[0] + w[1] * x[1]) * x[0])\n",
    "    \n",
    "    \n",
    "    dw2 = forward_dict['dy_pred'] * (1 - np.square(forward_dict['tanh'])) * forward_dict['exp'] \\\n",
    "                                                        * 2 * ((w[1] * x[1] + w[0] * x[0]) * x[1])\n",
    "    \n",
    "    dw3 = forward_dict['dy_pred'] * w[8] * forward_dict['sigmoid'] * (1 - forward_dict['sigmoid']) \\\n",
    "                            * ((x[3] * w[3] + x[4] * w[4]) * x[2]) * np.cos(forward_dict['w2_f3'])\n",
    "    \n",
    "    dw4 = forward_dict['dy_pred'] * w[8] * forward_dict['sigmoid'] * (1 - forward_dict['sigmoid']) \\\n",
    "                                                            * x[3] * np.sin(forward_dict['w2_f3'])    \n",
    "    \n",
    "    dw5 = forward_dict['dy_pred'] * w[8] * forward_dict['sigmoid'] * (1 - forward_dict['sigmoid']) \\\n",
    "                                                            * x[4] * np.sin(forward_dict['w2_f3'])\n",
    "    \n",
    "    dw6 = forward_dict['dy_pred'] * (1 - np.square(forward_dict['tanh'])) * forward_dict['exp']\n",
    "    \n",
    "    dw7 = forward_dict['dy_pred'] * (1 - np.square(forward_dict['tanh']))\n",
    "    \n",
    "    dw8 = forward_dict['dy_pred'] * w[8] * forward_dict['sigmoid'] * (1- forward_dict['sigmoid'])\n",
    "    \n",
    "    dw9 = forward_dict['sigmoid'] * forward_dict['dy_pred']\n",
    "    \n",
    "    backward_dict = {}\n",
    "    \n",
    "    backward_dict['dw1'] = dw1\n",
    "    backward_dict['dw2'] = dw2\n",
    "    backward_dict['dw3'] = dw3\n",
    "    backward_dict['dw4'] = dw4\n",
    "    backward_dict['dw5'] = dw5\n",
    "    backward_dict['dw6'] = dw6\n",
    "    backward_dict['dw7'] = dw7\n",
    "    backward_dict['dw8'] = dw8\n",
    "    backward_dict['dw9'] = dw9    \n",
    "    \n",
    "    return backward_dict"
   ]
  },
  {
   "cell_type": "code",
   "execution_count": 8,
   "metadata": {
    "id": "0ipQbNXOfTKM"
   },
   "outputs": [
    {
     "data": {
      "text/plain": [
       "True"
      ]
     },
     "execution_count": 8,
     "metadata": {},
     "output_type": "execute_result"
    }
   ],
   "source": [
    "def grader_backprop(data):\n",
    "    \n",
    "    dw1=(np.round(data['dw1'],6)==-0.229733)\n",
    "    dw2=(np.round(data['dw2'],6)==-0.021408)\n",
    "    dw3=(np.round(data['dw3'],6)==-0.005625)\n",
    "    dw4=(np.round(data['dw4'],6)==-0.004658)\n",
    "    dw5=(np.round(data['dw5'],6)==-0.001008)\n",
    "    dw6=(np.round(data['dw6'],6)==-0.633475)\n",
    "    dw7=(np.round(data['dw7'],6)==-0.561942)\n",
    "    dw8=(np.round(data['dw8'],6)==-0.048063)\n",
    "    dw9=(np.round(data['dw9'],6)==-1.018104)\n",
    "    \n",
    "    assert(dw1 and dw2 and dw3 and dw4 and dw5 and dw6 and dw7 and dw8 and dw9)\n",
    "    return True\n",
    "\n",
    "w = np.ones(9)*0.1\n",
    "\n",
    "forward_dict = forward_propagation(X[0],y[0],w)\n",
    "\n",
    "backward_dict = backward_propagation(X[0],y[0],w,forward_dict)\n",
    "\n",
    "grader_backprop(backward_dict)"
   ]
  },
  {
   "cell_type": "markdown",
   "metadata": {
    "id": "RlR1JVN5fTKM"
   },
   "source": [
    "# <font color='red'>Task 1.3 </font>"
   ]
  },
  {
   "cell_type": "markdown",
   "metadata": {
    "id": "STS4NrQQc6OH"
   },
   "source": [
    " ## <font color='blue'>Gradient clipping</font>"
   ]
  },
  {
   "cell_type": "markdown",
   "metadata": {
    "id": "XY7ivRNzdPok"
   },
   "source": [
    "<b> Check this  <a href='https://towardsdatascience.com/how-to-debug-a-neural-network-with-gradient-checking-41deec0357a9'>blog link</a> for more details on Gradient clipping"
   ]
  },
  {
   "cell_type": "markdown",
   "metadata": {
    "id": "BrsfpDoidtZ5"
   },
   "source": [
    " we know that the derivative of any function is\n",
    " \n",
    " $$\\lim_{\\epsilon\\to0}\\frac{f(x+\\epsilon)-f(x-\\epsilon)}{2\\epsilon}$$\n"
   ]
  },
  {
   "cell_type": "markdown",
   "metadata": {
    "id": "vUcmt0kPd02f"
   },
   "source": [
    "*  The definition above can be used as a numerical approximation of the derivative. Taking an epsilon small enough, the calculated approximation will have an error in the range of epsilon squared. \n",
    "\n",
    "*  In other words, if epsilon is 0.001, the approximation will be off by 0.00001.\n",
    "\n",
    "Therefore, we can use this to approximate the gradient, and in turn make sure that backpropagation is implemented properly. This forms the basis of <b>gradient checking!</b>"
   ]
  },
  {
   "cell_type": "markdown",
   "metadata": {
    "id": "pFSu16KCeU0x"
   },
   "source": [
    "## <Font color='blue'>Gradient checking example</font>"
   ]
  },
  {
   "cell_type": "markdown",
   "metadata": {
    "id": "Gz0mmT_xecfC"
   },
   "source": [
    "<font >\n",
    "lets understand the concept with a simple example:\n",
    "$f(w1,w2,x1,x2)=w_{1}^{2} . x_{1} + w_{2} . x_{2}$ \n",
    "\n",
    "from the above function , lets assume $w_{1}=1$, $w_{2}=2$, $x_{1}=3$, $x_{2}=4$ the gradient of $f$ w.r.t $w_{1}$ is\n",
    "\n",
    "\\begin{array} {lcl}\n",
    "\\frac{df}{dw_{1}} = dw_{1} &=&2.w_{1}.x_{1} \\\\& = &2.1.3\\\\& = &6\n",
    "\\end{array}\n",
    "\n",
    "\n",
    "let calculate the aproximate gradient of $w_{1}$ as mentinoned in the above formula and considering $\\epsilon=0.0001$\n",
    "\n",
    "\\begin{array} {lcl}\n",
    "dw_1^{approx} & = & \\frac{f(w1+\\epsilon,w2,x1,x2)-f(w1-\\epsilon,w2,x1,x2)}{2\\epsilon} \\\\ & = & \\frac{((1+0.0001)^{2} . 3 + 2 . 4) - ((1-0.0001)^{2} . 3 + 2 . 4)}{2\\epsilon} \\\\ & = & \\frac{(1.00020001 . 3 + 2 . 4) - (0.99980001. 3 + 2 . 4)}{2*0.0001} \\\\ & = & \\frac{(11.00060003) - (10.99940003)}{0.0002}\\\\ & = & 5.99999999999\n",
    "\\end{array}\n",
    "\n",
    "Then, we apply the following formula for gradient check: <i>gradient_check</i> = \n",
    "$\\frac{\\left\\Vert\\left (dW-dW^{approx}\\rm\\right) \\right\\Vert_2}{\\left\\Vert\\left (dW\\rm\\right) \\right\\Vert_2+\\left\\Vert\\left (dW^{approx}\\rm\\right) \\right\\Vert_2}$\n",
    "\n",
    "The equation above is basically the Euclidean distance normalized by the sum of the norm of the vectors. We use normalization in case that one of the vectors is very small.\n",
    "As a value for epsilon, we usually opt for 1e-7. Therefore, if gradient check return a value less than 1e-7, then it means that backpropagation was implemented correctly. Otherwise, there is potentially a mistake in your implementation. If the value exceeds 1e-3, then you are sure that the code is not correct.\n",
    "\n",
    "in our example: <i>gradient_check</i> $ = \\frac{(6 - 5.999999999994898)}{(6 + 5.999999999994898)} = 4.2514140356330737e^{-13}$\n",
    "\n",
    "you can mathamatically derive the same thing like this\n",
    "\n",
    "\\begin{array} {lcl}\n",
    "dw_1^{approx} & = & \\frac{f(w1+\\epsilon,w2,x1,x2)-f(w1-\\epsilon,w2,x1,x2)}{2\\epsilon} \\\\ & = & \\frac{((w_{1}+\\epsilon)^{2} . x_{1} + w_{2} . x_{2}) - ((w_{1}-\\epsilon)^{2} . x_{1} + w_{2} . x_{2})}{2\\epsilon} \\\\ & = & \\frac{4. \\epsilon.w_{1}. x_{1}}{2\\epsilon} \\\\ & = &  2.w_{1}.x_{1}\n",
    "\\end{array}\n"
   ]
  },
  {
   "cell_type": "markdown",
   "metadata": {
    "id": "f1BFQQaCermK"
   },
   "source": [
    "## <font color='red'> Implement Gradient checking </font> <br>\n",
    " (Write your code in <font color='blue'> def gradient_checking()</font>)"
   ]
  },
  {
   "cell_type": "markdown",
   "metadata": {
    "id": "GqpfA3AqfJba"
   },
   "source": [
    "**Algorithm** \n",
    "\n"
   ]
  },
  {
   "cell_type": "markdown",
   "metadata": {
    "id": "FL39KeRFfNoD"
   },
   "source": [
    "<pre>\n",
    "<font color='darkblue'>\n",
    "W = initilize_randomly\n",
    "def gradient_checking(data_point, W):<font color='grey'>\n",
    "    # compute the L value using forward_propagation()\n",
    "    # compute the gradients of W using backword_propagation()</font>\n",
    "    approx_gradients = []\n",
    "    for each wi weight value in W:<font color='grey'>\n",
    "        # add a small value to weight wi, and then find the values of L with the updated weights\n",
    "        # subtract a small value to weight wi, and then find the values of L with the updated weights\n",
    "        # compute the approximation gradients of weight wi</font>\n",
    "        approx_gradients.append(approximation gradients of weight wi)<font color='grey'>\n",
    "    # compare the gradient of weights W from backword_propagation() with the aproximation gradients of weights with <br>  gradient_check formula</font>\n",
    "    return gradient_check</font>\n",
    "<b>NOTE: you can do sanity check by checking all the return values of gradient_checking(),<br> they have to be zero. if not you have bug in your code\n",
    "</pre></b>"
   ]
  },
  {
   "cell_type": "code",
   "execution_count": 9,
   "metadata": {
    "id": "XBoJRqAwfTKO"
   },
   "outputs": [],
   "source": [
    "def gradient_checking(x, y, w, eps):\n",
    "\n",
    "    # compute the dict value using forward_propagation()\n",
    "    # compute the actual gradients of W using backword_propagation()\n",
    "    forward_dict = forward_propagation(x, y, w)\n",
    "    backward_dict = backward_propagation(x, y, w, forward_dict)\n",
    "    \n",
    "    #we are storing the original gradients for the given datapoints in a list\n",
    "    \n",
    "    original_gradients_list = list(backward_dict.values())\n",
    "        \n",
    "    approx_gradients_list=[]\n",
    "    \n",
    "    '''\n",
    "    now we have to write code for approx gradients, here you have to make sure that you\n",
    "                                    update only one weight at a time\n",
    "    write your code here and append the approximate gradient value for each weight in  approx_gradients_list\n",
    "    '''\n",
    "    \n",
    "    for i in range(len(w)):\n",
    "        \n",
    "        w_original = w[i]\n",
    "        w[i] = w_original + eps\n",
    "        for_pos_updated = forward_propagation(x, y, w)\n",
    "        updated_loss_pos = for_pos_updated['loss']\n",
    "        \n",
    "        w[i] = w_original - eps\n",
    "        for_neg_updated = forward_propagation(x, y, w)\n",
    "        updated_loss_neg = for_neg_updated['loss']\n",
    "        \n",
    "        dw_approx = (updated_loss_pos - updated_loss_neg) / ( 2 * eps)\n",
    "        approx_gradients_list.append(dw_approx)\n",
    "        \n",
    "    #performing gradient check operation\n",
    "    original_gradients_list = np.array(original_gradients_list)\n",
    "    approx_gradients_list = np.array(approx_gradients_list)\n",
    "    gradient_check_value = (original_gradients_list - approx_gradients_list) / \\\n",
    "                                                (original_gradients_list + approx_gradients_list)\n",
    "    \n",
    "    return gradient_check_value"
   ]
  },
  {
   "cell_type": "code",
   "execution_count": 10,
   "metadata": {
    "id": "aWSU56GffTKO"
   },
   "outputs": [
    {
     "name": "stdout",
     "output_type": "stream",
     "text": [
      "[-1.73921918e-08  1.28741906e-05 -2.55164399e-04 -1.05871856e-05\n",
      " -1.95446016e-04 -1.16536595e-10 -9.63625495e-08 -1.06774472e-07\n",
      " -1.43339489e-08]\n"
     ]
    },
    {
     "data": {
      "text/plain": [
       "True"
      ]
     },
     "execution_count": 10,
     "metadata": {},
     "output_type": "execute_result"
    }
   ],
   "source": [
    "def grader_grad_check(value):\n",
    "    \n",
    "    print(value)\n",
    "    assert(np.all(value <= 10**-3))\n",
    "    \n",
    "    return True \n",
    "\n",
    "w = [ 0.00271756,  0.01260512,  0.00167639, -0.00207756,  0.00720768,\n",
    "   0.00114524,  0.00684168,  0.02242521,  0.01296444]\n",
    "\n",
    "eps = 10**-7\n",
    "\n",
    "value = gradient_checking(X[0], y[0], w, eps)\n",
    "grader_grad_check(value)"
   ]
  },
  {
   "cell_type": "markdown",
   "metadata": {
    "id": "0ufbFBFfhgL0"
   },
   "source": [
    "# <font color='red'> Task 2 : Optimizers </font>"
   ]
  },
  {
   "cell_type": "markdown",
   "metadata": {
    "id": "7zt05soYh1RM"
   },
   "source": [
    "* As a part of this task, you will be implementing 2  optimizers(methods to update weight)\n",
    "* Use the same computational graph that was mentioned above to do this task\n",
    "* The weights have been initialized from normal distribution with mean=0 and std=0.01. The initialization of weights is very important otherwiswe you can face vanishing gradient and exploding gradients problem."
   ]
  },
  {
   "cell_type": "markdown",
   "metadata": {
    "id": "CAyi7aSAicbr"
   },
   "source": [
    "**Check below video for reference purpose**"
   ]
  },
  {
   "cell_type": "code",
   "execution_count": 11,
   "metadata": {
    "id": "ZogcxiegkQpz"
   },
   "outputs": [
    {
     "data": {
      "image/jpeg": "[encoded data removed]",
      "text/html": [
       "\n",
       "        <iframe\n",
       "            width=\"1000\"\n",
       "            height=\"500\"\n",
       "            src=\"https://www.youtube.com/embed/gYpoJMlgyXA\"\n",
       "            frameborder=\"0\"\n",
       "            allowfullscreen\n",
       "            \n",
       "        ></iframe>\n",
       "        "
      ],
      "text/plain": [
       "<IPython.lib.display.YouTubeVideo at 0x7f13d8374550>"
      ]
     },
     "execution_count": 11,
     "metadata": {},
     "output_type": "execute_result"
    }
   ],
   "source": [
    "from IPython.display import YouTubeVideo\n",
    "YouTubeVideo('gYpoJMlgyXA',width=\"1000\",height=\"500\")"
   ]
  },
  {
   "cell_type": "markdown",
   "metadata": {
    "id": "jmefh7ktjbaR"
   },
   "source": [
    "<font color='blue'><b>Algorithm</b>"
   ]
  },
  {
   "cell_type": "markdown",
   "metadata": {
    "id": "nAc4NudkjdNa"
   },
   "source": [
    "<pre>\n",
    "    for each epoch(1-20):\n",
    "        for each data point in your data:\n",
    "            using the functions forward_propagation() and backword_propagation() compute the gradients of weights\n",
    "            update the weigts with help of gradients  \n",
    "</pre>"
   ]
  },
  {
   "cell_type": "markdown",
   "metadata": {
    "id": "_fdmPNqtjm3X"
   },
   "source": [
    "## <font color='red'> Implement below tasks</b>"
   ]
  },
  {
   "cell_type": "markdown",
   "metadata": {
    "id": "Ll9-CRsLjx_D"
   },
   "source": [
    "\n",
    "*  <b>Task 2.1</b>: you will be implementing the above algorithm with <b>Vanilla update</b> of weights<br><br>\n",
    "*  <b>Task 2.2</b>: you will be implementing the above algorithm with <b>Momentum update</b> of weights<br><br>\n",
    "*  <b>Task 2.3</b>: you will be implementing the above algorithm with <b>Adam update</b> of weights<br><br>\n"
   ]
  },
  {
   "cell_type": "markdown",
   "metadata": {
    "id": "atp082demrUR"
   },
   "source": [
    "**Note : If you get any assertion error while running grader functions, please print the variables in grader functions and check which variable is returning False .Recheck your logic for that variable .**"
   ]
  },
  {
   "cell_type": "markdown",
   "metadata": {
    "id": "cv_hZFWalS2z"
   },
   "source": [
    "### <font color='blue'>2.1 Algorithm with Vanilla update of weights</font>\n",
    "\n",
    "- https://stats.stackexchange.com/a/295181<br>\n",
    "\" Vanilla means standard, usual, or unmodified version of something. Vanilla gradient descent means the basic gradient descent algorithm without any bells or whistles.\"\n",
    "\n",
    "\n",
    "- https://ruder.io/optimizing-gradient-descent/<br>\n",
    "Vanilla gradient descent, aka batch gradient descent, computes the gradient of the cost function w.r.t. to the parameters θ for the entire training dataset: <br><br>\n",
    "$\\theta = \\theta - \\eta * \\triangledown_{\\theta} J(\\theta)$\n",
    "\n",
    "\n",
    "- https://www.analyticsvidhya.com/blog/2017/03/introduction-to-gradient-descent-algorithm-along-its-variants/<br><br>Pseudocode :\n",
    "```py\n",
    "update = learning_rate * gradient_of_parameters\n",
    "parameters = parameters - update\n",
    "```"
   ]
  },
  {
   "cell_type": "code",
   "execution_count": 12,
   "metadata": {},
   "outputs": [
    {
     "data": {
      "image/png": "[encoded data removed]",
      "text/plain": [
       "<Figure size 1008x432 with 1 Axes>"
      ]
     },
     "metadata": {
      "needs_background": "light"
     },
     "output_type": "display_data"
    }
   ],
   "source": [
    "weight = np.random.normal(scale = 0.01, size =9)\n",
    "\n",
    "learning_rate = 0.1 \n",
    "\n",
    "mean_v_loss = []\n",
    "\n",
    "epochs = range(1, 21)\n",
    "\n",
    "for epoch in epochs:\n",
    "    \n",
    "    v_loss = []    \n",
    "    for i in range(len(X)):\n",
    "\n",
    "        forward_dict_ = forward_propagation(X[i], y[i], weight)\n",
    "        backward_dict_ = backward_propagation(X[i], y[i], weight, forward_dict_)\n",
    "        \n",
    "        for j in range(9):\n",
    "            \n",
    "            dws = f'dw{j+1}'\n",
    "            \n",
    "            weight[j] = weight[j] - learning_rate * backward_dict_[dws]\n",
    "\n",
    "        v_loss.append(forward_dict_['loss'])\n",
    "    mean_v_loss.append(mean(v_loss))\n",
    "\n",
    "    \n",
    "# Visualizing the Epoch-Loss curve\n",
    "\n",
    "plt.figure(figsize = (14, 6))\n",
    "plt.plot(epochs, mean_v_loss, marker = 'x')\n",
    "plt.xlabel('Epoch')\n",
    "plt.ylabel('Loss')\n",
    "plt.xticks(range(1,21))\n",
    "plt.title('Epoch Vs Loss : Vanilla Gradient Descent')\n",
    "plt.show()"
   ]
  },
  {
   "cell_type": "markdown",
   "metadata": {
    "id": "V4RWWrZ7lWap"
   },
   "source": [
    "### <font color='blue'>2.2 Algorithm with Momentum update of weights</font>"
   ]
  },
  {
   "cell_type": "markdown",
   "metadata": {
    "id": "oM2BAasL6zz4"
   },
   "source": [
    "<img src='https://i.imgur.com/gyPSXhS.png'>"
   ]
  },
  {
   "cell_type": "markdown",
   "metadata": {
    "id": "2iCc4sIE-4A-"
   },
   "source": [
    "Here Gamma referes to the momentum coefficient, eta is leaning rate and v_t is moving average of our gradients at timestep t"
   ]
  },
  {
   "cell_type": "code",
   "execution_count": 13,
   "metadata": {},
   "outputs": [
    {
     "data": {
      "image/png": "[encoded data removed]",
      "text/plain": [
       "<Figure size 1008x432 with 1 Axes>"
      ]
     },
     "metadata": {
      "needs_background": "light"
     },
     "output_type": "display_data"
    }
   ],
   "source": [
    "'''\n",
    "Momentum update\n",
    "v = mu * v - learning_rate * dx # integrate velocity\n",
    "x += v # integrate position\n",
    "\n",
    "learning_rate & mu from here : https://cs231n.github.io/neural-networks-3/\n",
    "'''\n",
    "\n",
    "weight = np.random.normal(scale = 0.01, size = 9)\n",
    "\n",
    "learning_rate = 0.1\n",
    "\n",
    "mu = 0.9\n",
    "\n",
    "mean_momentum_loss = []\n",
    "\n",
    "v_s = np.zeros(9)\n",
    "\n",
    "epochs = range(1, 21)\n",
    "\n",
    "for epoch in epochs:\n",
    "\n",
    "    momentum_loss = []    \n",
    "    for i in range(len(X)):\n",
    "\n",
    "        forward_dict_ = forward_propagation(X[i], y[i], weight)\n",
    "        backward_dict_ = backward_propagation(X[i], y[i], weight, forward_dict_)\n",
    "                \n",
    "        for j in range(9):\n",
    "            \n",
    "            dws = f'dw{j+1}'\n",
    "            \n",
    "            v_s[j] = (mu * v_s[j]) + (learning_rate * backward_dict_[dws])\n",
    "            weight[j] = weight[j] - v_s[j]\n",
    "\n",
    "        momentum_loss.append(forward_dict_['loss'])\n",
    "    mean_momentum_loss.append(mean(momentum_loss))\n",
    "\n",
    "# Visualizing the Epoch-Loss curve\n",
    "\n",
    "plt.figure(figsize = (14, 6))\n",
    "plt.plot(epochs, mean_momentum_loss, marker = 'x')\n",
    "plt.xlabel('Epoch')\n",
    "plt.ylabel('Loss')\n",
    "plt.xticks(range(1,21))\n",
    "plt.title('Epoch Vs Loss : Gradient Descent with Momentum')\n",
    "plt.show()"
   ]
  },
  {
   "cell_type": "markdown",
   "metadata": {
    "id": "Agtmr_lZQoW6"
   },
   "source": [
    "### <font color='blue'>2.3 Algorithm with Adam update of weights</font>"
   ]
  },
  {
   "cell_type": "markdown",
   "metadata": {
    "id": "WRYiT2KKQoW6"
   },
   "source": [
    "<img src='https://i.imgur.com/GDR8UFP.jpg'>\n",
    "\n",
    "```py\n",
    "m = beta1*m + (1-beta1)*dx\n",
    "mt = m / (1-beta1**t)\n",
    "v = beta2*v + (1-beta2)*(dx**2)\n",
    "vt = v / (1-beta2**t)\n",
    "x += - learning_rate * mt / (np.sqrt(vt) + eps)\n",
    "```"
   ]
  },
  {
   "cell_type": "code",
   "execution_count": 14,
   "metadata": {},
   "outputs": [
    {
     "data": {
      "image/png": "[encoded data removed]",
      "text/plain": [
       "<Figure size 1008x432 with 1 Axes>"
      ]
     },
     "metadata": {
      "needs_background": "light"
     },
     "output_type": "display_data"
    }
   ],
   "source": [
    "eps = 1e-8\n",
    "beta_1 = 0.9\n",
    "beta_2 = 0.999\n",
    "learning_rate = 0.1\n",
    "weight = np.random.normal(scale = 0.1, size =9)\n",
    "\n",
    "v_s = np.zeros(9)\n",
    "m_s = np.zeros(9)\n",
    "v_hat = np.zeros(9)\n",
    "m_hat = np.zeros(9)\n",
    "\n",
    "mean_adam_loss = []\n",
    "\n",
    "epochs = range(1, 21)\n",
    "for epoch in epochs:\n",
    "    \n",
    "    adam_loss = []    \n",
    "    for i in range(len(X)):\n",
    "        \n",
    "        forward_dict_ = forward_propagation(X[i], y[i], weight)\n",
    "        backward_dict_ = backward_propagation(X[i], y[i], weight, forward_dict_)\n",
    "        \n",
    "        for j in range(9):\n",
    "            \n",
    "            dws = f'dw{j+1}'\n",
    "            \n",
    "            m_s[j] = (beta_1 * m_s[j]) + ((1 - beta_1) * backward_dict_[dws])\n",
    "        \n",
    "            m_hat[j] = m_s[j] / (1 - (beta_1 ** epoch))\n",
    "            \n",
    "            v_s[j] = (beta_2 * v_s[j]) + ((1 - beta_2) * (backward_dict_[dws] ** 2))\n",
    "            \n",
    "            v_hat[j] = v_s[j] / (1 - (beta_2 ** epoch))\n",
    "\n",
    "            weight[j] = weight[j] - ((learning_rate * m_hat[j]) / np.sqrt(v_hat[j] + eps))\n",
    "\n",
    "        adam_loss.append(forward_dict_['loss'])\n",
    "    mean_adam_loss.append(mean(adam_loss))     \n",
    "\n",
    "# Visualizing the Epoch-Loss curve\n",
    "\n",
    "plt.figure(figsize = (14, 6))\n",
    "plt.plot(epochs, mean_adam_loss, marker = 'x')\n",
    "plt.xlabel('Epoch')\n",
    "plt.ylabel('Loss')\n",
    "plt.xticks(range(1, 21))\n",
    "plt.title('Epoch Vs Loss : Adam')\n",
    "plt.show()"
   ]
  },
  {
   "cell_type": "markdown",
   "metadata": {
    "id": "7627cy8YlnYO"
   },
   "source": [
    "## <font color='blue'>Comparision plot between epochs and loss with different optimizers. Make sure that loss is conerging with increaing epochs</font>"
   ]
  },
  {
   "cell_type": "markdown",
   "metadata": {
    "id": "YfDWEOCr69uQ"
   },
   "source": [
    "<font color='blue'><b>You can go through the following blog to understand the implementation of other optimizers .</font>\n",
    "   <br> [Gradients update blog](https://cs231n.github.io/neural-networks-3/) </br>"
   ]
  },
  {
   "cell_type": "code",
   "execution_count": 15,
   "metadata": {},
   "outputs": [
    {
     "data": {
      "image/png": "[encoded data removed]",
      "text/plain": [
       "<Figure size 1008x576 with 1 Axes>"
      ]
     },
     "metadata": {
      "needs_background": "light"
     },
     "output_type": "display_data"
    }
   ],
   "source": [
    "plt.figure(figsize = (14, 8))\n",
    "\n",
    "plt.plot(epochs, mean_v_loss, c = 'g', linestyle = '--', label = 'Vanilla Gradient Descent')\n",
    "plt.plot(epochs, mean_momentum_loss, c = 'b', linestyle = '-.', label = 'Gradient Descent with Momentum')\n",
    "plt.plot(epochs, mean_adam_loss, c = 'r', linestyle = '-', marker = '.', label = 'Adam')\n",
    "plt.xlabel('Epoch')\n",
    "plt.ylabel('Loss')\n",
    "plt.xticks(range(1, 21))\n",
    "plt.title('Epoch Vs Loss : Comparision')\n",
    "plt.legend()\n",
    "plt.show()"
   ]
  },
  {
   "cell_type": "markdown",
   "metadata": {},
   "source": [
    "**<font color = 'green'> Observation</font>**\n",
    "\n",
    "- From the above curves it is clear the **Adam** optimizer converges fast.\n",
    "- The initial loss for **Vanilla gradient descent** is higher than **Adam** optimizer.\n",
    "- Eventough the **Gradent descent with momentum** started with comparitively huge loss, it converged fast.\n",
    "- The loss from **Adam** became lower than any other method in starting epochs, ie from `2 to 10`."
   ]
  }
 ],
 "metadata": {
  "colab": {
   "collapsed_sections": [],
   "name": "Backpropagation_Assignment.ipynb",
   "provenance": []
  },
  "kernelspec": {
   "display_name": "Python 3 (ipykernel)",
   "language": "python",
   "name": "python3"
  },
  "language_info": {
   "codemirror_mode": {
    "name": "ipython",
    "version": 3
   },
   "file_extension": ".py",
   "mimetype": "text/x-python",
   "name": "python",
   "nbconvert_exporter": "python",
   "pygments_lexer": "ipython3",
   "version": "3.9.7"
  }
 },
 "nbformat": 4,
 "nbformat_minor": 1
}
