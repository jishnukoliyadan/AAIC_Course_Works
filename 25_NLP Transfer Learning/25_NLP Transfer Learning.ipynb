{
 "cells": [
  {
   "cell_type": "markdown",
   "metadata": {
    "id": "5el_8SqFqVAT"
   },
   "source": [
    "\n",
    "In this notebook, You will do amazon review classification with BERT.[Download data from [this](https://www.kaggle.com/snap/amazon-fine-food-reviews/data) link]\n",
    "<pre> \n",
    "It contains 5 parts as below.  Detailed instrctions are given in the each cell. please read every comment we have written. \n",
    "    1. Preprocessing \n",
    "    2. Creating a BERT model from the Tensorflow HUB.\n",
    "    3. Tokenization\n",
    "    4. getting the pretrained embedding Vector for a given review from the BERT.\n",
    "    5. Using the embedding data apply NN and classify the reviews.\n",
    "    6. Creating a Data pipeline for BERT Model. \n",
    "\n",
    "<font size=5>instructions:</font>\n",
    "\n",
    "    1. Don't change any Grader Functions. Don't manipulate any Grader functions. \n",
    "    If you manipulate any, it will be considered as plagiarised. \n",
    "    \n",
    "    2. Please read the instructions on the code cells and markdown cells. We will explain what to write. \n",
    "    \n",
    "    3. please return outputs in the same format what we asked. Eg. Don't return List if we are asking for a numpy array.\n",
    "    \n",
    "    4. Please read the external links that we are given so that you will learn the concept behind the code that you are writing.\n",
    "    \n",
    "    5. We are giving instructions at each section if necessary, please follow them. \n",
    "\n",
    "<font size=5>Every Grader function has to return True. </font>\n",
    "</pre>"
   ]
  },
  {
   "cell_type": "markdown",
   "metadata": {
    "colab": {
     "base_uri": "https://localhost:8080/"
    },
    "id": "NUGbEZafwwzX",
    "outputId": "84e65666-ecdd-4616-9d83-bb502ac7ade6"
   },
   "source": [
    "In this assignment you need two files reviews.csv and tokenization file.\n",
    "\n",
    "You can use gdown module to import both the files in colab from Google drive the syntax is for gdown is `!gdown --id file_id`.\n",
    "\n",
    "Please run the below cell to import the required files\n",
    "\n",
    "```bash\n",
    "!gdown --id 1GsD8JlAc_0yJ-1151LNr6rLw83RRUPgt\n",
    "!gdown --id 13exfXiyiByluh1PfYK1EyZyizqxeCVG9\n",
    "```"
   ]
  },
  {
   "cell_type": "code",
   "execution_count": 1,
   "metadata": {
    "id": "wOtG4cf0qVAZ"
   },
   "outputs": [],
   "source": [
    "# all imports\n",
    "\n",
    "import numpy as np\n",
    "import pandas as pd\n",
    "import tensorflow as tf\n",
    "import tensorflow_hub as hub\n",
    "from tensorflow.keras.models import Model\n",
    "import os\n",
    "import re\n",
    "import shutil\n",
    "import pickle\n",
    "from tqdm import tqdm\n",
    "\n",
    "import seaborn as sns\n",
    "import matplotlib.pyplot as plt\n",
    "\n",
    "from sklearn.model_selection import train_test_split\n",
    "\n",
    "import warnings\n",
    "warnings.filterwarnings(\"ignore\")\n",
    "\n",
    "plt.style.use('fivethirtyeight')"
   ]
  },
  {
   "cell_type": "code",
   "execution_count": 2,
   "metadata": {
    "id": "OcmiHdAJqVAi"
   },
   "outputs": [
    {
     "name": "stdout",
     "output_type": "stream",
     "text": [
      "Sat Aug 27 10:26:00 2022       \n",
      "+-----------------------------------------------------------------------------+\n",
      "| NVIDIA-SMI 470.82.01    Driver Version: 470.82.01    CUDA Version: 11.7     |\n",
      "|-------------------------------+----------------------+----------------------+\n",
      "| GPU  Name        Persistence-M| Bus-Id        Disp.A | Volatile Uncorr. ECC |\n",
      "| Fan  Temp  Perf  Pwr:Usage/Cap|         Memory-Usage | GPU-Util  Compute M. |\n",
      "|                               |                      |               MIG M. |\n",
      "|===============================+======================+======================|\n",
      "|   0  NVIDIA A10G         On   | 00000000:00:1E.0 Off |                    0 |\n",
      "|  0%   32C    P0    58W / 300W |    387MiB / 22731MiB |      0%      Default |\n",
      "|                               |                      |                  N/A |\n",
      "+-------------------------------+----------------------+----------------------+\n",
      "                                                                               \n",
      "+-----------------------------------------------------------------------------+\n",
      "| Processes:                                                                  |\n",
      "|  GPU   GI   CI        PID   Type   Process name                  GPU Memory |\n",
      "|        ID   ID                                                   Usage      |\n",
      "|=============================================================================|\n",
      "+-----------------------------------------------------------------------------+\n"
     ]
    }
   ],
   "source": [
    "tf.test.gpu_device_name()\n",
    "!nvidia-smi"
   ]
  },
  {
   "cell_type": "markdown",
   "metadata": {
    "id": "LBsay58AqVAo"
   },
   "source": [
    "<font size=4>Grader function 1 </font>"
   ]
  },
  {
   "cell_type": "code",
   "execution_count": 3,
   "metadata": {
    "id": "aTBvOKFeqVAq"
   },
   "outputs": [
    {
     "data": {
      "text/plain": [
       "True"
      ]
     },
     "execution_count": 3,
     "metadata": {},
     "output_type": "execute_result"
    }
   ],
   "source": [
    "def grader_tf_version():\n",
    "    assert((tf.__version__)>'2')\n",
    "    return True\n",
    "grader_tf_version()"
   ]
  },
  {
   "cell_type": "markdown",
   "metadata": {
    "id": "ZTWRqbrBqVAu"
   },
   "source": [
    "<pre><font size=6>Part-1: Preprocessing</font></pre>"
   ]
  },
  {
   "cell_type": "code",
   "execution_count": 4,
   "metadata": {
    "id": "B3csZKDrqVAv"
   },
   "outputs": [
    {
     "name": "stdout",
     "output_type": "stream",
     "text": [
      "Shape of Reviews dataset : (568454, 10)\n",
      "\n",
      "<class 'pandas.core.frame.DataFrame'>\n",
      "RangeIndex: 568454 entries, 0 to 568453\n",
      "Data columns (total 10 columns):\n",
      " #   Column                  Non-Null Count   Dtype \n",
      "---  ------                  --------------   ----- \n",
      " 0   Id                      568454 non-null  int64 \n",
      " 1   ProductId               568454 non-null  object\n",
      " 2   UserId                  568454 non-null  object\n",
      " 3   ProfileName             568438 non-null  object\n",
      " 4   HelpfulnessNumerator    568454 non-null  int64 \n",
      " 5   HelpfulnessDenominator  568454 non-null  int64 \n",
      " 6   Score                   568454 non-null  int64 \n",
      " 7   Time                    568454 non-null  int64 \n",
      " 8   Summary                 568427 non-null  object\n",
      " 9   Text                    568454 non-null  object\n",
      "dtypes: int64(5), object(5)\n",
      "memory usage: 43.4+ MB\n"
     ]
    }
   ],
   "source": [
    "# Read the dataset - Amazon fine food reviews\n",
    "reviews = pd.read_csv(r'Reviews.csv')\n",
    "\n",
    "print(f'Shape of Reviews dataset : {reviews.shape}\\n')\n",
    "\n",
    "# check the info of the dataset\n",
    "reviews.info()"
   ]
  },
  {
   "cell_type": "code",
   "execution_count": 5,
   "metadata": {},
   "outputs": [
    {
     "data": {
      "text/html": [
       "<div>\n",
       "<style scoped>\n",
       "    .dataframe tbody tr th:only-of-type {\n",
       "        vertical-align: middle;\n",
       "    }\n",
       "\n",
       "    .dataframe tbody tr th {\n",
       "        vertical-align: top;\n",
       "    }\n",
       "\n",
       "    .dataframe thead th {\n",
       "        text-align: right;\n",
       "    }\n",
       "</style>\n",
       "<table border=\"1\" class=\"dataframe\">\n",
       "  <thead>\n",
       "    <tr style=\"text-align: right;\">\n",
       "      <th></th>\n",
       "      <th>Id</th>\n",
       "      <th>ProductId</th>\n",
       "      <th>UserId</th>\n",
       "      <th>ProfileName</th>\n",
       "      <th>HelpfulnessNumerator</th>\n",
       "      <th>HelpfulnessDenominator</th>\n",
       "      <th>Score</th>\n",
       "      <th>Time</th>\n",
       "      <th>Summary</th>\n",
       "      <th>Text</th>\n",
       "    </tr>\n",
       "  </thead>\n",
       "  <tbody>\n",
       "    <tr>\n",
       "      <th>0</th>\n",
       "      <td>1</td>\n",
       "      <td>B001E4KFG0</td>\n",
       "      <td>A3SGXH7AUHU8GW</td>\n",
       "      <td>delmartian</td>\n",
       "      <td>1</td>\n",
       "      <td>1</td>\n",
       "      <td>5</td>\n",
       "      <td>1303862400</td>\n",
       "      <td>Good Quality Dog Food</td>\n",
       "      <td>I have bought several of the Vitality canned d...</td>\n",
       "    </tr>\n",
       "    <tr>\n",
       "      <th>1</th>\n",
       "      <td>2</td>\n",
       "      <td>B00813GRG4</td>\n",
       "      <td>A1D87F6ZCVE5NK</td>\n",
       "      <td>dll pa</td>\n",
       "      <td>0</td>\n",
       "      <td>0</td>\n",
       "      <td>1</td>\n",
       "      <td>1346976000</td>\n",
       "      <td>Not as Advertised</td>\n",
       "      <td>Product arrived labeled as Jumbo Salted Peanut...</td>\n",
       "    </tr>\n",
       "    <tr>\n",
       "      <th>2</th>\n",
       "      <td>3</td>\n",
       "      <td>B000LQOCH0</td>\n",
       "      <td>ABXLMWJIXXAIN</td>\n",
       "      <td>Natalia Corres \"Natalia Corres\"</td>\n",
       "      <td>1</td>\n",
       "      <td>1</td>\n",
       "      <td>4</td>\n",
       "      <td>1219017600</td>\n",
       "      <td>\"Delight\" says it all</td>\n",
       "      <td>This is a confection that has been around a fe...</td>\n",
       "    </tr>\n",
       "  </tbody>\n",
       "</table>\n",
       "</div>"
      ],
      "text/plain": [
       "   Id   ProductId          UserId                      ProfileName  \\\n",
       "0   1  B001E4KFG0  A3SGXH7AUHU8GW                       delmartian   \n",
       "1   2  B00813GRG4  A1D87F6ZCVE5NK                           dll pa   \n",
       "2   3  B000LQOCH0   ABXLMWJIXXAIN  Natalia Corres \"Natalia Corres\"   \n",
       "\n",
       "   HelpfulnessNumerator  HelpfulnessDenominator  Score        Time  \\\n",
       "0                     1                       1      5  1303862400   \n",
       "1                     0                       0      1  1346976000   \n",
       "2                     1                       1      4  1219017600   \n",
       "\n",
       "                 Summary                                               Text  \n",
       "0  Good Quality Dog Food  I have bought several of the Vitality canned d...  \n",
       "1      Not as Advertised  Product arrived labeled as Jumbo Salted Peanut...  \n",
       "2  \"Delight\" says it all  This is a confection that has been around a fe...  "
      ]
     },
     "execution_count": 5,
     "metadata": {},
     "output_type": "execute_result"
    }
   ],
   "source": [
    "reviews.head(3)"
   ]
  },
  {
   "cell_type": "code",
   "execution_count": 6,
   "metadata": {
    "id": "xokNn7qZqVAz"
   },
   "outputs": [
    {
     "name": "stdout",
     "output_type": "stream",
     "text": [
      "Missing value count on each columns\n",
      "-----------------------------------\n"
     ]
    },
    {
     "data": {
      "text/plain": [
       "Text     0\n",
       "Score    0\n",
       "dtype: int64"
      ]
     },
     "execution_count": 6,
     "metadata": {},
     "output_type": "execute_result"
    }
   ],
   "source": [
    "# get only 2 columns - Text, Score\n",
    "# drop the NAN values\n",
    "\n",
    "reviews = reviews[['Text', 'Score']]\n",
    "before_dropna = reviews.shape[0]\n",
    "\n",
    "print('Missing value count on each columns')\n",
    "print('-' * 35)\n",
    "reviews.isnull().sum()"
   ]
  },
  {
   "cell_type": "code",
   "execution_count": 7,
   "metadata": {},
   "outputs": [
    {
     "name": "stdout",
     "output_type": "stream",
     "text": [
      "There were no missing values in the selected dataframe : Dataframe size : (568454, 2)\n"
     ]
    }
   ],
   "source": [
    "reviews.dropna(axis = 0, how = 'any', inplace = True)\n",
    "after_dropna = reviews.shape[0]\n",
    "\n",
    "if before_dropna == after_dropna:\n",
    "    print(f'There were no missing values in the selected dataframe : Dataframe size : {reviews.shape}')\n",
    "else:\n",
    "    print(f'Removed missing values : Dataframe size : {reviews.shape}')"
   ]
  },
  {
   "cell_type": "code",
   "execution_count": 8,
   "metadata": {},
   "outputs": [
    {
     "data": {
      "text/html": [
       "<div>\n",
       "<style scoped>\n",
       "    .dataframe tbody tr th:only-of-type {\n",
       "        vertical-align: middle;\n",
       "    }\n",
       "\n",
       "    .dataframe tbody tr th {\n",
       "        vertical-align: top;\n",
       "    }\n",
       "\n",
       "    .dataframe thead th {\n",
       "        text-align: right;\n",
       "    }\n",
       "</style>\n",
       "<table border=\"1\" class=\"dataframe\">\n",
       "  <thead>\n",
       "    <tr style=\"text-align: right;\">\n",
       "      <th></th>\n",
       "      <th>Text</th>\n",
       "      <th>Score</th>\n",
       "    </tr>\n",
       "  </thead>\n",
       "  <tbody>\n",
       "    <tr>\n",
       "      <th>0</th>\n",
       "      <td>I have bought several of the Vitality canned d...</td>\n",
       "      <td>5</td>\n",
       "    </tr>\n",
       "    <tr>\n",
       "      <th>1</th>\n",
       "      <td>Product arrived labeled as Jumbo Salted Peanut...</td>\n",
       "      <td>1</td>\n",
       "    </tr>\n",
       "    <tr>\n",
       "      <th>2</th>\n",
       "      <td>This is a confection that has been around a fe...</td>\n",
       "      <td>4</td>\n",
       "    </tr>\n",
       "    <tr>\n",
       "      <th>3</th>\n",
       "      <td>If you are looking for the secret ingredient i...</td>\n",
       "      <td>2</td>\n",
       "    </tr>\n",
       "    <tr>\n",
       "      <th>4</th>\n",
       "      <td>Great taffy at a great price.  There was a wid...</td>\n",
       "      <td>5</td>\n",
       "    </tr>\n",
       "  </tbody>\n",
       "</table>\n",
       "</div>"
      ],
      "text/plain": [
       "                                                Text  Score\n",
       "0  I have bought several of the Vitality canned d...      5\n",
       "1  Product arrived labeled as Jumbo Salted Peanut...      1\n",
       "2  This is a confection that has been around a fe...      4\n",
       "3  If you are looking for the secret ingredient i...      2\n",
       "4  Great taffy at a great price.  There was a wid...      5"
      ]
     },
     "execution_count": 8,
     "metadata": {},
     "output_type": "execute_result"
    }
   ],
   "source": [
    "reviews.head()"
   ]
  },
  {
   "cell_type": "code",
   "execution_count": 9,
   "metadata": {},
   "outputs": [
    {
     "data": {
      "text/html": [
       "<div>\n",
       "<style scoped>\n",
       "    .dataframe tbody tr th:only-of-type {\n",
       "        vertical-align: middle;\n",
       "    }\n",
       "\n",
       "    .dataframe tbody tr th {\n",
       "        vertical-align: top;\n",
       "    }\n",
       "\n",
       "    .dataframe thead th {\n",
       "        text-align: right;\n",
       "    }\n",
       "</style>\n",
       "<table border=\"1\" class=\"dataframe\">\n",
       "  <thead>\n",
       "    <tr style=\"text-align: right;\">\n",
       "      <th></th>\n",
       "      <th>Text</th>\n",
       "      <th>Score</th>\n",
       "    </tr>\n",
       "  </thead>\n",
       "  <tbody>\n",
       "    <tr>\n",
       "      <th>43</th>\n",
       "      <td>McCann's Oatmeal is a good quality choice.  Ou...</td>\n",
       "      <td>5</td>\n",
       "    </tr>\n",
       "    <tr>\n",
       "      <th>44</th>\n",
       "      <td>We really like the McCann's steel cut oats but...</td>\n",
       "      <td>5</td>\n",
       "    </tr>\n",
       "    <tr>\n",
       "      <th>45</th>\n",
       "      <td>This seems a little more wholesome than some o...</td>\n",
       "      <td>3</td>\n",
       "    </tr>\n",
       "    <tr>\n",
       "      <th>46</th>\n",
       "      <td>Good oatmeal.  I like the apple cinnamon the b...</td>\n",
       "      <td>5</td>\n",
       "    </tr>\n",
       "    <tr>\n",
       "      <th>47</th>\n",
       "      <td>The flavors are good.  However, I do not see a...</td>\n",
       "      <td>3</td>\n",
       "    </tr>\n",
       "    <tr>\n",
       "      <th>48</th>\n",
       "      <td>I really like the Maple and Brown Sugar flavor...</td>\n",
       "      <td>4</td>\n",
       "    </tr>\n",
       "    <tr>\n",
       "      <th>49</th>\n",
       "      <td>This is the same stuff you can buy at the big ...</td>\n",
       "      <td>3</td>\n",
       "    </tr>\n",
       "    <tr>\n",
       "      <th>50</th>\n",
       "      <td>This oatmeal is not good. Its mushy, soft, I d...</td>\n",
       "      <td>1</td>\n",
       "    </tr>\n",
       "    <tr>\n",
       "      <th>51</th>\n",
       "      <td>Got a free package of these with a bottle of b...</td>\n",
       "      <td>5</td>\n",
       "    </tr>\n",
       "    <tr>\n",
       "      <th>52</th>\n",
       "      <td>This wasn't in stock the last time I looked. I...</td>\n",
       "      <td>4</td>\n",
       "    </tr>\n",
       "  </tbody>\n",
       "</table>\n",
       "</div>"
      ],
      "text/plain": [
       "                                                 Text  Score\n",
       "43  McCann's Oatmeal is a good quality choice.  Ou...      5\n",
       "44  We really like the McCann's steel cut oats but...      5\n",
       "45  This seems a little more wholesome than some o...      3\n",
       "46  Good oatmeal.  I like the apple cinnamon the b...      5\n",
       "47  The flavors are good.  However, I do not see a...      3\n",
       "48  I really like the Maple and Brown Sugar flavor...      4\n",
       "49  This is the same stuff you can buy at the big ...      3\n",
       "50  This oatmeal is not good. Its mushy, soft, I d...      1\n",
       "51  Got a free package of these with a bottle of b...      5\n",
       "52  This wasn't in stock the last time I looked. I...      4"
      ]
     },
     "execution_count": 9,
     "metadata": {},
     "output_type": "execute_result"
    }
   ],
   "source": [
    "reviews.iloc[43:53]"
   ]
  },
  {
   "cell_type": "code",
   "execution_count": 10,
   "metadata": {},
   "outputs": [
    {
     "data": {
      "text/plain": [
       "(525814, 2)"
      ]
     },
     "execution_count": 10,
     "metadata": {},
     "output_type": "execute_result"
    }
   ],
   "source": [
    "# if score> 3, set score = 1\n",
    "# if score<=2, set score = 0\n",
    "# if score == 3, remove the rows.\n",
    "\n",
    "def scores_(data):\n",
    "    if data > 3 : return 1\n",
    "    elif data <= 2: return 0\n",
    "\n",
    "reviews = reviews[reviews['Score'] != 3]    \n",
    "reviews['Score'] = reviews['Score'].apply(scores_)\n",
    "reviews.shape"
   ]
  },
  {
   "cell_type": "code",
   "execution_count": 11,
   "metadata": {},
   "outputs": [
    {
     "data": {
      "text/html": [
       "<div>\n",
       "<style scoped>\n",
       "    .dataframe tbody tr th:only-of-type {\n",
       "        vertical-align: middle;\n",
       "    }\n",
       "\n",
       "    .dataframe tbody tr th {\n",
       "        vertical-align: top;\n",
       "    }\n",
       "\n",
       "    .dataframe thead th {\n",
       "        text-align: right;\n",
       "    }\n",
       "</style>\n",
       "<table border=\"1\" class=\"dataframe\">\n",
       "  <thead>\n",
       "    <tr style=\"text-align: right;\">\n",
       "      <th></th>\n",
       "      <th>Text</th>\n",
       "      <th>Score</th>\n",
       "    </tr>\n",
       "  </thead>\n",
       "  <tbody>\n",
       "    <tr>\n",
       "      <th>43</th>\n",
       "      <td>McCann's Oatmeal is a good quality choice.  Ou...</td>\n",
       "      <td>1</td>\n",
       "    </tr>\n",
       "    <tr>\n",
       "      <th>44</th>\n",
       "      <td>We really like the McCann's steel cut oats but...</td>\n",
       "      <td>1</td>\n",
       "    </tr>\n",
       "    <tr>\n",
       "      <th>46</th>\n",
       "      <td>Good oatmeal.  I like the apple cinnamon the b...</td>\n",
       "      <td>1</td>\n",
       "    </tr>\n",
       "    <tr>\n",
       "      <th>48</th>\n",
       "      <td>I really like the Maple and Brown Sugar flavor...</td>\n",
       "      <td>1</td>\n",
       "    </tr>\n",
       "    <tr>\n",
       "      <th>50</th>\n",
       "      <td>This oatmeal is not good. Its mushy, soft, I d...</td>\n",
       "      <td>0</td>\n",
       "    </tr>\n",
       "    <tr>\n",
       "      <th>51</th>\n",
       "      <td>Got a free package of these with a bottle of b...</td>\n",
       "      <td>1</td>\n",
       "    </tr>\n",
       "    <tr>\n",
       "      <th>52</th>\n",
       "      <td>This wasn't in stock the last time I looked. I...</td>\n",
       "      <td>1</td>\n",
       "    </tr>\n",
       "    <tr>\n",
       "      <th>54</th>\n",
       "      <td>I roast at home with a stove-top popcorn poppe...</td>\n",
       "      <td>1</td>\n",
       "    </tr>\n",
       "    <tr>\n",
       "      <th>55</th>\n",
       "      <td>We roast these in a large cast iron pan on the...</td>\n",
       "      <td>1</td>\n",
       "    </tr>\n",
       "    <tr>\n",
       "      <th>56</th>\n",
       "      <td>Deal was awesome!  Arrived before Halloween as...</td>\n",
       "      <td>1</td>\n",
       "    </tr>\n",
       "  </tbody>\n",
       "</table>\n",
       "</div>"
      ],
      "text/plain": [
       "                                                 Text  Score\n",
       "43  McCann's Oatmeal is a good quality choice.  Ou...      1\n",
       "44  We really like the McCann's steel cut oats but...      1\n",
       "46  Good oatmeal.  I like the apple cinnamon the b...      1\n",
       "48  I really like the Maple and Brown Sugar flavor...      1\n",
       "50  This oatmeal is not good. Its mushy, soft, I d...      0\n",
       "51  Got a free package of these with a bottle of b...      1\n",
       "52  This wasn't in stock the last time I looked. I...      1\n",
       "54  I roast at home with a stove-top popcorn poppe...      1\n",
       "55  We roast these in a large cast iron pan on the...      1\n",
       "56  Deal was awesome!  Arrived before Halloween as...      1"
      ]
     },
     "execution_count": 11,
     "metadata": {},
     "output_type": "execute_result"
    }
   ],
   "source": [
    "reviews.iloc[43:53]"
   ]
  },
  {
   "cell_type": "markdown",
   "metadata": {
    "id": "oVe8LlkrqVA6"
   },
   "source": [
    "<font size=4>Grader function 2 </font>"
   ]
  },
  {
   "cell_type": "code",
   "execution_count": 12,
   "metadata": {
    "id": "7mDXSiJpqVA7"
   },
   "outputs": [
    {
     "data": {
      "text/plain": [
       "True"
      ]
     },
     "execution_count": 12,
     "metadata": {},
     "output_type": "execute_result"
    }
   ],
   "source": [
    "def grader_reviews():\n",
    "    temp_shape = (reviews.shape == (525814, 2)) and (reviews.Score.value_counts()[1]==443777)\n",
    "    assert(temp_shape == True)\n",
    "    return True\n",
    "\n",
    "grader_reviews()"
   ]
  },
  {
   "cell_type": "code",
   "execution_count": 13,
   "metadata": {
    "id": "xYZ-UB9UqVA-"
   },
   "outputs": [],
   "source": [
    "def get_wordlen(x):\n",
    "    return len(x.split())\n",
    "\n",
    "reviews['len'] = reviews.Text.apply(get_wordlen)\n",
    "reviews = reviews[reviews.len<50]\n",
    "reviews = reviews.sample(n=100000, random_state = 30)"
   ]
  },
  {
   "cell_type": "code",
   "execution_count": 14,
   "metadata": {
    "id": "CvldQriGqVBB"
   },
   "outputs": [
    {
     "data": {
      "text/html": [
       "<div>\n",
       "<style scoped>\n",
       "    .dataframe tbody tr th:only-of-type {\n",
       "        vertical-align: middle;\n",
       "    }\n",
       "\n",
       "    .dataframe tbody tr th {\n",
       "        vertical-align: top;\n",
       "    }\n",
       "\n",
       "    .dataframe thead th {\n",
       "        text-align: right;\n",
       "    }\n",
       "</style>\n",
       "<table border=\"1\" class=\"dataframe\">\n",
       "  <thead>\n",
       "    <tr style=\"text-align: right;\">\n",
       "      <th></th>\n",
       "      <th>Text</th>\n",
       "      <th>Score</th>\n",
       "      <th>len</th>\n",
       "    </tr>\n",
       "  </thead>\n",
       "  <tbody>\n",
       "    <tr>\n",
       "      <th>64117</th>\n",
       "      <td>The tea was of great quality and it tasted lik...</td>\n",
       "      <td>1</td>\n",
       "      <td>30</td>\n",
       "    </tr>\n",
       "    <tr>\n",
       "      <th>418112</th>\n",
       "      <td>My cat loves this.  The pellets are nice and s...</td>\n",
       "      <td>1</td>\n",
       "      <td>31</td>\n",
       "    </tr>\n",
       "    <tr>\n",
       "      <th>357829</th>\n",
       "      <td>Great product. Does not completely get rid of ...</td>\n",
       "      <td>1</td>\n",
       "      <td>41</td>\n",
       "    </tr>\n",
       "    <tr>\n",
       "      <th>175872</th>\n",
       "      <td>This gum is my favorite!  I would advise every...</td>\n",
       "      <td>1</td>\n",
       "      <td>27</td>\n",
       "    </tr>\n",
       "    <tr>\n",
       "      <th>178716</th>\n",
       "      <td>I also found out about this product because of...</td>\n",
       "      <td>1</td>\n",
       "      <td>22</td>\n",
       "    </tr>\n",
       "  </tbody>\n",
       "</table>\n",
       "</div>"
      ],
      "text/plain": [
       "                                                     Text  Score  len\n",
       "64117   The tea was of great quality and it tasted lik...      1   30\n",
       "418112  My cat loves this.  The pellets are nice and s...      1   31\n",
       "357829  Great product. Does not completely get rid of ...      1   41\n",
       "175872  This gum is my favorite!  I would advise every...      1   27\n",
       "178716  I also found out about this product because of...      1   22"
      ]
     },
     "execution_count": 14,
     "metadata": {},
     "output_type": "execute_result"
    }
   ],
   "source": [
    "# remove HTML from the Text column and save in the Text column only\n",
    "# print head 5\n",
    "\n",
    "def re_html(data):\n",
    "    return re.sub(r'<.*?>', '', data)\n",
    "\n",
    "reviews['Text'] = reviews['Text'].apply(re_html)\n",
    "\n",
    "reviews.head()"
   ]
  },
  {
   "cell_type": "code",
   "execution_count": 15,
   "metadata": {
    "id": "AhfN1s2mqVBD"
   },
   "outputs": [],
   "source": [
    "# split the data into train and test data(20%) with Stratify sampling, random state 33\n",
    "X = reviews['Text']\n",
    "y = reviews['Score']\n",
    "X_train, X_test, y_train, y_test = train_test_split(X, y, test_size = 0.2, random_state = 33,\n",
    "                                                    stratify = y)"
   ]
  },
  {
   "cell_type": "code",
   "execution_count": 16,
   "metadata": {},
   "outputs": [
    {
     "data": {
      "text/html": [
       "\n",
       "        <iframe\n",
       "            width=\"700\"\n",
       "            height=\"250\"\n",
       "            src=\"https://miro.medium.com/max/1400/1*pGXcQtiiRxLubaEbH2QqOg.png\"\n",
       "            frameborder=\"0\"\n",
       "            allowfullscreen\n",
       "            \n",
       "        ></iframe>\n",
       "        "
      ],
      "text/plain": [
       "<IPython.lib.display.IFrame at 0x7fb939792220>"
      ]
     },
     "execution_count": 16,
     "metadata": {},
     "output_type": "execute_result"
    }
   ],
   "source": [
    "# Reference\n",
    "# https://stackoverflow.com/a/52338192\n",
    "\n",
    "from IPython.display import IFrame\n",
    "IFrame(src='https://miro.medium.com/max/1400/1*pGXcQtiiRxLubaEbH2QqOg.png',\n",
    "                                                               width = 700, height = 250)"
   ]
  },
  {
   "cell_type": "code",
   "execution_count": 17,
   "metadata": {},
   "outputs": [
    {
     "data": {
      "image/png": "[encoded data removed]",
      "text/plain": [
       "<Figure size 1008x504 with 2 Axes>"
      ]
     },
     "metadata": {},
     "output_type": "display_data"
    }
   ],
   "source": [
    "# Plot bar graphs of y_train and y_test\n",
    "# https://stackoverflow.com/a/60088930\n",
    "\n",
    "def plot_bar(col, axx, title):\n",
    "    \n",
    "    countP = sns.countplot(col, ax = axx)\n",
    "    for i in col.unique():\n",
    "        countP.annotate((col == i).sum(), (i - 0.1, (col == i).sum() // 2))\n",
    "    countP.set(title = title)\n",
    "    \n",
    "fig, axes = plt.subplots(1, 2, figsize=(14, 7))\n",
    "fig.suptitle('Bar Graphs of Scores data', fontsize = 16)\n",
    "\n",
    "plot_bar(y_train, axes[0], 'On train data')\n",
    "plot_bar(y_test, axes[1], 'On test data')"
   ]
  },
  {
   "cell_type": "code",
   "execution_count": 18,
   "metadata": {},
   "outputs": [],
   "source": [
    "if os.path.exists('preprocessed_data'):\n",
    "    shutil.rmtree('preprocessed_data')\n",
    "    \n",
    "os.mkdir('preprocessed_data')"
   ]
  },
  {
   "cell_type": "code",
   "execution_count": 19,
   "metadata": {
    "id": "Up-z5boWqVBK"
   },
   "outputs": [],
   "source": [
    "# Saving to disk. if we need, we can load preprocessed data directly. \n",
    "\n",
    "reviews.to_csv('preprocessed_data/preprocessed.csv', index = False)"
   ]
  },
  {
   "cell_type": "markdown",
   "metadata": {
    "id": "bBtqNGN9qVBM"
   },
   "source": [
    "<pre><font size=6>Part-2: Creating BERT Model</font> \n",
    "\n",
    "If you want to know more about BERT, You can watch live sessions on Transformers and BERt. \n",
    "we will strongly recommend you to read <a href=\"https://jalammar.github.io/illustrated-transformer/\">Transformers</a>, <a href=\"https://arxiv.org/abs/1810.04805\">BERT Paper</a> and, <a href=\"https://jalammar.github.io/a-visual-guide-to-using-bert-for-the-first-time/\">This blog</a>.\n",
    "\n",
    "\n",
    "For this assignment, we are using <a href=\"https://tfhub.dev/tensorflow/bert_en_uncased_L-12_H-768_A-12/1\">BERT uncased Base model</a>. \n",
    "It uses L=12 hidden layers (i.e., Transformer blocks), a hidden size of H=768, and A=12 attention heads. </pre>"
   ]
  },
  {
   "cell_type": "code",
   "execution_count": 20,
   "metadata": {
    "id": "i8xd2HejqVBN"
   },
   "outputs": [],
   "source": [
    "## Loading the Pretrained Model from tensorflow HUB\n",
    "tf.keras.backend.clear_session()\n",
    "\n",
    "# maximum length of a seq in the data we have, for now i am making it as 55. You can change this\n",
    "max_seq_length = 55\n",
    "\n",
    "#BERT takes 3 inputs\n",
    "\n",
    "#this is input words. Sequence of words represented as integers\n",
    "input_word_ids = tf.keras.layers.Input(shape=(max_seq_length,),\n",
    "                                           dtype=tf.int32, name=\"input_word_ids\")\n",
    "\n",
    "#mask vector if you are padding anything\n",
    "input_mask = tf.keras.layers.Input(shape=(max_seq_length,),\n",
    "                                           dtype=tf.int32, name=\"input_mask\")\n",
    "\n",
    "#segment vectors. If you are giving only one sentence for the classification, total seg vector is 0. \n",
    "#If you are giving two sentenced with [sep] token separated, first seq segment vectors are zeros and \n",
    "#second seq segment vector are 1's\n",
    "segment_ids = tf.keras.layers.Input(shape=(max_seq_length,),\n",
    "                                            dtype=tf.int32, name=\"segment_ids\")\n",
    "\n",
    "#bert layer \n",
    "bert_layer = hub.KerasLayer('https://tfhub.dev/tensorflow/bert_en_uncased_L-12_H-768_A-12/1',\n",
    "                                            trainable=False)\n",
    "\n",
    "pooled_output, sequence_output = bert_layer([input_word_ids, input_mask, segment_ids])\n",
    "\n",
    "#Bert model\n",
    "#We are using only pooled output not sequence out. \n",
    "#If you want to know about those, please read https://www.kaggle.com/questions-and-answers/86510\n",
    "bert_model = Model(inputs=[input_word_ids, input_mask, segment_ids], outputs=pooled_output)\n"
   ]
  },
  {
   "cell_type": "code",
   "execution_count": 21,
   "metadata": {
    "id": "lQJsjg6fqVBQ"
   },
   "outputs": [
    {
     "name": "stdout",
     "output_type": "stream",
     "text": [
      "Model: \"model\"\n",
      "__________________________________________________________________________________________________\n",
      " Layer (type)                   Output Shape         Param #     Connected to                     \n",
      "==================================================================================================\n",
      " input_word_ids (InputLayer)    [(None, 55)]         0           []                               \n",
      "                                                                                                  \n",
      " input_mask (InputLayer)        [(None, 55)]         0           []                               \n",
      "                                                                                                  \n",
      " segment_ids (InputLayer)       [(None, 55)]         0           []                               \n",
      "                                                                                                  \n",
      " keras_layer (KerasLayer)       [(None, 768),        109482241   ['input_word_ids[0][0]',         \n",
      "                                 (None, 55, 768)]                 'input_mask[0][0]',             \n",
      "                                                                  'segment_ids[0][0]']            \n",
      "                                                                                                  \n",
      "==================================================================================================\n",
      "Total params: 109,482,241\n",
      "Trainable params: 0\n",
      "Non-trainable params: 109,482,241\n",
      "__________________________________________________________________________________________________\n"
     ]
    }
   ],
   "source": [
    "bert_model.summary()"
   ]
  },
  {
   "cell_type": "code",
   "execution_count": 22,
   "metadata": {
    "id": "w3z0OMA5qVBS"
   },
   "outputs": [
    {
     "data": {
      "text/plain": [
       "<KerasTensor: shape=(None, 768) dtype=float32 (created by layer 'keras_layer')>"
      ]
     },
     "execution_count": 22,
     "metadata": {},
     "output_type": "execute_result"
    }
   ],
   "source": [
    "bert_model.output"
   ]
  },
  {
   "cell_type": "markdown",
   "metadata": {
    "id": "Ewv4hFCsqVBU"
   },
   "source": [
    "<pre><font size=6>Part-3: Tokenization</font></pre>"
   ]
  },
  {
   "cell_type": "code",
   "execution_count": 23,
   "metadata": {
    "id": "tX3VEFjiqVBU"
   },
   "outputs": [],
   "source": [
    "# getting Vocab file\n",
    "\n",
    "vocab_file = bert_layer.resolved_object.vocab_file.asset_path.numpy()\n",
    "do_lower_case = bert_layer.resolved_object.do_lower_case.numpy()"
   ]
  },
  {
   "cell_type": "code",
   "execution_count": 24,
   "metadata": {
    "id": "Y_iPwa99qVBW"
   },
   "outputs": [],
   "source": [
    "import tokenization # We have given tokenization.py file"
   ]
  },
  {
   "cell_type": "markdown",
   "metadata": {
    "id": "guJMLJ8bqVBY"
   },
   "source": [
    "Create tokenizer **Instantiate FullTokenizer**, name must be `tokenizer`<br>\n",
    "The FullTokenizer takes two parameters<br>\n",
    "1. vocab_file and\n",
    "2. do_lower_case\n",
    "\n",
    "We have created these in the above cell ex: FullTokenizer(vocab_file, do_lower_case )<br>\n",
    "Please check the \"tokenization.py\" file the complete implementation"
   ]
  },
  {
   "cell_type": "code",
   "execution_count": 25,
   "metadata": {
    "id": "qlGFtp2xxzt6"
   },
   "outputs": [],
   "source": [
    "# if you are getting error for sentencepiece module you can install it using\n",
    "# below command while running this cell for the first time\n",
    "# !pip install sentencepiece\n",
    "\n",
    "tokenizer = tokenization.FullTokenizer(vocab_file,do_lower_case )"
   ]
  },
  {
   "cell_type": "markdown",
   "metadata": {
    "id": "KKkGLhR-qVBd"
   },
   "source": [
    "<font size=4>Grader function 3 </font>"
   ]
  },
  {
   "cell_type": "code",
   "execution_count": 26,
   "metadata": {
    "id": "2CPu850xqVBe"
   },
   "outputs": [
    {
     "data": {
      "text/plain": [
       "True"
      ]
     },
     "execution_count": 26,
     "metadata": {},
     "output_type": "execute_result"
    }
   ],
   "source": [
    "# it has to give no error \n",
    "\n",
    "def grader_tokenize(tokenizer):\n",
    "    \n",
    "    out = False\n",
    "    try:\n",
    "        out = ('[CLS]' in tokenizer.vocab) and ('[SEP]' in tokenizer.vocab)\n",
    "    except:\n",
    "        out = False\n",
    "    assert(out == True)\n",
    "    return out\n",
    "\n",
    "grader_tokenize(tokenizer)"
   ]
  },
  {
   "cell_type": "markdown",
   "metadata": {
    "id": "9crhPylQqVBg"
   },
   "source": [
    "Create train and test tokens (X_train_tokens, X_test_tokens) from (X_train, X_test) using Tokenizer and \n",
    "\n",
    "add '[CLS]' at start of the Tokens and '[SEP]' at the end of the tokens. \n",
    "\n",
    "maximum number of tokens is 55(We already given this to BERT layer above) so shape is (None, 55)\n",
    "\n",
    "if it is less than 55, add '[PAD]' token else truncate the tokens length.(similar to padding)\n",
    "\n",
    "Based on padding, create the mask for Train and Test ( 1 for real token, 0 for '[PAD]'), \n",
    "it will also same shape as input tokens (None, 55) save those in X_train_mask, X_test_mask\n",
    "\n",
    "Create a segment input for train and test. We are using only one sentence so all zeros. This shape will also (None, 55)\n",
    "\n",
    "type of all the above arrays should be numpy arrays\n",
    "\n",
    "after execution of this cell, you have to get<br>\n",
    "X_train_tokens, X_train_mask, X_train_segment<br>\n",
    "X_test_tokens, X_test_mask, X_test_segment"
   ]
  },
  {
   "cell_type": "markdown",
   "metadata": {
    "id": "kv1-t4OjqVBj"
   },
   "source": [
    "#### Example\n",
    "<img src = 'https://i.imgur.com/5AhhmgU.png'>"
   ]
  },
  {
   "cell_type": "code",
   "execution_count": 27,
   "metadata": {},
   "outputs": [
    {
     "name": "stdout",
     "output_type": "stream",
     "text": [
      "Original Sentence :\n",
      "\t\t['I', 'had', 'never', 'tried', 'this', 'brand', 'before,', 'so', 'I', 'was', 'worried', 'about', 'the', 'quality.', 'It', 'tasted', 'great.', 'A', 'very', 'nice', 'smooth', 'rich', 'full', 'flavor.', 'Its', 'my', 'new', 'favoret.']\n",
      "\n",
      "Number of words : 28\n",
      "\n",
      "==================================================\n",
      "\n",
      "Tokens are\t: ['[CLS]', 'i', 'had', 'never', 'tried', 'this', 'brand', 'before', ',', 'so', 'i', 'was', 'worried', 'about', 'the', 'quality', '.', 'it', 'tasted', 'great', '.', 'a', 'very', 'nice', 'smooth', 'rich', 'full', 'flavor', '.', 'its', 'my', 'new', 'favor', '##et', '.', '[SEP]']\n",
      "\n",
      "Tokens length\t: 36\n",
      "\n",
      "==================================================\n",
      "\n",
      "Padded Tokens are\t: ['[CLS]', 'i', 'had', 'never', 'tried', 'this', 'brand', 'before', ',', 'so', 'i', 'was', 'worried', 'about', 'the', 'quality', '.', 'it', 'tasted', 'great', '.', 'a', 'very', 'nice', 'smooth', 'rich', 'full', 'flavor', '.', 'its', 'my', 'new', 'favor', '##et', '.', '[SEP]', '[PAD]', '[PAD]', '[PAD]', '[PAD]', '[PAD]', '[PAD]', '[PAD]', '[PAD]', '[PAD]', '[PAD]', '[PAD]', '[PAD]', '[PAD]', '[PAD]', '[PAD]', '[PAD]', '[PAD]', '[PAD]', '[PAD]']\n",
      "\n",
      "Padded Tokens length\t: 55\n",
      "\n",
      "==================================================\n",
      "\n",
      "Tokens replaced with positional encoding :\n",
      "\t\t[  101  1045  2018  2196  2699  2023  4435  2077  1010  2061  1045  2001\n",
      "  5191  2055  1996  3737  1012  2009 12595  2307  1012  1037  2200  3835\n",
      "  5744  4138  2440 14894  1012  2049  2026  2047  5684  3388  1012   102]\n",
      "\n",
      "The maske array is :\n",
      "\t\t[1 1 1 1 1 1 1 1 1 1 1 1 1 1 1 1 1 1 1 1 1 1 1 1 1 1 1 1 1 1 1 1 1 1 1 1 0\n",
      " 0 0 0 0 0 0 0 0 0 0 0 0 0 0 0 0 0 0]\n",
      "\n",
      "The segment array is :\n",
      "\t\t[0 0 0 0 0 0 0 0 0 0 0 0 0 0 0 0 0 0 0 0 0 0 0 0 0 0 0 0 0 0 0 0 0 0 0 0 0\n",
      " 0 0 0 0 0 0 0 0 0 0 0 0 0 0 0 0 0 0]\n"
     ]
    }
   ],
   "source": [
    "max_seq_length = 55\n",
    "\n",
    "print(f'Original Sentence :\\n\\t\\t{X_train.values[0].split()}')\n",
    "print(f'\\nNumber of words : {len(X_train.values[0].split())}\\n')\n",
    "print('=' * 50)\n",
    "\n",
    "tokenz = tokenizer.tokenize(X_train.values[0])\n",
    "if len(tokenz) >= max_seq_length - 2:\n",
    "    tokenz = tokenz[:max_seq_length-2]\n",
    "tokenz = ['[CLS]', *tokenz, '[SEP]']\n",
    "\n",
    "print(f'\\nTokens are\\t: {tokenz}')\n",
    "print(f'\\nTokens length\\t: {len(tokenz)}\\n')\n",
    "print('=' * 50)\n",
    "\n",
    "pad_length = max_seq_length - len(tokenz)\n",
    "if pad_length > 0:\n",
    "    pads = ['[PAD]'] * pad_length\n",
    "    tokenz_padded = tokenz + pads\n",
    "else:\n",
    "    tokenz_padded = tokenz\n",
    "\n",
    "print(f'\\nPadded Tokens are\\t: {tokenz_padded}')\n",
    "print(f'\\nPadded Tokens length\\t: {len(tokenz_padded)}\\n')\n",
    "print('=' * 50)\n",
    "\n",
    "positional_tokenz = np.array(tokenizer.convert_tokens_to_ids(tokenz))\n",
    "mask_array = np.array([1] * len(tokenz) + [0] * pad_length)    \n",
    "seg_array = np.array([0] * max_seq_length)\n",
    "\n",
    "print(f'\\nTokens replaced with positional encoding :\\n\\t\\t{positional_tokenz}')\n",
    "print(f'\\nThe maske array is :\\n\\t\\t{mask_array}')\n",
    "print(f'\\nThe segment array is :\\n\\t\\t{seg_array}')"
   ]
  },
  {
   "cell_type": "code",
   "execution_count": 28,
   "metadata": {},
   "outputs": [
    {
     "name": "stderr",
     "output_type": "stream",
     "text": [
      "100%|██████████| 80000/80000 [00:37<00:00, 2155.77it/s]\n",
      "100%|██████████| 20000/20000 [00:09<00:00, 2169.41it/s]\n"
     ]
    }
   ],
   "source": [
    "max_seq_length = 55\n",
    "\n",
    "def tokenize_data(data, max_len):\n",
    "    \n",
    "    positional_tokenz = np.zeros((data.shape[0], max_len))\n",
    "    mask_array = np.zeros((data.shape[0], max_len))\n",
    "    # positional_tokenz = []\n",
    "    # mask_array = []\n",
    "    seg_array = np.zeros((data.shape[0], max_len))\n",
    "\n",
    "    for i in tqdm(range(data.shape[0])):\n",
    "        \n",
    "        tokenz = tokenizer.tokenize(data.values[i])\n",
    "        \n",
    "        if len(tokenz) >= max_len - 2:\n",
    "            tokenz = tokenz[:max_len-2]\n",
    "        tokenz = ['[CLS]', *tokenz, '[SEP]']\n",
    "\n",
    "        pad_length = max_len - len(tokenz)\n",
    "        if pad_length > 0:\n",
    "            pads = ['[PAD]'] * pad_length\n",
    "            tokenz_padded = tokenz + pads\n",
    "        else:\n",
    "            tokenz_padded = tokenz\n",
    "\n",
    "        positional_tokenz[i] = np.array(tokenizer.convert_tokens_to_ids(tokenz) + [0] * pad_length)\n",
    "        mask_array[i] = np.array([1] * len(tokenz) + [0] * pad_length)\n",
    "        \n",
    "    return positional_tokenz, mask_array, seg_array\n",
    "\n",
    "X_train_tokens, X_train_mask, X_train_segment = tokenize_data(X_train, max_seq_length)\n",
    "X_test_tokens, X_test_mask, X_test_segment = tokenize_data(X_test, max_seq_length)"
   ]
  },
  {
   "cell_type": "code",
   "execution_count": 29,
   "metadata": {
    "id": "xF0idMRDqVBm"
   },
   "outputs": [],
   "source": [
    "# Save all your results to disk so that, no need to run all again. \n",
    "\n",
    "pickle.dump((X_train, X_train_tokens, X_train_mask, X_train_segment, y_train),\n",
    "                                        open('preprocessed_data/train_data.pkl', 'wb'))\n",
    "pickle.dump((X_test, X_test_tokens, X_test_mask, X_test_segment, y_test),\n",
    "                                        open('preprocessed_data/test_data.pkl', 'wb'))"
   ]
  },
  {
   "cell_type": "code",
   "execution_count": 30,
   "metadata": {
    "id": "Leu1URGzqVBo"
   },
   "outputs": [],
   "source": [
    "# You can load from disk\n",
    "\n",
    "# X_train, X_train_tokens, X_train_mask, X_train_segment, y_train = \\\n",
    "#                         pickle.load(open('preprocessed_data/train_data.pkl', 'rb'))\n",
    "# X_test, X_test_tokens, X_test_mask, X_test_segment, y_test = \\\n",
    "#                         pickle.load(open('preprocessed_data/test_data.pkl', 'rb'))"
   ]
  },
  {
   "cell_type": "markdown",
   "metadata": {
    "id": "sjPv8VkJqVBr"
   },
   "source": [
    "<font size=4>Grader function 4 </font>"
   ]
  },
  {
   "cell_type": "code",
   "execution_count": 31,
   "metadata": {
    "id": "qekHJgmdqVBs"
   },
   "outputs": [
    {
     "data": {
      "text/plain": [
       "True"
      ]
     },
     "execution_count": 31,
     "metadata": {},
     "output_type": "execute_result"
    }
   ],
   "source": [
    "def grader_alltokens_train():\n",
    "    out = False\n",
    "    \n",
    "    if type(X_train_tokens) == np.ndarray:\n",
    "        \n",
    "        temp_shapes = (X_train_tokens.shape[1]==max_seq_length) and \\\n",
    "                        (X_train_mask.shape[1]==max_seq_length) and \\\n",
    "                        (X_train_segment.shape[1]==max_seq_length)\n",
    "        \n",
    "        segment_temp = not np.any(X_train_segment)\n",
    "        \n",
    "        mask_temp = np.sum(X_train_mask==0) == np.sum(X_train_tokens==0)\n",
    "        \n",
    "        no_cls = np.sum(X_train_tokens==tokenizer.vocab['[CLS]'])==X_train_tokens.shape[0]\n",
    "        \n",
    "        no_sep = np.sum(X_train_tokens==tokenizer.vocab['[SEP]'])==X_train_tokens.shape[0]\n",
    "        \n",
    "        out = temp_shapes and segment_temp and mask_temp and no_cls and no_sep\n",
    "      \n",
    "    else:\n",
    "        print('Type of all above token arrays should be numpy array not list')\n",
    "        out = False\n",
    "    assert(out == True)\n",
    "    \n",
    "    return out\n",
    "\n",
    "grader_alltokens_train()"
   ]
  },
  {
   "cell_type": "markdown",
   "metadata": {
    "id": "KnvC6X_wqVBu"
   },
   "source": [
    "<font size=4>Grader function 5 </font>"
   ]
  },
  {
   "cell_type": "code",
   "execution_count": 32,
   "metadata": {
    "id": "Av4SRMPSqVBv"
   },
   "outputs": [
    {
     "data": {
      "text/plain": [
       "True"
      ]
     },
     "execution_count": 32,
     "metadata": {},
     "output_type": "execute_result"
    }
   ],
   "source": [
    "def grader_alltokens_test():\n",
    "    \n",
    "    out = False\n",
    "    if type(X_test_tokens) == np.ndarray:\n",
    "        \n",
    "        temp_shapes = (X_test_tokens.shape[1]==max_seq_length) and \\\n",
    "                        (X_test_mask.shape[1]==max_seq_length) and \\\n",
    "                        (X_test_segment.shape[1]==max_seq_length)\n",
    "        \n",
    "        segment_temp = not np.any(X_test_segment)\n",
    "        \n",
    "        mask_temp = np.sum(X_test_mask==0) == np.sum(X_test_tokens==0)\n",
    "        \n",
    "        no_cls = np.sum(X_test_tokens==tokenizer.vocab['[CLS]'])==X_test_tokens.shape[0]\n",
    "        \n",
    "        no_sep = np.sum(X_test_tokens==tokenizer.vocab['[SEP]'])==X_test_tokens.shape[0]\n",
    "        \n",
    "        out = temp_shapes and segment_temp and mask_temp and no_cls and no_sep\n",
    "      \n",
    "    else:\n",
    "        print('Type of all above token arrays should be numpy array not list')\n",
    "        out = False\n",
    "    assert(out==True)\n",
    "    \n",
    "    return out\n",
    "\n",
    "grader_alltokens_test()"
   ]
  },
  {
   "cell_type": "markdown",
   "metadata": {
    "id": "SEj-Eua5qVBx"
   },
   "source": [
    "<pre><font size=6>Part-4: Getting Embeddings from BERT Model</font>\n",
    "We already created the BERT model in the part-2 and input data in the part-3. \n",
    "We will utlize those two and will get the embeddings for each sentence in the \n",
    "Train and test data.</pre>"
   ]
  },
  {
   "cell_type": "code",
   "execution_count": 33,
   "metadata": {
    "id": "QwOVgQFDqVBy"
   },
   "outputs": [
    {
     "data": {
      "text/plain": [
       "[<KerasTensor: shape=(None, 55) dtype=int32 (created by layer 'input_word_ids')>,\n",
       " <KerasTensor: shape=(None, 55) dtype=int32 (created by layer 'input_mask')>,\n",
       " <KerasTensor: shape=(None, 55) dtype=int32 (created by layer 'segment_ids')>]"
      ]
     },
     "execution_count": 33,
     "metadata": {},
     "output_type": "execute_result"
    }
   ],
   "source": [
    "bert_model.input"
   ]
  },
  {
   "cell_type": "code",
   "execution_count": 34,
   "metadata": {
    "id": "ZcpkQq1OqVB0"
   },
   "outputs": [
    {
     "data": {
      "text/plain": [
       "<KerasTensor: shape=(None, 768) dtype=float32 (created by layer 'keras_layer')>"
      ]
     },
     "execution_count": 34,
     "metadata": {},
     "output_type": "execute_result"
    }
   ],
   "source": [
    "bert_model.output"
   ]
  },
  {
   "cell_type": "code",
   "execution_count": 35,
   "metadata": {
    "id": "IxdIlOIBlm7j"
   },
   "outputs": [
    {
     "name": "stdout",
     "output_type": "stream",
     "text": [
      "2500/2500 [==============================] - 93s 36ms/step\n"
     ]
    },
    {
     "data": {
      "text/plain": [
       "(80000, 768)"
      ]
     },
     "execution_count": 35,
     "metadata": {},
     "output_type": "execute_result"
    }
   ],
   "source": [
    "# get the train output, BERT model will give one output so save in X_train_pooled_output\n",
    "# this cell will take some time to execute, make sure thay you have stable internet connection\n",
    "\n",
    "X_train_pooled_output = bert_model.predict([X_train_tokens, X_train_mask, X_train_segment])\n",
    "X_train_pooled_output.shape"
   ]
  },
  {
   "cell_type": "code",
   "execution_count": 36,
   "metadata": {
    "id": "yZT11BCol4gL"
   },
   "outputs": [
    {
     "name": "stdout",
     "output_type": "stream",
     "text": [
      "625/625 [==============================] - 23s 36ms/step\n"
     ]
    },
    {
     "data": {
      "text/plain": [
       "(20000, 768)"
      ]
     },
     "execution_count": 36,
     "metadata": {},
     "output_type": "execute_result"
    }
   ],
   "source": [
    "# get the test output, BERT model will give one output so save in X_test_pooled_output\n",
    "\n",
    "X_test_pooled_output = bert_model.predict([X_test_tokens, X_test_mask, X_test_segment])\n",
    "X_test_pooled_output.shape"
   ]
  },
  {
   "cell_type": "code",
   "execution_count": 37,
   "metadata": {
    "id": "DL6JVojfqVB8"
   },
   "outputs": [],
   "source": [
    "# save all your results to disk so that, no need to run all again.\n",
    "\n",
    "pickle.dump((X_train_pooled_output, X_test_pooled_output),\n",
    "                            open('preprocessed_data/final_output.pkl', 'wb'))"
   ]
  },
  {
   "cell_type": "code",
   "execution_count": 38,
   "metadata": {
    "id": "oSQcBdROqVB9"
   },
   "outputs": [],
   "source": [
    "# X_train_pooled_output, X_test_pooled_output = pickle.load(open('preprocessed_data/final_output.pkl', 'rb'))"
   ]
  },
  {
   "cell_type": "markdown",
   "metadata": {
    "id": "ulEXFE7aqVCA"
   },
   "source": [
    "<font size=4>Grader function 6 </font>"
   ]
  },
  {
   "cell_type": "code",
   "execution_count": 39,
   "metadata": {
    "id": "oHCsW0IvqVCB"
   },
   "outputs": [
    {
     "data": {
      "text/plain": [
       "True"
      ]
     },
     "execution_count": 39,
     "metadata": {},
     "output_type": "execute_result"
    }
   ],
   "source": [
    "# now we have X_train_pooled_output, y_train, X_test_pooled_ouput, y_test\n",
    "\n",
    "#please use this grader to evaluate\n",
    "\n",
    "def greader_output():\n",
    "    \n",
    "    assert(X_train_pooled_output.shape[1] == 768)\n",
    "    assert(len(y_train) == len(X_train_pooled_output))\n",
    "    assert(X_test_pooled_output.shape[1] == 768)\n",
    "    assert(len(y_test) == len(X_test_pooled_output))\n",
    "    assert(len(y_train.shape) == 1)\n",
    "    assert(len(X_train_pooled_output.shape) == 2)\n",
    "    assert(len(y_test.shape) == 1)\n",
    "    assert(len(X_test_pooled_output.shape) == 2)\n",
    "    return True\n",
    "\n",
    "greader_output()"
   ]
  },
  {
   "cell_type": "markdown",
   "metadata": {
    "id": "oYwS1QbAqVCD"
   },
   "source": [
    "<pre><font size=6>Part-5: Training a NN with 768 features</font>\n",
    "\n",
    "Create a NN and train the NN. \n",
    "1.<b> You have to use AUC as metric. Do not use tf.keras.metrics.AUC</b> \n",
    "<b> You have to write custom code for AUC and print it at the end of each epoch</b> \n",
    "2. You can use any architecture you want. \n",
    "3. You have to use tensorboard to log all your metrics and Losses. You have to send those logs. \n",
    "4. Print the loss and metric at every epoch. \n",
    "5. You have to submit without overfitting and underfitting. \n",
    "</pre>"
   ]
  },
  {
   "cell_type": "code",
   "execution_count": 40,
   "metadata": {
    "id": "od8PQlYRqVCE"
   },
   "outputs": [],
   "source": [
    "# imports\n",
    "\n",
    "from datetime import datetime\n",
    "\n",
    "from sklearn.metrics import roc_auc_score\n",
    "\n",
    "from tensorflow.keras.layers import LSTM\n",
    "from tensorflow.keras.models import Model\n",
    "from tensorflow.keras.layers import Input\n",
    "from tensorflow.keras.layers import Dense\n",
    "from tensorflow.keras.layers import Dropout\n",
    "from tensorflow.keras.layers import Activation\n",
    "from tensorflow.keras.layers import BatchNormalization\n",
    "\n",
    "from tensorflow.keras.callbacks import Callback\n",
    "from tensorflow.keras.callbacks import TensorBoard\n",
    "from tensorflow.keras.callbacks import ModelCheckpoint\n",
    "from tensorflow.keras.callbacks import ReduceLROnPlateau"
   ]
  },
  {
   "cell_type": "code",
   "execution_count": 41,
   "metadata": {
    "id": "DSnmX3WnqVCG"
   },
   "outputs": [
    {
     "name": "stdout",
     "output_type": "stream",
     "text": [
      "Model: \"model\"\n",
      "_________________________________________________________________\n",
      " Layer (type)                Output Shape              Param #   \n",
      "=================================================================\n",
      " input_1 (InputLayer)        [(None, 768)]             0         \n",
      "                                                                 \n",
      " Dense1 (Dense)              (None, 2048)              1574912   \n",
      "                                                                 \n",
      " batch_normalization (BatchN  (None, 2048)             8192      \n",
      " ormalization)                                                   \n",
      "                                                                 \n",
      " dropout (Dropout)           (None, 2048)              0         \n",
      "                                                                 \n",
      " Dense2 (Dense)              (None, 1024)              2098176   \n",
      "                                                                 \n",
      " batch_normalization_1 (Batc  (None, 1024)             4096      \n",
      " hNormalization)                                                 \n",
      "                                                                 \n",
      " dropout_1 (Dropout)         (None, 1024)              0         \n",
      "                                                                 \n",
      " Dense3 (Dense)              (None, 512)               524800    \n",
      "                                                                 \n",
      " batch_normalization_2 (Batc  (None, 512)              2048      \n",
      " hNormalization)                                                 \n",
      "                                                                 \n",
      " dropout_2 (Dropout)         (None, 512)               0         \n",
      "                                                                 \n",
      " Dense4 (Dense)              (None, 128)               65664     \n",
      "                                                                 \n",
      " batch_normalization_3 (Batc  (None, 128)              512       \n",
      " hNormalization)                                                 \n",
      "                                                                 \n",
      " dropout_3 (Dropout)         (None, 128)               0         \n",
      "                                                                 \n",
      " CL_Dense (Dense)            (None, 1)                 129       \n",
      "                                                                 \n",
      "=================================================================\n",
      "Total params: 4,278,529\n",
      "Trainable params: 4,271,105\n",
      "Non-trainable params: 7,424\n",
      "_________________________________________________________________\n"
     ]
    }
   ],
   "source": [
    "# create an Neural Network and train your model on X_train_pooled_output and y_train you can start as follows\n",
    "# input_layer=Input(shape=(X_train_pooled_output.shape[1],))\n",
    "\n",
    "tf.keras.backend.clear_session()\n",
    "np.random.seed(152)\n",
    "tf.random.set_seed(152)\n",
    "\n",
    "input_layer=Input(shape=(X_train_pooled_output.shape[1], ))\n",
    "x = Dense(2048, activation = 'relu', name = 'Dense1')(input_layer)\n",
    "x = BatchNormalization()(x)\n",
    "x = Dropout(0.25)(x)\n",
    "x = Dense(1024, activation = 'relu', name = 'Dense2')(x)\n",
    "x = BatchNormalization()(x)\n",
    "x = Dropout(0.5)(x)\n",
    "x = Dense(512, activation = 'relu', name = 'Dense3')(x)\n",
    "x = BatchNormalization()(x)\n",
    "x = Dropout(0.3)(x)\n",
    "x = Dense(128, activation = 'relu', name = 'Dense4')(x)\n",
    "x = BatchNormalization()(x)\n",
    "x = Dropout(0.4)(x)\n",
    "outP = Dense(1, activation = 'sigmoid', name = 'CL_Dense')(x)\n",
    "\n",
    "model_ = Model(inputs = input_layer, outputs = outP)\n",
    "model_.summary()"
   ]
  },
  {
   "cell_type": "code",
   "execution_count": 42,
   "metadata": {},
   "outputs": [],
   "source": [
    "if os.path.exists('logs'): shutil.rmtree('logs')\n",
    "if os.path.exists('model_weights'): shutil.rmtree('model_weights')"
   ]
  },
  {
   "cell_type": "code",
   "execution_count": 43,
   "metadata": {},
   "outputs": [],
   "source": [
    "logdir = 'logs/' + datetime.now().strftime('%Y%m%d_%H%M')\n",
    "tensorBoard = TensorBoard(log_dir = logdir, histogram_freq = 1)\n",
    "\n",
    "filepath = 'model_weights/EPO_{epoch:02d}-AUC_{val_auc:.4f}.hdf5'\n",
    "modelCheck = ModelCheckpoint(filepath, monitor = 'val_auc', verbose = 1, save_best_only = True)\n",
    "\n",
    "reduceLR = ReduceLROnPlateau(monitor = 'val_auc', factor = 0.8,\n",
    "                                             patience = 2, verbose = 1, min_delta = 0.0001)\n",
    "\n",
    "CallBackList = [tensorBoard, modelCheck, reduceLR]"
   ]
  },
  {
   "cell_type": "code",
   "execution_count": 44,
   "metadata": {},
   "outputs": [],
   "source": [
    "# https://stackoverflow.com/a/69248506\n",
    "\n",
    "def roc_score_(y_true, y_pred):\n",
    "    \n",
    "    if len(np.unique(y_true)) == 1:\n",
    "        return 0.5\n",
    "    return roc_auc_score(y_true, y_pred, average = 'micro')\n",
    "\n",
    "def auc(y_true, y_pred):\n",
    "    \n",
    "    return tf.py_function(roc_score_, (y_true, y_pred), tf.double)"
   ]
  },
  {
   "cell_type": "code",
   "execution_count": 45,
   "metadata": {
    "scrolled": false
   },
   "outputs": [
    {
     "name": "stdout",
     "output_type": "stream",
     "text": [
      "Epoch 1/20\n",
      "619/625 [============================>.] - ETA: 0s - loss: 0.3134 - auc: 0.8750\n",
      "Epoch 1: val_auc improved from inf to 0.92390, saving model to model_weights/EPO_01-AUC_0.9239.hdf5\n",
      "625/625 [==============================] - 4s 5ms/step - loss: 0.3122 - auc: 0.8756 - val_loss: 0.2146 - val_auc: 0.9239 - lr: 0.0010\n",
      "Epoch 2/20\n",
      "616/625 [============================>.] - ETA: 0s - loss: 0.1926 - auc: 0.9440\n",
      "Epoch 2: val_auc did not improve from 0.92390\n",
      "625/625 [==============================] - 3s 5ms/step - loss: 0.1926 - auc: 0.9441 - val_loss: 0.2267 - val_auc: 0.9392 - lr: 0.0010\n",
      "Epoch 3/20\n",
      "624/625 [============================>.] - ETA: 0s - loss: 0.1795 - auc: 0.9525\n",
      "Epoch 3: val_auc did not improve from 0.92390\n",
      "\n",
      "Epoch 3: ReduceLROnPlateau reducing learning rate to 0.000800000037997961.\n",
      "625/625 [==============================] - 3s 5ms/step - loss: 0.1795 - auc: 0.9525 - val_loss: 0.1990 - val_auc: 0.9501 - lr: 0.0010\n",
      "Epoch 4/20\n",
      "618/625 [============================>.] - ETA: 0s - loss: 0.1724 - auc: 0.9568\n",
      "Epoch 4: val_auc did not improve from 0.92390\n",
      "625/625 [==============================] - 3s 5ms/step - loss: 0.1723 - auc: 0.9568 - val_loss: 0.2506 - val_auc: 0.9543 - lr: 8.0000e-04\n",
      "Epoch 5/20\n",
      "623/625 [============================>.] - ETA: 0s - loss: 0.1696 - auc: 0.9577\n",
      "Epoch 5: val_auc did not improve from 0.92390\n",
      "\n",
      "Epoch 5: ReduceLROnPlateau reducing learning rate to 0.0006400000303983689.\n",
      "625/625 [==============================] - 3s 5ms/step - loss: 0.1696 - auc: 0.9577 - val_loss: 0.2145 - val_auc: 0.9529 - lr: 8.0000e-04\n",
      "Epoch 6/20\n",
      "613/625 [============================>.] - ETA: 0s - loss: 0.1660 - auc: 0.9599\n",
      "Epoch 6: val_auc did not improve from 0.92390\n",
      "625/625 [==============================] - 3s 5ms/step - loss: 0.1664 - auc: 0.9597 - val_loss: 0.2647 - val_auc: 0.9489 - lr: 6.4000e-04\n",
      "Epoch 7/20\n",
      "623/625 [============================>.] - ETA: 0s - loss: 0.1632 - auc: 0.9614\n",
      "Epoch 7: val_auc did not improve from 0.92390\n",
      "\n",
      "Epoch 7: ReduceLROnPlateau reducing learning rate to 0.0005120000336319208.\n",
      "625/625 [==============================] - 3s 5ms/step - loss: 0.1631 - auc: 0.9615 - val_loss: 0.2032 - val_auc: 0.9432 - lr: 6.4000e-04\n",
      "Epoch 8/20\n",
      "612/625 [============================>.] - ETA: 0s - loss: 0.1598 - auc: 0.9632\n",
      "Epoch 8: val_auc did not improve from 0.92390\n",
      "625/625 [==============================] - 3s 5ms/step - loss: 0.1600 - auc: 0.9631 - val_loss: 0.3172 - val_auc: 0.9582 - lr: 5.1200e-04\n",
      "Epoch 9/20\n",
      "625/625 [==============================] - ETA: 0s - loss: 0.1587 - auc: 0.9640\n",
      "Epoch 9: val_auc did not improve from 0.92390\n",
      "\n",
      "Epoch 9: ReduceLROnPlateau reducing learning rate to 0.00040960004553198815.\n",
      "625/625 [==============================] - 3s 5ms/step - loss: 0.1587 - auc: 0.9640 - val_loss: 0.2189 - val_auc: 0.9361 - lr: 5.1200e-04\n",
      "Epoch 10/20\n",
      "614/625 [============================>.] - ETA: 0s - loss: 0.1549 - auc: 0.9657\n",
      "Epoch 10: val_auc did not improve from 0.92390\n",
      "625/625 [==============================] - 3s 5ms/step - loss: 0.1552 - auc: 0.9655 - val_loss: 0.3269 - val_auc: 0.9509 - lr: 4.0960e-04\n",
      "Epoch 11/20\n",
      "612/625 [============================>.] - ETA: 0s - loss: 0.1542 - auc: 0.9659\n",
      "Epoch 11: val_auc did not improve from 0.92390\n",
      "\n",
      "Epoch 11: ReduceLROnPlateau reducing learning rate to 0.00032768002711236477.\n",
      "625/625 [==============================] - 3s 5ms/step - loss: 0.1542 - auc: 0.9659 - val_loss: 0.1943 - val_auc: 0.9600 - lr: 4.0960e-04\n",
      "Epoch 12/20\n",
      "625/625 [==============================] - ETA: 0s - loss: 0.1514 - auc: 0.9676\n",
      "Epoch 12: val_auc did not improve from 0.92390\n",
      "625/625 [==============================] - 3s 5ms/step - loss: 0.1514 - auc: 0.9676 - val_loss: 0.1683 - val_auc: 0.9615 - lr: 3.2768e-04\n",
      "Epoch 13/20\n",
      "613/625 [============================>.] - ETA: 0s - loss: 0.1503 - auc: 0.9678\n",
      "Epoch 13: val_auc did not improve from 0.92390\n",
      "\n",
      "Epoch 13: ReduceLROnPlateau reducing learning rate to 0.0002621440216898918.\n",
      "625/625 [==============================] - 3s 5ms/step - loss: 0.1502 - auc: 0.9679 - val_loss: 0.1528 - val_auc: 0.9644 - lr: 3.2768e-04\n",
      "Epoch 14/20\n",
      "624/625 [============================>.] - ETA: 0s - loss: 0.1483 - auc: 0.9688\n",
      "Epoch 14: val_auc did not improve from 0.92390\n",
      "625/625 [==============================] - 3s 5ms/step - loss: 0.1483 - auc: 0.9688 - val_loss: 0.1587 - val_auc: 0.9619 - lr: 2.6214e-04\n",
      "Epoch 15/20\n",
      "620/625 [============================>.] - ETA: 0s - loss: 0.1458 - auc: 0.9702\n",
      "Epoch 15: val_auc did not improve from 0.92390\n",
      "\n",
      "Epoch 15: ReduceLROnPlateau reducing learning rate to 0.00020971521735191345.\n",
      "625/625 [==============================] - 3s 5ms/step - loss: 0.1458 - auc: 0.9702 - val_loss: 0.2120 - val_auc: 0.9463 - lr: 2.6214e-04\n",
      "Epoch 16/20\n",
      "621/625 [============================>.] - ETA: 0s - loss: 0.1445 - auc: 0.9709\n",
      "Epoch 16: val_auc did not improve from 0.92390\n",
      "625/625 [==============================] - 3s 5ms/step - loss: 0.1445 - auc: 0.9709 - val_loss: 0.2677 - val_auc: 0.9473 - lr: 2.0972e-04\n",
      "Epoch 17/20\n",
      "613/625 [============================>.] - ETA: 0s - loss: 0.1424 - auc: 0.9714\n",
      "Epoch 17: val_auc did not improve from 0.92390\n",
      "\n",
      "Epoch 17: ReduceLROnPlateau reducing learning rate to 0.00016777217388153076.\n",
      "625/625 [==============================] - 3s 5ms/step - loss: 0.1427 - auc: 0.9713 - val_loss: 0.1631 - val_auc: 0.9641 - lr: 2.0972e-04\n",
      "Epoch 18/20\n",
      "621/625 [============================>.] - ETA: 0s - loss: 0.1403 - auc: 0.9721\n",
      "Epoch 18: val_auc did not improve from 0.92390\n",
      "625/625 [==============================] - 3s 5ms/step - loss: 0.1402 - auc: 0.9722 - val_loss: 0.1612 - val_auc: 0.9622 - lr: 1.6777e-04\n",
      "Epoch 19/20\n",
      "624/625 [============================>.] - ETA: 0s - loss: 0.1404 - auc: 0.9727\n",
      "Epoch 19: val_auc did not improve from 0.92390\n",
      "\n",
      "Epoch 19: ReduceLROnPlateau reducing learning rate to 0.00013421773910522462.\n",
      "625/625 [==============================] - 3s 5ms/step - loss: 0.1403 - auc: 0.9727 - val_loss: 0.3189 - val_auc: 0.9472 - lr: 1.6777e-04\n",
      "Epoch 20/20\n",
      "615/625 [============================>.] - ETA: 0s - loss: 0.1391 - auc: 0.9734\n",
      "Epoch 20: val_auc did not improve from 0.92390\n",
      "625/625 [==============================] - 3s 5ms/step - loss: 0.1389 - auc: 0.9734 - val_loss: 0.1696 - val_auc: 0.9621 - lr: 1.3422e-04\n"
     ]
    }
   ],
   "source": [
    "# https://keras.io/api/models/model_training_apis/\n",
    "# https://www.tensorflow.org/api_docs/python/tf/keras/metrics/AUC\n",
    "\n",
    "EPOCHS = 20\n",
    "\n",
    "model_.compile(optimizer = 'adam', metrics = [auc], loss = 'BinaryCrossentropy')\n",
    "mod = model_.fit(X_train_pooled_output, y_train, epochs = EPOCHS, batch_size = 128,\n",
    "                    validation_data = (X_test_pooled_output, y_test), callbacks = CallBackList)"
   ]
  },
  {
   "cell_type": "code",
   "execution_count": 46,
   "metadata": {},
   "outputs": [
    {
     "data": {
      "image/png": "[encoded data removed]",
      "text/plain": [
       "<Figure size 1152x576 with 1 Axes>"
      ]
     },
     "metadata": {},
     "output_type": "display_data"
    }
   ],
   "source": [
    "epochs_ = np.arange(1, len(mod.history['auc']) + 1)\n",
    "plt.figure(figsize = (16, 8))\n",
    "sns.lineplot(y = 'auc', data = mod.history , x = epochs_, label = 'AUC', color = 'b',\n",
    "                                 marker = 'X', mfc = 'red', ms = 8)\n",
    "sns.lineplot(y = 'val_auc', data = mod.history , x = epochs_, label = 'Validation AUC',\n",
    "                                 color = 'g', marker = 'X', mfc = 'red', ms = 8)\n",
    "plt.axhline(0.95, color = '#E44CF6', label = '95% Threshold')\n",
    "plt.title('AUC vs Epochs')\n",
    "plt.xticks(epochs_)\n",
    "plt.yticks(np.arange(0.8, 1.01 , 0.02))\n",
    "plt.xlabel('Epochs') ; plt.ylabel('AUC')\n",
    "plt.legend(loc = 4) ; plt.show()"
   ]
  },
  {
   "cell_type": "markdown",
   "metadata": {
    "id": "kcILeYZI9pxm"
   },
   "source": [
    "<Pre><font size=6>Part-6: Creating a Data pipeline for BERT Model</font> \n",
    "1. Pipeline is a way to codify and automate the workflow.\n",
    "2. Download the test.csv file from here <a href=\"https://drive.google.com/file/d/1QwjqTsqTX2vdy7fTmeXjxP3dq8IAVLpo/view?usp=sharing\">here</a> </pre>\n"
   ]
  },
  {
   "cell_type": "code",
   "execution_count": 47,
   "metadata": {
    "id": "_74n3sgFjvlM"
   },
   "outputs": [],
   "source": [
    "# there is an alterante way to load files from Google drive directly to your Colab session\n",
    "# you can use gdown module to import the files as follows\n",
    "# for example for test.csv you can write your code as\n",
    "# !gdown --id file_id (remove the # from next line and run it)"
   ]
  },
  {
   "cell_type": "code",
   "execution_count": 48,
   "metadata": {
    "id": "kwv_BIV9xWt7"
   },
   "outputs": [
    {
     "data": {
      "text/html": [
       "<div>\n",
       "<style scoped>\n",
       "    .dataframe tbody tr th:only-of-type {\n",
       "        vertical-align: middle;\n",
       "    }\n",
       "\n",
       "    .dataframe tbody tr th {\n",
       "        vertical-align: top;\n",
       "    }\n",
       "\n",
       "    .dataframe thead th {\n",
       "        text-align: right;\n",
       "    }\n",
       "</style>\n",
       "<table border=\"1\" class=\"dataframe\">\n",
       "  <thead>\n",
       "    <tr style=\"text-align: right;\">\n",
       "      <th></th>\n",
       "      <th>Text</th>\n",
       "    </tr>\n",
       "  </thead>\n",
       "  <tbody>\n",
       "    <tr>\n",
       "      <th>0</th>\n",
       "      <td>Just opened Greenies Joint Care (individually ...</td>\n",
       "    </tr>\n",
       "    <tr>\n",
       "      <th>1</th>\n",
       "      <td>This product rocks :) My mom was very happy w/...</td>\n",
       "    </tr>\n",
       "    <tr>\n",
       "      <th>2</th>\n",
       "      <td>The product was fine, but the cost of shipping...</td>\n",
       "    </tr>\n",
       "  </tbody>\n",
       "</table>\n",
       "</div>"
      ],
      "text/plain": [
       "                                                Text\n",
       "0  Just opened Greenies Joint Care (individually ...\n",
       "1  This product rocks :) My mom was very happy w/...\n",
       "2  The product was fine, but the cost of shipping..."
      ]
     },
     "execution_count": 48,
     "metadata": {},
     "output_type": "execute_result"
    }
   ],
   "source": [
    "# read the csv file\n",
    "\n",
    "test_df = pd.read_csv('test.csv')\n",
    "test_df.head(3)"
   ]
  },
  {
   "cell_type": "markdown",
   "metadata": {
    "id": "-zii6hgejdhQ"
   },
   "source": [
    "<Pre>1. You have to write a function that takes the test_df,trained model and the required parameters as input. \n",
    "2. Perform all the preproceesing steps inside the function.\n",
    "- Remove all the html tags\n",
    "- Now do tokenization [Part 3 as mentioned above]\n",
    "- Create tokens,mask array and segment array\n",
    "- Get Embeddings from BERT Model [Part 4 as mentioned above] , let it be X_test\n",
    "- Print the shape of output(X_test.shape).You should get (352,768)\n",
    "3. Predit the output of X_test with the neural network model which we trained earlier.\n",
    "\n",
    "4. Return the occurences of class labels from the function.\n",
    "The output should be the count of datapoints classified as 1 or 0.\n",
    "\n",
    "</pre>"
   ]
  },
  {
   "cell_type": "code",
   "execution_count": 49,
   "metadata": {
    "id": "lQcoHbUKjgvF"
   },
   "outputs": [
    {
     "name": "stderr",
     "output_type": "stream",
     "text": [
      "100%|██████████| 352/352 [00:00<00:00, 2094.48it/s]\n"
     ]
    },
    {
     "name": "stdout",
     "output_type": "stream",
     "text": [
      "11/11 [==============================] - 1s 36ms/step\n",
      "\n",
      "Shape of \"X_test\" : (352, 768)\n",
      "\n",
      "11/11 [==============================] - 0s 1ms/step\n",
      "\n",
      "Calss Labels generated from \"test.csv\" :\n",
      "========================================\n",
      "[0 1 1 1 1 1 0 1 1 1]\n"
     ]
    }
   ],
   "source": [
    "# TensorFlow squeeze: Use tf squeeze to remove a dimension from Tensor\n",
    "# https://youtu.be/EZbaoGGJF2g?t=104\n",
    "\n",
    "def data_pipeline(df, NN_model):\n",
    "    \n",
    "    df['Text']  = df['Text'].apply(lambda text : re.sub(r'<.*?>', '', text))\n",
    "    Test_tokens, Test_mask, Test_segment = tokenize_data(df['Text'], max_seq_length)\n",
    "    X_test = bert_model.predict([Test_tokens, Test_mask, Test_segment])\n",
    "    if X_test.shape == (352, 768):\n",
    "        print(f'\\nShape of \"X_test\" : {X_test.shape}\\n')\n",
    "    test_model_pred = tf.squeeze(NN_model.predict(X_test))\n",
    "    return np.where(test_model_pred >= 0.5, 1, 0).tolist()\n",
    "\n",
    "test_pred = np.array((data_pipeline(test_df, model_)))\n",
    "print('\\nCalss Labels generated from \"test.csv\" :')\n",
    "print('=' * 40); print(test_pred[:10])"
   ]
  },
  {
   "cell_type": "code",
   "execution_count": 50,
   "metadata": {},
   "outputs": [
    {
     "data": {
      "image/png": "[encoded data removed]",
      "text/plain": [
       "<Figure size 432x576 with 1 Axes>"
      ]
     },
     "metadata": {},
     "output_type": "display_data"
    }
   ],
   "source": [
    "plt.figure(figsize = (6, 8))\n",
    "fig = sns.countplot(test_pred)\n",
    "for i in np.unique(test_pred):\n",
    "    fig.annotate((test_pred == i).sum(), (i - 0.05, (test_pred == i).sum() // 2))\n",
    "fig.set(title = 'Test Data')\n",
    "fig.set_xlabel('Labels')\n",
    "plt.show()"
   ]
  },
  {
   "cell_type": "markdown",
   "metadata": {
    "id": "pZc7XTQOxcIO"
   },
   "source": [
    "## Please write your observations at the end of notebook and  explain each and every step you followed in solving this assignment."
   ]
  },
  {
   "cell_type": "markdown",
   "metadata": {},
   "source": [
    "## **Observations**"
   ]
  },
  {
   "cell_type": "code",
   "execution_count": 51,
   "metadata": {},
   "outputs": [
    {
     "name": "stdout",
     "output_type": "stream",
     "text": [
      "+---------------------+---------------------------+--------------+-----------------------------------+\n",
      "| Max.Train AUC Score | Max. Validation AUC Score | No.of Epochs | No.of times learning rate changed |\n",
      "+---------------------+---------------------------+--------------+-----------------------------------+\n",
      "|        0.9734       |           0.9644          |      20      |                 9                 |\n",
      "+---------------------+---------------------------+--------------+-----------------------------------+\n"
     ]
    }
   ],
   "source": [
    "from prettytable import PrettyTable\n",
    "\n",
    "x = PrettyTable()\n",
    "\n",
    "max_auc = round(max(mod.history['auc']), 4)\n",
    "max_val_auc = round(max(mod.history['val_auc']), 4)\n",
    "no_lr_change = len(set(mod.history['lr'])) - 1\n",
    "\n",
    "x.field_names = ['Max.Train AUC Score', 'Max. Validation AUC Score',\n",
    "                                 'No.of Epochs', 'No.of times learning rate changed']\n",
    "x.add_row([max_auc, max_val_auc, EPOCHS, no_lr_change])\n",
    "\n",
    "print(x)"
   ]
  },
  {
   "cell_type": "markdown",
   "metadata": {},
   "source": [
    "1. The given dataset `reviews.csv` is a highly unbalanced one.Beause of which a high AUC got during training.\n",
    "2. On training the learning rate was frquently getting reduced with the help of `ReduceLROnPlateau` function.\n",
    "3. The train score is constantly increasing and while the test scores were jumping with small deviations.\n",
    "4. The result from `test.csv` also seems unbalanced one. More class points are for label 1."
   ]
  },
  {
   "cell_type": "markdown",
   "metadata": {},
   "source": [
    "**<font color='red'>Epoch AUC</font>**\n",
    "<img src = 'https://i.imgur.com/jGd0J3K.png'><br><br><br>\n",
    "\n",
    "**<font color='red'>Evaluation AUV vs Iterations</font>**\n",
    "<img src = 'https://i.imgur.com/5nYrGpN.png'><br><br><br>\n",
    "\n",
    "**<font color='red'>Epoch Loss</font>**\n",
    "<img src = 'https://i.imgur.com/motxTQk.png'><br><br><br>\n",
    "\n",
    "**<font color='red'>Graph</font>**\n",
    "<img src = 'https://i.imgur.com/Lk9H947.png'>\n",
    "\n"
   ]
  }
 ],
 "metadata": {
  "colab": {
   "collapsed_sections": [],
   "name": " BERT- Assignment_modified.ipynb",
   "provenance": []
  },
  "kernelspec": {
   "display_name": "Python 3 (ipykernel)",
   "language": "python",
   "name": "python3"
  },
  "language_info": {
   "codemirror_mode": {
    "name": "ipython",
    "version": 3
   },
   "file_extension": ".py",
   "mimetype": "text/x-python",
   "name": "python",
   "nbconvert_exporter": "python",
   "pygments_lexer": "ipython3",
   "version": "3.8.13"
  }
 },
 "nbformat": 4,
 "nbformat_minor": 4
}
