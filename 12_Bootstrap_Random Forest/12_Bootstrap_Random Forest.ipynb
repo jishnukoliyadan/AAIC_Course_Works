{
 "cells": [
  {
   "cell_type": "markdown",
   "metadata": {
    "id": "3sNKZq4XrXQh"
   },
   "source": [
    "# <font color='red'><b>Bootstrap assignment</b> </font>"
   ]
  },
  {
   "cell_type": "markdown",
   "metadata": {
    "id": "RAHap1Z3FZC-"
   },
   "source": [
    "<b>There will be some functions that start with the word \"grader\" ex: grader_sampples(), grader_30().. etc, you should not change those function definition.\n",
    "\n",
    "Every Grader function has to return True."
   ]
  },
  {
   "cell_type": "markdown",
   "metadata": {
    "id": "cuxBq_bvrwh2"
   },
   "source": [
    "<font color='blue'> <b>Importing packages</b> </font>"
   ]
  },
  {
   "cell_type": "code",
   "execution_count": 1,
   "metadata": {
    "id": "m6ag91ijrQOs"
   },
   "outputs": [],
   "source": [
    "import numpy as np # importing numpy for numerical computation\n",
    "\n",
    "from sklearn.datasets import load_boston # here we are using sklearn's boston dataset\n",
    "from sklearn.metrics import mean_squared_error # importing mean_squared_error metric\n",
    "\n",
    "import numpy as np\n",
    "import pandas as pd\n",
    "import seaborn as sns\n",
    "import matplotlib.pyplot as plt\n",
    "\n",
    "from sklearn.tree import DecisionTreeRegressor\n",
    "\n",
    "# ignoring python warnings\n",
    "import warnings\n",
    "warnings.filterwarnings(\"ignore\")"
   ]
  },
  {
   "cell_type": "code",
   "execution_count": 2,
   "metadata": {
    "id": "CcHOsONTt1K_"
   },
   "outputs": [],
   "source": [
    "boston = load_boston()\n",
    "x = boston.data #independent variables\n",
    "y = boston.target #target variable"
   ]
  },
  {
   "cell_type": "markdown",
   "metadata": {},
   "source": [
    "<img src='https://i.imgur.com/HGOtFpm.png'>"
   ]
  },
  {
   "cell_type": "code",
   "execution_count": 3,
   "metadata": {
    "colab": {
     "base_uri": "https://localhost:8080/",
     "height": 34
    },
    "id": "pc1htEFYuLRj",
    "outputId": "f5b60712-98b3-4cdc-b629-3546c1e3859c"
   },
   "outputs": [
    {
     "data": {
      "text/plain": [
       "(506, 13)"
      ]
     },
     "execution_count": 3,
     "metadata": {},
     "output_type": "execute_result"
    }
   ],
   "source": [
    "x.shape"
   ]
  },
  {
   "cell_type": "code",
   "execution_count": 4,
   "metadata": {
    "colab": {
     "base_uri": "https://localhost:8080/",
     "height": 269
    },
    "id": "kQle3T_wuOa3",
    "outputId": "521c7bdd-5316-48d5-c534-b61d170d2c28"
   },
   "outputs": [
    {
     "data": {
      "text/plain": [
       "array([[6.3200e-03, 1.8000e+01, 2.3100e+00, 0.0000e+00, 5.3800e-01,\n",
       "        6.5750e+00, 6.5200e+01, 4.0900e+00, 1.0000e+00, 2.9600e+02,\n",
       "        1.5300e+01, 3.9690e+02, 4.9800e+00],\n",
       "       [2.7310e-02, 0.0000e+00, 7.0700e+00, 0.0000e+00, 4.6900e-01,\n",
       "        6.4210e+00, 7.8900e+01, 4.9671e+00, 2.0000e+00, 2.4200e+02,\n",
       "        1.7800e+01, 3.9690e+02, 9.1400e+00],\n",
       "       [2.7290e-02, 0.0000e+00, 7.0700e+00, 0.0000e+00, 4.6900e-01,\n",
       "        7.1850e+00, 6.1100e+01, 4.9671e+00, 2.0000e+00, 2.4200e+02,\n",
       "        1.7800e+01, 3.9283e+02, 4.0300e+00],\n",
       "       [3.2370e-02, 0.0000e+00, 2.1800e+00, 0.0000e+00, 4.5800e-01,\n",
       "        6.9980e+00, 4.5800e+01, 6.0622e+00, 3.0000e+00, 2.2200e+02,\n",
       "        1.8700e+01, 3.9463e+02, 2.9400e+00],\n",
       "       [6.9050e-02, 0.0000e+00, 2.1800e+00, 0.0000e+00, 4.5800e-01,\n",
       "        7.1470e+00, 5.4200e+01, 6.0622e+00, 3.0000e+00, 2.2200e+02,\n",
       "        1.8700e+01, 3.9690e+02, 5.3300e+00]])"
      ]
     },
     "execution_count": 4,
     "metadata": {},
     "output_type": "execute_result"
    }
   ],
   "source": [
    "x[:5]"
   ]
  },
  {
   "cell_type": "markdown",
   "metadata": {
    "id": "AEa_HqRZloH4"
   },
   "source": [
    "## <font color='red'><b>Task 1</b></font>"
   ]
  },
  {
   "cell_type": "markdown",
   "metadata": {
    "id": "YQ5q8IxHNRk3"
   },
   "source": [
    "<font color='red'> <b>Step - 1</b></font>"
   ]
  },
  {
   "cell_type": "markdown",
   "metadata": {
    "id": "GJCFCaOzl7Mr"
   },
   "source": [
    "*  <font color='blue'><b>Creating samples</b></font><br>\n",
    "    <b> Randomly create 30 samples from the whole boston data points</b>\n",
    "    *  Creating each sample: Consider any random 303(60% of 506) data points from whole data set and then replicate any 203 points from the sampled points\n",
    "    \n",
    "     For better understanding of this procedure lets check this examples, assume we have 10 data points [1,2,3,4,5,6,7,8,9,10], first we take 6 data points randomly , consider we have selected [4, 5, 7, 8, 9, 3] now we will replicate 4 points from [4, 5, 7, 8, 9, 3], consder they are [5, 8, 3,7] so our final sample will be [4, 5, 7, 8, 9, 3, 5, 8, 3,7]\n",
    "* <font color='blue'><b> Create 30 samples </b></font>\n",
    "    *  Note that as a part of the Bagging when you are taking the random samples <b>make sure each of the sample will have different set of columns</b><br>\n",
    "Ex: Assume we have 10 columns[1 ,2 ,3 ,4 ,5 ,6 ,7 ,8 ,9 ,10] for the first sample we will select [3, 4, 5, 9, 1, 2] and for the second sample  [7, 9, 1, 4, 5, 6, 2] and so on...\n",
    "Make sure each sample will have atleast 3 feautres/columns/attributes\n",
    "\n",
    "* <font color='red'><b> Note - While selecting the random 60% datapoints from the whole data, make sure that the selected datapoints are all exclusive, repetition is not allowed. </b></font>"
   ]
  },
  {
   "cell_type": "markdown",
   "metadata": {
    "id": "zUqFEBSvNjCa"
   },
   "source": [
    "<font color='red'><b>Step - 2 </b></font>"
   ]
  },
  {
   "cell_type": "markdown",
   "metadata": {
    "id": "uqi9AhCYNq3Z"
   },
   "source": [
    "<font color='blue'><b>Building High Variance Models on each of the sample and finding train MSE value</b></font>"
   ]
  },
  {
   "cell_type": "markdown",
   "metadata": {
    "id": "-lLBnZHXOFln"
   },
   "source": [
    "*  Build a regression trees on each of 30 samples.\n",
    "*  Computed the predicted values of each data point(506 data points) in your corpus.\n",
    "*  Predicted house price of $i^{th}$ data point $y^{i}_{pred} =  \\frac{1}{30}\\sum_{k=1}^{30}(\\text{predicted value of } x^{i} \\text{ with } k^{th} \\text{ model})$\n",
    "*  Now calculate the $MSE =  \\frac{1}{506}\\sum_{i=1}^{506}(y^{i} - y^{i}_{pred})^{2}$"
   ]
  },
  {
   "cell_type": "markdown",
   "metadata": {
    "id": "Kls23JLnSN23"
   },
   "source": [
    "<font color='red'> <b>Step - 3 </b></font>"
   ]
  },
  {
   "cell_type": "markdown",
   "metadata": {
    "id": "rz2GchkGSWnh"
   },
   "source": [
    "*  <font color='blue'><b>Calculating the OOB score </b></font>"
   ]
  },
  {
   "cell_type": "markdown",
   "metadata": {
    "id": "DGHkVV2kSibm"
   },
   "source": [
    "*  Predicted house price of $i^{th}$ data point $y^{i}_{pred} =  \\frac{1}{k}\\sum_{\\text{k= model which was buit on samples not included } x^{i}}(\\text{predicted value of } x^{i} \\text{ with } k^{th} \\text{ model})$.\n",
    "*  Now calculate the $OOB Score =  \\frac{1}{506}\\sum_{i=1}^{506}(y^{i} - y^{i}_{pred})^{2}$."
   ]
  },
  {
   "cell_type": "markdown",
   "metadata": {
    "id": "RK860ocxTyoz"
   },
   "source": [
    "# <font color='red'><b>Task 2</b></font>"
   ]
  },
  {
   "cell_type": "markdown",
   "metadata": {
    "id": "1dme-N6TUCrY"
   },
   "source": [
    "*  <font color='blue'><b>Computing CI of OOB Score and Train MSE</b></font>\n",
    "  *   Repeat Task 1 for 35 times, and for each iteration store the Train MSE and OOB score </li>\n",
    "<li> After this we will have 35 Train MSE values and 35 OOB scores </li>\n",
    "<li> using these 35 values (assume like a sample) find the confidence intravels of MSE and OOB Score </li>\n",
    "<li> you need to report CI of MSE and CI of OOB Score </li>\n",
    "<li> Note: Refer the Central_Limit_theorem.ipynb to check how to find the confidence intravel</li>\n",
    "</ol>"
   ]
  },
  {
   "cell_type": "markdown",
   "metadata": {
    "id": "O6UcH1x9Uwrj"
   },
   "source": [
    "# <font color='red'><b>Task 3</b></font>"
   ]
  },
  {
   "cell_type": "markdown",
   "metadata": {
    "id": "bOC_AgsLU7OH"
   },
   "source": [
    "*  <font color='blue'><b>Given a single query point predict the price of house.</b></font>"
   ]
  },
  {
   "cell_type": "markdown",
   "metadata": {
    "id": "HYs5jSFdVILe"
   },
   "source": [
    "Consider xq= [0.18,20.0,5.00,0.0,0.421,5.60,72.2,7.95,7.0,30.0,19.1,372.13,18.60] \n",
    "Predict the house price for this point as mentioned in the step 2 of Task 1."
   ]
  },
  {
   "cell_type": "markdown",
   "metadata": {
    "id": "u6rShd89t552"
   },
   "source": [
    "## <font color='red'><b>A few key points</b></font>"
   ]
  },
  {
   "cell_type": "markdown",
   "metadata": {
    "id": "XdgTUXTouHEd"
   },
   "source": [
    "* Remember that the datapoints used for calculating MSE score contain some datapoints that were initially used while training the base learners (the 60% sampling). This makes these datapoints partially seen (i.e. the datapoints used for calculating the MSE score are a mixture of seen and unseen data).\n",
    "Whereas, the datapoints used for calculating OOB score have only the unseen data. This makes these datapoints completely unseen and therefore appropriate for testing the model's performance on unseen data.\n",
    "\n",
    "* Given the information above, if your logic is correct, the calculated MSE score should be less than the OOB score.\n",
    "\n",
    "* The MSE score must lie between 0 and 10.\n",
    "* The OOB score must lie between 10 and 35.\n",
    "\n",
    "* The difference between the left nad right confidence-interval values must not be more than 10. Make sure this is true for both MSE and OOB confidence-interval values."
   ]
  },
  {
   "cell_type": "markdown",
   "metadata": {
    "id": "V2fHTdS_zpgG"
   },
   "source": [
    "# <font color='blue'> <b>Task - 1</b></font>"
   ]
  },
  {
   "cell_type": "markdown",
   "metadata": {
    "id": "e0yGBuryOwHz"
   },
   "source": [
    "<font color='blue'><b>Step - 1</b></font>"
   ]
  },
  {
   "cell_type": "markdown",
   "metadata": {
    "id": "lJXX8vf3z073"
   },
   "source": [
    "*  <font color='blue'> <b>Creating samples</b></font>"
   ]
  },
  {
   "cell_type": "markdown",
   "metadata": {
    "id": "CSVaWG1F4uCZ"
   },
   "source": [
    "<font color='Orange'><b>Algorithm</b></font>\n",
    "\n",
    "<img src=\"https://i.imgur.com/OfcFrUP.jpg\">"
   ]
  },
  {
   "cell_type": "markdown",
   "metadata": {
    "id": "f_oWoN97BhDY"
   },
   "source": [
    "*  <font color='blue'><b> Write code for generating samples</b></font>"
   ]
  },
  {
   "cell_type": "code",
   "execution_count": 5,
   "metadata": {
    "id": "Ph_6D2SDzz7F"
   },
   "outputs": [],
   "source": [
    "# https://numpy.org/doc/stable/reference/random/generated/numpy.random.choice.html\n",
    "# https://www.pythonprogramming.in/selecting-specific-rows-and-columns-from-numpy-array.html\n",
    "\n",
    "def generating_samples(input_data, target_data):\n",
    "    \n",
    "    selected_rows = np.random.choice(len(input_data), 303, replace = False)\n",
    "    replicated_rows = np.random.choice(selected_rows, 203, replace = True)\n",
    "    \n",
    "#     https://stackoverflow.com/a/62956993\n",
    "    sampled_row_indices = np.concatenate((selected_rows, replicated_rows))\n",
    "#     print(f'{len(selected_rows)}, {len(replicating_rows)}, {len(sampled_row_indices)}')  \n",
    "\n",
    "    no_of_columns = np.random.randint(3, 13)\n",
    "    selected_columns = np.random.choice(13, no_of_columns , replace = False)\n",
    "#     print(f'{no_of_columns}, {len(selected_columns)}, {selected_columns}')\n",
    "\n",
    "    sampled_input_data = input_data[sampled_row_indices[:,None], selected_columns]\n",
    "#     print(sampled_input_data.shape)\n",
    "    sampled_target_data = target_data[sampled_row_indices]\n",
    "    \n",
    "    return sampled_input_data , sampled_target_data, selected_rows, selected_columns"
   ]
  },
  {
   "cell_type": "markdown",
   "metadata": {
    "id": "MivEQFlm7iOg"
   },
   "source": [
    "<font color='cyan'> <b> Grader function - 1 </b> </fongt>"
   ]
  },
  {
   "cell_type": "code",
   "execution_count": 6,
   "metadata": {
    "id": "AVvuhNzm7uld"
   },
   "outputs": [
    {
     "data": {
      "text/plain": [
       "True"
      ]
     },
     "execution_count": 6,
     "metadata": {},
     "output_type": "execute_result"
    }
   ],
   "source": [
    "def grader_samples(a,b,c,d):\n",
    "    length = (len(a)==506  and len(b)==506)\n",
    "    sampled = (len(a)-len(set([str(i) for i in a]))==203)\n",
    "    rows_length = (len(c)==303)\n",
    "    column_length= (len(d)>=3)\n",
    "    assert(length and sampled and rows_length and column_length)\n",
    "    return True\n",
    "a,b,c,d = generating_samples(x, y)\n",
    "grader_samples(a,b,c,d)"
   ]
  },
  {
   "cell_type": "markdown",
   "metadata": {
    "id": "b4LSsmn4Jn2_"
   },
   "source": [
    "*  <font color='blue'> <b>Create 30 samples </b>"
   ]
  },
  {
   "cell_type": "markdown",
   "metadata": {
    "id": "3ec7MN6sL2BZ"
   },
   "source": [
    "<img src='https://i.imgur.com/p8eZaWL.jpg'>"
   ]
  },
  {
   "cell_type": "markdown",
   "metadata": {
    "id": "XXlKWjCcBvTk"
   },
   "source": [
    "```py\n",
    "# Use generating_samples function to create 30 samples \n",
    "# store these created samples in a list\n",
    "list_input_data =[]\n",
    "list_output_data =[]\n",
    "list_selected_row= []\n",
    "list_selected_columns=[]\n",
    "\n",
    "for i in range (30):\n",
    "    a, b, c, d = generating_samples(x, y)\n",
    "    list_input_data.append(a)\n",
    "    list_output_data.append(b)\n",
    "    list_selected_row.append(c)\n",
    "    list_selected_columns.append(d)\n",
    "    \n",
    "# print(len(list_input_data))\n",
    "# print(len(list_output_data))\n",
    "# print(len(list_selected_row))\n",
    "# print(len(list_selected_columns))\n",
    "```"
   ]
  },
  {
   "cell_type": "code",
   "execution_count": 7,
   "metadata": {},
   "outputs": [
    {
     "name": "stdout",
     "output_type": "stream",
     "text": [
      "30\n",
      "30\n",
      "30\n",
      "30\n"
     ]
    }
   ],
   "source": [
    "# Use generating_samples function to create 30 samples \n",
    "# store these created samples in a list\n",
    "\n",
    "def create_30_samples(X, Y):\n",
    "    \n",
    "    '''In this function, we will write code for generating 30 samples '''\n",
    "    \n",
    "    input_data =[]\n",
    "    output_data =[]\n",
    "    selected_row= []\n",
    "    selected_columns=[]\n",
    "\n",
    "    for i in range (30):\n",
    "        a, b, c, d = generating_samples(X, Y)\n",
    "        input_data.append(a)\n",
    "        output_data.append(b)\n",
    "        selected_row.append(c)\n",
    "        selected_columns.append(d)\n",
    "    \n",
    "    return input_data, output_data, selected_row, selected_columns\n",
    "\n",
    "list_input_data, list_output_data, list_selected_row, list_selected_columns = create_30_samples(x, y)\n",
    "\n",
    "print(len(list_input_data))\n",
    "print(len(list_output_data))\n",
    "print(len(list_selected_row))\n",
    "print(len(list_selected_columns))"
   ]
  },
  {
   "cell_type": "markdown",
   "metadata": {
    "id": "MXUz9VFiMQkh"
   },
   "source": [
    "<font color='cyan'> <b>Grader function - 2 </b></font>"
   ]
  },
  {
   "cell_type": "code",
   "execution_count": 8,
   "metadata": {
    "id": "hCvIq8NuMWOC",
    "scrolled": true
   },
   "outputs": [
    {
     "data": {
      "text/plain": [
       "True"
      ]
     },
     "execution_count": 8,
     "metadata": {},
     "output_type": "execute_result"
    }
   ],
   "source": [
    "def grader_30(a):\n",
    "    assert(len(a)==30 and len(a[0])==506)\n",
    "    return True\n",
    "grader_30(list_input_data)"
   ]
  },
  {
   "cell_type": "markdown",
   "metadata": {
    "id": "whaHCPB0O8qF"
   },
   "source": [
    "<font color='red'><b>Step - 2 </b></font>"
   ]
  },
  {
   "cell_type": "markdown",
   "metadata": {
    "id": "XBy4zXSWPtU8"
   },
   "source": [
    "<font color='orange'><b>Flowchart for building tree</b></font>"
   ]
  },
  {
   "cell_type": "markdown",
   "metadata": {
    "id": "5xvH06HPQBdP"
   },
   "source": [
    "<img src='https://i.imgur.com/pcXfSmp.png'>"
   ]
  },
  {
   "cell_type": "markdown",
   "metadata": {
    "id": "WRwPO_uHQjul"
   },
   "source": [
    "*  <font color='blue'><b> Write code for building regression trees</b></font>"
   ]
  },
  {
   "cell_type": "markdown",
   "metadata": {
    "id": "YWQp6tRwMthq"
   },
   "source": [
    "```py\n",
    "# https://scikit-learn.org/stable/modules/generated/sklearn.tree.DecisionTreeRegressor.html\n",
    "\n",
    "list_of_all_models = []\n",
    "\n",
    "for i in range(30):\n",
    "    \n",
    "    model = f'dt_model_{i}'\n",
    "    model = DecisionTreeRegressor(max_depth = None)\n",
    "    model.fit(list_input_data[i], list_output_data[i])\n",
    "    \n",
    "    list_of_all_models.append(model)\n",
    "```"
   ]
  },
  {
   "cell_type": "code",
   "execution_count": 9,
   "metadata": {
    "id": "YWQp6tRwMthq"
   },
   "outputs": [],
   "source": [
    "# https://scikit-learn.org/stable/modules/generated/sklearn.tree.DecisionTreeRegressor.html\n",
    "\n",
    "def create_30_models(list_input_data, list_output_data):\n",
    "    \n",
    "    model_list = []\n",
    "\n",
    "    for i in range(30):\n",
    "\n",
    "        model = f'dt_model_{i}'\n",
    "        model = DecisionTreeRegressor(max_depth = None)\n",
    "        model.fit(list_input_data[i], list_output_data[i])\n",
    "\n",
    "        model_list.append(model)\n",
    "        \n",
    "    return model_list\n",
    "\n",
    "list_of_all_models = create_30_models(list_input_data, list_output_data)"
   ]
  },
  {
   "cell_type": "markdown",
   "metadata": {
    "id": "21j8BKfAQ1U8"
   },
   "source": [
    "<font color='orange'><b>Flowchart for calculating MSE </b></font>"
   ]
  },
  {
   "cell_type": "markdown",
   "metadata": {
    "id": "8Q0mTBD2RBx_"
   },
   "source": [
    "<img src = 'https://i.imgur.com/sPEE618.png'>"
   ]
  },
  {
   "cell_type": "markdown",
   "metadata": {
    "id": "-lLBnZHXOFln"
   },
   "source": [
    "*  Predicted house price of $i^{th}$ data point $y^{i}_{pred} =  \\frac{1}{30}\\sum_{k=1}^{30}(\\text{predicted value of } x^{i} \\text{ with } k^{th} \\text{ model})$\n",
    "*  Now calculate the $MSE =  \\frac{1}{506}\\sum_{i=1}^{506}(y^{i} - y^{i}_{pred})^{2}$"
   ]
  },
  {
   "cell_type": "markdown",
   "metadata": {
    "id": "6e-UamlHRjPy"
   },
   "source": [
    "After getting predicted_y for each data point, we can use sklearns mean_squared_error to calculate the MSE between predicted_y and actual_y."
   ]
  },
  {
   "cell_type": "markdown",
   "metadata": {
    "id": "TnIMT7_oR312"
   },
   "source": [
    "*  <font color='blue'><b> Write code for calculating MSE</b></font>"
   ]
  },
  {
   "cell_type": "markdown",
   "metadata": {
    "id": "qWhcvMRWRA9b"
   },
   "source": [
    "```py\n",
    "# https://scikit-learn.org/stable/modules/generated/sklearn.metrics.mean_squared_error.html\n",
    "# https://numpy.org/doc/stable/reference/generated/numpy.mean.html\n",
    "\n",
    "array_of_y = []\n",
    "\n",
    "for i in range(30):\n",
    "    \n",
    "    y_hat = list_of_all_models[i].predict(x[:,list_selected_columns[i]])\n",
    "    array_of_y.append(y_hat)\n",
    "\n",
    "np_array_of_y = np.array(array_of_y)\n",
    "# np_array_of_y.shape == (30, 506), So taking transpose\n",
    "np_array_of_y = np_array_of_y.transpose()\n",
    "\n",
    "\n",
    "mean_pred_y_hat = np.mean(np_array_of_y, axis=1)\n",
    "\n",
    "print(f'Mean Square Error (MSE) : {mean_squared_error(y, mean_pred_y_hat)}')\n",
    "```"
   ]
  },
  {
   "cell_type": "code",
   "execution_count": 10,
   "metadata": {
    "id": "qWhcvMRWRA9b"
   },
   "outputs": [
    {
     "name": "stdout",
     "output_type": "stream",
     "text": [
      "Mean Square Error (MSE) : 2.897648348357203\n"
     ]
    }
   ],
   "source": [
    "# https://scikit-learn.org/stable/modules/generated/sklearn.metrics.mean_squared_error.html\n",
    "# https://numpy.org/doc/stable/reference/generated/numpy.mean.html\n",
    "\n",
    "def calculate_MSE(list_of_all_models, list_selected_columns, Y):\n",
    "    \n",
    "    array_of_y = []\n",
    "\n",
    "    for i in range(30):\n",
    "\n",
    "        y_hat = list_of_all_models[i].predict(x[:,list_selected_columns[i]])\n",
    "        array_of_y.append(y_hat)\n",
    "\n",
    "    np_array_of_y = np.array(array_of_y)\n",
    "    \n",
    "    # np_array_of_y.shape == (30, 506), So taking transpose\n",
    "    np_array_of_y = np_array_of_y.transpose()\n",
    "\n",
    "\n",
    "    mean_pred_y_hat = np.mean(np_array_of_y, axis=1)\n",
    "    \n",
    "    mse = mean_squared_error(Y, mean_pred_y_hat)\n",
    "    \n",
    "    return mse\n",
    "\n",
    "mse = calculate_MSE(list_of_all_models, list_selected_columns, y)\n",
    "\n",
    "print(f'Mean Square Error (MSE) : {mse}')"
   ]
  },
  {
   "cell_type": "markdown",
   "metadata": {
    "id": "RuclPDMnSz8F"
   },
   "source": [
    "<font color='blue'><b>Step - 3 </b></font>"
   ]
  },
  {
   "cell_type": "markdown",
   "metadata": {
    "id": "ESb9FSIDTM5V"
   },
   "source": [
    "<font color='orange'><b>Flowchart for calculating OOB score</b></font>"
   ]
  },
  {
   "cell_type": "markdown",
   "metadata": {
    "id": "HB-d6NMETbd9"
   },
   "source": [
    "<img src = 'https://i.imgur.com/95S5Mtm.png'>"
   ]
  },
  {
   "cell_type": "markdown",
   "metadata": {
    "id": "WW3GOcFzTqbt"
   },
   "source": [
    "Now calculate the $OOB Score =  \\frac{1}{506}\\sum_{i=1}^{506}(y^{i} - y^{i}_{pred})^{2}$."
   ]
  },
  {
   "cell_type": "markdown",
   "metadata": {
    "id": "zBqcS03pUYSZ"
   },
   "source": [
    "*  <font color='blue'><b> Write code for calculating OOB score </b></font>"
   ]
  },
  {
   "cell_type": "markdown",
   "metadata": {},
   "source": [
    "```py\n",
    "mean_y_hat_list = []\n",
    "\n",
    "for x_i in range(x.shape[0]):\n",
    "    oob_indices = []\n",
    "    for oob_idx in range(30):\n",
    "        if x_i not in list_selected_row[oob_idx]: \n",
    "            oob_indices.append(oob_idx)\n",
    "            \n",
    "    y_hat_oob = []\n",
    "\n",
    "    for oob_idx in oob_indices:\n",
    "        model = list_of_all_models[oob_idx]\n",
    "        row_ = x[x_i] \n",
    "        r_data_points = [row_[col] for col in list_selected_columns[oob_idx]]\n",
    "\n",
    "        y_predicted_oob = model.predict([r_data_points])\n",
    "        y_hat_oob.append(y_predicted_oob)\n",
    "    \n",
    "    mean_y_hat = np.mean(y_hat_oob)\n",
    "    mean_y_hat_list.append(mean_y_hat)\n",
    "\n",
    "print(f'OOB Score : {mean_squared_error(y, mean_y_hat_list)}')\n",
    "```"
   ]
  },
  {
   "cell_type": "code",
   "execution_count": 11,
   "metadata": {},
   "outputs": [
    {
     "name": "stdout",
     "output_type": "stream",
     "text": [
      "OOB Score : 16.13815440071269\n"
     ]
    }
   ],
   "source": [
    "def OOB_Scores(X, selected_row, all_models, selected_columns, Y):\n",
    "    \n",
    "    mean_y_hat_list = []\n",
    "    \n",
    "    for x_i in range(X.shape[0]):\n",
    "        oob_indices = []\n",
    "        for oob_idx in range(30):\n",
    "            if x_i not in selected_row[oob_idx]: \n",
    "                oob_indices.append(oob_idx)\n",
    "\n",
    "        y_hat_oob = []\n",
    "\n",
    "        for oob_idx in oob_indices:\n",
    "            model = all_models[oob_idx]\n",
    "            row_ = x[x_i] \n",
    "            r_data_points = [row_[col] for col in selected_columns[oob_idx]]\n",
    "\n",
    "            y_predicted_oob = model.predict([r_data_points])\n",
    "            y_hat_oob.append(y_predicted_oob)\n",
    "\n",
    "        mean_y_hat = np.mean(y_hat_oob)\n",
    "        mean_y_hat_list.append(mean_y_hat)\n",
    "    \n",
    "    oob_score = mean_squared_error(Y, mean_y_hat_list)\n",
    "        \n",
    "    return oob_score\n",
    "\n",
    "oob_score = OOB_Scores(x, list_selected_row, list_of_all_models, list_selected_columns, y)\n",
    "\n",
    "print(f'OOB Score : {oob_score}')"
   ]
  },
  {
   "cell_type": "markdown",
   "metadata": {},
   "source": [
    "### <font color='red'>Observation</font>\n",
    "- We are randomly sampling datapoints from input dataset using `generating_samples()` function.\n",
    "- To create such 30 samples we used `create_30_samples()` function (creating samples by sampling rown and columns).\n",
    "- The function `create_30_models()` helping us to create **30** `DecisionTreeRegressor()` models for our **RandomForest** implementation. Here we are generating fully grown tree to ensure the maximumvarience from the model.\n",
    "- As a measure to measure error, we uses `mean square error` function from sk-learn.\n",
    "- Since we are only used 303 datapoints from our dataset to create samples, we are considering the rest data points as `Out of bags samples`. Using this OOB samples, similar to the above we are calculating `mean square error` by treating OOB as cross validation set.\n",
    "- The OOBs MSE Score (16.138) shows a higher value than ramdom sampled MSE (2.897) score, because OOB datapoints are not seen by the model."
   ]
  },
  {
   "cell_type": "markdown",
   "metadata": {
    "id": "sbuiwX3OUjUI"
   },
   "source": [
    "# <font color='blue'><b>Task 2</b></font>"
   ]
  },
  {
   "cell_type": "markdown",
   "metadata": {},
   "source": [
    "*  <font color='blue'><b>Computing CI of OOB Score and Train MSE</b></font>\n",
    "  *   Repeat Task 1 for 35 times, and for each iteration store the Train MSE and OOB score </li>\n",
    "<li> After this we will have 35 Train MSE values and 35 OOB scores </li>\n",
    "<li> using these 35 values (assume like a sample) find the confidence intravels of MSE and OOB Score </li>\n",
    "<li> you need to report CI of MSE and CI of OOB Score </li>\n",
    "<li> Note: Refer the Central_Limit_theorem.ipynb to check how to find the confidence intravel</li>\n",
    "</ol>"
   ]
  },
  {
   "cell_type": "code",
   "execution_count": 12,
   "metadata": {
    "id": "ceW5-D88Uswi"
   },
   "outputs": [
    {
     "name": "stdout",
     "output_type": "stream",
     "text": [
      "Length of MSE list       : 35\n",
      "Length of OOB Score list : 35\n"
     ]
    }
   ],
   "source": [
    "mse_list = []\n",
    "oob_score_list = []\n",
    "\n",
    "for i in range(35):\n",
    "\n",
    "    list_input_data, list_output_data, list_selected_row, list_selected_columns = create_30_samples(x, y)\n",
    "\n",
    "    list_of_all_models = create_30_models(list_input_data, list_output_data)\n",
    "\n",
    "    mse = calculate_MSE(list_of_all_models, list_selected_columns, y)\n",
    "    \n",
    "    mse_list.append(mse)\n",
    "\n",
    "    oob_score = OOB_Scores(x, list_selected_row, list_of_all_models, list_selected_columns, y)\n",
    "    \n",
    "    oob_score_list.append(oob_score)\n",
    "    \n",
    "print(f'Length of MSE list       : {len(mse_list)}')\n",
    "print(f'Length of OOB Score list : {len(oob_score_list)}')"
   ]
  },
  {
   "cell_type": "markdown",
   "metadata": {},
   "source": [
    "<img src='https://i.imgur.com/Y9Ue20J.png'>\n",
    "\n",
    "- The difference between the left nad right confidence-interval values must not be more than 10. Make sure this is true for both MSE and OOB confidence-interval values."
   ]
  },
  {
   "cell_type": "code",
   "execution_count": 13,
   "metadata": {
    "scrolled": false
   },
   "outputs": [
    {
     "name": "stdout",
     "output_type": "stream",
     "text": [
      "MSE Values\n",
      "----------\n",
      "s_mean value\t\t= 2.5\n",
      "s_mean + 1.96*SE\t= 2.86\n",
      "s_mean - 1.96*SE\t= 2.14\n",
      "\n",
      "OOB Score\n",
      "---------\n",
      "s_mean value\t\t= 14.37\n",
      "s_mean + 1.96*SE\t= 14.73\n",
      "s_mean - 1.96*SE\t= 14.01\n"
     ]
    },
    {
     "data": {
      "image/png": "[encoded data removed]",
      "text/plain": [
       "<Figure size 1080x360 with 2 Axes>"
      ]
     },
     "metadata": {
      "needs_background": "light"
     },
     "output_type": "display_data"
    }
   ],
   "source": [
    "# https://www.graphpad.com/guides/prism/latest/statistics/stat_more_about_confidence_interval.htm\n",
    "# http://www.stat.yale.edu/Courses/1997-98/101/confint.htm\n",
    "# https://www.mathsisfun.com/data/confidence-interval.html\n",
    "# https://en.wikipedia.org/wiki/1.96\n",
    "\n",
    "def plot_confidence_interval(list_, i):\n",
    "    \n",
    "    mean = np.mean(list_)\n",
    "    stdv = np.std(list_)\n",
    "    sample_pt_root = np.sqrt(30)\n",
    "    \n",
    "#     CI_level = 3.291 # Confidence interval ==> : 99.9%\n",
    "#     CI_level = 2.576 # Confidence interval ==> : 99%\n",
    "    CI_level = 1.96 # Confidence interval ==> : 95%\n",
    "    \n",
    "    CI_upper = mean + CI_level/sample_pt_root\n",
    "    CI_lower = mean - CI_level/sample_pt_root\n",
    "    \n",
    "    sns.distplot(list_, color = 'k', ax = ax[i])\n",
    "    ax[i].axvline(mean, c = 'm', label = 's_mean')    \n",
    "    ax[i].axvline(CI_upper, c = 'r', linestyle = ':', label = f's_mean+{CI_level}*SE')\n",
    "    \n",
    "    ax[i].axvline(CI_lower, c = 'b', linestyle = ':', label = f's_mean−{CI_level}*SE')\n",
    "    ax[i].legend()\n",
    "    \n",
    "    print(f's_mean value\\t\\t= {round(mean, 2)}')\n",
    "    print(f's_mean + {CI_level}*SE\\t= {round(CI_upper, 2)}')\n",
    "    print(f's_mean - {CI_level}*SE\\t= {round(CI_lower, 2)}')\n",
    "    \n",
    "fig, ax = plt.subplots(1, 2, figsize=(15, 5))\n",
    "\n",
    "fig.suptitle('Confidence Intravels', fontsize = 18, color = 'r')\n",
    "\n",
    "print('MSE Values')\n",
    "print('-' * 10)\n",
    "plot_confidence_interval(mse_list, 0)\n",
    "ax[0].set_title('MSE Values', color ='b')\n",
    "\n",
    "print('\\nOOB Score')\n",
    "print('-' * 9)\n",
    "plot_confidence_interval(oob_score_list, 1)\n",
    "ax[1].set_title('OOB Score', color ='b')\n",
    "\n",
    "plt.show()"
   ]
  },
  {
   "cell_type": "markdown",
   "metadata": {},
   "source": [
    "### <font color='red'>Observation</font>\n",
    "\n",
    "**Definition**\n",
    "\n",
    "\n",
    "A 95% confidence interval is a range of values that you can be 95% certain contains the true mean of the population. This is not the same as a range that contains 95% of the values and a confidence interval does not quantify variability.\n",
    "<img src='https://www.graphpad.com/guides/prism/latest/statistics/images/hmfile_hash_f71959f8.gif'>\n",
    "- The results says on our MSE value on random sampled models is likely to be between 2.86 and 2.14 if the comfidence interval is 95%.\n",
    "- So in this case we can say most of the values of MSE are inbetween this range and, only 5% of points represents rest of the population distribution.\n",
    "- ie, 95% of experiments like we just did will include the true mean, but the 5% won't, so there is a 5% chance that our Confidence Interval does NOT include the true mean.\n",
    "- Simlarly 95% confidence interval on OOB Score is likely to be in between 14.73 and 14.01."
   ]
  },
  {
   "cell_type": "markdown",
   "metadata": {
    "id": "jKTnJdiBVS_e"
   },
   "source": [
    "# <font color='blue'><b>Task 3</b></font>"
   ]
  },
  {
   "cell_type": "markdown",
   "metadata": {
    "id": "eXxrvZqHV1Fr"
   },
   "source": [
    "<font color='orange'><b>Flowchart for Task 3</b></font>"
   ]
  },
  {
   "cell_type": "markdown",
   "metadata": {
    "id": "NyjwEJ62V6a6"
   },
   "source": [
    "<b>Hint: </b> We created 30 models by using 30 samples in TASK-1. Here, we need send query point \"xq\"  to 30 models and perform the regression on the output generated by 30 models."
   ]
  },
  {
   "cell_type": "markdown",
   "metadata": {
    "id": "0emSwLL7VurD"
   },
   "source": [
    "<img src = 'https://i.imgur.com/Y5cNhQk.png'>"
   ]
  },
  {
   "cell_type": "markdown",
   "metadata": {
    "id": "29hjwKlWWDfo"
   },
   "source": [
    "*  <font color='blue'><b> Write code for TASK 3 </b></font>"
   ]
  },
  {
   "cell_type": "code",
   "execution_count": 14,
   "metadata": {},
   "outputs": [
    {
     "name": "stdout",
     "output_type": "stream",
     "text": [
      "Prediction value if metric is:\n",
      "==============================\n",
      "Mean\t: 19.5\n",
      "Median\t: 18.5\n"
     ]
    }
   ],
   "source": [
    "xq= [0.18,20.0,5.00,0.0,0.421,5.60,72.2,7.95,7.0,30.0,19.1,372.13,18.60]\n",
    "\n",
    "def final_pred(all_models, selected_columns, X):\n",
    "    \n",
    "    array_of_y = []\n",
    "\n",
    "    for i in range(30):\n",
    "        \n",
    "        data_pts = [X[col] for col in selected_columns[i]]\n",
    "        \n",
    "        y_hat = all_models[i].predict([data_pts])\n",
    "        \n",
    "        array_of_y.append(y_hat)\n",
    "        \n",
    "    np_arr_of_y = np.array(array_of_y)\n",
    "    \n",
    "    mean_pred_y_hat = np.mean(np_arr_of_y)\n",
    "    median_pred_y_hat = np.median(np_arr_of_y)\n",
    "    \n",
    "    return mean_pred_y_hat, median_pred_y_hat\n",
    "    \n",
    "y_hat_mean, y_hat_median = final_pred(list_of_all_models, list_selected_columns, xq)\n",
    "\n",
    "print('Prediction value if metric is:')\n",
    "print('='*30)\n",
    "\n",
    "print(f'Mean\\t: {round(y_hat_mean,2)}')\n",
    "print(f'Median\\t: {y_hat_median}')"
   ]
  },
  {
   "cell_type": "markdown",
   "metadata": {
    "id": "AIcax45hWKT-"
   },
   "source": [
    "### <font color='red'>Observation</font>\n",
    "\n",
    "- On predicting values from the given query point we can obtain a values if metric is,\n",
    "    - Mean\t &nbsp;&nbsp;&nbsp;&nbsp;&nbsp;==>&nbsp; 19.5\n",
    "    - Median &nbsp;&nbsp;==>&nbsp; 18.5"
   ]
  }
 ],
 "metadata": {
  "colab": {
   "collapsed_sections": [],
   "name": "Bootstrap_assignment.ipynb",
   "provenance": []
  },
  "kernelspec": {
   "display_name": "Python 3 (ipykernel)",
   "language": "python",
   "name": "python3"
  },
  "language_info": {
   "codemirror_mode": {
    "name": "ipython",
    "version": 3
   },
   "file_extension": ".py",
   "mimetype": "text/x-python",
   "name": "python",
   "nbconvert_exporter": "python",
   "pygments_lexer": "ipython3",
   "version": "3.9.7"
  }
 },
 "nbformat": 4,
 "nbformat_minor": 1
}
