{
 "cells": [
  {
   "cell_type": "markdown",
   "metadata": {
    "id": "l0ZzOlyxB-kf"
   },
   "source": [
    "<h1>Python: without numpy or sklearn </h1>"
   ]
  },
  {
   "cell_type": "markdown",
   "metadata": {
    "id": "C0xO8JV9B-ki"
   },
   "source": [
    "<h3> Q1: Given two matrices please print the product of those two matrices </h3>\n",
    "<pre>\n",
    "\n",
    "Ex 1: A   = [[1 3 4]\n",
    "             [2 5 7]\n",
    "             [5 9 6]]\n",
    "      B   = [[1 0 0]\n",
    "             [0 1 0]\n",
    "             [0 0 1]]\n",
    "      A*B = [[1 3 4]\n",
    "             [2 5 7]\n",
    "             [5 9 6]]\n",
    "\n",
    "     \n",
    "Ex 2: A   = [[1 2]\n",
    "             [3 4]]\n",
    "      B   = [[1 2 3 4 5]\n",
    "             [5 6 7 8 9]]\n",
    "      A*B = [[11 14 17 20 23]\n",
    "             [23 30 36 42 51]]\n",
    "             \n",
    "Ex 3: A   = [[1 2]\n",
    "             [3 4]]\n",
    "      B   = [[1 4]\n",
    "             [5 6]\n",
    "             [7 8]\n",
    "             [9 6]]\n",
    "      A*B =Not possible\n",
    "</pre>"
   ]
  },
  {
   "cell_type": "code",
   "execution_count": 1,
   "metadata": {
    "colab": {
     "base_uri": "https://localhost:8080/"
    },
    "executionInfo": {
     "elapsed": 353,
     "status": "ok",
     "timestamp": 1631644456096,
     "user": {
      "displayName": "Jishnu S G",
      "photoUrl": "https://lh3.googleusercontent.com/a-/AOh14Gj0Y7f2i6XwpWM8zwxk8yIZ4lIAa50C9qzaCK0h_Q=s64",
      "userId": "16433334101221913504"
     },
     "user_tz": -330
    },
    "id": "rnssAfpgB-kj",
    "outputId": "ce8ee9d9-312f-4b42-a6a8-9a1667abf1cb"
   },
   "outputs": [
    {
     "name": "stdout",
     "output_type": "stream",
     "text": [
      "[[1, 3, 4], [2, 5, 7], [5, 9, 6]] \n",
      "\n",
      "[[11, 14, 17, 20, 23], [23, 30, 37, 44, 51]] \n",
      "\n",
      "A*B is Not Possible\n"
     ]
    }
   ],
   "source": [
    "def matrix_mul(A, B):\n",
    "    \n",
    "    lenA = len(A)\n",
    "    lenB = len(B)\n",
    "    result = 'A*B is Not Possible'\n",
    "        \n",
    "    if len(A[0]) == lenB:\n",
    "        R_columns = len(B[0])\n",
    "        result = [ [0 for column in range(R_columns)] for row in range(lenA)]\n",
    "\n",
    "        for i in range(len(A)):\n",
    "            for j in range(R_columns):\n",
    "                for k in range(len(B)):\n",
    "                    result[i][j] += A[i][k] * B[k][j]\n",
    "        \n",
    "    return result\n",
    "\n",
    "A = [[1,3,4], [2,5,7], [5,9,6]]\n",
    "B = [[1,0,0], [0,1,0], [0,0,1]]\n",
    "C = [[1, 2], [3, 4]]\n",
    "D = [[1, 2, 3, 4, 5], [5, 6, 7, 8, 9]]\n",
    "E = [[1, 2], [3, 4]]\n",
    "F = [[1, 4], [5, 6], [7, 8], [9, 6]]\n",
    "\n",
    "print(matrix_mul(A, B), '\\n')\n",
    "print(matrix_mul(C, D), '\\n')\n",
    "print(matrix_mul(E, F))"
   ]
  },
  {
   "cell_type": "markdown",
   "metadata": {
    "id": "at4VwLggB-kn"
   },
   "source": [
    "<h3> Q2: Select a number randomly with probability proportional to its magnitude from the given array of n elements</h3>\n",
    "\n",
    "consider an experiment, selecting an element from the list A randomly with probability proportional to its magnitude.\n",
    "assume we are doing the same experiment for 100 times with replacement, in each experiment you will print a number that is selected randomly from A.\n",
    "\n",
    "<pre>\n",
    "Ex 1: A = [0 5 27 6 13 28 100 45 10 79]\n",
    "let f(x) denote the number of times x getting selected in 100 experiments.\n",
    "f(100) > f(79) > f(45) > f(28) > f(27) > f(13) > f(10) > f(6) > f(5) > f(0)\n",
    "</pre>"
   ]
  },
  {
   "cell_type": "code",
   "execution_count": 2,
   "metadata": {
    "colab": {
     "base_uri": "https://localhost:8080/"
    },
    "executionInfo": {
     "elapsed": 331,
     "status": "ok",
     "timestamp": 1631644462911,
     "user": {
      "displayName": "Jishnu S G",
      "photoUrl": "https://lh3.googleusercontent.com/a-/AOh14Gj0Y7f2i6XwpWM8zwxk8yIZ4lIAa50C9qzaCK0h_Q=s64",
      "userId": "16433334101221913504"
     },
     "user_tz": -330
    },
    "id": "B6S2dpBhB-kn",
    "outputId": "57caf549-b540-4aaa-ec87-855eb3f7fe3b"
   },
   "outputs": [
    {
     "name": "stdout",
     "output_type": "stream",
     "text": [
      "number : 0 , frequency : 0\n",
      "number : 5 , frequency : 1\n",
      "number : 6 , frequency : 2\n",
      "number : 10 , frequency : 3\n",
      "number : 13 , frequency : 4\n",
      "number : 27 , frequency : 9\n",
      "number : 28 , frequency : 12\n",
      "number : 45 , frequency : 17\n",
      "number : 79 , frequency : 22\n",
      "number : 100 , frequency : 29\n"
     ]
    }
   ],
   "source": [
    "from random import uniform\n",
    "\n",
    "def pick_a_number_from_list(A):\n",
    "\n",
    "    sum_list = sum(A)\n",
    "\n",
    "    cum_proba_list =[]\n",
    "    cum_proba = 0\n",
    "\n",
    "    for i in A:\n",
    "        proba = i/sum_list\n",
    "        cum_proba +=proba\n",
    "        cum_proba_list.append(cum_proba)\n",
    "  \n",
    "    r = uniform(0,1)\n",
    "    \n",
    "    for index, value in enumerate(cum_proba_list):\n",
    "        if r <= value:\n",
    "            break\n",
    "\n",
    "    return A[index]\n",
    "\n",
    "def sampling_based_on_magnitued(A):\n",
    "    sampled = []\n",
    "    for i in range(1,100):\n",
    "        number = pick_a_number_from_list(A)\n",
    "        sampled.append(number)\n",
    "    \n",
    "    for i in sorted(A):\n",
    "        print('number : {} , frequency : {}'.format(i, sampled.count(i)))\n",
    "\n",
    "A = [0, 5, 27, 6, 13, 28, 100, 45, 10, 79]\n",
    "# A = [2, 6, 1.2, 5.8, 20]\n",
    "\n",
    "sampling_based_on_magnitued(A)"
   ]
  },
  {
   "cell_type": "markdown",
   "metadata": {
    "id": "D1xQy2WWB-kq"
   },
   "source": [
    "<h3> Q3: Replace the digits in the string with #</h3>\n",
    "\n",
    "consider a string that will have digits in that, we need to remove all the not digits and replace the digits with #\n",
    "<pre>\n",
    "Ex 1: A = 234                Output: ###\n",
    "Ex 2: A = a2b3c4             Output: ###\n",
    "Ex 3: A = abc                Output:   (empty string)\n",
    "Ex 5: A = #2a$#b%c%561#      Output: ####\n",
    "</pre>"
   ]
  },
  {
   "cell_type": "code",
   "execution_count": 3,
   "metadata": {
    "colab": {
     "base_uri": "https://localhost:8080/"
    },
    "executionInfo": {
     "elapsed": 417,
     "status": "ok",
     "timestamp": 1637349247928,
     "user": {
      "displayName": "Jishnu S G",
      "photoUrl": "https://lh3.googleusercontent.com/a-/AOh14Gj0Y7f2i6XwpWM8zwxk8yIZ4lIAa50C9qzaCK0h_Q=s64",
      "userId": "16433334101221913504"
     },
     "user_tz": -330
    },
    "id": "fxczi2jzB-kr",
    "outputId": "fdbb61e9-34c8-4fa3-ca36-a4c9fb7ed4c4"
   },
   "outputs": [
    {
     "name": "stdout",
     "output_type": "stream",
     "text": [
      "'234' equivalent is : ###\n",
      "'a2b3c4' equivalent is : ###\n",
      "'abc' equivalent is : \n",
      "'#2a$#b%c%561#' equivalent is : ####\n"
     ]
    }
   ],
   "source": [
    "import re\n",
    "\n",
    "String = ['234', 'a2b3c4', 'abc', '#2a$#b%c%561#']\n",
    "\n",
    "def replace_digits(Strings):\n",
    "\n",
    "    for string in Strings:\n",
    "        len_ = len(re.sub(r'\\D','', string))\n",
    "        h_string = '#' * len_\n",
    "        print(\"'{}' equivalent is : {}\".format(string, h_string))\n",
    "\n",
    "replace_digits(String)"
   ]
  },
  {
   "cell_type": "markdown",
   "metadata": {
    "id": "j7h0Ywg7B-kw"
   },
   "source": [
    "<h3> Q4: Students marks dashboard</h3>\n",
    "\n",
    "consider the marks list of class students given two lists <br>\n",
    "Students = ['student1','student2','student3','student4','student5','student6','student7','student8','student9','student10'] <br>\n",
    "Marks = [45, 78, 12, 14, 48, 43, 45, 98, 35, 80] <br>\n",
    "from the above two lists the Student[0] got Marks[0],  Student[1] got Marks[1] and so on <br><br>\n",
    "your task is to print the name of students\n",
    "<strong>a. Who got top 5 ranks, in the descending order of marks</strong> <br>\n",
    "<strong>b. Who got least 5 ranks, in the increasing order of marks</strong><br>\n",
    "<strong>d. Who got marks between  &gt;25th percentile &lt;75th percentile, in the increasing order of marks</strong>\n",
    "\n",
    "<pre>\n",
    "Ex 1: \n",
    "Students=['student1','student2','student3','student4','student5','student6','student7','student8','student9','student10'] \n",
    "Marks = [45, 78, 12, 14, 48, 43, 47, 98, 35, 80]\n",
    "a. \n",
    "student8  98\n",
    "student10 80\n",
    "student2  78\n",
    "student5  48\n",
    "student7  47\n",
    "b.\n",
    "student3 12\n",
    "student4 14\n",
    "student9 35\n",
    "student6 43\n",
    "student1 45\n",
    "c.\n",
    "student9 35\n",
    "student6 43\n",
    "student1 45\n",
    "student7 47\n",
    "student5 48\n",
    "</pre>"
   ]
  },
  {
   "cell_type": "code",
   "execution_count": 4,
   "metadata": {
    "colab": {
     "base_uri": "https://localhost:8080/"
    },
    "executionInfo": {
     "elapsed": 624,
     "status": "ok",
     "timestamp": 1639493629824,
     "user": {
      "displayName": "Jishnu S G",
      "photoUrl": "https://lh3.googleusercontent.com/a-/AOh14Gj0Y7f2i6XwpWM8zwxk8yIZ4lIAa50C9qzaCK0h_Q=s64",
      "userId": "16433334101221913504"
     },
     "user_tz": -330
    },
    "id": "cxPJgItsB-kx",
    "outputId": "c211fb68-5f30-49ff-fa16-f883bcb8ec73"
   },
   "outputs": [
    {
     "name": "stdout",
     "output_type": "stream",
     "text": [
      "[('student10', 79), ('student9', 70), ('student8', 68), ('student7', 68), ('student6', 66)]\n",
      "[('student1', 35), ('student2', 38), ('student3', 47), ('student4', 58), ('student5', 61)]\n",
      "[('student3', 47), ('student4', 58), ('student5', 61), ('student6', 66)]\n"
     ]
    }
   ],
   "source": [
    "def top_5_student(students, marks):\n",
    "    \n",
    "#     print('a.')\n",
    "    n = len(marks)\n",
    "    least_5 = []\n",
    "    for i in range(n-1,4,-1):\n",
    "        least_5.append((marks[i][1], marks[i][0]))\n",
    "    return least_5\n",
    "\n",
    "def least_5_student(students, marks): \n",
    "#     print('b.')\n",
    "    top_5 =[]\n",
    "    for i in range(5):\n",
    "        top_5.append((marks[i][1], marks[i][0]))\n",
    "    return top_5\n",
    "\n",
    "def student_within_25_and_75(students, marks):\n",
    "\n",
    "    # Reference : https://youtu.be/3pjSpNbas14?list=PLZ2ps__7DhBZoOybiNj--teGePoNZNO2C&t=176\n",
    "\n",
    "#     print('c.')\n",
    "    n= len(marks)\n",
    "    p_25 = .25\n",
    "    p_75 = .75\n",
    "    pr_25 = marks[int(n*p_25)][0]\n",
    "    pr_75 = marks[int(n*p_75)][0]\n",
    "    student_within_25_and_75 = []\n",
    "\n",
    "    for i in range(n):\n",
    "        if (marks[i][0]) >= pr_25 and (marks[i][0] < pr_75):\n",
    "            student_within_25_and_75.append((marks[i][1], marks[i][0]))\n",
    "            \n",
    "    return student_within_25_and_75\n",
    "\n",
    "def display_dash_board(students, marks):\n",
    "    \n",
    "    top_5_students = top_5_student(students, marks)\n",
    "   \n",
    "    least_5_students = least_5_student(students, marks)\n",
    "  \n",
    "    students_within_25_and_75 = student_within_25_and_75(students, marks)\n",
    "    \n",
    "    return top_5_students, least_5_students, students_within_25_and_75\n",
    "\n",
    "Students=['student1','student2','student3','student4','student5','student6','student7','student8','student9','student10'] \n",
    "Marks = [45, 78, 12, 14, 48, 43, 47, 98, 35, 80]\n",
    "Marks = [35,38,47,58,61,66,68,68,70,79]\n",
    "Marks = sorted(zip(Marks,Students))\n",
    "\n",
    "top_5_students, least_5_students, students_within_25_and_75 = display_dash_board(Students, Marks)\n",
    "\n",
    "print(top_5_students)\n",
    "print(least_5_students)\n",
    "print(students_within_25_and_75)"
   ]
  },
  {
   "cell_type": "markdown",
   "metadata": {
    "id": "qha0OhQHB-k1"
   },
   "source": [
    "<h3> Q5: Find the closest points</h3>\n",
    "\n",
    "consider you have given n data points in the form of list of tuples like S=[(x1,y1),(x2,y2),(x3,y3),(x4,y4),(x5,y5),..,(xn,yn)] and a point P=(p,q) <br> your task is to find 5 closest points(based on cosine distance) in S from P\n",
    "<br>cosine distance between two points (x,y) and (p,q) is defind as $cos^{-1}(\\frac{(x\\cdot p+y\\cdot q)}{\\sqrt(x^2+y^2)\\cdot\\sqrt(p^2+q^2)})$\n",
    "<pre>\n",
    "Ex:\n",
    "\n",
    "S= [(1,2),(3,4),(-1,1),(6,-7),(0, 6),(-5,-8),(-1,-1)(6,0),(1,-1)]\n",
    "P= (3,-4)\n",
    "<img src='https://i.imgur.com/vIFPOcG.jpg', width=300>\n",
    "Output:\n",
    "(6,-7)\n",
    "(1,-1)\n",
    "(6,0)\n",
    "(-5,-8)\n",
    "(-1,-1)\n",
    "</pre>"
   ]
  },
  {
   "cell_type": "code",
   "execution_count": 5,
   "metadata": {
    "colab": {
     "base_uri": "https://localhost:8080/"
    },
    "executionInfo": {
     "elapsed": 339,
     "status": "ok",
     "timestamp": 1631647071522,
     "user": {
      "displayName": "Jishnu S G",
      "photoUrl": "https://lh3.googleusercontent.com/a-/AOh14Gj0Y7f2i6XwpWM8zwxk8yIZ4lIAa50C9qzaCK0h_Q=s64",
      "userId": "16433334101221913504"
     },
     "user_tz": -330
    },
    "id": "wA5I1g-2B-k2",
    "outputId": "bd871367-6d13-40a0-e4b2-e9750d6016a9"
   },
   "outputs": [
    {
     "name": "stdout",
     "output_type": "stream",
     "text": [
      "[(6, -7), (1, -1), (6, 0), (-5, -8), (-1, -1)]\n"
     ]
    }
   ],
   "source": [
    "import math\n",
    "\n",
    "# # here S is list of tuples and P is a tuple ot len=2\n",
    "def closest_points_to_p(S, P):\n",
    "    \n",
    "    closest_points_to_p = []\n",
    "    cosine_dist_list = []\n",
    "\n",
    "    for point in S:\n",
    "        numerator = point[0] * P[0] + point[1] * P[1]\n",
    "        denominator = math.sqrt(point[0]**2 + point[1]**2) * math.sqrt(P[0]**2 + P[1]**2)\n",
    "\n",
    "        if denominator !=0:\n",
    "            cosine_dist = math.acos(numerator/denominator)\n",
    "            cosine_dist_list.append((cosine_dist, point))\n",
    "  \n",
    "    cosine_dist_list = sorted(cosine_dist_list)\n",
    "\n",
    "    for i in range(5):\n",
    "        closest_points_to_p.append(cosine_dist_list[i][1])\n",
    "\n",
    "    return closest_points_to_p\n",
    "\n",
    "S= [(1,2),(3,4),(-1,1),(6,-7),(0, 6),(-5,-8),(-1,-1),(6,0),(1,-1)]\n",
    "P= (3,-4)\n",
    "\n",
    "points = closest_points_to_p(S, P)\n",
    "print(points)"
   ]
  },
  {
   "cell_type": "markdown",
   "metadata": {
    "id": "-g11jeAiB-k5"
   },
   "source": [
    "<h3> Q6: Find Which line separates oranges and apples</h3>\n",
    "consider you have given two set of data points in the form of list of tuples like \n",
    "<pre>\n",
    "Red =[(R11,R12),(R21,R22),(R31,R32),(R41,R42),(R51,R52),..,(Rn1,Rn2)]\n",
    "Blue=[(B11,B12),(B21,B22),(B31,B32),(B41,B42),(B51,B52),..,(Bm1,Bm2)]\n",
    "</pre>\n",
    "and set of line equations(in the string formate, i.e list of strings)\n",
    "<pre>\n",
    "Lines = [a1x+b1y+c1,a2x+b2y+c2,a3x+b3y+c3,a4x+b4y+c4,..,K lines]\n",
    "Note: you need to string parsing here and get the coefficients of x,y and intercept\n",
    "</pre>\n",
    "your task is to for each line that is given print \"YES\"/\"NO\", you will print yes, if all the red points are one side of the line and blue points are other side of the line, otherwise no\n",
    "<pre>\n",
    "Ex:\n",
    "Red= [(1,1),(2,1),(4,2),(2,4), (-1,4)]\n",
    "Blue= [(-2,-1),(-1,-2),(-3,-2),(-3,-1),(1,-3)]\n",
    "Lines=[\"1x+1y+0\",\"1x-1y+0\",\"1x+0y-3\",\"0x+1y-0.5\"]\n",
    "<img src='https://i.imgur.com/DoQf7mE.jpg' width=400>\n",
    "Output:\n",
    "YES\n",
    "NO\n",
    "NO\n",
    "YES\n",
    "</pre>"
   ]
  },
  {
   "cell_type": "code",
   "execution_count": 6,
   "metadata": {
    "colab": {
     "base_uri": "https://localhost:8080/"
    },
    "executionInfo": {
     "elapsed": 346,
     "status": "ok",
     "timestamp": 1631650958629,
     "user": {
      "displayName": "Jishnu S G",
      "photoUrl": "https://lh3.googleusercontent.com/a-/AOh14Gj0Y7f2i6XwpWM8zwxk8yIZ4lIAa50C9qzaCK0h_Q=s64",
      "userId": "16433334101221913504"
     },
     "user_tz": -330
    },
    "id": "HBn670v2yOVG",
    "outputId": "4dda761f-4635-41c2-bbbb-facb3e7e6299"
   },
   "outputs": [
    {
     "name": "stdout",
     "output_type": "stream",
     "text": [
      "YES\n",
      "NO\n",
      "NO\n",
      "YES\n"
     ]
    }
   ],
   "source": [
    "import math\n",
    "\n",
    "def i_am_the_one(red,blue,line):\n",
    "    \n",
    "    if eval(line.replace('x', f'*{red[0][0]}').replace('y', f'*{red[0][1]}')) >0:\n",
    "        for red_point in red:\n",
    "            if eval(line.replace('x','*%s' %red_point[0]).replace('y', '*%s' %red_point[1])) >0:\n",
    "                pass\n",
    "            else : \n",
    "                return 'NO'\n",
    "    else : \n",
    "        return 'NO'\n",
    "\n",
    "    if eval(line.replace('x', f'*{blue[0][0]}').replace('y', f'*{blue[0][1]}')) <0:\n",
    "        for blue_point in blue:\n",
    "            if eval(line.replace('x', f'*{blue_point[0]}').replace('y', f'*{blue_point[1]}')) <0:\n",
    "                pass\n",
    "            else : \n",
    "                return 'NO'\n",
    "    else : \n",
    "        return 'NO'\n",
    "\n",
    "    return 'YES'\n",
    "\n",
    "\n",
    "Red= [(1,1),(2,1),(4,2),(2,4), (-1,4)]\n",
    "Blue= [(-2,-1),(-1,-2),(-3,-2),(-3,-1),(1,-3)]\n",
    "Lines=[\"1x+1y+0\",\"1x-1y+0\",\"1x+0y-3\",\"0x+1y-0.5\"]\n",
    "\n",
    "for i in Lines:\n",
    "    yes_or_no = i_am_the_one(Red, Blue, i)\n",
    "    print(yes_or_no)"
   ]
  },
  {
   "cell_type": "markdown",
   "metadata": {
    "id": "9OBpURbNB-k9"
   },
   "source": [
    "<h3> Q7: Filling the missing values in the specified formate</h3>\n",
    "You will be given a string with digits and '\\_'(missing value) symbols you have to replace the '\\_' symbols as explained \n",
    "<pre>\n",
    "Ex 1: _, _, _, 24 ==> 24/4, 24/4, 24/4, 24/4 i.e we. have distributed the 24 equally to all 4 places <br>\n",
    "Ex 2: 40, _, _, _, 60 ==> (60+40)/5,(60+40)/5,(60+40)/5,(60+40)/5,(60+40)/5 ==> 20, 20, 20, 20, 20 i.e. the sum of (60+40) is distributed qually to all 5 places<br>\n",
    "Ex 3: 80, _, _, _, _  ==> 80/5,80/5,80/5,80/5,80/5 ==> 16, 16, 16, 16, 16 i.e. the 80 is distributed qually to all 5 missing values that are right to it<br>\n",
    "Ex 4: _, _, 30, _, _, _, 50, _, _  \n",
    "==> we will fill the missing values from left to right \n",
    "    a. first we will distribute the 30 to left two missing values (10, 10, 10, _, _, _, 50, _, _)\n",
    "    b. now distribute the sum (10+50) missing values in between (10, 10, 12, 12, 12, 12, 12, _, _) \n",
    "    c. now we will distribute 12 to right side missing values (10, 10, 12, 12, 12, 12, 4, 4, 4)\n",
    "</pre>\n",
    "for a given string with comma seprate values, which will have both missing values numbers like ex: \"_, _, x, _, _, _\"\n",
    "you need fill the missing values\n",
    "\n",
    "Q: your program reads a string like ex: \"_, _, x, _, _, _\" and returns the filled sequence\n",
    "\n",
    "Ex: \n",
    "<pre>\n",
    "Input1: \"_,_,_,24\"\n",
    "Output1: 6,6,6,6\n",
    "\n",
    "Input2: \"40,_,_,_,60\"\n",
    "Output2: 20,20,20,20,20\n",
    "\n",
    "Input3: \"80,_,_,_,_\"\n",
    "Output3: 16,16,16,16,16\n",
    "\n",
    "Input4: \"_,_,30,_,_,_,50,_,_\"\n",
    "Output4: 10,10,12,12,12,12,4,4,4\n",
    "</pre>\n",
    "\n"
   ]
  },
  {
   "cell_type": "code",
   "execution_count": 7,
   "metadata": {
    "id": "nZmpzHs_B-k-",
    "outputId": "625a6308-5dde-4a76-e842-40da57ebed7c"
   },
   "outputs": [
    {
     "name": "stdout",
     "output_type": "stream",
     "text": [
      "_,_,_,24            :: [6, 6, 6, 6]\n",
      "40,_,_,_,60         :: [20, 20, 20, 20, 20]\n",
      "80,_,_,_,_          :: [16, 16, 16, 16, 16]\n",
      "_,_,30,_,_,_,50,_,_ :: [10, 10, 12, 12, 12, 12, 4, 4, 4]\n"
     ]
    }
   ],
   "source": [
    "def curve_smoothing(string):\n",
    "    \n",
    "    slits = string.split(',')\n",
    "    \n",
    "    if slits[0].isnumeric() and slits[-1].isnumeric():\n",
    "        replace_val = eval(f'{slits[0]}+{slits[-1]}') // len(slits)\n",
    "        return [replace_val for i in range(len(slits))]\n",
    "    \n",
    "    if slits[0].isnumeric() and slits[-1] == '_':\n",
    "        replace_val = int(slits[0]) // len(slits)\n",
    "        return [replace_val for i in range(len(slits))]\n",
    "    \n",
    "    if slits[0] == '_' :\n",
    "        cou, l_val, r_list = 0, 0, []\n",
    "        for v in slits:\n",
    "            cou += 1\n",
    "            if v.isnumeric():\n",
    "                if l_val:\n",
    "                    l_val = (l_val + int(v)) // (cou+1)\n",
    "                    r_list.extend([l_val] * (cou))\n",
    "                else: \n",
    "                    l_val =  int(v) // (cou)\n",
    "                    r_list.extend([l_val] * (cou-1))\n",
    "                cou = 0\n",
    "        r_list.extend([l_val// (cou +1)] * (cou+1))\n",
    "        return r_list\n",
    "\n",
    "sequences = ['_,_,_,24', '40,_,_,_,60', '80,_,_,_,_', '_,_,30,_,_,_,50,_,_']\n",
    "\n",
    "for seq in sequences:\n",
    "    smoothed_values= curve_smoothing(seq)\n",
    "    print(f'{seq:19} :: {smoothed_values}')"
   ]
  },
  {
   "cell_type": "markdown",
   "metadata": {
    "id": "RBz4pzlfB-lB"
   },
   "source": [
    "<h3> Q8: Filling the missing values in the specified formate</h3>\n",
    "You will be given a list of lists, each sublist will be of length 2 i.e. [[x,y],[p,q],[l,m]..[r,s]]\n",
    "consider its like a martrix of n rows and two columns\n",
    "1. the first column F will contain only 5 uniques values (F1, F2, F3, F4, F5)\n",
    "2. the second column S will contain only 3 uniques values (S1, S2, S3)\n",
    "<pre>\n",
    "your task is to find\n",
    "a. Probability of P(F=F1|S==S1), P(F=F1|S==S2), P(F=F1|S==S3)\n",
    "b. Probability of P(F=F2|S==S1), P(F=F2|S==S2), P(F=F2|S==S3)\n",
    "c. Probability of P(F=F3|S==S1), P(F=F3|S==S2), P(F=F3|S==S3)\n",
    "d. Probability of P(F=F4|S==S1), P(F=F4|S==S2), P(F=F4|S==S3)\n",
    "e. Probability of P(F=F5|S==S1), P(F=F5|S==S2), P(F=F5|S==S3)\n",
    "</pre>\n",
    "Ex:\n",
    "\n",
    "<pre>\n",
    "[[F1,S1],[F2,S2],[F3,S3],[F1,S2],[F2,S3],[F3,S2],[F2,S1],[F4,S1],[F4,S3],[F5,S1]]\n",
    "\n",
    "a. P(F=F1|S==S1)=1/4, P(F=F1|S==S2)=1/3, P(F=F1|S==S3)=0/3\n",
    "b. P(F=F2|S==S1)=1/4, P(F=F2|S==S2)=1/3, P(F=F2|S==S3)=1/3\n",
    "c. P(F=F3|S==S1)=0/4, P(F=F3|S==S2)=1/3, P(F=F3|S==S3)=1/3\n",
    "d. P(F=F4|S==S1)=1/4, P(F=F4|S==S2)=0/3, P(F=F4|S==S3)=1/3\n",
    "e. P(F=F5|S==S1)=1/4, P(F=F5|S==S2)=0/3, P(F=F5|S==S3)=0/3\n",
    "</pre>\n",
    "\n",
    "\n"
   ]
  },
  {
   "cell_type": "code",
   "execution_count": 8,
   "metadata": {
    "id": "e-1giz1MB-lC",
    "outputId": "302c5700-2494-420a-8ec9-c9a2fdd4d84c"
   },
   "outputs": [
    {
     "name": "stdout",
     "output_type": "stream",
     "text": [
      "P(F=F1|S==S1)=1/4, P(F=F1|S==S2)=1/3, P(F=F1|S==S2)=0/3\n",
      "P(F=F2|S==S1)=1/4, P(F=F2|S==S2)=1/3, P(F=F2|S==S2)=1/3\n",
      "P(F=F3|S==S1)=0/4, P(F=F1|S==S2)=1/3, P(F=F3|S==S2)=1/3\n",
      "P(F=F4|S==S1)=1/4, P(F=F1|S==S2)=0/3, P(F=F4|S==S2)=1/3\n",
      "P(F=F5|S==S1)=1/4, P(F=F1|S==S2)=0/3, P(F=F5|S==S2)=0/3\n"
     ]
    }
   ],
   "source": [
    "def compute_conditional_probabilites(A):\n",
    "    \n",
    "    length_A = len(A)\n",
    "    \n",
    "    pairs = {}\n",
    "    second = {'S1':0,'S2' :0,'S3' :0}\n",
    "    \n",
    "    for i in range(length_A):\n",
    "        key = A[i][0]+A[i][1]\n",
    "        pairs[key] = 0\n",
    "\n",
    "    for i in range(length_A):\n",
    "        key_pairs = A[i][0] + A[i][1]\n",
    "        pairs[key_pairs] += 1\n",
    "        \n",
    "        key_s = A[i][1]\n",
    "        second[key_s] +=1\n",
    "        \n",
    "    print('P(F=F1|S==S1)={F1S1}/{S1}, P(F=F1|S==S2)={F1S2}/{S2}, P(F=F1|S==S2)={F1S3}/{S3}'.format(\n",
    "        F1S1=pairs.get('F1S1',0), S1=second['S1'],\n",
    "        F1S2=pairs.get('F1S2',0), S2=second['S2'],\n",
    "        F1S3=pairs.get('F1S3',0), S3=second['S3']))\n",
    "    \n",
    "    print('P(F=F2|S==S1)={F2S1}/{S1}, P(F=F2|S==S2)={F2S2}/{S2}, P(F=F2|S==S2)={F2S3}/{S3}'.format(\n",
    "        F2S1=pairs.get('F2S1',0), S1=second['S1'],\n",
    "        F2S2=pairs.get('F2S2',0), S2=second['S2'],\n",
    "        F2S3=pairs.get('F2S3',0), S3=second['S3']))\n",
    "    \n",
    "    print('P(F=F3|S==S1)={F3S1}/{S1}, P(F=F1|S==S2)={F3S2}/{S2}, P(F=F3|S==S2)={F3S3}/{S3}'.format(\n",
    "        F3S1=pairs.get('F3S1',0), S1=second['S1'],\n",
    "        F3S2=pairs.get('F3S2',0), S2=second['S2'],\n",
    "        F3S3=pairs.get('F3S3',0), S3=second['S3']))\n",
    "    \n",
    "    print('P(F=F4|S==S1)={F4S1}/{S1}, P(F=F1|S==S2)={F4S2}/{S2}, P(F=F4|S==S2)={F4S3}/{S3}'.format(\n",
    "        F4S1=pairs.get('F4S1',0), S1=second['S1'],\n",
    "        F4S2=pairs.get('F4S2',0), S2=second['S2'],\n",
    "        F4S3=pairs.get('F4S3',0), S3=second['S3']))\n",
    "    \n",
    "    print('P(F=F5|S==S1)={F5S1}/{S1}, P(F=F1|S==S2)={F5S2}/{S2}, P(F=F5|S==S2)={F5S3}/{S3}'.format(\n",
    "        F5S1=pairs.get('F5S1',0), S1=second['S1'],\n",
    "        F5S2=pairs.get('F5S2',0), S2=second['S2'],\n",
    "        F5S3=pairs.get('F5S3',0), S3=second['S3']))\n",
    "    \n",
    "    \n",
    "A = [['F1','S1'],['F2','S2'],['F3','S3'],['F1','S2'],['F2','S3'],['F3','S2'],['F2','S1'],['F4','S1'],['F4','S3'],['F5','S1']]\n",
    "\n",
    "compute_conditional_probabilites(A)"
   ]
  },
  {
   "cell_type": "markdown",
   "metadata": {
    "id": "n4HS87QmB-lF"
   },
   "source": [
    "<h3> Q9: Given two sentances S1, S2</h3>\n",
    "You will be given two sentances S1, S2 your task is to find \n",
    "<pre>\n",
    "a. Number of common words between S1, S2\n",
    "b. Words in S1 but not in S2\n",
    "c. Words in S2 but not in S1\n",
    "</pre>\n",
    "\n",
    "Ex: \n",
    "<pre>\n",
    "S1= \"the first column F will contain only 5 uniques values\"\n",
    "S2= \"the second column S will contain only 3 uniques values\"\n",
    "Output:\n",
    "a. 7\n",
    "b. ['first','F','5']\n",
    "c. ['second','S','3']\n",
    "</pre>"
   ]
  },
  {
   "cell_type": "code",
   "execution_count": 9,
   "metadata": {
    "id": "Ez7hlHK0B-lG",
    "outputId": "02e2a479-bb88-4110-fcaa-23920cddc23f"
   },
   "outputs": [
    {
     "name": "stdout",
     "output_type": "stream",
     "text": [
      "7\n",
      "['F', 'first', '5']\n",
      "['3', 'S', 'second']\n"
     ]
    }
   ],
   "source": [
    "def string_features(S1, S2):\n",
    "    \n",
    "    split_s1 = set(S1.split())\n",
    "    split_s2 = set(S2.split())\n",
    "    \n",
    "    a = len(split_s1.intersection(split_s2))\n",
    "    b = list(split_s1 - split_s2)\n",
    "    c = list(split_s2 - split_s1)\n",
    "    \n",
    "    return a, b, c\n",
    "\n",
    "S1= \"the first column F will contain only 5 uniques values\"\n",
    "S2= \"the second column S will contain only 3 uniques values\"\n",
    "a, b, c = string_features(S1, S2)\n",
    "print(a)\n",
    "print(b)\n",
    "print(c)"
   ]
  },
  {
   "cell_type": "markdown",
   "metadata": {
    "id": "XefXVEjCB-lI"
   },
   "source": [
    "<h3> Q10: Given two sentances S1, S2</h3>\n",
    "You will be given a list of lists, each sublist will be of length 2 i.e. [[x,y],[p,q],[l,m]..[r,s]]\n",
    "consider its like a martrix of n rows and two columns\n",
    "\n",
    "a. the first column Y will contain interger values <br>\n",
    "b. the second column $Y_{score}$ will be having float values <br>\n",
    "Your task is to find the value of $f(Y,Y_{score}) = -1*\\frac{1}{n}\\Sigma_{for each Y,Y_{score} pair}(Ylog10(Y_{score})+(1-Y)log10(1-Y_{score}))$ here n is the number of rows in the matrix\n",
    "<pre>\n",
    "Ex:\n",
    "[[1, 0.4], [0, 0.5], [0, 0.9], [0, 0.3], [0, 0.6], [1, 0.1], [1, 0.9], [1, 0.8]]\n",
    "output:\n",
    "0.4243099\n",
    "</pre>\n",
    "$\\frac{-1}{8}\\cdot((1\\cdot log_{10}(0.4)+0\\cdot log_{10}(0.6))+(0\\cdot log_{10}(0.5)+1\\cdot log_{10}(0.5)) + ... + (1\\cdot log_{10}(0.8)+0\\cdot log_{10}(0.2)) )$"
   ]
  },
  {
   "cell_type": "code",
   "execution_count": 10,
   "metadata": {
    "colab": {
     "base_uri": "https://localhost:8080/"
    },
    "executionInfo": {
     "elapsed": 399,
     "status": "ok",
     "timestamp": 1637349497769,
     "user": {
      "displayName": "Jishnu S G",
      "photoUrl": "https://lh3.googleusercontent.com/a-/AOh14Gj0Y7f2i6XwpWM8zwxk8yIZ4lIAa50C9qzaCK0h_Q=s64",
      "userId": "16433334101221913504"
     },
     "user_tz": -330
    },
    "id": "N9zkagyNB-lJ",
    "outputId": "88d04b14-387c-4b17-ce04-cf3fe0289f9d"
   },
   "outputs": [
    {
     "name": "stdout",
     "output_type": "stream",
     "text": [
      "0.4243099\n"
     ]
    }
   ],
   "source": [
    "from math import log\n",
    "\n",
    "def compute_log_loss(A):\n",
    "    \n",
    "    length_A = len(A)\n",
    "    loss = 0\n",
    "    \n",
    "    for value in A:\n",
    "        loss += value[0]*log(value[1], 10) + (1-value[0])*log(1-value[1], 10)\n",
    "        \n",
    "    loss = (-loss/length_A)\n",
    "\n",
    "    return loss\n",
    "\n",
    "A = [[1, 0.4], [0, 0.5], [0, 0.9], [0, 0.3], [0, 0.6], [1, 0.1], [1, 0.9], [1, 0.8]]\n",
    "\n",
    "log_loss = compute_log_loss(A)\n",
    "\n",
    "print(round(log_loss,7))"
   ]
  }
 ],
 "metadata": {
  "colab": {
   "collapsed_sections": [],
   "name": "Python Assignment.ipynb",
   "provenance": [
    {
     "file_id": "1AB8tULIP-mcA8beRhLKsCv-fCM-J84yW",
     "timestamp": 1630064736729
    }
   ]
  },
  "kernelspec": {
   "display_name": "Python 3 (ipykernel)",
   "language": "python",
   "name": "python3"
  },
  "language_info": {
   "codemirror_mode": {
    "name": "ipython",
    "version": 3
   },
   "file_extension": ".py",
   "mimetype": "text/x-python",
   "name": "python",
   "nbconvert_exporter": "python",
   "pygments_lexer": "ipython3",
   "version": "3.9.7"
  }
 },
 "nbformat": 4,
 "nbformat_minor": 4
}
