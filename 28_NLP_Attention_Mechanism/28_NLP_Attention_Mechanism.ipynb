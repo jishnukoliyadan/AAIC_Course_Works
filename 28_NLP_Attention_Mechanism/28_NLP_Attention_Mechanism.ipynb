{
 "cells": [
  {
   "cell_type": "markdown",
   "id": "36f54518",
   "metadata": {
    "id": "fwPL0hIlGKoA",
    "papermill": {
     "duration": 0.01868,
     "end_time": "2022-12-01T23:04:28.846364",
     "exception": false,
     "start_time": "2022-12-01T23:04:28.827684",
     "status": "completed"
    },
    "tags": []
   },
   "source": [
    "# <font color='red'>**Sequence to sequence implementation**</font>"
   ]
  },
  {
   "cell_type": "markdown",
   "id": "d46f5dee",
   "metadata": {
    "id": "-nYHE_1ck2az",
    "papermill": {
     "duration": 0.035971,
     "end_time": "2022-12-01T23:04:28.912923",
     "exception": false,
     "start_time": "2022-12-01T23:04:28.876952",
     "status": "completed"
    },
    "tags": []
   },
   "source": [
    "**There will be some functions that start with the word \"grader\" ex: grader_check_encoder(), grader_check_attention(), grader_onestepdecoder() etc, you should not change those function definition.<br><br>Every Grader function has to return True.**\n",
    "\n",
    "**Note 1:**  There are many blogs on the attention mechanisum which might be misleading you,\n",
    " so do read the references completly and after that only please check the internet.\n",
    " The best things is to read the research papers and try to implement it on your own. \n",
    "\n",
    "**Note 2:** To complete this assignment, the reference that are mentioned will be enough.\n",
    "\n",
    "**Note 3:** If you are starting this assignment, you might have completed minimum of 20 assignment.\n",
    " If  you are still not able to implement this algorithm you might have rushed in the previous assignments \n",
    "with out learning much and didn't spend your time productively."
   ]
  },
  {
   "cell_type": "markdown",
   "id": "d362073a",
   "metadata": {
    "id": "QyfZo8fmLOec",
    "papermill": {
     "duration": 0.029091,
     "end_time": "2022-12-01T23:04:28.970904",
     "exception": false,
     "start_time": "2022-12-01T23:04:28.941813",
     "status": "completed"
    },
    "tags": []
   },
   "source": [
    "## Task -1: Simple Encoder and Decoder\n",
    "Implement simple Encoder-Decoder model"
   ]
  },
  {
   "cell_type": "markdown",
   "id": "bcb1372f",
   "metadata": {
    "id": "IvNSZXNkkOkO",
    "papermill": {
     "duration": 0.019042,
     "end_time": "2022-12-01T23:04:29.009158",
     "exception": false,
     "start_time": "2022-12-01T23:04:28.990116",
     "status": "completed"
    },
    "tags": []
   },
   "source": [
    "1. Download the **Italian** to **English** translation dataset from <a href=\"http://www.manythings.org/anki/ita-eng.zip\">here</a>\n",
    "\n",
    "2. You will find **ita.txt** file in that ZIP, \n",
    "you can read that data using python and preprocess that data this way only: \n",
    "<img src='https://i.imgur.com/z0j79Jf.png'>    \n",
    "    \n",
    "3. You have to implement a simple Encoder and Decoder architecture  \n",
    "\n",
    "4. Use BLEU score as metric to evaluate your model. You can use any loss function you need.\n",
    "\n",
    "5. You have to use Tensorboard to plot the Graph, Scores and histograms of gradients. \n",
    "\n",
    "6.  a. Check the reference notebook <br>\n",
    "    b. <a href=\"https://medium.com/analytics-vidhya/understand-sequence-to-sequence-models-in-a-more-intuitive-way-1d517d8795bb\">Resource 2</a>\n",
    "    \n",
    "\n"
   ]
  },
  {
   "cell_type": "markdown",
   "id": "8fc67b44-7756-4ee2-af82-4684d0d30c22",
   "metadata": {},
   "source": [
    "**System Versions**\n",
    "```bash\n",
    "Python==3.10.6\n",
    "\n",
    "pip install -q pandas==1.5.1 -U\n",
    "pip install -q numpy==1.23.4 -U\n",
    "pip install -q matplotlib==3.6.0 -U\n",
    "pip install -q seaborn==0.12.1 -U\n",
    "pip install -q tensorflow==2.10.0 -U\n",
    "pip install -q scikit-learn==1.1.2 -U\n",
    "pip install -q nltk==3.7 -U\n",
    "pip install -q tqdm==4.64.1 -U\n",
    "pip install -q keras==2.10.0 -U\n",
    "pip install -q logging==0.5.1.2 -U\n",
    "```\n",
    "\n",
    "**Kaggle Versions**\n",
    "```bash\n",
    "pip install -q pandas==1.3.5 -U\n",
    "pip install -q numpy==1.21.6 -U\n",
    "pip install -q matplotlib==3.5.3 -U\n",
    "pip install -q seaborn==0.11.2 -U\n",
    "pip install -q tensorflow==2.6.4 -U\n",
    "pip install -q scikit-learn==1.0.2 -U\n",
    "pip install -q nltk==3.7 -U\n",
    "pip install -q tqdm==4.64.0 -U\n",
    "pip install -q keras==2.6.0 -U\n",
    "pip install -q logging==0.5.1.2 -U\n",
    "```"
   ]
  },
  {
   "cell_type": "code",
   "execution_count": 1,
   "id": "46faec5a",
   "metadata": {
    "execution": {
     "iopub.execute_input": "2022-12-01T23:04:29.122315Z",
     "iopub.status.busy": "2022-12-01T23:04:29.121779Z",
     "iopub.status.idle": "2022-12-01T23:04:34.137312Z",
     "shell.execute_reply": "2022-12-01T23:04:34.136227Z"
    },
    "papermill": {
     "duration": 5.050731,
     "end_time": "2022-12-01T23:04:34.139618",
     "exception": false,
     "start_time": "2022-12-01T23:04:29.088887",
     "status": "completed"
    },
    "tags": []
   },
   "outputs": [
    {
     "name": "stdout",
     "output_type": "stream",
     "text": [
      ".\n",
      "└── raw_data\n",
      "    ├── _about.txt\n",
      "    ├── glove.6B.100d.txt\n",
      "    ├── ita-eng.zip\n",
      "    └── ita.txt\n",
      "\n",
      "1 directory, 4 files\n"
     ]
    }
   ],
   "source": [
    "%%bash\n",
    "rm -r *\n",
    "mkdir -p raw_data\n",
    "wget -qO raw_data/ita-eng.zip http://www.manythings.org/anki/ita-eng.zip \n",
    "wget -qO raw_data/glove.6B.100d.txt https://www.dropbox.com/s/ddkmtqz01jc024u/glove.6B.100d.txt\n",
    "unzip -q raw_data/ita-eng.zip -d raw_data/\n",
    "\n",
    "tree"
   ]
  },
  {
   "cell_type": "markdown",
   "id": "fccfc29a",
   "metadata": {
    "id": "3k_AlAuKJqVA",
    "papermill": {
     "duration": 0.018617,
     "end_time": "2022-12-01T23:04:34.177778",
     "exception": false,
     "start_time": "2022-12-01T23:04:34.159161",
     "status": "completed"
    },
    "tags": []
   },
   "source": [
    "<font color='blue'>**Load the data**</font>"
   ]
  },
  {
   "cell_type": "code",
   "execution_count": 2,
   "id": "4671520b",
   "metadata": {
    "execution": {
     "iopub.execute_input": "2022-12-01T23:04:34.216958Z",
     "iopub.status.busy": "2022-12-01T23:04:34.216603Z",
     "iopub.status.idle": "2022-12-01T23:04:40.792472Z",
     "shell.execute_reply": "2022-12-01T23:04:40.791509Z"
    },
    "id": "fU80Ao-AGaob",
    "papermill": {
     "duration": 6.59869,
     "end_time": "2022-12-01T23:04:40.795169",
     "exception": false,
     "start_time": "2022-12-01T23:04:34.196479",
     "status": "completed"
    },
    "tags": []
   },
   "outputs": [],
   "source": [
    "import os\n",
    "os.environ['TF_CPP_MIN_LOG_LEVEL'] = '3'\n",
    "\n",
    "import re\n",
    "import shutil\n",
    "import numpy as np\n",
    "import pandas as pd\n",
    "from tqdm import tqdm\n",
    "import seaborn as sns\n",
    "from datetime import datetime\n",
    "import matplotlib.pyplot as plt\n",
    "import matplotlib.ticker as ticker\n",
    "\n",
    "from sklearn.model_selection import train_test_split\n",
    "\n",
    "import tensorflow as tf\n",
    "from tensorflow.keras.optimizers import Adam\n",
    "from tensorflow.keras.callbacks import TensorBoard\n",
    "from tensorflow.keras.callbacks import ModelCheckpoint\n",
    "from tensorflow.keras.preprocessing.text import Tokenizer\n",
    "\n",
    "from tensorflow.keras.layers import LSTM\n",
    "from tensorflow.keras.layers import Dense\n",
    "from tensorflow.keras.layers import Embedding\n",
    "\n",
    "from tensorflow.nn import tanh\n",
    "from tensorflow.nn import softmax\n",
    "from tensorflow import reduce_sum\n",
    "from tensorflow import expand_dims\n",
    "from tensorflow.keras.layers import Dot\n",
    "\n",
    "import nltk.translate.bleu_score as bleu\n",
    "\n",
    "# from tensorflow.keras.utils import pad_sequences\n",
    "from keras.preprocessing.sequence import pad_sequences # KAGGLE Version\n",
    "\n",
    "from nltk.translate.bleu_score import sentence_bleu\n",
    "\n",
    "tqdm.pandas()\n",
    "plt.style.use('fivethirtyeight')\n",
    "\n",
    "import logging\n",
    "logging.getLogger(\"tensorflow\").setLevel(logging.WARNING)\n",
    "\n",
    "import warnings\n",
    "warnings.filterwarnings('ignore')"
   ]
  },
  {
   "cell_type": "code",
   "execution_count": 3,
   "id": "70451f99",
   "metadata": {
    "execution": {
     "iopub.execute_input": "2022-12-01T23:04:40.835433Z",
     "iopub.status.busy": "2022-12-01T23:04:40.834898Z",
     "iopub.status.idle": "2022-12-01T23:04:41.482050Z",
     "shell.execute_reply": "2022-12-01T23:04:41.480400Z"
    },
    "papermill": {
     "duration": 0.669573,
     "end_time": "2022-12-01T23:04:41.484689",
     "exception": false,
     "start_time": "2022-12-01T23:04:40.815116",
     "status": "completed"
    },
    "tags": []
   },
   "outputs": [
    {
     "name": "stdout",
     "output_type": "stream",
     "text": [
      "Shape of data frame :: (358373, 2)\n"
     ]
    },
    {
     "data": {
      "text/html": [
       "<div>\n",
       "<style scoped>\n",
       "    .dataframe tbody tr th:only-of-type {\n",
       "        vertical-align: middle;\n",
       "    }\n",
       "\n",
       "    .dataframe tbody tr th {\n",
       "        vertical-align: top;\n",
       "    }\n",
       "\n",
       "    .dataframe thead th {\n",
       "        text-align: right;\n",
       "    }\n",
       "</style>\n",
       "<table border=\"1\" class=\"dataframe\">\n",
       "  <thead>\n",
       "    <tr style=\"text-align: right;\">\n",
       "      <th></th>\n",
       "      <th>english</th>\n",
       "      <th>italian</th>\n",
       "    </tr>\n",
       "  </thead>\n",
       "  <tbody>\n",
       "    <tr>\n",
       "      <th>0</th>\n",
       "      <td>Hi.</td>\n",
       "      <td>Ciao!</td>\n",
       "    </tr>\n",
       "    <tr>\n",
       "      <th>1</th>\n",
       "      <td>Hi.</td>\n",
       "      <td>Ciao.</td>\n",
       "    </tr>\n",
       "    <tr>\n",
       "      <th>2</th>\n",
       "      <td>Run!</td>\n",
       "      <td>Corri!</td>\n",
       "    </tr>\n",
       "    <tr>\n",
       "      <th>3</th>\n",
       "      <td>Run!</td>\n",
       "      <td>Corra!</td>\n",
       "    </tr>\n",
       "    <tr>\n",
       "      <th>4</th>\n",
       "      <td>Run!</td>\n",
       "      <td>Correte!</td>\n",
       "    </tr>\n",
       "  </tbody>\n",
       "</table>\n",
       "</div>"
      ],
      "text/plain": [
       "  english   italian\n",
       "0     Hi.     Ciao!\n",
       "1     Hi.     Ciao.\n",
       "2    Run!    Corri!\n",
       "3    Run!    Corra!\n",
       "4    Run!  Correte!"
      ]
     },
     "execution_count": 3,
     "metadata": {},
     "output_type": "execute_result"
    }
   ],
   "source": [
    "with open('raw_data/ita.txt', 'r') as file:\n",
    "    \n",
    "    eng, ita = [], []\n",
    "    \n",
    "    for line in file.readlines():\n",
    "        eng.append(line.split('\\t')[0].strip())\n",
    "        ita.append(line.split('\\t')[1].strip())\n",
    "\n",
    "data = pd.DataFrame({'english' : eng, 'italian' : ita})\n",
    "print(f'Shape of data frame :: {data.shape}')\n",
    "data.head()"
   ]
  },
  {
   "cell_type": "code",
   "execution_count": 4,
   "id": "dbd7e597",
   "metadata": {
    "execution": {
     "iopub.execute_input": "2022-12-01T23:04:41.527621Z",
     "iopub.status.busy": "2022-12-01T23:04:41.525904Z",
     "iopub.status.idle": "2022-12-01T23:04:41.536121Z",
     "shell.execute_reply": "2022-12-01T23:04:41.535101Z"
    },
    "papermill": {
     "duration": 0.033406,
     "end_time": "2022-12-01T23:04:41.538090",
     "exception": false,
     "start_time": "2022-12-01T23:04:41.504684",
     "status": "completed"
    },
    "tags": []
   },
   "outputs": [
    {
     "data": {
      "text/html": [
       "<div>\n",
       "<style scoped>\n",
       "    .dataframe tbody tr th:only-of-type {\n",
       "        vertical-align: middle;\n",
       "    }\n",
       "\n",
       "    .dataframe tbody tr th {\n",
       "        vertical-align: top;\n",
       "    }\n",
       "\n",
       "    .dataframe thead th {\n",
       "        text-align: right;\n",
       "    }\n",
       "</style>\n",
       "<table border=\"1\" class=\"dataframe\">\n",
       "  <thead>\n",
       "    <tr style=\"text-align: right;\">\n",
       "      <th></th>\n",
       "      <th>english</th>\n",
       "      <th>italian</th>\n",
       "    </tr>\n",
       "  </thead>\n",
       "  <tbody>\n",
       "    <tr>\n",
       "      <th>358368</th>\n",
       "      <td>I know that adding sentences only in your nati...</td>\n",
       "      <td>So che aggiungere frasi soltanto nella sua lin...</td>\n",
       "    </tr>\n",
       "    <tr>\n",
       "      <th>358369</th>\n",
       "      <td>I know that adding sentences only in your nati...</td>\n",
       "      <td>So che aggiungere frasi solamente nella sua li...</td>\n",
       "    </tr>\n",
       "    <tr>\n",
       "      <th>358370</th>\n",
       "      <td>I know that adding sentences only in your nati...</td>\n",
       "      <td>So che aggiungere frasi solamente nella sua li...</td>\n",
       "    </tr>\n",
       "    <tr>\n",
       "      <th>358371</th>\n",
       "      <td>Doubtless there exists in this world precisely...</td>\n",
       "      <td>Senza dubbio esiste in questo mondo proprio la...</td>\n",
       "    </tr>\n",
       "    <tr>\n",
       "      <th>358372</th>\n",
       "      <td>Doubtless there exists in this world precisely...</td>\n",
       "      <td>Senza dubbio esiste in questo mondo proprio la...</td>\n",
       "    </tr>\n",
       "  </tbody>\n",
       "</table>\n",
       "</div>"
      ],
      "text/plain": [
       "                                                  english  \\\n",
       "358368  I know that adding sentences only in your nati...   \n",
       "358369  I know that adding sentences only in your nati...   \n",
       "358370  I know that adding sentences only in your nati...   \n",
       "358371  Doubtless there exists in this world precisely...   \n",
       "358372  Doubtless there exists in this world precisely...   \n",
       "\n",
       "                                                  italian  \n",
       "358368  So che aggiungere frasi soltanto nella sua lin...  \n",
       "358369  So che aggiungere frasi solamente nella sua li...  \n",
       "358370  So che aggiungere frasi solamente nella sua li...  \n",
       "358371  Senza dubbio esiste in questo mondo proprio la...  \n",
       "358372  Senza dubbio esiste in questo mondo proprio la...  "
      ]
     },
     "execution_count": 4,
     "metadata": {},
     "output_type": "execute_result"
    }
   ],
   "source": [
    "data.tail()"
   ]
  },
  {
   "cell_type": "markdown",
   "id": "4ded4ee7",
   "metadata": {
    "id": "vmGWTdRmKRph",
    "papermill": {
     "duration": 0.018992,
     "end_time": "2022-12-01T23:04:41.576409",
     "exception": false,
     "start_time": "2022-12-01T23:04:41.557417",
     "status": "completed"
    },
    "tags": []
   },
   "source": [
    "<font color='blue'>**Preprocess data**</font>"
   ]
  },
  {
   "cell_type": "code",
   "execution_count": 5,
   "id": "c75a7dde",
   "metadata": {
    "execution": {
     "iopub.execute_input": "2022-12-01T23:04:41.616415Z",
     "iopub.status.busy": "2022-12-01T23:04:41.616072Z",
     "iopub.status.idle": "2022-12-01T23:04:59.316928Z",
     "shell.execute_reply": "2022-12-01T23:04:59.314899Z"
    },
    "id": "9QqElB_nKZos",
    "papermill": {
     "duration": 17.723515,
     "end_time": "2022-12-01T23:04:59.319118",
     "exception": false,
     "start_time": "2022-12-01T23:04:41.595603",
     "status": "completed"
    },
    "tags": []
   },
   "outputs": [
    {
     "name": "stderr",
     "output_type": "stream",
     "text": [
      "100%|██████████| 358373/358373 [00:08<00:00, 42862.03it/s]\n",
      "100%|██████████| 358373/358373 [00:09<00:00, 38626.95it/s]\n"
     ]
    },
    {
     "data": {
      "text/html": [
       "<div>\n",
       "<style scoped>\n",
       "    .dataframe tbody tr th:only-of-type {\n",
       "        vertical-align: middle;\n",
       "    }\n",
       "\n",
       "    .dataframe tbody tr th {\n",
       "        vertical-align: top;\n",
       "    }\n",
       "\n",
       "    .dataframe thead th {\n",
       "        text-align: right;\n",
       "    }\n",
       "</style>\n",
       "<table border=\"1\" class=\"dataframe\">\n",
       "  <thead>\n",
       "    <tr style=\"text-align: right;\">\n",
       "      <th></th>\n",
       "      <th>english</th>\n",
       "      <th>italian</th>\n",
       "    </tr>\n",
       "  </thead>\n",
       "  <tbody>\n",
       "    <tr>\n",
       "      <th>0</th>\n",
       "      <td>hi</td>\n",
       "      <td>ciao</td>\n",
       "    </tr>\n",
       "    <tr>\n",
       "      <th>1</th>\n",
       "      <td>hi</td>\n",
       "      <td>ciao</td>\n",
       "    </tr>\n",
       "    <tr>\n",
       "      <th>2</th>\n",
       "      <td>run</td>\n",
       "      <td>corri</td>\n",
       "    </tr>\n",
       "    <tr>\n",
       "      <th>3</th>\n",
       "      <td>run</td>\n",
       "      <td>corra</td>\n",
       "    </tr>\n",
       "    <tr>\n",
       "      <th>4</th>\n",
       "      <td>run</td>\n",
       "      <td>correte</td>\n",
       "    </tr>\n",
       "  </tbody>\n",
       "</table>\n",
       "</div>"
      ],
      "text/plain": [
       "  english  italian\n",
       "0      hi     ciao\n",
       "1      hi     ciao\n",
       "2     run    corri\n",
       "3     run    corra\n",
       "4     run  correte"
      ]
     },
     "execution_count": 5,
     "metadata": {},
     "output_type": "execute_result"
    }
   ],
   "source": [
    "def decontractions(phrase):\n",
    "    \n",
    "    # https://stackoverflow.com/questions/19790188/expanding-english-language-contractions-in-python/47091490#47091490\n",
    "    # decontracted takes text and convert contractions into natural form.\n",
    "    \n",
    "    # specific\n",
    "    phrase = re.sub(r\"won\\'t\", \"will not\", phrase)\n",
    "    phrase = re.sub(r\"can\\'t\", \"can not\", phrase)\n",
    "    phrase = re.sub(r\"won\\’t\", \"will not\", phrase)\n",
    "    phrase = re.sub(r\"can\\’t\", \"can not\", phrase)\n",
    "\n",
    "    # general\n",
    "    phrase = re.sub(r\"n\\'t\", \" not\", phrase)\n",
    "    phrase = re.sub(r\"\\'re\", \" are\", phrase)\n",
    "    phrase = re.sub(r\"\\'s\", \" is\", phrase)\n",
    "    phrase = re.sub(r\"\\'d\", \" would\", phrase)\n",
    "    phrase = re.sub(r\"\\'ll\", \" will\", phrase)\n",
    "    phrase = re.sub(r\"\\'t\", \" not\", phrase)\n",
    "    phrase = re.sub(r\"\\'ve\", \" have\", phrase)\n",
    "    phrase = re.sub(r\"\\'m\", \" am\", phrase)\n",
    "\n",
    "    phrase = re.sub(r\"n\\’t\", \" not\", phrase)\n",
    "    phrase = re.sub(r\"\\’re\", \" are\", phrase)\n",
    "    phrase = re.sub(r\"\\’s\", \" is\", phrase)\n",
    "    phrase = re.sub(r\"\\’d\", \" would\", phrase)\n",
    "    phrase = re.sub(r\"\\’ll\", \" will\", phrase)\n",
    "    phrase = re.sub(r\"\\’t\", \" not\", phrase)\n",
    "    phrase = re.sub(r\"\\’ve\", \" have\", phrase)\n",
    "    phrase = re.sub(r\"\\’m\", \" am\", phrase)\n",
    "\n",
    "    return phrase\n",
    "\n",
    "def preprocess(text):\n",
    "    \n",
    "    # https://gist.github.com/anandborad/d410a49a493b56dace4f814ab5325bbd\n",
    "    # convert all the text into lower letters\n",
    "    # remove all the spacial characters: except space ' '\n",
    "    \n",
    "    text = text.lower()\n",
    "    text = decontractions(text)\n",
    "    text = re.sub('[^A-Za-z0-9 ]+', '', text)\n",
    "    return text\n",
    "\n",
    "def preprocess_ita(text):\n",
    "    \n",
    "    # convert all the text into lower letters\n",
    "    # remove the words betweent brakets ()\n",
    "    # remove these characters: {'$', ')', '?', '\"', '’', '.',  '°', '!', ';', '/', \"'\", '€', '%', ':', ',', '('}\n",
    "    # replace these spl characters with space: '\\u200b', '\\xa0', '-', '/'\n",
    "    # we have found these characters after observing the data points, feel free to explore more and see if you can do find more\n",
    "    # you are free to do more proprocessing\n",
    "    # note that the model will learn better with better preprocessed data \n",
    "    \n",
    "    text = text.lower()\n",
    "    text = decontractions(text)\n",
    "    text = re.sub('[$)\\?\"’.°!;\\'€%:,(/]', '', text)\n",
    "    text = re.sub('\\u200b', ' ', text)\n",
    "    text = re.sub('\\xa0', ' ', text)\n",
    "    text = re.sub('-', ' ', text)\n",
    "    return text\n",
    "\n",
    "\n",
    "data['english'] = data['english'].progress_apply(preprocess)\n",
    "data['italian'] = data['italian'].progress_apply(preprocess_ita)\n",
    "data.head()"
   ]
  },
  {
   "cell_type": "code",
   "execution_count": 6,
   "id": "a5893c16",
   "metadata": {
    "execution": {
     "iopub.execute_input": "2022-12-01T23:04:59.378214Z",
     "iopub.status.busy": "2022-12-01T23:04:59.377091Z",
     "iopub.status.idle": "2022-12-01T23:05:01.767914Z",
     "shell.execute_reply": "2022-12-01T23:05:01.766579Z"
    },
    "papermill": {
     "duration": 2.422312,
     "end_time": "2022-12-01T23:05:01.769992",
     "exception": false,
     "start_time": "2022-12-01T23:04:59.347680",
     "status": "completed"
    },
    "tags": []
   },
   "outputs": [
    {
     "name": "stderr",
     "output_type": "stream",
     "text": [
      "100%|██████████| 358373/358373 [00:00<00:00, 919873.24it/s] \n",
      "100%|██████████| 358373/358373 [00:00<00:00, 933077.48it/s] \n"
     ]
    }
   ],
   "source": [
    "ita_lengths = data['italian'].str.split().progress_apply(len)\n",
    "eng_lengths = data['english'].str.split().progress_apply(len)"
   ]
  },
  {
   "cell_type": "markdown",
   "id": "ad974443",
   "metadata": {
    "papermill": {
     "duration": 0.028373,
     "end_time": "2022-12-01T23:05:01.827460",
     "exception": false,
     "start_time": "2022-12-01T23:05:01.799087",
     "status": "completed"
    },
    "tags": []
   },
   "source": [
    "**Analysis on Ennglish sentence length**"
   ]
  },
  {
   "cell_type": "code",
   "execution_count": 7,
   "id": "44aa9f21",
   "metadata": {
    "execution": {
     "iopub.execute_input": "2022-12-01T23:05:01.887071Z",
     "iopub.status.busy": "2022-12-01T23:05:01.886158Z",
     "iopub.status.idle": "2022-12-01T23:05:01.943489Z",
     "shell.execute_reply": "2022-12-01T23:05:01.941934Z"
    },
    "papermill": {
     "duration": 0.089473,
     "end_time": "2022-12-01T23:05:01.945538",
     "exception": false,
     "start_time": "2022-12-01T23:05:01.856065",
     "status": "completed"
    },
    "tags": []
   },
   "outputs": [
    {
     "name": "stdout",
     "output_type": "stream",
     "text": [
      "Percentile : 0 - 100\n",
      "--------------------\n",
      "  0 : 1.0\n",
      " 10 : 4.0\n",
      " 20 : 4.0\n",
      " 30 : 5.0\n",
      " 40 : 5.0\n",
      " 50 : 6.0\n",
      " 60 : 6.0\n",
      " 70 : 7.0\n",
      " 80 : 7.0\n",
      " 90 : 8.0\n",
      "100 : 101.0\n",
      "\n",
      "Percentile : 90 - 100\n",
      "--------------------\n",
      " 90 : 8.0\n",
      " 91 : 9.0\n",
      " 92 : 9.0\n",
      " 93 : 9.0\n",
      " 94 : 9.0\n",
      " 95 : 9.0\n",
      " 96 : 10.0\n",
      " 97 : 10.0\n",
      " 98 : 11.0\n",
      " 99 : 12.0\n",
      "100 : 101.0\n",
      "\n",
      "Percentile : 99 - 100\n",
      "--------------------\n",
      "99.1 : 12.0\n",
      "99.2 : 13.0\n",
      "99.3 : 13.0\n",
      "99.4 : 13.0\n",
      "99.5 : 14.0\n",
      "99.6 : 14.0\n",
      "99.7 : 15.0\n",
      "99.8 : 16.0\n",
      "99.9 : 25.0\n",
      "100 : 101.0\n"
     ]
    }
   ],
   "source": [
    "print('Percentile : 0 - 100'); print('-' * 20)\n",
    "for i in range(0,101,10):\n",
    "    print(f'{i:3d} : {np.percentile(eng_lengths, i)}')\n",
    "\n",
    "print('\\nPercentile : 90 - 100'); print('-' * 20)\n",
    "for i in range(90,101):\n",
    "    print(f'{i:3d} : {np.percentile(eng_lengths, i)}')\n",
    "    \n",
    "print('\\nPercentile : 99 - 100'); print('-' * 20)\n",
    "for i in [99.1,99.2,99.3,99.4,99.5,99.6,99.7,99.8,99.9,100]:\n",
    "    print(f'{i} : {np.percentile(eng_lengths, i)}')"
   ]
  },
  {
   "cell_type": "markdown",
   "id": "0117d23f",
   "metadata": {
    "papermill": {
     "duration": 0.028858,
     "end_time": "2022-12-01T23:05:02.003562",
     "exception": false,
     "start_time": "2022-12-01T23:05:01.974704",
     "status": "completed"
    },
    "tags": []
   },
   "source": [
    "**Analysis on Italian sentence length**"
   ]
  },
  {
   "cell_type": "code",
   "execution_count": 8,
   "id": "fe64d694",
   "metadata": {
    "execution": {
     "iopub.execute_input": "2022-12-01T23:05:02.064256Z",
     "iopub.status.busy": "2022-12-01T23:05:02.063117Z",
     "iopub.status.idle": "2022-12-01T23:05:02.123687Z",
     "shell.execute_reply": "2022-12-01T23:05:02.121829Z"
    },
    "papermill": {
     "duration": 0.092651,
     "end_time": "2022-12-01T23:05:02.125578",
     "exception": false,
     "start_time": "2022-12-01T23:05:02.032927",
     "status": "completed"
    },
    "tags": []
   },
   "outputs": [
    {
     "name": "stdout",
     "output_type": "stream",
     "text": [
      "Percentile : 0 - 100\n",
      "--------------------\n",
      "  0 : 1.0\n",
      " 10 : 3.0\n",
      " 20 : 4.0\n",
      " 30 : 4.0\n",
      " 40 : 5.0\n",
      " 50 : 5.0\n",
      " 60 : 6.0\n",
      " 70 : 6.0\n",
      " 80 : 7.0\n",
      " 90 : 8.0\n",
      "100 : 92.0\n",
      "\n",
      "Percentile : 90 - 100\n",
      "--------------------\n",
      " 90 : 8.0\n",
      " 91 : 8.0\n",
      " 92 : 8.0\n",
      " 93 : 9.0\n",
      " 94 : 9.0\n",
      " 95 : 9.0\n",
      " 96 : 9.0\n",
      " 97 : 10.0\n",
      " 98 : 11.0\n",
      " 99 : 12.0\n",
      "100 : 92.0\n",
      "\n",
      "Percentile : 99 - 100\n",
      "--------------------\n",
      "99.1 : 12.0\n",
      "99.2 : 12.0\n",
      "99.3 : 13.0\n",
      "99.4 : 13.0\n",
      "99.5 : 13.0\n",
      "99.6 : 14.0\n",
      "99.7 : 15.0\n",
      "99.8 : 16.0\n",
      "99.9 : 22.0\n",
      "100 : 92.0\n"
     ]
    }
   ],
   "source": [
    "print('Percentile : 0 - 100'); print('-' * 20)\n",
    "for i in range(0,101,10):\n",
    "    print(f'{i:3d} : {np.percentile(ita_lengths, i)}')\n",
    "\n",
    "print('\\nPercentile : 90 - 100'); print('-' * 20)\n",
    "for i in range(90,101):\n",
    "    print(f'{i:3d} : {np.percentile(ita_lengths, i)}')\n",
    "    \n",
    "print('\\nPercentile : 99 - 100'); print('-' * 20)\n",
    "for i in [99.1,99.2,99.3,99.4,99.5,99.6,99.7,99.8,99.9,100]:\n",
    "    print(f'{i} : {np.percentile(ita_lengths, i)}')"
   ]
  },
  {
   "cell_type": "markdown",
   "id": "9b9185bc",
   "metadata": {
    "papermill": {
     "duration": 0.028769,
     "end_time": "2022-12-01T23:05:02.184193",
     "exception": false,
     "start_time": "2022-12-01T23:05:02.155424",
     "status": "completed"
    },
    "tags": []
   },
   "source": [
    "> <font color=\"blue\"><b>If you observe the values, 99.9% of the data points are having length &lt; 20, so select the sentences that have words &lt; 20 </b> </font>\n",
    "<br>\n",
    "<br>\n",
    "> <font color=\"green\"><b>Inorder to do the teacher forcing while training of seq-seq models, lets create two new columns, one with  &lt;start&gt; token at begining of the sentence and other column with &lt;end&gt; token at the end of the sequence</b></font>"
   ]
  },
  {
   "cell_type": "code",
   "execution_count": 9,
   "id": "72a68b56",
   "metadata": {
    "execution": {
     "iopub.execute_input": "2022-12-01T23:05:02.244632Z",
     "iopub.status.busy": "2022-12-01T23:05:02.243564Z",
     "iopub.status.idle": "2022-12-01T23:05:05.690730Z",
     "shell.execute_reply": "2022-12-01T23:05:05.689705Z"
    },
    "papermill": {
     "duration": 3.479704,
     "end_time": "2022-12-01T23:05:05.692919",
     "exception": false,
     "start_time": "2022-12-01T23:05:02.213215",
     "status": "completed"
    },
    "tags": []
   },
   "outputs": [
    {
     "name": "stderr",
     "output_type": "stream",
     "text": [
      "100%|██████████| 358373/358373 [00:00<00:00, 916978.18it/s] \n",
      "100%|██████████| 357956/357956 [00:00<00:00, 751496.38it/s]\n"
     ]
    },
    {
     "data": {
      "text/html": [
       "<div>\n",
       "<style scoped>\n",
       "    .dataframe tbody tr th:only-of-type {\n",
       "        vertical-align: middle;\n",
       "    }\n",
       "\n",
       "    .dataframe tbody tr th {\n",
       "        vertical-align: top;\n",
       "    }\n",
       "\n",
       "    .dataframe thead th {\n",
       "        text-align: right;\n",
       "    }\n",
       "</style>\n",
       "<table border=\"1\" class=\"dataframe\">\n",
       "  <thead>\n",
       "    <tr style=\"text-align: right;\">\n",
       "      <th></th>\n",
       "      <th>italian</th>\n",
       "      <th>english_inp</th>\n",
       "      <th>english_out</th>\n",
       "    </tr>\n",
       "  </thead>\n",
       "  <tbody>\n",
       "    <tr>\n",
       "      <th>0</th>\n",
       "      <td>ciao</td>\n",
       "      <td>&lt;start&gt; hi</td>\n",
       "      <td>hi &lt;end&gt;</td>\n",
       "    </tr>\n",
       "    <tr>\n",
       "      <th>1</th>\n",
       "      <td>ciao</td>\n",
       "      <td>&lt;start&gt; hi</td>\n",
       "      <td>hi &lt;end&gt;</td>\n",
       "    </tr>\n",
       "    <tr>\n",
       "      <th>2</th>\n",
       "      <td>corri</td>\n",
       "      <td>&lt;start&gt; run</td>\n",
       "      <td>run &lt;end&gt;</td>\n",
       "    </tr>\n",
       "    <tr>\n",
       "      <th>3</th>\n",
       "      <td>corra</td>\n",
       "      <td>&lt;start&gt; run</td>\n",
       "      <td>run &lt;end&gt;</td>\n",
       "    </tr>\n",
       "    <tr>\n",
       "      <th>4</th>\n",
       "      <td>correte</td>\n",
       "      <td>&lt;start&gt; run</td>\n",
       "      <td>run &lt;end&gt;</td>\n",
       "    </tr>\n",
       "  </tbody>\n",
       "</table>\n",
       "</div>"
      ],
      "text/plain": [
       "   italian  english_inp english_out\n",
       "0     ciao   <start> hi    hi <end>\n",
       "1     ciao   <start> hi    hi <end>\n",
       "2    corri  <start> run   run <end>\n",
       "3    corra  <start> run   run <end>\n",
       "4  correte  <start> run   run <end>"
      ]
     },
     "execution_count": 9,
     "metadata": {},
     "output_type": "execute_result"
    }
   ],
   "source": [
    "data['italian_len'] = data['italian'].str.split().progress_apply(len)\n",
    "data = data[data['italian_len'] <= 20]\n",
    "\n",
    "data['english_len'] = data['english'].str.split().progress_apply(len)\n",
    "data = data[data['english_len'] <= 20]\n",
    "\n",
    "data['english_inp'] = '<start> ' + data['english'].astype(str)\n",
    "data['english_out'] = data['english'].astype(str) + ' <end>'\n",
    "\n",
    "data = data.drop(['english','italian_len','english_len'], axis=1)\n",
    "\n",
    "# only for the first sentance add a toke <end> so that we will have <end> in tokenizer\n",
    "\n",
    "data.head()"
   ]
  },
  {
   "cell_type": "code",
   "execution_count": 10,
   "id": "ba8df9c0",
   "metadata": {
    "execution": {
     "iopub.execute_input": "2022-12-01T23:05:05.814155Z",
     "iopub.status.busy": "2022-12-01T23:05:05.813281Z",
     "iopub.status.idle": "2022-12-01T23:05:05.882496Z",
     "shell.execute_reply": "2022-12-01T23:05:05.881548Z"
    },
    "papermill": {
     "duration": 0.101899,
     "end_time": "2022-12-01T23:05:05.884890",
     "exception": false,
     "start_time": "2022-12-01T23:05:05.782991",
     "status": "completed"
    },
    "tags": []
   },
   "outputs": [],
   "source": [
    "train, validation = train_test_split(data, test_size = 0.2, random_state = 45)"
   ]
  },
  {
   "cell_type": "code",
   "execution_count": 11,
   "id": "a1a1a042",
   "metadata": {
    "execution": {
     "iopub.execute_input": "2022-12-01T23:05:05.945795Z",
     "iopub.status.busy": "2022-12-01T23:05:05.945469Z",
     "iopub.status.idle": "2022-12-01T23:05:05.956226Z",
     "shell.execute_reply": "2022-12-01T23:05:05.955328Z"
    },
    "papermill": {
     "duration": 0.043313,
     "end_time": "2022-12-01T23:05:05.958266",
     "exception": false,
     "start_time": "2022-12-01T23:05:05.914953",
     "status": "completed"
    },
    "tags": []
   },
   "outputs": [
    {
     "data": {
      "text/html": [
       "<div>\n",
       "<style scoped>\n",
       "    .dataframe tbody tr th:only-of-type {\n",
       "        vertical-align: middle;\n",
       "    }\n",
       "\n",
       "    .dataframe tbody tr th {\n",
       "        vertical-align: top;\n",
       "    }\n",
       "\n",
       "    .dataframe thead th {\n",
       "        text-align: right;\n",
       "    }\n",
       "</style>\n",
       "<table border=\"1\" class=\"dataframe\">\n",
       "  <thead>\n",
       "    <tr style=\"text-align: right;\">\n",
       "      <th></th>\n",
       "      <th>italian</th>\n",
       "      <th>english_inp</th>\n",
       "      <th>english_out</th>\n",
       "    </tr>\n",
       "  </thead>\n",
       "  <tbody>\n",
       "    <tr>\n",
       "      <th>291747</th>\n",
       "      <td>ho bisogno di scoprire dove vive tom</td>\n",
       "      <td>&lt;start&gt; i need to find out where tom lives</td>\n",
       "      <td>i need to find out where tom lives &lt;end&gt;</td>\n",
       "    </tr>\n",
       "    <tr>\n",
       "      <th>340581</th>\n",
       "      <td>puoi permetterti di prendere le ferie questestate</td>\n",
       "      <td>&lt;start&gt; can you afford to take a holiday this ...</td>\n",
       "      <td>can you afford to take a holiday this summer &lt;...</td>\n",
       "    </tr>\n",
       "    <tr>\n",
       "      <th>59340</th>\n",
       "      <td>non mi dare quella</td>\n",
       "      <td>&lt;start&gt; do not give me that</td>\n",
       "      <td>do not give me that &lt;end&gt;</td>\n",
       "    </tr>\n",
       "    <tr>\n",
       "      <th>13685</th>\n",
       "      <td>io non danzerò</td>\n",
       "      <td>&lt;start&gt; i will not dance</td>\n",
       "      <td>i will not dance &lt;end&gt;</td>\n",
       "    </tr>\n",
       "    <tr>\n",
       "      <th>348676</th>\n",
       "      <td>tom ha iniziato a trascorrere molto tempo con ...</td>\n",
       "      <td>&lt;start&gt; tom has started spending a lot of time...</td>\n",
       "      <td>tom has started spending a lot of time with ma...</td>\n",
       "    </tr>\n",
       "  </tbody>\n",
       "</table>\n",
       "</div>"
      ],
      "text/plain": [
       "                                                  italian  \\\n",
       "291747               ho bisogno di scoprire dove vive tom   \n",
       "340581  puoi permetterti di prendere le ferie questestate   \n",
       "59340                                  non mi dare quella   \n",
       "13685                                      io non danzerò   \n",
       "348676  tom ha iniziato a trascorrere molto tempo con ...   \n",
       "\n",
       "                                              english_inp  \\\n",
       "291747         <start> i need to find out where tom lives   \n",
       "340581  <start> can you afford to take a holiday this ...   \n",
       "59340                         <start> do not give me that   \n",
       "13685                            <start> i will not dance   \n",
       "348676  <start> tom has started spending a lot of time...   \n",
       "\n",
       "                                              english_out  \n",
       "291747           i need to find out where tom lives <end>  \n",
       "340581  can you afford to take a holiday this summer <...  \n",
       "59340                           do not give me that <end>  \n",
       "13685                              i will not dance <end>  \n",
       "348676  tom has started spending a lot of time with ma...  "
      ]
     },
     "execution_count": 11,
     "metadata": {},
     "output_type": "execute_result"
    }
   ],
   "source": [
    "train.head()"
   ]
  },
  {
   "cell_type": "code",
   "execution_count": 12,
   "id": "ac9965f4",
   "metadata": {
    "execution": {
     "iopub.execute_input": "2022-12-01T23:05:06.019867Z",
     "iopub.status.busy": "2022-12-01T23:05:06.019326Z",
     "iopub.status.idle": "2022-12-01T23:05:06.025638Z",
     "shell.execute_reply": "2022-12-01T23:05:06.024639Z"
    },
    "papermill": {
     "duration": 0.040616,
     "end_time": "2022-12-01T23:05:06.029122",
     "exception": false,
     "start_time": "2022-12-01T23:05:05.988506",
     "status": "completed"
    },
    "tags": []
   },
   "outputs": [
    {
     "name": "stdout",
     "output_type": "stream",
     "text": [
      "Train Shape : (286329, 3)\n",
      "Validation Shape : (71583, 3)\n"
     ]
    }
   ],
   "source": [
    "print(f'Train Shape : {train.shape}\\nValidation Shape : {validation.shape}')\n",
    "\n",
    "# for one sentence we will be adding <end> token so that the tokanizer learns the word <end>\n",
    "# with this we can use only one tokenizer for both encoder output and decoder output\n",
    "\n",
    "train.iloc[0]['english_inp'] = str(train.iloc[0]['english_inp']) + ' <end>'\n",
    "train.iloc[0]['english_out'] = str(train.iloc[0]['english_out']) + ' <end>'"
   ]
  },
  {
   "cell_type": "code",
   "execution_count": 13,
   "id": "7dea2311",
   "metadata": {
    "execution": {
     "iopub.execute_input": "2022-12-01T23:05:06.089434Z",
     "iopub.status.busy": "2022-12-01T23:05:06.089169Z",
     "iopub.status.idle": "2022-12-01T23:05:06.100181Z",
     "shell.execute_reply": "2022-12-01T23:05:06.099317Z"
    },
    "papermill": {
     "duration": 0.043456,
     "end_time": "2022-12-01T23:05:06.102197",
     "exception": false,
     "start_time": "2022-12-01T23:05:06.058741",
     "status": "completed"
    },
    "tags": []
   },
   "outputs": [
    {
     "data": {
      "text/html": [
       "<div>\n",
       "<style scoped>\n",
       "    .dataframe tbody tr th:only-of-type {\n",
       "        vertical-align: middle;\n",
       "    }\n",
       "\n",
       "    .dataframe tbody tr th {\n",
       "        vertical-align: top;\n",
       "    }\n",
       "\n",
       "    .dataframe thead th {\n",
       "        text-align: right;\n",
       "    }\n",
       "</style>\n",
       "<table border=\"1\" class=\"dataframe\">\n",
       "  <thead>\n",
       "    <tr style=\"text-align: right;\">\n",
       "      <th></th>\n",
       "      <th>italian</th>\n",
       "      <th>english_inp</th>\n",
       "      <th>english_out</th>\n",
       "    </tr>\n",
       "  </thead>\n",
       "  <tbody>\n",
       "    <tr>\n",
       "      <th>291747</th>\n",
       "      <td>ho bisogno di scoprire dove vive tom</td>\n",
       "      <td>&lt;start&gt; i need to find out where tom lives &lt;end&gt;</td>\n",
       "      <td>i need to find out where tom lives &lt;end&gt; &lt;end&gt;</td>\n",
       "    </tr>\n",
       "    <tr>\n",
       "      <th>340581</th>\n",
       "      <td>puoi permetterti di prendere le ferie questestate</td>\n",
       "      <td>&lt;start&gt; can you afford to take a holiday this ...</td>\n",
       "      <td>can you afford to take a holiday this summer &lt;...</td>\n",
       "    </tr>\n",
       "    <tr>\n",
       "      <th>59340</th>\n",
       "      <td>non mi dare quella</td>\n",
       "      <td>&lt;start&gt; do not give me that</td>\n",
       "      <td>do not give me that &lt;end&gt;</td>\n",
       "    </tr>\n",
       "    <tr>\n",
       "      <th>13685</th>\n",
       "      <td>io non danzerò</td>\n",
       "      <td>&lt;start&gt; i will not dance</td>\n",
       "      <td>i will not dance &lt;end&gt;</td>\n",
       "    </tr>\n",
       "    <tr>\n",
       "      <th>348676</th>\n",
       "      <td>tom ha iniziato a trascorrere molto tempo con ...</td>\n",
       "      <td>&lt;start&gt; tom has started spending a lot of time...</td>\n",
       "      <td>tom has started spending a lot of time with ma...</td>\n",
       "    </tr>\n",
       "  </tbody>\n",
       "</table>\n",
       "</div>"
      ],
      "text/plain": [
       "                                                  italian  \\\n",
       "291747               ho bisogno di scoprire dove vive tom   \n",
       "340581  puoi permetterti di prendere le ferie questestate   \n",
       "59340                                  non mi dare quella   \n",
       "13685                                      io non danzerò   \n",
       "348676  tom ha iniziato a trascorrere molto tempo con ...   \n",
       "\n",
       "                                              english_inp  \\\n",
       "291747   <start> i need to find out where tom lives <end>   \n",
       "340581  <start> can you afford to take a holiday this ...   \n",
       "59340                         <start> do not give me that   \n",
       "13685                            <start> i will not dance   \n",
       "348676  <start> tom has started spending a lot of time...   \n",
       "\n",
       "                                              english_out  \n",
       "291747     i need to find out where tom lives <end> <end>  \n",
       "340581  can you afford to take a holiday this summer <...  \n",
       "59340                           do not give me that <end>  \n",
       "13685                              i will not dance <end>  \n",
       "348676  tom has started spending a lot of time with ma...  "
      ]
     },
     "execution_count": 13,
     "metadata": {},
     "output_type": "execute_result"
    }
   ],
   "source": [
    "train.head()"
   ]
  },
  {
   "cell_type": "code",
   "execution_count": 14,
   "id": "41cbdc26",
   "metadata": {
    "execution": {
     "iopub.execute_input": "2022-12-01T23:05:06.163778Z",
     "iopub.status.busy": "2022-12-01T23:05:06.162883Z",
     "iopub.status.idle": "2022-12-01T23:05:12.794678Z",
     "shell.execute_reply": "2022-12-01T23:05:12.793688Z"
    },
    "papermill": {
     "duration": 6.664959,
     "end_time": "2022-12-01T23:05:12.797056",
     "exception": false,
     "start_time": "2022-12-01T23:05:06.132097",
     "status": "completed"
    },
    "tags": []
   },
   "outputs": [],
   "source": [
    "tknizer_ita = Tokenizer()\n",
    "tknizer_ita.fit_on_texts(train['italian'].values)\n",
    "tknizer_eng = Tokenizer(filters='!\"#$%&()*+,-./:;=?@[\\\\]^_`{|}~\\t\\n')\n",
    "tknizer_eng.fit_on_texts(train['english_inp'].values)"
   ]
  },
  {
   "cell_type": "code",
   "execution_count": 15,
   "id": "40f3af3d",
   "metadata": {
    "execution": {
     "iopub.execute_input": "2022-12-01T23:05:12.859170Z",
     "iopub.status.busy": "2022-12-01T23:05:12.858834Z",
     "iopub.status.idle": "2022-12-01T23:05:12.864446Z",
     "shell.execute_reply": "2022-12-01T23:05:12.863390Z"
    },
    "papermill": {
     "duration": 0.040628,
     "end_time": "2022-12-01T23:05:12.868383",
     "exception": false,
     "start_time": "2022-12-01T23:05:12.827755",
     "status": "completed"
    },
    "tags": []
   },
   "outputs": [
    {
     "name": "stdout",
     "output_type": "stream",
     "text": [
      "13206\n",
      "26862\n"
     ]
    }
   ],
   "source": [
    "vocab_size_eng = len(tknizer_eng.word_index.keys())\n",
    "print(vocab_size_eng)\n",
    "vocab_size_ita = len(tknizer_ita.word_index.keys())\n",
    "print(vocab_size_ita)"
   ]
  },
  {
   "cell_type": "code",
   "execution_count": 16,
   "id": "5ec3c12b",
   "metadata": {
    "execution": {
     "iopub.execute_input": "2022-12-01T23:05:12.932244Z",
     "iopub.status.busy": "2022-12-01T23:05:12.931910Z",
     "iopub.status.idle": "2022-12-01T23:05:12.939348Z",
     "shell.execute_reply": "2022-12-01T23:05:12.938348Z"
    },
    "papermill": {
     "duration": 0.040835,
     "end_time": "2022-12-01T23:05:12.941400",
     "exception": false,
     "start_time": "2022-12-01T23:05:12.900565",
     "status": "completed"
    },
    "tags": []
   },
   "outputs": [
    {
     "data": {
      "text/plain": [
       "(1, 10389)"
      ]
     },
     "execution_count": 16,
     "metadata": {},
     "output_type": "execute_result"
    }
   ],
   "source": [
    "tknizer_eng.word_index['<start>'], tknizer_eng.word_index['<end>']"
   ]
  },
  {
   "cell_type": "markdown",
   "id": "a11ca3ca",
   "metadata": {
    "id": "S8RDrP4xKabR",
    "papermill": {
     "duration": 0.030076,
     "end_time": "2022-12-01T23:05:13.002460",
     "exception": false,
     "start_time": "2022-12-01T23:05:12.972384",
     "status": "completed"
    },
    "tags": []
   },
   "source": [
    "## <font color='blue'>**Implement custom encoder decoder**</font>"
   ]
  },
  {
   "cell_type": "markdown",
   "id": "0f5195a8",
   "metadata": {
    "id": "A45uc0JILMlV",
    "papermill": {
     "duration": 0.030109,
     "end_time": "2022-12-01T23:05:13.063014",
     "exception": false,
     "start_time": "2022-12-01T23:05:13.032905",
     "status": "completed"
    },
    "tags": []
   },
   "source": [
    "<font color='blue'>**Encoder**</font>"
   ]
  },
  {
   "cell_type": "code",
   "execution_count": 17,
   "id": "48206944",
   "metadata": {
    "execution": {
     "iopub.execute_input": "2022-12-01T23:05:13.125208Z",
     "iopub.status.busy": "2022-12-01T23:05:13.124263Z",
     "iopub.status.idle": "2022-12-01T23:05:13.134097Z",
     "shell.execute_reply": "2022-12-01T23:05:13.133132Z"
    },
    "id": "9cex2XfCLOew",
    "papermill": {
     "duration": 0.043087,
     "end_time": "2022-12-01T23:05:13.136171",
     "exception": false,
     "start_time": "2022-12-01T23:05:13.093084",
     "status": "completed"
    },
    "tags": []
   },
   "outputs": [],
   "source": [
    "class Encoder(tf.keras.Model):\n",
    "    '''\n",
    "    Encoder model -- That takes a input sequence and returns encoder-outputs,\n",
    "                                encoder_final_state_h,encoder_final_state_c\n",
    "    '''\n",
    "\n",
    "    def __init__(self, inp_vocab_size, embedding_size, lstm_size, input_length):\n",
    "        super().__init__()\n",
    "        \n",
    "        self.inp_vocab_size = inp_vocab_size\n",
    "        self.embedding_size = embedding_size\n",
    "        self.input_length = input_length\n",
    "        self.lstm_size = lstm_size\n",
    "\n",
    "        # Initialize Embedding layer\n",
    "        self.embeding = Embedding(input_dim = self.inp_vocab_size, output_dim = self.embedding_size, \\\n",
    "                  input_length = self.input_length, mask_zero = True, name = 'EmbeddingLayerEncoder')\n",
    "        \n",
    "        # Intialize Encoder LSTM layer\n",
    "        self.lstm = LSTM(units = self.lstm_size, return_state = True, \\\n",
    "                                                     return_sequences = True,  name = 'LSTM_Encoder')\n",
    "        \n",
    "    def call(self, input_sequence, states):\n",
    "                         \n",
    "        '''\n",
    "        This function takes a sequence input and the initial states of the encoder.\n",
    "        Pass the input_sequence input to the Embedding layer, Pass the embedding layer ouput to encoder_lstm\n",
    "        returns -- encoder_output, last time step's hidden and cell state\n",
    "        '''\n",
    "                         \n",
    "        input_embeddings = self.embeding(input_sequence)\n",
    "        self.encoder_output, self.encoder_last_state_h, self.encoder_last_state_c = \\\n",
    "                                                self.lstm(input_embeddings) #, initial_state = states)\n",
    "        return self.encoder_output, self.encoder_last_state_h, self.encoder_last_state_c\n",
    "    \n",
    "    def initialize_states(self, batch_size):\n",
    "                         \n",
    "        '''\n",
    "        Given a batch size it will return intial hidden state and intial cell state.\n",
    "        If batch size is 32- Hidden state is zeros of size [32,lstm_units],\n",
    "                                                            cell state zeros is of size [32,lstm_units]\n",
    "        '''\n",
    "                         \n",
    "        self.st_h = tf.zeros((batch_size, self.lstm_size))\n",
    "        self.st_i = tf.zeros((batch_size, self.lstm_size))\n",
    "        \n",
    "        return self.st_h, self.st_i"
   ]
  },
  {
   "cell_type": "markdown",
   "id": "93c518ec",
   "metadata": {
    "id": "EtbOI3VwLOe0",
    "papermill": {
     "duration": 0.029791,
     "end_time": "2022-12-01T23:05:13.195940",
     "exception": false,
     "start_time": "2022-12-01T23:05:13.166149",
     "status": "completed"
    },
    "tags": []
   },
   "source": [
    "<font color='orange'>**Grader function - 1**</font>"
   ]
  },
  {
   "cell_type": "code",
   "execution_count": 18,
   "id": "acb0ea76",
   "metadata": {
    "execution": {
     "iopub.execute_input": "2022-12-01T23:05:13.257021Z",
     "iopub.status.busy": "2022-12-01T23:05:13.256718Z",
     "iopub.status.idle": "2022-12-01T23:05:17.063951Z",
     "shell.execute_reply": "2022-12-01T23:05:17.062718Z"
    },
    "id": "ziSqOgmhLOe1",
    "papermill": {
     "duration": 3.840809,
     "end_time": "2022-12-01T23:05:17.066622",
     "exception": false,
     "start_time": "2022-12-01T23:05:13.225813",
     "status": "completed"
    },
    "tags": []
   },
   "outputs": [
    {
     "name": "stdout",
     "output_type": "stream",
     "text": [
      "True\n"
     ]
    }
   ],
   "source": [
    "def grader_check_encoder():\n",
    "    \n",
    "    '''\n",
    "        vocab-size: Unique words of the input language,\n",
    "        embedding_size: output embedding dimension for each word after embedding layer,\n",
    "        lstm_size: Number of lstm units,\n",
    "        input_length: Length of the input sentence,\n",
    "        batch_size\n",
    "    '''\n",
    "    \n",
    "    vocab_size = 10\n",
    "    embedding_size = 20\n",
    "    lstm_size = 32\n",
    "    input_length = 10\n",
    "    batch_size = 16\n",
    "    \n",
    "    #Intialzing encoder \n",
    "    encoder = Encoder(vocab_size, embedding_size, lstm_size, input_length)\n",
    "    input_sequence = tf.random.uniform(shape = [batch_size, input_length], \\\n",
    "                                       maxval = vocab_size, minval = 0, dtype = tf.int32)\n",
    "     \n",
    "    #Intializing encoder initial states\n",
    "    initial_state=encoder.initialize_states(batch_size)\n",
    "    \n",
    "    encoder_output,state_h,state_c=encoder(input_sequence,initial_state)\n",
    "    \n",
    "    assert(encoder_output.shape==(batch_size,input_length,lstm_size) and \\\n",
    "                   state_h.shape==(batch_size,lstm_size) and state_c.shape==(batch_size,lstm_size))\n",
    "    return True\n",
    "\n",
    "print(grader_check_encoder())"
   ]
  },
  {
   "cell_type": "code",
   "execution_count": 19,
   "id": "dd3543b5",
   "metadata": {
    "execution": {
     "iopub.execute_input": "2022-12-01T23:05:17.129984Z",
     "iopub.status.busy": "2022-12-01T23:05:17.129143Z",
     "iopub.status.idle": "2022-12-01T23:05:17.137538Z",
     "shell.execute_reply": "2022-12-01T23:05:17.136696Z"
    },
    "id": "x1ES1-sJLOe4",
    "papermill": {
     "duration": 0.041773,
     "end_time": "2022-12-01T23:05:17.139563",
     "exception": false,
     "start_time": "2022-12-01T23:05:17.097790",
     "status": "completed"
    },
    "tags": []
   },
   "outputs": [],
   "source": [
    "class Decoder(tf.keras.Model):\n",
    "    '''\n",
    "    Encoder model -- That takes a input sequence and returns output sequence\n",
    "    '''\n",
    "\n",
    "    def __init__(self, out_vocab_size, embedding_size, lstm_size, input_length):\n",
    "        super().__init__()\n",
    "        \n",
    "        \n",
    "        self.out_vocab_size = out_vocab_size\n",
    "        self.embedding_size = embedding_size\n",
    "        self.input_length = input_length\n",
    "        self.lstm_size = lstm_size\n",
    "        \n",
    "        # Initialize Embedding layer\n",
    "        self.embeding = Embedding(input_dim = self.out_vocab_size, output_dim = self.embedding_size, \\\n",
    "                    input_length = self.input_length, mask_zero = True, name = 'EmbeddingLayerDecoder')\n",
    "        \n",
    "        # Intialize Decoder LSTM layer\n",
    "        self.lstm = LSTM(units = self.lstm_size, return_state = True, return_sequences = True, \\\n",
    "                                                                                 name = 'LSTM_Decoder')\n",
    "\n",
    "    def call(self, input_sequence, initial_states):\n",
    "        '''\n",
    "          This function takes a sequence input and the initial states of the encoder.\n",
    "          Pass the input_sequence input to the Embedding layer, Pass the embedding layer ouput to decoder_lstm\n",
    "        \n",
    "          returns -- decoder_output, decoder_final_state_h, decoder_final_state_c\n",
    "        '''\n",
    "\n",
    "        input_embed = self.embeding(input_sequence)\n",
    "        self.decoder_output, self.decoder_final_state_h, self.decoder_final_state_c = \\\n",
    "                                                    self.lstm(input_embed, initial_state = initial_states)\n",
    "\n",
    "        return self.decoder_output, self.decoder_final_state_h, self.decoder_final_state_c"
   ]
  },
  {
   "cell_type": "markdown",
   "id": "62ae6bde",
   "metadata": {
    "id": "Hq-I0SUbLOe8",
    "papermill": {
     "duration": 0.029857,
     "end_time": "2022-12-01T23:05:17.199577",
     "exception": false,
     "start_time": "2022-12-01T23:05:17.169720",
     "status": "completed"
    },
    "tags": []
   },
   "source": [
    "<font color='orange'>**Grader function - 2**</font>"
   ]
  },
  {
   "cell_type": "code",
   "execution_count": 20,
   "id": "4909a7de",
   "metadata": {
    "execution": {
     "iopub.execute_input": "2022-12-01T23:05:17.262023Z",
     "iopub.status.busy": "2022-12-01T23:05:17.261111Z",
     "iopub.status.idle": "2022-12-01T23:05:17.297000Z",
     "shell.execute_reply": "2022-12-01T23:05:17.295693Z"
    },
    "id": "0B0gokgKLOe8",
    "papermill": {
     "duration": 0.070095,
     "end_time": "2022-12-01T23:05:17.299695",
     "exception": false,
     "start_time": "2022-12-01T23:05:17.229600",
     "status": "completed"
    },
    "tags": []
   },
   "outputs": [
    {
     "name": "stdout",
     "output_type": "stream",
     "text": [
      "True\n"
     ]
    }
   ],
   "source": [
    "def grader_decoder():\n",
    "    \n",
    "    '''\n",
    "    out_vocab_size: Unique words of the target language,\n",
    "    embedding_size: output embedding dimension for each word after embedding layer,\n",
    "    dec_units: Number of lstm units in decoder,\n",
    "    input_length: Length of the input sentence,\n",
    "    batch_size\n",
    "    '''\n",
    "    \n",
    "    out_vocab_size = 13 \n",
    "    embedding_dim = 12 \n",
    "    input_length = 10\n",
    "    dec_units = 16 \n",
    "    batch_size = 32\n",
    "    \n",
    "    target_sentences = tf.random.uniform(shape = (batch_size, input_length), maxval = 10, \\\n",
    "                                         minval = 0, dtype = tf.int32)\n",
    "    \n",
    "    encoder_output = tf.random.uniform(shape = [batch_size, input_length, dec_units])\n",
    "    state_h = tf.random.uniform(shape = [batch_size, dec_units])\n",
    "    state_c = tf.random.uniform(shape = [batch_size, dec_units])\n",
    "    states = [state_h, state_c]\n",
    "    decoder = Decoder(out_vocab_size, embedding_dim, dec_units,input_length )\n",
    "    output, _ ,_ = decoder(target_sentences, states)\n",
    "    \n",
    "    assert(output.shape == (batch_size, input_length, dec_units))\n",
    "    return True\n",
    "\n",
    "print(grader_decoder())"
   ]
  },
  {
   "cell_type": "code",
   "execution_count": 21,
   "id": "3406db5f",
   "metadata": {
    "execution": {
     "iopub.execute_input": "2022-12-01T23:05:17.364280Z",
     "iopub.status.busy": "2022-12-01T23:05:17.363946Z",
     "iopub.status.idle": "2022-12-01T23:05:17.372564Z",
     "shell.execute_reply": "2022-12-01T23:05:17.371616Z"
    },
    "id": "BXrIj4scLOe_",
    "papermill": {
     "duration": 0.042473,
     "end_time": "2022-12-01T23:05:17.374547",
     "exception": false,
     "start_time": "2022-12-01T23:05:17.332074",
     "status": "completed"
    },
    "tags": []
   },
   "outputs": [],
   "source": [
    "class Encoder_decoder(tf.keras.Model):\n",
    "    \n",
    "    def __init__(self, en_vocab_size, en_embed_size, en_inputs_length, en_units,\n",
    "                        de_vocab_size, de_embed_size, de_inputs_length, de_units, batch_size):\n",
    "        \n",
    "        super().__init__()\n",
    "        \n",
    "        self.batch_size = batch_size\n",
    "        \n",
    "        # Create encoder object\n",
    "        # Create decoder object\n",
    "        # Intialize Dense layer(out_vocab_size) with activation='softmax'\n",
    "        \n",
    "        self.encoder = Encoder(inp_vocab_size = en_vocab_size, embedding_size = en_embed_size,\n",
    "                               lstm_size = en_inputs_length, input_length = en_units)\n",
    "        \n",
    "        self.decoder = Decoder(out_vocab_size = de_vocab_size, embedding_size = de_embed_size,\n",
    "                               lstm_size = de_inputs_length, input_length = de_units)\n",
    "        \n",
    "        self.dense = Dense(de_vocab_size, activation = 'softmax')\n",
    "    \n",
    "    def call(self, data):\n",
    "        \n",
    "        '''\n",
    "        A. Pass the input sequence to Encoder layer -- \n",
    "                                    Return encoder_output,encoder_final_state_h,encoder_final_state_c\n",
    "                                    \n",
    "        B. Pass the target sequence to \n",
    "                      Decoder layer with intial states as encoder_final_state_h,encoder_final_state_C\n",
    "                      \n",
    "        C. Pass the decoder_outputs into Dense layer \n",
    "        \n",
    "        Return decoder_outputs\n",
    "        '''\n",
    "        \n",
    "        encoder_in_eng, target_in_ita = data[0], data[1]\n",
    "        \n",
    "        # Intializing encoder initial states\n",
    "        \n",
    "        initial_state = self.encoder.initialize_states(self.batch_size)\n",
    "        encoder_out, en_state_h, en_state_c = self.encoder(encoder_in_eng, initial_state)\n",
    "        decoder_out, de_state_h, de_state_c = self.decoder(target_in_ita, [en_state_h, en_state_c])\n",
    "        output = self.dense(decoder_out)\n",
    "        \n",
    "        return output"
   ]
  },
  {
   "cell_type": "code",
   "execution_count": 22,
   "id": "c10237b9",
   "metadata": {
    "execution": {
     "iopub.execute_input": "2022-12-01T23:05:17.437131Z",
     "iopub.status.busy": "2022-12-01T23:05:17.436268Z",
     "iopub.status.idle": "2022-12-01T23:05:17.441530Z",
     "shell.execute_reply": "2022-12-01T23:05:17.440695Z"
    },
    "id": "kcL61dJXLOfB",
    "papermill": {
     "duration": 0.038758,
     "end_time": "2022-12-01T23:05:17.443512",
     "exception": false,
     "start_time": "2022-12-01T23:05:17.404754",
     "status": "completed"
    },
    "tags": []
   },
   "outputs": [],
   "source": [
    "EPOCH = 71\n",
    "BATCH_SIZE = 1024\n",
    "MAX_INPUT_LEN = 20\n",
    "\n",
    "if os.path.isdir('results'):\n",
    "    shutil.rmtree('results')"
   ]
  },
  {
   "cell_type": "code",
   "execution_count": 23,
   "id": "8cd8dd4b",
   "metadata": {
    "execution": {
     "iopub.execute_input": "2022-12-01T23:05:17.505782Z",
     "iopub.status.busy": "2022-12-01T23:05:17.505483Z",
     "iopub.status.idle": "2022-12-01T23:05:17.519795Z",
     "shell.execute_reply": "2022-12-01T23:05:17.518987Z"
    },
    "papermill": {
     "duration": 0.04792,
     "end_time": "2022-12-01T23:05:17.521714",
     "exception": false,
     "start_time": "2022-12-01T23:05:17.473794",
     "status": "completed"
    },
    "tags": []
   },
   "outputs": [],
   "source": [
    "# Create an object of encoder_decoder Model class, \n",
    "\n",
    "class Dataset:\n",
    "    \n",
    "    def __init__(self, data, tknizer_ita, tknizer_eng, max_len):\n",
    "        self.encoder_inps = data['italian'].values\n",
    "        self.decoder_inps = data['english_inp'].values\n",
    "        self.decoder_outs = data['english_out'].values\n",
    "        self.tknizer_eng = tknizer_eng\n",
    "        self.tknizer_ita = tknizer_ita\n",
    "        self.max_len = max_len\n",
    "\n",
    "    def __getitem__(self, i):\n",
    "        self.encoder_seq = self.tknizer_ita.texts_to_sequences([self.encoder_inps[i]]) # need to pass list of values\n",
    "        self.decoder_inp_seq = self.tknizer_eng.texts_to_sequences([self.decoder_inps[i]])\n",
    "        self.decoder_out_seq = self.tknizer_eng.texts_to_sequences([self.decoder_outs[i]])\n",
    "\n",
    "        self.encoder_seq = pad_sequences(self.encoder_seq, maxlen=self.max_len, \\\n",
    "                                                                        dtype='int32', padding='post')\n",
    "        \n",
    "        self.decoder_inp_seq = pad_sequences(self.decoder_inp_seq, maxlen=self.max_len, \\\n",
    "                                                                         dtype='int32', padding='post')\n",
    "        \n",
    "        self.decoder_out_seq = pad_sequences(self.decoder_out_seq, maxlen=self.max_len, \\\n",
    "                                                                         dtype='int32', padding='post')\n",
    "        \n",
    "        return self.encoder_seq, self.decoder_inp_seq, self.decoder_out_seq\n",
    "\n",
    "    def __len__(self): # your model.fit_gen requires this function\n",
    "        return len(self.encoder_inps)\n",
    "\n",
    "    \n",
    "class Dataloder(tf.keras.utils.Sequence):    \n",
    "    def __init__(self, dataset, batch_size=1):\n",
    "        self.dataset = dataset\n",
    "        self.batch_size = batch_size\n",
    "        self.indexes = np.arange(len(self.dataset.encoder_inps))\n",
    "\n",
    "\n",
    "    def __getitem__(self, i):\n",
    "        start = i * self.batch_size\n",
    "        stop = (i + 1) * self.batch_size\n",
    "        data = []\n",
    "        for j in range(start, stop):\n",
    "            data.append(self.dataset[j])\n",
    "\n",
    "        batch = [np.squeeze(np.stack(samples, axis=1), axis=0) for samples in zip(*data)]\n",
    "        # we are creating data like ([italian, english_inp], english_out) these are already converted into seq\n",
    "        return tuple([[batch[0],batch[1]],batch[2]])\n",
    "\n",
    "    def __len__(self):  # your model.fit_gen requires this function\n",
    "        return len(self.indexes) // self.batch_size\n",
    "\n",
    "    def on_epoch_end(self):\n",
    "        self.indexes = np.random.permutation(self.indexes)"
   ]
  },
  {
   "cell_type": "code",
   "execution_count": 24,
   "id": "dfe962e0",
   "metadata": {
    "execution": {
     "iopub.execute_input": "2022-12-01T23:05:17.583795Z",
     "iopub.status.busy": "2022-12-01T23:05:17.583515Z",
     "iopub.status.idle": "2022-12-01T23:05:17.822960Z",
     "shell.execute_reply": "2022-12-01T23:05:17.821820Z"
    },
    "papermill": {
     "duration": 0.273831,
     "end_time": "2022-12-01T23:05:17.826637",
     "exception": false,
     "start_time": "2022-12-01T23:05:17.552806",
     "status": "completed"
    },
    "tags": []
   },
   "outputs": [
    {
     "name": "stdout",
     "output_type": "stream",
     "text": [
      "(1024, 20) (1024, 20) (1024, 20)\n"
     ]
    }
   ],
   "source": [
    "train_dataset = Dataset(train, tknizer_ita, tknizer_eng, MAX_INPUT_LEN)\n",
    "test_dataset  = Dataset(validation, tknizer_ita, tknizer_eng, MAX_INPUT_LEN)\n",
    "\n",
    "train_dataloader = Dataloder(train_dataset, batch_size = BATCH_SIZE)\n",
    "test_dataloader = Dataloder(test_dataset, batch_size = BATCH_SIZE)\n",
    "\n",
    "\n",
    "print(train_dataloader[0][0][0].shape, train_dataloader[0][0][1].shape, train_dataloader[0][1].shape)"
   ]
  },
  {
   "cell_type": "code",
   "execution_count": 25,
   "id": "9247984e",
   "metadata": {
    "execution": {
     "iopub.execute_input": "2022-12-01T23:05:17.953215Z",
     "iopub.status.busy": "2022-12-01T23:05:17.952863Z",
     "iopub.status.idle": "2022-12-01T23:05:17.971548Z",
     "shell.execute_reply": "2022-12-01T23:05:17.970696Z"
    },
    "papermill": {
     "duration": 0.052254,
     "end_time": "2022-12-01T23:05:17.973670",
     "exception": false,
     "start_time": "2022-12-01T23:05:17.921416",
     "status": "completed"
    },
    "tags": []
   },
   "outputs": [],
   "source": [
    "model_1 = Encoder_decoder(en_vocab_size = vocab_size_ita + 1, en_embed_size = 100, \\\n",
    "                          en_inputs_length = MAX_INPUT_LEN, en_units = 512, \\\n",
    "                          de_vocab_size = vocab_size_eng + 1, de_embed_size = 100, \\\n",
    "                          de_inputs_length = MAX_INPUT_LEN, de_units = 512, \\\n",
    "                          batch_size = BATCH_SIZE)"
   ]
  },
  {
   "cell_type": "code",
   "execution_count": 26,
   "id": "df25554f",
   "metadata": {
    "execution": {
     "iopub.execute_input": "2022-12-01T23:05:18.037613Z",
     "iopub.status.busy": "2022-12-01T23:05:18.035835Z",
     "iopub.status.idle": "2022-12-01T23:05:18.041571Z",
     "shell.execute_reply": "2022-12-01T23:05:18.040717Z"
    },
    "papermill": {
     "duration": 0.039373,
     "end_time": "2022-12-01T23:05:18.043576",
     "exception": false,
     "start_time": "2022-12-01T23:05:18.004203",
     "status": "completed"
    },
    "tags": []
   },
   "outputs": [],
   "source": [
    "def call_back_tBoard(model):\n",
    "    \n",
    "    log_dir = f'results/{model}/' + datetime.now().strftime('%y_%b%d_%H%M')\n",
    "    return TensorBoard(log_dir = log_dir, histogram_freq = 1, write_graph = True)"
   ]
  },
  {
   "cell_type": "code",
   "execution_count": 27,
   "id": "b6dc9b5d",
   "metadata": {
    "execution": {
     "iopub.execute_input": "2022-12-01T23:05:18.105386Z",
     "iopub.status.busy": "2022-12-01T23:05:18.104586Z",
     "iopub.status.idle": "2022-12-01T23:05:19.181253Z",
     "shell.execute_reply": "2022-12-01T23:05:19.180072Z"
    },
    "papermill": {
     "duration": 1.110053,
     "end_time": "2022-12-01T23:05:19.183719",
     "exception": false,
     "start_time": "2022-12-01T23:05:18.073666",
     "status": "completed"
    },
    "tags": []
   },
   "outputs": [
    {
     "name": "stdout",
     "output_type": "stream",
     "text": [
      "GPU Available :: True\n",
      "\n",
      "Thu Dec  1 23:05:19 2022       \n",
      "+-----------------------------------------------------------------------------+\n",
      "| NVIDIA-SMI 470.82.01    Driver Version: 470.82.01    CUDA Version: 11.4     |\n",
      "|-------------------------------+----------------------+----------------------+\n",
      "| GPU  Name        Persistence-M| Bus-Id        Disp.A | Volatile Uncorr. ECC |\n",
      "| Fan  Temp  Perf  Pwr:Usage/Cap|         Memory-Usage | GPU-Util  Compute M. |\n",
      "|                               |                      |               MIG M. |\n",
      "|===============================+======================+======================|\n",
      "|   0  Tesla P100-PCIE...  Off  | 00000000:00:04.0 Off |                    0 |\n",
      "| N/A   35C    P0    33W / 250W |  15849MiB / 16280MiB |      0%      Default |\n",
      "|                               |                      |                  N/A |\n",
      "+-------------------------------+----------------------+----------------------+\n",
      "                                                                               \n",
      "+-----------------------------------------------------------------------------+\n",
      "| Processes:                                                                  |\n",
      "|  GPU   GI   CI        PID   Type   Process name                  GPU Memory |\n",
      "|        ID   ID                                                   Usage      |\n",
      "|=============================================================================|\n",
      "+-----------------------------------------------------------------------------+\n"
     ]
    }
   ],
   "source": [
    "print(f'GPU Available :: {tf.test.is_gpu_available()}\\n')\n",
    "!nvidia-smi"
   ]
  },
  {
   "cell_type": "code",
   "execution_count": 28,
   "id": "184e4f71",
   "metadata": {
    "execution": {
     "iopub.execute_input": "2022-12-01T23:05:19.247553Z",
     "iopub.status.busy": "2022-12-01T23:05:19.247151Z",
     "iopub.status.idle": "2022-12-02T00:06:49.265034Z",
     "shell.execute_reply": "2022-12-02T00:06:49.263787Z"
    },
    "papermill": {
     "duration": 3690.052903,
     "end_time": "2022-12-02T00:06:49.267752",
     "exception": false,
     "start_time": "2022-12-01T23:05:19.214849",
     "status": "completed"
    },
    "tags": []
   },
   "outputs": [
    {
     "name": "stdout",
     "output_type": "stream",
     "text": [
      "Epoch 1/71\n",
      "279/279 [==============================] - 56s 175ms/step - loss: 3.1840 - val_loss: 2.9625\n",
      "Epoch 2/71\n",
      "279/279 [==============================] - 46s 164ms/step - loss: 2.7014 - val_loss: 2.4943\n",
      "Epoch 3/71\n",
      "279/279 [==============================] - 46s 165ms/step - loss: 2.3594 - val_loss: 2.2435\n",
      "Epoch 4/71\n",
      "279/279 [==============================] - 46s 164ms/step - loss: 2.1624 - val_loss: 2.0902\n",
      "Epoch 5/71\n",
      "279/279 [==============================] - 47s 167ms/step - loss: 2.0401 - val_loss: 1.9944\n",
      "Epoch 6/71\n",
      "279/279 [==============================] - 49s 175ms/step - loss: 1.9641 - val_loss: 1.9355\n",
      "Epoch 7/71\n",
      "279/279 [==============================] - 46s 164ms/step - loss: 1.9178 - val_loss: 1.8998\n",
      "Epoch 8/71\n",
      "279/279 [==============================] - 46s 166ms/step - loss: 1.8893 - val_loss: 1.8772\n",
      "Epoch 9/71\n",
      "279/279 [==============================] - 46s 166ms/step - loss: 1.8699 - val_loss: 1.8604\n",
      "Epoch 10/71\n",
      "279/279 [==============================] - 46s 163ms/step - loss: 1.8558 - val_loss: 1.8496\n",
      "Epoch 11/71\n",
      "279/279 [==============================] - 46s 164ms/step - loss: 1.8473 - val_loss: 1.8428\n",
      "Epoch 12/71\n",
      "279/279 [==============================] - 45s 162ms/step - loss: 1.8413 - val_loss: 1.8374\n",
      "Epoch 13/71\n",
      "279/279 [==============================] - 46s 164ms/step - loss: 1.8359 - val_loss: 1.8320\n",
      "Epoch 14/71\n",
      "279/279 [==============================] - 47s 167ms/step - loss: 1.8299 - val_loss: 1.8256\n",
      "Epoch 15/71\n",
      "279/279 [==============================] - 46s 164ms/step - loss: 1.8236 - val_loss: 1.8199\n",
      "Epoch 16/71\n",
      "279/279 [==============================] - 46s 166ms/step - loss: 1.8181 - val_loss: 1.8145\n",
      "Epoch 17/71\n",
      "279/279 [==============================] - 46s 164ms/step - loss: 1.8123 - val_loss: 1.8084\n",
      "Epoch 18/71\n",
      "279/279 [==============================] - 46s 166ms/step - loss: 1.8055 - val_loss: 1.8013\n",
      "Epoch 19/71\n",
      "279/279 [==============================] - 46s 165ms/step - loss: 1.7984 - val_loss: 1.7945\n",
      "Epoch 20/71\n",
      "279/279 [==============================] - 47s 168ms/step - loss: 1.7914 - val_loss: 1.7874\n",
      "Epoch 21/71\n",
      "279/279 [==============================] - 47s 167ms/step - loss: 1.7822 - val_loss: 1.7754\n",
      "Epoch 22/71\n",
      "279/279 [==============================] - 46s 166ms/step - loss: 1.7677 - val_loss: 1.7596\n",
      "Epoch 23/71\n",
      "279/279 [==============================] - 45s 162ms/step - loss: 1.7514 - val_loss: 1.7436\n",
      "Epoch 24/71\n",
      "279/279 [==============================] - 47s 167ms/step - loss: 1.7354 - val_loss: 1.7278\n",
      "Epoch 25/71\n",
      "279/279 [==============================] - 46s 165ms/step - loss: 1.7189 - val_loss: 1.7108\n",
      "Epoch 26/71\n",
      "279/279 [==============================] - 47s 167ms/step - loss: 1.7003 - val_loss: 1.6910\n",
      "Epoch 27/71\n",
      "279/279 [==============================] - 49s 175ms/step - loss: 1.6793 - val_loss: 1.6698\n",
      "Epoch 28/71\n",
      "279/279 [==============================] - 46s 166ms/step - loss: 1.6575 - val_loss: 1.6483\n",
      "Epoch 29/71\n",
      "279/279 [==============================] - 46s 166ms/step - loss: 1.6360 - val_loss: 1.6274\n",
      "Epoch 30/71\n",
      "279/279 [==============================] - 46s 166ms/step - loss: 1.6152 - val_loss: 1.6072\n",
      "Epoch 31/71\n",
      "279/279 [==============================] - 45s 162ms/step - loss: 1.5951 - val_loss: 1.5877\n",
      "Epoch 32/71\n",
      "279/279 [==============================] - 46s 164ms/step - loss: 1.5759 - val_loss: 1.5696\n",
      "Epoch 33/71\n",
      "279/279 [==============================] - 46s 164ms/step - loss: 1.5579 - val_loss: 1.5523\n",
      "Epoch 34/71\n",
      "279/279 [==============================] - 46s 165ms/step - loss: 1.5404 - val_loss: 1.5353\n",
      "Epoch 35/71\n",
      "279/279 [==============================] - 47s 168ms/step - loss: 1.5231 - val_loss: 1.5185\n",
      "Epoch 36/71\n",
      "279/279 [==============================] - 47s 167ms/step - loss: 1.5060 - val_loss: 1.5019\n",
      "Epoch 37/71\n",
      "279/279 [==============================] - 46s 164ms/step - loss: 1.4891 - val_loss: 1.4854\n",
      "Epoch 38/71\n",
      "279/279 [==============================] - 46s 165ms/step - loss: 1.4722 - val_loss: 1.4687\n",
      "Epoch 39/71\n",
      "279/279 [==============================] - 46s 165ms/step - loss: 1.4553 - val_loss: 1.4525\n",
      "Epoch 40/71\n",
      "279/279 [==============================] - 47s 168ms/step - loss: 1.4389 - val_loss: 1.4367\n",
      "Epoch 41/71\n",
      "279/279 [==============================] - 46s 164ms/step - loss: 1.4229 - val_loss: 1.4213\n",
      "Epoch 42/71\n",
      "279/279 [==============================] - 48s 171ms/step - loss: 1.4073 - val_loss: 1.4064\n",
      "Epoch 43/71\n",
      "279/279 [==============================] - 46s 166ms/step - loss: 1.3922 - val_loss: 1.3919\n",
      "Epoch 44/71\n",
      "279/279 [==============================] - 46s 165ms/step - loss: 1.3773 - val_loss: 1.3776\n",
      "Epoch 45/71\n",
      "279/279 [==============================] - 46s 163ms/step - loss: 1.3631 - val_loss: 1.3641\n",
      "Epoch 46/71\n",
      "279/279 [==============================] - 46s 166ms/step - loss: 1.3496 - val_loss: 1.3514\n",
      "Epoch 47/71\n",
      "279/279 [==============================] - 46s 164ms/step - loss: 1.3368 - val_loss: 1.3394\n",
      "Epoch 48/71\n",
      "279/279 [==============================] - 46s 166ms/step - loss: 1.3247 - val_loss: 1.3280\n",
      "Epoch 49/71\n",
      "279/279 [==============================] - 47s 167ms/step - loss: 1.3130 - val_loss: 1.3170\n",
      "Epoch 50/71\n",
      "279/279 [==============================] - 46s 166ms/step - loss: 1.3019 - val_loss: 1.3066\n",
      "Epoch 51/71\n",
      "279/279 [==============================] - 47s 167ms/step - loss: 1.2911 - val_loss: 1.2966\n",
      "Epoch 52/71\n",
      "279/279 [==============================] - 46s 164ms/step - loss: 1.2807 - val_loss: 1.2870\n",
      "Epoch 53/71\n",
      "279/279 [==============================] - 46s 164ms/step - loss: 1.2707 - val_loss: 1.2776\n",
      "Epoch 54/71\n",
      "279/279 [==============================] - 46s 166ms/step - loss: 1.2610 - val_loss: 1.2686\n",
      "Epoch 55/71\n",
      "279/279 [==============================] - 46s 163ms/step - loss: 1.2515 - val_loss: 1.2598\n",
      "Epoch 56/71\n",
      "279/279 [==============================] - 47s 168ms/step - loss: 1.2424 - val_loss: 1.2513\n",
      "Epoch 57/71\n",
      "279/279 [==============================] - 46s 165ms/step - loss: 1.2334 - val_loss: 1.2429\n",
      "Epoch 58/71\n",
      "279/279 [==============================] - 46s 166ms/step - loss: 1.2247 - val_loss: 1.2348\n",
      "Epoch 59/71\n",
      "279/279 [==============================] - 48s 170ms/step - loss: 1.2161 - val_loss: 1.2269\n",
      "Epoch 60/71\n",
      "279/279 [==============================] - 47s 167ms/step - loss: 1.2078 - val_loss: 1.2193\n",
      "Epoch 61/71\n",
      "279/279 [==============================] - 47s 167ms/step - loss: 1.1996 - val_loss: 1.2116\n",
      "Epoch 62/71\n",
      "279/279 [==============================] - 46s 166ms/step - loss: 1.1915 - val_loss: 1.2042\n",
      "Epoch 63/71\n",
      "279/279 [==============================] - 47s 168ms/step - loss: 1.1837 - val_loss: 1.1970\n",
      "Epoch 64/71\n",
      "279/279 [==============================] - 47s 168ms/step - loss: 1.1761 - val_loss: 1.1898\n",
      "Epoch 65/71\n",
      "279/279 [==============================] - 47s 167ms/step - loss: 1.1686 - val_loss: 1.1829\n",
      "Epoch 66/71\n",
      "279/279 [==============================] - 47s 169ms/step - loss: 1.1611 - val_loss: 1.1761\n",
      "Epoch 67/71\n",
      "279/279 [==============================] - 48s 171ms/step - loss: 1.1539 - val_loss: 1.1693\n",
      "Epoch 68/71\n",
      "279/279 [==============================] - 47s 167ms/step - loss: 1.1467 - val_loss: 1.1627\n",
      "Epoch 69/71\n",
      "279/279 [==============================] - 46s 166ms/step - loss: 1.1397 - val_loss: 1.1562\n",
      "Epoch 70/71\n",
      "279/279 [==============================] - 47s 170ms/step - loss: 1.1328 - val_loss: 1.1499\n",
      "Epoch 71/71\n",
      "279/279 [==============================] - 46s 167ms/step - loss: 1.1261 - val_loss: 1.1437\n"
     ]
    }
   ],
   "source": [
    "# Compile the model and fit the model\n",
    "\n",
    "optimizer_ = Adam(learning_rate = 0.0001)\n",
    "\n",
    "model_1.compile(optimizer_, loss = 'sparse_categorical_crossentropy')\n",
    "\n",
    "train_steps = train.shape[0]//BATCH_SIZE\n",
    "valid_steps = validation.shape[0]//BATCH_SIZE\n",
    "\n",
    "tensorBord = call_back_tBoard('logs_1')\n",
    "\n",
    "task_1 = model_1.fit(x = train_dataloader, validation_data = test_dataloader, \\\n",
    "                     epochs = EPOCH, steps_per_epoch = train_steps, validation_steps = valid_steps,\n",
    "                     callbacks = [tensorBord])"
   ]
  },
  {
   "cell_type": "code",
   "execution_count": 29,
   "id": "8b725b2c",
   "metadata": {
    "execution": {
     "iopub.execute_input": "2022-12-02T00:06:51.821820Z",
     "iopub.status.busy": "2022-12-02T00:06:51.821398Z",
     "iopub.status.idle": "2022-12-02T00:06:51.828479Z",
     "shell.execute_reply": "2022-12-02T00:06:51.827498Z"
    },
    "papermill": {
     "duration": 1.385992,
     "end_time": "2022-12-02T00:06:51.831480",
     "exception": false,
     "start_time": "2022-12-02T00:06:50.445488",
     "status": "completed"
    },
    "tags": []
   },
   "outputs": [
    {
     "name": "stdout",
     "output_type": "stream",
     "text": [
      "Model: \"encoder_decoder\"\n",
      "_________________________________________________________________\n",
      "Layer (type)                 Output Shape              Param #   \n",
      "=================================================================\n",
      "encoder_1 (Encoder)          multiple                  2695980   \n",
      "_________________________________________________________________\n",
      "decoder_1 (Decoder)          multiple                  1330380   \n",
      "_________________________________________________________________\n",
      "dense (Dense)                multiple                  277347    \n",
      "=================================================================\n",
      "Total params: 4,303,707\n",
      "Trainable params: 4,303,707\n",
      "Non-trainable params: 0\n",
      "_________________________________________________________________\n"
     ]
    }
   ],
   "source": [
    "model_1.summary()"
   ]
  },
  {
   "cell_type": "code",
   "execution_count": 30,
   "id": "0053c009",
   "metadata": {
    "execution": {
     "iopub.execute_input": "2022-12-02T00:06:54.094873Z",
     "iopub.status.busy": "2022-12-02T00:06:54.094502Z",
     "iopub.status.idle": "2022-12-02T00:06:54.101632Z",
     "shell.execute_reply": "2022-12-02T00:06:54.100605Z"
    },
    "papermill": {
     "duration": 1.127397,
     "end_time": "2022-12-02T00:06:54.103616",
     "exception": false,
     "start_time": "2022-12-02T00:06:52.976219",
     "status": "completed"
    },
    "tags": []
   },
   "outputs": [],
   "source": [
    "def save_nd_plot_curve(task, Task, steps, model, model_name):\n",
    "\n",
    "    model.save_weights(f'results/{model_name}.h5')\n",
    "    \n",
    "    task_train_loss = task.history['loss']\n",
    "    task_valid_loss = task.history['val_loss']\n",
    "\n",
    "    plt.figure(figsize = (10, 6))\n",
    "    epochs = range(1, len(task_train_loss) + 1 )\n",
    "    plt.plot(epochs, task_train_loss, 'r', lw = 2, label = 'Training loss')\n",
    "    plt.plot(epochs, task_valid_loss, 'b', lw = 2, label = 'Validation loss')\n",
    "    plt.title(f'\\n{Task} : Training and Validation loss\\n')\n",
    "    plt.xticks(range(1, len(epochs) + 1, steps))\n",
    "    plt.xlabel('Epochs'); plt.ylabel('Loss')\n",
    "    plt.legend()\n",
    "    plt.show()"
   ]
  },
  {
   "cell_type": "code",
   "execution_count": 31,
   "id": "a4979543",
   "metadata": {
    "execution": {
     "iopub.execute_input": "2022-12-02T00:06:56.359107Z",
     "iopub.status.busy": "2022-12-02T00:06:56.358753Z",
     "iopub.status.idle": "2022-12-02T00:06:56.659526Z",
     "shell.execute_reply": "2022-12-02T00:06:56.658593Z"
    },
    "papermill": {
     "duration": 1.466359,
     "end_time": "2022-12-02T00:06:56.661644",
     "exception": false,
     "start_time": "2022-12-02T00:06:55.195285",
     "status": "completed"
    },
    "tags": []
   },
   "outputs": [
    {
     "data": {
      "image/png": "[encoded data removed]",
      "text/plain": [
       "<Figure size 720x432 with 1 Axes>"
      ]
     },
     "metadata": {},
     "output_type": "display_data"
    }
   ],
   "source": [
    "save_nd_plot_curve(task_1, 'TASK-1', 5, model_1, 'model_1')"
   ]
  },
  {
   "cell_type": "code",
   "execution_count": 32,
   "id": "e75e448d",
   "metadata": {
    "execution": {
     "iopub.execute_input": "2022-12-02T00:06:58.941833Z",
     "iopub.status.busy": "2022-12-02T00:06:58.941453Z",
     "iopub.status.idle": "2022-12-02T00:06:58.950611Z",
     "shell.execute_reply": "2022-12-02T00:06:58.949617Z"
    },
    "id": "SkARSlZgLOfE",
    "papermill": {
     "duration": 1.145901,
     "end_time": "2022-12-02T00:06:58.952517",
     "exception": false,
     "start_time": "2022-12-02T00:06:57.806616",
     "status": "completed"
    },
    "tags": []
   },
   "outputs": [],
   "source": [
    "def predict(input_sentence, model):\n",
    "\n",
    "    '''\n",
    "    A. Given input sentence, convert the sentence into integers using tokenizer used earlier\n",
    "    B. Pass the input_sequence to encoder. we get encoder_outputs, last time step hidden and cell state\n",
    "    C. Initialize index of <start> as input to decoder. and encoder final states as input_states to decoder\n",
    "    D. till we reach max_length of decoder or till the model predicted word <end>:\n",
    "        predicted_out,state_h,state_c=model.layers[1](dec_input,states)\n",
    "        pass the predicted_out to the dense layer\n",
    "        update the states=[state_h,state_c]\n",
    "        And get the index of the word with maximum probability of the dense layer output,\n",
    "        using the tokenizer(word index) get the word and then store it in a string.\n",
    "        Update the input_to_decoder with current predictions\n",
    "    F. Return the predicted sentence\n",
    "    '''\n",
    "#     A. Given input sentence, convert the sentence into integers using tokenizer used earlier\n",
    "    encoder_inp = tknizer_ita.texts_to_sequences([input_sentence])\n",
    "    encoder_inp_pad_seq = pad_sequences(encoder_inp, maxlen = 20, dtype = 'int32', padding = 'post')\n",
    "    \n",
    "#     B. Pass the input_sequence to encoder. we get encoder_outputs, last time step hidden and cell state\n",
    "    initial_stat = model.layers[0].initialize_states(1) # Batch size is 1, because we are only giving one at a time\n",
    "    encoder_output, encoder_h, encoder_c  = model.layers[0](encoder_inp_pad_seq, initial_stat) # Encoder Layer\n",
    "    \n",
    "#     C. Initialize index of <start> as input to decoder. and encoder final states as input_states to decoder\n",
    "    start_idx = tknizer_eng.word_index['<start>']\n",
    "    end_idx = tknizer_eng.word_index['<end>']\n",
    "    curr_vec = np.ones((1, 1))\n",
    "    init_states = [encoder_h, encoder_c]\n",
    "    \n",
    "#     D. till we reach max_length of decoder or till the model predicted word <end>:\n",
    "\n",
    "    predicted_string = []\n",
    "    \n",
    "    for idx in range(MAX_INPUT_LEN):\n",
    "        \n",
    "        predicted_out, state_h, state_c = model.layers[1](curr_vec, init_states) # Decoder Layer\n",
    "        init_states = [state_h, state_c]\n",
    "        predicted = model.layers[2](predicted_out) # Denes Layer\n",
    "        predicted_index = np.argmax(predicted)\n",
    "\n",
    "        if predicted_index == end_idx or predicted_index == 0:\n",
    "            break\n",
    "\n",
    "        predicted_string.append(tknizer_eng.index_word[predicted_index])\n",
    "\n",
    "        curr_vec = np.reshape(predicted_index, (1, 1))\n",
    "    \n",
    "#     F. Return the predicted sentence\n",
    "    return ' '.join(predicted_string)"
   ]
  },
  {
   "cell_type": "code",
   "execution_count": 33,
   "id": "5a21abca",
   "metadata": {
    "execution": {
     "iopub.execute_input": "2022-12-02T00:07:01.123869Z",
     "iopub.status.busy": "2022-12-02T00:07:01.123495Z",
     "iopub.status.idle": "2022-12-02T00:07:54.168762Z",
     "shell.execute_reply": "2022-12-02T00:07:54.167375Z"
    },
    "id": "996pFO8BLOfG",
    "papermill": {
     "duration": 54.165065,
     "end_time": "2022-12-02T00:07:54.170892",
     "exception": false,
     "start_time": "2022-12-02T00:07:00.005827",
     "status": "completed"
    },
    "tags": []
   },
   "outputs": [
    {
     "name": "stderr",
     "output_type": "stream",
     "text": [
      "100%|██████████| 1000/1000 [00:53<00:00, 18.86it/s]\n"
     ]
    }
   ],
   "source": [
    "# Predict on 1000 random sentences on test data and calculate the average BLEU score of these sentences.\n",
    "# https://www.nltk.org/_modules/nltk/translate/bleu_score.html\n",
    "\n",
    "validation_sampled = validation.sample(1000, random_state = 43)\n",
    "\n",
    "def generate_predictoins(valid):\n",
    "    \n",
    "    g_truth, predicted_ressult = [], []\n",
    "    \n",
    "    for value in tqdm(valid.values):\n",
    "        g_truth.append(re.sub(r'<\\w*>', '', value[1]).strip())\n",
    "        predicted_ressult.append(predict(value[0], model_1).strip())\n",
    "        \n",
    "    return g_truth, predicted_ressult\n",
    "        \n",
    "g_truth, predicted_ressult = generate_predictoins(validation_sampled)"
   ]
  },
  {
   "cell_type": "code",
   "execution_count": 34,
   "id": "b091141e",
   "metadata": {
    "execution": {
     "iopub.execute_input": "2022-12-02T00:07:56.436074Z",
     "iopub.status.busy": "2022-12-02T00:07:56.435474Z",
     "iopub.status.idle": "2022-12-02T00:07:56.656974Z",
     "shell.execute_reply": "2022-12-02T00:07:56.655459Z"
    },
    "papermill": {
     "duration": 1.305042,
     "end_time": "2022-12-02T00:07:56.660053",
     "exception": false,
     "start_time": "2022-12-02T00:07:55.355011",
     "status": "completed"
    },
    "tags": []
   },
   "outputs": [
    {
     "name": "stdout",
     "output_type": "stream",
     "text": [
      "Average Bleu Score :: 0.20797411217743747\n"
     ]
    }
   ],
   "source": [
    "avg_bleu_score = []\n",
    "for g_t, p_r in zip(g_truth, predicted_ressult):\n",
    "    avg_bleu_score.append(sentence_bleu([g_t], p_r))\n",
    "    \n",
    "print(f'Average Bleu Score :: {np.mean(avg_bleu_score)}')"
   ]
  },
  {
   "cell_type": "markdown",
   "id": "b20c07e1",
   "metadata": {
    "id": "yZhX3K9GLOfJ",
    "papermill": {
     "duration": 1.141505,
     "end_time": "2022-12-02T00:08:03.731526",
     "exception": false,
     "start_time": "2022-12-02T00:08:02.590021",
     "status": "completed"
    },
    "tags": []
   },
   "source": [
    "## Task -2: Including Attention mechanisum"
   ]
  },
  {
   "cell_type": "markdown",
   "id": "b9cfe6fd",
   "metadata": {
    "id": "Q3d7GeBMGbsJ",
    "papermill": {
     "duration": 1.081501,
     "end_time": "2022-12-02T00:08:05.961879",
     "exception": false,
     "start_time": "2022-12-02T00:08:04.880378",
     "status": "completed"
    },
    "tags": []
   },
   "source": [
    "1. Use the preprocessed data from Task-1\n",
    "\n",
    "2. You have to implement an Encoder and Decoder architecture with  \n",
    "attention as discussed in the reference notebook.\n",
    "\n",
    "    * Encoder   - with 1 layer LSTM <br>\n",
    "    * Decoder   - with 1 layer LSTM<br>\n",
    "    * attention -  (Please refer the <a href= 'https://drive.google.com/file/d/1z_bnc-3aubKawbR6q8wyI6Mh5ho2R1aZ/view?usp=sharing'>**reference notebook**</a> to know more about the attention mechanism.)\n",
    "3. In Global attention, we have 3 types of scoring functions(as discussed in the reference notebook).\n",
    " As a part of this assignment **you need to create 3 models for each scoring function**\n",
    "<img src='https://i.imgur.com/iD2jZo3.png'>\n",
    "\n",
    "    * In model 1 you need to implemnt \"dot\" score function\n",
    "    * In model 2 you need to implemnt \"general\" score function\n",
    "    * In model 3 you need to implemnt \"concat\" score function.<br>\n",
    "    \n",
    " **Please do add the markdown titles for each model so that we can have a better look at the code and verify.**\n",
    "4. It is mandatory to train the model with simple model.fit() only, Donot train the model with custom GradientTape()\n",
    "\n",
    "5. Using attention weights, you can plot the attention plots, \n",
    "please plot those for 2-3 examples. You can check about those in <a href=\"https://www.tensorflow.org/tutorials/text/nmt_with_attention#translate\">this</a>\n",
    "\n",
    "6. The attention layer has to be written by yourself only. \n",
    "The main objective of this assignment is to read and implement a paper on yourself so please do it yourself.  \n",
    "\n",
    "7. Please implement the class **onestepdecoder** as mentioned in the assignment instructions.\n",
    "\n",
    "8. You can use any tf.Keras highlevel API's to build and train the models. \n",
    " Check the reference notebook for better understanding.\n",
    "\n",
    "9. Use BLEU score as metric to evaluate your model. You can use any loss function you need.\n",
    "\n",
    "10. You have to use Tensorboard to plot the Graph, Scores and histograms of gradients. \n",
    "\n",
    "11. Resources:\n",
    "    a. Check the reference notebook\n",
    "    b. <a href=\"https://jalammar.github.io/visualizing-neural-machine-translation-mechanics-of-seq2seq-models-with-attention/\">Resource 1</a>\n",
    "    c. <a href=\"https://www.tensorflow.org/tutorials/text/nmt_with_attention\">Resource 2</a>\n",
    "    d. <a href=\"https://stackoverflow.com/questions/44238154/what-is-the-difference-between-luong-attention-and-bahdanau-attention#:~:text=Luong%20attention%20used%20top%20hidden,hidden%20state%20at%20time%20t.\">Resource 3</a>\n",
    "    "
   ]
  },
  {
   "cell_type": "markdown",
   "id": "f876e4a7",
   "metadata": {
    "id": "PU4KIsGxLOfK",
    "papermill": {
     "duration": 1.375379,
     "end_time": "2022-12-02T00:08:08.514748",
     "exception": false,
     "start_time": "2022-12-02T00:08:07.139369",
     "status": "completed"
    },
    "tags": []
   },
   "source": [
    "### <font color='blue'>**Implement custom encoder decoder and attention layers**</font>"
   ]
  },
  {
   "cell_type": "markdown",
   "id": "6bb4f4ae",
   "metadata": {
    "id": "TMm3ADQDLOfK",
    "papermill": {
     "duration": 1.135186,
     "end_time": "2022-12-02T00:08:10.732348",
     "exception": false,
     "start_time": "2022-12-02T00:08:09.597162",
     "status": "completed"
    },
    "tags": []
   },
   "source": [
    "<font color='blue'>**Encoder**</font>"
   ]
  },
  {
   "cell_type": "code",
   "execution_count": 35,
   "id": "1cc6fd63",
   "metadata": {
    "execution": {
     "iopub.execute_input": "2022-12-02T00:08:13.021711Z",
     "iopub.status.busy": "2022-12-02T00:08:13.021328Z",
     "iopub.status.idle": "2022-12-02T00:08:13.030621Z",
     "shell.execute_reply": "2022-12-02T00:08:13.029576Z"
    },
    "id": "Lx_5NA24KzRp",
    "papermill": {
     "duration": 1.169594,
     "end_time": "2022-12-02T00:08:13.032803",
     "exception": false,
     "start_time": "2022-12-02T00:08:11.863209",
     "status": "completed"
    },
    "tags": []
   },
   "outputs": [],
   "source": [
    "class Encoder(tf.keras.Model):\n",
    "    '''\n",
    "    Encoder model -- That takes a input sequence and returns output sequence\n",
    "    '''\n",
    "\n",
    "    def __init__(self, inp_vocab_size, embedding_size, lstm_size, input_length):\n",
    "        \n",
    "        super().__init__()\n",
    "        \n",
    "        self.inp_vocab_size = inp_vocab_size\n",
    "        self.embedding_size = embedding_size\n",
    "        self.input_length = input_length\n",
    "        self.lstm_size = lstm_size\n",
    "\n",
    "        # Initialize Embedding layer\n",
    "        self.embeding = Embedding(input_dim = self.inp_vocab_size, output_dim = self.embedding_size, \\\n",
    "                      input_length = self.input_length, mask_zero = True, name = 'EmbeddingLayerEncoder')\n",
    "        \n",
    "        # Intialize Encoder LSTM layer\n",
    "        self.lstm = LSTM(units = self.lstm_size, return_state = True, return_sequences = True, \\\n",
    "                                                                                    name = 'LSTM_Encoder')\n",
    "\n",
    "\n",
    "    def call(self,input_sequence,states):\n",
    "        \n",
    "        '''\n",
    "        This function takes a sequence input and the initial states of the encoder.\n",
    "        Pass the input_sequence input to the Embedding layer, Pass the embedding layer ouput to encoder_lstm\n",
    "        returns -- All encoder_outputs, last time steps hidden and cell state\n",
    "        '''\n",
    "        \n",
    "        input_embeddings = self.embeding(input_sequence)\n",
    "        self.encoder_output, self.encoder_last_state_h, self.encoder_last_state_c = \\\n",
    "                                                                                self.lstm(input_embeddings)\n",
    "        \n",
    "        return self.encoder_output, self.encoder_last_state_h, self.encoder_last_state_c\n",
    "    \n",
    "    def initialize_states(self,batch_size):\n",
    "        \n",
    "        '''\n",
    "        Given a batch size it will return intial hidden state and intial cell state.\n",
    "        If batch size is 32- Hidden state is zeros of size [32,lstm_units],\n",
    "                                                                cell state zeros is of size [32,lstm_units]\n",
    "        '''\n",
    "        \n",
    "        self.st_h = tf.zeros((batch_size, self.lstm_size))\n",
    "        self.st_i = tf.zeros((batch_size, self.lstm_size))\n",
    "        \n",
    "        return self.st_h, self.st_i"
   ]
  },
  {
   "cell_type": "markdown",
   "id": "c9f63633",
   "metadata": {
    "id": "4ub9aN-hK244",
    "papermill": {
     "duration": 1.156967,
     "end_time": "2022-12-02T00:08:15.327836",
     "exception": false,
     "start_time": "2022-12-02T00:08:14.170869",
     "status": "completed"
    },
    "tags": []
   },
   "source": [
    "<font color='cyan'>**Grader function - 1**</font>"
   ]
  },
  {
   "cell_type": "code",
   "execution_count": 36,
   "id": "85025c1f",
   "metadata": {
    "execution": {
     "iopub.execute_input": "2022-12-02T00:08:17.958222Z",
     "iopub.status.busy": "2022-12-02T00:08:17.957851Z",
     "iopub.status.idle": "2022-12-02T00:08:17.997218Z",
     "shell.execute_reply": "2022-12-02T00:08:17.995977Z"
    },
    "id": "wRoe65b9LB0D",
    "papermill": {
     "duration": 1.187368,
     "end_time": "2022-12-02T00:08:18.000231",
     "exception": false,
     "start_time": "2022-12-02T00:08:16.812863",
     "status": "completed"
    },
    "tags": []
   },
   "outputs": [
    {
     "name": "stdout",
     "output_type": "stream",
     "text": [
      "True\n"
     ]
    }
   ],
   "source": [
    "def grader_check_encoder():\n",
    "    \n",
    "    '''\n",
    "        vocab-size: Unique words of the input language,\n",
    "        embedding_size: output embedding dimension for each word after embedding layer,\n",
    "        lstm_size: Number of lstm units in encoder,\n",
    "        input_length: Length of the input sentence,\n",
    "        batch_size\n",
    "    '''\n",
    "    \n",
    "    vocab_size=10\n",
    "    embedding_size=20\n",
    "    lstm_size=32\n",
    "    input_length=10\n",
    "    batch_size=16\n",
    "    encoder=Encoder(vocab_size,embedding_size,lstm_size,input_length)\n",
    "    input_sequence=tf.random.uniform(shape=[batch_size,input_length],maxval=vocab_size,\\\n",
    "                                                                               minval=0,dtype=tf.int32)\n",
    "    \n",
    "    initial_state=encoder.initialize_states(batch_size)\n",
    "    encoder_output,state_h,state_c=encoder(input_sequence,initial_state)\n",
    "    \n",
    "    assert(encoder_output.shape==(batch_size,input_length,lstm_size) and \\\n",
    "                        state_h.shape==(batch_size,lstm_size) and state_c.shape==(batch_size,lstm_size))\n",
    "    return True\n",
    "\n",
    "print(grader_check_encoder())"
   ]
  },
  {
   "cell_type": "markdown",
   "id": "c87b2d6d",
   "metadata": {
    "id": "lXn278lhLYRM",
    "papermill": {
     "duration": 1.144661,
     "end_time": "2022-12-02T00:08:20.548183",
     "exception": false,
     "start_time": "2022-12-02T00:08:19.403522",
     "status": "completed"
    },
    "tags": []
   },
   "source": [
    "<font color='blue'>**Attention**</font>"
   ]
  },
  {
   "cell_type": "code",
   "execution_count": 37,
   "id": "341c32f0",
   "metadata": {
    "execution": {
     "iopub.execute_input": "2022-12-02T00:08:22.772085Z",
     "iopub.status.busy": "2022-12-02T00:08:22.771724Z",
     "iopub.status.idle": "2022-12-02T00:08:22.782935Z",
     "shell.execute_reply": "2022-12-02T00:08:22.781961Z"
    },
    "id": "ab5SNdPZLlur",
    "papermill": {
     "duration": 1.167151,
     "end_time": "2022-12-02T00:08:22.785042",
     "exception": false,
     "start_time": "2022-12-02T00:08:21.617891",
     "status": "completed"
    },
    "tags": []
   },
   "outputs": [],
   "source": [
    "class Attention(tf.keras.layers.Layer):\n",
    "    '''\n",
    "    Class the calculates score based on the scoring_function using Bahdanu attention mechanism.\n",
    "    '''\n",
    "    def __init__(self, scoring_function, att_units):\n",
    "        super().__init__()\n",
    "        \n",
    "#     Please go through the reference notebook and research paper to complete the scoring functions\n",
    "        self.scoring_function = scoring_function\n",
    "        self.att_units = att_units\n",
    "\n",
    "        if self.scoring_function == 'dot':\n",
    "          # Intialize variables needed for Dot score function here\n",
    "          pass\n",
    "\n",
    "        if scoring_function == 'general':\n",
    "            # Intialize variables needed for General score function here\n",
    "            self.fc = Dense(units = self.att_units)\n",
    "            \n",
    "        elif scoring_function == 'concat':\n",
    "            self.WE = Dense(units = self.att_units)\n",
    "            self.WD = Dense(units = self.att_units)\n",
    "            self.v = Dense(units = 1)\n",
    "            # Intialize variables needed for Concat score function here\n",
    "  \n",
    "  \n",
    "    def call(self, decoder_hidden_state, encoder_output):\n",
    "        '''\n",
    "        Attention mechanism takes two inputs current step -- decoder_hidden_state and all the encoder_outputs.\n",
    "        * Based on the scoring function we will find the score or similarity between decoder_hidden_state and encoder_output.\n",
    "        Multiply the score function with your encoder_outputs to get the context vector.\n",
    "        Function returns context vector and attention weights(softmax - scores)\n",
    "        '''\n",
    "    \n",
    "        decoder_hidden_state = expand_dims(decoder_hidden_state, axis = 1)\n",
    "        \n",
    "        if self.scoring_function == 'dot':\n",
    "            # Implement Dot score function here\n",
    "            \n",
    "            similarity_ =  Dot(axes = (2, 2))([encoder_output, decoder_hidden_state])\n",
    "            \n",
    "        elif self.scoring_function == 'general':\n",
    "            # Implement General score function here\n",
    "            \n",
    "            weighted_encoder_out =  self.fc(encoder_output)  \n",
    "            similarity_ = Dot(axes = (2, 2))([weighted_encoder_out, decoder_hidden_state])\n",
    "            \n",
    "        elif self.scoring_function == 'concat':\n",
    "            # Implement General score function here\n",
    "            \n",
    "            weighted_encoder = self.WE(encoder_output)\n",
    "            weighted_decoder = self.WD(decoder_hidden_state)\n",
    "            tan_h_act = tanh(weighted_decoder + weighted_encoder)\n",
    "            similarity_ = self.v(tan_h_act)\n",
    "            \n",
    "        attention_wt = softmax(similarity_, axis = 1)\n",
    "        context_v =  attention_wt * encoder_output\n",
    "        context_v = reduce_sum(context_v, axis = 1)\n",
    "        return context_v, attention_wt"
   ]
  },
  {
   "cell_type": "markdown",
   "id": "9b577216",
   "metadata": {
    "id": "ExQDlxI9LuqK",
    "papermill": {
     "duration": 1.110636,
     "end_time": "2022-12-02T00:08:25.031995",
     "exception": false,
     "start_time": "2022-12-02T00:08:23.921359",
     "status": "completed"
    },
    "tags": []
   },
   "source": [
    "<font color='cyan'>**Grader function - 2**</font>"
   ]
  },
  {
   "cell_type": "code",
   "execution_count": 38,
   "id": "91d2f863",
   "metadata": {
    "execution": {
     "iopub.execute_input": "2022-12-02T00:08:27.295298Z",
     "iopub.status.busy": "2022-12-02T00:08:27.294948Z",
     "iopub.status.idle": "2022-12-02T00:08:27.332800Z",
     "shell.execute_reply": "2022-12-02T00:08:27.331667Z"
    },
    "id": "51x50h_TLrl9",
    "papermill": {
     "duration": 1.171297,
     "end_time": "2022-12-02T00:08:27.335525",
     "exception": false,
     "start_time": "2022-12-02T00:08:26.164228",
     "status": "completed"
    },
    "tags": []
   },
   "outputs": [
    {
     "name": "stdout",
     "output_type": "stream",
     "text": [
      "'dot'\t\t: True\n",
      "'general'\t: True\n",
      "'concat'\t: True\n"
     ]
    }
   ],
   "source": [
    "def grader_check_attention(scoring_fun):\n",
    "    \n",
    "    ''' \n",
    "    att_units: Used in matrix multiplications for scoring functions,\n",
    "    input_length: Length of the input sentence,\n",
    "    batch_size\n",
    "    '''\n",
    "    \n",
    "    input_length=10\n",
    "    batch_size=16\n",
    "    att_units=32\n",
    "    \n",
    "    state_h = tf.random.uniform(shape = [batch_size, att_units])\n",
    "    encoder_output = tf.random.uniform(shape = [batch_size, input_length, att_units])\n",
    "    attention = Attention(scoring_fun, att_units)\n",
    "    context_vector,attention_weights = attention(state_h, encoder_output)\n",
    "    assert(context_vector.shape == (batch_size, att_units) and attention_weights.shape == \\\n",
    "                                                                       (batch_size, input_length, 1))\n",
    "    \n",
    "    return True\n",
    "\n",
    "print(f\"'dot'\\t\\t: {grader_check_attention('dot')}\")\n",
    "print(f\"'general'\\t: {grader_check_attention('general')}\")\n",
    "print(f\"'concat'\\t: {grader_check_attention('concat')}\")"
   ]
  },
  {
   "cell_type": "markdown",
   "id": "fbbe4dc0",
   "metadata": {
    "id": "ic-FNEbfL2DN",
    "papermill": {
     "duration": 1.095275,
     "end_time": "2022-12-02T00:08:29.574244",
     "exception": false,
     "start_time": "2022-12-02T00:08:28.478969",
     "status": "completed"
    },
    "tags": []
   },
   "source": [
    "<font color='blue'>**OneStepDecoder**</font>"
   ]
  },
  {
   "cell_type": "code",
   "execution_count": 39,
   "id": "7b3a1098",
   "metadata": {
    "execution": {
     "iopub.execute_input": "2022-12-02T00:08:32.110649Z",
     "iopub.status.busy": "2022-12-02T00:08:32.110303Z",
     "iopub.status.idle": "2022-12-02T00:08:32.120743Z",
     "shell.execute_reply": "2022-12-02T00:08:32.119715Z"
    },
    "id": "Kc8m7lmOL097",
    "papermill": {
     "duration": 1.15773,
     "end_time": "2022-12-02T00:08:32.123332",
     "exception": false,
     "start_time": "2022-12-02T00:08:30.965602",
     "status": "completed"
    },
    "tags": []
   },
   "outputs": [],
   "source": [
    "class OneStepDecoder(tf.keras.Model):\n",
    "    \n",
    "    def __init__(self,tar_vocab_size, embedding_dim, input_length, dec_units ,score_fun ,att_units):\n",
    "        #         Initialize decoder embedding layer, LSTM and any other objects needed\n",
    "        \n",
    "        super().__init__()\n",
    "        self.tar_vocab_size = tar_vocab_size\n",
    "        self.embedding_dim = embedding_dim\n",
    "        self.input_length = input_length\n",
    "        self.dec_units = dec_units\n",
    "        self.score_fun = score_fun\n",
    "        self.att_units = att_units\n",
    "\n",
    "        self.embedding_layer = Embedding(input_dim = self.tar_vocab_size, output_dim = self.embedding_dim, \\\n",
    "                    mask_zero = True, input_length = self.input_length, name = 'Embedding_OneStepDecoder')\n",
    "        \n",
    "        self.lstm_1 = LSTM(units = self.dec_units, return_sequences = True, return_state = True, \\\n",
    "                                                                           name = 'LSTM_OneStepDecoder1')\n",
    "        \n",
    "        self.lstm_2 = LSTM(units = self.dec_units, return_sequences = True, return_state = True, \\\n",
    "                                                                           name = 'LSTM_OneStepDecoder2')\n",
    "        \n",
    "        \n",
    "        self.attention = Attention(self.score_fun, self.att_units)\n",
    "    \n",
    "        self.fc = Dense(units = self.tar_vocab_size)\n",
    "        \n",
    "    def call(self, input_to_decoder, encoder_output, state_h,state_c):\n",
    "        '''\n",
    "        One step decoder mechanisim step by step:\n",
    "        A. Pass the input_to_decoder to the embedding layer and then get the output(batch_size,1,embedding_dim)\n",
    "        B. Using the encoder_output and decoder hidden state, compute the context vector.\n",
    "        C. Concat the context vector with the step A output\n",
    "        D. Pass the Step-C output to LSTM/GRU and get the decoder output and states(hidden and cell state)\n",
    "        E. Pass the decoder output to dense layer(vocab size) and store the result into output.\n",
    "        F. Return the states from step D, output from Step E, attention weights from Step -B\n",
    "        '''\n",
    "#         A. Pass the input_to_decoder to the embedding layer and then get the output(batch_size, 1, embedding_dim)\n",
    "        output_embedding = self.embedding_layer(input_to_decoder)\n",
    "        decoder_out, decoder_state_h, decoder_state_c = self.lstm_1(encoder_output, \\\n",
    "                                                                        initial_state = [state_h, state_c])\n",
    "        \n",
    "#         B. Using the encoder_output and decoder hidden state, compute the context vector.\n",
    "        context_vec, attention_wt = self.attention(decoder_state_h, encoder_output)\n",
    "    \n",
    "#         C. Concat the context vector with the step A output\n",
    "        combined_vec = tf.concat([expand_dims(context_vec, axis = 1), output_embedding], axis = -1)\n",
    "\n",
    "#         D. Pass the Step-C output to LSTM/GRU and get the decoder output and states(hidden and cell state)\n",
    "        decoder_out, decoder_h, decoder_c = self.lstm_2(combined_vec)\n",
    "\n",
    "#         E. Pass the decoder output to dense layer(vocab size) and store the result into output.\n",
    "        decoder_out = tf.reshape(decoder_out, (-1, decoder_out.shape[2]))\n",
    "        output = self.fc(decoder_out)\n",
    "        \n",
    "#         F. Return the states from step D, output from Step E, attention weights from Step -B\n",
    "        return output, decoder_h, decoder_c, attention_wt, context_vec"
   ]
  },
  {
   "cell_type": "markdown",
   "id": "f48140c0",
   "metadata": {
    "id": "R_I8I4EIMAXq",
    "papermill": {
     "duration": 1.086058,
     "end_time": "2022-12-02T00:08:34.348636",
     "exception": false,
     "start_time": "2022-12-02T00:08:33.262578",
     "status": "completed"
    },
    "tags": []
   },
   "source": [
    "<font color='cyan'>**Grader function - 3**</font>"
   ]
  },
  {
   "cell_type": "code",
   "execution_count": 40,
   "id": "8525a6b4",
   "metadata": {
    "execution": {
     "iopub.execute_input": "2022-12-02T00:08:36.645647Z",
     "iopub.status.busy": "2022-12-02T00:08:36.644602Z",
     "iopub.status.idle": "2022-12-02T00:08:36.750815Z",
     "shell.execute_reply": "2022-12-02T00:08:36.749720Z"
    },
    "id": "uLEXhChnMC1k",
    "papermill": {
     "duration": 1.260823,
     "end_time": "2022-12-02T00:08:36.753423",
     "exception": false,
     "start_time": "2022-12-02T00:08:35.492600",
     "status": "completed"
    },
    "tags": []
   },
   "outputs": [
    {
     "name": "stdout",
     "output_type": "stream",
     "text": [
      "'dot'\t\t: True\n",
      "'general'\t: True\n",
      "'concat'\t: True\n"
     ]
    }
   ],
   "source": [
    "def grader_onestepdecoder(score_fun):\n",
    "    \n",
    "    '''\n",
    "    tar_vocab_size: Unique words of the target language,\n",
    "    embedding_dim: output embedding dimension for each word after embedding layer,\n",
    "    dec_units: Number of lstm units in decoder,\n",
    "    att_units: Used in matrix multiplications for scoring functions in attention class,\n",
    "    input_length: Length of the target sentence,\n",
    "    batch_size\n",
    "    '''\n",
    "    \n",
    "    tar_vocab_size=13 \n",
    "    embedding_dim=12 \n",
    "    input_length=10\n",
    "    dec_units=16 \n",
    "    att_units=16\n",
    "    batch_size=32\n",
    "    \n",
    "    onestepdecoder = OneStepDecoder(tar_vocab_size, embedding_dim, input_length, dec_units, \\\n",
    "                                                                                score_fun ,att_units)\n",
    "    \n",
    "    input_to_decoder = tf.random.uniform(shape = (batch_size, 1), maxval = 10, minval = 0, \\\n",
    "                                                                                     dtype = tf.int32)\n",
    "    \n",
    "    encoder_output = tf.random.uniform(shape = [batch_size, input_length, dec_units])\n",
    "    state_h = tf.random.uniform(shape = [batch_size, dec_units])\n",
    "    state_c = tf.random.uniform(shape = [batch_size, dec_units])\n",
    "    output, state_h, state_c, attention_weights, context_vector = onestepdecoder(input_to_decoder, \\\n",
    "                                                                    encoder_output, state_h, state_c)\n",
    "    \n",
    "    assert(output.shape == (batch_size, tar_vocab_size))\n",
    "    assert(state_h.shape == (batch_size, dec_units))\n",
    "    assert(state_c.shape == (batch_size, dec_units))\n",
    "    assert(attention_weights.shape == (batch_size, input_length,1))\n",
    "    assert(context_vector.shape == (batch_size, dec_units))\n",
    "    \n",
    "    return True\n",
    "    \n",
    "print(f\"'dot'\\t\\t: {grader_onestepdecoder('dot')}\")\n",
    "print(f\"'general'\\t: {grader_onestepdecoder('general')}\")\n",
    "print(f\"'concat'\\t: {grader_onestepdecoder('concat')}\")"
   ]
  },
  {
   "cell_type": "markdown",
   "id": "9ac6e1f2",
   "metadata": {
    "id": "6FHrurjUMGAi",
    "papermill": {
     "duration": 1.167865,
     "end_time": "2022-12-02T00:08:39.105462",
     "exception": false,
     "start_time": "2022-12-02T00:08:37.937597",
     "status": "completed"
    },
    "tags": []
   },
   "source": [
    "<font color='blue'>**Decoder**</font>"
   ]
  },
  {
   "cell_type": "code",
   "execution_count": 41,
   "id": "fe74e02c",
   "metadata": {
    "execution": {
     "iopub.execute_input": "2022-12-02T00:08:41.567952Z",
     "iopub.status.busy": "2022-12-02T00:08:41.567580Z",
     "iopub.status.idle": "2022-12-02T00:08:41.576403Z",
     "shell.execute_reply": "2022-12-02T00:08:41.575667Z"
    },
    "id": "NV-x31rj6Hc4",
    "papermill": {
     "duration": 1.375242,
     "end_time": "2022-12-02T00:08:41.578437",
     "exception": false,
     "start_time": "2022-12-02T00:08:40.203195",
     "status": "completed"
    },
    "tags": []
   },
   "outputs": [],
   "source": [
    "class Decoder(tf.keras.Model):\n",
    "    def __init__(self, out_vocab_size, embedding_dim, input_length, dec_units ,score_fun ,att_units):\n",
    "        super().__init__()\n",
    "#       Intialize necessary variables and create an object from the class onestepdecoder\n",
    "\n",
    "        self.out_vocab_size = out_vocab_size\n",
    "        self.embedding_dim = embedding_dim\n",
    "        self.input_length = input_length\n",
    "        self.dec_units = dec_units\n",
    "        self.score_fun = score_fun\n",
    "        self.att_units = att_units\n",
    "\n",
    "        self.onestepdecoder = OneStepDecoder(tar_vocab_size = self.out_vocab_size, \\\n",
    "                                         embedding_dim = self.embedding_dim,\n",
    "                                         input_length = self.input_length, dec_units = self.dec_units,\n",
    "                                         score_fun = self.score_fun, att_units = self.att_units)\n",
    "    \n",
    "    def call(self, input_to_decoder, encoder_output, decoder_hidden_state, decoder_cell_state ):\n",
    "\n",
    "#         Initialize an empty Tensor array, that will store the outputs at each and every time step\n",
    "#         Create a tensor array as shown in the reference notebook\n",
    "\n",
    "        output_tf_arr = tf.TensorArray(tf.float32, size = self.input_length, name = 'Output_tf_array')\n",
    "    \n",
    "#         Iterate till the length of the decoder input\n",
    "#             Call onestepdecoder for each token in decoder_input\n",
    "#             Store the output in tensorarray\n",
    "#         Return the tensor array\n",
    "        \n",
    "        for length in range(self.input_length):\n",
    "            \n",
    "            output, _, _, _, _ = self.onestepdecoder(input_to_decoder[:, length:length+1], \\\n",
    "                                            encoder_output, decoder_hidden_state, decoder_cell_state)\n",
    "            \n",
    "            output_tf_arr = output_tf_arr.write(length, output)\n",
    "            \n",
    "        output_tf_arr = tf.transpose(output_tf_arr.stack(),[1,0,2])\n",
    "        \n",
    "        return output_tf_arr\n",
    "    "
   ]
  },
  {
   "cell_type": "markdown",
   "id": "1f282d0e",
   "metadata": {
    "id": "FxrL-P8bMJH6",
    "papermill": {
     "duration": 1.107624,
     "end_time": "2022-12-02T00:08:43.857567",
     "exception": false,
     "start_time": "2022-12-02T00:08:42.749943",
     "status": "completed"
    },
    "tags": []
   },
   "source": [
    "<font color='cyan'>**Grader function - 4**</font>"
   ]
  },
  {
   "cell_type": "code",
   "execution_count": 42,
   "id": "4b11194d",
   "metadata": {
    "execution": {
     "iopub.execute_input": "2022-12-02T00:08:46.138240Z",
     "iopub.status.busy": "2022-12-02T00:08:46.137880Z",
     "iopub.status.idle": "2022-12-02T00:08:46.515518Z",
     "shell.execute_reply": "2022-12-02T00:08:46.514387Z"
    },
    "id": "rtbx6onFMJXb",
    "papermill": {
     "duration": 1.523883,
     "end_time": "2022-12-02T00:08:46.518039",
     "exception": false,
     "start_time": "2022-12-02T00:08:44.994156",
     "status": "completed"
    },
    "tags": []
   },
   "outputs": [
    {
     "name": "stdout",
     "output_type": "stream",
     "text": [
      "'dot'\t\t: True\n",
      "'general'\t: True\n",
      "'concat'\t: True\n"
     ]
    }
   ],
   "source": [
    "def grader_decoder(score_fun):\n",
    "    \n",
    "    '''\n",
    "    out_vocab_size: Unique words of the target language,\n",
    "    embedding_dim: output embedding dimension for each word after embedding layer,\n",
    "    dec_units: Number of lstm units in decoder,\n",
    "    att_units: Used in matrix multiplications for scoring functions in attention class,\n",
    "    input_length: Length of the target sentence,\n",
    "    batch_size\n",
    "    '''\n",
    "    \n",
    "    out_vocab_size = 13 \n",
    "    embedding_dim = 12 \n",
    "    input_length = 11\n",
    "    dec_units = 16 \n",
    "    att_units = 16\n",
    "    batch_size = 32\n",
    "    \n",
    "    target_sentences = tf.random.uniform(shape = (batch_size, input_length), maxval = 10, \\\n",
    "                                                                        minval = 0, dtype = tf.int32)\n",
    "    \n",
    "    encoder_output = tf.random.uniform(shape = [batch_size, input_length, dec_units])\n",
    "    state_h = tf.random.uniform(shape = [batch_size, dec_units])\n",
    "    state_c = tf.random.uniform(shape = [batch_size, dec_units])\n",
    "    \n",
    "    decoder = Decoder(out_vocab_size, embedding_dim, input_length, dec_units ,score_fun ,att_units)\n",
    "    output = decoder(target_sentences, encoder_output, state_h, state_c)\n",
    "    assert(output.shape == (batch_size, input_length, out_vocab_size))\n",
    "    \n",
    "    return True\n",
    "\n",
    "print(f\"'dot'\\t\\t: {grader_decoder('dot')}\")\n",
    "print(f\"'general'\\t: {grader_decoder('general')}\")\n",
    "print(f\"'concat'\\t: {grader_decoder('concat')}\")"
   ]
  },
  {
   "cell_type": "markdown",
   "id": "e0f0a498",
   "metadata": {
    "id": "fC1T1EOoMTqC",
    "papermill": {
     "duration": 1.153033,
     "end_time": "2022-12-02T00:08:49.261458",
     "exception": false,
     "start_time": "2022-12-02T00:08:48.108425",
     "status": "completed"
    },
    "tags": []
   },
   "source": [
    "<font color='blue'>**Encoder Decoder model**</font>"
   ]
  },
  {
   "cell_type": "code",
   "execution_count": 43,
   "id": "7159ad45",
   "metadata": {
    "execution": {
     "iopub.execute_input": "2022-12-02T00:08:51.535741Z",
     "iopub.status.busy": "2022-12-02T00:08:51.535351Z",
     "iopub.status.idle": "2022-12-02T00:08:51.543483Z",
     "shell.execute_reply": "2022-12-02T00:08:51.542514Z"
    },
    "id": "FfqBIe20MT3D",
    "papermill": {
     "duration": 1.197925,
     "end_time": "2022-12-02T00:08:51.545773",
     "exception": false,
     "start_time": "2022-12-02T00:08:50.347848",
     "status": "completed"
    },
    "tags": []
   },
   "outputs": [],
   "source": [
    "class encoder_decoder(tf.keras.Model):\n",
    "    \n",
    "    def __init__(self, enc_vocab_size, dec_vocab_size, en_embedding_size, dec_embedding_size, \\\n",
    "                         en_lstm_size, de_lstm_size, en_input_length, de_input_length, score_fun, \\\n",
    "                         att_units, batch_size):\n",
    "        \n",
    "        super().__init__()\n",
    "        self.batch_size = batch_size\n",
    "        \n",
    "#     Intialize objects from encoder decoder\n",
    "\n",
    "        self.encoder = Encoder(inp_vocab_size = enc_vocab_size, embedding_size = en_embedding_size, \\\n",
    "                                           lstm_size = en_lstm_size, input_length = en_embedding_size)\n",
    "    \n",
    "        self.decoder = Decoder(out_vocab_size = dec_vocab_size, embedding_dim = dec_embedding_size, \\\n",
    "                                           input_length = de_input_length, dec_units = de_lstm_size, \\\n",
    "                                           score_fun = score_fun ,att_units = att_units)\n",
    "\n",
    "    def call(self, data):\n",
    "\n",
    "#     Intialize encoder states, Pass the encoder_sequence to the embedding layer\n",
    "        encoder_input, decoder_input = data[0], data[1]\n",
    "        en_out, en_h, en_c = self.encoder(encoder_input, self.encoder.initialize_states(self.batch_size))\n",
    "        \n",
    "#     Decoder initial states are encoder final states, Initialize it accordingly\n",
    "        dec_h = en_h\n",
    "        dec_c = en_c\n",
    "        decoder_out = self.decoder(decoder_input, en_out, dec_h, dec_c)\n",
    "        \n",
    "#     return the decoder output\n",
    "        return decoder_out"
   ]
  },
  {
   "cell_type": "markdown",
   "id": "46d55f3f",
   "metadata": {
    "id": "WVRxB-FDMJWL",
    "papermill": {
     "duration": 1.089355,
     "end_time": "2022-12-02T00:08:54.020166",
     "exception": false,
     "start_time": "2022-12-02T00:08:52.930811",
     "status": "completed"
    },
    "tags": []
   },
   "source": [
    "<font color='blue'>**Custom loss function**</font>"
   ]
  },
  {
   "cell_type": "code",
   "execution_count": 44,
   "id": "b2958ec6",
   "metadata": {
    "execution": {
     "iopub.execute_input": "2022-12-02T00:08:56.358469Z",
     "iopub.status.busy": "2022-12-02T00:08:56.358108Z",
     "iopub.status.idle": "2022-12-02T00:08:56.364481Z",
     "shell.execute_reply": "2022-12-02T00:08:56.363405Z"
    },
    "id": "QY_3izrXMs8y",
    "papermill": {
     "duration": 1.160615,
     "end_time": "2022-12-02T00:08:56.366571",
     "exception": false,
     "start_time": "2022-12-02T00:08:55.205956",
     "status": "completed"
    },
    "tags": []
   },
   "outputs": [],
   "source": [
    "# https://www.tensorflow.org/tutorials/text/image_captioning#model\n",
    "\n",
    "loss_object = tf.keras.losses.SparseCategoricalCrossentropy(from_logits = True, reduction = 'none')\n",
    "\n",
    "def loss_function(real, pred):\n",
    "    \n",
    "    \"\"\"\n",
    "    Custom loss function that will not consider the loss for padded zeros.\n",
    "    why are we using this, can't we use simple sparse categorical crossentropy?\n",
    "    Yes, you can use simple sparse categorical crossentropy as loss like we did in task-1. But in this loss function we are ignoring the loss\n",
    "    for the padded zeros. i.e when the input is zero then we donot need to worry what the output is. This padded zeros are added from our end\n",
    "    during preprocessing to make equal length for all the sentences.\n",
    "    \"\"\"\n",
    "    \n",
    "    mask = tf.math.logical_not(tf.math.equal(real, 0))\n",
    "    loss_ = loss_object(real, pred)\n",
    "\n",
    "    mask = tf.cast(mask, dtype = loss_.dtype)\n",
    "    loss_ *= mask\n",
    "\n",
    "    return tf.reduce_mean(loss_)"
   ]
  },
  {
   "cell_type": "markdown",
   "id": "4cd9daf1",
   "metadata": {
    "id": "2QlbWAqNNlqe",
    "papermill": {
     "duration": 1.078227,
     "end_time": "2022-12-02T00:08:58.594953",
     "exception": false,
     "start_time": "2022-12-02T00:08:57.516726",
     "status": "completed"
    },
    "tags": []
   },
   "source": [
    "<font color='blue'>**Training**</font>"
   ]
  },
  {
   "cell_type": "markdown",
   "id": "e0bc726a",
   "metadata": {
    "id": "wqtZUQF2NuZE",
    "papermill": {
     "duration": 1.137121,
     "end_time": "2022-12-02T00:09:00.923466",
     "exception": false,
     "start_time": "2022-12-02T00:08:59.786345",
     "status": "completed"
    },
    "tags": []
   },
   "source": [
    "Implement dot function here."
   ]
  },
  {
   "cell_type": "code",
   "execution_count": 45,
   "id": "e92612ec",
   "metadata": {
    "execution": {
     "iopub.execute_input": "2022-12-02T00:09:03.346840Z",
     "iopub.status.busy": "2022-12-02T00:09:03.346404Z",
     "iopub.status.idle": "2022-12-02T00:09:03.483800Z",
     "shell.execute_reply": "2022-12-02T00:09:03.482448Z"
    },
    "id": "fgyWwZWeMxGQ",
    "papermill": {
     "duration": 1.431299,
     "end_time": "2022-12-02T00:09:03.486573",
     "exception": false,
     "start_time": "2022-12-02T00:09:02.055274",
     "status": "completed"
    },
    "tags": []
   },
   "outputs": [
    {
     "name": "stdout",
     "output_type": "stream",
     "text": [
      "(512, 20) (512, 20) (512, 20)\n"
     ]
    }
   ],
   "source": [
    "# Implement teacher forcing while training your model. You can do it two ways.\n",
    "# Prepare your data, encoder_input,decoder_input and decoder_output\n",
    "# if decoder input is \n",
    "# <start> Hi how are you\n",
    "# decoder output should be\n",
    "# Hi How are you <end>\n",
    "# i.e when you have send <start>-- decoder predicted Hi, 'Hi' decoder predicted 'How' .. e.t.c\n",
    "\n",
    "# or\n",
    " \n",
    "# model.fit([train_ita,train_eng],train_eng[:,1:]..)\n",
    "# Note: If you follow this approach some grader functions might return false and this is fine.\n",
    "\n",
    "\n",
    "EPOCH = 51\n",
    "BATCH_SIZE = 512\n",
    "MAX_INPUT_LEN = 20\n",
    "\n",
    "train_dataset = Dataset(train, tknizer_ita, tknizer_eng, MAX_INPUT_LEN)\n",
    "\n",
    "test_dataset  = Dataset(validation, tknizer_ita, tknizer_eng, MAX_INPUT_LEN)\n",
    "\n",
    "\n",
    "\n",
    "train_dataloader = Dataloder(train_dataset, batch_size = BATCH_SIZE)\n",
    "test_dataloader = Dataloder(test_dataset, batch_size = BATCH_SIZE)\n",
    "\n",
    "print(train_dataloader[0][0][0].shape, train_dataloader[0][0][1].shape, train_dataloader[0][1].shape)"
   ]
  },
  {
   "cell_type": "code",
   "execution_count": 46,
   "id": "88eaa823",
   "metadata": {
    "execution": {
     "iopub.execute_input": "2022-12-02T00:09:05.772423Z",
     "iopub.status.busy": "2022-12-02T00:09:05.771461Z",
     "iopub.status.idle": "2022-12-02T00:09:05.837470Z",
     "shell.execute_reply": "2022-12-02T00:09:05.836550Z"
    },
    "papermill": {
     "duration": 1.219216,
     "end_time": "2022-12-02T00:09:05.839687",
     "exception": false,
     "start_time": "2022-12-02T00:09:04.620471",
     "status": "completed"
    },
    "tags": []
   },
   "outputs": [],
   "source": [
    "tf.keras.backend.clear_session()\n",
    "\n",
    "model_2_dot = encoder_decoder(enc_vocab_size = vocab_size_ita + 1, dec_vocab_size = vocab_size_eng + 1,\n",
    "                en_embedding_size = 100, dec_embedding_size = 100,\n",
    "                en_lstm_size = 256, de_lstm_size = 256,\n",
    "                en_input_length = MAX_INPUT_LEN, de_input_length = MAX_INPUT_LEN,\n",
    "                score_fun = 'dot', att_units = 256, batch_size = BATCH_SIZE)"
   ]
  },
  {
   "cell_type": "code",
   "execution_count": 47,
   "id": "781bc8ae",
   "metadata": {
    "execution": {
     "iopub.execute_input": "2022-12-02T00:09:08.127486Z",
     "iopub.status.busy": "2022-12-02T00:09:08.127117Z",
     "iopub.status.idle": "2022-12-02T02:42:40.815735Z",
     "shell.execute_reply": "2022-12-02T02:42:40.803333Z"
    },
    "papermill": {
     "duration": 9215.729566,
     "end_time": "2022-12-02T02:42:42.704933",
     "exception": false,
     "start_time": "2022-12-02T00:09:06.975367",
     "status": "completed"
    },
    "tags": []
   },
   "outputs": [
    {
     "name": "stdout",
     "output_type": "stream",
     "text": [
      "Epoch 1/51\n",
      "559/559 [==============================] - 277s 336ms/step - loss: 1.9764 - val_loss: 1.7917\n",
      "Epoch 2/51\n",
      "559/559 [==============================] - 155s 277ms/step - loss: 1.7538 - val_loss: 1.7251\n",
      "Epoch 3/51\n",
      "559/559 [==============================] - 154s 275ms/step - loss: 1.7070 - val_loss: 1.6835\n",
      "Epoch 4/51\n",
      "559/559 [==============================] - 154s 275ms/step - loss: 1.6605 - val_loss: 1.6372\n",
      "Epoch 5/51\n",
      "559/559 [==============================] - 154s 275ms/step - loss: 1.6192 - val_loss: 1.6016\n",
      "Epoch 6/51\n",
      "559/559 [==============================] - 153s 274ms/step - loss: 1.5851 - val_loss: 1.5691\n",
      "Epoch 7/51\n",
      "559/559 [==============================] - 154s 276ms/step - loss: 1.5501 - val_loss: 1.5322\n",
      "Epoch 8/51\n",
      "559/559 [==============================] - 153s 274ms/step - loss: 1.5089 - val_loss: 1.4870\n",
      "Epoch 9/51\n",
      "559/559 [==============================] - 154s 276ms/step - loss: 1.4605 - val_loss: 1.4405\n",
      "Epoch 10/51\n",
      "559/559 [==============================] - 154s 276ms/step - loss: 1.4164 - val_loss: 1.3982\n",
      "Epoch 11/51\n",
      "559/559 [==============================] - 155s 277ms/step - loss: 1.3737 - val_loss: 1.3577\n",
      "Epoch 12/51\n",
      "559/559 [==============================] - 154s 276ms/step - loss: 1.3346 - val_loss: 1.3221\n",
      "Epoch 13/51\n",
      "559/559 [==============================] - 154s 276ms/step - loss: 1.3001 - val_loss: 1.2904\n",
      "Epoch 14/51\n",
      "559/559 [==============================] - 154s 276ms/step - loss: 1.2693 - val_loss: 1.2621\n",
      "Epoch 15/51\n",
      "559/559 [==============================] - 154s 275ms/step - loss: 1.2410 - val_loss: 1.2357\n",
      "Epoch 16/51\n",
      "559/559 [==============================] - 154s 276ms/step - loss: 1.2143 - val_loss: 1.2104\n",
      "Epoch 17/51\n",
      "559/559 [==============================] - 156s 279ms/step - loss: 1.1885 - val_loss: 1.1863\n",
      "Epoch 18/51\n",
      "559/559 [==============================] - 154s 276ms/step - loss: 1.1637 - val_loss: 1.1628\n",
      "Epoch 19/51\n",
      "559/559 [==============================] - 155s 276ms/step - loss: 1.1396 - val_loss: 1.1401\n",
      "Epoch 20/51\n",
      "559/559 [==============================] - 154s 276ms/step - loss: 1.1164 - val_loss: 1.1184\n",
      "Epoch 21/51\n",
      "559/559 [==============================] - 155s 277ms/step - loss: 1.0937 - val_loss: 1.0973\n",
      "Epoch 22/51\n",
      "559/559 [==============================] - 154s 276ms/step - loss: 1.0714 - val_loss: 1.0764\n",
      "Epoch 23/51\n",
      "559/559 [==============================] - 154s 275ms/step - loss: 1.0495 - val_loss: 1.0562\n",
      "Epoch 24/51\n",
      "559/559 [==============================] - 154s 276ms/step - loss: 1.0284 - val_loss: 1.0365\n",
      "Epoch 25/51\n",
      "559/559 [==============================] - 154s 275ms/step - loss: 1.0079 - val_loss: 1.0179\n",
      "Epoch 26/51\n",
      "559/559 [==============================] - 154s 276ms/step - loss: 0.9881 - val_loss: 0.9996\n",
      "Epoch 27/51\n",
      "559/559 [==============================] - 154s 275ms/step - loss: 0.9690 - val_loss: 0.9822\n",
      "Epoch 28/51\n",
      "559/559 [==============================] - 155s 277ms/step - loss: 0.9503 - val_loss: 0.9647\n",
      "Epoch 29/51\n",
      "559/559 [==============================] - 157s 281ms/step - loss: 0.9321 - val_loss: 0.9481\n",
      "Epoch 30/51\n",
      "559/559 [==============================] - 154s 275ms/step - loss: 0.9142 - val_loss: 0.9314\n",
      "Epoch 31/51\n",
      "559/559 [==============================] - 154s 276ms/step - loss: 0.8967 - val_loss: 0.9152\n",
      "Epoch 32/51\n",
      "559/559 [==============================] - 154s 276ms/step - loss: 0.8794 - val_loss: 0.8994\n",
      "Epoch 33/51\n",
      "559/559 [==============================] - 155s 276ms/step - loss: 0.8627 - val_loss: 0.8842\n",
      "Epoch 34/51\n",
      "559/559 [==============================] - 155s 277ms/step - loss: 0.8465 - val_loss: 0.8696\n",
      "Epoch 35/51\n",
      "559/559 [==============================] - 155s 277ms/step - loss: 0.8307 - val_loss: 0.8550\n",
      "Epoch 36/51\n",
      "559/559 [==============================] - 155s 277ms/step - loss: 0.8151 - val_loss: 0.8408\n",
      "Epoch 37/51\n",
      "559/559 [==============================] - 155s 277ms/step - loss: 0.8000 - val_loss: 0.8271\n",
      "Epoch 38/51\n",
      "559/559 [==============================] - 155s 277ms/step - loss: 0.7853 - val_loss: 0.8136\n",
      "Epoch 39/51\n",
      "559/559 [==============================] - 155s 277ms/step - loss: 0.7709 - val_loss: 0.8005\n",
      "Epoch 40/51\n",
      "559/559 [==============================] - 155s 278ms/step - loss: 0.7569 - val_loss: 0.7880\n",
      "Epoch 41/51\n",
      "559/559 [==============================] - 155s 277ms/step - loss: 0.7432 - val_loss: 0.7756\n",
      "Epoch 42/51\n",
      "559/559 [==============================] - 155s 278ms/step - loss: 0.7298 - val_loss: 0.7638\n",
      "Epoch 43/51\n",
      "559/559 [==============================] - 155s 278ms/step - loss: 0.7166 - val_loss: 0.7517\n",
      "Epoch 44/51\n",
      "559/559 [==============================] - 155s 277ms/step - loss: 0.7037 - val_loss: 0.7405\n",
      "Epoch 45/51\n",
      "559/559 [==============================] - 155s 278ms/step - loss: 0.6910 - val_loss: 0.7292\n",
      "Epoch 46/51\n",
      "559/559 [==============================] - 157s 281ms/step - loss: 0.6787 - val_loss: 0.7179\n",
      "Epoch 47/51\n",
      "559/559 [==============================] - 155s 277ms/step - loss: 0.6664 - val_loss: 0.7075\n",
      "Epoch 48/51\n",
      "559/559 [==============================] - 154s 275ms/step - loss: 0.6546 - val_loss: 0.6967\n",
      "Epoch 49/51\n",
      "559/559 [==============================] - 153s 274ms/step - loss: 0.6430 - val_loss: 0.6866\n",
      "Epoch 50/51\n",
      "559/559 [==============================] - 154s 275ms/step - loss: 0.6316 - val_loss: 0.6765\n",
      "Epoch 51/51\n",
      "559/559 [==============================] - 154s 275ms/step - loss: 0.6205 - val_loss: 0.6667\n"
     ]
    }
   ],
   "source": [
    "# Compile the model and fit the model\n",
    "\n",
    "model_2_dot.compile(optimizer_, loss = loss_function)\n",
    "\n",
    "train_steps = train.shape[0]//BATCH_SIZE\n",
    "valid_steps = validation.shape[0]//BATCH_SIZE\n",
    "\n",
    "tensorBord = call_back_tBoard('logs_dot')\n",
    "\n",
    "task_2_dot = model_2_dot.fit(x = train_dataloader, validation_data = test_dataloader, \\\n",
    "                    epochs = EPOCH, steps_per_epoch = train_steps, validation_steps = valid_steps,\n",
    "                    callbacks = [tensorBord])"
   ]
  },
  {
   "cell_type": "code",
   "execution_count": 48,
   "id": "2c6bc04f",
   "metadata": {
    "execution": {
     "iopub.execute_input": "2022-12-02T02:42:48.099475Z",
     "iopub.status.busy": "2022-12-02T02:42:48.098927Z",
     "iopub.status.idle": "2022-12-02T02:42:48.431296Z",
     "shell.execute_reply": "2022-12-02T02:42:48.430341Z"
    },
    "papermill": {
     "duration": 3.083673,
     "end_time": "2022-12-02T02:42:48.433504",
     "exception": false,
     "start_time": "2022-12-02T02:42:45.349831",
     "status": "completed"
    },
    "tags": []
   },
   "outputs": [
    {
     "data": {
      "image/png": "[encoded data removed]",
      "text/plain": [
       "<Figure size 720x432 with 1 Axes>"
      ]
     },
     "metadata": {},
     "output_type": "display_data"
    }
   ],
   "source": [
    "save_nd_plot_curve(task_2_dot, 'Task-2 : Dot Attention Layer', 2, model_2_dot, 'model_2_dot')"
   ]
  },
  {
   "cell_type": "markdown",
   "id": "d504ad88",
   "metadata": {
    "id": "6DpC9zlzMcXp",
    "papermill": {
     "duration": 2.888299,
     "end_time": "2022-12-02T02:42:53.998873",
     "exception": false,
     "start_time": "2022-12-02T02:42:51.110574",
     "status": "completed"
    },
    "tags": []
   },
   "source": [
    "## <font color='blue'>**Inference**</font>"
   ]
  },
  {
   "cell_type": "markdown",
   "id": "2f82a6e6",
   "metadata": {
    "id": "Z5NhESYyMW_t",
    "papermill": {
     "duration": 2.831368,
     "end_time": "2022-12-02T02:42:59.468709",
     "exception": false,
     "start_time": "2022-12-02T02:42:56.637341",
     "status": "completed"
    },
    "tags": []
   },
   "source": [
    "<font color='blue'>**Plot attention weights**</font>"
   ]
  },
  {
   "cell_type": "code",
   "execution_count": 49,
   "id": "ea289007",
   "metadata": {
    "execution": {
     "iopub.execute_input": "2022-12-02T02:43:05.313064Z",
     "iopub.status.busy": "2022-12-02T02:43:05.312626Z",
     "iopub.status.idle": "2022-12-02T02:43:05.325088Z",
     "shell.execute_reply": "2022-12-02T02:43:05.324279Z"
    },
    "papermill": {
     "duration": 3.172777,
     "end_time": "2022-12-02T02:43:05.327553",
     "exception": false,
     "start_time": "2022-12-02T02:43:02.154776",
     "status": "completed"
    },
    "tags": []
   },
   "outputs": [],
   "source": [
    "# Refer: https://www.tensorflow.org/tutorials/text/nmt_with_attention#translate\n",
    "\n",
    "def plot_attention(sentence, model):\n",
    "    \n",
    "    pred_, input_sentence, attention_wt = predict(sentence, model)\n",
    "    print(f'Input :: {input_sentence:>50}')\n",
    "    print(f'Predicted translation :: {pred_:>16}\\n')\n",
    "    \n",
    "    attention_wt = attention_wt[:len(pred_.split()), :len(input_sentence.split())]\n",
    "    \n",
    "    fig = plt.figure(figsize = (10, 10))\n",
    "    ax = fig.add_subplot(1, 1, 1)\n",
    "    cax = ax.matshow(attention_wt, cmap = 'viridis')\n",
    "\n",
    "    fig.colorbar(cax)\n",
    "    fontdict = {'fontsize': 12}\n",
    "    \n",
    "    imputs = input_sentence.split()\n",
    "    preds_ = pred_.split()\n",
    "\n",
    "    ax.set_xticklabels([''] + imputs, fontdict = fontdict, rotation = 90)\n",
    "    ax.set_yticklabels([''] + preds_, fontdict = fontdict)\n",
    "\n",
    "    ax.xaxis.set_major_locator(ticker.MultipleLocator(1))\n",
    "    ax.yaxis.set_major_locator(ticker.MultipleLocator(1))\n",
    "    \n",
    "    ax.set_xlabel('Input text')\n",
    "    ax.set_ylabel('Output text')\n",
    "\n",
    "    plt.show()"
   ]
  },
  {
   "cell_type": "markdown",
   "id": "5a1f2ebe",
   "metadata": {
    "id": "e1IhdBrgQYJr",
    "papermill": {
     "duration": 2.646046,
     "end_time": "2022-12-02T02:43:10.832861",
     "exception": false,
     "start_time": "2022-12-02T02:43:08.186815",
     "status": "completed"
    },
    "tags": []
   },
   "source": [
    "<font color='blue'>**Predict the sentence translation**</font>"
   ]
  },
  {
   "cell_type": "code",
   "execution_count": 50,
   "id": "607bd73a",
   "metadata": {
    "execution": {
     "iopub.execute_input": "2022-12-02T02:43:16.355926Z",
     "iopub.status.busy": "2022-12-02T02:43:16.355553Z",
     "iopub.status.idle": "2022-12-02T02:43:16.366261Z",
     "shell.execute_reply": "2022-12-02T02:43:16.365412Z"
    },
    "id": "SkARSlZgLOfE",
    "papermill": {
     "duration": 2.861059,
     "end_time": "2022-12-02T02:43:16.368207",
     "exception": false,
     "start_time": "2022-12-02T02:43:13.507148",
     "status": "completed"
    },
    "tags": []
   },
   "outputs": [],
   "source": [
    "def predict(input_sentence, model):\n",
    "\n",
    "    '''\n",
    "    A. Given input sentence, convert the sentence into integers using tokenizer used earlier\n",
    "    B. Pass the input_sequence to encoder. we get encoder_outputs, last time step hidden and cell state\n",
    "    C. Initialize index of <start> as input to decoder. and encoder final states as input_states to onestepdecoder.\n",
    "    D. till we reach max_length of decoder or till the model predicted word <end>:\n",
    "         predictions, input_states, attention_weights = model.layers[1].onestepdecoder(input_to_decoder, encoder_output, input_states)\n",
    "         Save the attention weights\n",
    "         And get the word using the tokenizer(word index) and then store it in a string.\n",
    "    E. Call plot_attention(#params)\n",
    "    F. Return the predicted sentence\n",
    "    '''\n",
    "#     A. Given input sentence, convert the sentence into integers using tokenizer used earlier\n",
    "    encoder_inp = tknizer_ita.texts_to_sequences([input_sentence])\n",
    "    encoder_inp_pad_seq = pad_sequences(encoder_inp, maxlen = 20, dtype = 'int32', padding = 'post')\n",
    "\n",
    "#     B. Pass the input_sequence to encoder. we get encoder_outputs, last time step hidden and cell state\n",
    "    initial_stat = model.layers[0].initialize_states(1) # Batch size is 1, because we are only giving one at a time\n",
    "    encoder_output, encoder_h, encoder_c  = model.layers[0](encoder_inp_pad_seq, initial_stat) # Encoder Layer\n",
    "    \n",
    "#     C. Initialize index of <start> as input to decoder. and encoder final states as input_states to onestepdecoder.\n",
    "    curr_vec = np.array(tknizer_eng.word_index['<start>']).reshape(1,1)\n",
    "    end_idx = tknizer_eng.word_index['<end>']\n",
    "    \n",
    "    attention_plot = np.zeros((20, 20))\n",
    "    \n",
    "#     D. till we reach max_length of decoder or till the model predicted word <end>:\n",
    "\n",
    "    predicted_string = []\n",
    "    \n",
    "    for idx in range(MAX_INPUT_LEN):\n",
    "        \n",
    "        output, state_h, state_c, attention_weights, context_vector = \\\n",
    "                        model.layers[1].onestepdecoder(curr_vec, encoder_output, encoder_h, encoder_c)\n",
    "        \n",
    "        attention_weights = tf.reshape(attention_weights, (-1, ))\n",
    "        attention_plot[idx] = attention_weights.numpy()\n",
    "        \n",
    "        predicted_index = np.argmax(output)\n",
    "        predicted_string.append(tknizer_eng.index_word[predicted_index])\n",
    "\n",
    "        if predicted_index == end_idx or predicted_index == 0:\n",
    "            break\n",
    "\n",
    "        curr_vec = np.reshape(predicted_index, (1, 1))\n",
    "    \n",
    "#     F. Return the predicted sentence\n",
    "    return ' '.join(predicted_string), input_sentence, attention_plot"
   ]
  },
  {
   "cell_type": "code",
   "execution_count": 51,
   "id": "5ad30c3d",
   "metadata": {
    "execution": {
     "iopub.execute_input": "2022-12-02T02:43:21.709085Z",
     "iopub.status.busy": "2022-12-02T02:43:21.708527Z",
     "iopub.status.idle": "2022-12-02T02:45:02.574551Z",
     "shell.execute_reply": "2022-12-02T02:45:02.573566Z"
    },
    "id": "996pFO8BLOfG",
    "papermill": {
     "duration": 103.526811,
     "end_time": "2022-12-02T02:45:02.577284",
     "exception": false,
     "start_time": "2022-12-02T02:43:19.050473",
     "status": "completed"
    },
    "tags": []
   },
   "outputs": [
    {
     "name": "stderr",
     "output_type": "stream",
     "text": [
      "100%|██████████| 1000/1000 [01:40<00:00,  9.92it/s]\n"
     ]
    }
   ],
   "source": [
    "# Predict on 1000 random sentences on test data and calculate the average BLEU score of these sentences.\n",
    "# https://www.nltk.org/_modules/nltk/translate/bleu_score.html\n",
    "\n",
    "# validation_sampled = validation.sample(1000, random_state = 43)\n",
    "\n",
    "def generate_attention_predictoins(valid, model):\n",
    "    \n",
    "    g_truth, predicted_ressult = [], []\n",
    "    \n",
    "    for value in tqdm(valid.values):\n",
    "        g_truth.append(re.sub(r'<\\w*>', '', value[1]).strip())\n",
    "        pred_, input_sentence, attention_wt = predict(value[0], model)\n",
    "        \n",
    "        predicted_ressult.append(pred_)\n",
    "        \n",
    "    return g_truth, predicted_ressult\n",
    "        \n",
    "g_truth, predicted_ressult = generate_attention_predictoins(validation_sampled, model_2_dot)"
   ]
  },
  {
   "cell_type": "markdown",
   "id": "b1277dec",
   "metadata": {
    "id": "jmxIVOOQPWMu",
    "papermill": {
     "duration": 2.667892,
     "end_time": "2022-12-02T02:45:08.222225",
     "exception": false,
     "start_time": "2022-12-02T02:45:05.554333",
     "status": "completed"
    },
    "tags": []
   },
   "source": [
    "<font color='blue'>**Calculate BLEU score**</font>"
   ]
  },
  {
   "cell_type": "code",
   "execution_count": 52,
   "id": "a6108ae8",
   "metadata": {
    "execution": {
     "iopub.execute_input": "2022-12-02T02:45:14.128712Z",
     "iopub.status.busy": "2022-12-02T02:45:14.128317Z",
     "iopub.status.idle": "2022-12-02T02:45:14.339910Z",
     "shell.execute_reply": "2022-12-02T02:45:14.338707Z"
    },
    "papermill": {
     "duration": 3.297718,
     "end_time": "2022-12-02T02:45:14.342841",
     "exception": false,
     "start_time": "2022-12-02T02:45:11.045123",
     "status": "completed"
    },
    "tags": []
   },
   "outputs": [
    {
     "name": "stdout",
     "output_type": "stream",
     "text": [
      "Average Bleu Score :: 0.33556081287880274\n"
     ]
    }
   ],
   "source": [
    "## Create an object of your custom model.\n",
    "## Compile and train your model on dot scoring function.\n",
    "##  Visualize few sentences randomly in Test data\n",
    "## Predict on 1000 random sentences on test data and calculate the average BLEU score of these sentences.\n",
    "## https://www.nltk.org/_modules/nltk/translate/bleu_score.html\n",
    "\n",
    "## Sample example\n",
    "# import nltk.translate.bleu_score as bleu\n",
    "# reference = ['i am groot'.split(),] # the original\n",
    "# translation = 'it is ship'.split() # trasilated using model\n",
    "# print('BLEU score: {}'.format(bleu.sentence_bleu(reference, translation)))\n",
    "\n",
    "\n",
    "avg_bleu_score_att = []\n",
    "for g_t, p_r in zip(g_truth, predicted_ressult):\n",
    "    avg_bleu_score_att.append(sentence_bleu([g_t], p_r))\n",
    "    \n",
    "print(f'Average Bleu Score :: {np.mean(avg_bleu_score_att)}')"
   ]
  },
  {
   "cell_type": "code",
   "execution_count": 53,
   "id": "bc4ee228",
   "metadata": {
    "execution": {
     "iopub.execute_input": "2022-12-02T02:45:20.026351Z",
     "iopub.status.busy": "2022-12-02T02:45:20.025983Z",
     "iopub.status.idle": "2022-12-02T02:45:20.519500Z",
     "shell.execute_reply": "2022-12-02T02:45:20.518570Z"
    },
    "papermill": {
     "duration": 3.232916,
     "end_time": "2022-12-02T02:45:20.521641",
     "exception": false,
     "start_time": "2022-12-02T02:45:17.288725",
     "status": "completed"
    },
    "tags": []
   },
   "outputs": [
    {
     "name": "stdout",
     "output_type": "stream",
     "text": [
      "Input ::            molta gente è stata uccisa nella guerra\n",
      "Predicted translation :: many people were killed in the war <end>\n",
      "\n"
     ]
    },
    {
     "data": {
      "image/png": "[encoded data removed]",
      "text/plain": [
       "<Figure size 720x720 with 2 Axes>"
      ]
     },
     "metadata": {},
     "output_type": "display_data"
    }
   ],
   "source": [
    "plot_attention('molta gente è stata uccisa nella guerra', model_2_dot)"
   ]
  },
  {
   "cell_type": "code",
   "execution_count": 54,
   "id": "03f2114c",
   "metadata": {
    "execution": {
     "iopub.execute_input": "2022-12-02T02:45:26.085260Z",
     "iopub.status.busy": "2022-12-02T02:45:26.084813Z",
     "iopub.status.idle": "2022-12-02T02:45:26.633487Z",
     "shell.execute_reply": "2022-12-02T02:45:26.632562Z"
    },
    "papermill": {
     "duration": 3.388626,
     "end_time": "2022-12-02T02:45:26.635837",
     "exception": false,
     "start_time": "2022-12-02T02:45:23.247211",
     "status": "completed"
    },
    "tags": []
   },
   "outputs": [
    {
     "name": "stdout",
     "output_type": "stream",
     "text": [
      "Input ::                         mary non ama il suo marito\n",
      "Predicted translation :: mary is not love his girlfriend <end>\n",
      "\n"
     ]
    },
    {
     "data": {
      "image/png": "[encoded data removed]",
      "text/plain": [
       "<Figure size 720x720 with 2 Axes>"
      ]
     },
     "metadata": {},
     "output_type": "display_data"
    }
   ],
   "source": [
    "plot_attention('mary non ama il suo marito', model_2_dot)"
   ]
  },
  {
   "cell_type": "code",
   "execution_count": 55,
   "id": "91b0dc53",
   "metadata": {
    "execution": {
     "iopub.execute_input": "2022-12-02T02:45:32.185532Z",
     "iopub.status.busy": "2022-12-02T02:45:32.184925Z",
     "iopub.status.idle": "2022-12-02T02:45:32.779354Z",
     "shell.execute_reply": "2022-12-02T02:45:32.778166Z"
    },
    "papermill": {
     "duration": 3.372006,
     "end_time": "2022-12-02T02:45:32.783234",
     "exception": false,
     "start_time": "2022-12-02T02:45:29.411228",
     "status": "completed"
    },
    "tags": []
   },
   "outputs": [
    {
     "name": "stdout",
     "output_type": "stream",
     "text": [
      "Input ::                               non puoi sposare tom\n",
      "Predicted translation :: you can not you can not you can not you can not you can not you can not you can\n",
      "\n"
     ]
    },
    {
     "data": {
      "image/png": "[encoded data removed]",
      "text/plain": [
       "<Figure size 720x720 with 2 Axes>"
      ]
     },
     "metadata": {},
     "output_type": "display_data"
    }
   ],
   "source": [
    "plot_attention('non puoi sposare tom', model_2_dot)"
   ]
  },
  {
   "cell_type": "markdown",
   "id": "fe64f583",
   "metadata": {
    "id": "SWg2ferDQvT3",
    "papermill": {
     "duration": 2.902805,
     "end_time": "2022-12-02T02:45:38.353426",
     "exception": false,
     "start_time": "2022-12-02T02:45:35.450621",
     "status": "completed"
    },
    "tags": []
   },
   "source": [
    "<font color='blue'>**Repeat the same steps for General scoring function**</font>"
   ]
  },
  {
   "cell_type": "code",
   "execution_count": 56,
   "id": "46b1f9ee",
   "metadata": {
    "execution": {
     "iopub.execute_input": "2022-12-02T02:45:44.141298Z",
     "iopub.status.busy": "2022-12-02T02:45:44.140935Z",
     "iopub.status.idle": "2022-12-02T05:17:29.948342Z",
     "shell.execute_reply": "2022-12-02T05:17:29.947213Z"
    },
    "id": "4Rh9_w79M5JO",
    "papermill": {
     "duration": 9108.905253,
     "end_time": "2022-12-02T05:17:29.951149",
     "exception": false,
     "start_time": "2022-12-02T02:45:41.045896",
     "status": "completed"
    },
    "tags": []
   },
   "outputs": [
    {
     "name": "stdout",
     "output_type": "stream",
     "text": [
      "Epoch 1/51\n",
      "559/559 [==============================] - 292s 355ms/step - loss: 1.9827 - val_loss: 1.8112\n",
      "Epoch 2/51\n",
      "559/559 [==============================] - 162s 290ms/step - loss: 1.7601 - val_loss: 1.7205\n",
      "Epoch 3/51\n",
      "559/559 [==============================] - 162s 289ms/step - loss: 1.6983 - val_loss: 1.6776\n",
      "Epoch 4/51\n",
      "559/559 [==============================] - 163s 291ms/step - loss: 1.6650 - val_loss: 1.6521\n",
      "Epoch 5/51\n",
      "559/559 [==============================] - 162s 290ms/step - loss: 1.6424 - val_loss: 1.6321\n",
      "Epoch 6/51\n",
      "559/559 [==============================] - 162s 291ms/step - loss: 1.6215 - val_loss: 1.6097\n",
      "Epoch 7/51\n",
      "559/559 [==============================] - 163s 292ms/step - loss: 1.5935 - val_loss: 1.5771\n",
      "Epoch 8/51\n",
      "559/559 [==============================] - 163s 291ms/step - loss: 1.5597 - val_loss: 1.5452\n",
      "Epoch 9/51\n",
      "559/559 [==============================] - 163s 291ms/step - loss: 1.5276 - val_loss: 1.5099\n",
      "Epoch 10/51\n",
      "559/559 [==============================] - 163s 292ms/step - loss: 1.4857 - val_loss: 1.4651\n",
      "Epoch 11/51\n",
      "559/559 [==============================] - 163s 291ms/step - loss: 1.4419 - val_loss: 1.4258\n",
      "Epoch 12/51\n",
      "559/559 [==============================] - 163s 292ms/step - loss: 1.4038 - val_loss: 1.3901\n",
      "Epoch 13/51\n",
      "559/559 [==============================] - 163s 292ms/step - loss: 1.3683 - val_loss: 1.3565\n",
      "Epoch 14/51\n",
      "559/559 [==============================] - 163s 291ms/step - loss: 1.3352 - val_loss: 1.3249\n",
      "Epoch 15/51\n",
      "559/559 [==============================] - 164s 294ms/step - loss: 1.3030 - val_loss: 1.2943\n",
      "Epoch 16/51\n",
      "559/559 [==============================] - 163s 291ms/step - loss: 1.2729 - val_loss: 1.2663\n",
      "Epoch 17/51\n",
      "559/559 [==============================] - 163s 291ms/step - loss: 1.2446 - val_loss: 1.2394\n",
      "Epoch 18/51\n",
      "559/559 [==============================] - 163s 292ms/step - loss: 1.2169 - val_loss: 1.2129\n",
      "Epoch 19/51\n",
      "559/559 [==============================] - 164s 293ms/step - loss: 1.1903 - val_loss: 1.1883\n",
      "Epoch 20/51\n",
      "559/559 [==============================] - 162s 290ms/step - loss: 1.1653 - val_loss: 1.1648\n",
      "Epoch 21/51\n",
      "559/559 [==============================] - 162s 290ms/step - loss: 1.1410 - val_loss: 1.1419\n",
      "Epoch 22/51\n",
      "559/559 [==============================] - 163s 291ms/step - loss: 1.1177 - val_loss: 1.1203\n",
      "Epoch 23/51\n",
      "559/559 [==============================] - 163s 291ms/step - loss: 1.0955 - val_loss: 1.0998\n",
      "Epoch 24/51\n",
      "559/559 [==============================] - 163s 292ms/step - loss: 1.0745 - val_loss: 1.0803\n",
      "Epoch 25/51\n",
      "559/559 [==============================] - 162s 290ms/step - loss: 1.0541 - val_loss: 1.0615\n",
      "Epoch 26/51\n",
      "559/559 [==============================] - 162s 289ms/step - loss: 1.0345 - val_loss: 1.0432\n",
      "Epoch 27/51\n",
      "559/559 [==============================] - 162s 290ms/step - loss: 1.0154 - val_loss: 1.0257\n",
      "Epoch 28/51\n",
      "559/559 [==============================] - 163s 292ms/step - loss: 0.9968 - val_loss: 1.0085\n",
      "Epoch 29/51\n",
      "559/559 [==============================] - 162s 291ms/step - loss: 0.9788 - val_loss: 0.9920\n",
      "Epoch 30/51\n",
      "559/559 [==============================] - 162s 291ms/step - loss: 0.9612 - val_loss: 0.9757\n",
      "Epoch 31/51\n",
      "559/559 [==============================] - 164s 293ms/step - loss: 0.9440 - val_loss: 0.9600\n",
      "Epoch 32/51\n",
      "559/559 [==============================] - 163s 292ms/step - loss: 0.9274 - val_loss: 0.9451\n",
      "Epoch 33/51\n",
      "559/559 [==============================] - 163s 292ms/step - loss: 0.9110 - val_loss: 0.9302\n",
      "Epoch 34/51\n",
      "559/559 [==============================] - 161s 289ms/step - loss: 0.8948 - val_loss: 0.9152\n",
      "Epoch 35/51\n",
      "559/559 [==============================] - 162s 291ms/step - loss: 0.8790 - val_loss: 0.9006\n",
      "Epoch 36/51\n",
      "559/559 [==============================] - 162s 290ms/step - loss: 0.8635 - val_loss: 0.8868\n",
      "Epoch 37/51\n",
      "559/559 [==============================] - 162s 290ms/step - loss: 0.8482 - val_loss: 0.8727\n",
      "Epoch 38/51\n",
      "559/559 [==============================] - 161s 288ms/step - loss: 0.8332 - val_loss: 0.8591\n",
      "Epoch 39/51\n",
      "559/559 [==============================] - 161s 288ms/step - loss: 0.8185 - val_loss: 0.8459\n",
      "Epoch 40/51\n",
      "559/559 [==============================] - 163s 291ms/step - loss: 0.8041 - val_loss: 0.8326\n",
      "Epoch 41/51\n",
      "559/559 [==============================] - 161s 288ms/step - loss: 0.7899 - val_loss: 0.8196\n",
      "Epoch 42/51\n",
      "559/559 [==============================] - 161s 289ms/step - loss: 0.7759 - val_loss: 0.8070\n",
      "Epoch 43/51\n",
      "559/559 [==============================] - 163s 291ms/step - loss: 0.7621 - val_loss: 0.7950\n",
      "Epoch 44/51\n",
      "559/559 [==============================] - 164s 293ms/step - loss: 0.7487 - val_loss: 0.7830\n",
      "Epoch 45/51\n",
      "559/559 [==============================] - 162s 289ms/step - loss: 0.7356 - val_loss: 0.7711\n",
      "Epoch 46/51\n",
      "559/559 [==============================] - 161s 289ms/step - loss: 0.7226 - val_loss: 0.7599\n",
      "Epoch 47/51\n",
      "559/559 [==============================] - 162s 289ms/step - loss: 0.7099 - val_loss: 0.7482\n",
      "Epoch 48/51\n",
      "559/559 [==============================] - 162s 289ms/step - loss: 0.6975 - val_loss: 0.7373\n",
      "Epoch 49/51\n",
      "559/559 [==============================] - 161s 288ms/step - loss: 0.6853 - val_loss: 0.7264\n",
      "Epoch 50/51\n",
      "559/559 [==============================] - 162s 290ms/step - loss: 0.6734 - val_loss: 0.7162\n",
      "Epoch 51/51\n",
      "559/559 [==============================] - 163s 291ms/step - loss: 0.6617 - val_loss: 0.7061\n"
     ]
    }
   ],
   "source": [
    "#Compile and train your model on general scoring function.\n",
    "# Visualize few sentences randomly in Test data\n",
    "# Predict on 1000 random sentences on test data and calculate the average BLEU score of these sentences.\n",
    "# https://www.nltk.org/_modules/nltk/translate/bleu_score.html\n",
    "\n",
    "\n",
    "model_2_general = encoder_decoder(enc_vocab_size = vocab_size_ita + 1,\n",
    "                dec_vocab_size = vocab_size_eng + 1,\n",
    "                en_embedding_size = 100, dec_embedding_size = 100,\n",
    "                en_lstm_size = 256, de_lstm_size = 256,\n",
    "                en_input_length = MAX_INPUT_LEN, de_input_length = MAX_INPUT_LEN,\n",
    "                score_fun = 'general', att_units = 256, batch_size = BATCH_SIZE)\n",
    "\n",
    "# Compile the model and fit the model\n",
    "\n",
    "model_2_general.compile(optimizer_, loss = loss_function)\n",
    "\n",
    "train_steps = train.shape[0]//BATCH_SIZE\n",
    "valid_steps = validation.shape[0]//BATCH_SIZE\n",
    "\n",
    "tensorBord = call_back_tBoard('logs_general')\n",
    "\n",
    "task_2_general = model_2_general.fit(x = train_dataloader, validation_data = test_dataloader, \\\n",
    "                    epochs = EPOCH, steps_per_epoch = train_steps, validation_steps = valid_steps,\n",
    "                    callbacks = [tensorBord])"
   ]
  },
  {
   "cell_type": "code",
   "execution_count": 57,
   "id": "fc3120e3",
   "metadata": {
    "execution": {
     "iopub.execute_input": "2022-12-02T05:17:38.739236Z",
     "iopub.status.busy": "2022-12-02T05:17:38.738851Z",
     "iopub.status.idle": "2022-12-02T05:17:39.089843Z",
     "shell.execute_reply": "2022-12-02T05:17:39.088896Z"
    },
    "papermill": {
     "duration": 4.919728,
     "end_time": "2022-12-02T05:17:39.092141",
     "exception": false,
     "start_time": "2022-12-02T05:17:34.172413",
     "status": "completed"
    },
    "tags": []
   },
   "outputs": [
    {
     "data": {
      "image/png": "[encoded data removed]",
      "text/plain": [
       "<Figure size 720x432 with 1 Axes>"
      ]
     },
     "metadata": {},
     "output_type": "display_data"
    }
   ],
   "source": [
    "save_nd_plot_curve(task_2_general, 'Task-2 : General Attention Layer', 2, model_2_general, \\\n",
    "                                                                                   'model_2_general')"
   ]
  },
  {
   "cell_type": "code",
   "execution_count": 58,
   "id": "41bdfd71",
   "metadata": {
    "execution": {
     "iopub.execute_input": "2022-12-02T05:17:47.981457Z",
     "iopub.status.busy": "2022-12-02T05:17:47.981083Z",
     "iopub.status.idle": "2022-12-02T05:19:41.967003Z",
     "shell.execute_reply": "2022-12-02T05:19:41.965043Z"
    },
    "papermill": {
     "duration": 118.629162,
     "end_time": "2022-12-02T05:19:41.969157",
     "exception": false,
     "start_time": "2022-12-02T05:17:43.339995",
     "status": "completed"
    },
    "tags": []
   },
   "outputs": [
    {
     "name": "stderr",
     "output_type": "stream",
     "text": [
      "100%|██████████| 1000/1000 [01:53<00:00,  8.77it/s]\n"
     ]
    }
   ],
   "source": [
    "g_truth, predicted_ressult = generate_attention_predictoins(validation_sampled, model_2_general)"
   ]
  },
  {
   "cell_type": "code",
   "execution_count": 59,
   "id": "6520c016",
   "metadata": {
    "execution": {
     "iopub.execute_input": "2022-12-02T05:19:51.011529Z",
     "iopub.status.busy": "2022-12-02T05:19:51.011152Z",
     "iopub.status.idle": "2022-12-02T05:19:51.214617Z",
     "shell.execute_reply": "2022-12-02T05:19:51.213129Z"
    },
    "papermill": {
     "duration": 5.019525,
     "end_time": "2022-12-02T05:19:51.217804",
     "exception": false,
     "start_time": "2022-12-02T05:19:46.198279",
     "status": "completed"
    },
    "tags": []
   },
   "outputs": [
    {
     "name": "stdout",
     "output_type": "stream",
     "text": [
      "Average Bleu Score :: 0.3088731001455924\n"
     ]
    }
   ],
   "source": [
    "avg_bleu_score_att = []\n",
    "for g_t, p_r in zip(g_truth, predicted_ressult):\n",
    "    avg_bleu_score_att.append(sentence_bleu([g_t], p_r))\n",
    "    \n",
    "print(f'Average Bleu Score :: {np.mean(avg_bleu_score_att)}')"
   ]
  },
  {
   "cell_type": "code",
   "execution_count": 60,
   "id": "ab00f92a",
   "metadata": {
    "execution": {
     "iopub.execute_input": "2022-12-02T05:20:00.253499Z",
     "iopub.status.busy": "2022-12-02T05:20:00.252675Z",
     "iopub.status.idle": "2022-12-02T05:20:00.694161Z",
     "shell.execute_reply": "2022-12-02T05:20:00.692825Z"
    },
    "papermill": {
     "duration": 5.235058,
     "end_time": "2022-12-02T05:20:00.697487",
     "exception": false,
     "start_time": "2022-12-02T05:19:55.462429",
     "status": "completed"
    },
    "tags": []
   },
   "outputs": [
    {
     "name": "stdout",
     "output_type": "stream",
     "text": [
      "Input ::            molta gente è stata uccisa nella guerra\n",
      "Predicted translation ::    the war <end>\n",
      "\n"
     ]
    },
    {
     "data": {
      "image/png": "[encoded data removed]",
      "text/plain": [
       "<Figure size 720x720 with 2 Axes>"
      ]
     },
     "metadata": {},
     "output_type": "display_data"
    }
   ],
   "source": [
    "plot_attention('molta gente è stata uccisa nella guerra', model_2_general)"
   ]
  },
  {
   "cell_type": "code",
   "execution_count": 61,
   "id": "fa796db8",
   "metadata": {
    "execution": {
     "iopub.execute_input": "2022-12-02T05:20:09.353791Z",
     "iopub.status.busy": "2022-12-02T05:20:09.353407Z",
     "iopub.status.idle": "2022-12-02T05:20:09.811564Z",
     "shell.execute_reply": "2022-12-02T05:20:09.810339Z"
    },
    "papermill": {
     "duration": 4.743363,
     "end_time": "2022-12-02T05:20:09.815378",
     "exception": false,
     "start_time": "2022-12-02T05:20:05.072015",
     "status": "completed"
    },
    "tags": []
   },
   "outputs": [
    {
     "name": "stdout",
     "output_type": "stream",
     "text": [
      "Input ::                         mary non ama il suo marito\n",
      "Predicted translation :: mary does not his name <end>\n",
      "\n"
     ]
    },
    {
     "data": {
      "image/png": "[encoded data removed]",
      "text/plain": [
       "<Figure size 720x720 with 2 Axes>"
      ]
     },
     "metadata": {},
     "output_type": "display_data"
    }
   ],
   "source": [
    "plot_attention('mary non ama il suo marito', model_2_general)"
   ]
  },
  {
   "cell_type": "code",
   "execution_count": 62,
   "id": "d4e41c7b",
   "metadata": {
    "execution": {
     "iopub.execute_input": "2022-12-02T05:20:18.794906Z",
     "iopub.status.busy": "2022-12-02T05:20:18.794414Z",
     "iopub.status.idle": "2022-12-02T05:20:19.398615Z",
     "shell.execute_reply": "2022-12-02T05:20:19.397482Z"
    },
    "papermill": {
     "duration": 4.954909,
     "end_time": "2022-12-02T05:20:19.400840",
     "exception": false,
     "start_time": "2022-12-02T05:20:14.445931",
     "status": "completed"
    },
    "tags": []
   },
   "outputs": [
    {
     "name": "stdout",
     "output_type": "stream",
     "text": [
      "Input ::                               non puoi sposare tom\n",
      "Predicted translation :: you can not you can not you can not you can not you can not you can not you can\n",
      "\n"
     ]
    },
    {
     "data": {
      "image/png": "[encoded data removed]",
      "text/plain": [
       "<Figure size 720x720 with 2 Axes>"
      ]
     },
     "metadata": {},
     "output_type": "display_data"
    }
   ],
   "source": [
    "plot_attention('non puoi sposare tom', model_2_general)"
   ]
  },
  {
   "cell_type": "markdown",
   "id": "5762e43d",
   "metadata": {
    "id": "VB1jRUqZQ9AM",
    "papermill": {
     "duration": 4.294376,
     "end_time": "2022-12-02T05:20:28.211813",
     "exception": false,
     "start_time": "2022-12-02T05:20:23.917437",
     "status": "completed"
    },
    "tags": []
   },
   "source": [
    "<font color='blue'>**Repeat the same steps for Concat scoring function**</font>"
   ]
  },
  {
   "cell_type": "code",
   "execution_count": 63,
   "id": "31198983",
   "metadata": {
    "execution": {
     "iopub.execute_input": "2022-12-02T05:20:37.587461Z",
     "iopub.status.busy": "2022-12-02T05:20:37.587094Z",
     "iopub.status.idle": "2022-12-02T07:56:43.488738Z",
     "shell.execute_reply": "2022-12-02T07:56:43.486529Z"
    },
    "id": "1kN9ZWViQNMB",
    "papermill": {
     "duration": 9370.146552,
     "end_time": "2022-12-02T07:56:43.491352",
     "exception": false,
     "start_time": "2022-12-02T05:20:33.344800",
     "status": "completed"
    },
    "tags": []
   },
   "outputs": [
    {
     "name": "stdout",
     "output_type": "stream",
     "text": [
      "Epoch 1/51\n",
      "559/559 [==============================] - 305s 378ms/step - loss: 1.9638 - val_loss: 1.8018\n",
      "Epoch 2/51\n",
      "559/559 [==============================] - 173s 310ms/step - loss: 1.7209 - val_loss: 1.6993\n",
      "Epoch 3/51\n",
      "559/559 [==============================] - 172s 307ms/step - loss: 1.6443 - val_loss: 1.6320\n",
      "Epoch 4/51\n",
      "559/559 [==============================] - 172s 308ms/step - loss: 1.5920 - val_loss: 1.5914\n",
      "Epoch 5/51\n",
      "559/559 [==============================] - 171s 307ms/step - loss: 1.5455 - val_loss: 1.5439\n",
      "Epoch 6/51\n",
      "559/559 [==============================] - 172s 307ms/step - loss: 1.4979 - val_loss: 1.5036\n",
      "Epoch 7/51\n",
      "559/559 [==============================] - 172s 308ms/step - loss: 1.4608 - val_loss: 1.4757\n",
      "Epoch 8/51\n",
      "559/559 [==============================] - 172s 308ms/step - loss: 1.4323 - val_loss: 1.4495\n",
      "Epoch 9/51\n",
      "559/559 [==============================] - 172s 308ms/step - loss: 1.4034 - val_loss: 1.4106\n",
      "Epoch 10/51\n",
      "559/559 [==============================] - 174s 311ms/step - loss: 1.3660 - val_loss: 1.3636\n",
      "Epoch 11/51\n",
      "559/559 [==============================] - 172s 307ms/step - loss: 1.3244 - val_loss: 1.3234\n",
      "Epoch 12/51\n",
      "559/559 [==============================] - 172s 308ms/step - loss: 1.2905 - val_loss: 1.2899\n",
      "Epoch 13/51\n",
      "559/559 [==============================] - 172s 308ms/step - loss: 1.2595 - val_loss: 1.2597\n",
      "Epoch 14/51\n",
      "559/559 [==============================] - 173s 310ms/step - loss: 1.2306 - val_loss: 1.2322\n",
      "Epoch 15/51\n",
      "559/559 [==============================] - 172s 308ms/step - loss: 1.2033 - val_loss: 1.2053\n",
      "Epoch 16/51\n",
      "559/559 [==============================] - 174s 312ms/step - loss: 1.1770 - val_loss: 1.1807\n",
      "Epoch 17/51\n",
      "559/559 [==============================] - 173s 310ms/step - loss: 1.1518 - val_loss: 1.1568\n",
      "Epoch 18/51\n",
      "559/559 [==============================] - 174s 311ms/step - loss: 1.1275 - val_loss: 1.1337\n",
      "Epoch 19/51\n",
      "559/559 [==============================] - 172s 308ms/step - loss: 1.1040 - val_loss: 1.1115\n",
      "Epoch 20/51\n",
      "559/559 [==============================] - 175s 312ms/step - loss: 1.0812 - val_loss: 1.0898\n",
      "Epoch 21/51\n",
      "559/559 [==============================] - 173s 309ms/step - loss: 1.0589 - val_loss: 1.0687\n",
      "Epoch 22/51\n",
      "559/559 [==============================] - 172s 308ms/step - loss: 1.0373 - val_loss: 1.0484\n",
      "Epoch 23/51\n",
      "559/559 [==============================] - 174s 312ms/step - loss: 1.0166 - val_loss: 1.0295\n",
      "Epoch 24/51\n",
      "559/559 [==============================] - 172s 308ms/step - loss: 0.9968 - val_loss: 1.0108\n",
      "Epoch 25/51\n",
      "559/559 [==============================] - 173s 309ms/step - loss: 0.9778 - val_loss: 0.9941\n",
      "Epoch 26/51\n",
      "559/559 [==============================] - 175s 313ms/step - loss: 0.9594 - val_loss: 0.9770\n",
      "Epoch 27/51\n",
      "559/559 [==============================] - 172s 308ms/step - loss: 0.9417 - val_loss: 0.9607\n",
      "Epoch 28/51\n",
      "559/559 [==============================] - 175s 313ms/step - loss: 0.9245 - val_loss: 0.9448\n",
      "Epoch 29/51\n",
      "559/559 [==============================] - 172s 308ms/step - loss: 0.9079 - val_loss: 0.9296\n",
      "Epoch 30/51\n",
      "559/559 [==============================] - 173s 309ms/step - loss: 0.8916 - val_loss: 0.9146\n",
      "Epoch 31/51\n",
      "559/559 [==============================] - 172s 308ms/step - loss: 0.8756 - val_loss: 0.9005\n",
      "Epoch 32/51\n",
      "559/559 [==============================] - 173s 309ms/step - loss: 0.8599 - val_loss: 0.8861\n",
      "Epoch 33/51\n",
      "559/559 [==============================] - 173s 309ms/step - loss: 0.8444 - val_loss: 0.8720\n",
      "Epoch 34/51\n",
      "559/559 [==============================] - 173s 309ms/step - loss: 0.8294 - val_loss: 0.8586\n",
      "Epoch 35/51\n",
      "559/559 [==============================] - 174s 312ms/step - loss: 0.8145 - val_loss: 0.8449\n",
      "Epoch 36/51\n",
      "559/559 [==============================] - 173s 310ms/step - loss: 0.7998 - val_loss: 0.8322\n",
      "Epoch 37/51\n",
      "559/559 [==============================] - 174s 311ms/step - loss: 0.7856 - val_loss: 0.8192\n",
      "Epoch 38/51\n",
      "559/559 [==============================] - 174s 311ms/step - loss: 0.7715 - val_loss: 0.8063\n",
      "Epoch 39/51\n",
      "559/559 [==============================] - 173s 309ms/step - loss: 0.7576 - val_loss: 0.7940\n",
      "Epoch 40/51\n",
      "559/559 [==============================] - 173s 309ms/step - loss: 0.7439 - val_loss: 0.7818\n",
      "Epoch 41/51\n",
      "559/559 [==============================] - 173s 310ms/step - loss: 0.7305 - val_loss: 0.7699\n",
      "Epoch 42/51\n",
      "559/559 [==============================] - 173s 310ms/step - loss: 0.7174 - val_loss: 0.7583\n",
      "Epoch 43/51\n",
      "559/559 [==============================] - 175s 313ms/step - loss: 0.7045 - val_loss: 0.7471\n",
      "Epoch 44/51\n",
      "559/559 [==============================] - 173s 309ms/step - loss: 0.6918 - val_loss: 0.7358\n",
      "Epoch 45/51\n",
      "559/559 [==============================] - 175s 313ms/step - loss: 0.6795 - val_loss: 0.7251\n",
      "Epoch 46/51\n",
      "559/559 [==============================] - 171s 306ms/step - loss: 0.6674 - val_loss: 0.7145\n",
      "Epoch 47/51\n",
      "559/559 [==============================] - 171s 307ms/step - loss: 0.6556 - val_loss: 0.7042\n",
      "Epoch 48/51\n",
      "559/559 [==============================] - 173s 309ms/step - loss: 0.6439 - val_loss: 0.6940\n",
      "Epoch 49/51\n",
      "559/559 [==============================] - 173s 309ms/step - loss: 0.6326 - val_loss: 0.6841\n",
      "Epoch 50/51\n",
      "559/559 [==============================] - 170s 305ms/step - loss: 0.6214 - val_loss: 0.6748\n",
      "Epoch 51/51\n",
      "559/559 [==============================] - 173s 309ms/step - loss: 0.6106 - val_loss: 0.6653\n"
     ]
    }
   ],
   "source": [
    "#Compile and train your model on concat scoring function.\n",
    "# Visualize few sentences randomly in Test data\n",
    "# Predict on 1000 random sentences on test data and calculate the average BLEU score of these sentences.\n",
    "# https://www.nltk.org/_modules/nltk/translate/bleu_score.html\n",
    "\n",
    "model_2_concat = encoder_decoder(enc_vocab_size = vocab_size_ita + 1, dec_vocab_size = vocab_size_eng + 1,\n",
    "                en_embedding_size = 100, dec_embedding_size = 100,\n",
    "                en_lstm_size = 256, de_lstm_size = 256,\n",
    "                en_input_length = MAX_INPUT_LEN, de_input_length = MAX_INPUT_LEN,\n",
    "                score_fun = 'concat', att_units = 256, batch_size = BATCH_SIZE)\n",
    "\n",
    "# Compile the model and fit the model\n",
    "\n",
    "model_2_concat.compile(optimizer_, loss = loss_function)\n",
    "\n",
    "train_steps = train.shape[0]//BATCH_SIZE\n",
    "valid_steps = validation.shape[0]//BATCH_SIZE\n",
    "\n",
    "tensorBord = call_back_tBoard('logs_concat')\n",
    "\n",
    "task_2_concat = model_2_concat.fit(x = train_dataloader, validation_data = test_dataloader, \\\n",
    "                   epochs = EPOCH, steps_per_epoch = train_steps, validation_steps = valid_steps,\n",
    "                   callbacks = [tensorBord])"
   ]
  },
  {
   "cell_type": "code",
   "execution_count": 64,
   "id": "1e612045",
   "metadata": {
    "execution": {
     "iopub.execute_input": "2022-12-02T07:56:55.970078Z",
     "iopub.status.busy": "2022-12-02T07:56:55.968538Z",
     "iopub.status.idle": "2022-12-02T07:56:56.324524Z",
     "shell.execute_reply": "2022-12-02T07:56:56.323418Z"
    },
    "papermill": {
     "duration": 6.74728,
     "end_time": "2022-12-02T07:56:56.327003",
     "exception": false,
     "start_time": "2022-12-02T07:56:49.579723",
     "status": "completed"
    },
    "tags": []
   },
   "outputs": [
    {
     "data": {
      "image/png": "[encoded data removed]",
      "text/plain": [
       "<Figure size 720x432 with 1 Axes>"
      ]
     },
     "metadata": {},
     "output_type": "display_data"
    }
   ],
   "source": [
    "save_nd_plot_curve(task_2_concat, 'Task-2 : Concat Attention Layer', 2, \\\n",
    "                                                               model_2_concat, 'model_2_concat')"
   ]
  },
  {
   "cell_type": "code",
   "execution_count": 65,
   "id": "e9456430",
   "metadata": {
    "execution": {
     "iopub.execute_input": "2022-12-02T07:57:08.679665Z",
     "iopub.status.busy": "2022-12-02T07:57:08.679288Z",
     "iopub.status.idle": "2022-12-02T07:58:56.830787Z",
     "shell.execute_reply": "2022-12-02T07:58:56.829318Z"
    },
    "papermill": {
     "duration": 114.188016,
     "end_time": "2022-12-02T07:58:56.832818",
     "exception": false,
     "start_time": "2022-12-02T07:57:02.644802",
     "status": "completed"
    },
    "tags": []
   },
   "outputs": [
    {
     "name": "stderr",
     "output_type": "stream",
     "text": [
      "100%|██████████| 1000/1000 [01:48<00:00,  9.25it/s]\n"
     ]
    }
   ],
   "source": [
    "g_truth, predicted_ressult = generate_attention_predictoins(validation_sampled, model_2_concat)"
   ]
  },
  {
   "cell_type": "code",
   "execution_count": 66,
   "id": "7288ebd8",
   "metadata": {
    "execution": {
     "iopub.execute_input": "2022-12-02T07:59:09.427178Z",
     "iopub.status.busy": "2022-12-02T07:59:09.426803Z",
     "iopub.status.idle": "2022-12-02T07:59:09.631283Z",
     "shell.execute_reply": "2022-12-02T07:59:09.629908Z"
    },
    "papermill": {
     "duration": 6.760273,
     "end_time": "2022-12-02T07:59:09.633421",
     "exception": false,
     "start_time": "2022-12-02T07:59:02.873148",
     "status": "completed"
    },
    "tags": []
   },
   "outputs": [
    {
     "name": "stdout",
     "output_type": "stream",
     "text": [
      "Average Bleu Score :: 0.33176164376840245\n"
     ]
    }
   ],
   "source": [
    "avg_bleu_score_att = []\n",
    "for g_t, p_r in zip(g_truth, predicted_ressult):\n",
    "    avg_bleu_score_att.append(sentence_bleu([g_t], p_r))\n",
    "    \n",
    "print(f'Average Bleu Score :: {np.mean(avg_bleu_score_att)}')"
   ]
  },
  {
   "cell_type": "code",
   "execution_count": 67,
   "id": "3604e86f",
   "metadata": {
    "execution": {
     "iopub.execute_input": "2022-12-02T07:59:21.902268Z",
     "iopub.status.busy": "2022-12-02T07:59:21.901904Z",
     "iopub.status.idle": "2022-12-02T07:59:22.595364Z",
     "shell.execute_reply": "2022-12-02T07:59:22.591619Z"
    },
    "papermill": {
     "duration": 6.802857,
     "end_time": "2022-12-02T07:59:22.598443",
     "exception": false,
     "start_time": "2022-12-02T07:59:15.795586",
     "status": "completed"
    },
    "tags": []
   },
   "outputs": [
    {
     "name": "stdout",
     "output_type": "stream",
     "text": [
      "Input ::            molta gente è stata uccisa nella guerra\n",
      "Predicted translation :: many people were a lot of people were a lot of people were a lot of people were a lot\n",
      "\n"
     ]
    },
    {
     "data": {
      "image/png": "[encoded data removed]",
      "text/plain": [
       "<Figure size 720x720 with 2 Axes>"
      ]
     },
     "metadata": {},
     "output_type": "display_data"
    }
   ],
   "source": [
    "plot_attention('molta gente è stata uccisa nella guerra', model_2_concat)"
   ]
  },
  {
   "cell_type": "code",
   "execution_count": 68,
   "id": "85aa8379",
   "metadata": {
    "execution": {
     "iopub.execute_input": "2022-12-02T07:59:34.842140Z",
     "iopub.status.busy": "2022-12-02T07:59:34.841650Z",
     "iopub.status.idle": "2022-12-02T07:59:35.355030Z",
     "shell.execute_reply": "2022-12-02T07:59:35.354153Z"
    },
    "papermill": {
     "duration": 6.929329,
     "end_time": "2022-12-02T07:59:35.364274",
     "exception": false,
     "start_time": "2022-12-02T07:59:28.434945",
     "status": "completed"
    },
    "tags": []
   },
   "outputs": [
    {
     "name": "stdout",
     "output_type": "stream",
     "text": [
      "Input ::                         mary non ama il suo marito\n",
      "Predicted translation :: mary is his father <end>\n",
      "\n"
     ]
    },
    {
     "data": {
      "image/png": "[encoded data removed]",
      "text/plain": [
       "<Figure size 720x720 with 2 Axes>"
      ]
     },
     "metadata": {},
     "output_type": "display_data"
    }
   ],
   "source": [
    "plot_attention('mary non ama il suo marito', model_2_concat)"
   ]
  },
  {
   "cell_type": "code",
   "execution_count": 69,
   "id": "e5ea9f25",
   "metadata": {
    "execution": {
     "iopub.execute_input": "2022-12-02T07:59:47.816529Z",
     "iopub.status.busy": "2022-12-02T07:59:47.816159Z",
     "iopub.status.idle": "2022-12-02T07:59:48.425283Z",
     "shell.execute_reply": "2022-12-02T07:59:48.424056Z"
    },
    "papermill": {
     "duration": 6.688997,
     "end_time": "2022-12-02T07:59:48.427577",
     "exception": false,
     "start_time": "2022-12-02T07:59:41.738580",
     "status": "completed"
    },
    "tags": []
   },
   "outputs": [
    {
     "name": "stdout",
     "output_type": "stream",
     "text": [
      "Input ::                               non puoi sposare tom\n",
      "Predicted translation :: you can not you can not you can not you can not you can not you can not you can\n",
      "\n"
     ]
    },
    {
     "data": {
      "image/png": "[encoded data removed]",
      "text/plain": [
       "<Figure size 720x720 with 2 Axes>"
      ]
     },
     "metadata": {},
     "output_type": "display_data"
    }
   ],
   "source": [
    "plot_attention('non puoi sposare tom', model_2_concat)"
   ]
  },
  {
   "cell_type": "markdown",
   "id": "e421c4ce-67c9-4768-a902-9f17898e8c31",
   "metadata": {
    "papermill": {
     "duration": 0.026021,
     "end_time": "2022-12-01T23:04:28.808456",
     "exception": false,
     "start_time": "2022-12-01T23:04:28.782435",
     "status": "completed"
    },
    "tags": []
   },
   "source": [
    "References\n",
    "- https://www.kaggle.com/code/nageshsingh/neural-machine-translation/notebook\n",
    "- https://github.com/edumunozsala/NMT-encoder-decoder-Attention/blob/main/Intro-seq2seq-Encoder-Decoder-ENG-SPA-translator-tf2.ipynb\n",
    "- https://blog.paperspace.com/nlp-machine-translation-with-keras/\n",
    "- https://machinelearningmastery.com/encoder-decoder-attention-sequence-to-sequence-prediction-keras/\n",
    "- https://notebook.community/JannesKlaas/MLiFC/Week%205/Ch.%2020%20-%20Seq2Seq%20Translation\n",
    "- https://nextjournal.com/gkoehler/machine-translation-seq2seq-cpu\n",
    "- https://www.kaggle.com/code/chiragtagadiya/attention-paper-nmt-italian-to-eng-translation\n",
    "- https://www.kaggle.com/code/chiragtagadiya/nmt-tutorial#Attention-plot-for-some-random-input-(concat-input)"
   ]
  }
 ],
 "metadata": {
  "kernelspec": {
   "display_name": "Python 3 (ipykernel)",
   "language": "python",
   "name": "python3"
  },
  "language_info": {
   "codemirror_mode": {
    "name": "ipython",
    "version": 3
   },
   "file_extension": ".py",
   "mimetype": "text/x-python",
   "name": "python",
   "nbconvert_exporter": "python",
   "pygments_lexer": "ipython3",
   "version": "3.10.6"
  },
  "papermill": {
   "default_parameters": {},
   "duration": 32209.402593,
   "end_time": "2022-12-02T08:01:10.609416",
   "environment_variables": {},
   "exception": null,
   "input_path": "__notebook__.ipynb",
   "output_path": "__notebook__.ipynb",
   "parameters": {},
   "start_time": "2022-12-01T23:04:21.206823",
   "version": "2.3.4"
  }
 },
 "nbformat": 4,
 "nbformat_minor": 5
}
